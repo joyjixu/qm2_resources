{
  "nbformat": 4,
  "nbformat_minor": 0,
  "metadata": {
    "colab": {
      "name": "clean_covid_cases_deaths_population",
      "provenance": [],
      "authorship_tag": "ABX9TyOmDkzE+wOhQTm8DxwwzlM+",
      "include_colab_link": true
    },
    "kernelspec": {
      "name": "python3",
      "display_name": "Python 3"
    }
  },
  "cells": [
    {
      "cell_type": "markdown",
      "metadata": {
        "id": "view-in-github",
        "colab_type": "text"
      },
      "source": [
        "<a href=\"https://colab.research.google.com/github/joyjixu/qm2_resources/blob/main/clean_covid_cases_deaths_population.ipynb\" target=\"_parent\"><img src=\"https://colab.research.google.com/assets/colab-badge.svg\" alt=\"Open In Colab\"/></a>"
      ]
    },
    {
      "cell_type": "code",
      "metadata": {
        "id": "zqtwF8vewV4h"
      },
      "source": [
        "First, upload the dataset including the Covid-19 deaths and cases into Google Colab.\r\n",
        "Then, Replace the filename with the pathway of the dataset."
      ],
      "execution_count": null,
      "outputs": []
    },
    {
      "cell_type": "code",
      "metadata": {
        "id": "tLuAVVBWweA3"
      },
      "source": [
        "import pandas as pd \r\n",
        "import numpy as np\r\n",
        "df = pd.read_csv(\"/content/United_States_COVID-19_Cases_and_Deaths_by_State_over_Time.csv\") \r\n",
        "df.head()"
      ],
      "execution_count": null,
      "outputs": []
    },
    {
      "cell_type": "markdown",
      "metadata": {
        "id": "TUsU25gqrLIO"
      },
      "source": [
        "We want to remove the the columns that are unnecessary and clean the data set. We are concerned with the new cases, total cases, new deaths and total deaths."
      ]
    },
    {
      "cell_type": "code",
      "metadata": {
        "id": "vts7OaJ2wjOR"
      },
      "source": [
        "#remove columns\r\n",
        "to_drop = ['conf_cases','prob_cases','pnew_case','conf_death','prob_death','pnew_death','created_at','consent_cases','consent_deaths']\r\n",
        "df.drop(to_drop, inplace=True, axis=1)\r\n",
        "df.head()"
      ],
      "execution_count": null,
      "outputs": []
    },
    {
      "cell_type": "markdown",
      "metadata": {
        "id": "XCgPSVabw9dm"
      },
      "source": [
        "We will now remove all the dates for each state, except for the month of April, as this is when we are doing the Sentiment Analysis of Tweets."
      ]
    },
    {
      "cell_type": "code",
      "metadata": {
        "id": "HGuaEMSqwpzI"
      },
      "source": [
        "#remove dates except for april for each state\r\n",
        "april = df[(df['date'] >= '04/01/2020') & (df['date'] <= '04/30/2020')]\r\n",
        "april.head()"
      ],
      "execution_count": null,
      "outputs": []
    },
    {
      "cell_type": "markdown",
      "metadata": {
        "id": "pkswJXO2w_yw"
      },
      "source": [
        "Export the cleaned data set to a csv file."
      ]
    },
    {
      "cell_type": "code",
      "metadata": {
        "id": "xVpwCYacwzKy"
      },
      "source": [
        "#export.csv\r\n",
        "april.to_csv(r'april_covid_deaths_cases.csv', index = False)"
      ],
      "execution_count": null,
      "outputs": []
    },
    {
      "cell_type": "markdown",
      "metadata": {
        "id": "6iba_YnfxBom"
      },
      "source": [
        "Upload the dataset containing the population of each state for 2020 in each US state. Replace the name with the file path."
      ]
    },
    {
      "cell_type": "code",
      "metadata": {
        "id": "Q_kFkohiw6Vm"
      },
      "source": [
        "import pandas as pd \r\n",
        "df = pd.read_csv(\"/content/us_state_population.csv\") \r\n",
        "print(df)"
      ],
      "execution_count": null,
      "outputs": []
    },
    {
      "cell_type": "markdown",
      "metadata": {
        "id": "LMvc1zXsxHgX"
      },
      "source": [
        "The following is a dictionary sourced from a GitHub repository with the abbreviated names for each state."
      ]
    },
    {
      "cell_type": "code",
      "metadata": {
        "id": "JBB5BnWAxNVM"
      },
      "source": [
        "# United States of America Python Dictionary to translate States,\r\n",
        "# Districts & Territories to Two-Letter codes and vice versa.\r\n",
        "#\r\n",
        "# https://gist.github.com/rogerallen/1583593\r\n",
        "#\r\n",
        "# Dedicated to the public domain.  To the extent possible under law,\r\n",
        "# Roger Allen has waived all copyright and related or neighboring\r\n",
        "# rights to this code.\r\n",
        "\r\n",
        "us_state_abbrev = {\r\n",
        "    'Alabama': 'AL',\r\n",
        "    'Alaska': 'AK',\r\n",
        "    'American Samoa': 'AS',\r\n",
        "    'Arizona': 'AZ',\r\n",
        "    'Arkansas': 'AR',\r\n",
        "    'California': 'CA',\r\n",
        "    'Colorado': 'CO',\r\n",
        "    'Connecticut': 'CT',\r\n",
        "    'Delaware': 'DE',\r\n",
        "    'District of Columbia': 'DC',\r\n",
        "    'Florida': 'FL',\r\n",
        "    'Georgia': 'GA',\r\n",
        "    'Guam': 'GU',\r\n",
        "    'Hawaii': 'HI',\r\n",
        "    'Idaho': 'ID',\r\n",
        "    'Illinois': 'IL',\r\n",
        "    'Indiana': 'IN',\r\n",
        "    'Iowa': 'IA',\r\n",
        "    'Kansas': 'KS',\r\n",
        "    'Kentucky': 'KY',\r\n",
        "    'Louisiana': 'LA',\r\n",
        "    'Maine': 'ME',\r\n",
        "    'Maryland': 'MD',\r\n",
        "    'Massachusetts': 'MA',\r\n",
        "    'Michigan': 'MI',\r\n",
        "    'Minnesota': 'MN',\r\n",
        "    'Mississippi': 'MS',\r\n",
        "    'Missouri': 'MO',\r\n",
        "    'Montana': 'MT',\r\n",
        "    'Nebraska': 'NE',\r\n",
        "    'Nevada': 'NV',\r\n",
        "    'New Hampshire': 'NH',\r\n",
        "    'New Jersey': 'NJ',\r\n",
        "    'New Mexico': 'NM',\r\n",
        "    'New York': 'NY',\r\n",
        "    'North Carolina': 'NC',\r\n",
        "    'North Dakota': 'ND',\r\n",
        "    'Northern Mariana Islands':'MP',\r\n",
        "    'Ohio': 'OH',\r\n",
        "    'Oklahoma': 'OK',\r\n",
        "    'Oregon': 'OR',\r\n",
        "    'Pennsylvania': 'PA',\r\n",
        "    'Puerto Rico': 'PR',\r\n",
        "    'Rhode Island': 'RI',\r\n",
        "    'South Carolina': 'SC',\r\n",
        "    'South Dakota': 'SD',\r\n",
        "    'Tennessee': 'TN',\r\n",
        "    'Texas': 'TX',\r\n",
        "    'Utah': 'UT',\r\n",
        "    'Vermont': 'VT',\r\n",
        "    'Virgin Islands': 'VI',\r\n",
        "    'Virginia': 'VA',\r\n",
        "    'Washington': 'WA',\r\n",
        "    'West Virginia': 'WV',\r\n",
        "    'Wisconsin': 'WI',\r\n",
        "    'Wyoming': 'WY'\r\n",
        "}\r\n",
        "print(us_state_abbrev)"
      ],
      "execution_count": null,
      "outputs": []
    },
    {
      "cell_type": "markdown",
      "metadata": {
        "id": "rCjKI5GcxM0z"
      },
      "source": [
        "Add a column with the state abbreviations to the dataframe from the dictionary.\r\n"
      ]
    },
    {
      "cell_type": "code",
      "metadata": {
        "id": "YNtlYg2VxUl6"
      },
      "source": [
        "df['state abbreviation'] = df['State'].map(us_state_abbrev)\r\n",
        "print(df)"
      ],
      "execution_count": null,
      "outputs": []
    },
    {
      "cell_type": "code",
      "metadata": {
        "id": "RUSSc2pQxVKM"
      },
      "source": [
        "df.to_csv(r'us_population_abbreviated_state_name', index = False)"
      ],
      "execution_count": null,
      "outputs": []
    }
  ]
}