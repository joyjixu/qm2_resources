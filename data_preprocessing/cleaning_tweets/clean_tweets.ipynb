{
  "nbformat": 4,
  "nbformat_minor": 0,
  "metadata": {
    "colab": {
      "name": "clean_tweets.ipynb",
      "provenance": [],
      "toc_visible": true,
      "authorship_tag": "ABX9TyMXMA06kT6cMQh+OxjcpCKJ",
      "include_colab_link": true
    },
    "kernelspec": {
      "name": "python3",
      "display_name": "Python 3"
    }
  },
  "cells": [
    {
      "cell_type": "markdown",
      "metadata": {
        "id": "view-in-github",
        "colab_type": "text"
      },
      "source": [
        "<a href=\"https://colab.research.google.com/github/joyjixu/qm2_resources/blob/main/data_preprocessing/clean_tweets.ipynb\" target=\"_parent\"><img src=\"https://colab.research.google.com/assets/colab-badge.svg\" alt=\"Open In Colab\"/></a>"
      ]
    },
    {
      "cell_type": "markdown",
      "metadata": {
        "id": "uCO3yVg-DSx_"
      },
      "source": [
        "How do I get the tweets in csv?\n",
        "\n",
        "First you need to set up a twitter developer account\n",
        "\n",
        "go to the Github repo with all the tweets and scroll down in the README.md file. There is a section on \"hydrating\" the files, which basically to replace the tweet id with the actual tweet + location, time etc... (every file on github is basically a list of tweet ids for each hour of every day)\n",
        "\n",
        "Download the Hydrator app, and the txt file of the tweet ids you want to \"hydrate\". The app is easy to use, just enter your twitter developer keys, click on the \"add tab\", then select the correct file and start the process. Then you can click on the 'csv' button which converts the json into a csv.\n",
        "\n",
        "### also upload this\n",
        "https://www.kaggle.com/giodev11/usstates-dataset\n",
        "\n"
      ]
    },
    {
      "cell_type": "markdown",
      "metadata": {
        "id": "GEm1nVHQn2bB"
      },
      "source": [
        "Importing libraries for data wrangling\n",
        "\n",
        "Upload the csv file on the bar on the left"
      ]
    },
    {
      "cell_type": "code",
      "metadata": {
        "id": "HrBTLv2GiyRR"
      },
      "source": [
        "import pandas as pd\n",
        "import numpy as np\n",
        "import re"
      ],
      "execution_count": 61,
      "outputs": []
    },
    {
      "cell_type": "code",
      "metadata": {
        "id": "AaFbXzHzOlt3",
        "outputId": "9c1b19f1-4ff9-4ccb-dee0-54d5687ef95d",
        "colab": {
          "base_uri": "https://localhost:8080/",
          "height": 35
        }
      },
      "source": [
        "pd.__version__\n"
      ],
      "execution_count": 62,
      "outputs": [
        {
          "output_type": "execute_result",
          "data": {
            "application/vnd.google.colaboratory.intrinsic+json": {
              "type": "string"
            },
            "text/plain": [
              "'1.1.4'"
            ]
          },
          "metadata": {
            "tags": []
          },
          "execution_count": 62
        }
      ]
    },
    {
      "cell_type": "markdown",
      "metadata": {
        "id": "9v3IeFRqnqay"
      },
      "source": [
        "Replace the path with the path of the file\n",
        "\n",
        "You can get it by right-clicking on your uploaded file and selecting 'Copy path'"
      ]
    },
    {
      "cell_type": "code",
      "metadata": {
        "id": "eMKTuQpFiuJs",
        "outputId": "4f6eb03a-b0df-4ddd-ccde-91c9606c0f18",
        "colab": {
          "base_uri": "https://localhost:8080/"
        }
      },
      "source": [
        "path = '/content/coronavirus-tweet-id-2020-04-04-10.csv'\n",
        "\n",
        "# reading the csv as a pandas dataframe\n",
        "tweets = pd.read_csv(path)\n",
        "\n",
        "# printing the first row to get a better idea of the structure\n",
        "print(tweets.loc[0])\n",
        "print(tweets.loc[5])\n"
      ],
      "execution_count": 63,
      "outputs": [
        {
          "output_type": "stream",
          "text": [
            "coordinates                                                                 NaN\n",
            "created_at                                       Sat Apr 04 10:57:08 +0000 2020\n",
            "hashtags                                                                    NaN\n",
            "media                                                                       NaN\n",
            "urls                                                                        NaN\n",
            "favorite_count                                                                0\n",
            "id                                                          1246391348007014400\n",
            "in_reply_to_screen_name                                                     NaN\n",
            "in_reply_to_status_id                                                       NaN\n",
            "in_reply_to_user_id                                                         NaN\n",
            "lang                                                                         hi\n",
            "place                                                                       NaN\n",
            "possibly_sensitive                                                          NaN\n",
            "retweet_count                                                                 5\n",
            "retweet_id                                                          1.24639e+18\n",
            "retweet_screen_name                                              rpbreakingnews\n",
            "source                        <a href=\"http://twitter.com/download/android\" ...\n",
            "text                          RT @rpbreakingnews: राजस्थान में 2 और कोरोना स...\n",
            "tweet_url                     https://twitter.com/Sadhuramgurjar5/status/124...\n",
            "user_created_at                                  Wed Dec 13 06:12:48 +0000 2017\n",
            "user_screen_name                                                Sadhuramgurjar5\n",
            "user_default_profile_image                                                False\n",
            "user_description              B +tive\\nGovernment  Teacher\\n\\nSachin Pilot i...\n",
            "user_favourites_count                                                      2883\n",
            "user_followers_count                                                        101\n",
            "user_friends_count                                                          115\n",
            "user_listed_count                                                             0\n",
            "user_location                                                   Shahpura, India\n",
            "user_name                                                      Sadhu ram gurjar\n",
            "user_screen_name.1                                              Sadhuramgurjar5\n",
            "user_statuses_count                                                        2310\n",
            "user_time_zone                                                              NaN\n",
            "user_urls                                                                   NaN\n",
            "user_verified                                                             False\n",
            "Name: 0, dtype: object\n",
            "coordinates                                                                 NaN\n",
            "created_at                                       Sat Apr 04 10:57:08 +0000 2020\n",
            "hashtags                                                                    NaN\n",
            "media                         https://twitter.com/247acemedia/status/1246391...\n",
            "urls                          https://www.247acemedia.com/security-agencies-...\n",
            "favorite_count                                                                0\n",
            "id                                                          1246391347130642433\n",
            "in_reply_to_screen_name                                                     NaN\n",
            "in_reply_to_status_id                                                       NaN\n",
            "in_reply_to_user_id                                                         NaN\n",
            "lang                                                                         en\n",
            "place                                                                       NaN\n",
            "possibly_sensitive                                                        False\n",
            "retweet_count                                                                 0\n",
            "retweet_id                                                                  NaN\n",
            "retweet_screen_name                                                         NaN\n",
            "source                        <a href=\"http://publicize.wp.com/\" rel=\"nofoll...\n",
            "text                          “Security Agencies Shouldn’t Use Lockdown To V...\n",
            "tweet_url                     https://twitter.com/247acemedia/status/1246391...\n",
            "user_created_at                                  Fri Feb 19 17:58:07 +0000 2016\n",
            "user_screen_name                                                    247acemedia\n",
            "user_default_profile_image                                                False\n",
            "user_description              Get all your latest gist and gossip @247acemed...\n",
            "user_favourites_count                                                         4\n",
            "user_followers_count                                                        139\n",
            "user_friends_count                                                           80\n",
            "user_listed_count                                                             0\n",
            "user_location                                                               NaN\n",
            "user_name                                                          247ace Media\n",
            "user_screen_name.1                                                  247acemedia\n",
            "user_statuses_count                                                       49862\n",
            "user_time_zone                                                              NaN\n",
            "user_urls                                                http://247acemedia.com\n",
            "user_verified                                                             False\n",
            "Name: 5, dtype: object\n"
          ],
          "name": "stdout"
        }
      ]
    },
    {
      "cell_type": "markdown",
      "metadata": {
        "id": "ZRyT3W80oeaw"
      },
      "source": [
        "Since most tweets actually have no location attached, we first remove all tweets from the dataset that has a \"NaN\" (Not a number) value in the \"place\" column. This significantly reduces the length of the dataframe."
      ]
    },
    {
      "cell_type": "code",
      "metadata": {
        "id": "sDyiJyINjUWu",
        "outputId": "c3759d8a-5100-46fc-ef85-63132dbe8617",
        "colab": {
          "base_uri": "https://localhost:8080/"
        }
      },
      "source": [
        "# removing NaN rows in tweets.places\n",
        "loc_tweets = tweets.dropna(subset = ['user_location'])\n",
        "\n",
        "print(loc_tweets.info())"
      ],
      "execution_count": 64,
      "outputs": [
        {
          "output_type": "stream",
          "text": [
            "<class 'pandas.core.frame.DataFrame'>\n",
            "Int64Index: 23902 entries, 0 to 35565\n",
            "Data columns (total 34 columns):\n",
            " #   Column                      Non-Null Count  Dtype  \n",
            "---  ------                      --------------  -----  \n",
            " 0   coordinates                 24 non-null     object \n",
            " 1   created_at                  23902 non-null  object \n",
            " 2   hashtags                    6512 non-null   object \n",
            " 3   media                       2064 non-null   object \n",
            " 4   urls                        5884 non-null   object \n",
            " 5   favorite_count              23902 non-null  int64  \n",
            " 6   id                          23902 non-null  int64  \n",
            " 7   in_reply_to_screen_name     1761 non-null   object \n",
            " 8   in_reply_to_status_id       1547 non-null   float64\n",
            " 9   in_reply_to_user_id         1761 non-null   float64\n",
            " 10  lang                        23902 non-null  object \n",
            " 11  place                       309 non-null    object \n",
            " 12  possibly_sensitive          7394 non-null   object \n",
            " 13  retweet_count               23902 non-null  int64  \n",
            " 14  retweet_id                  17154 non-null  float64\n",
            " 15  retweet_screen_name         17154 non-null  object \n",
            " 16  source                      23902 non-null  object \n",
            " 17  text                        23902 non-null  object \n",
            " 18  tweet_url                   23902 non-null  object \n",
            " 19  user_created_at             23902 non-null  object \n",
            " 20  user_screen_name            23902 non-null  object \n",
            " 21  user_default_profile_image  23902 non-null  bool   \n",
            " 22  user_description            21453 non-null  object \n",
            " 23  user_favourites_count       23902 non-null  int64  \n",
            " 24  user_followers_count        23902 non-null  int64  \n",
            " 25  user_friends_count          23902 non-null  int64  \n",
            " 26  user_listed_count           23902 non-null  int64  \n",
            " 27  user_location               23902 non-null  object \n",
            " 28  user_name                   23902 non-null  object \n",
            " 29  user_screen_name.1          23902 non-null  object \n",
            " 30  user_statuses_count         23902 non-null  int64  \n",
            " 31  user_time_zone              0 non-null      float64\n",
            " 32  user_urls                   7622 non-null   object \n",
            " 33  user_verified               23902 non-null  bool   \n",
            "dtypes: bool(2), float64(4), int64(8), object(20)\n",
            "memory usage: 6.1+ MB\n",
            "None\n"
          ],
          "name": "stdout"
        }
      ]
    },
    {
      "cell_type": "code",
      "metadata": {
        "id": "CP_hFai-jXPn",
        "outputId": "b01d3258-3c1b-4896-ecfa-c4b2783f7293",
        "colab": {
          "base_uri": "https://localhost:8080/"
        }
      },
      "source": [
        "# just to see what locations there are, we are printing the unique values in the form of a list\n",
        "locations = loc_tweets.user_location.unique()\n",
        "print(locations)"
      ],
      "execution_count": 65,
      "outputs": [
        {
          "output_type": "stream",
          "text": [
            "['Shahpura, India' 'Catalunya' 'occasional nsfw content' ...\n",
            " 'Sarcelles, Ile-de-France' 'Catalunya, Europa' 'Warwickshire, England']\n"
          ],
          "name": "stdout"
        }
      ]
    },
    {
      "cell_type": "markdown",
      "metadata": {
        "id": "xkf6fbFzqZgg"
      },
      "source": [
        "Now we need to select the tweets that are only from US states. To do this, we first have to get a dataset on all the state names and their abbreviations.\n",
        "\n",
        "There is a csv file on Kaggle that does just that: https://www.kaggle.com/giodev11/usstates-dataset\n",
        "\n",
        "Download that csv and upload it here"
      ]
    },
    {
      "cell_type": "code",
      "metadata": {
        "id": "JCx0tPKjq0ba",
        "outputId": "9c9a15a0-1a55-4e31-aa71-73d85b5f5328",
        "colab": {
          "base_uri": "https://localhost:8080/"
        }
      },
      "source": [
        "states_path = \"/content/state-abbrevs.csv\"\n",
        "\n",
        "states = pd.read_csv(states_path)\n",
        "print(states)"
      ],
      "execution_count": 66,
      "outputs": [
        {
          "output_type": "stream",
          "text": [
            "                   state abbreviation\n",
            "0                Alabama           AL\n",
            "1                 Alaska           AK\n",
            "2                Arizona           AZ\n",
            "3               Arkansas           AR\n",
            "4             California           CA\n",
            "5               Colorado           CO\n",
            "6            Connecticut           CT\n",
            "7               Delaware           DE\n",
            "8   District of Columbia           DC\n",
            "9                Florida           FL\n",
            "10               Georgia           GA\n",
            "11                Hawaii           HI\n",
            "12                 Idaho           ID\n",
            "13              Illinois           IL\n",
            "14               Indiana           IN\n",
            "15                  Iowa           IA\n",
            "16                Kansas           KS\n",
            "17              Kentucky           KY\n",
            "18             Louisiana           LA\n",
            "19                 Maine           ME\n",
            "20               Montana           MT\n",
            "21              Nebraska           NE\n",
            "22                Nevada           NV\n",
            "23         New Hampshire           NH\n",
            "24            New Jersey           NJ\n",
            "25            New Mexico           NM\n",
            "26              New York           NY\n",
            "27        North Carolina           NC\n",
            "28          North Dakota           ND\n",
            "29                  Ohio           OH\n",
            "30              Oklahoma           OK\n",
            "31                Oregon           OR\n",
            "32              Maryland           MD\n",
            "33         Massachusetts           MA\n",
            "34              Michigan           MI\n",
            "35             Minnesota           MN\n",
            "36           Mississippi           MS\n",
            "37              Missouri           MO\n",
            "38          Pennsylvania           PA\n",
            "39          Rhode Island           RI\n",
            "40        South Carolina           SC\n",
            "41          South Dakota           SD\n",
            "42             Tennessee           TN\n",
            "43                 Texas           TX\n",
            "44                  Utah           UT\n",
            "45               Vermont           VT\n",
            "46              Virginia           VA\n",
            "47            Washington           WA\n",
            "48         West Virginia           WV\n",
            "49             Wisconsin           WI\n",
            "50               Wyoming           WY\n"
          ],
          "name": "stdout"
        }
      ]
    },
    {
      "cell_type": "code",
      "metadata": {
        "id": "CGKR3-QgrMCP"
      },
      "source": [
        "\n",
        "abbr_list = states.abbreviation.to_list()\n",
        "\n",
        "\n",
        "states_list = (states.state.to_list())\n"
      ],
      "execution_count": 67,
      "outputs": []
    },
    {
      "cell_type": "markdown",
      "metadata": {
        "id": "yQ8qzsGTrgKt"
      },
      "source": [
        "Now that we have a list of US states, we have to check each row in our tweets dataframe and see if the abbreviation is included in the location.\n",
        "\n",
        "To do that we can define a function that takes a string as the input (the 'place' value of our tweets dataframe for each row), and returns True if the string contains a US state abbreviation."
      ]
    },
    {
      "cell_type": "code",
      "metadata": {
        "id": "nmXwjYgLreLa"
      },
      "source": [
        "def in_US(loc, states, abbr):\n",
        "  if any(state in loc for state in states):\n",
        "    return True\n",
        "  for abbreviation in abbr:\n",
        "    if re.search(r'\\bis\\b', abbreviation) is not None:\n",
        "      return True\n",
        "  return False\n",
        "# returns True if place contains state, else False"
      ],
      "execution_count": 68,
      "outputs": []
    },
    {
      "cell_type": "code",
      "metadata": {
        "id": "dVny0GrGtHsL",
        "outputId": "d497b8e2-83e3-4229-f527-2939f0d19b2a",
        "colab": {
          "base_uri": "https://localhost:8080/"
        }
      },
      "source": [
        "# adding a new column is_state, either True or False\n",
        "us_state = loc_tweets.user_location.apply(lambda x: in_US(x, states_list, abbr_list))\n",
        "us_state = us_state.rename('is_state')\n",
        "\n",
        "loc_tweets_isstate = loc_tweets.merge(us_state, left_index=True, right_index=True)\n",
        "print(loc_tweets_isstate.head())"
      ],
      "execution_count": 69,
      "outputs": [
        {
          "output_type": "stream",
          "text": [
            "  coordinates                      created_at  ... user_verified is_state\n",
            "0         NaN  Sat Apr 04 10:57:08 +0000 2020  ...         False    False\n",
            "3         NaN  Sat Apr 04 10:57:07 +0000 2020  ...         False    False\n",
            "6         NaN  Sat Apr 04 10:57:08 +0000 2020  ...         False    False\n",
            "7         NaN  Sat Apr 04 10:57:08 +0000 2020  ...         False    False\n",
            "8         NaN  Sat Apr 04 10:57:08 +0000 2020  ...         False    False\n",
            "\n",
            "[5 rows x 35 columns]\n"
          ],
          "name": "stdout"
        }
      ]
    },
    {
      "cell_type": "markdown",
      "metadata": {
        "id": "VViDsi0Q0UpQ"
      },
      "source": [
        "Now we can only keep the rows where the location is in a US state"
      ]
    },
    {
      "cell_type": "code",
      "metadata": {
        "id": "SvhjBwApuJpJ",
        "outputId": "f9b7e5b4-6803-4a95-8d81-4c8447faed25",
        "colab": {
          "base_uri": "https://localhost:8080/"
        }
      },
      "source": [
        "us_tweets_temp = loc_tweets_isstate[loc_tweets_isstate['is_state'] == True]\n",
        "print(us_tweets_temp.head())"
      ],
      "execution_count": 70,
      "outputs": [
        {
          "output_type": "stream",
          "text": [
            "    coordinates                      created_at  ... user_verified is_state\n",
            "55          NaN  Sat Apr 04 10:57:07 +0000 2020  ...         False     True\n",
            "57          NaN  Sat Apr 04 10:57:08 +0000 2020  ...         False     True\n",
            "74          NaN  Sat Apr 04 10:57:08 +0000 2020  ...         False     True\n",
            "159         NaN  Sat Apr 04 10:57:13 +0000 2020  ...         False     True\n",
            "213         NaN  Sat Apr 04 10:57:12 +0000 2020  ...         False     True\n",
            "\n",
            "[5 rows x 35 columns]\n"
          ],
          "name": "stdout"
        }
      ]
    },
    {
      "cell_type": "markdown",
      "metadata": {
        "id": "y8lJiSOAuRA-"
      },
      "source": [
        "Finally, we then reset the indices (becuse we removed a lot of rows and we want the number order to be correct)"
      ]
    },
    {
      "cell_type": "code",
      "metadata": {
        "id": "oD1DUXEJ08go"
      },
      "source": [
        "us_tweets = us_tweets_temp.reset_index(drop = True)"
      ],
      "execution_count": 71,
      "outputs": []
    },
    {
      "cell_type": "code",
      "metadata": {
        "id": "6EV-ZrGJ1OID",
        "outputId": "c1b52d60-7d18-4f60-9677-6445478fc205",
        "colab": {
          "base_uri": "https://localhost:8080/"
        }
      },
      "source": [
        "print(us_tweets)"
      ],
      "execution_count": 72,
      "outputs": [
        {
          "output_type": "stream",
          "text": [
            "     coordinates                      created_at  ... user_verified is_state\n",
            "0            NaN  Sat Apr 04 10:57:07 +0000 2020  ...         False     True\n",
            "1            NaN  Sat Apr 04 10:57:08 +0000 2020  ...         False     True\n",
            "2            NaN  Sat Apr 04 10:57:08 +0000 2020  ...         False     True\n",
            "3            NaN  Sat Apr 04 10:57:13 +0000 2020  ...         False     True\n",
            "4            NaN  Sat Apr 04 10:57:12 +0000 2020  ...         False     True\n",
            "...          ...                             ...  ...           ...      ...\n",
            "1032         NaN  Sat Apr 04 10:57:03 +0000 2020  ...         False     True\n",
            "1033         NaN  Sat Apr 04 10:57:04 +0000 2020  ...          True     True\n",
            "1034         NaN  Sat Apr 04 10:57:06 +0000 2020  ...         False     True\n",
            "1035         NaN  Sat Apr 04 10:57:06 +0000 2020  ...         False     True\n",
            "1036         NaN  Sat Apr 04 10:57:06 +0000 2020  ...         False     True\n",
            "\n",
            "[1037 rows x 35 columns]\n"
          ],
          "name": "stdout"
        }
      ]
    },
    {
      "cell_type": "code",
      "metadata": {
        "id": "KFq0XQJWRJ-7"
      },
      "source": [
        "def write_state(location):\n",
        "  for i in range(len(states_list)):\n",
        "    res = re.search(states_list[i], location)\n",
        "    if res is not None:\n",
        "      return abbr_list[i]\n",
        "  for i in range(len(abbr_list)):\n",
        "    res = re.search(abbr_list[i], location)\n",
        "    if res is not None:\n",
        "      return abbr_list[i]"
      ],
      "execution_count": 73,
      "outputs": []
    },
    {
      "cell_type": "code",
      "metadata": {
        "id": "cEnQy_DRTHuv",
        "outputId": "ce1d7206-718e-4a79-fc22-05e6a43b39e6",
        "colab": {
          "base_uri": "https://localhost:8080/"
        }
      },
      "source": [
        "us_tweets['state'] = us_tweets.apply(lambda row: write_state(row['user_location']), axis=1)\n",
        "\n",
        "for i in range(90):\n",
        "  print(us_tweets['text'].loc[i])"
      ],
      "execution_count": 74,
      "outputs": [
        {
          "output_type": "stream",
          "text": [
            "RT @BreitbartNews: Texas Judge Stops Harris County from Releasing Inmates over Coronavirus Fears https://t.co/qqFIxEfo6U\n",
            "RT @FLOTUS: As the weekend approaches I ask that everyone take social distancing &amp; wearing a mask/face covering seriously. #COVID19 is a vi…\n",
            "RT @HKrassenstein: BREAKING:  The WSJ is reporting that Trump's businesses are now losing $1 MILLION a day because of the Coronavirus.\n",
            "\n",
            "Doe…\n",
            "RT @no_silenced: We currently have close to 50K illegal aliens in our Federal Prison system costing American Tax Payers Billions of dollars…\n",
            "RT @nytimes: In Opinion\n",
            "\n",
            "Tweed Roosevelt writes: \"Captain Crozier joins a growing list of heroic men and women who have risked their career…\n",
            "RT @KamVTV: Is it just me or has anyone else noticed the media has pushed Coronavirus hysteria, fear, and paranoia up by a 1000% in the las…\n",
            "RT @B52Malmet: Lest you forget for a sec what a tremendously vindictive vengeful monster Trump is, he reminds you on a Friday night in the…\n",
            "RT @MAERomania: #Romania strongly condemns t/ 28th of March attacks in #Riyadh &amp; #Jazzan. 🇷🇴 fully supports #SaudiArabia 🇸🇦 in protecting i…\n",
            "RT @gregolear: Hannity should be charged. How is this not a crime?\n",
            "RT @Jasafella: - No va a haber más que algún caso aislado de Coronavirus en España.\n",
            "- Nuestra Sanidad está preparada, no hacen falta medida…\n",
            "RT @RepGosar: China lied, the mainstream media complied, and people died.\n",
            "RT @PatiKRoll11: Wow, two innocent people fired in one day for doing the right thing! A naval commander for protecting his troops and the I…\n",
            "Tragic and reprehensible that the Chinese government lies about the real costs to its people https://t.co/barw7cL4ct\n",
            "RT @tomselliott: @GrabienMedia @JoeNBC Took awhile, but I’ve found the first time Scarborough offers any kind of commentary on the Coronavi…\n",
            "RT @PoorvaKarkare: Absolutely, developing countries can harness their existing capacity and capabilities if right to the kind of aid is pro…\n",
            "RT @ku_bersujud: rezim FOBIA KUASA\n",
            "#WeAllStandWithSaidDidu\n",
            "Covid 19 smkn membuka mata ttg kinerja rezim. PPSB dgn Darurat Sipil, adl. lgkh…\n",
            "RT @amymaxmen: Very important points to unpack in @DrTedros briefing today @WHO. Policy-makers &amp; finance institutions need to hustle on the…\n",
            "RT @brhodes: The captain of the USS Theodore Roosevelt and the intelligence community IG were fired and Jared Kushner is running the pandem…\n",
            "RT @GLFOP: The National FOP is the voice for America's law enforcement during the #COVID19 pandemic to set standards to protect our officer…\n",
            "RT @HamiltonStrick1: All I can say there are way too many dumba** voters out there who vote in crooks and traitors to lead their states.…\n",
            "RT @clairlemon: Bill Gates will be remembered as the greatest philanthropist of all time, Microsoft will just be a footnote https://t.co/tm…\n",
            "RT @rbukralia: AI could help identify coronavirus patients at greatest risk of becoming seriously ill https://t.co/TMkYqboYg6 #AI #ML #Data…\n",
            "RT @AynRandPaulRyan: https://t.co/KMPIFGF7sh\n",
            "RT @SandraSBreen: Pelosi’s house is turning its attention, energy, &amp; taxpayer funds toward finding someone to blame. Their impeachment deba…\n",
            "RT @ChelseaClinton: #Socialdistancing can be tough for kids to understand when they are missing friends, family &amp; their routines. The wonde…\n",
            "RT @RahulGandhi: India is simply not testing enough to fight the #Covid19 virus. \n",
            "\n",
            "Making people clap &amp; shining torches in the sky isn't go…\n",
            "RT @laurenarankin: I hope we can now acknowledge how critically important \"feminized\" jobs are. Nurses. Teachers. Cashiers. Child care work…\n",
            "RT @SaraCarterDC: Gordon Chang's Worst Fear With Covid: Easing Travel Restrictions To China Could Put The U.S. In Peril Again \n",
            "\n",
            "#TheSaraCar…\n",
            "RT @Craig_A_Spencer: Just getting home from the ER.\n",
            "\n",
            "It was brutal. Something you never want to see or experience, I promise.\n",
            "\n",
            "The virus ca…\n",
            "@CNN If doubters on this thread watched PBS documentary 1918 Influenza, or read about it, they'd learn it killed more than 195,000 Americans in 31 days. At the time there was no understanding of how it spread. Today, we do know. #COVID2019 #COVID19\n",
            "@WilsonLeungWS @ibtimes_india @majorgauravarya What a steadfast friend china is.\n",
            "@MonkyChi83 @TimKennedyMMA @DLoesch I don't disagree with social distancing and limiting exposure... \n",
            "\n",
            "However, Government doesn't get to mandate it, short of declaring Martial Law.\n",
            "\n",
            "What part of the Constitution, Inalienable Rights and limits of Goverment do you not understand?\n",
            "RT @PostWorld: Violence imperils coronavirus response in conflict zones around the world https://t.co/Ca2O3bAVhp\n",
            "RT @weijia: Jared Kushner is in charge of the medical supply chain that delivers critical items to the doctors and nurses who are on the fr…\n",
            "RT @RandyLudlow: Coronavirus: Should you wear a homemade mask? Advice is changing\n",
            "https://t.co/G2Ni2Iy6fA\n",
            "RT @officialHJesus: I'm with Richard on this one. Stay at home everyone...😀\n",
            "RT @Danjegan: My brother is starting a movement. He was in Iraq and moved by the yellow ribbons. He says this is our own war and wants to p…\n",
            "RT @NistalAmaury: #MondayMotivation    \n",
            "It is an opportunity to love us more. #QuarantineLife\n",
            "If you love dogs and cats♥️ PLEASE RT🔁 https:…\n",
            "RT @TomJChicago: Trump, the sociopath w/ dementia is guided by Kushner. Firing &amp; placing IC IG Atkinson on instant leave is more than reven…\n",
            "Why is New Orleans' coronavirus death rate twice New York's? Obesity is a factor https://t.co/wRNkONLdGT\n",
            "RT @ChelseaClinton: (Keep thinking: I’ve a Masters in Public Health; wrote my doctoral dissertation on global efforts to tackle AIDS pandem…\n",
            "RT @gatewaypundit: Outrageous! Dr. Birx Went All-In on Bill Gates-Funded Coronavirus Model - Sits on Gates-Funded Foundation Board https://…\n",
            "RT @garybartanus: So tRump went on a rant about 3M shipping N95 masks to Canada, which will kill Canadians.\n",
            "\n",
            "If Canada succeeds in developi…\n",
            "RT @bren2915: @joncoopertweets @laurence8645 https://t.co/bU1BIV883m\n",
            "RT @KT_So_It_Goes: I do not understand how mcdonalds can serve two billion hamburgers every year but when I order five million at the drive…\n",
            "@chuckwoolery The same Anthony Fauci...\n",
            "\n",
            "https://t.co/EEm0KGXQpq\n",
            "RT @KDuffySr: Thanks to our President, all of the resources available to the United States are being fully utilized at full speed to get th…\n",
            "RT @Franklin_Graham: Geneva Wood was one of many in her WA nursing home who tested positive for #COVID19. Thankfully, she recovered &amp; gives…\n",
            "RT @weijia: Jared Kushner is in charge of the medical supply chain that delivers critical items to the doctors and nurses who are on the fr…\n",
            "RT @KeishaJake: DR. Fauci is deep state I STILL THINK 🤔 CHINA DEMOCRATS &amp; SOROS are RESPONSIBLE‼️Trying 2 take Trump out‼️‼️WOW! Watch Dr.…\n",
            "RT @ChelseaClinton: While @girlscouts has suspended door-to-door sales and cookie booths, we can still buy cookies at a #virtualcookiebooth…\n",
            "Trump has handled the coronavirus the way he handles everything: Like a toddler https://t.co/SbUqukrkUK\n",
            "RT @NickMiroff: NEW Trump has for years assailed US immigration laws as too lenient, and the global pandemic has allowed the him to ditch m…\n",
            "RT @MailOnline: WHO warns that more younger people are falling severely ill with Covid-19\n",
            "https://t.co/nfGmb6ESZU\n",
            "RT @realDonaldTrump: Thank you @DeptofDefense, @USACEHQ, @USNationalGuard, @FEMA, and @CDCgov! https://t.co/p9j7kZsD7b https://t.co/qmUE7F2…\n",
            "RT @RawStory: Jared Kushner’s ‘frat party’ coronavirus team ‘descended from a UFO and invaded the federal government’: officials\n",
            "\n",
            "https://t…\n",
            "@CHIZMAGA Over 70% of our clothing is made in China. How insane is that?\n",
            "RT @charliekirk11: Did you know:\n",
            "\n",
            "The Wuhan Institute of Virology in China posted a job opening on November 18, 2019, “asking for scientist…\n",
            "RT @amyklobuchar: Done on a Friday in the middle of a pandemic so no one would notice.  \n",
            "\n",
            "Notice. \n",
            "\n",
            "Trump fires watchdog who handled Ukrain…\n",
            "@pameladubsky49 Oil companies can’t give the stuff away. We’re sheltering in place. Who cares what gas prices are?\n",
            "RT @pafster: Morning all, a public service announcement from Bexhill on Sea.\n",
            "STAY AT HOME YOU MASSIVE FUCKING WHALLOPERS, THE NEXT LOAD OF…\n",
            "RT @RealCandaceO: Georgia Department of Public Health officials have walked back their earlier report that an 11 year old had died from #co…\n",
            "RT @CBSNews: “America is not prepared, and nurses are not being protected”: In tears, a nurse says she quit her job after she was asked to…\n",
            "RT @uwsgeezer: I haven't wept since this all began. Then I saw this outside our neighbor's apartment. This person works in one of the area…\n",
            "Today is Saturday, April 4, 2020 and our hours are 10-3pm.  They have been shortened temporarily. \n",
            "\n",
            "Read below.  \n",
            "\n",
            "We have temporarily changed our store hours during the Covid-19 Ohio Stay at Home Order.  \n",
            "\n",
            "Monday -… https://t.co/tsJhJfXODE\n",
            "RT @wifiwrld: This is a Ghanaian man who has invented a hand washing machine with a barrel to help fight coronavirus. #wifiwrld https://t.c…\n",
            "RT @LeslieKwaiga: @NewsAlternative Bill Gates created the Corona virus to make money and so he is laying down his strategy to make money ou…\n",
            "RT @thebradfordfile: Any journalist who seemly cannot understand how a 'federal stockpile' must be strategically distributed to states base…\n",
            "RT @KariLakeFox10: President Trump on Covid19 projection models: “The professionals did the models. I was never involved in a model...at le…\n",
            "RT @glorm1103: Es triste ver cómo a muchos de mis hermanos Venezolanos que emigraron a países América del Sur, los estén desalojando de sus…\n",
            "I wanna fight one on one with everybody that thinks 5G towers is a conspiracy to kill Americans and gives covid19 symptoms. With all feet only. Straight roundhouses. Pütz\n",
            "RT @catturd2: Outrageous! Dr. Birx Went All-In on Bill Gates-Funded Coronavirus Model - Sits on Gates-Funded Foundation Board https://t.co/…\n",
            "RT @shannonrwatts: I am sobbing at this story of a woman who had to say goodbye to her 40-year-old husband on FaceTime as he died from the…\n",
            "RT @ChelseaClinton: In 1988, polio was endemic in &gt;125 countries w/ ~350k cases a year. Since then, ~3 billion children have been vaccinate…\n",
            "RT @RealJamesWoods: \"The real push [against] hydroxychloroquine is the fact that Donald Trump liked it. If Donald Trump said the sun came u…\n",
            "RT @stevesilberman: I'm sorry, folks, may I scream for a moment? I CAN'T FUCKING BELIEVE THAT ER STAFF AT BELLEVUE HOSPITAL IN NYC HAD TO D…\n",
            "Anyone Coming Near Trump, Pence Will Get COVID-19 Test | https://t.co/ZR0tja0qfx https://t.co/hGONCdNIrk via @Newsmax\n",
            "RT @BridgeMichigan: Detroit Henry Ford nurse dies at home alone from coronavirus https://t.co/1ZGSc3reQS https://t.co/y1ipTbv9n1\n",
            "RT @BarbraStreisand: Donald Trump is utterly unfit to handle this pandemic. His lying and attempts to shift blame and mismanagement of our…\n",
            "FDIC announces first bank failure of coronavirus crisis https://t.co/rP8k8aEBRU\n",
            "RT @JonathanTurley: Jim Acosta's interruption of Dr. Birx is an example of how CNN's echo-journalism model is destroying the media's credib…\n",
            "RT @realDonaldTrump: Thank you @DeptofDefense, @USACEHQ, @USNationalGuard, @FEMA, and @CDCgov! https://t.co/p9j7kZsD7b https://t.co/qmUE7F2…\n",
            "RT @RepGosar: China lied, the mainstream media complied, and people died.\n",
            "RT @dcexaminer: The @WhiteHouse announced that anyone expected to be in a room with @realDonaldTrump or @VP Pence will be required to take…\n",
            "RT @paulsperry_: DEVELOPING: COVID-19 is not killing people, obesity is killing the majority of these victims. They are dying from heart at…\n",
            "RT @AmyMek: There will be unprecedented economic collapses in countries around the world due to the Chinese coronavirus\n",
            "\n",
            "In just 2 weeks ov…\n",
            "RT @leahmcelrath: Remember two years ago when Ivanka Trump was suddenly granted all those trademarks in China?\n",
            "\n",
            "Including for coffins?\n",
            "\n",
            "htt…\n",
            "My neighbor had his second call yesterday that a temp worker where he works had tested positive for covid-19. She was tested back on March 20th. The employee &amp; company were informed yesterday 14 days after the test. Thanks for playing 😂 The good news is she is done quarantine!\n",
            "RT @mmpadellan: On Election Day, if the pandemic is still going on, I will wrap myself in protective gear and swim through a river of coron…\n",
            "RT @andihiyat: Negatif corona, positif PDP\n",
            "Pengen Di Perhatiin\n"
          ],
          "name": "stdout"
        }
      ]
    },
    {
      "cell_type": "markdown",
      "metadata": {
        "id": "APqvRVfn2-qj"
      },
      "source": [
        "We can also save the dataframe as a new csv file (make sure to download it because it will be deleted once runtime ends)\n"
      ]
    },
    {
      "cell_type": "code",
      "metadata": {
        "id": "LcfM0Czw3NZP"
      },
      "source": [
        "us_tweets.to_csv('coronavirus_tweets_us_04_04_10.csv', index = False)"
      ],
      "execution_count": 75,
      "outputs": []
    },
    {
      "cell_type": "markdown",
      "metadata": {
        "id": "axcuJeRT3OMV"
      },
      "source": [
        "To do\n",
        "\n",
        "Replace place by only state name"
      ]
    },
    {
      "cell_type": "code",
      "metadata": {
        "id": "elvcQyhDBXvq"
      },
      "source": [
        ""
      ],
      "execution_count": 75,
      "outputs": []
    }
  ]
}
