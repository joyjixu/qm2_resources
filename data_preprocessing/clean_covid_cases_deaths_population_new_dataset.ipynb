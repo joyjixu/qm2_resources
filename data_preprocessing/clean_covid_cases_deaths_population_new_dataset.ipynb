{
  "nbformat": 4,
  "nbformat_minor": 0,
  "metadata": {
    "colab": {
      "name": "clean_covid_cases_deaths_population",
      "provenance": []
    },
    "kernelspec": {
      "name": "python3",
      "display_name": "Python 3",
      "language": "python"
    }
  },
  "cells": [
    {
      "cell_type": "markdown",
      "metadata": {
        "id": "TGdbQOcgyExB"
      },
      "source": [
        "# Get April cases for covid and relevant columns\n",
        "* required datasets: United_States_COVID-19_Cases_and_Deaths_by_State_over_Time.csv, us_state_population.csv\n",
        "* also adds a column of abbreviated state names"
      ]
    },
    {
      "cell_type": "code",
      "execution_count": 16,
      "metadata": {},
      "outputs": [],
      "source": [
        "# importing libraries\n",
        "import pandas as pd \n",
        "import numpy as np"
      ]
    },
    {
      "cell_type": "code",
      "metadata": {
        "colab": {
          "base_uri": "https://localhost:8080/",
          "height": 383
        },
        "id": "tLuAVVBWweA3",
        "outputId": "c612b923-f618-42af-b721-710339c34ffd"
      },
      "source": [
        "# loading covid cases and deaths data in dataframe\n",
        "\n",
        "us_covid = pd.read_csv(\"United_States_COVID-19_Cases_and_Deaths_by_State_over_Time.csv\") \n",
        "us_covid.head(50)"
      ],
      "execution_count": 17,
      "outputs": [
        {
          "output_type": "execute_result",
          "data": {
            "text/plain": [
              "   submission_date state  tot_cases  conf_cases  prob_cases  new_case  \\\n",
              "0       12/08/2020    NM     109947         NaN         NaN         0   \n",
              "1       08/21/2020    MD     103523         NaN         NaN       624   \n",
              "2       03/05/2020    GA          2         NaN         NaN        -5   \n",
              "3       02/08/2020    WA          1         NaN         NaN         0   \n",
              "4       04/11/2020    ND        293         NaN         NaN        15   \n",
              "5       11/14/2020    VA     201961    183455.0     18506.0      1161   \n",
              "6       12/02/2020    NY     346492         NaN         NaN      5775   \n",
              "7       01/23/2020    WY          0         NaN         NaN         0   \n",
              "8       04/10/2020    MA      20845         NaN         NaN      1904   \n",
              "9       11/15/2020    WA     130040         NaN         NaN      2309   \n",
              "10      08/23/2020    TN     143937    141000.0      2937.0      1854   \n",
              "11      08/14/2020    MS      70930     69268.0      1662.0       944   \n",
              "12      05/16/2020    AS          0         NaN         NaN         0   \n",
              "13      03/13/2020    MS          1         NaN         NaN         0   \n",
              "14      12/10/2020    WY      38223     33203.0      5020.0       338   \n",
              "15      07/29/2020    NV      46021         NaN         NaN       870   \n",
              "16      04/07/2020    MS       2003         NaN         NaN        88   \n",
              "17      06/18/2020    NJ     168107         NaN         NaN       404   \n",
              "18      12/02/2020    AR     161521         NaN         NaN      2212   \n",
              "19      12/11/2020    MD     232009         NaN         NaN      3538   \n",
              "20      08/06/2020    MS      64400     63302.0      1098.0       956   \n",
              "21      03/15/2020    MA        164         NaN         NaN        55   \n",
              "22      08/05/2020    WY       2923      2424.0       499.0        39   \n",
              "23      10/28/2020    ID      61785     54193.0      7592.0       862   \n",
              "24      08/18/2020    AZ     194920    193416.0      1504.0       915   \n",
              "25      11/17/2020    GA     430571    391466.0     39105.0      4335   \n",
              "26      06/09/2020    NV      10030         NaN         NaN       225   \n",
              "27      04/19/2020    MI      31424     31424.0         0.0       707   \n",
              "28      05/26/2020    AS          0         NaN         NaN         0   \n",
              "29      12/06/2020    TX    1249323         NaN         NaN      8573   \n",
              "30      09/13/2020    MS      90018     84557.0      5461.0       144   \n",
              "31      12/02/2020    NJ     346206         NaN         NaN      4296   \n",
              "32      11/03/2020    NY     248091         NaN         NaN      1519   \n",
              "33      09/23/2020    NE      42278         NaN         NaN       493   \n",
              "34      04/14/2020    ND        341         NaN         NaN        10   \n",
              "35      06/18/2020    WA      27192         NaN         NaN       408   \n",
              "36      02/27/2020    ND          0         NaN         NaN         0   \n",
              "37      03/17/2020    NM         23         NaN         NaN         2   \n",
              "38      03/11/2020    NY        164         NaN         NaN        27   \n",
              "39      08/05/2020    IA      46659         NaN         NaN       614   \n",
              "40      03/16/2020    AZ         18         NaN         NaN         5   \n",
              "41      02/28/2020    WI          0         NaN         NaN         0   \n",
              "42      10/30/2020    TN     259488    244886.0     14602.0      2608   \n",
              "43      10/28/2020    AR     108640         NaN         NaN       961   \n",
              "44      07/31/2020    IN      66154         NaN         NaN       901   \n",
              "45      05/05/2020    WA      15594         NaN         NaN       132   \n",
              "46      02/27/2020    AS          0         NaN         NaN         0   \n",
              "47      10/07/2020    SC     153705    148334.0      5371.0       735   \n",
              "48      02/09/2020    WV          0         NaN         NaN         0   \n",
              "49      10/29/2020    NM      44904         NaN         NaN      1078   \n",
              "\n",
              "    pnew_case  tot_death  conf_death  prob_death  new_death  pnew_death  \\\n",
              "0         0.0       1756         NaN         NaN          0         0.0   \n",
              "1         0.0       3685      3546.0       139.0         11         1.0   \n",
              "2         NaN          0         NaN         NaN          0         NaN   \n",
              "3         NaN          0         NaN         NaN          0         NaN   \n",
              "4         NaN          7         NaN         NaN          1         NaN   \n",
              "5       191.0       3800      3527.0       273.0          1         0.0   \n",
              "6         0.0      10117         NaN         NaN         56         0.0   \n",
              "7         NaN          0         NaN         NaN          0         NaN   \n",
              "8         NaN        599         NaN         NaN         96         NaN   \n",
              "9         0.0       2519         NaN         NaN          0         0.0   \n",
              "10       38.0       1567      1527.0        40.0          4         0.0   \n",
              "11      106.0       2043      1965.0        78.0         32         9.0   \n",
              "12        0.0          0         NaN         NaN          0         0.0   \n",
              "13        NaN          0         NaN         NaN          0         NaN   \n",
              "14       24.0        299       299.0         0.0          0         0.0   \n",
              "15        0.0        806         NaN         NaN         21         0.0   \n",
              "16        NaN         67         NaN         NaN          8         NaN   \n",
              "17        0.0      12800     12800.0         0.0         31         0.0   \n",
              "18      705.0       2522         NaN         NaN         10         2.0   \n",
              "19        0.0       5100      4937.0       163.0         36         0.0   \n",
              "20       38.0       1825      1772.0        53.0         21         3.0   \n",
              "21        NaN          0         NaN         NaN          0         NaN   \n",
              "22        7.0         27        27.0         0.0          0         0.0   \n",
              "23      208.0        599       555.0        44.0         14         0.0   \n",
              "24       13.0       4529      4273.0       256.0         23         2.0   \n",
              "25      799.0       9008      8496.0       512.0         41        16.0   \n",
              "26      -19.0        444         NaN         NaN        -17       -19.0   \n",
              "27        0.0       2391      2391.0         0.0         84         0.0   \n",
              "28        0.0          0         NaN         NaN          0         0.0   \n",
              "29        0.0      22594         NaN         NaN         92         0.0   \n",
              "30       38.0       2706      2523.0       183.0          9         0.0   \n",
              "31        0.0      17145     15309.0      1836.0         62         7.0   \n",
              "32        0.0       9290         NaN         NaN          8         0.0   \n",
              "33        0.0        462         NaN         NaN          1         0.0   \n",
              "34        NaN          9         NaN         NaN          1         NaN   \n",
              "35        0.0       1245         NaN         NaN         19         0.0   \n",
              "36        NaN          0         NaN         NaN          0         NaN   \n",
              "37        NaN          0         NaN         NaN          0         NaN   \n",
              "38        NaN          0         NaN         NaN          0         NaN   \n",
              "39        0.0        899         NaN         NaN         12         0.0   \n",
              "40        NaN          0         NaN         NaN          0         NaN   \n",
              "41        NaN          0         NaN         NaN          0         NaN   \n",
              "42      297.0       3341      3156.0       185.0         78         9.0   \n",
              "43      271.0       1875         NaN         NaN         18         0.0   \n",
              "44        0.0       2965      2765.0       200.0         19         0.0   \n",
              "45        0.0        862         NaN         NaN         21         0.0   \n",
              "46        NaN          0         NaN         NaN          0         NaN   \n",
              "47      201.0       3502      3300.0       202.0         31         6.0   \n",
              "48        NaN          0         NaN         NaN          0         NaN   \n",
              "49        0.0        994         NaN         NaN          3         0.0   \n",
              "\n",
              "                created_at consent_cases consent_deaths  \n",
              "0   12/09/2020 02:45:40 PM           NaN      Not agree  \n",
              "1   08/22/2020 02:21:09 PM           NaN          Agree  \n",
              "2   03/26/2020 04:22:39 PM         Agree          Agree  \n",
              "3   03/26/2020 04:22:39 PM           NaN            NaN  \n",
              "4   04/10/2020 04:22:39 PM         Agree      Not agree  \n",
              "5   11/15/2020 03:12:13 PM         Agree          Agree  \n",
              "6   12/03/2020 03:21:08 PM     Not agree      Not agree  \n",
              "7   03/26/2020 04:22:39 PM         Agree          Agree  \n",
              "8   04/09/2020 04:22:39 PM         Agree          Agree  \n",
              "9   11/16/2020 06:40:02 PM           NaN            NaN  \n",
              "10  08/24/2020 01:54:34 PM         Agree          Agree  \n",
              "11  08/15/2020 02:02:05 PM         Agree          Agree  \n",
              "12  05/17/2020 03:27:46 PM           NaN            NaN  \n",
              "13  03/26/2020 04:22:39 PM         Agree          Agree  \n",
              "14  12/11/2020 03:06:51 PM         Agree          Agree  \n",
              "15  07/30/2020 02:42:43 PM           NaN            NaN  \n",
              "16  04/07/2020 04:22:39 PM         Agree          Agree  \n",
              "17  06/19/2020 03:01:11 PM     Not agree          Agree  \n",
              "18  12/03/2020 03:21:08 PM     Not agree      Not agree  \n",
              "19  12/12/2020 02:59:37 PM           NaN          Agree  \n",
              "20  08/07/2020 11:57:59 PM         Agree          Agree  \n",
              "21  03/26/2020 04:22:39 PM         Agree          Agree  \n",
              "22  08/06/2020 02:12:27 PM         Agree          Agree  \n",
              "23  10/29/2020 02:11:33 PM         Agree          Agree  \n",
              "24  08/19/2020 02:23:51 PM         Agree          Agree  \n",
              "25  11/18/2020 02:57:46 PM         Agree          Agree  \n",
              "26  06/10/2020 08:56:25 PM           NaN            NaN  \n",
              "27  04/19/2020 04:22:39 PM         Agree          Agree  \n",
              "28  05/27/2020 03:37:59 PM           NaN            NaN  \n",
              "29  12/07/2020 02:38:33 PM     Not agree      Not agree  \n",
              "30  09/14/2020 02:01:21 PM         Agree          Agree  \n",
              "31  12/03/2020 03:21:08 PM     Not agree          Agree  \n",
              "32  11/04/2020 03:03:00 PM     Not agree      Not agree  \n",
              "33  09/24/2020 01:54:02 PM     Not agree      Not agree  \n",
              "34  04/13/2020 04:22:39 PM         Agree      Not agree  \n",
              "35  06/19/2020 03:01:11 PM           NaN            NaN  \n",
              "36  03/26/2020 04:22:39 PM         Agree      Not agree  \n",
              "37  03/26/2020 04:22:39 PM           NaN      Not agree  \n",
              "38  03/26/2020 04:22:39 PM     Not agree      Not agree  \n",
              "39  08/06/2020 02:12:27 PM     Not agree      Not agree  \n",
              "40  03/26/2020 04:22:39 PM         Agree          Agree  \n",
              "41  03/26/2020 04:22:39 PM         Agree          Agree  \n",
              "42  10/31/2020 01:30:31 PM         Agree          Agree  \n",
              "43  10/29/2020 02:11:33 PM     Not agree      Not agree  \n",
              "44  08/01/2020 02:38:12 PM     Not agree          Agree  \n",
              "45  05/06/2020 04:23:08 PM           NaN            NaN  \n",
              "46  03/26/2020 04:22:39 PM           NaN            NaN  \n",
              "47  10/08/2020 01:56:57 PM         Agree          Agree  \n",
              "48  03/26/2020 04:22:39 PM         Agree      Not agree  \n",
              "49  10/30/2020 01:37:23 PM           NaN      Not agree  "
            ],
            "text/html": "<div>\n<style scoped>\n    .dataframe tbody tr th:only-of-type {\n        vertical-align: middle;\n    }\n\n    .dataframe tbody tr th {\n        vertical-align: top;\n    }\n\n    .dataframe thead th {\n        text-align: right;\n    }\n</style>\n<table border=\"1\" class=\"dataframe\">\n  <thead>\n    <tr style=\"text-align: right;\">\n      <th></th>\n      <th>submission_date</th>\n      <th>state</th>\n      <th>tot_cases</th>\n      <th>conf_cases</th>\n      <th>prob_cases</th>\n      <th>new_case</th>\n      <th>pnew_case</th>\n      <th>tot_death</th>\n      <th>conf_death</th>\n      <th>prob_death</th>\n      <th>new_death</th>\n      <th>pnew_death</th>\n      <th>created_at</th>\n      <th>consent_cases</th>\n      <th>consent_deaths</th>\n    </tr>\n  </thead>\n  <tbody>\n    <tr>\n      <td>0</td>\n      <td>12/08/2020</td>\n      <td>NM</td>\n      <td>109947</td>\n      <td>NaN</td>\n      <td>NaN</td>\n      <td>0</td>\n      <td>0.0</td>\n      <td>1756</td>\n      <td>NaN</td>\n      <td>NaN</td>\n      <td>0</td>\n      <td>0.0</td>\n      <td>12/09/2020 02:45:40 PM</td>\n      <td>NaN</td>\n      <td>Not agree</td>\n    </tr>\n    <tr>\n      <td>1</td>\n      <td>08/21/2020</td>\n      <td>MD</td>\n      <td>103523</td>\n      <td>NaN</td>\n      <td>NaN</td>\n      <td>624</td>\n      <td>0.0</td>\n      <td>3685</td>\n      <td>3546.0</td>\n      <td>139.0</td>\n      <td>11</td>\n      <td>1.0</td>\n      <td>08/22/2020 02:21:09 PM</td>\n      <td>NaN</td>\n      <td>Agree</td>\n    </tr>\n    <tr>\n      <td>2</td>\n      <td>03/05/2020</td>\n      <td>GA</td>\n      <td>2</td>\n      <td>NaN</td>\n      <td>NaN</td>\n      <td>-5</td>\n      <td>NaN</td>\n      <td>0</td>\n      <td>NaN</td>\n      <td>NaN</td>\n      <td>0</td>\n      <td>NaN</td>\n      <td>03/26/2020 04:22:39 PM</td>\n      <td>Agree</td>\n      <td>Agree</td>\n    </tr>\n    <tr>\n      <td>3</td>\n      <td>02/08/2020</td>\n      <td>WA</td>\n      <td>1</td>\n      <td>NaN</td>\n      <td>NaN</td>\n      <td>0</td>\n      <td>NaN</td>\n      <td>0</td>\n      <td>NaN</td>\n      <td>NaN</td>\n      <td>0</td>\n      <td>NaN</td>\n      <td>03/26/2020 04:22:39 PM</td>\n      <td>NaN</td>\n      <td>NaN</td>\n    </tr>\n    <tr>\n      <td>4</td>\n      <td>04/11/2020</td>\n      <td>ND</td>\n      <td>293</td>\n      <td>NaN</td>\n      <td>NaN</td>\n      <td>15</td>\n      <td>NaN</td>\n      <td>7</td>\n      <td>NaN</td>\n      <td>NaN</td>\n      <td>1</td>\n      <td>NaN</td>\n      <td>04/10/2020 04:22:39 PM</td>\n      <td>Agree</td>\n      <td>Not agree</td>\n    </tr>\n    <tr>\n      <td>5</td>\n      <td>11/14/2020</td>\n      <td>VA</td>\n      <td>201961</td>\n      <td>183455.0</td>\n      <td>18506.0</td>\n      <td>1161</td>\n      <td>191.0</td>\n      <td>3800</td>\n      <td>3527.0</td>\n      <td>273.0</td>\n      <td>1</td>\n      <td>0.0</td>\n      <td>11/15/2020 03:12:13 PM</td>\n      <td>Agree</td>\n      <td>Agree</td>\n    </tr>\n    <tr>\n      <td>6</td>\n      <td>12/02/2020</td>\n      <td>NY</td>\n      <td>346492</td>\n      <td>NaN</td>\n      <td>NaN</td>\n      <td>5775</td>\n      <td>0.0</td>\n      <td>10117</td>\n      <td>NaN</td>\n      <td>NaN</td>\n      <td>56</td>\n      <td>0.0</td>\n      <td>12/03/2020 03:21:08 PM</td>\n      <td>Not agree</td>\n      <td>Not agree</td>\n    </tr>\n    <tr>\n      <td>7</td>\n      <td>01/23/2020</td>\n      <td>WY</td>\n      <td>0</td>\n      <td>NaN</td>\n      <td>NaN</td>\n      <td>0</td>\n      <td>NaN</td>\n      <td>0</td>\n      <td>NaN</td>\n      <td>NaN</td>\n      <td>0</td>\n      <td>NaN</td>\n      <td>03/26/2020 04:22:39 PM</td>\n      <td>Agree</td>\n      <td>Agree</td>\n    </tr>\n    <tr>\n      <td>8</td>\n      <td>04/10/2020</td>\n      <td>MA</td>\n      <td>20845</td>\n      <td>NaN</td>\n      <td>NaN</td>\n      <td>1904</td>\n      <td>NaN</td>\n      <td>599</td>\n      <td>NaN</td>\n      <td>NaN</td>\n      <td>96</td>\n      <td>NaN</td>\n      <td>04/09/2020 04:22:39 PM</td>\n      <td>Agree</td>\n      <td>Agree</td>\n    </tr>\n    <tr>\n      <td>9</td>\n      <td>11/15/2020</td>\n      <td>WA</td>\n      <td>130040</td>\n      <td>NaN</td>\n      <td>NaN</td>\n      <td>2309</td>\n      <td>0.0</td>\n      <td>2519</td>\n      <td>NaN</td>\n      <td>NaN</td>\n      <td>0</td>\n      <td>0.0</td>\n      <td>11/16/2020 06:40:02 PM</td>\n      <td>NaN</td>\n      <td>NaN</td>\n    </tr>\n    <tr>\n      <td>10</td>\n      <td>08/23/2020</td>\n      <td>TN</td>\n      <td>143937</td>\n      <td>141000.0</td>\n      <td>2937.0</td>\n      <td>1854</td>\n      <td>38.0</td>\n      <td>1567</td>\n      <td>1527.0</td>\n      <td>40.0</td>\n      <td>4</td>\n      <td>0.0</td>\n      <td>08/24/2020 01:54:34 PM</td>\n      <td>Agree</td>\n      <td>Agree</td>\n    </tr>\n    <tr>\n      <td>11</td>\n      <td>08/14/2020</td>\n      <td>MS</td>\n      <td>70930</td>\n      <td>69268.0</td>\n      <td>1662.0</td>\n      <td>944</td>\n      <td>106.0</td>\n      <td>2043</td>\n      <td>1965.0</td>\n      <td>78.0</td>\n      <td>32</td>\n      <td>9.0</td>\n      <td>08/15/2020 02:02:05 PM</td>\n      <td>Agree</td>\n      <td>Agree</td>\n    </tr>\n    <tr>\n      <td>12</td>\n      <td>05/16/2020</td>\n      <td>AS</td>\n      <td>0</td>\n      <td>NaN</td>\n      <td>NaN</td>\n      <td>0</td>\n      <td>0.0</td>\n      <td>0</td>\n      <td>NaN</td>\n      <td>NaN</td>\n      <td>0</td>\n      <td>0.0</td>\n      <td>05/17/2020 03:27:46 PM</td>\n      <td>NaN</td>\n      <td>NaN</td>\n    </tr>\n    <tr>\n      <td>13</td>\n      <td>03/13/2020</td>\n      <td>MS</td>\n      <td>1</td>\n      <td>NaN</td>\n      <td>NaN</td>\n      <td>0</td>\n      <td>NaN</td>\n      <td>0</td>\n      <td>NaN</td>\n      <td>NaN</td>\n      <td>0</td>\n      <td>NaN</td>\n      <td>03/26/2020 04:22:39 PM</td>\n      <td>Agree</td>\n      <td>Agree</td>\n    </tr>\n    <tr>\n      <td>14</td>\n      <td>12/10/2020</td>\n      <td>WY</td>\n      <td>38223</td>\n      <td>33203.0</td>\n      <td>5020.0</td>\n      <td>338</td>\n      <td>24.0</td>\n      <td>299</td>\n      <td>299.0</td>\n      <td>0.0</td>\n      <td>0</td>\n      <td>0.0</td>\n      <td>12/11/2020 03:06:51 PM</td>\n      <td>Agree</td>\n      <td>Agree</td>\n    </tr>\n    <tr>\n      <td>15</td>\n      <td>07/29/2020</td>\n      <td>NV</td>\n      <td>46021</td>\n      <td>NaN</td>\n      <td>NaN</td>\n      <td>870</td>\n      <td>0.0</td>\n      <td>806</td>\n      <td>NaN</td>\n      <td>NaN</td>\n      <td>21</td>\n      <td>0.0</td>\n      <td>07/30/2020 02:42:43 PM</td>\n      <td>NaN</td>\n      <td>NaN</td>\n    </tr>\n    <tr>\n      <td>16</td>\n      <td>04/07/2020</td>\n      <td>MS</td>\n      <td>2003</td>\n      <td>NaN</td>\n      <td>NaN</td>\n      <td>88</td>\n      <td>NaN</td>\n      <td>67</td>\n      <td>NaN</td>\n      <td>NaN</td>\n      <td>8</td>\n      <td>NaN</td>\n      <td>04/07/2020 04:22:39 PM</td>\n      <td>Agree</td>\n      <td>Agree</td>\n    </tr>\n    <tr>\n      <td>17</td>\n      <td>06/18/2020</td>\n      <td>NJ</td>\n      <td>168107</td>\n      <td>NaN</td>\n      <td>NaN</td>\n      <td>404</td>\n      <td>0.0</td>\n      <td>12800</td>\n      <td>12800.0</td>\n      <td>0.0</td>\n      <td>31</td>\n      <td>0.0</td>\n      <td>06/19/2020 03:01:11 PM</td>\n      <td>Not agree</td>\n      <td>Agree</td>\n    </tr>\n    <tr>\n      <td>18</td>\n      <td>12/02/2020</td>\n      <td>AR</td>\n      <td>161521</td>\n      <td>NaN</td>\n      <td>NaN</td>\n      <td>2212</td>\n      <td>705.0</td>\n      <td>2522</td>\n      <td>NaN</td>\n      <td>NaN</td>\n      <td>10</td>\n      <td>2.0</td>\n      <td>12/03/2020 03:21:08 PM</td>\n      <td>Not agree</td>\n      <td>Not agree</td>\n    </tr>\n    <tr>\n      <td>19</td>\n      <td>12/11/2020</td>\n      <td>MD</td>\n      <td>232009</td>\n      <td>NaN</td>\n      <td>NaN</td>\n      <td>3538</td>\n      <td>0.0</td>\n      <td>5100</td>\n      <td>4937.0</td>\n      <td>163.0</td>\n      <td>36</td>\n      <td>0.0</td>\n      <td>12/12/2020 02:59:37 PM</td>\n      <td>NaN</td>\n      <td>Agree</td>\n    </tr>\n    <tr>\n      <td>20</td>\n      <td>08/06/2020</td>\n      <td>MS</td>\n      <td>64400</td>\n      <td>63302.0</td>\n      <td>1098.0</td>\n      <td>956</td>\n      <td>38.0</td>\n      <td>1825</td>\n      <td>1772.0</td>\n      <td>53.0</td>\n      <td>21</td>\n      <td>3.0</td>\n      <td>08/07/2020 11:57:59 PM</td>\n      <td>Agree</td>\n      <td>Agree</td>\n    </tr>\n    <tr>\n      <td>21</td>\n      <td>03/15/2020</td>\n      <td>MA</td>\n      <td>164</td>\n      <td>NaN</td>\n      <td>NaN</td>\n      <td>55</td>\n      <td>NaN</td>\n      <td>0</td>\n      <td>NaN</td>\n      <td>NaN</td>\n      <td>0</td>\n      <td>NaN</td>\n      <td>03/26/2020 04:22:39 PM</td>\n      <td>Agree</td>\n      <td>Agree</td>\n    </tr>\n    <tr>\n      <td>22</td>\n      <td>08/05/2020</td>\n      <td>WY</td>\n      <td>2923</td>\n      <td>2424.0</td>\n      <td>499.0</td>\n      <td>39</td>\n      <td>7.0</td>\n      <td>27</td>\n      <td>27.0</td>\n      <td>0.0</td>\n      <td>0</td>\n      <td>0.0</td>\n      <td>08/06/2020 02:12:27 PM</td>\n      <td>Agree</td>\n      <td>Agree</td>\n    </tr>\n    <tr>\n      <td>23</td>\n      <td>10/28/2020</td>\n      <td>ID</td>\n      <td>61785</td>\n      <td>54193.0</td>\n      <td>7592.0</td>\n      <td>862</td>\n      <td>208.0</td>\n      <td>599</td>\n      <td>555.0</td>\n      <td>44.0</td>\n      <td>14</td>\n      <td>0.0</td>\n      <td>10/29/2020 02:11:33 PM</td>\n      <td>Agree</td>\n      <td>Agree</td>\n    </tr>\n    <tr>\n      <td>24</td>\n      <td>08/18/2020</td>\n      <td>AZ</td>\n      <td>194920</td>\n      <td>193416.0</td>\n      <td>1504.0</td>\n      <td>915</td>\n      <td>13.0</td>\n      <td>4529</td>\n      <td>4273.0</td>\n      <td>256.0</td>\n      <td>23</td>\n      <td>2.0</td>\n      <td>08/19/2020 02:23:51 PM</td>\n      <td>Agree</td>\n      <td>Agree</td>\n    </tr>\n    <tr>\n      <td>25</td>\n      <td>11/17/2020</td>\n      <td>GA</td>\n      <td>430571</td>\n      <td>391466.0</td>\n      <td>39105.0</td>\n      <td>4335</td>\n      <td>799.0</td>\n      <td>9008</td>\n      <td>8496.0</td>\n      <td>512.0</td>\n      <td>41</td>\n      <td>16.0</td>\n      <td>11/18/2020 02:57:46 PM</td>\n      <td>Agree</td>\n      <td>Agree</td>\n    </tr>\n    <tr>\n      <td>26</td>\n      <td>06/09/2020</td>\n      <td>NV</td>\n      <td>10030</td>\n      <td>NaN</td>\n      <td>NaN</td>\n      <td>225</td>\n      <td>-19.0</td>\n      <td>444</td>\n      <td>NaN</td>\n      <td>NaN</td>\n      <td>-17</td>\n      <td>-19.0</td>\n      <td>06/10/2020 08:56:25 PM</td>\n      <td>NaN</td>\n      <td>NaN</td>\n    </tr>\n    <tr>\n      <td>27</td>\n      <td>04/19/2020</td>\n      <td>MI</td>\n      <td>31424</td>\n      <td>31424.0</td>\n      <td>0.0</td>\n      <td>707</td>\n      <td>0.0</td>\n      <td>2391</td>\n      <td>2391.0</td>\n      <td>0.0</td>\n      <td>84</td>\n      <td>0.0</td>\n      <td>04/19/2020 04:22:39 PM</td>\n      <td>Agree</td>\n      <td>Agree</td>\n    </tr>\n    <tr>\n      <td>28</td>\n      <td>05/26/2020</td>\n      <td>AS</td>\n      <td>0</td>\n      <td>NaN</td>\n      <td>NaN</td>\n      <td>0</td>\n      <td>0.0</td>\n      <td>0</td>\n      <td>NaN</td>\n      <td>NaN</td>\n      <td>0</td>\n      <td>0.0</td>\n      <td>05/27/2020 03:37:59 PM</td>\n      <td>NaN</td>\n      <td>NaN</td>\n    </tr>\n    <tr>\n      <td>29</td>\n      <td>12/06/2020</td>\n      <td>TX</td>\n      <td>1249323</td>\n      <td>NaN</td>\n      <td>NaN</td>\n      <td>8573</td>\n      <td>0.0</td>\n      <td>22594</td>\n      <td>NaN</td>\n      <td>NaN</td>\n      <td>92</td>\n      <td>0.0</td>\n      <td>12/07/2020 02:38:33 PM</td>\n      <td>Not agree</td>\n      <td>Not agree</td>\n    </tr>\n    <tr>\n      <td>30</td>\n      <td>09/13/2020</td>\n      <td>MS</td>\n      <td>90018</td>\n      <td>84557.0</td>\n      <td>5461.0</td>\n      <td>144</td>\n      <td>38.0</td>\n      <td>2706</td>\n      <td>2523.0</td>\n      <td>183.0</td>\n      <td>9</td>\n      <td>0.0</td>\n      <td>09/14/2020 02:01:21 PM</td>\n      <td>Agree</td>\n      <td>Agree</td>\n    </tr>\n    <tr>\n      <td>31</td>\n      <td>12/02/2020</td>\n      <td>NJ</td>\n      <td>346206</td>\n      <td>NaN</td>\n      <td>NaN</td>\n      <td>4296</td>\n      <td>0.0</td>\n      <td>17145</td>\n      <td>15309.0</td>\n      <td>1836.0</td>\n      <td>62</td>\n      <td>7.0</td>\n      <td>12/03/2020 03:21:08 PM</td>\n      <td>Not agree</td>\n      <td>Agree</td>\n    </tr>\n    <tr>\n      <td>32</td>\n      <td>11/03/2020</td>\n      <td>NY</td>\n      <td>248091</td>\n      <td>NaN</td>\n      <td>NaN</td>\n      <td>1519</td>\n      <td>0.0</td>\n      <td>9290</td>\n      <td>NaN</td>\n      <td>NaN</td>\n      <td>8</td>\n      <td>0.0</td>\n      <td>11/04/2020 03:03:00 PM</td>\n      <td>Not agree</td>\n      <td>Not agree</td>\n    </tr>\n    <tr>\n      <td>33</td>\n      <td>09/23/2020</td>\n      <td>NE</td>\n      <td>42278</td>\n      <td>NaN</td>\n      <td>NaN</td>\n      <td>493</td>\n      <td>0.0</td>\n      <td>462</td>\n      <td>NaN</td>\n      <td>NaN</td>\n      <td>1</td>\n      <td>0.0</td>\n      <td>09/24/2020 01:54:02 PM</td>\n      <td>Not agree</td>\n      <td>Not agree</td>\n    </tr>\n    <tr>\n      <td>34</td>\n      <td>04/14/2020</td>\n      <td>ND</td>\n      <td>341</td>\n      <td>NaN</td>\n      <td>NaN</td>\n      <td>10</td>\n      <td>NaN</td>\n      <td>9</td>\n      <td>NaN</td>\n      <td>NaN</td>\n      <td>1</td>\n      <td>NaN</td>\n      <td>04/13/2020 04:22:39 PM</td>\n      <td>Agree</td>\n      <td>Not agree</td>\n    </tr>\n    <tr>\n      <td>35</td>\n      <td>06/18/2020</td>\n      <td>WA</td>\n      <td>27192</td>\n      <td>NaN</td>\n      <td>NaN</td>\n      <td>408</td>\n      <td>0.0</td>\n      <td>1245</td>\n      <td>NaN</td>\n      <td>NaN</td>\n      <td>19</td>\n      <td>0.0</td>\n      <td>06/19/2020 03:01:11 PM</td>\n      <td>NaN</td>\n      <td>NaN</td>\n    </tr>\n    <tr>\n      <td>36</td>\n      <td>02/27/2020</td>\n      <td>ND</td>\n      <td>0</td>\n      <td>NaN</td>\n      <td>NaN</td>\n      <td>0</td>\n      <td>NaN</td>\n      <td>0</td>\n      <td>NaN</td>\n      <td>NaN</td>\n      <td>0</td>\n      <td>NaN</td>\n      <td>03/26/2020 04:22:39 PM</td>\n      <td>Agree</td>\n      <td>Not agree</td>\n    </tr>\n    <tr>\n      <td>37</td>\n      <td>03/17/2020</td>\n      <td>NM</td>\n      <td>23</td>\n      <td>NaN</td>\n      <td>NaN</td>\n      <td>2</td>\n      <td>NaN</td>\n      <td>0</td>\n      <td>NaN</td>\n      <td>NaN</td>\n      <td>0</td>\n      <td>NaN</td>\n      <td>03/26/2020 04:22:39 PM</td>\n      <td>NaN</td>\n      <td>Not agree</td>\n    </tr>\n    <tr>\n      <td>38</td>\n      <td>03/11/2020</td>\n      <td>NY</td>\n      <td>164</td>\n      <td>NaN</td>\n      <td>NaN</td>\n      <td>27</td>\n      <td>NaN</td>\n      <td>0</td>\n      <td>NaN</td>\n      <td>NaN</td>\n      <td>0</td>\n      <td>NaN</td>\n      <td>03/26/2020 04:22:39 PM</td>\n      <td>Not agree</td>\n      <td>Not agree</td>\n    </tr>\n    <tr>\n      <td>39</td>\n      <td>08/05/2020</td>\n      <td>IA</td>\n      <td>46659</td>\n      <td>NaN</td>\n      <td>NaN</td>\n      <td>614</td>\n      <td>0.0</td>\n      <td>899</td>\n      <td>NaN</td>\n      <td>NaN</td>\n      <td>12</td>\n      <td>0.0</td>\n      <td>08/06/2020 02:12:27 PM</td>\n      <td>Not agree</td>\n      <td>Not agree</td>\n    </tr>\n    <tr>\n      <td>40</td>\n      <td>03/16/2020</td>\n      <td>AZ</td>\n      <td>18</td>\n      <td>NaN</td>\n      <td>NaN</td>\n      <td>5</td>\n      <td>NaN</td>\n      <td>0</td>\n      <td>NaN</td>\n      <td>NaN</td>\n      <td>0</td>\n      <td>NaN</td>\n      <td>03/26/2020 04:22:39 PM</td>\n      <td>Agree</td>\n      <td>Agree</td>\n    </tr>\n    <tr>\n      <td>41</td>\n      <td>02/28/2020</td>\n      <td>WI</td>\n      <td>0</td>\n      <td>NaN</td>\n      <td>NaN</td>\n      <td>0</td>\n      <td>NaN</td>\n      <td>0</td>\n      <td>NaN</td>\n      <td>NaN</td>\n      <td>0</td>\n      <td>NaN</td>\n      <td>03/26/2020 04:22:39 PM</td>\n      <td>Agree</td>\n      <td>Agree</td>\n    </tr>\n    <tr>\n      <td>42</td>\n      <td>10/30/2020</td>\n      <td>TN</td>\n      <td>259488</td>\n      <td>244886.0</td>\n      <td>14602.0</td>\n      <td>2608</td>\n      <td>297.0</td>\n      <td>3341</td>\n      <td>3156.0</td>\n      <td>185.0</td>\n      <td>78</td>\n      <td>9.0</td>\n      <td>10/31/2020 01:30:31 PM</td>\n      <td>Agree</td>\n      <td>Agree</td>\n    </tr>\n    <tr>\n      <td>43</td>\n      <td>10/28/2020</td>\n      <td>AR</td>\n      <td>108640</td>\n      <td>NaN</td>\n      <td>NaN</td>\n      <td>961</td>\n      <td>271.0</td>\n      <td>1875</td>\n      <td>NaN</td>\n      <td>NaN</td>\n      <td>18</td>\n      <td>0.0</td>\n      <td>10/29/2020 02:11:33 PM</td>\n      <td>Not agree</td>\n      <td>Not agree</td>\n    </tr>\n    <tr>\n      <td>44</td>\n      <td>07/31/2020</td>\n      <td>IN</td>\n      <td>66154</td>\n      <td>NaN</td>\n      <td>NaN</td>\n      <td>901</td>\n      <td>0.0</td>\n      <td>2965</td>\n      <td>2765.0</td>\n      <td>200.0</td>\n      <td>19</td>\n      <td>0.0</td>\n      <td>08/01/2020 02:38:12 PM</td>\n      <td>Not agree</td>\n      <td>Agree</td>\n    </tr>\n    <tr>\n      <td>45</td>\n      <td>05/05/2020</td>\n      <td>WA</td>\n      <td>15594</td>\n      <td>NaN</td>\n      <td>NaN</td>\n      <td>132</td>\n      <td>0.0</td>\n      <td>862</td>\n      <td>NaN</td>\n      <td>NaN</td>\n      <td>21</td>\n      <td>0.0</td>\n      <td>05/06/2020 04:23:08 PM</td>\n      <td>NaN</td>\n      <td>NaN</td>\n    </tr>\n    <tr>\n      <td>46</td>\n      <td>02/27/2020</td>\n      <td>AS</td>\n      <td>0</td>\n      <td>NaN</td>\n      <td>NaN</td>\n      <td>0</td>\n      <td>NaN</td>\n      <td>0</td>\n      <td>NaN</td>\n      <td>NaN</td>\n      <td>0</td>\n      <td>NaN</td>\n      <td>03/26/2020 04:22:39 PM</td>\n      <td>NaN</td>\n      <td>NaN</td>\n    </tr>\n    <tr>\n      <td>47</td>\n      <td>10/07/2020</td>\n      <td>SC</td>\n      <td>153705</td>\n      <td>148334.0</td>\n      <td>5371.0</td>\n      <td>735</td>\n      <td>201.0</td>\n      <td>3502</td>\n      <td>3300.0</td>\n      <td>202.0</td>\n      <td>31</td>\n      <td>6.0</td>\n      <td>10/08/2020 01:56:57 PM</td>\n      <td>Agree</td>\n      <td>Agree</td>\n    </tr>\n    <tr>\n      <td>48</td>\n      <td>02/09/2020</td>\n      <td>WV</td>\n      <td>0</td>\n      <td>NaN</td>\n      <td>NaN</td>\n      <td>0</td>\n      <td>NaN</td>\n      <td>0</td>\n      <td>NaN</td>\n      <td>NaN</td>\n      <td>0</td>\n      <td>NaN</td>\n      <td>03/26/2020 04:22:39 PM</td>\n      <td>Agree</td>\n      <td>Not agree</td>\n    </tr>\n    <tr>\n      <td>49</td>\n      <td>10/29/2020</td>\n      <td>NM</td>\n      <td>44904</td>\n      <td>NaN</td>\n      <td>NaN</td>\n      <td>1078</td>\n      <td>0.0</td>\n      <td>994</td>\n      <td>NaN</td>\n      <td>NaN</td>\n      <td>3</td>\n      <td>0.0</td>\n      <td>10/30/2020 01:37:23 PM</td>\n      <td>NaN</td>\n      <td>Not agree</td>\n    </tr>\n  </tbody>\n</table>\n</div>"
          },
          "metadata": {},
          "execution_count": 17
        }
      ]
    },
    {
      "cell_type": "markdown",
      "metadata": {
        "id": "TUsU25gqrLIO"
      },
      "source": [
        "We want to remove the the columns that are unnecessary and clean the data set. We are concerned with the new cases, total cases, new deaths and total deaths."
      ]
    },
    {
      "cell_type": "code",
      "metadata": {
        "colab": {
          "base_uri": "https://localhost:8080/",
          "height": 194
        },
        "id": "vts7OaJ2wjOR",
        "outputId": "867d26bd-4c3b-4b41-e7cf-8f39103953cc"
      },
      "source": [
        "#remove columns\n",
        "to_drop = ['conf_cases','prob_cases','pnew_case','conf_death','prob_death','pnew_death','created_at','consent_cases','consent_deaths']\n",
        "us_covid.drop(to_drop, inplace=True, axis=1)\n",
        "us_covid.rename(columns={'submission_date':'date'},inplace=True)\n",
        "us_covid.head()"
      ],
      "execution_count": 18,
      "outputs": [
        {
          "output_type": "execute_result",
          "data": {
            "text/plain": [
              "         date state  tot_cases  new_case  tot_death  new_death\n",
              "0  12/08/2020    NM     109947         0       1756          0\n",
              "1  08/21/2020    MD     103523       624       3685         11\n",
              "2  03/05/2020    GA          2        -5          0          0\n",
              "3  02/08/2020    WA          1         0          0          0\n",
              "4  04/11/2020    ND        293        15          7          1"
            ],
            "text/html": "<div>\n<style scoped>\n    .dataframe tbody tr th:only-of-type {\n        vertical-align: middle;\n    }\n\n    .dataframe tbody tr th {\n        vertical-align: top;\n    }\n\n    .dataframe thead th {\n        text-align: right;\n    }\n</style>\n<table border=\"1\" class=\"dataframe\">\n  <thead>\n    <tr style=\"text-align: right;\">\n      <th></th>\n      <th>date</th>\n      <th>state</th>\n      <th>tot_cases</th>\n      <th>new_case</th>\n      <th>tot_death</th>\n      <th>new_death</th>\n    </tr>\n  </thead>\n  <tbody>\n    <tr>\n      <td>0</td>\n      <td>12/08/2020</td>\n      <td>NM</td>\n      <td>109947</td>\n      <td>0</td>\n      <td>1756</td>\n      <td>0</td>\n    </tr>\n    <tr>\n      <td>1</td>\n      <td>08/21/2020</td>\n      <td>MD</td>\n      <td>103523</td>\n      <td>624</td>\n      <td>3685</td>\n      <td>11</td>\n    </tr>\n    <tr>\n      <td>2</td>\n      <td>03/05/2020</td>\n      <td>GA</td>\n      <td>2</td>\n      <td>-5</td>\n      <td>0</td>\n      <td>0</td>\n    </tr>\n    <tr>\n      <td>3</td>\n      <td>02/08/2020</td>\n      <td>WA</td>\n      <td>1</td>\n      <td>0</td>\n      <td>0</td>\n      <td>0</td>\n    </tr>\n    <tr>\n      <td>4</td>\n      <td>04/11/2020</td>\n      <td>ND</td>\n      <td>293</td>\n      <td>15</td>\n      <td>7</td>\n      <td>1</td>\n    </tr>\n  </tbody>\n</table>\n</div>"
          },
          "metadata": {},
          "execution_count": 18
        }
      ]
    },
    {
      "cell_type": "markdown",
      "metadata": {
        "id": "XCgPSVabw9dm"
      },
      "source": [
        "We will now remove all the dates for each state, except for the month of April, as this is when we are doing the Sentiment Analysis of Tweets."
      ]
    },
    {
      "cell_type": "code",
      "metadata": {
        "colab": {
          "base_uri": "https://localhost:8080/",
          "height": 194
        },
        "id": "HGuaEMSqwpzI",
        "outputId": "eff6465e-666d-4a54-9075-5e0ddf7cd521"
      },
      "source": [
        "#remove dates except for april for each state\n",
        "april = us_covid[(us_covid['date'] >= '04/01/2020') & (us_covid['date'] <= '04/30/2020')]\n",
        "april.head()"
      ],
      "execution_count": 19,
      "outputs": [
        {
          "output_type": "execute_result",
          "data": {
            "text/plain": [
              "          date state  tot_cases  new_case  tot_death  new_death\n",
              "4   04/11/2020    ND        293        15          7          1\n",
              "8   04/10/2020    MA      20845      1904        599         96\n",
              "16  04/07/2020    MS       2003        88         67          8\n",
              "27  04/19/2020    MI      31424       707       2391         84\n",
              "34  04/14/2020    ND        341        10          9          1"
            ],
            "text/html": "<div>\n<style scoped>\n    .dataframe tbody tr th:only-of-type {\n        vertical-align: middle;\n    }\n\n    .dataframe tbody tr th {\n        vertical-align: top;\n    }\n\n    .dataframe thead th {\n        text-align: right;\n    }\n</style>\n<table border=\"1\" class=\"dataframe\">\n  <thead>\n    <tr style=\"text-align: right;\">\n      <th></th>\n      <th>date</th>\n      <th>state</th>\n      <th>tot_cases</th>\n      <th>new_case</th>\n      <th>tot_death</th>\n      <th>new_death</th>\n    </tr>\n  </thead>\n  <tbody>\n    <tr>\n      <td>4</td>\n      <td>04/11/2020</td>\n      <td>ND</td>\n      <td>293</td>\n      <td>15</td>\n      <td>7</td>\n      <td>1</td>\n    </tr>\n    <tr>\n      <td>8</td>\n      <td>04/10/2020</td>\n      <td>MA</td>\n      <td>20845</td>\n      <td>1904</td>\n      <td>599</td>\n      <td>96</td>\n    </tr>\n    <tr>\n      <td>16</td>\n      <td>04/07/2020</td>\n      <td>MS</td>\n      <td>2003</td>\n      <td>88</td>\n      <td>67</td>\n      <td>8</td>\n    </tr>\n    <tr>\n      <td>27</td>\n      <td>04/19/2020</td>\n      <td>MI</td>\n      <td>31424</td>\n      <td>707</td>\n      <td>2391</td>\n      <td>84</td>\n    </tr>\n    <tr>\n      <td>34</td>\n      <td>04/14/2020</td>\n      <td>ND</td>\n      <td>341</td>\n      <td>10</td>\n      <td>9</td>\n      <td>1</td>\n    </tr>\n  </tbody>\n</table>\n</div>"
          },
          "metadata": {},
          "execution_count": 19
        }
      ]
    },
    {
      "cell_type": "markdown",
      "metadata": {
        "id": "pkswJXO2w_yw"
      },
      "source": [
        "Export the cleaned data set to a csv file."
      ]
    },
    {
      "cell_type": "code",
      "metadata": {
        "id": "xVpwCYacwzKy"
      },
      "source": [
        "#export csv\n",
        "april.to_csv(r'april_covid_deaths_cases.csv', index = False)"
      ],
      "execution_count": 20,
      "outputs": []
    },
    {
      "cell_type": "markdown",
      "metadata": {
        "id": "6iba_YnfxBom"
      },
      "source": [
        "Upload the dataset containing the population of each state for 2020 in each US state. Replace the name with the file path."
      ]
    },
    {
      "cell_type": "code",
      "metadata": {
        "colab": {
          "base_uri": "https://localhost:8080/"
        },
        "id": "Q_kFkohiw6Vm",
        "outputId": "ef22f002-17ee-4464-d794-b39c9b534c0d"
      },
      "source": [
        "population = pd.read_csv(\"us_state_population.csv\") \n",
        "population.rename(columns={'Population Estimate (as of July 1 2020)': 'population_estimate'},inplace=True)\n",
        "print(population)"
      ],
      "execution_count": 10,
      "outputs": [
        {
          "output_type": "stream",
          "name": "stdout",
          "text": [
            "                   State  population_estimate\n0                 Alaska               734002\n1                Alabama              4908621\n2               Arkansas              3038999\n3                Arizona              7378494\n4             California             39937489\n5               Colorado              5845526\n6            Connecticut              3563077\n7   District of Columbia               720687\n8               Delaware               982895\n9                Florida             21992985\n10               Georgia             10736059\n11                Hawaii              1412687\n12                  Iowa              3179849\n13                 Idaho              1826156\n14              Illinois             12659682\n15               Indiana              6745354\n16                Kansas              2910357\n17              Kentucky              4499692\n18             Louisiana              4645184\n19         Massachusetts              6976597\n20              Maryland              6083116\n21                 Maine              1345790\n22              Michigan             10045029\n23             Minnesota              5700671\n24              Missouri              6169270\n25           Mississippi              2989260\n26               Montana              1086759\n27        North Carolina             10611862\n28          North Dakota               761723\n29              Nebraska              1952570\n30         New Hampshire              1371246\n31            New Jersey              8936574\n32            New Mexico              2096640\n33                Nevada              3139658\n34              New York             19440469\n35                  Ohio             11747694\n36              Oklahoma              3954821\n37                Oregon              4301089\n38          Pennsylvania             12820878\n39          Rhode Island              1056161\n40        South Carolina              5210095\n41          South Dakota               903027\n42             Tennessee              6897576\n43                 Texas             29472295\n44                  Utah              3282115\n45              Virginia              8626207\n46               Vermont               628061\n47            Washington              7797095\n48             Wisconsin              5851754\n49         West Virginia              1778070\n50               Wyoming               567025\n"
          ]
        }
      ]
    },
    {
      "cell_type": "markdown",
      "metadata": {
        "id": "LMvc1zXsxHgX"
      },
      "source": [
        "The following is a dictionary sourced from a GitHub repository with the abbreviated names for each state."
      ]
    },
    {
      "cell_type": "code",
      "metadata": {
        "colab": {
          "base_uri": "https://localhost:8080/"
        },
        "id": "JBB5BnWAxNVM",
        "outputId": "ab9efdd7-621f-4f8f-8039-b66581eb0c7b"
      },
      "source": [
        "# United States of America Python Dictionary to translate States,\r\n",
        "# Districts & Territories to Two-Letter codes and vice versa.\r\n",
        "#\r\n",
        "# https://gist.github.com/rogerallen/1583593\r\n",
        "#\r\n",
        "# Dedicated to the public domain.  To the extent possible under law,\r\n",
        "# Roger Allen has waived all copyright and related or neighboring\r\n",
        "# rights to this code.\r\n",
        "\r\n",
        "us_state_abbrev = {\r\n",
        "    'Alabama': 'AL',\r\n",
        "    'Alaska': 'AK',\r\n",
        "    'American Samoa': 'AS',\r\n",
        "    'Arizona': 'AZ',\r\n",
        "    'Arkansas': 'AR',\r\n",
        "    'California': 'CA',\r\n",
        "    'Colorado': 'CO',\r\n",
        "    'Connecticut': 'CT',\r\n",
        "    'Delaware': 'DE',\r\n",
        "    'District of Columbia': 'DC',\r\n",
        "    'Florida': 'FL',\r\n",
        "    'Georgia': 'GA',\r\n",
        "    'Guam': 'GU',\r\n",
        "    'Hawaii': 'HI',\r\n",
        "    'Idaho': 'ID',\r\n",
        "    'Illinois': 'IL',\r\n",
        "    'Indiana': 'IN',\r\n",
        "    'Iowa': 'IA',\r\n",
        "    'Kansas': 'KS',\r\n",
        "    'Kentucky': 'KY',\r\n",
        "    'Louisiana': 'LA',\r\n",
        "    'Maine': 'ME',\r\n",
        "    'Maryland': 'MD',\r\n",
        "    'Massachusetts': 'MA',\r\n",
        "    'Michigan': 'MI',\r\n",
        "    'Minnesota': 'MN',\r\n",
        "    'Mississippi': 'MS',\r\n",
        "    'Missouri': 'MO',\r\n",
        "    'Montana': 'MT',\r\n",
        "    'Nebraska': 'NE',\r\n",
        "    'Nevada': 'NV',\r\n",
        "    'New Hampshire': 'NH',\r\n",
        "    'New Jersey': 'NJ',\r\n",
        "    'New Mexico': 'NM',\r\n",
        "    'New York': 'NY',\r\n",
        "    'North Carolina': 'NC',\r\n",
        "    'North Dakota': 'ND',\r\n",
        "    'Northern Mariana Islands':'MP',\r\n",
        "    'Ohio': 'OH',\r\n",
        "    'Oklahoma': 'OK',\r\n",
        "    'Oregon': 'OR',\r\n",
        "    'Pennsylvania': 'PA',\r\n",
        "    'Puerto Rico': 'PR',\r\n",
        "    'Rhode Island': 'RI',\r\n",
        "    'South Carolina': 'SC',\r\n",
        "    'South Dakota': 'SD',\r\n",
        "    'Tennessee': 'TN',\r\n",
        "    'Texas': 'TX',\r\n",
        "    'Utah': 'UT',\r\n",
        "    'Vermont': 'VT',\r\n",
        "    'Virgin Islands': 'VI',\r\n",
        "    'Virginia': 'VA',\r\n",
        "    'Washington': 'WA',\r\n",
        "    'West Virginia': 'WV',\r\n",
        "    'Wisconsin': 'WI',\r\n",
        "    'Wyoming': 'WY'\r\n",
        "}\r\n",
        "print(us_state_abbrev)"
      ],
      "execution_count": 11,
      "outputs": [
        {
          "output_type": "stream",
          "name": "stdout",
          "text": [
            "{'Alabama': 'AL', 'Alaska': 'AK', 'American Samoa': 'AS', 'Arizona': 'AZ', 'Arkansas': 'AR', 'California': 'CA', 'Colorado': 'CO', 'Connecticut': 'CT', 'Delaware': 'DE', 'District of Columbia': 'DC', 'Florida': 'FL', 'Georgia': 'GA', 'Guam': 'GU', 'Hawaii': 'HI', 'Idaho': 'ID', 'Illinois': 'IL', 'Indiana': 'IN', 'Iowa': 'IA', 'Kansas': 'KS', 'Kentucky': 'KY', 'Louisiana': 'LA', 'Maine': 'ME', 'Maryland': 'MD', 'Massachusetts': 'MA', 'Michigan': 'MI', 'Minnesota': 'MN', 'Mississippi': 'MS', 'Missouri': 'MO', 'Montana': 'MT', 'Nebraska': 'NE', 'Nevada': 'NV', 'New Hampshire': 'NH', 'New Jersey': 'NJ', 'New Mexico': 'NM', 'New York': 'NY', 'North Carolina': 'NC', 'North Dakota': 'ND', 'Northern Mariana Islands': 'MP', 'Ohio': 'OH', 'Oklahoma': 'OK', 'Oregon': 'OR', 'Pennsylvania': 'PA', 'Puerto Rico': 'PR', 'Rhode Island': 'RI', 'South Carolina': 'SC', 'South Dakota': 'SD', 'Tennessee': 'TN', 'Texas': 'TX', 'Utah': 'UT', 'Vermont': 'VT', 'Virgin Islands': 'VI', 'Virginia': 'VA', 'Washington': 'WA', 'West Virginia': 'WV', 'Wisconsin': 'WI', 'Wyoming': 'WY'}\n"
          ]
        }
      ]
    },
    {
      "cell_type": "markdown",
      "metadata": {
        "id": "rCjKI5GcxM0z"
      },
      "source": [
        "Add a column with the state abbreviations to the dataframe from the dictionary.\r\n"
      ]
    },
    {
      "cell_type": "code",
      "metadata": {
        "colab": {
          "base_uri": "https://localhost:8080/"
        },
        "id": "YNtlYg2VxUl6",
        "outputId": "ad5c5464-dd40-4d72-f3a6-a82a17e17231"
      },
      "source": [
        "population['state_abbreviation'] = population['State'].map(us_state_abbrev)\n",
        "print(population)\n",
        "population.info()"
      ],
      "execution_count": 12,
      "outputs": [
        {
          "output_type": "stream",
          "name": "stdout",
          "text": [
            "                   State  population_estimate state_abbreviation\n0                 Alaska               734002                 AK\n1                Alabama              4908621                 AL\n2               Arkansas              3038999                 AR\n3                Arizona              7378494                 AZ\n4             California             39937489                 CA\n5               Colorado              5845526                 CO\n6            Connecticut              3563077                 CT\n7   District of Columbia               720687                 DC\n8               Delaware               982895                 DE\n9                Florida             21992985                 FL\n10               Georgia             10736059                 GA\n11                Hawaii              1412687                 HI\n12                  Iowa              3179849                 IA\n13                 Idaho              1826156                 ID\n14              Illinois             12659682                 IL\n15               Indiana              6745354                 IN\n16                Kansas              2910357                 KS\n17              Kentucky              4499692                 KY\n18             Louisiana              4645184                 LA\n19         Massachusetts              6976597                 MA\n20              Maryland              6083116                 MD\n21                 Maine              1345790                 ME\n22              Michigan             10045029                 MI\n23             Minnesota              5700671                 MN\n24              Missouri              6169270                 MO\n25           Mississippi              2989260                 MS\n26               Montana              1086759                 MT\n27        North Carolina             10611862                 NC\n28          North Dakota               761723                 ND\n29              Nebraska              1952570                 NE\n30         New Hampshire              1371246                 NH\n31            New Jersey              8936574                 NJ\n32            New Mexico              2096640                 NM\n33                Nevada              3139658                 NV\n34              New York             19440469                 NY\n35                  Ohio             11747694                 OH\n36              Oklahoma              3954821                 OK\n37                Oregon              4301089                 OR\n38          Pennsylvania             12820878                 PA\n39          Rhode Island              1056161                 RI\n40        South Carolina              5210095                 SC\n41          South Dakota               903027                 SD\n42             Tennessee              6897576                 TN\n43                 Texas             29472295                 TX\n44                  Utah              3282115                 UT\n45              Virginia              8626207                 VA\n46               Vermont               628061                 VT\n47            Washington              7797095                 WA\n48             Wisconsin              5851754                 WI\n49         West Virginia              1778070                 WV\n50               Wyoming               567025                 WY\n<class 'pandas.core.frame.DataFrame'>\nRangeIndex: 51 entries, 0 to 50\nData columns (total 3 columns):\nState                  51 non-null object\npopulation_estimate    51 non-null int64\nstate_abbreviation     51 non-null object\ndtypes: int64(1), object(2)\nmemory usage: 1.3+ KB\n"
          ]
        }
      ]
    },
    {
      "cell_type": "code",
      "metadata": {
        "id": "RUSSc2pQxVKM"
      },
      "source": [
        "# save dataframe\n",
        "population.to_csv(r'us_population_abbreviated_state_name.csv', index = False)"
      ],
      "execution_count": 13,
      "outputs": []
    },
    {
      "cell_type": "code",
      "execution_count": null,
      "metadata": {},
      "outputs": [],
      "source": []
    }
  ]
}