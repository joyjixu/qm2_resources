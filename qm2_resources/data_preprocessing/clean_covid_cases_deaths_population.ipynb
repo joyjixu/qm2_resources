{
  "nbformat": 4,
  "nbformat_minor": 0,
  "metadata": {
    "colab": {
      "name": "clean_covid_cases_deaths_population",
      "provenance": [],
      "authorship_tag": "ABX9TyMA+NzYFCluINAAGBWPNMnF",
      "include_colab_link": true
    },
    "kernelspec": {
      "name": "python3",
      "display_name": "Python 3"
    }
  },
  "cells": [
    {
      "cell_type": "markdown",
      "metadata": {
        "id": "view-in-github",
        "colab_type": "text"
      },
      "source": [
        "<a href=\"https://colab.research.google.com/github/joyjixu/qm2_resources/blob/main/qm2_resources/data_preprocessing/clean_covid_cases_deaths_population.ipynb\" target=\"_parent\"><img src=\"https://colab.research.google.com/assets/colab-badge.svg\" alt=\"Open In Colab\"/></a>"
      ]
    },
    {
      "cell_type": "markdown",
      "metadata": {
        "id": "TGdbQOcgyExB"
      },
      "source": [
        "First, upload the dataset including the Covid-19 deaths and cases into Google Colab.\r\n",
        "Then, Replace the filename with the pathway of the dataset."
      ]
    },
    {
      "cell_type": "code",
      "metadata": {
        "colab": {
          "base_uri": "https://localhost:8080/",
          "height": 383
        },
        "id": "tLuAVVBWweA3",
        "outputId": "ccc5dea4-cc60-4ec0-ea7d-7a17b62a275b"
      },
      "source": [
        "import pandas as pd \r\n",
        "import numpy as np\r\n",
        "df = pd.read_csv(\"/content/United_States_COVID-19_Cases_and_Deaths_by_State_over_Time.csv\") \r\n",
        "df.head()"
      ],
      "execution_count": 1,
      "outputs": [
        {
          "output_type": "execute_result",
          "data": {
            "text/html": [
              "<div>\n",
              "<style scoped>\n",
              "    .dataframe tbody tr th:only-of-type {\n",
              "        vertical-align: middle;\n",
              "    }\n",
              "\n",
              "    .dataframe tbody tr th {\n",
              "        vertical-align: top;\n",
              "    }\n",
              "\n",
              "    .dataframe thead th {\n",
              "        text-align: right;\n",
              "    }\n",
              "</style>\n",
              "<table border=\"1\" class=\"dataframe\">\n",
              "  <thead>\n",
              "    <tr style=\"text-align: right;\">\n",
              "      <th></th>\n",
              "      <th>date</th>\n",
              "      <th>state</th>\n",
              "      <th>tot_cases</th>\n",
              "      <th>conf_cases</th>\n",
              "      <th>prob_cases</th>\n",
              "      <th>new_case</th>\n",
              "      <th>pnew_case</th>\n",
              "      <th>tot_death</th>\n",
              "      <th>conf_death</th>\n",
              "      <th>prob_death</th>\n",
              "      <th>new_death</th>\n",
              "      <th>pnew_death</th>\n",
              "      <th>created_at</th>\n",
              "      <th>consent_cases</th>\n",
              "      <th>consent_deaths</th>\n",
              "    </tr>\n",
              "  </thead>\n",
              "  <tbody>\n",
              "    <tr>\n",
              "      <th>0</th>\n",
              "      <td>01/22/2020</td>\n",
              "      <td>CO</td>\n",
              "      <td>0</td>\n",
              "      <td>NaN</td>\n",
              "      <td>NaN</td>\n",
              "      <td>0</td>\n",
              "      <td>NaN</td>\n",
              "      <td>0</td>\n",
              "      <td>NaN</td>\n",
              "      <td>NaN</td>\n",
              "      <td>0</td>\n",
              "      <td>NaN</td>\n",
              "      <td>03/26/2020 04:22:39 PM</td>\n",
              "      <td>Agree</td>\n",
              "      <td>Agree</td>\n",
              "    </tr>\n",
              "    <tr>\n",
              "      <th>1</th>\n",
              "      <td>01/23/2020</td>\n",
              "      <td>CO</td>\n",
              "      <td>0</td>\n",
              "      <td>NaN</td>\n",
              "      <td>NaN</td>\n",
              "      <td>0</td>\n",
              "      <td>NaN</td>\n",
              "      <td>0</td>\n",
              "      <td>NaN</td>\n",
              "      <td>NaN</td>\n",
              "      <td>0</td>\n",
              "      <td>NaN</td>\n",
              "      <td>03/26/2020 04:22:39 PM</td>\n",
              "      <td>Agree</td>\n",
              "      <td>Agree</td>\n",
              "    </tr>\n",
              "    <tr>\n",
              "      <th>2</th>\n",
              "      <td>01/24/2020</td>\n",
              "      <td>CO</td>\n",
              "      <td>0</td>\n",
              "      <td>NaN</td>\n",
              "      <td>NaN</td>\n",
              "      <td>0</td>\n",
              "      <td>NaN</td>\n",
              "      <td>0</td>\n",
              "      <td>NaN</td>\n",
              "      <td>NaN</td>\n",
              "      <td>0</td>\n",
              "      <td>NaN</td>\n",
              "      <td>03/26/2020 04:22:39 PM</td>\n",
              "      <td>Agree</td>\n",
              "      <td>Agree</td>\n",
              "    </tr>\n",
              "    <tr>\n",
              "      <th>3</th>\n",
              "      <td>01/25/2020</td>\n",
              "      <td>CO</td>\n",
              "      <td>0</td>\n",
              "      <td>NaN</td>\n",
              "      <td>NaN</td>\n",
              "      <td>0</td>\n",
              "      <td>NaN</td>\n",
              "      <td>0</td>\n",
              "      <td>NaN</td>\n",
              "      <td>NaN</td>\n",
              "      <td>0</td>\n",
              "      <td>NaN</td>\n",
              "      <td>03/26/2020 04:22:39 PM</td>\n",
              "      <td>Agree</td>\n",
              "      <td>Agree</td>\n",
              "    </tr>\n",
              "    <tr>\n",
              "      <th>4</th>\n",
              "      <td>01/26/2020</td>\n",
              "      <td>CO</td>\n",
              "      <td>0</td>\n",
              "      <td>NaN</td>\n",
              "      <td>NaN</td>\n",
              "      <td>0</td>\n",
              "      <td>NaN</td>\n",
              "      <td>0</td>\n",
              "      <td>NaN</td>\n",
              "      <td>NaN</td>\n",
              "      <td>0</td>\n",
              "      <td>NaN</td>\n",
              "      <td>03/26/2020 04:22:39 PM</td>\n",
              "      <td>Agree</td>\n",
              "      <td>Agree</td>\n",
              "    </tr>\n",
              "  </tbody>\n",
              "</table>\n",
              "</div>"
            ],
            "text/plain": [
              "         date state  ...  consent_cases  consent_deaths\n",
              "0  01/22/2020    CO  ...          Agree           Agree\n",
              "1  01/23/2020    CO  ...          Agree           Agree\n",
              "2  01/24/2020    CO  ...          Agree           Agree\n",
              "3  01/25/2020    CO  ...          Agree           Agree\n",
              "4  01/26/2020    CO  ...          Agree           Agree\n",
              "\n",
              "[5 rows x 15 columns]"
            ]
          },
          "metadata": {
            "tags": []
          },
          "execution_count": 1
        }
      ]
    },
    {
      "cell_type": "markdown",
      "metadata": {
        "id": "TUsU25gqrLIO"
      },
      "source": [
        "We want to remove the the columns that are unnecessary and clean the data set. We are concerned with the new cases, total cases, new deaths and total deaths."
      ]
    },
    {
      "cell_type": "code",
      "metadata": {
        "colab": {
          "base_uri": "https://localhost:8080/",
          "height": 194
        },
        "id": "vts7OaJ2wjOR",
        "outputId": "2da642ff-74d7-4238-b5a5-6b4560369c77"
      },
      "source": [
        "#remove columns\r\n",
        "to_drop = ['conf_cases','prob_cases','pnew_case','conf_death','prob_death','pnew_death','created_at','consent_cases','consent_deaths']\r\n",
        "df.drop(to_drop, inplace=True, axis=1)\r\n",
        "df.head()"
      ],
      "execution_count": 2,
      "outputs": [
        {
          "output_type": "execute_result",
          "data": {
            "text/html": [
              "<div>\n",
              "<style scoped>\n",
              "    .dataframe tbody tr th:only-of-type {\n",
              "        vertical-align: middle;\n",
              "    }\n",
              "\n",
              "    .dataframe tbody tr th {\n",
              "        vertical-align: top;\n",
              "    }\n",
              "\n",
              "    .dataframe thead th {\n",
              "        text-align: right;\n",
              "    }\n",
              "</style>\n",
              "<table border=\"1\" class=\"dataframe\">\n",
              "  <thead>\n",
              "    <tr style=\"text-align: right;\">\n",
              "      <th></th>\n",
              "      <th>date</th>\n",
              "      <th>state</th>\n",
              "      <th>tot_cases</th>\n",
              "      <th>new_case</th>\n",
              "      <th>tot_death</th>\n",
              "      <th>new_death</th>\n",
              "    </tr>\n",
              "  </thead>\n",
              "  <tbody>\n",
              "    <tr>\n",
              "      <th>0</th>\n",
              "      <td>01/22/2020</td>\n",
              "      <td>CO</td>\n",
              "      <td>0</td>\n",
              "      <td>0</td>\n",
              "      <td>0</td>\n",
              "      <td>0</td>\n",
              "    </tr>\n",
              "    <tr>\n",
              "      <th>1</th>\n",
              "      <td>01/23/2020</td>\n",
              "      <td>CO</td>\n",
              "      <td>0</td>\n",
              "      <td>0</td>\n",
              "      <td>0</td>\n",
              "      <td>0</td>\n",
              "    </tr>\n",
              "    <tr>\n",
              "      <th>2</th>\n",
              "      <td>01/24/2020</td>\n",
              "      <td>CO</td>\n",
              "      <td>0</td>\n",
              "      <td>0</td>\n",
              "      <td>0</td>\n",
              "      <td>0</td>\n",
              "    </tr>\n",
              "    <tr>\n",
              "      <th>3</th>\n",
              "      <td>01/25/2020</td>\n",
              "      <td>CO</td>\n",
              "      <td>0</td>\n",
              "      <td>0</td>\n",
              "      <td>0</td>\n",
              "      <td>0</td>\n",
              "    </tr>\n",
              "    <tr>\n",
              "      <th>4</th>\n",
              "      <td>01/26/2020</td>\n",
              "      <td>CO</td>\n",
              "      <td>0</td>\n",
              "      <td>0</td>\n",
              "      <td>0</td>\n",
              "      <td>0</td>\n",
              "    </tr>\n",
              "  </tbody>\n",
              "</table>\n",
              "</div>"
            ],
            "text/plain": [
              "         date state  tot_cases  new_case  tot_death  new_death\n",
              "0  01/22/2020    CO          0         0          0          0\n",
              "1  01/23/2020    CO          0         0          0          0\n",
              "2  01/24/2020    CO          0         0          0          0\n",
              "3  01/25/2020    CO          0         0          0          0\n",
              "4  01/26/2020    CO          0         0          0          0"
            ]
          },
          "metadata": {
            "tags": []
          },
          "execution_count": 2
        }
      ]
    },
    {
      "cell_type": "markdown",
      "metadata": {
        "id": "XCgPSVabw9dm"
      },
      "source": [
        "We will now remove all the dates for each state, except for the month of April, as this is when we are doing the Sentiment Analysis of Tweets."
      ]
    },
    {
      "cell_type": "code",
      "metadata": {
        "colab": {
          "base_uri": "https://localhost:8080/",
          "height": 194
        },
        "id": "HGuaEMSqwpzI",
        "outputId": "105c3538-639b-4c51-93de-c6b8644ba9b5"
      },
      "source": [
        "#remove dates except for april for each state\r\n",
        "april = df[(df['date'] >= '04/01/2020') & (df['date'] <= '04/30/2020')]\r\n",
        "april.head()"
      ],
      "execution_count": 3,
      "outputs": [
        {
          "output_type": "execute_result",
          "data": {
            "text/html": [
              "<div>\n",
              "<style scoped>\n",
              "    .dataframe tbody tr th:only-of-type {\n",
              "        vertical-align: middle;\n",
              "    }\n",
              "\n",
              "    .dataframe tbody tr th {\n",
              "        vertical-align: top;\n",
              "    }\n",
              "\n",
              "    .dataframe thead th {\n",
              "        text-align: right;\n",
              "    }\n",
              "</style>\n",
              "<table border=\"1\" class=\"dataframe\">\n",
              "  <thead>\n",
              "    <tr style=\"text-align: right;\">\n",
              "      <th></th>\n",
              "      <th>date</th>\n",
              "      <th>state</th>\n",
              "      <th>tot_cases</th>\n",
              "      <th>new_case</th>\n",
              "      <th>tot_death</th>\n",
              "      <th>new_death</th>\n",
              "    </tr>\n",
              "  </thead>\n",
              "  <tbody>\n",
              "    <tr>\n",
              "      <th>70</th>\n",
              "      <td>04/01/2020</td>\n",
              "      <td>CO</td>\n",
              "      <td>3342</td>\n",
              "      <td>376</td>\n",
              "      <td>80</td>\n",
              "      <td>11</td>\n",
              "    </tr>\n",
              "    <tr>\n",
              "      <th>71</th>\n",
              "      <td>04/02/2020</td>\n",
              "      <td>CO</td>\n",
              "      <td>3728</td>\n",
              "      <td>386</td>\n",
              "      <td>97</td>\n",
              "      <td>17</td>\n",
              "    </tr>\n",
              "    <tr>\n",
              "      <th>72</th>\n",
              "      <td>04/03/2020</td>\n",
              "      <td>CO</td>\n",
              "      <td>4173</td>\n",
              "      <td>445</td>\n",
              "      <td>111</td>\n",
              "      <td>14</td>\n",
              "    </tr>\n",
              "    <tr>\n",
              "      <th>73</th>\n",
              "      <td>04/04/2020</td>\n",
              "      <td>CO</td>\n",
              "      <td>4565</td>\n",
              "      <td>392</td>\n",
              "      <td>126</td>\n",
              "      <td>15</td>\n",
              "    </tr>\n",
              "    <tr>\n",
              "      <th>74</th>\n",
              "      <td>04/05/2020</td>\n",
              "      <td>CO</td>\n",
              "      <td>4950</td>\n",
              "      <td>385</td>\n",
              "      <td>140</td>\n",
              "      <td>14</td>\n",
              "    </tr>\n",
              "  </tbody>\n",
              "</table>\n",
              "</div>"
            ],
            "text/plain": [
              "          date state  tot_cases  new_case  tot_death  new_death\n",
              "70  04/01/2020    CO       3342       376         80         11\n",
              "71  04/02/2020    CO       3728       386         97         17\n",
              "72  04/03/2020    CO       4173       445        111         14\n",
              "73  04/04/2020    CO       4565       392        126         15\n",
              "74  04/05/2020    CO       4950       385        140         14"
            ]
          },
          "metadata": {
            "tags": []
          },
          "execution_count": 3
        }
      ]
    },
    {
      "cell_type": "markdown",
      "metadata": {
        "id": "pkswJXO2w_yw"
      },
      "source": [
        "Export the cleaned data set to a csv file."
      ]
    },
    {
      "cell_type": "code",
      "metadata": {
        "id": "xVpwCYacwzKy"
      },
      "source": [
        "#export.csv\r\n",
        "april.to_csv(r'april_covid_deaths_cases.csv', index = False)"
      ],
      "execution_count": 4,
      "outputs": []
    },
    {
      "cell_type": "markdown",
      "metadata": {
        "id": "6iba_YnfxBom"
      },
      "source": [
        "Upload the dataset containing the population of each state for 2020 in each US state. Replace the name with the file path."
      ]
    },
    {
      "cell_type": "code",
      "metadata": {
        "colab": {
          "base_uri": "https://localhost:8080/"
        },
        "id": "Q_kFkohiw6Vm",
        "outputId": "50aee079-05aa-432f-c85a-ed006e760b7e"
      },
      "source": [
        "import pandas as pd \r\n",
        "df = pd.read_csv(\"/content/us_state_population.csv\") \r\n",
        "print(df)"
      ],
      "execution_count": 5,
      "outputs": [
        {
          "output_type": "stream",
          "text": [
            "                   State  Population Estimate (as of July 1 2020)\n",
            "0                 Alaska                                   734002\n",
            "1                Alabama                                  4908621\n",
            "2               Arkansas                                  3038999\n",
            "3                Arizona                                  7378494\n",
            "4             California                                 39937489\n",
            "5               Colorado                                  5845526\n",
            "6            Connecticut                                  3563077\n",
            "7   District of Columbia                                   720687\n",
            "8               Delaware                                   982895\n",
            "9                Florida                                 21992985\n",
            "10               Georgia                                 10736059\n",
            "11                Hawaii                                  1412687\n",
            "12                  Iowa                                  3179849\n",
            "13                 Idaho                                  1826156\n",
            "14              Illinois                                 12659682\n",
            "15               Indiana                                  6745354\n",
            "16                Kansas                                  2910357\n",
            "17              Kentucky                                  4499692\n",
            "18             Louisiana                                  4645184\n",
            "19         Massachusetts                                  6976597\n",
            "20              Maryland                                  6083116\n",
            "21                 Maine                                  1345790\n",
            "22              Michigan                                 10045029\n",
            "23             Minnesota                                  5700671\n",
            "24              Missouri                                  6169270\n",
            "25           Mississippi                                  2989260\n",
            "26               Montana                                  1086759\n",
            "27        North Carolina                                 10611862\n",
            "28          North Dakota                                   761723\n",
            "29              Nebraska                                  1952570\n",
            "30         New Hampshire                                  1371246\n",
            "31            New Jersey                                  8936574\n",
            "32            New Mexico                                  2096640\n",
            "33                Nevada                                  3139658\n",
            "34              New York                                 19440469\n",
            "35                  Ohio                                 11747694\n",
            "36              Oklahoma                                  3954821\n",
            "37                Oregon                                  4301089\n",
            "38          Pennsylvania                                 12820878\n",
            "39          Rhode Island                                  1056161\n",
            "40        South Carolina                                  5210095\n",
            "41          South Dakota                                   903027\n",
            "42             Tennessee                                  6897576\n",
            "43                 Texas                                 29472295\n",
            "44                  Utah                                  3282115\n",
            "45              Virginia                                  8626207\n",
            "46               Vermont                                   628061\n",
            "47            Washington                                  7797095\n",
            "48             Wisconsin                                  5851754\n",
            "49         West Virginia                                  1778070\n",
            "50               Wyoming                                   567025\n"
          ],
          "name": "stdout"
        }
      ]
    },
    {
      "cell_type": "markdown",
      "metadata": {
        "id": "LMvc1zXsxHgX"
      },
      "source": [
        "The following is a dictionary sourced from a GitHub repository with the abbreviated names for each state."
      ]
    },
    {
      "cell_type": "code",
      "metadata": {
        "colab": {
          "base_uri": "https://localhost:8080/"
        },
        "id": "JBB5BnWAxNVM",
        "outputId": "0068be28-f808-4ac3-f419-fba37133cf43"
      },
      "source": [
        "# United States of America Python Dictionary to translate States,\r\n",
        "# Districts & Territories to Two-Letter codes and vice versa.\r\n",
        "#\r\n",
        "# https://gist.github.com/rogerallen/1583593\r\n",
        "#\r\n",
        "# Dedicated to the public domain.  To the extent possible under law,\r\n",
        "# Roger Allen has waived all copyright and related or neighboring\r\n",
        "# rights to this code.\r\n",
        "\r\n",
        "us_state_abbrev = {\r\n",
        "    'Alabama': 'AL',\r\n",
        "    'Alaska': 'AK',\r\n",
        "    'American Samoa': 'AS',\r\n",
        "    'Arizona': 'AZ',\r\n",
        "    'Arkansas': 'AR',\r\n",
        "    'California': 'CA',\r\n",
        "    'Colorado': 'CO',\r\n",
        "    'Connecticut': 'CT',\r\n",
        "    'Delaware': 'DE',\r\n",
        "    'District of Columbia': 'DC',\r\n",
        "    'Florida': 'FL',\r\n",
        "    'Georgia': 'GA',\r\n",
        "    'Guam': 'GU',\r\n",
        "    'Hawaii': 'HI',\r\n",
        "    'Idaho': 'ID',\r\n",
        "    'Illinois': 'IL',\r\n",
        "    'Indiana': 'IN',\r\n",
        "    'Iowa': 'IA',\r\n",
        "    'Kansas': 'KS',\r\n",
        "    'Kentucky': 'KY',\r\n",
        "    'Louisiana': 'LA',\r\n",
        "    'Maine': 'ME',\r\n",
        "    'Maryland': 'MD',\r\n",
        "    'Massachusetts': 'MA',\r\n",
        "    'Michigan': 'MI',\r\n",
        "    'Minnesota': 'MN',\r\n",
        "    'Mississippi': 'MS',\r\n",
        "    'Missouri': 'MO',\r\n",
        "    'Montana': 'MT',\r\n",
        "    'Nebraska': 'NE',\r\n",
        "    'Nevada': 'NV',\r\n",
        "    'New Hampshire': 'NH',\r\n",
        "    'New Jersey': 'NJ',\r\n",
        "    'New Mexico': 'NM',\r\n",
        "    'New York': 'NY',\r\n",
        "    'North Carolina': 'NC',\r\n",
        "    'North Dakota': 'ND',\r\n",
        "    'Northern Mariana Islands':'MP',\r\n",
        "    'Ohio': 'OH',\r\n",
        "    'Oklahoma': 'OK',\r\n",
        "    'Oregon': 'OR',\r\n",
        "    'Pennsylvania': 'PA',\r\n",
        "    'Puerto Rico': 'PR',\r\n",
        "    'Rhode Island': 'RI',\r\n",
        "    'South Carolina': 'SC',\r\n",
        "    'South Dakota': 'SD',\r\n",
        "    'Tennessee': 'TN',\r\n",
        "    'Texas': 'TX',\r\n",
        "    'Utah': 'UT',\r\n",
        "    'Vermont': 'VT',\r\n",
        "    'Virgin Islands': 'VI',\r\n",
        "    'Virginia': 'VA',\r\n",
        "    'Washington': 'WA',\r\n",
        "    'West Virginia': 'WV',\r\n",
        "    'Wisconsin': 'WI',\r\n",
        "    'Wyoming': 'WY'\r\n",
        "}\r\n",
        "print(us_state_abbrev)"
      ],
      "execution_count": 7,
      "outputs": [
        {
          "output_type": "stream",
          "text": [
            "{'Alabama': 'AL', 'Alaska': 'AK', 'American Samoa': 'AS', 'Arizona': 'AZ', 'Arkansas': 'AR', 'California': 'CA', 'Colorado': 'CO', 'Connecticut': 'CT', 'Delaware': 'DE', 'District of Columbia': 'DC', 'Florida': 'FL', 'Georgia': 'GA', 'Guam': 'GU', 'Hawaii': 'HI', 'Idaho': 'ID', 'Illinois': 'IL', 'Indiana': 'IN', 'Iowa': 'IA', 'Kansas': 'KS', 'Kentucky': 'KY', 'Louisiana': 'LA', 'Maine': 'ME', 'Maryland': 'MD', 'Massachusetts': 'MA', 'Michigan': 'MI', 'Minnesota': 'MN', 'Mississippi': 'MS', 'Missouri': 'MO', 'Montana': 'MT', 'Nebraska': 'NE', 'Nevada': 'NV', 'New Hampshire': 'NH', 'New Jersey': 'NJ', 'New Mexico': 'NM', 'New York': 'NY', 'North Carolina': 'NC', 'North Dakota': 'ND', 'Northern Mariana Islands': 'MP', 'Ohio': 'OH', 'Oklahoma': 'OK', 'Oregon': 'OR', 'Pennsylvania': 'PA', 'Puerto Rico': 'PR', 'Rhode Island': 'RI', 'South Carolina': 'SC', 'South Dakota': 'SD', 'Tennessee': 'TN', 'Texas': 'TX', 'Utah': 'UT', 'Vermont': 'VT', 'Virgin Islands': 'VI', 'Virginia': 'VA', 'Washington': 'WA', 'West Virginia': 'WV', 'Wisconsin': 'WI', 'Wyoming': 'WY'}\n"
          ],
          "name": "stdout"
        }
      ]
    },
    {
      "cell_type": "markdown",
      "metadata": {
        "id": "rCjKI5GcxM0z"
      },
      "source": [
        "Add a column with the state abbreviations to the dataframe from the dictionary.\r\n"
      ]
    },
    {
      "cell_type": "code",
      "metadata": {
        "colab": {
          "base_uri": "https://localhost:8080/"
        },
        "id": "YNtlYg2VxUl6",
        "outputId": "de0127fe-216f-4d86-a994-9a9838049087"
      },
      "source": [
        "df['state abbreviation'] = df['State'].map(us_state_abbrev)\r\n",
        "print(df)"
      ],
      "execution_count": 8,
      "outputs": [
        {
          "output_type": "stream",
          "text": [
            "                   State  ...  state abbreviation\n",
            "0                 Alaska  ...                  AK\n",
            "1                Alabama  ...                  AL\n",
            "2               Arkansas  ...                  AR\n",
            "3                Arizona  ...                  AZ\n",
            "4             California  ...                  CA\n",
            "5               Colorado  ...                  CO\n",
            "6            Connecticut  ...                  CT\n",
            "7   District of Columbia  ...                  DC\n",
            "8               Delaware  ...                  DE\n",
            "9                Florida  ...                  FL\n",
            "10               Georgia  ...                  GA\n",
            "11                Hawaii  ...                  HI\n",
            "12                  Iowa  ...                  IA\n",
            "13                 Idaho  ...                  ID\n",
            "14              Illinois  ...                  IL\n",
            "15               Indiana  ...                  IN\n",
            "16                Kansas  ...                  KS\n",
            "17              Kentucky  ...                  KY\n",
            "18             Louisiana  ...                  LA\n",
            "19         Massachusetts  ...                  MA\n",
            "20              Maryland  ...                  MD\n",
            "21                 Maine  ...                  ME\n",
            "22              Michigan  ...                  MI\n",
            "23             Minnesota  ...                  MN\n",
            "24              Missouri  ...                  MO\n",
            "25           Mississippi  ...                  MS\n",
            "26               Montana  ...                  MT\n",
            "27        North Carolina  ...                  NC\n",
            "28          North Dakota  ...                  ND\n",
            "29              Nebraska  ...                  NE\n",
            "30         New Hampshire  ...                  NH\n",
            "31            New Jersey  ...                  NJ\n",
            "32            New Mexico  ...                  NM\n",
            "33                Nevada  ...                  NV\n",
            "34              New York  ...                  NY\n",
            "35                  Ohio  ...                  OH\n",
            "36              Oklahoma  ...                  OK\n",
            "37                Oregon  ...                  OR\n",
            "38          Pennsylvania  ...                  PA\n",
            "39          Rhode Island  ...                  RI\n",
            "40        South Carolina  ...                  SC\n",
            "41          South Dakota  ...                  SD\n",
            "42             Tennessee  ...                  TN\n",
            "43                 Texas  ...                  TX\n",
            "44                  Utah  ...                  UT\n",
            "45              Virginia  ...                  VA\n",
            "46               Vermont  ...                  VT\n",
            "47            Washington  ...                  WA\n",
            "48             Wisconsin  ...                  WI\n",
            "49         West Virginia  ...                  WV\n",
            "50               Wyoming  ...                  WY\n",
            "\n",
            "[51 rows x 3 columns]\n"
          ],
          "name": "stdout"
        }
      ]
    },
    {
      "cell_type": "code",
      "metadata": {
        "id": "RUSSc2pQxVKM"
      },
      "source": [
        "df.to_csv(r'us_population_abbreviated_state_name', index = False)"
      ],
      "execution_count": 9,
      "outputs": []
    }
  ]
}