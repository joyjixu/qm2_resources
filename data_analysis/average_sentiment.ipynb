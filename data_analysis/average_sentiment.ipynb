{
 "metadata": {
  "language_info": {
   "codemirror_mode": {
    "name": "ipython",
    "version": 3
   },
   "file_extension": ".py",
   "mimetype": "text/x-python",
   "name": "python",
   "nbconvert_exporter": "python",
   "pygments_lexer": "ipython3",
   "version": "3.7.4-final"
  },
  "orig_nbformat": 2,
  "kernelspec": {
   "name": "python3",
   "display_name": "Python 3",
   "language": "python"
  }
 },
 "nbformat": 4,
 "nbformat_minor": 2,
 "cells": [
  {
   "source": [
    "# Get daily average tweet sentiment for all states\n",
    "* input: csv of sentiment analysed tweets for a day\n",
    "* output: a csv of the average tweet sentiment for each state on that day"
   ],
   "cell_type": "markdown",
   "metadata": {}
  },
  {
   "source": [
    "# importing libraries\n",
    "import pandas as pd"
   ],
   "cell_type": "code",
   "metadata": {},
   "execution_count": 1,
   "outputs": []
  },
  {
   "cell_type": "code",
   "execution_count": 2,
   "metadata": {},
   "outputs": [],
   "source": [
    "# configuring the day\n",
    "day = '26' #format dd"
   ]
  },
  {
   "cell_type": "code",
   "execution_count": 75,
   "metadata": {},
   "outputs": [
    {
     "output_type": "execute_result",
     "data": {
      "text/plain": [
       "      coordinates                      created_at hashtags media  \\\n",
       "0             NaN  Sun Apr 26 00:04:08 +0000 2020      NaN   NaN   \n",
       "1             NaN  Sun Apr 26 00:04:07 +0000 2020      NaN   NaN   \n",
       "2             NaN  Sun Apr 26 00:04:07 +0000 2020      NaN   NaN   \n",
       "3             NaN  Sun Apr 26 00:04:07 +0000 2020      NaN   NaN   \n",
       "4             NaN  Sun Apr 26 00:04:07 +0000 2020      NaN   NaN   \n",
       "...           ...                             ...      ...   ...   \n",
       "51917         NaN  Sun Apr 26 23:47:11 +0000 2020      NaN   NaN   \n",
       "51918         NaN  Sun Apr 26 23:47:11 +0000 2020      NaN   NaN   \n",
       "51919         NaN  Sun Apr 26 23:47:10 +0000 2020      NaN   NaN   \n",
       "51920         NaN  Sun Apr 26 23:47:10 +0000 2020      NaN   NaN   \n",
       "51921         NaN  Sun Apr 26 23:47:11 +0000 2020      NaN   NaN   \n",
       "\n",
       "                                                    urls favorite_count  \\\n",
       "0                                                    NaN              0   \n",
       "1                           https://on.msnbc.com/2VDdSnW              0   \n",
       "2                                                    NaN              0   \n",
       "3                                                    NaN              0   \n",
       "4                                                    NaN              0   \n",
       "...                                                  ...            ...   \n",
       "51917  https://twitter.com/balajis/status/12544670385...              0   \n",
       "51918  https://twitter.com/Kate3015/status/1254557213...              1   \n",
       "51919                                                NaN              0   \n",
       "51920  https://thepointsguy.com/news/delta-parking-a3...              0   \n",
       "51921                                                NaN              0   \n",
       "\n",
       "                        id in_reply_to_screen_name  in_reply_to_status_id  \\\n",
       "0      1254199547468922880                     NaN                    NaN   \n",
       "1      1254199542217691136                     NaN                    NaN   \n",
       "2      1254199544159416320                     NaN                    NaN   \n",
       "3      1254199543790538757                     NaN                    NaN   \n",
       "4      1254199543425425408                     NaN                    NaN   \n",
       "...                    ...                     ...                    ...   \n",
       "51917  1254557669756526592                     NaN                    NaN   \n",
       "51918  1254557667265216512                     NaN                    NaN   \n",
       "51919  1254557666233458688                     NaN                    NaN   \n",
       "51920  1254557666371940357                     NaN                    NaN   \n",
       "51921  1254557667386851331                     NaN                    NaN   \n",
       "\n",
       "       in_reply_to_user_id  ...                  user_name user_screen_name.1  \\\n",
       "0                      NaN  ...  President-Elect JerseyDan        JerseyDan67   \n",
       "1                      NaN  ...                       Edge          czarbucks   \n",
       "2                      NaN  ...                Julie Sirrs         JulieSirrs   \n",
       "3                      NaN  ...    Me Ã°Å¸â€™â€¹Ã°Å¸â€™â€¹    THE_Nasty_Woman   \n",
       "4                      NaN  ...                      WildZ             LoysaZ   \n",
       "...                    ...  ...                        ...                ...   \n",
       "51917                  NaN  ...               Daniel March     TheDanielMarch   \n",
       "51918                  NaN  ...                   OHarriet           OHarriet   \n",
       "51919                  NaN  ...                        Zee             ZazuSz   \n",
       "51920                  NaN  ...       AirlineDispatcherFed    AirlineDispatch   \n",
       "51921                  NaN  ...    President Elect Katia17           katmat57   \n",
       "\n",
       "      user_statuses_count user_time_zone                  user_urls  \\\n",
       "0                130756.0            NaN                        NaN   \n",
       "1                 56553.0            NaN                        NaN   \n",
       "2                111372.0            NaN                        NaN   \n",
       "3                157502.0            NaN                        NaN   \n",
       "4                168722.0            NaN                        NaN   \n",
       "...                   ...            ...                        ...   \n",
       "51917             52927.0            NaN                        NaN   \n",
       "51918              6659.0            NaN                        NaN   \n",
       "51919             16311.0            NaN                        NaN   \n",
       "51920              1183.0            NaN  http://www.dispatcher.org   \n",
       "51921             34017.0            NaN                        NaN   \n",
       "\n",
       "      user_verified is_state state sentiment magnitude  \n",
       "0             False     True    NJ      -0.1       1.1  \n",
       "1             False     True    NC       0.1       0.4  \n",
       "2             False     True    MT      -0.4       0.8  \n",
       "3             False     True    MA      -0.4       0.9  \n",
       "4             False     True    CO      -0.7       0.7  \n",
       "...             ...      ...   ...       ...       ...  \n",
       "51917         False     True    ID      -0.3       2.5  \n",
       "51918         False     True    OH       0.1       0.1  \n",
       "51919         False     True    MA      -0.1       0.1  \n",
       "51920         False     True    WA       0.2       0.2  \n",
       "51921         False     True    CT      -0.2       0.4  \n",
       "\n",
       "[51922 rows x 38 columns]"
      ],
      "text/html": "<div>\n<style scoped>\n    .dataframe tbody tr th:only-of-type {\n        vertical-align: middle;\n    }\n\n    .dataframe tbody tr th {\n        vertical-align: top;\n    }\n\n    .dataframe thead th {\n        text-align: right;\n    }\n</style>\n<table border=\"1\" class=\"dataframe\">\n  <thead>\n    <tr style=\"text-align: right;\">\n      <th></th>\n      <th>coordinates</th>\n      <th>created_at</th>\n      <th>hashtags</th>\n      <th>media</th>\n      <th>urls</th>\n      <th>favorite_count</th>\n      <th>id</th>\n      <th>in_reply_to_screen_name</th>\n      <th>in_reply_to_status_id</th>\n      <th>in_reply_to_user_id</th>\n      <th>...</th>\n      <th>user_name</th>\n      <th>user_screen_name.1</th>\n      <th>user_statuses_count</th>\n      <th>user_time_zone</th>\n      <th>user_urls</th>\n      <th>user_verified</th>\n      <th>is_state</th>\n      <th>state</th>\n      <th>sentiment</th>\n      <th>magnitude</th>\n    </tr>\n  </thead>\n  <tbody>\n    <tr>\n      <td>0</td>\n      <td>NaN</td>\n      <td>Sun Apr 26 00:04:08 +0000 2020</td>\n      <td>NaN</td>\n      <td>NaN</td>\n      <td>NaN</td>\n      <td>0</td>\n      <td>1254199547468922880</td>\n      <td>NaN</td>\n      <td>NaN</td>\n      <td>NaN</td>\n      <td>...</td>\n      <td>President-Elect JerseyDan</td>\n      <td>JerseyDan67</td>\n      <td>130756.0</td>\n      <td>NaN</td>\n      <td>NaN</td>\n      <td>False</td>\n      <td>True</td>\n      <td>NJ</td>\n      <td>-0.1</td>\n      <td>1.1</td>\n    </tr>\n    <tr>\n      <td>1</td>\n      <td>NaN</td>\n      <td>Sun Apr 26 00:04:07 +0000 2020</td>\n      <td>NaN</td>\n      <td>NaN</td>\n      <td>https://on.msnbc.com/2VDdSnW</td>\n      <td>0</td>\n      <td>1254199542217691136</td>\n      <td>NaN</td>\n      <td>NaN</td>\n      <td>NaN</td>\n      <td>...</td>\n      <td>Edge</td>\n      <td>czarbucks</td>\n      <td>56553.0</td>\n      <td>NaN</td>\n      <td>NaN</td>\n      <td>False</td>\n      <td>True</td>\n      <td>NC</td>\n      <td>0.1</td>\n      <td>0.4</td>\n    </tr>\n    <tr>\n      <td>2</td>\n      <td>NaN</td>\n      <td>Sun Apr 26 00:04:07 +0000 2020</td>\n      <td>NaN</td>\n      <td>NaN</td>\n      <td>NaN</td>\n      <td>0</td>\n      <td>1254199544159416320</td>\n      <td>NaN</td>\n      <td>NaN</td>\n      <td>NaN</td>\n      <td>...</td>\n      <td>Julie Sirrs</td>\n      <td>JulieSirrs</td>\n      <td>111372.0</td>\n      <td>NaN</td>\n      <td>NaN</td>\n      <td>False</td>\n      <td>True</td>\n      <td>MT</td>\n      <td>-0.4</td>\n      <td>0.8</td>\n    </tr>\n    <tr>\n      <td>3</td>\n      <td>NaN</td>\n      <td>Sun Apr 26 00:04:07 +0000 2020</td>\n      <td>NaN</td>\n      <td>NaN</td>\n      <td>NaN</td>\n      <td>0</td>\n      <td>1254199543790538757</td>\n      <td>NaN</td>\n      <td>NaN</td>\n      <td>NaN</td>\n      <td>...</td>\n      <td>Me Ã°Å¸â€™â€¹Ã°Å¸â€™â€¹</td>\n      <td>THE_Nasty_Woman</td>\n      <td>157502.0</td>\n      <td>NaN</td>\n      <td>NaN</td>\n      <td>False</td>\n      <td>True</td>\n      <td>MA</td>\n      <td>-0.4</td>\n      <td>0.9</td>\n    </tr>\n    <tr>\n      <td>4</td>\n      <td>NaN</td>\n      <td>Sun Apr 26 00:04:07 +0000 2020</td>\n      <td>NaN</td>\n      <td>NaN</td>\n      <td>NaN</td>\n      <td>0</td>\n      <td>1254199543425425408</td>\n      <td>NaN</td>\n      <td>NaN</td>\n      <td>NaN</td>\n      <td>...</td>\n      <td>WildZ</td>\n      <td>LoysaZ</td>\n      <td>168722.0</td>\n      <td>NaN</td>\n      <td>NaN</td>\n      <td>False</td>\n      <td>True</td>\n      <td>CO</td>\n      <td>-0.7</td>\n      <td>0.7</td>\n    </tr>\n    <tr>\n      <td>...</td>\n      <td>...</td>\n      <td>...</td>\n      <td>...</td>\n      <td>...</td>\n      <td>...</td>\n      <td>...</td>\n      <td>...</td>\n      <td>...</td>\n      <td>...</td>\n      <td>...</td>\n      <td>...</td>\n      <td>...</td>\n      <td>...</td>\n      <td>...</td>\n      <td>...</td>\n      <td>...</td>\n      <td>...</td>\n      <td>...</td>\n      <td>...</td>\n      <td>...</td>\n      <td>...</td>\n    </tr>\n    <tr>\n      <td>51917</td>\n      <td>NaN</td>\n      <td>Sun Apr 26 23:47:11 +0000 2020</td>\n      <td>NaN</td>\n      <td>NaN</td>\n      <td>https://twitter.com/balajis/status/12544670385...</td>\n      <td>0</td>\n      <td>1254557669756526592</td>\n      <td>NaN</td>\n      <td>NaN</td>\n      <td>NaN</td>\n      <td>...</td>\n      <td>Daniel March</td>\n      <td>TheDanielMarch</td>\n      <td>52927.0</td>\n      <td>NaN</td>\n      <td>NaN</td>\n      <td>False</td>\n      <td>True</td>\n      <td>ID</td>\n      <td>-0.3</td>\n      <td>2.5</td>\n    </tr>\n    <tr>\n      <td>51918</td>\n      <td>NaN</td>\n      <td>Sun Apr 26 23:47:11 +0000 2020</td>\n      <td>NaN</td>\n      <td>NaN</td>\n      <td>https://twitter.com/Kate3015/status/1254557213...</td>\n      <td>1</td>\n      <td>1254557667265216512</td>\n      <td>NaN</td>\n      <td>NaN</td>\n      <td>NaN</td>\n      <td>...</td>\n      <td>OHarriet</td>\n      <td>OHarriet</td>\n      <td>6659.0</td>\n      <td>NaN</td>\n      <td>NaN</td>\n      <td>False</td>\n      <td>True</td>\n      <td>OH</td>\n      <td>0.1</td>\n      <td>0.1</td>\n    </tr>\n    <tr>\n      <td>51919</td>\n      <td>NaN</td>\n      <td>Sun Apr 26 23:47:10 +0000 2020</td>\n      <td>NaN</td>\n      <td>NaN</td>\n      <td>NaN</td>\n      <td>0</td>\n      <td>1254557666233458688</td>\n      <td>NaN</td>\n      <td>NaN</td>\n      <td>NaN</td>\n      <td>...</td>\n      <td>Zee</td>\n      <td>ZazuSz</td>\n      <td>16311.0</td>\n      <td>NaN</td>\n      <td>NaN</td>\n      <td>False</td>\n      <td>True</td>\n      <td>MA</td>\n      <td>-0.1</td>\n      <td>0.1</td>\n    </tr>\n    <tr>\n      <td>51920</td>\n      <td>NaN</td>\n      <td>Sun Apr 26 23:47:10 +0000 2020</td>\n      <td>NaN</td>\n      <td>NaN</td>\n      <td>https://thepointsguy.com/news/delta-parking-a3...</td>\n      <td>0</td>\n      <td>1254557666371940357</td>\n      <td>NaN</td>\n      <td>NaN</td>\n      <td>NaN</td>\n      <td>...</td>\n      <td>AirlineDispatcherFed</td>\n      <td>AirlineDispatch</td>\n      <td>1183.0</td>\n      <td>NaN</td>\n      <td>http://www.dispatcher.org</td>\n      <td>False</td>\n      <td>True</td>\n      <td>WA</td>\n      <td>0.2</td>\n      <td>0.2</td>\n    </tr>\n    <tr>\n      <td>51921</td>\n      <td>NaN</td>\n      <td>Sun Apr 26 23:47:11 +0000 2020</td>\n      <td>NaN</td>\n      <td>NaN</td>\n      <td>NaN</td>\n      <td>0</td>\n      <td>1254557667386851331</td>\n      <td>NaN</td>\n      <td>NaN</td>\n      <td>NaN</td>\n      <td>...</td>\n      <td>President Elect Katia17</td>\n      <td>katmat57</td>\n      <td>34017.0</td>\n      <td>NaN</td>\n      <td>NaN</td>\n      <td>False</td>\n      <td>True</td>\n      <td>CT</td>\n      <td>-0.2</td>\n      <td>0.4</td>\n    </tr>\n  </tbody>\n</table>\n<p>51922 rows × 38 columns</p>\n</div>"
     },
     "metadata": {},
     "execution_count": 75
    }
   ],
   "source": [
    "# The code below imports the csv of tweets into a pandas dataframe\n",
    "path_sentiment_tweets = 'covid_sentiment_daily_04_{}.csv'.format(day)\n",
    "\n",
    "sentiment_covid = pd.read_csv(path_sentiment_tweets, engine='python')\n",
    "sentiment_covid"
   ]
  },
  {
   "source": [
    "We now need to group the tweets by state using pandas.groupby() and then get the mean of each group. the output is a pandas series, so we convert it to a dataframe to be able to add more columns"
   ],
   "cell_type": "markdown",
   "metadata": {}
  },
  {
   "cell_type": "code",
   "execution_count": 76,
   "metadata": {},
   "outputs": [],
   "source": [
    "average_state_sentiment = sentiment_covid.groupby('state')['sentiment'].mean()\n",
    "\n",
    "# convert to dataframe \n",
    "average_state_sentiment= average_state_sentiment.to_frame() "
   ]
  },
  {
   "source": [
    "Next we add the average magnitude for each state as well"
   ],
   "cell_type": "markdown",
   "metadata": {}
  },
  {
   "cell_type": "code",
   "execution_count": 77,
   "metadata": {},
   "outputs": [
    {
     "output_type": "stream",
     "name": "stdout",
     "text": [
      "<class 'pandas.core.frame.DataFrame'>\nRangeIndex: 50 entries, 0 to 49\nData columns (total 3 columns):\nsentiment    50 non-null float64\nmagnitude    50 non-null float64\nstate        50 non-null object\ndtypes: float64(2), object(1)\nmemory usage: 1.3+ KB\n"
     ]
    },
    {
     "output_type": "execute_result",
     "data": {
      "text/plain": [
       "    sentiment  magnitude state\n",
       "0   -0.201456   0.697087    AK\n",
       "1   -0.159065   0.625794    AL\n",
       "2   -0.202817   0.667606    AR\n",
       "3   -0.176443   0.684789    AZ\n",
       "4   -0.173251   0.690466    CA\n",
       "5   -0.187910   0.681665    CO\n",
       "6   -0.168094   0.677730    CT\n",
       "7   -0.037500   0.692500    DC\n",
       "8   -0.175000   0.638776    DE\n",
       "9   -0.190835   0.669079    FL\n",
       "10  -0.182464   0.655766    GA\n",
       "11  -0.142553   0.593972    HI\n",
       "12  -0.196262   0.675234    IA\n",
       "13  -0.205622   0.700402    ID\n",
       "14  -0.171897   0.686436    IL\n",
       "15  -0.171720   0.705161    IN\n",
       "16  -0.179656   0.695462    KS\n",
       "17  -0.176248   0.681583    KY\n",
       "18  -0.197763   0.663535    LA\n",
       "19  -0.192542   0.682260    MA\n",
       "20  -0.185335   0.664203    MD\n",
       "21  -0.170605   0.668876    ME\n",
       "22  -0.178904   0.663539    MI\n",
       "23  -0.172488   0.691190    MN\n",
       "24  -0.196000   0.687636    MO\n",
       "25  -0.142353   0.632941    MS\n",
       "26  -0.174302   0.671508    MT\n",
       "27  -0.177666   0.676574    NC\n",
       "28  -0.154412   0.814706    ND\n",
       "29  -0.190164   0.664481    NE\n",
       "30  -0.165596   0.678440    NH\n",
       "31  -0.166164   0.668350    NJ\n",
       "32  -0.146324   0.669118    NM\n",
       "33  -0.190981   0.694430    NV\n",
       "34  -0.135600   0.637766    NY\n",
       "35  -0.177604   0.677025    OH\n",
       "36  -0.205567   0.674950    OK\n",
       "37  -0.182621   0.691629    OR\n",
       "38  -0.176897   0.691243    PA\n",
       "39  -0.142754   0.707971    RI\n",
       "40  -0.204323   0.695489    SC\n",
       "41  -0.161818   0.716364    SD\n",
       "42  -0.186667   0.665989    TN\n",
       "43  -0.185138   0.665080    TX\n",
       "44  -0.158781   0.663082    UT\n",
       "45  -0.192698   0.685396    VA\n",
       "46  -0.177500   0.719167    VT\n",
       "47  -0.133323   0.641283    WA\n",
       "48  -0.193098   0.710890    WI\n",
       "49  -0.200000   0.715294    WY"
      ],
      "text/html": "<div>\n<style scoped>\n    .dataframe tbody tr th:only-of-type {\n        vertical-align: middle;\n    }\n\n    .dataframe tbody tr th {\n        vertical-align: top;\n    }\n\n    .dataframe thead th {\n        text-align: right;\n    }\n</style>\n<table border=\"1\" class=\"dataframe\">\n  <thead>\n    <tr style=\"text-align: right;\">\n      <th></th>\n      <th>sentiment</th>\n      <th>magnitude</th>\n      <th>state</th>\n    </tr>\n  </thead>\n  <tbody>\n    <tr>\n      <td>0</td>\n      <td>-0.201456</td>\n      <td>0.697087</td>\n      <td>AK</td>\n    </tr>\n    <tr>\n      <td>1</td>\n      <td>-0.159065</td>\n      <td>0.625794</td>\n      <td>AL</td>\n    </tr>\n    <tr>\n      <td>2</td>\n      <td>-0.202817</td>\n      <td>0.667606</td>\n      <td>AR</td>\n    </tr>\n    <tr>\n      <td>3</td>\n      <td>-0.176443</td>\n      <td>0.684789</td>\n      <td>AZ</td>\n    </tr>\n    <tr>\n      <td>4</td>\n      <td>-0.173251</td>\n      <td>0.690466</td>\n      <td>CA</td>\n    </tr>\n    <tr>\n      <td>5</td>\n      <td>-0.187910</td>\n      <td>0.681665</td>\n      <td>CO</td>\n    </tr>\n    <tr>\n      <td>6</td>\n      <td>-0.168094</td>\n      <td>0.677730</td>\n      <td>CT</td>\n    </tr>\n    <tr>\n      <td>7</td>\n      <td>-0.037500</td>\n      <td>0.692500</td>\n      <td>DC</td>\n    </tr>\n    <tr>\n      <td>8</td>\n      <td>-0.175000</td>\n      <td>0.638776</td>\n      <td>DE</td>\n    </tr>\n    <tr>\n      <td>9</td>\n      <td>-0.190835</td>\n      <td>0.669079</td>\n      <td>FL</td>\n    </tr>\n    <tr>\n      <td>10</td>\n      <td>-0.182464</td>\n      <td>0.655766</td>\n      <td>GA</td>\n    </tr>\n    <tr>\n      <td>11</td>\n      <td>-0.142553</td>\n      <td>0.593972</td>\n      <td>HI</td>\n    </tr>\n    <tr>\n      <td>12</td>\n      <td>-0.196262</td>\n      <td>0.675234</td>\n      <td>IA</td>\n    </tr>\n    <tr>\n      <td>13</td>\n      <td>-0.205622</td>\n      <td>0.700402</td>\n      <td>ID</td>\n    </tr>\n    <tr>\n      <td>14</td>\n      <td>-0.171897</td>\n      <td>0.686436</td>\n      <td>IL</td>\n    </tr>\n    <tr>\n      <td>15</td>\n      <td>-0.171720</td>\n      <td>0.705161</td>\n      <td>IN</td>\n    </tr>\n    <tr>\n      <td>16</td>\n      <td>-0.179656</td>\n      <td>0.695462</td>\n      <td>KS</td>\n    </tr>\n    <tr>\n      <td>17</td>\n      <td>-0.176248</td>\n      <td>0.681583</td>\n      <td>KY</td>\n    </tr>\n    <tr>\n      <td>18</td>\n      <td>-0.197763</td>\n      <td>0.663535</td>\n      <td>LA</td>\n    </tr>\n    <tr>\n      <td>19</td>\n      <td>-0.192542</td>\n      <td>0.682260</td>\n      <td>MA</td>\n    </tr>\n    <tr>\n      <td>20</td>\n      <td>-0.185335</td>\n      <td>0.664203</td>\n      <td>MD</td>\n    </tr>\n    <tr>\n      <td>21</td>\n      <td>-0.170605</td>\n      <td>0.668876</td>\n      <td>ME</td>\n    </tr>\n    <tr>\n      <td>22</td>\n      <td>-0.178904</td>\n      <td>0.663539</td>\n      <td>MI</td>\n    </tr>\n    <tr>\n      <td>23</td>\n      <td>-0.172488</td>\n      <td>0.691190</td>\n      <td>MN</td>\n    </tr>\n    <tr>\n      <td>24</td>\n      <td>-0.196000</td>\n      <td>0.687636</td>\n      <td>MO</td>\n    </tr>\n    <tr>\n      <td>25</td>\n      <td>-0.142353</td>\n      <td>0.632941</td>\n      <td>MS</td>\n    </tr>\n    <tr>\n      <td>26</td>\n      <td>-0.174302</td>\n      <td>0.671508</td>\n      <td>MT</td>\n    </tr>\n    <tr>\n      <td>27</td>\n      <td>-0.177666</td>\n      <td>0.676574</td>\n      <td>NC</td>\n    </tr>\n    <tr>\n      <td>28</td>\n      <td>-0.154412</td>\n      <td>0.814706</td>\n      <td>ND</td>\n    </tr>\n    <tr>\n      <td>29</td>\n      <td>-0.190164</td>\n      <td>0.664481</td>\n      <td>NE</td>\n    </tr>\n    <tr>\n      <td>30</td>\n      <td>-0.165596</td>\n      <td>0.678440</td>\n      <td>NH</td>\n    </tr>\n    <tr>\n      <td>31</td>\n      <td>-0.166164</td>\n      <td>0.668350</td>\n      <td>NJ</td>\n    </tr>\n    <tr>\n      <td>32</td>\n      <td>-0.146324</td>\n      <td>0.669118</td>\n      <td>NM</td>\n    </tr>\n    <tr>\n      <td>33</td>\n      <td>-0.190981</td>\n      <td>0.694430</td>\n      <td>NV</td>\n    </tr>\n    <tr>\n      <td>34</td>\n      <td>-0.135600</td>\n      <td>0.637766</td>\n      <td>NY</td>\n    </tr>\n    <tr>\n      <td>35</td>\n      <td>-0.177604</td>\n      <td>0.677025</td>\n      <td>OH</td>\n    </tr>\n    <tr>\n      <td>36</td>\n      <td>-0.205567</td>\n      <td>0.674950</td>\n      <td>OK</td>\n    </tr>\n    <tr>\n      <td>37</td>\n      <td>-0.182621</td>\n      <td>0.691629</td>\n      <td>OR</td>\n    </tr>\n    <tr>\n      <td>38</td>\n      <td>-0.176897</td>\n      <td>0.691243</td>\n      <td>PA</td>\n    </tr>\n    <tr>\n      <td>39</td>\n      <td>-0.142754</td>\n      <td>0.707971</td>\n      <td>RI</td>\n    </tr>\n    <tr>\n      <td>40</td>\n      <td>-0.204323</td>\n      <td>0.695489</td>\n      <td>SC</td>\n    </tr>\n    <tr>\n      <td>41</td>\n      <td>-0.161818</td>\n      <td>0.716364</td>\n      <td>SD</td>\n    </tr>\n    <tr>\n      <td>42</td>\n      <td>-0.186667</td>\n      <td>0.665989</td>\n      <td>TN</td>\n    </tr>\n    <tr>\n      <td>43</td>\n      <td>-0.185138</td>\n      <td>0.665080</td>\n      <td>TX</td>\n    </tr>\n    <tr>\n      <td>44</td>\n      <td>-0.158781</td>\n      <td>0.663082</td>\n      <td>UT</td>\n    </tr>\n    <tr>\n      <td>45</td>\n      <td>-0.192698</td>\n      <td>0.685396</td>\n      <td>VA</td>\n    </tr>\n    <tr>\n      <td>46</td>\n      <td>-0.177500</td>\n      <td>0.719167</td>\n      <td>VT</td>\n    </tr>\n    <tr>\n      <td>47</td>\n      <td>-0.133323</td>\n      <td>0.641283</td>\n      <td>WA</td>\n    </tr>\n    <tr>\n      <td>48</td>\n      <td>-0.193098</td>\n      <td>0.710890</td>\n      <td>WI</td>\n    </tr>\n    <tr>\n      <td>49</td>\n      <td>-0.200000</td>\n      <td>0.715294</td>\n      <td>WY</td>\n    </tr>\n  </tbody>\n</table>\n</div>"
     },
     "metadata": {},
     "execution_count": 77
    }
   ],
   "source": [
    "average_state_sentiment['magnitude'] = sentiment_covid.groupby('state')['magnitude'].mean()\n",
    "average_state_sentiment['state'] = average_state_sentiment.index #fixing index\n",
    "average_state_sentiment.reset_index(inplace=True,drop=True)\n",
    "\n",
    "# printing some information on the dataframe\n",
    "average_state_sentiment.info()\n",
    "average_state_sentiment"
   ]
  },
  {
   "source": [
    "Finally, we can save the dataframe as a csv"
   ],
   "cell_type": "markdown",
   "metadata": {}
  },
  {
   "cell_type": "code",
   "execution_count": 78,
   "metadata": {},
   "outputs": [],
   "source": [
    "average_state_sentiment.to_csv('average_sentiment_{}.csv'.format(day))"
   ]
  }
 ]
}