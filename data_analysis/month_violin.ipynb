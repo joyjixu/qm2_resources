{
  "nbformat": 4,
  "nbformat_minor": 0,
  "metadata": {
    "language_info": {
      "codemirror_mode": {
        "name": "ipython",
        "version": 3
      },
      "file_extension": ".py",
      "mimetype": "text/x-python",
      "name": "python",
      "nbconvert_exporter": "python",
      "pygments_lexer": "ipython3",
      "version": "3.7.4-final"
    },
    "orig_nbformat": 2,
    "kernelspec": {
      "name": "python3",
      "display_name": "Python 3",
      "language": "python"
    },
    "colab": {
      "name": "month_violin.ipynb",
      "provenance": [],
      "include_colab_link": true
    }
  },
  "cells": [
    {
      "cell_type": "markdown",
      "metadata": {
        "id": "view-in-github",
        "colab_type": "text"
      },
      "source": [
        "<a href=\"https://colab.research.google.com/github/joyjixu/qm2_resources/blob/main/data_analysis/month_violin.ipynb\" target=\"_parent\"><img src=\"https://colab.research.google.com/assets/colab-badge.svg\" alt=\"Open In Colab\"/></a>"
      ]
    },
    {
      "cell_type": "code",
      "metadata": {
        "id": "mB8qQc2JRebu"
      },
      "source": [
        "import pandas as pd\n",
        "\n",
        "from plotly.subplots import make_subplots\n",
        "import plotly.graph_objects as go\n",
        "import plotly.figure_factory as ff\n",
        "import numpy as np\n"
      ],
      "execution_count": null,
      "outputs": []
    },
    {
      "cell_type": "code",
      "metadata": {
        "id": "5cFjvtN9Reb2"
      },
      "source": [
        "sentiment_covid = pd.read_csv('covid_sentiment_daily_04_01.csv', engine='python')\n",
        "sentiment_covid = sentiment_covid[['state', 'sentiment', 'magnitude']]\n",
        "average_state_sentiment = pd.read_csv(\"average_sentiment_01.csv\",  engine='python')\n",
        "\n",
        "average_state_sentiment.info()\n",
        "sentiment_covid.info()"
      ],
      "execution_count": null,
      "outputs": []
    },
    {
      "cell_type": "code",
      "metadata": {
        "id": "Xr0KNDCtReb4"
      },
      "source": [
        " for day in range(2,31):\n",
        "    if day<10:\n",
        "        day = \"0{}\".format(day)\n",
        "    \n",
        "    path_average = ('average_sentiment_{}.csv'.format(day))\n",
        "    path_sentiment_tweets = 'covid_sentiment_daily_04_{}.csv'.format(day)\n",
        "\n",
        "    daily_average_state_sentiment = pd.read_csv(path_average, engine='python')\n",
        "    daily_sentiment_covid = pd.read_csv(path_sentiment_tweets, engine='python')\n",
        "    daily_sentiment_covid = daily_sentiment_covid[['state', 'sentiment', 'magnitude']]\n",
        "\n",
        "    average_state_sentiment = average_state_sentiment.append(daily_average_state_sentiment, ignore_index=True)\n",
        "    sentiment_covid = sentiment_covid.append(daily_sentiment_covid, ignore_index=True)"
      ],
      "execution_count": null,
      "outputs": []
    },
    {
      "cell_type": "code",
      "metadata": {
        "id": "nbFeMsOQReb5"
      },
      "source": [
        "sentiment_covid.info()"
      ],
      "execution_count": null,
      "outputs": []
    },
    {
      "cell_type": "markdown",
      "metadata": {
        "id": "BLRC79RVReb5"
      },
      "source": [
        "The code here is taken from the Plotly library documentation and adapted to suit our needs, using help from StackOverflow\n",
        "* https://plotly.com/python/choropleth-maps/\n",
        "* https://plotly.com/python/mapbox-county-choropleth/\n",
        "* https://plotly.com/python/reference/choropleth/\n",
        "* https://plotly.com/python/subplots/#simple-subplot\n",
        "* https://plotly.com/python/violin/#violin-plot-with-goviolin\n",
        "* https://stackoverflow.com/questions/48687956/plotly-python-label-value-formatting\n",
        "\n",
        "\n",
        "We create a plotly figure of a chloropleth map for average sentiment with violin plots for sentiment and magnitude distribution"
      ]
    },
    {
      "cell_type": "code",
      "metadata": {
        "id": "f3M0JS05Reb6"
      },
      "source": [
        "\n",
        "fig = make_subplots(\n",
        "        rows=1, cols=2,\n",
        "        specs=[[{'type': 'histogram'}, {'type': 'histogram'}]],\n",
        "        column_widths=[0.5, 0.5],\n",
        "        subplot_titles=('Violin Plot of Sentiment Distribution', 'Violin Plot of Magnitude Distribution'))\n",
        "\n",
        "\n",
        "\n",
        "fig.add_trace(\n",
        "    go.Violin(y=sentiment_covid['sentiment'].to_numpy(),\n",
        "                box_visible=True,\n",
        "                line_color='black',\n",
        "                meanline_visible=True, \n",
        "                fillcolor='lightseagreen', \n",
        "                opacity=0.6,\n",
        "                y0='Sentiment',\n",
        "                x0='Sentiment Spread', \n",
        "                showlegend=False\n",
        "                ),\n",
        "                row=1, col=1\n",
        ")\n",
        "\n",
        "\n",
        "fig.add_trace(\n",
        "    go.Violin(y=sentiment_covid['magnitude'].to_numpy(),\n",
        "                box_visible=True,\n",
        "                line_color='black',\n",
        "                meanline_visible=True, \n",
        "                fillcolor='lightseagreen', \n",
        "                opacity=0.6,\n",
        "                y0='Magnitude',\n",
        "                x0='Magnitude Spread', \n",
        "                showlegend=False),\n",
        "                row=1, col=2\n",
        "                \n",
        ")\n",
        "\n",
        "\n",
        "fig.update_traces(hovertemplate='<extra></extra>', selector=dict(type='histogram'))\n",
        "\n",
        "fig.update_layout(\n",
        "    title_text = 'Distribution of COVID-19 Tweets in the US, April 2020',\n",
        ")\n",
        "\n",
        "\n",
        "fig.update_layout(height=700, width=900, hovermode='x unified')\n",
        "fig['layout']['yaxis']['title']='Sentiment'\n",
        "fig['layout']['yaxis2']['title']='Magnitude'\n",
        "fig['layout']['yaxis1'].update(tickformat=\"0.3r\") # rounding to 3 significant figures\n",
        "fig['layout']['yaxis2'].update(tickformat=\"0.3r\") # rounding to 3 significant figures\n",
        "\n",
        "\n",
        "fig.show()\n",
        "\n",
        "\n"
      ],
      "execution_count": null,
      "outputs": []
    },
    {
      "cell_type": "markdown",
      "metadata": {
        "id": "1awp_4v9Reb7"
      },
      "source": [
        "Saving the plot as html to embed on our website:\n"
      ]
    },
    {
      "cell_type": "code",
      "metadata": {
        "id": "_s5WaRViReb7"
      },
      "source": [
        "fig.write_html(\"violin_month_updated.html\")"
      ],
      "execution_count": null,
      "outputs": []
    },
    {
      "cell_type": "code",
      "metadata": {
        "id": "Z_lIEIlwReb7"
      },
      "source": [
        "#! pip install -U kaleido\n"
      ],
      "execution_count": null,
      "outputs": []
    },
    {
      "cell_type": "code",
      "metadata": {
        "id": "me_AddVaReb8"
      },
      "source": [
        "fig.write_image(\"./violin_month_static_updated.png\", engine=\"kaleido\")"
      ],
      "execution_count": null,
      "outputs": []
    },
    {
      "cell_type": "code",
      "metadata": {
        "id": "98-hUapIReb8"
      },
      "source": [
        ""
      ],
      "execution_count": null,
      "outputs": []
    }
  ]
}