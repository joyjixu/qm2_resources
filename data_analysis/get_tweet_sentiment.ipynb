{
  "nbformat": 4,
  "nbformat_minor": 0,
  "metadata": {
    "language_info": {
      "codemirror_mode": {
        "name": "ipython",
        "version": 3
      },
      "file_extension": ".py",
      "mimetype": "text/x-python",
      "name": "python",
      "nbconvert_exporter": "python",
      "pygments_lexer": "ipython3",
      "version": "3.7.4-final"
    },
    "orig_nbformat": 2,
    "kernelspec": {
      "name": "python3",
      "display_name": "Python 3"
    },
    "colab": {
      "name": "google_nlp.ipynb",
      "provenance": [],
      "collapsed_sections": [],
      "toc_visible": true
    }
  },
  "cells": [
    {
      "cell_type": "markdown",
      "metadata": {
        "id": "Sig9p7rdXB3G"
      },
      "source": [
        "## Sentiment Analysis with Google Cloud Natural Language API\n",
        "\n",
        "* This notebook will add two columns to the csv file with the US covid daily tweets\n",
        "* First, upload the JSON file conatining your Googel develope API credentials\n",
        "* Then, upload the csv of tweets for the day you want to perform sentiment analysis on\n",
        "* Change the 'day' variable so that it corresponds to the correct day and replace path with the path to your csv of tweets"
      ]
    },
    {
      "cell_type": "code",
      "execution_count": 11,
      "metadata": {},
      "outputs": [],
      "source": [
        "path = './../daily_tweets/daily_coronavirus_tweets_us_04_02.csv'\n",
        "day = '02'"
      ]
    },
    {
      "cell_type": "code",
      "metadata": {
        "colab": {
          "base_uri": "https://localhost:8080/"
        },
        "id": "NiTMiOV9Ol27",
        "outputId": "460abf7c-df9c-48d4-a18e-13bd71cf9637"
      },
      "source": [
        "#installing the google cloud library\n",
        "! python -m pip install tqdm\n",
        "! python -m pip install --upgrade google-cloud-language"
      ],
      "execution_count": 3,
      "outputs": [
        {
          "output_type": "stream",
          "name": "stdout",
          "text": [
            "Requirement already satisfied: tqdm in c:\\users\\joyji\\anaconda3\\lib\\site-packages (4.46.1)\n",
            "WARNING: You are using pip version 20.1.1; however, version 20.2.4 is available.\n",
            "You should consider upgrading via the 'C:\\Users\\joyji\\Anaconda3\\python.exe -m pip install --upgrade pip' command.\n",
            "Requirement already up-to-date: google-cloud-language in c:\\users\\joyji\\anaconda3\\lib\\site-packages (2.0.0)\n",
            "Requirement already satisfied, skipping upgrade: libcst>=0.2.5 in c:\\users\\joyji\\anaconda3\\lib\\site-packages (from google-cloud-language) (0.3.14)\n",
            "Requirement already satisfied, skipping upgrade: proto-plus>=1.10.0 in c:\\users\\joyji\\anaconda3\\lib\\site-packages (from google-cloud-language) (1.11.0)\n",
            "Requirement already satisfied, skipping upgrade: google-api-core[grpc]<2.0.0dev,>=1.22.2 in c:\\users\\joyji\\anaconda3\\lib\\site-packages (from google-cloud-language) (1.23.0)\n",
            "Requirement already satisfied, skipping upgrade: typing-inspect>=0.4.0 in c:\\users\\joyji\\anaconda3\\lib\\site-packages (from libcst>=0.2.5->google-cloud-language) (0.6.0)\n",
            "Requirement already satisfied, skipping upgrade: pyyaml>=5.2 in c:\\users\\joyji\\anaconda3\\lib\\site-packages (from libcst>=0.2.5->google-cloud-language) (5.3.1)\n",
            "Requirement already satisfied, skipping upgrade: typing-extensions>=3.7.4.2 in c:\\users\\joyji\\anaconda3\\lib\\site-packages (from libcst>=0.2.5->google-cloud-language) (3.7.4.3)\n",
            "Requirement already satisfied, skipping upgrade: protobuf>=3.12.0 in c:\\users\\joyji\\anaconda3\\lib\\site-packages (from proto-plus>=1.10.0->google-cloud-language) (3.12.2)\n",
            "Requirement already satisfied, skipping upgrade: setuptools>=34.0.0 in c:\\users\\joyji\\anaconda3\\lib\\site-packages (from google-api-core[grpc]<2.0.0dev,>=1.22.2->google-cloud-language) (50.3.2)\n",
            "Requirement already satisfied, skipping upgrade: google-auth<2.0dev,>=1.21.1 in c:\\users\\joyji\\anaconda3\\lib\\site-packages (from google-api-core[grpc]<2.0.0dev,>=1.22.2->google-cloud-language) (1.23.0)\n",
            "Requirement already satisfied, skipping upgrade: pytz in c:\\users\\joyji\\anaconda3\\lib\\site-packages (from google-api-core[grpc]<2.0.0dev,>=1.22.2->google-cloud-language) (2019.3)\n",
            "Requirement already satisfied, skipping upgrade: six>=1.13.0 in c:\\users\\joyji\\anaconda3\\lib\\site-packages (from google-api-core[grpc]<2.0.0dev,>=1.22.2->google-cloud-language) (1.15.0)\n",
            "Requirement already satisfied, skipping upgrade: requests<3.0.0dev,>=2.18.0 in c:\\users\\joyji\\anaconda3\\lib\\site-packages (from google-api-core[grpc]<2.0.0dev,>=1.22.2->google-cloud-language) (2.22.0)\n",
            "Requirement already satisfied, skipping upgrade: googleapis-common-protos<2.0dev,>=1.6.0 in c:\\users\\joyji\\anaconda3\\lib\\site-packages (from google-api-core[grpc]<2.0.0dev,>=1.22.2->google-cloud-language) (1.52.0)\n",
            "Requirement already satisfied, skipping upgrade: grpcio<2.0dev,>=1.29.0; extra == \"grpc\" in c:\\users\\joyji\\anaconda3\\lib\\site-packages (from google-api-core[grpc]<2.0.0dev,>=1.22.2->google-cloud-language) (1.33.2)\n",
            "Requirement already satisfied, skipping upgrade: mypy-extensions>=0.3.0 in c:\\users\\joyji\\anaconda3\\lib\\site-packages (from typing-inspect>=0.4.0->libcst>=0.2.5->google-cloud-language) (0.4.3)\n",
            "Requirement already satisfied, skipping upgrade: rsa<5,>=3.1.4; python_version >= \"3.5\" in c:\\users\\joyji\\anaconda3\\lib\\site-packages (from google-auth<2.0dev,>=1.21.1->google-api-core[grpc]<2.0.0dev,>=1.22.2->google-cloud-language) (4.6)\n",
            "Requirement already satisfied, skipping upgrade: cachetools<5.0,>=2.0.0 in c:\\users\\joyji\\anaconda3\\lib\\site-packages (from google-auth<2.0dev,>=1.21.1->google-api-core[grpc]<2.0.0dev,>=1.22.2->google-cloud-language) (4.1.0)\n",
            "Requirement already satisfied, skipping upgrade: pyasn1-modules>=0.2.1 in c:\\users\\joyji\\anaconda3\\lib\\site-packages (from google-auth<2.0dev,>=1.21.1->google-api-core[grpc]<2.0.0dev,>=1.22.2->google-cloud-language) (0.2.8)\n",
            "Requirement already satisfied, skipping upgrade: idna<2.9,>=2.5 in c:\\users\\joyji\\anaconda3\\lib\\site-packages (from requests<3.0.0dev,>=2.18.0->google-api-core[grpc]<2.0.0dev,>=1.22.2->google-cloud-language) (2.8)\n",
            "Requirement already satisfied, skipping upgrade: urllib3!=1.25.0,!=1.25.1,<1.26,>=1.21.1 in c:\\users\\joyji\\anaconda3\\lib\\site-packages (from requests<3.0.0dev,>=2.18.0->google-api-core[grpc]<2.0.0dev,>=1.22.2->google-cloud-language) (1.24.2)\n",
            "Requirement already satisfied, skipping upgrade: certifi>=2017.4.17 in c:\\users\\joyji\\anaconda3\\lib\\site-packages (from requests<3.0.0dev,>=2.18.0->google-api-core[grpc]<2.0.0dev,>=1.22.2->google-cloud-language) (2019.9.11)\n",
            "Requirement already satisfied, skipping upgrade: chardet<3.1.0,>=3.0.2 in c:\\users\\joyji\\anaconda3\\lib\\site-packages (from requests<3.0.0dev,>=2.18.0->google-api-core[grpc]<2.0.0dev,>=1.22.2->google-cloud-language) (3.0.4)\n",
            "Requirement already satisfied, skipping upgrade: pyasn1>=0.1.3 in c:\\users\\joyji\\anaconda3\\lib\\site-packages (from rsa<5,>=3.1.4; python_version >= \"3.5\"->google-auth<2.0dev,>=1.21.1->google-api-core[grpc]<2.0.0dev,>=1.22.2->google-cloud-language) (0.4.8)\n",
            "WARNING: You are using pip version 20.1.1; however, version 20.2.4 is available.\n",
            "You should consider upgrading via the 'C:\\Users\\joyji\\Anaconda3\\python.exe -m pip install --upgrade pip' command.\n"
          ]
        }
      ]
    },
    {
      "cell_type": "code",
      "metadata": {
        "colab": {
          "base_uri": "https://localhost:8080/"
        },
        "id": "5k9Oduu7Ol3E",
        "outputId": "24b4a0b2-2fec-43e4-aa01-b7350320c60b"
      },
      "source": [
        "import os\n",
        "os.environ[\"GOOGLE_APPLICATION_CREDENTIALS\"] = \"QM2-project-441aae4d7e45.json\"\n",
        "print('Credentials from environ: {}'.format(os.environ.get('GOOGLE_APPLICATION_CREDENTIALS')))"
      ],
      "execution_count": 8,
      "outputs": [
        {
          "output_type": "stream",
          "name": "stdout",
          "text": [
            "Credentials from environ: QM2-project-441aae4d7e45.json\n"
          ]
        }
      ]
    },
    {
      "cell_type": "markdown",
      "metadata": {
        "id": "HKrRCftlYj_s"
      },
      "source": [
        "The code cell below is a test taken from the Google Natural Language API how-to guide: https://cloud.google.com/natural-language/docs/analyzing-sentiment\n"
      ]
    },
    {
      "cell_type": "code",
      "metadata": {
        "colab": {
          "base_uri": "https://localhost:8080/"
        },
        "id": "eO9SPfJqOl3E",
        "outputId": "d47aa209-cefa-4bf2-96a9-d6abca319f54"
      },
      "source": [
        "# Imports the Google Cloud client library\n",
        "from google.cloud import language_v1\n",
        "\n",
        "# Instantiates a client\n",
        "client = language_v1.LanguageServiceClient()\n",
        "\n",
        "# The text to analyze\n",
        "text = u\"wassup\"\n",
        "document = language_v1.Document(content=text, type_=language_v1.Document.Type.PLAIN_TEXT)\n",
        "\n",
        "# Detects the sentiment of the text\n",
        "sentiment = client.analyze_sentiment(request={'document': document}).document_sentiment\n",
        "\n",
        "print(\"Text: {}\".format(text))\n",
        "print(\"Sentiment: {}, {}\".format(sentiment.score, sentiment.magnitude))"
      ],
      "execution_count": 9,
      "outputs": [
        {
          "output_type": "stream",
          "name": "stdout",
          "text": [
            "Text: wassup\nSentiment: 0.4000000059604645, 0.4000000059604645\n"
          ]
        }
      ]
    },
    {
      "cell_type": "markdown",
      "metadata": {
        "id": "Wuqvl4A9ZPa0"
      },
      "source": [
        "\n",
        "\n",
        "---\n",
        "\n"
      ]
    },
    {
      "cell_type": "markdown",
      "metadata": {
        "id": "EWV1yjSQY1Wn"
      },
      "source": [
        "Now we perform sentiment analysis on the actual tweets\n",
        "\n",
        "**replace the path to df with the path to the csv of tweets**"
      ]
    },
    {
      "cell_type": "code",
      "metadata": {
        "colab": {
          "base_uri": "https://localhost:8080/"
        },
        "id": "par_Pa3QOl3F",
        "outputId": "db759adc-1297-4263-c338-5ada679c75af"
      },
      "source": [
        "import pandas as pd\n",
        "import numpy as np\n",
        "\n",
        "df = pd.read_csv(path)\n",
        "df.info()"
      ],
      "execution_count": 12,
      "outputs": [
        {
          "output_type": "stream",
          "name": "stdout",
          "text": [
            "<class 'pandas.core.frame.DataFrame'>\nRangeIndex: 59342 entries, 0 to 59341\nData columns (total 37 columns):\nUnnamed: 0                    59342 non-null int64\ncoordinates                   41 non-null object\ncreated_at                    59341 non-null object\nhashtags                      9944 non-null object\nmedia                         3334 non-null object\nurls                          15215 non-null object\nfavorite_count                59341 non-null object\nid                            59341 non-null object\nin_reply_to_screen_name       3843 non-null object\nin_reply_to_status_id         3294 non-null float64\nin_reply_to_user_id           3839 non-null float64\nlang                          59341 non-null object\nplace                         667 non-null object\npossibly_sensitive            17374 non-null object\nretweet_count                 59341 non-null object\nretweet_id                    43921 non-null float64\nretweet_screen_name           43921 non-null object\nsource                        59337 non-null object\ntext                          59337 non-null object\ntweet_url                     59337 non-null object\nuser_created_at               59337 non-null object\nuser_screen_name              59337 non-null object\nuser_default_profile_image    59337 non-null object\nuser_description              54629 non-null object\nuser_favourites_count         59333 non-null float64\nuser_followers_count          59333 non-null float64\nuser_friends_count            59333 non-null float64\nuser_listed_count             59333 non-null float64\nuser_location                 59333 non-null object\nuser_name                     59331 non-null object\nuser_screen_name.1            59333 non-null object\nuser_statuses_count           59333 non-null float64\nuser_time_zone                0 non-null float64\nuser_urls                     16485 non-null object\nuser_verified                 59333 non-null object\nis_state                      59333 non-null object\nstate                         59333 non-null object\ndtypes: float64(9), int64(1), object(27)\nmemory usage: 16.8+ MB\n"
          ]
        }
      ]
    },
    {
      "cell_type": "code",
      "metadata": {
        "id": "E0wgVosBOl3H"
      },
      "source": [
        "def google_sentiment(text):\n",
        "    if type(text) != str:\n",
        "      return (np.nan,np.nan)\n",
        "    # The text to analyze\n",
        "    document = language_v1.Document(content=text, type_=language_v1.Document.Type.PLAIN_TEXT)\n",
        "    # Detects the sentiment of the text\n",
        "    try: \n",
        "      sentiment = client.analyze_sentiment(request={'document': document}).document_sentiment\n",
        "      score = sentiment.score\n",
        "      magnitude = sentiment.magnitude\n",
        "      return (score,magnitude)\n",
        "    except:\n",
        "      return (np.nan,np.nan)\n",
        "\n",
        "\n",
        "# check link on how to interpret google sentiment scores"
      ],
      "execution_count": 13,
      "outputs": []
    },
    {
      "cell_type": "code",
      "metadata": {
        "colab": {
          "base_uri": "https://localhost:8080/"
        },
        "id": "MfTCEKn8ak7f",
        "outputId": "58c278a3-a863-4440-bd1d-8b129dbd40d3"
      },
      "source": [
        "# https://stackoverflow.com/questions/18603270/progress-indicator-during-pandas-operations\n",
        "from tqdm import tqdm\n",
        "from tqdm.auto import tqdm  # for notebooks\n",
        "from tqdm.notebook import tqdm_notebook\n",
        "\n",
        "\n",
        "# Create and register a new `tqdm` instance with `pandas`\n",
        "# (can use tqdm_gui, optional kwargs, etc.)\n",
        "tqdm.pandas()\n",
        "\n",
        "# Now you can use `progress_apply` instead of `apply`\n",
        "sentiments = df.progress_apply(lambda row: google_sentiment(row['text']), axis = 1, result_type='expand')"
      ],
      "execution_count": 14,
      "outputs": [
        {
          "output_type": "stream",
          "name": "stderr",
          "text": [
            "100%|██████████| 59342/59342 [7:05:14<00:00,  2.33it/s]\n"
          ]
        }
      ]
    },
    {
      "cell_type": "code",
      "metadata": {
        "id": "vRsNFNL2Ol3H"
      },
      "source": [
        "#df[['sentiment', 'magnitude']] = df.apply(lambda row: pd.Series(google_sentiment(row['text'])[0], google_sentiment(row['text'])[1]), axis = 1)"
      ],
      "execution_count": 15,
      "outputs": []
    },
    {
      "cell_type": "code",
      "metadata": {
        "id": "XllCQyPMOl3H"
      },
      "source": [
        "sentiments"
      ],
      "execution_count": 16,
      "outputs": [
        {
          "output_type": "execute_result",
          "data": {
            "text/plain": [
              "         0    1\n",
              "0      0.0  0.0\n",
              "1     -0.4  1.7\n",
              "2      0.3  1.7\n",
              "3      0.0  0.0\n",
              "4      0.0  0.8\n",
              "...    ...  ...\n",
              "59337  0.3  0.7\n",
              "59338  0.1  0.3\n",
              "59339 -0.2  0.5\n",
              "59340 -0.2  0.5\n",
              "59341  0.0  0.0\n",
              "\n",
              "[59342 rows x 2 columns]"
            ],
            "text/html": "<div>\n<style scoped>\n    .dataframe tbody tr th:only-of-type {\n        vertical-align: middle;\n    }\n\n    .dataframe tbody tr th {\n        vertical-align: top;\n    }\n\n    .dataframe thead th {\n        text-align: right;\n    }\n</style>\n<table border=\"1\" class=\"dataframe\">\n  <thead>\n    <tr style=\"text-align: right;\">\n      <th></th>\n      <th>0</th>\n      <th>1</th>\n    </tr>\n  </thead>\n  <tbody>\n    <tr>\n      <td>0</td>\n      <td>0.0</td>\n      <td>0.0</td>\n    </tr>\n    <tr>\n      <td>1</td>\n      <td>-0.4</td>\n      <td>1.7</td>\n    </tr>\n    <tr>\n      <td>2</td>\n      <td>0.3</td>\n      <td>1.7</td>\n    </tr>\n    <tr>\n      <td>3</td>\n      <td>0.0</td>\n      <td>0.0</td>\n    </tr>\n    <tr>\n      <td>4</td>\n      <td>0.0</td>\n      <td>0.8</td>\n    </tr>\n    <tr>\n      <td>...</td>\n      <td>...</td>\n      <td>...</td>\n    </tr>\n    <tr>\n      <td>59337</td>\n      <td>0.3</td>\n      <td>0.7</td>\n    </tr>\n    <tr>\n      <td>59338</td>\n      <td>0.1</td>\n      <td>0.3</td>\n    </tr>\n    <tr>\n      <td>59339</td>\n      <td>-0.2</td>\n      <td>0.5</td>\n    </tr>\n    <tr>\n      <td>59340</td>\n      <td>-0.2</td>\n      <td>0.5</td>\n    </tr>\n    <tr>\n      <td>59341</td>\n      <td>0.0</td>\n      <td>0.0</td>\n    </tr>\n  </tbody>\n</table>\n<p>59342 rows × 2 columns</p>\n</div>"
          },
          "metadata": {},
          "execution_count": 16
        }
      ]
    },
    {
      "cell_type": "code",
      "metadata": {
        "id": "yYLyNKAMOl3I"
      },
      "source": [
        "sentiments.rename(columns = {0:'sentiment', 1:'magnitude'}, inplace=True)"
      ],
      "execution_count": 17,
      "outputs": []
    },
    {
      "cell_type": "code",
      "execution_count": 18,
      "metadata": {},
      "outputs": [
        {
          "output_type": "execute_result",
          "data": {
            "text/plain": [
              "       sentiment  magnitude\n",
              "0            0.0        0.0\n",
              "1           -0.4        1.7\n",
              "2            0.3        1.7\n",
              "3            0.0        0.0\n",
              "4            0.0        0.8\n",
              "...          ...        ...\n",
              "59337        0.3        0.7\n",
              "59338        0.1        0.3\n",
              "59339       -0.2        0.5\n",
              "59340       -0.2        0.5\n",
              "59341        0.0        0.0\n",
              "\n",
              "[59342 rows x 2 columns]"
            ],
            "text/html": "<div>\n<style scoped>\n    .dataframe tbody tr th:only-of-type {\n        vertical-align: middle;\n    }\n\n    .dataframe tbody tr th {\n        vertical-align: top;\n    }\n\n    .dataframe thead th {\n        text-align: right;\n    }\n</style>\n<table border=\"1\" class=\"dataframe\">\n  <thead>\n    <tr style=\"text-align: right;\">\n      <th></th>\n      <th>sentiment</th>\n      <th>magnitude</th>\n    </tr>\n  </thead>\n  <tbody>\n    <tr>\n      <td>0</td>\n      <td>0.0</td>\n      <td>0.0</td>\n    </tr>\n    <tr>\n      <td>1</td>\n      <td>-0.4</td>\n      <td>1.7</td>\n    </tr>\n    <tr>\n      <td>2</td>\n      <td>0.3</td>\n      <td>1.7</td>\n    </tr>\n    <tr>\n      <td>3</td>\n      <td>0.0</td>\n      <td>0.0</td>\n    </tr>\n    <tr>\n      <td>4</td>\n      <td>0.0</td>\n      <td>0.8</td>\n    </tr>\n    <tr>\n      <td>...</td>\n      <td>...</td>\n      <td>...</td>\n    </tr>\n    <tr>\n      <td>59337</td>\n      <td>0.3</td>\n      <td>0.7</td>\n    </tr>\n    <tr>\n      <td>59338</td>\n      <td>0.1</td>\n      <td>0.3</td>\n    </tr>\n    <tr>\n      <td>59339</td>\n      <td>-0.2</td>\n      <td>0.5</td>\n    </tr>\n    <tr>\n      <td>59340</td>\n      <td>-0.2</td>\n      <td>0.5</td>\n    </tr>\n    <tr>\n      <td>59341</td>\n      <td>0.0</td>\n      <td>0.0</td>\n    </tr>\n  </tbody>\n</table>\n<p>59342 rows × 2 columns</p>\n</div>"
          },
          "metadata": {},
          "execution_count": 18
        }
      ],
      "source": [
        "sentiments"
      ]
    },
    {
      "cell_type": "code",
      "execution_count": 19,
      "metadata": {},
      "outputs": [
        {
          "output_type": "stream",
          "name": "stdout",
          "text": [
            "<class 'pandas.core.frame.DataFrame'>\nRangeIndex: 59342 entries, 0 to 59341\nData columns (total 39 columns):\nUnnamed: 0                    59342 non-null int64\ncoordinates                   41 non-null object\ncreated_at                    59341 non-null object\nhashtags                      9944 non-null object\nmedia                         3334 non-null object\nurls                          15215 non-null object\nfavorite_count                59341 non-null object\nid                            59341 non-null object\nin_reply_to_screen_name       3843 non-null object\nin_reply_to_status_id         3294 non-null float64\nin_reply_to_user_id           3839 non-null float64\nlang                          59341 non-null object\nplace                         667 non-null object\npossibly_sensitive            17374 non-null object\nretweet_count                 59341 non-null object\nretweet_id                    43921 non-null float64\nretweet_screen_name           43921 non-null object\nsource                        59337 non-null object\ntext                          59337 non-null object\ntweet_url                     59337 non-null object\nuser_created_at               59337 non-null object\nuser_screen_name              59337 non-null object\nuser_default_profile_image    59337 non-null object\nuser_description              54629 non-null object\nuser_favourites_count         59333 non-null float64\nuser_followers_count          59333 non-null float64\nuser_friends_count            59333 non-null float64\nuser_listed_count             59333 non-null float64\nuser_location                 59333 non-null object\nuser_name                     59331 non-null object\nuser_screen_name.1            59333 non-null object\nuser_statuses_count           59333 non-null float64\nuser_time_zone                0 non-null float64\nuser_urls                     16485 non-null object\nuser_verified                 59333 non-null object\nis_state                      59333 non-null object\nstate                         59333 non-null object\nsentiment                     59237 non-null float64\nmagnitude                     59237 non-null float64\ndtypes: float64(11), int64(1), object(27)\nmemory usage: 17.7+ MB\n"
          ]
        }
      ],
      "source": [
        "tweet_sentiments = df.merge(sentiments, left_index=True, right_index=True)\n",
        "tweet_sentiments.info()"
      ]
    },
    {
      "cell_type": "code",
      "execution_count": 20,
      "metadata": {},
      "outputs": [],
      "source": [
        "tweet_sentiments.drop(columns=['Unnamed: 0'], inplace=True)"
      ]
    },
    {
      "cell_type": "code",
      "execution_count": 21,
      "metadata": {},
      "outputs": [
        {
          "output_type": "execute_result",
          "data": {
            "text/plain": [
              "      coordinates                      created_at  \\\n",
              "0             NaN  Thu Apr 02 00:02:45 +0000 2020   \n",
              "1             NaN  Thu Apr 02 00:02:45 +0000 2020   \n",
              "2             NaN  Thu Apr 02 00:02:45 +0000 2020   \n",
              "3             NaN  Thu Apr 02 00:02:45 +0000 2020   \n",
              "4             NaN  Thu Apr 02 00:02:45 +0000 2020   \n",
              "...           ...                             ...   \n",
              "59337         NaN  Thu Apr 02 23:43:57 +0000 2020   \n",
              "59338         NaN  Thu Apr 02 23:43:56 +0000 2020   \n",
              "59339         NaN  Thu Apr 02 23:29:02 +0000 2020   \n",
              "59340         NaN  Thu Apr 02 23:27:55 +0000 2020   \n",
              "59341         NaN  Thu Apr 02 23:24:07 +0000 2020   \n",
              "\n",
              "                                 hashtags media  \\\n",
              "0                                     NaN   NaN   \n",
              "1                                     NaN   NaN   \n",
              "2                                     NaN   NaN   \n",
              "3                                     NaN   NaN   \n",
              "4                                     NaN   NaN   \n",
              "...                                   ...   ...   \n",
              "59337  PEPFAR SouthAfrica HIV ART COVID19   NaN   \n",
              "59338                                 NaN   NaN   \n",
              "59339      coronavirus police confinement   NaN   \n",
              "59340      coronavirus police confinement   NaN   \n",
              "59341          coronavirus COVIDー19 Chine   NaN   \n",
              "\n",
              "                                                    urls favorite_count  \\\n",
              "0                                https://hann.it/3dHZBgK              0   \n",
              "1                                https://nyti.ms/3bAaGyu              0   \n",
              "2                                                    NaN              0   \n",
              "3                                                    NaN              0   \n",
              "4      https://pluralist.com/jim-banks-chinese-journa...              0   \n",
              "...                                                  ...            ...   \n",
              "59337                                                NaN              1   \n",
              "59338                                                NaN              0   \n",
              "59339                                                NaN              0   \n",
              "59340                                                NaN              0   \n",
              "59341                                                NaN              0   \n",
              "\n",
              "                        id in_reply_to_screen_name  in_reply_to_status_id  \\\n",
              "0      1245501890529562624                     NaN                    NaN   \n",
              "1      1245501889447366657                     NaN                    NaN   \n",
              "2      1245501889514536963                 ktdeapp           1.245500e+18   \n",
              "3      1245501889736781825                     NaN                    NaN   \n",
              "4      1245501890030231554                     NaN                    NaN   \n",
              "...                    ...                     ...                    ...   \n",
              "59337  1245859547131985925           DrZweliMkhize           1.245704e+18   \n",
              "59338  1245859543575220226                     NaN                    NaN   \n",
              "59339  1245855793280212993                     NaN                    NaN   \n",
              "59340  1245855512823877633                     NaN                    NaN   \n",
              "59341  1245854556514185217                     NaN                    NaN   \n",
              "\n",
              "       in_reply_to_user_id  ...       user_name user_screen_name.1  \\\n",
              "0                      NaN  ...             ROR       RORoldan1965   \n",
              "1                      NaN  ...         Cecileb        treetop224u   \n",
              "2             2.530797e+08  ...              AC    LADYLUVSDABEARS   \n",
              "3                      NaN  ...  Barbara Riddle     barbara_riddle   \n",
              "4                      NaN  ...   Jamie pearson           momuar42   \n",
              "...                    ...  ...             ...                ...   \n",
              "59337         8.444867e+17  ...          PEPFAR             PEPFAR   \n",
              "59338                  NaN  ...       MejiasJPR       JaimeMejias9   \n",
              "59339                  NaN  ...   Globule Rouge          Globule68   \n",
              "59340                  NaN  ...         orpheum         UnePeteSec   \n",
              "59341                  NaN  ...  tankou sirop 🍍           kelanahh   \n",
              "\n",
              "      user_statuses_count user_time_zone                     user_urls  \\\n",
              "0                  9507.0            NaN                           NaN   \n",
              "1                  7943.0            NaN                           NaN   \n",
              "2                249068.0            NaN                           NaN   \n",
              "3                 10750.0            NaN                           NaN   \n",
              "4                 64243.0            NaN                           NaN   \n",
              "...                   ...            ...                           ...   \n",
              "59337             16250.0            NaN  http://www.state.gov/pepfar/   \n",
              "59338              1446.0            NaN                           NaN   \n",
              "59339              3764.0            NaN                           NaN   \n",
              "59340             60149.0            NaN      http://dundermifflin.com   \n",
              "59341             55216.0            NaN                           NaN   \n",
              "\n",
              "      user_verified is_state state sentiment magnitude  \n",
              "0             False     True    GA       0.0       0.0  \n",
              "1             False     True    TX      -0.4       1.7  \n",
              "2             False     True    MS       0.3       1.7  \n",
              "3             False     True    IN       0.0       0.0  \n",
              "4             False     True    MO       0.0       0.8  \n",
              "...             ...      ...   ...       ...       ...  \n",
              "59337          True     True    WA       0.3       0.7  \n",
              "59338         False     True    FL       0.1       0.3  \n",
              "59339         False     True    NY      -0.2       0.5  \n",
              "59340         False     True    NY      -0.2       0.5  \n",
              "59341         False     True    HI       0.0       0.0  \n",
              "\n",
              "[59342 rows x 38 columns]"
            ],
            "text/html": "<div>\n<style scoped>\n    .dataframe tbody tr th:only-of-type {\n        vertical-align: middle;\n    }\n\n    .dataframe tbody tr th {\n        vertical-align: top;\n    }\n\n    .dataframe thead th {\n        text-align: right;\n    }\n</style>\n<table border=\"1\" class=\"dataframe\">\n  <thead>\n    <tr style=\"text-align: right;\">\n      <th></th>\n      <th>coordinates</th>\n      <th>created_at</th>\n      <th>hashtags</th>\n      <th>media</th>\n      <th>urls</th>\n      <th>favorite_count</th>\n      <th>id</th>\n      <th>in_reply_to_screen_name</th>\n      <th>in_reply_to_status_id</th>\n      <th>in_reply_to_user_id</th>\n      <th>...</th>\n      <th>user_name</th>\n      <th>user_screen_name.1</th>\n      <th>user_statuses_count</th>\n      <th>user_time_zone</th>\n      <th>user_urls</th>\n      <th>user_verified</th>\n      <th>is_state</th>\n      <th>state</th>\n      <th>sentiment</th>\n      <th>magnitude</th>\n    </tr>\n  </thead>\n  <tbody>\n    <tr>\n      <td>0</td>\n      <td>NaN</td>\n      <td>Thu Apr 02 00:02:45 +0000 2020</td>\n      <td>NaN</td>\n      <td>NaN</td>\n      <td>https://hann.it/3dHZBgK</td>\n      <td>0</td>\n      <td>1245501890529562624</td>\n      <td>NaN</td>\n      <td>NaN</td>\n      <td>NaN</td>\n      <td>...</td>\n      <td>ROR</td>\n      <td>RORoldan1965</td>\n      <td>9507.0</td>\n      <td>NaN</td>\n      <td>NaN</td>\n      <td>False</td>\n      <td>True</td>\n      <td>GA</td>\n      <td>0.0</td>\n      <td>0.0</td>\n    </tr>\n    <tr>\n      <td>1</td>\n      <td>NaN</td>\n      <td>Thu Apr 02 00:02:45 +0000 2020</td>\n      <td>NaN</td>\n      <td>NaN</td>\n      <td>https://nyti.ms/3bAaGyu</td>\n      <td>0</td>\n      <td>1245501889447366657</td>\n      <td>NaN</td>\n      <td>NaN</td>\n      <td>NaN</td>\n      <td>...</td>\n      <td>Cecileb</td>\n      <td>treetop224u</td>\n      <td>7943.0</td>\n      <td>NaN</td>\n      <td>NaN</td>\n      <td>False</td>\n      <td>True</td>\n      <td>TX</td>\n      <td>-0.4</td>\n      <td>1.7</td>\n    </tr>\n    <tr>\n      <td>2</td>\n      <td>NaN</td>\n      <td>Thu Apr 02 00:02:45 +0000 2020</td>\n      <td>NaN</td>\n      <td>NaN</td>\n      <td>NaN</td>\n      <td>0</td>\n      <td>1245501889514536963</td>\n      <td>ktdeapp</td>\n      <td>1.245500e+18</td>\n      <td>2.530797e+08</td>\n      <td>...</td>\n      <td>AC</td>\n      <td>LADYLUVSDABEARS</td>\n      <td>249068.0</td>\n      <td>NaN</td>\n      <td>NaN</td>\n      <td>False</td>\n      <td>True</td>\n      <td>MS</td>\n      <td>0.3</td>\n      <td>1.7</td>\n    </tr>\n    <tr>\n      <td>3</td>\n      <td>NaN</td>\n      <td>Thu Apr 02 00:02:45 +0000 2020</td>\n      <td>NaN</td>\n      <td>NaN</td>\n      <td>NaN</td>\n      <td>0</td>\n      <td>1245501889736781825</td>\n      <td>NaN</td>\n      <td>NaN</td>\n      <td>NaN</td>\n      <td>...</td>\n      <td>Barbara Riddle</td>\n      <td>barbara_riddle</td>\n      <td>10750.0</td>\n      <td>NaN</td>\n      <td>NaN</td>\n      <td>False</td>\n      <td>True</td>\n      <td>IN</td>\n      <td>0.0</td>\n      <td>0.0</td>\n    </tr>\n    <tr>\n      <td>4</td>\n      <td>NaN</td>\n      <td>Thu Apr 02 00:02:45 +0000 2020</td>\n      <td>NaN</td>\n      <td>NaN</td>\n      <td>https://pluralist.com/jim-banks-chinese-journa...</td>\n      <td>0</td>\n      <td>1245501890030231554</td>\n      <td>NaN</td>\n      <td>NaN</td>\n      <td>NaN</td>\n      <td>...</td>\n      <td>Jamie pearson</td>\n      <td>momuar42</td>\n      <td>64243.0</td>\n      <td>NaN</td>\n      <td>NaN</td>\n      <td>False</td>\n      <td>True</td>\n      <td>MO</td>\n      <td>0.0</td>\n      <td>0.8</td>\n    </tr>\n    <tr>\n      <td>...</td>\n      <td>...</td>\n      <td>...</td>\n      <td>...</td>\n      <td>...</td>\n      <td>...</td>\n      <td>...</td>\n      <td>...</td>\n      <td>...</td>\n      <td>...</td>\n      <td>...</td>\n      <td>...</td>\n      <td>...</td>\n      <td>...</td>\n      <td>...</td>\n      <td>...</td>\n      <td>...</td>\n      <td>...</td>\n      <td>...</td>\n      <td>...</td>\n      <td>...</td>\n      <td>...</td>\n    </tr>\n    <tr>\n      <td>59337</td>\n      <td>NaN</td>\n      <td>Thu Apr 02 23:43:57 +0000 2020</td>\n      <td>PEPFAR SouthAfrica HIV ART COVID19</td>\n      <td>NaN</td>\n      <td>NaN</td>\n      <td>1</td>\n      <td>1245859547131985925</td>\n      <td>DrZweliMkhize</td>\n      <td>1.245704e+18</td>\n      <td>8.444867e+17</td>\n      <td>...</td>\n      <td>PEPFAR</td>\n      <td>PEPFAR</td>\n      <td>16250.0</td>\n      <td>NaN</td>\n      <td>http://www.state.gov/pepfar/</td>\n      <td>True</td>\n      <td>True</td>\n      <td>WA</td>\n      <td>0.3</td>\n      <td>0.7</td>\n    </tr>\n    <tr>\n      <td>59338</td>\n      <td>NaN</td>\n      <td>Thu Apr 02 23:43:56 +0000 2020</td>\n      <td>NaN</td>\n      <td>NaN</td>\n      <td>NaN</td>\n      <td>0</td>\n      <td>1245859543575220226</td>\n      <td>NaN</td>\n      <td>NaN</td>\n      <td>NaN</td>\n      <td>...</td>\n      <td>MejiasJPR</td>\n      <td>JaimeMejias9</td>\n      <td>1446.0</td>\n      <td>NaN</td>\n      <td>NaN</td>\n      <td>False</td>\n      <td>True</td>\n      <td>FL</td>\n      <td>0.1</td>\n      <td>0.3</td>\n    </tr>\n    <tr>\n      <td>59339</td>\n      <td>NaN</td>\n      <td>Thu Apr 02 23:29:02 +0000 2020</td>\n      <td>coronavirus police confinement</td>\n      <td>NaN</td>\n      <td>NaN</td>\n      <td>0</td>\n      <td>1245855793280212993</td>\n      <td>NaN</td>\n      <td>NaN</td>\n      <td>NaN</td>\n      <td>...</td>\n      <td>Globule Rouge</td>\n      <td>Globule68</td>\n      <td>3764.0</td>\n      <td>NaN</td>\n      <td>NaN</td>\n      <td>False</td>\n      <td>True</td>\n      <td>NY</td>\n      <td>-0.2</td>\n      <td>0.5</td>\n    </tr>\n    <tr>\n      <td>59340</td>\n      <td>NaN</td>\n      <td>Thu Apr 02 23:27:55 +0000 2020</td>\n      <td>coronavirus police confinement</td>\n      <td>NaN</td>\n      <td>NaN</td>\n      <td>0</td>\n      <td>1245855512823877633</td>\n      <td>NaN</td>\n      <td>NaN</td>\n      <td>NaN</td>\n      <td>...</td>\n      <td>orpheum</td>\n      <td>UnePeteSec</td>\n      <td>60149.0</td>\n      <td>NaN</td>\n      <td>http://dundermifflin.com</td>\n      <td>False</td>\n      <td>True</td>\n      <td>NY</td>\n      <td>-0.2</td>\n      <td>0.5</td>\n    </tr>\n    <tr>\n      <td>59341</td>\n      <td>NaN</td>\n      <td>Thu Apr 02 23:24:07 +0000 2020</td>\n      <td>coronavirus COVIDー19 Chine</td>\n      <td>NaN</td>\n      <td>NaN</td>\n      <td>0</td>\n      <td>1245854556514185217</td>\n      <td>NaN</td>\n      <td>NaN</td>\n      <td>NaN</td>\n      <td>...</td>\n      <td>tankou sirop 🍍</td>\n      <td>kelanahh</td>\n      <td>55216.0</td>\n      <td>NaN</td>\n      <td>NaN</td>\n      <td>False</td>\n      <td>True</td>\n      <td>HI</td>\n      <td>0.0</td>\n      <td>0.0</td>\n    </tr>\n  </tbody>\n</table>\n<p>59342 rows × 38 columns</p>\n</div>"
          },
          "metadata": {},
          "execution_count": 21
        }
      ],
      "source": [
        "tweet_sentiments"
      ]
    },
    {
      "cell_type": "code",
      "execution_count": 22,
      "metadata": {},
      "outputs": [],
      "source": [
        "tweet_sentiments.to_csv('covid_sentiment_daily_04_{}.csv'.format(day), index=False)"
      ]
    },
    {
      "cell_type": "code",
      "execution_count": null,
      "metadata": {},
      "outputs": [],
      "source": []
    }
  ]
}