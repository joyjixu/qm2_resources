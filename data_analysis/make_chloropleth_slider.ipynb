{
 "metadata": {
  "language_info": {
   "codemirror_mode": {
    "name": "ipython",
    "version": 3
   },
   "file_extension": ".py",
   "mimetype": "text/x-python",
   "name": "python",
   "nbconvert_exporter": "python",
   "pygments_lexer": "ipython3",
   "version": "3.7.4-final"
  },
  "orig_nbformat": 2,
  "kernelspec": {
   "name": "python3",
   "display_name": "Python 3",
   "language": "python"
  }
 },
 "nbformat": 4,
 "nbformat_minor": 2,
 "cells": [
  {
   "source": [
    "# Make a series of Chloropleth Maps showing average sentiment of covid tweets over time with slider\n",
    "### input: average_tweet_sentiment csvs for each day of April\n",
    "### output: plotly chloropleth map html"
   ],
   "cell_type": "markdown",
   "metadata": {}
  },
  {
   "cell_type": "code",
   "execution_count": 1,
   "metadata": {},
   "outputs": [],
   "source": [
    "# importing libraries\n",
    "\n",
    "from plotly.subplots import make_subplots\n",
    "import plotly.graph_objects as go\n",
    "import plotly.figure_factory as ff\n",
    "import numpy as np\n",
    "import pandas as pd\n",
    "import plotly.express as px\n"
   ]
  },
  {
   "source": [
    "Below we create a list of the paths to each csv to analyse"
   ],
   "cell_type": "markdown",
   "metadata": {}
  },
  {
   "cell_type": "code",
   "execution_count": 4,
   "metadata": {},
   "outputs": [
    {
     "output_type": "stream",
     "name": "stdout",
     "text": [
      "['average_sentiment_01.csv', 'average_sentiment_02.csv', 'average_sentiment_03.csv', 'average_sentiment_04.csv', 'average_sentiment_05.csv']\n"
     ]
    }
   ],
   "source": [
    "paths_list=[]\n",
    "for i in range(1,6): # day 1 to 30 for the month of April\n",
    "    if i>9:\n",
    "        paths_list.append('average_sentiment_{}.csv'.format(i))\n",
    "    else:\n",
    "        paths_list.append('average_sentiment_0{}.csv'.format(i))\n",
    "\n",
    "print(paths_list)"
   ]
  },
  {
   "source": [
    "The code here is taken from the Plotly library documentation and adapted to suit our needs\n",
    "* https://plotly.com/python/choropleth-maps/\n",
    "* https://plotly.com/python/mapbox-county-choropleth/\n",
    "* https://plotly.com/python/sliders/\n",
    "* https://plotly.com/python/reference/choropleth/\n",
    "* https://plotly.com/python/colorscales/\n",
    "\n",
    "We create a plotly figure of a chloropleth map for average sentiment with a slider to adjust the day"
   ],
   "cell_type": "markdown",
   "metadata": {}
  },
  {
   "cell_type": "code",
   "execution_count": 21,
   "metadata": {},
   "outputs": [
    {
     "output_type": "display_data",
     "data": {
      "application/vnd.plotly.v1+json": {
       "config": {
        "plotlyServerURL": "https://plot.ly"
       },
       "data": [
        {
         "colorbar": {
          "title": {
           "text": "Average Sentiment"
          }
         },
         "colorscale": [
          [
           0,
           "rgb(247,251,255)"
          ],
          [
           0.125,
           "rgb(222,235,247)"
          ],
          [
           0.25,
           "rgb(198,219,239)"
          ],
          [
           0.375,
           "rgb(158,202,225)"
          ],
          [
           0.5,
           "rgb(107,174,214)"
          ],
          [
           0.625,
           "rgb(66,146,198)"
          ],
          [
           0.75,
           "rgb(33,113,181)"
          ],
          [
           0.875,
           "rgb(8,81,156)"
          ],
          [
           1,
           "rgb(8,48,107)"
          ]
         ],
         "hoverinfo": "text",
         "locationmode": "USA-states",
         "locations": [
          "AK",
          "AL",
          "AR",
          "AZ",
          "CA",
          "CO",
          "CT",
          "DC",
          "DE",
          "FL",
          "GA",
          "HI",
          "IA",
          "ID",
          "IL",
          "IN",
          "KS",
          "KY",
          "LA",
          "MA",
          "MD",
          "ME",
          "MI",
          "MN",
          "MO",
          "MS",
          "MT",
          "NC",
          "ND",
          "NE",
          "NH",
          "NJ",
          "NM",
          "NV",
          "NY",
          "OH",
          "OK",
          "OR",
          "PA",
          "RI",
          "SC",
          "SD",
          "TN",
          "TX",
          "UT",
          "VA",
          "VT",
          "WA",
          "WI",
          "WY"
         ],
         "name": "0",
         "reversescale": true,
         "text": [
          "Sentiment: -0.164, Magnitude: 0.7<br>AK",
          "Sentiment: -0.156, Magnitude: 0.64<br>AL",
          "Sentiment: -0.18, Magnitude: 0.676<br>AR",
          "Sentiment: -0.17, Magnitude: 0.676<br>AZ",
          "Sentiment: -0.168, Magnitude: 0.68<br>CA",
          "Sentiment: -0.161, Magnitude: 0.679<br>CO",
          "Sentiment: -0.159, Magnitude: 0.697<br>CT",
          "Sentiment: -0.161, Magnitude: 0.683<br>DC",
          "Sentiment: -0.167, Magnitude: 0.674<br>DE",
          "Sentiment: -0.171, Magnitude: 0.683<br>FL",
          "Sentiment: -0.166, Magnitude: 0.689<br>GA",
          "Sentiment: -0.161, Magnitude: 0.687<br>HI",
          "Sentiment: -0.175, Magnitude: 0.738<br>IA",
          "Sentiment: -0.142, Magnitude: 0.697<br>ID",
          "Sentiment: -0.167, Magnitude: 0.696<br>IL",
          "Sentiment: -0.169, Magnitude: 0.708<br>IN",
          "Sentiment: -0.171, Magnitude: 0.701<br>KS",
          "Sentiment: -0.176, Magnitude: 0.689<br>KY",
          "Sentiment: -0.178, Magnitude: 0.67<br>LA",
          "Sentiment: -0.191, Magnitude: 0.666<br>MA",
          "Sentiment: -0.177, Magnitude: 0.692<br>MD",
          "Sentiment: -0.166, Magnitude: 0.675<br>ME",
          "Sentiment: -0.162, Magnitude: 0.693<br>MI",
          "Sentiment: -0.181, Magnitude: 0.675<br>MN",
          "Sentiment: -0.152, Magnitude: 0.7<br>MO",
          "Sentiment: -0.159, Magnitude: 0.644<br>MS",
          "Sentiment: -0.174, Magnitude: 0.707<br>MT",
          "Sentiment: -0.164, Magnitude: 0.694<br>NC",
          "Sentiment: -0.197, Magnitude: 0.56<br>ND",
          "Sentiment: -0.129, Magnitude: 0.687<br>NE",
          "Sentiment: -0.161, Magnitude: 0.708<br>NH",
          "Sentiment: -0.15, Magnitude: 0.688<br>NJ",
          "Sentiment: -0.151, Magnitude: 0.661<br>NM",
          "Sentiment: -0.206, Magnitude: 0.728<br>NV",
          "Sentiment: -0.136, Magnitude: 0.673<br>NY",
          "Sentiment: -0.161, Magnitude: 0.705<br>OH",
          "Sentiment: -0.157, Magnitude: 0.696<br>OK",
          "Sentiment: -0.201, Magnitude: 0.689<br>OR",
          "Sentiment: -0.186, Magnitude: 0.714<br>PA",
          "Sentiment: -0.112, Magnitude: 0.63<br>RI",
          "Sentiment: -0.159, Magnitude: 0.682<br>SC",
          "Sentiment: -0.158, Magnitude: 0.647<br>SD",
          "Sentiment: -0.173, Magnitude: 0.701<br>TN",
          "Sentiment: -0.171, Magnitude: 0.678<br>TX",
          "Sentiment: -0.14, Magnitude: 0.753<br>UT",
          "Sentiment: -0.161, Magnitude: 0.691<br>VA",
          "Sentiment: -0.211, Magnitude: 0.66<br>VT",
          "Sentiment: -0.135, Magnitude: 0.648<br>WA",
          "Sentiment: -0.191, Magnitude: 0.671<br>WI",
          "Sentiment: -0.21, Magnitude: 0.685<br>WY"
         ],
         "type": "choropleth",
         "visible": true,
         "z": [
          -0.16417910636805774,
          -0.15591398055469202,
          -0.1796690326879774,
          -0.1702833471828769,
          -0.1678571449751489,
          -0.16136054645995704,
          -0.15890411096178506,
          -0.16111111185616914,
          -0.16653696708526128,
          -0.17086444240217125,
          -0.16601535448101293,
          -0.16076389081879622,
          -0.17475345397195402,
          -0.14150326935197013,
          -0.1669248666161257,
          -0.1687091526764086,
          -0.17083799170548689,
          -0.17568345539432634,
          -0.17767695398382613,
          -0.1910714308716475,
          -0.17660764419410346,
          -0.165701561024566,
          -0.16216216421136795,
          -0.18075221489323715,
          -0.15243393762013846,
          -0.1585294140393243,
          -0.1739285733550787,
          -0.1639906489642356,
          -0.19670329922503169,
          -0.12894737010723667,
          -0.16079136911484834,
          -0.14974968918646978,
          -0.1508591087003754,
          -0.20564516385396325,
          -0.13614156130424795,
          -0.16070272930920593,
          -0.15669173143411938,
          -0.20147630388225432,
          -0.18601997397021627,
          -0.11157894926635843,
          -0.15890625147148968,
          -0.1582278504590445,
          -0.17304813049853165,
          -0.17143904894972808,
          -0.13995381250254826,
          -0.16052631757661184,
          -0.21073446603818127,
          -0.13539313581727802,
          -0.19080460004004174,
          -0.2104166684568756
         ],
         "zmax": 0,
         "zmin": -0.25
        },
        {
         "colorbar": {
          "title": {
           "text": "Average Sentiment"
          }
         },
         "colorscale": [
          [
           0,
           "rgb(247,251,255)"
          ],
          [
           0.125,
           "rgb(222,235,247)"
          ],
          [
           0.25,
           "rgb(198,219,239)"
          ],
          [
           0.375,
           "rgb(158,202,225)"
          ],
          [
           0.5,
           "rgb(107,174,214)"
          ],
          [
           0.625,
           "rgb(66,146,198)"
          ],
          [
           0.75,
           "rgb(33,113,181)"
          ],
          [
           0.875,
           "rgb(8,81,156)"
          ],
          [
           1,
           "rgb(8,48,107)"
          ]
         ],
         "hoverinfo": "text",
         "locationmode": "USA-states",
         "locations": [
          "AK",
          "AL",
          "AR",
          "AZ",
          "CA",
          "CO",
          "CT",
          "DC",
          "DE",
          "FL",
          "GA",
          "HI",
          "IA",
          "ID",
          "IL",
          "IN",
          "KS",
          "KY",
          "LA",
          "MA",
          "MD",
          "ME",
          "MI",
          "MN",
          "MO",
          "MS",
          "MT",
          "NC",
          "ND",
          "NE",
          "NH",
          "NJ",
          "NM",
          "NV",
          "NY",
          "OH",
          "OK",
          "OR",
          "PA",
          "RI",
          "SC",
          "SD",
          "TN",
          "TX",
          "UT",
          "VA",
          "VT",
          "WA",
          "WI",
          "WY"
         ],
         "name": "1",
         "reversescale": true,
         "text": [
          "Sentiment: -0.155, Magnitude: 0.691<br>AK",
          "Sentiment: -0.161, Magnitude: 0.64<br>AL",
          "Sentiment: -0.152, Magnitude: 0.686<br>AR",
          "Sentiment: -0.189, Magnitude: 0.667<br>AZ",
          "Sentiment: -0.159, Magnitude: 0.673<br>CA",
          "Sentiment: -0.171, Magnitude: 0.713<br>CO",
          "Sentiment: -0.154, Magnitude: 0.669<br>CT",
          "Sentiment: -0.134, Magnitude: 0.686<br>DC",
          "Sentiment: -0.174, Magnitude: 0.637<br>DE",
          "Sentiment: -0.16, Magnitude: 0.681<br>FL",
          "Sentiment: -0.163, Magnitude: 0.671<br>GA",
          "Sentiment: -0.12, Magnitude: 0.693<br>HI",
          "Sentiment: -0.157, Magnitude: 0.721<br>IA",
          "Sentiment: -0.178, Magnitude: 0.659<br>ID",
          "Sentiment: -0.174, Magnitude: 0.674<br>IL",
          "Sentiment: -0.142, Magnitude: 0.677<br>IN",
          "Sentiment: -0.178, Magnitude: 0.665<br>KS",
          "Sentiment: -0.162, Magnitude: 0.667<br>KY",
          "Sentiment: -0.185, Magnitude: 0.688<br>LA",
          "Sentiment: -0.169, Magnitude: 0.705<br>MA",
          "Sentiment: -0.186, Magnitude: 0.643<br>MD",
          "Sentiment: -0.131, Magnitude: 0.7<br>ME",
          "Sentiment: -0.182, Magnitude: 0.686<br>MI",
          "Sentiment: -0.175, Magnitude: 0.724<br>MN",
          "Sentiment: -0.21, Magnitude: 0.741<br>MO",
          "Sentiment: -0.183, Magnitude: 0.705<br>MS",
          "Sentiment: -0.15, Magnitude: 0.704<br>MT",
          "Sentiment: -0.163, Magnitude: 0.699<br>NC",
          "Sentiment: -0.194, Magnitude: 0.694<br>ND",
          "Sentiment: -0.155, Magnitude: 0.66<br>NE",
          "Sentiment: -0.134, Magnitude: 0.651<br>NH",
          "Sentiment: -0.159, Magnitude: 0.673<br>NJ",
          "Sentiment: -0.163, Magnitude: 0.727<br>NM",
          "Sentiment: -0.14, Magnitude: 0.687<br>NV",
          "Sentiment: -0.136, Magnitude: 0.655<br>NY",
          "Sentiment: -0.168, Magnitude: 0.682<br>OH",
          "Sentiment: -0.151, Magnitude: 0.674<br>OK",
          "Sentiment: -0.186, Magnitude: 0.709<br>OR",
          "Sentiment: -0.166, Magnitude: 0.698<br>PA",
          "Sentiment: -0.097, Magnitude: 0.724<br>RI",
          "Sentiment: -0.142, Magnitude: 0.678<br>SC",
          "Sentiment: -0.105, Magnitude: 0.584<br>SD",
          "Sentiment: -0.17, Magnitude: 0.712<br>TN",
          "Sentiment: -0.171, Magnitude: 0.681<br>TX",
          "Sentiment: -0.159, Magnitude: 0.673<br>UT",
          "Sentiment: -0.154, Magnitude: 0.679<br>VA",
          "Sentiment: -0.153, Magnitude: 0.798<br>VT",
          "Sentiment: -0.137, Magnitude: 0.653<br>WA",
          "Sentiment: -0.173, Magnitude: 0.704<br>WI",
          "Sentiment: -0.17, Magnitude: 0.752<br>WY"
         ],
         "type": "choropleth",
         "visible": false,
         "z": [
          -0.15480769361154392,
          -0.16123595716578235,
          -0.15206812844224218,
          -0.1888181197563132,
          -0.15935251998144426,
          -0.17068965735430158,
          -0.15402299059288846,
          -0.13380281742609726,
          -0.17354260231347365,
          -0.16049513539084176,
          -0.16318557679563606,
          -0.1199275374520516,
          -0.156983242493324,
          -0.17761733124725226,
          -0.17385570408994602,
          -0.14205357326593782,
          -0.17779043499287006,
          -0.16246154042390676,
          -0.18467153512267734,
          -0.1687676407193532,
          -0.1859528510474503,
          -0.1305494521345411,
          -0.18175141443051188,
          -0.1751213610371195,
          -0.20990753228944706,
          -0.1827922100806004,
          -0.1497991988397985,
          -0.16305939987168455,
          -0.19402985397114686,
          -0.15476190692612102,
          -0.13383458818035915,
          -0.15929847972961866,
          -0.16333333477377893,
          -0.140395482107576,
          -0.1356150644069935,
          -0.16772306403522086,
          -0.15052473928215265,
          -0.18557214221081528,
          -0.1656612550172802,
          -0.09653179325981637,
          -0.14222222417593006,
          -0.10533333490292232,
          -0.1704128462855422,
          -0.17098436281976068,
          -0.15864865077105728,
          -0.15425532147834345,
          -0.1534883737304183,
          -0.13728813720400498,
          -0.17310443702813386,
          -0.17000000201738796
         ],
         "zmax": 0,
         "zmin": -0.25
        },
        {
         "colorbar": {
          "title": {
           "text": "Average Sentiment"
          }
         },
         "colorscale": [
          [
           0,
           "rgb(247,251,255)"
          ],
          [
           0.125,
           "rgb(222,235,247)"
          ],
          [
           0.25,
           "rgb(198,219,239)"
          ],
          [
           0.375,
           "rgb(158,202,225)"
          ],
          [
           0.5,
           "rgb(107,174,214)"
          ],
          [
           0.625,
           "rgb(66,146,198)"
          ],
          [
           0.75,
           "rgb(33,113,181)"
          ],
          [
           0.875,
           "rgb(8,81,156)"
          ],
          [
           1,
           "rgb(8,48,107)"
          ]
         ],
         "hoverinfo": "text",
         "locationmode": "USA-states",
         "locations": [
          "AK",
          "AL",
          "AR",
          "AZ",
          "CA",
          "CO",
          "CT",
          "DC",
          "DE",
          "FL",
          "GA",
          "HI",
          "IA",
          "ID",
          "IL",
          "IN",
          "KS",
          "KY",
          "LA",
          "MA",
          "MD",
          "ME",
          "MI",
          "MN",
          "MO",
          "MS",
          "MT",
          "NC",
          "ND",
          "NE",
          "NH",
          "NJ",
          "NM",
          "NV",
          "NY",
          "OH",
          "OK",
          "OR",
          "PA",
          "RI",
          "SC",
          "SD",
          "TN",
          "TX",
          "UT",
          "VA",
          "VT",
          "WA",
          "WI",
          "WY"
         ],
         "name": "2",
         "reversescale": true,
         "text": [
          "Sentiment: -0.122, Magnitude: 0.689<br>AK",
          "Sentiment: -0.147, Magnitude: 0.659<br>AL",
          "Sentiment: -0.201, Magnitude: 0.725<br>AR",
          "Sentiment: -0.166, Magnitude: 0.706<br>AZ",
          "Sentiment: -0.148, Magnitude: 0.68<br>CA",
          "Sentiment: -0.144, Magnitude: 0.681<br>CO",
          "Sentiment: -0.149, Magnitude: 0.658<br>CT",
          "Sentiment: -0.081, Magnitude: 0.673<br>DC",
          "Sentiment: -0.129, Magnitude: 0.63<br>DE",
          "Sentiment: -0.15, Magnitude: 0.679<br>FL",
          "Sentiment: -0.154, Magnitude: 0.662<br>GA",
          "Sentiment: -0.116, Magnitude: 0.662<br>HI",
          "Sentiment: -0.178, Magnitude: 0.688<br>IA",
          "Sentiment: -0.137, Magnitude: 0.669<br>ID",
          "Sentiment: -0.164, Magnitude: 0.687<br>IL",
          "Sentiment: -0.119, Magnitude: 0.684<br>IN",
          "Sentiment: -0.138, Magnitude: 0.643<br>KS",
          "Sentiment: -0.157, Magnitude: 0.633<br>KY",
          "Sentiment: -0.162, Magnitude: 0.661<br>LA",
          "Sentiment: -0.146, Magnitude: 0.67<br>MA",
          "Sentiment: -0.136, Magnitude: 0.67<br>MD",
          "Sentiment: -0.172, Magnitude: 0.672<br>ME",
          "Sentiment: -0.157, Magnitude: 0.695<br>MI",
          "Sentiment: -0.155, Magnitude: 0.631<br>MN",
          "Sentiment: -0.143, Magnitude: 0.669<br>MO",
          "Sentiment: -0.141, Magnitude: 0.703<br>MS",
          "Sentiment: -0.147, Magnitude: 0.706<br>MT",
          "Sentiment: -0.154, Magnitude: 0.696<br>NC",
          "Sentiment: -0.143, Magnitude: 0.812<br>ND",
          "Sentiment: -0.154, Magnitude: 0.681<br>NE",
          "Sentiment: -0.137, Magnitude: 0.739<br>NH",
          "Sentiment: -0.143, Magnitude: 0.705<br>NJ",
          "Sentiment: -0.135, Magnitude: 0.668<br>NM",
          "Sentiment: -0.151, Magnitude: 0.681<br>NV",
          "Sentiment: -0.117, Magnitude: 0.649<br>NY",
          "Sentiment: -0.149, Magnitude: 0.712<br>OH",
          "Sentiment: -0.133, Magnitude: 0.622<br>OK",
          "Sentiment: -0.175, Magnitude: 0.693<br>OR",
          "Sentiment: -0.142, Magnitude: 0.668<br>PA",
          "Sentiment: -0.144, Magnitude: 0.674<br>RI",
          "Sentiment: -0.164, Magnitude: 0.728<br>SC",
          "Sentiment: -0.133, Magnitude: 0.66<br>SD",
          "Sentiment: -0.157, Magnitude: 0.723<br>TN",
          "Sentiment: -0.157, Magnitude: 0.67<br>TX",
          "Sentiment: -0.136, Magnitude: 0.721<br>UT",
          "Sentiment: -0.146, Magnitude: 0.685<br>VA",
          "Sentiment: -0.165, Magnitude: 0.702<br>VT",
          "Sentiment: -0.11, Magnitude: 0.638<br>WA",
          "Sentiment: -0.177, Magnitude: 0.686<br>WI",
          "Sentiment: -0.185, Magnitude: 0.685<br>WY"
         ],
         "type": "choropleth",
         "visible": false,
         "z": [
          -0.12226720860129907,
          -0.14743202578085066,
          -0.2006880756843528,
          -0.16556862924028845,
          -0.14835602985970284,
          -0.14390415998623352,
          -0.1489323861499274,
          -0.0812500003958121,
          -0.12904762132536798,
          -0.14985004462774176,
          -0.15419254841294533,
          -0.11571906502031562,
          -0.17751938208591106,
          -0.13716216387881622,
          -0.16351590320046713,
          -0.11914480221254138,
          -0.13836478130809915,
          -0.1567662589003206,
          -0.16238698262256482,
          -0.1464358468268772,
          -0.13628118087341184,
          -0.17233606783642633,
          -0.1567567587599211,
          -0.1553219467616896,
          -0.14268833221633814,
          -0.14065573994742064,
          -0.146982759494206,
          -0.15440547660031412,
          -0.1432835841134413,
          -0.1540178580076567,
          -0.1366795398381226,
          -0.14314429459816588,
          -0.1350210982095843,
          -0.15138121741664345,
          -0.11719944538280648,
          -0.1494069124210305,
          -0.13273273439736696,
          -0.17471059878171818,
          -0.14232209916418412,
          -0.1443708630291042,
          -0.1642487068790846,
          -0.13333333474703324,
          -0.15670588368002106,
          -0.1573736634390282,
          -0.13631579070106933,
          -0.1460966559858644,
          -0.16540880655904985,
          -0.10974903629093097,
          -0.17713458992422232,
          -0.18536585666299835
         ],
         "zmax": 0,
         "zmin": -0.25
        },
        {
         "colorbar": {
          "title": {
           "text": "Average Sentiment"
          }
         },
         "colorscale": [
          [
           0,
           "rgb(247,251,255)"
          ],
          [
           0.125,
           "rgb(222,235,247)"
          ],
          [
           0.25,
           "rgb(198,219,239)"
          ],
          [
           0.375,
           "rgb(158,202,225)"
          ],
          [
           0.5,
           "rgb(107,174,214)"
          ],
          [
           0.625,
           "rgb(66,146,198)"
          ],
          [
           0.75,
           "rgb(33,113,181)"
          ],
          [
           0.875,
           "rgb(8,81,156)"
          ],
          [
           1,
           "rgb(8,48,107)"
          ]
         ],
         "hoverinfo": "text",
         "locationmode": "USA-states",
         "locations": [
          "AK",
          "AL",
          "AR",
          "AZ",
          "CA",
          "CO",
          "CT",
          "DC",
          "DE",
          "FL",
          "GA",
          "HI",
          "IA",
          "ID",
          "IL",
          "IN",
          "KS",
          "KY",
          "LA",
          "MA",
          "MD",
          "ME",
          "MI",
          "MN",
          "MO",
          "MS",
          "MT",
          "NC",
          "ND",
          "NE",
          "NH",
          "NJ",
          "NM",
          "NV",
          "NY",
          "OH",
          "OK",
          "OR",
          "PA",
          "RI",
          "SC",
          "SD",
          "TN",
          "TX",
          "UT",
          "VA",
          "VT",
          "WA",
          "WI",
          "WY"
         ],
         "name": "3",
         "reversescale": true,
         "text": [
          "Sentiment: -0.196, Magnitude: 0.72<br>AK",
          "Sentiment: -0.149, Magnitude: 0.682<br>AL",
          "Sentiment: -0.147, Magnitude: 0.659<br>AR",
          "Sentiment: -0.163, Magnitude: 0.69<br>AZ",
          "Sentiment: -0.154, Magnitude: 0.682<br>CA",
          "Sentiment: -0.165, Magnitude: 0.684<br>CO",
          "Sentiment: -0.149, Magnitude: 0.651<br>CT",
          "Sentiment: -0.148, Magnitude: 0.565<br>DC",
          "Sentiment: -0.151, Magnitude: 0.67<br>DE",
          "Sentiment: -0.155, Magnitude: 0.672<br>FL",
          "Sentiment: -0.146, Magnitude: 0.671<br>GA",
          "Sentiment: -0.097, Magnitude: 0.674<br>HI",
          "Sentiment: -0.148, Magnitude: 0.688<br>IA",
          "Sentiment: -0.196, Magnitude: 0.716<br>ID",
          "Sentiment: -0.181, Magnitude: 0.702<br>IL",
          "Sentiment: -0.147, Magnitude: 0.677<br>IN",
          "Sentiment: -0.135, Magnitude: 0.645<br>KS",
          "Sentiment: -0.137, Magnitude: 0.696<br>KY",
          "Sentiment: -0.167, Magnitude: 0.668<br>LA",
          "Sentiment: -0.156, Magnitude: 0.655<br>MA",
          "Sentiment: -0.166, Magnitude: 0.655<br>MD",
          "Sentiment: -0.162, Magnitude: 0.694<br>ME",
          "Sentiment: -0.182, Magnitude: 0.683<br>MI",
          "Sentiment: -0.177, Magnitude: 0.694<br>MN",
          "Sentiment: -0.162, Magnitude: 0.65<br>MO",
          "Sentiment: -0.109, Magnitude: 0.66<br>MS",
          "Sentiment: -0.114, Magnitude: 0.669<br>MT",
          "Sentiment: -0.171, Magnitude: 0.688<br>NC",
          "Sentiment: -0.191, Magnitude: 0.742<br>ND",
          "Sentiment: -0.139, Magnitude: 0.639<br>NE",
          "Sentiment: -0.173, Magnitude: 0.649<br>NH",
          "Sentiment: -0.141, Magnitude: 0.686<br>NJ",
          "Sentiment: -0.157, Magnitude: 0.725<br>NM",
          "Sentiment: -0.14, Magnitude: 0.662<br>NV",
          "Sentiment: -0.124, Magnitude: 0.68<br>NY",
          "Sentiment: -0.164, Magnitude: 0.677<br>OH",
          "Sentiment: -0.125, Magnitude: 0.723<br>OK",
          "Sentiment: -0.158, Magnitude: 0.691<br>OR",
          "Sentiment: -0.176, Magnitude: 0.671<br>PA",
          "Sentiment: -0.158, Magnitude: 0.769<br>RI",
          "Sentiment: -0.168, Magnitude: 0.681<br>SC",
          "Sentiment: -0.195, Magnitude: 0.653<br>SD",
          "Sentiment: -0.162, Magnitude: 0.72<br>TN",
          "Sentiment: -0.162, Magnitude: 0.68<br>TX",
          "Sentiment: -0.147, Magnitude: 0.713<br>UT",
          "Sentiment: -0.146, Magnitude: 0.662<br>VA",
          "Sentiment: -0.107, Magnitude: 0.672<br>VT",
          "Sentiment: -0.123, Magnitude: 0.662<br>WA",
          "Sentiment: -0.164, Magnitude: 0.669<br>WI",
          "Sentiment: -0.168, Magnitude: 0.557<br>WY"
         ],
         "type": "choropleth",
         "visible": false,
         "z": [
          -0.1960159392945795,
          -0.1486238550839074,
          -0.14688796893194994,
          -0.16338329972283147,
          -0.15399054275231533,
          -0.16542185532807646,
          -0.14945848559160524,
          -0.14807692671624514,
          -0.1511627928808678,
          -0.1552193358020023,
          -0.1455182091747763,
          -0.09725609932821698,
          -0.1481617671327994,
          -0.19591078248055008,
          -0.1810116110798929,
          -0.14690431696668574,
          -0.13526510660399932,
          -0.13711340386177254,
          -0.16740331647859313,
          -0.1563885973839221,
          -0.1662076288060743,
          -0.1618843705610749,
          -0.1819089924447346,
          -0.17695852699539355,
          -0.1622720916153338,
          -0.10886850383485858,
          -0.1139442244492679,
          -0.17108895939323435,
          -0.19058823936125813,
          -0.13879310583760002,
          -0.17250996234407462,
          -0.1412550080443256,
          -0.156785715823727,
          -0.13974026100976125,
          -0.12412356977059748,
          -0.16352166981322389,
          -0.1251506036798279,
          -0.15757085257454925,
          -0.1764872545539995,
          -0.15769230971460815,
          -0.16825153564382914,
          -0.19473684588937384,
          -0.16219653382122173,
          -0.1618802223731278,
          -0.14680851213237706,
          -0.14620853271953302,
          -0.10697674543358557,
          -0.12300370333963508,
          -0.16351706226627655,
          -0.1678160936839279
         ],
         "zmax": 0,
         "zmin": -0.25
        },
        {
         "colorbar": {
          "title": {
           "text": "Average Sentiment"
          }
         },
         "colorscale": [
          [
           0,
           "rgb(247,251,255)"
          ],
          [
           0.125,
           "rgb(222,235,247)"
          ],
          [
           0.25,
           "rgb(198,219,239)"
          ],
          [
           0.375,
           "rgb(158,202,225)"
          ],
          [
           0.5,
           "rgb(107,174,214)"
          ],
          [
           0.625,
           "rgb(66,146,198)"
          ],
          [
           0.75,
           "rgb(33,113,181)"
          ],
          [
           0.875,
           "rgb(8,81,156)"
          ],
          [
           1,
           "rgb(8,48,107)"
          ]
         ],
         "hoverinfo": "text",
         "locationmode": "USA-states",
         "locations": [
          "AK",
          "AL",
          "AR",
          "AZ",
          "CA",
          "CO",
          "CT",
          "DC",
          "DE",
          "FL",
          "GA",
          "HI",
          "IA",
          "ID",
          "IL",
          "IN",
          "KS",
          "KY",
          "LA",
          "MA",
          "MD",
          "ME",
          "MI",
          "MN",
          "MO",
          "MS",
          "MT",
          "NC",
          "ND",
          "NE",
          "NH",
          "NJ",
          "NM",
          "NV",
          "NY",
          "OH",
          "OK",
          "OR",
          "PA",
          "RI",
          "SC",
          "SD",
          "TN",
          "TX",
          "UT",
          "VA",
          "VT",
          "WA",
          "WI",
          "WY"
         ],
         "name": "4",
         "reversescale": true,
         "text": [
          "Sentiment: -0.149, Magnitude: 0.703<br>AK",
          "Sentiment: -0.168, Magnitude: 0.67<br>AL",
          "Sentiment: -0.168, Magnitude: 0.675<br>AR",
          "Sentiment: -0.177, Magnitude: 0.73<br>AZ",
          "Sentiment: -0.156, Magnitude: 0.681<br>CA",
          "Sentiment: -0.179, Magnitude: 0.698<br>CO",
          "Sentiment: -0.152, Magnitude: 0.659<br>CT",
          "Sentiment: -0.198, Magnitude: 0.668<br>DC",
          "Sentiment: -0.155, Magnitude: 0.679<br>DE",
          "Sentiment: -0.157, Magnitude: 0.668<br>FL",
          "Sentiment: -0.174, Magnitude: 0.673<br>GA",
          "Sentiment: -0.129, Magnitude: 0.614<br>HI",
          "Sentiment: -0.17, Magnitude: 0.697<br>IA",
          "Sentiment: -0.179, Magnitude: 0.699<br>ID",
          "Sentiment: -0.16, Magnitude: 0.72<br>IL",
          "Sentiment: -0.159, Magnitude: 0.665<br>IN",
          "Sentiment: -0.151, Magnitude: 0.671<br>KS",
          "Sentiment: -0.151, Magnitude: 0.7<br>KY",
          "Sentiment: -0.177, Magnitude: 0.698<br>LA",
          "Sentiment: -0.152, Magnitude: 0.664<br>MA",
          "Sentiment: -0.145, Magnitude: 0.669<br>MD",
          "Sentiment: -0.197, Magnitude: 0.701<br>ME",
          "Sentiment: -0.176, Magnitude: 0.662<br>MI",
          "Sentiment: -0.149, Magnitude: 0.667<br>MN",
          "Sentiment: -0.16, Magnitude: 0.69<br>MO",
          "Sentiment: -0.152, Magnitude: 0.702<br>MS",
          "Sentiment: -0.143, Magnitude: 0.689<br>MT",
          "Sentiment: -0.174, Magnitude: 0.704<br>NC",
          "Sentiment: -0.101, Magnitude: 0.651<br>ND",
          "Sentiment: -0.148, Magnitude: 0.625<br>NE",
          "Sentiment: -0.119, Magnitude: 0.709<br>NH",
          "Sentiment: -0.153, Magnitude: 0.696<br>NJ",
          "Sentiment: -0.177, Magnitude: 0.672<br>NM",
          "Sentiment: -0.155, Magnitude: 0.656<br>NV",
          "Sentiment: -0.128, Magnitude: 0.66<br>NY",
          "Sentiment: -0.16, Magnitude: 0.709<br>OH",
          "Sentiment: -0.168, Magnitude: 0.697<br>OK",
          "Sentiment: -0.182, Magnitude: 0.689<br>OR",
          "Sentiment: -0.186, Magnitude: 0.691<br>PA",
          "Sentiment: -0.175, Magnitude: 0.745<br>RI",
          "Sentiment: -0.134, Magnitude: 0.687<br>SC",
          "Sentiment: -0.096, Magnitude: 0.729<br>SD",
          "Sentiment: -0.183, Magnitude: 0.74<br>TN",
          "Sentiment: -0.159, Magnitude: 0.692<br>TX",
          "Sentiment: -0.123, Magnitude: 0.618<br>UT",
          "Sentiment: -0.17, Magnitude: 0.674<br>VA",
          "Sentiment: -0.152, Magnitude: 0.635<br>VT",
          "Sentiment: -0.14, Magnitude: 0.672<br>WA",
          "Sentiment: -0.179, Magnitude: 0.713<br>WI",
          "Sentiment: -0.131, Magnitude: 0.759<br>WY"
         ],
         "type": "choropleth",
         "visible": false,
         "z": [
          -0.14928910047945818,
          -0.16753048971068205,
          -0.16812227256433412,
          -0.17724551080898968,
          -0.15560622928881726,
          -0.17915804269726807,
          -0.15215759982982227,
          -0.19841270243364667,
          -0.15533980839316128,
          -0.15663023496299805,
          -0.17401086302044966,
          -0.12900302210243084,
          -0.17034884003648,
          -0.17862069185437826,
          -0.16017777983347575,
          -0.15909961864380773,
          -0.15053908534930402,
          -0.1507614233898229,
          -0.17666666881557094,
          -0.15155601815254854,
          -0.14547537415707645,
          -0.1967005095619538,
          -0.1757085041685419,
          -0.14880383012005302,
          -0.15988700770599354,
          -0.1523668655144745,
          -0.1431906639601934,
          -0.1741961437573962,
          -0.101204821503306,
          -0.147846892333487,
          -0.11926229692018422,
          -0.15270570949482154,
          -0.1767790283770597,
          -0.1554644825802149,
          -0.12820513000561976,
          -0.16006192174750708,
          -0.16799363251894142,
          -0.18200493250700325,
          -0.1862545476393266,
          -0.17518248370964162,
          -0.13360389748999438,
          -0.09605263212793752,
          -0.18276283826250905,
          -0.15880224546402427,
          -0.12296296450090995,
          -0.17028360251617491,
          -0.1520958100250381,
          -0.1400618516254331,
          -0.17926829439110872,
          -0.13119266325727516
         ],
         "zmax": 0,
         "zmin": -0.25
        }
       ],
       "layout": {
        "geo": {
         "scope": "usa"
        },
        "height": 500,
        "hovermode": "x unified",
        "sliders": [
         {
          "active": 10,
          "currentvalue": {
           "prefix": "Date: "
          },
          "pad": {
           "t": 50
          },
          "steps": [
           {
            "args": [
             {
              "visible": [
               true,
               false,
               false,
               false,
               false
              ]
             },
             {
              "title": "Average Sentiment on COVID Tweets in the US, 1/04/2020"
             }
            ],
            "label": "1/04/2020",
            "method": "update"
           },
           {
            "args": [
             {
              "visible": [
               false,
               true,
               false,
               false,
               false
              ]
             },
             {
              "title": "Average Sentiment on COVID Tweets in the US, 2/04/2020"
             }
            ],
            "label": "2/04/2020",
            "method": "update"
           },
           {
            "args": [
             {
              "visible": [
               false,
               false,
               true,
               false,
               false
              ]
             },
             {
              "title": "Average Sentiment on COVID Tweets in the US, 3/04/2020"
             }
            ],
            "label": "3/04/2020",
            "method": "update"
           },
           {
            "args": [
             {
              "visible": [
               false,
               false,
               false,
               true,
               false
              ]
             },
             {
              "title": "Average Sentiment on COVID Tweets in the US, 4/04/2020"
             }
            ],
            "label": "4/04/2020",
            "method": "update"
           },
           {
            "args": [
             {
              "visible": [
               false,
               false,
               false,
               false,
               true
              ]
             },
             {
              "title": "Average Sentiment on COVID Tweets in the US, 5/04/2020"
             }
            ],
            "label": "5/04/2020",
            "method": "update"
           }
          ]
         }
        ],
        "template": {
         "data": {
          "bar": [
           {
            "error_x": {
             "color": "#2a3f5f"
            },
            "error_y": {
             "color": "#2a3f5f"
            },
            "marker": {
             "line": {
              "color": "#E5ECF6",
              "width": 0.5
             }
            },
            "type": "bar"
           }
          ],
          "barpolar": [
           {
            "marker": {
             "line": {
              "color": "#E5ECF6",
              "width": 0.5
             }
            },
            "type": "barpolar"
           }
          ],
          "carpet": [
           {
            "aaxis": {
             "endlinecolor": "#2a3f5f",
             "gridcolor": "white",
             "linecolor": "white",
             "minorgridcolor": "white",
             "startlinecolor": "#2a3f5f"
            },
            "baxis": {
             "endlinecolor": "#2a3f5f",
             "gridcolor": "white",
             "linecolor": "white",
             "minorgridcolor": "white",
             "startlinecolor": "#2a3f5f"
            },
            "type": "carpet"
           }
          ],
          "choropleth": [
           {
            "colorbar": {
             "outlinewidth": 0,
             "ticks": ""
            },
            "type": "choropleth"
           }
          ],
          "contour": [
           {
            "colorbar": {
             "outlinewidth": 0,
             "ticks": ""
            },
            "colorscale": [
             [
              0,
              "#0d0887"
             ],
             [
              0.1111111111111111,
              "#46039f"
             ],
             [
              0.2222222222222222,
              "#7201a8"
             ],
             [
              0.3333333333333333,
              "#9c179e"
             ],
             [
              0.4444444444444444,
              "#bd3786"
             ],
             [
              0.5555555555555556,
              "#d8576b"
             ],
             [
              0.6666666666666666,
              "#ed7953"
             ],
             [
              0.7777777777777778,
              "#fb9f3a"
             ],
             [
              0.8888888888888888,
              "#fdca26"
             ],
             [
              1,
              "#f0f921"
             ]
            ],
            "type": "contour"
           }
          ],
          "contourcarpet": [
           {
            "colorbar": {
             "outlinewidth": 0,
             "ticks": ""
            },
            "type": "contourcarpet"
           }
          ],
          "heatmap": [
           {
            "colorbar": {
             "outlinewidth": 0,
             "ticks": ""
            },
            "colorscale": [
             [
              0,
              "#0d0887"
             ],
             [
              0.1111111111111111,
              "#46039f"
             ],
             [
              0.2222222222222222,
              "#7201a8"
             ],
             [
              0.3333333333333333,
              "#9c179e"
             ],
             [
              0.4444444444444444,
              "#bd3786"
             ],
             [
              0.5555555555555556,
              "#d8576b"
             ],
             [
              0.6666666666666666,
              "#ed7953"
             ],
             [
              0.7777777777777778,
              "#fb9f3a"
             ],
             [
              0.8888888888888888,
              "#fdca26"
             ],
             [
              1,
              "#f0f921"
             ]
            ],
            "type": "heatmap"
           }
          ],
          "heatmapgl": [
           {
            "colorbar": {
             "outlinewidth": 0,
             "ticks": ""
            },
            "colorscale": [
             [
              0,
              "#0d0887"
             ],
             [
              0.1111111111111111,
              "#46039f"
             ],
             [
              0.2222222222222222,
              "#7201a8"
             ],
             [
              0.3333333333333333,
              "#9c179e"
             ],
             [
              0.4444444444444444,
              "#bd3786"
             ],
             [
              0.5555555555555556,
              "#d8576b"
             ],
             [
              0.6666666666666666,
              "#ed7953"
             ],
             [
              0.7777777777777778,
              "#fb9f3a"
             ],
             [
              0.8888888888888888,
              "#fdca26"
             ],
             [
              1,
              "#f0f921"
             ]
            ],
            "type": "heatmapgl"
           }
          ],
          "histogram": [
           {
            "marker": {
             "colorbar": {
              "outlinewidth": 0,
              "ticks": ""
             }
            },
            "type": "histogram"
           }
          ],
          "histogram2d": [
           {
            "colorbar": {
             "outlinewidth": 0,
             "ticks": ""
            },
            "colorscale": [
             [
              0,
              "#0d0887"
             ],
             [
              0.1111111111111111,
              "#46039f"
             ],
             [
              0.2222222222222222,
              "#7201a8"
             ],
             [
              0.3333333333333333,
              "#9c179e"
             ],
             [
              0.4444444444444444,
              "#bd3786"
             ],
             [
              0.5555555555555556,
              "#d8576b"
             ],
             [
              0.6666666666666666,
              "#ed7953"
             ],
             [
              0.7777777777777778,
              "#fb9f3a"
             ],
             [
              0.8888888888888888,
              "#fdca26"
             ],
             [
              1,
              "#f0f921"
             ]
            ],
            "type": "histogram2d"
           }
          ],
          "histogram2dcontour": [
           {
            "colorbar": {
             "outlinewidth": 0,
             "ticks": ""
            },
            "colorscale": [
             [
              0,
              "#0d0887"
             ],
             [
              0.1111111111111111,
              "#46039f"
             ],
             [
              0.2222222222222222,
              "#7201a8"
             ],
             [
              0.3333333333333333,
              "#9c179e"
             ],
             [
              0.4444444444444444,
              "#bd3786"
             ],
             [
              0.5555555555555556,
              "#d8576b"
             ],
             [
              0.6666666666666666,
              "#ed7953"
             ],
             [
              0.7777777777777778,
              "#fb9f3a"
             ],
             [
              0.8888888888888888,
              "#fdca26"
             ],
             [
              1,
              "#f0f921"
             ]
            ],
            "type": "histogram2dcontour"
           }
          ],
          "mesh3d": [
           {
            "colorbar": {
             "outlinewidth": 0,
             "ticks": ""
            },
            "type": "mesh3d"
           }
          ],
          "parcoords": [
           {
            "line": {
             "colorbar": {
              "outlinewidth": 0,
              "ticks": ""
             }
            },
            "type": "parcoords"
           }
          ],
          "pie": [
           {
            "automargin": true,
            "type": "pie"
           }
          ],
          "scatter": [
           {
            "marker": {
             "colorbar": {
              "outlinewidth": 0,
              "ticks": ""
             }
            },
            "type": "scatter"
           }
          ],
          "scatter3d": [
           {
            "line": {
             "colorbar": {
              "outlinewidth": 0,
              "ticks": ""
             }
            },
            "marker": {
             "colorbar": {
              "outlinewidth": 0,
              "ticks": ""
             }
            },
            "type": "scatter3d"
           }
          ],
          "scattercarpet": [
           {
            "marker": {
             "colorbar": {
              "outlinewidth": 0,
              "ticks": ""
             }
            },
            "type": "scattercarpet"
           }
          ],
          "scattergeo": [
           {
            "marker": {
             "colorbar": {
              "outlinewidth": 0,
              "ticks": ""
             }
            },
            "type": "scattergeo"
           }
          ],
          "scattergl": [
           {
            "marker": {
             "colorbar": {
              "outlinewidth": 0,
              "ticks": ""
             }
            },
            "type": "scattergl"
           }
          ],
          "scattermapbox": [
           {
            "marker": {
             "colorbar": {
              "outlinewidth": 0,
              "ticks": ""
             }
            },
            "type": "scattermapbox"
           }
          ],
          "scatterpolar": [
           {
            "marker": {
             "colorbar": {
              "outlinewidth": 0,
              "ticks": ""
             }
            },
            "type": "scatterpolar"
           }
          ],
          "scatterpolargl": [
           {
            "marker": {
             "colorbar": {
              "outlinewidth": 0,
              "ticks": ""
             }
            },
            "type": "scatterpolargl"
           }
          ],
          "scatterternary": [
           {
            "marker": {
             "colorbar": {
              "outlinewidth": 0,
              "ticks": ""
             }
            },
            "type": "scatterternary"
           }
          ],
          "surface": [
           {
            "colorbar": {
             "outlinewidth": 0,
             "ticks": ""
            },
            "colorscale": [
             [
              0,
              "#0d0887"
             ],
             [
              0.1111111111111111,
              "#46039f"
             ],
             [
              0.2222222222222222,
              "#7201a8"
             ],
             [
              0.3333333333333333,
              "#9c179e"
             ],
             [
              0.4444444444444444,
              "#bd3786"
             ],
             [
              0.5555555555555556,
              "#d8576b"
             ],
             [
              0.6666666666666666,
              "#ed7953"
             ],
             [
              0.7777777777777778,
              "#fb9f3a"
             ],
             [
              0.8888888888888888,
              "#fdca26"
             ],
             [
              1,
              "#f0f921"
             ]
            ],
            "type": "surface"
           }
          ],
          "table": [
           {
            "cells": {
             "fill": {
              "color": "#EBF0F8"
             },
             "line": {
              "color": "white"
             }
            },
            "header": {
             "fill": {
              "color": "#C8D4E3"
             },
             "line": {
              "color": "white"
             }
            },
            "type": "table"
           }
          ]
         },
         "layout": {
          "annotationdefaults": {
           "arrowcolor": "#2a3f5f",
           "arrowhead": 0,
           "arrowwidth": 1
          },
          "autotypenumbers": "strict",
          "coloraxis": {
           "colorbar": {
            "outlinewidth": 0,
            "ticks": ""
           }
          },
          "colorscale": {
           "diverging": [
            [
             0,
             "#8e0152"
            ],
            [
             0.1,
             "#c51b7d"
            ],
            [
             0.2,
             "#de77ae"
            ],
            [
             0.3,
             "#f1b6da"
            ],
            [
             0.4,
             "#fde0ef"
            ],
            [
             0.5,
             "#f7f7f7"
            ],
            [
             0.6,
             "#e6f5d0"
            ],
            [
             0.7,
             "#b8e186"
            ],
            [
             0.8,
             "#7fbc41"
            ],
            [
             0.9,
             "#4d9221"
            ],
            [
             1,
             "#276419"
            ]
           ],
           "sequential": [
            [
             0,
             "#0d0887"
            ],
            [
             0.1111111111111111,
             "#46039f"
            ],
            [
             0.2222222222222222,
             "#7201a8"
            ],
            [
             0.3333333333333333,
             "#9c179e"
            ],
            [
             0.4444444444444444,
             "#bd3786"
            ],
            [
             0.5555555555555556,
             "#d8576b"
            ],
            [
             0.6666666666666666,
             "#ed7953"
            ],
            [
             0.7777777777777778,
             "#fb9f3a"
            ],
            [
             0.8888888888888888,
             "#fdca26"
            ],
            [
             1,
             "#f0f921"
            ]
           ],
           "sequentialminus": [
            [
             0,
             "#0d0887"
            ],
            [
             0.1111111111111111,
             "#46039f"
            ],
            [
             0.2222222222222222,
             "#7201a8"
            ],
            [
             0.3333333333333333,
             "#9c179e"
            ],
            [
             0.4444444444444444,
             "#bd3786"
            ],
            [
             0.5555555555555556,
             "#d8576b"
            ],
            [
             0.6666666666666666,
             "#ed7953"
            ],
            [
             0.7777777777777778,
             "#fb9f3a"
            ],
            [
             0.8888888888888888,
             "#fdca26"
            ],
            [
             1,
             "#f0f921"
            ]
           ]
          },
          "colorway": [
           "#636efa",
           "#EF553B",
           "#00cc96",
           "#ab63fa",
           "#FFA15A",
           "#19d3f3",
           "#FF6692",
           "#B6E880",
           "#FF97FF",
           "#FECB52"
          ],
          "font": {
           "color": "#2a3f5f"
          },
          "geo": {
           "bgcolor": "white",
           "lakecolor": "white",
           "landcolor": "#E5ECF6",
           "showlakes": true,
           "showland": true,
           "subunitcolor": "white"
          },
          "hoverlabel": {
           "align": "left"
          },
          "hovermode": "closest",
          "mapbox": {
           "style": "light"
          },
          "paper_bgcolor": "white",
          "plot_bgcolor": "#E5ECF6",
          "polar": {
           "angularaxis": {
            "gridcolor": "white",
            "linecolor": "white",
            "ticks": ""
           },
           "bgcolor": "#E5ECF6",
           "radialaxis": {
            "gridcolor": "white",
            "linecolor": "white",
            "ticks": ""
           }
          },
          "scene": {
           "xaxis": {
            "backgroundcolor": "#E5ECF6",
            "gridcolor": "white",
            "gridwidth": 2,
            "linecolor": "white",
            "showbackground": true,
            "ticks": "",
            "zerolinecolor": "white"
           },
           "yaxis": {
            "backgroundcolor": "#E5ECF6",
            "gridcolor": "white",
            "gridwidth": 2,
            "linecolor": "white",
            "showbackground": true,
            "ticks": "",
            "zerolinecolor": "white"
           },
           "zaxis": {
            "backgroundcolor": "#E5ECF6",
            "gridcolor": "white",
            "gridwidth": 2,
            "linecolor": "white",
            "showbackground": true,
            "ticks": "",
            "zerolinecolor": "white"
           }
          },
          "shapedefaults": {
           "line": {
            "color": "#2a3f5f"
           }
          },
          "ternary": {
           "aaxis": {
            "gridcolor": "white",
            "linecolor": "white",
            "ticks": ""
           },
           "baxis": {
            "gridcolor": "white",
            "linecolor": "white",
            "ticks": ""
           },
           "bgcolor": "#E5ECF6",
           "caxis": {
            "gridcolor": "white",
            "linecolor": "white",
            "ticks": ""
           }
          },
          "title": {
           "x": 0.05
          },
          "xaxis": {
           "automargin": true,
           "gridcolor": "white",
           "linecolor": "white",
           "ticks": "",
           "title": {
            "standoff": 15
           },
           "zerolinecolor": "white",
           "zerolinewidth": 2
          },
          "yaxis": {
           "automargin": true,
           "gridcolor": "white",
           "linecolor": "white",
           "ticks": "",
           "title": {
            "standoff": 15
           },
           "zerolinecolor": "white",
           "zerolinewidth": 2
          }
         }
        },
        "title": {
         "text": "Average Sentiment on COVID Tweets in the US, April 2020"
        },
        "width": 700
       }
      }
     },
     "metadata": {}
    }
   ],
   "source": [
    "\n",
    "fig = go.Figure()\n",
    "\n",
    "for step in np.arange(len(paths_list)):\n",
    "    average_state_sentiment = pd.read_csv(paths_list[step], engine='python')\n",
    "\n",
    "    fig.add_trace(\n",
    "        go.Choropleth(\n",
    "        locations=average_state_sentiment['state'], # Spatial coordinates\n",
    "        z = average_state_sentiment['sentiment'].astype(float), # Data to be color-coded\n",
    "        locationmode = 'USA-states', # set of locations match entries in `locations`\n",
    "        colorscale = 'Blues',\n",
    "        reversescale= True,\n",
    "        colorbar_title = \"Average Sentiment\",\n",
    "        text=average_state_sentiment.apply(lambda row: \"Sentiment: \"+f\"{round(row['sentiment'],3)}\" + \", Magnitude: \" f\"{round(row['magnitude'],3)}<br>{row['state']}\", axis=1), # text to display on hover\n",
    "        hoverinfo=\"text\",\n",
    "        visible=False,\n",
    "        name= '{}'.format(step),\n",
    "        zmax=0.00, #maximum color value\n",
    "        zmin=-0.25 #minimum color value\n",
    "\n",
    "    )\n",
    "    )\n",
    "\n",
    "\n",
    "#fig.update_traces(hovertemplate='<extra></extra>', selector=dict(type='histogram'))\n",
    "\n",
    "fig.update_layout(\n",
    "    geo_scope='usa', # limit map scope to USA\n",
    ")\n",
    "\n",
    "fig.update_layout(height=500, width=700, hovermode='x unified') #changes figure size\n",
    "\n",
    "fig.update_layout(title_text = 'Average Sentiment on COVID Tweets in the US, April 2020')\n",
    "fig.data[0].visible = True #sets day 1 to be visible when opening/loading the plot\n",
    "\n",
    "\n",
    "steps = []\n",
    "for i in range(len(fig.data)):\n",
    "    step = dict(\n",
    "        method=\"update\",\n",
    "        args=[{\"visible\": [False] * len(fig.data)},\n",
    "              {\"title\": \"Average Sentiment on COVID Tweets in the US, {}/04/2020\".format(str(i+1))}],\n",
    "        label= \"{}/04/2020\".format(i+1)\n",
    "    )\n",
    "\n",
    "    step[\"args\"][0][\"visible\"][i] = True\n",
    "  # Toggle i'th trace to \"visible\"\n",
    "    steps.append(step)\n",
    "\n",
    "sliders = [dict(\n",
    "    active=10,\n",
    "    currentvalue={\"prefix\": \"Date: \"},\n",
    "    pad={\"t\": 50},\n",
    "    steps=steps\n",
    ")]\n",
    "fig.update_layout(\n",
    "    sliders=sliders\n",
    ")\n",
    "\n",
    "\n",
    "fig.show()\n",
    "\n"
   ]
  },
  {
   "source": [
    "Saving the plot as html to embed on our website:"
   ],
   "cell_type": "markdown",
   "metadata": {}
  },
  {
   "cell_type": "code",
   "execution_count": 22,
   "metadata": {},
   "outputs": [],
   "source": [
    "fig.write_html(\"chloropleth.html\")\n"
   ]
  },
  {
   "cell_type": "code",
   "execution_count": null,
   "metadata": {},
   "outputs": [],
   "source": []
  }
 ]
}