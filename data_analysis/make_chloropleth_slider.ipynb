{
 "metadata": {
  "language_info": {
   "codemirror_mode": {
    "name": "ipython",
    "version": 3
   },
   "file_extension": ".py",
   "mimetype": "text/x-python",
   "name": "python",
   "nbconvert_exporter": "python",
   "pygments_lexer": "ipython3",
   "version": "3.7.4-final"
  },
  "orig_nbformat": 2,
  "kernelspec": {
   "name": "python3",
   "display_name": "Python 3",
   "language": "python"
  }
 },
 "nbformat": 4,
 "nbformat_minor": 2,
 "cells": [
  {
   "source": [
    "# Make a series of Chloropleth Maps showing average sentiment of covid tweets over time with slider\n",
    "### input: average_tweet_sentiment csvs for each day of April\n",
    "### output: plotly chloropleth map html"
   ],
   "cell_type": "markdown",
   "metadata": {}
  },
  {
   "cell_type": "code",
   "execution_count": 1,
   "metadata": {},
   "outputs": [],
   "source": [
    "# importing libraries\n",
    "\n",
    "from plotly.subplots import make_subplots\n",
    "import plotly.graph_objects as go\n",
    "import plotly.figure_factory as ff\n",
    "import numpy as np\n",
    "import pandas as pd\n",
    "import plotly.express as px\n"
   ]
  },
  {
   "source": [
    "Below we create a list of the paths to each csv to analyse"
   ],
   "cell_type": "markdown",
   "metadata": {}
  },
  {
   "cell_type": "code",
   "execution_count": 2,
   "metadata": {},
   "outputs": [
    {
     "output_type": "stream",
     "name": "stdout",
     "text": [
      "['average_sentiment_01.csv', 'average_sentiment_02.csv', 'average_sentiment_03.csv', 'average_sentiment_04.csv', 'average_sentiment_05.csv', 'average_sentiment_06.csv', 'average_sentiment_07.csv', 'average_sentiment_08.csv', 'average_sentiment_09.csv', 'average_sentiment_10.csv', 'average_sentiment_11.csv', 'average_sentiment_12.csv', 'average_sentiment_13.csv', 'average_sentiment_14.csv', 'average_sentiment_15.csv', 'average_sentiment_16.csv', 'average_sentiment_17.csv', 'average_sentiment_18.csv', 'average_sentiment_19.csv', 'average_sentiment_20.csv', 'average_sentiment_21.csv', 'average_sentiment_22.csv', 'average_sentiment_23.csv', 'average_sentiment_24.csv', 'average_sentiment_25.csv', 'average_sentiment_26.csv', 'average_sentiment_27.csv', 'average_sentiment_28.csv', 'average_sentiment_29.csv', 'average_sentiment_30.csv']\n"
     ]
    }
   ],
   "source": [
    "paths_list=[]\n",
    "for i in range(1,31): # day 1 to 30 for the month of April\n",
    "    if i>9:\n",
    "        paths_list.append('average_sentiment_{}.csv'.format(i))\n",
    "    else:\n",
    "        paths_list.append('average_sentiment_0{}.csv'.format(i))\n",
    "\n",
    "print(paths_list)"
   ]
  },
  {
   "source": [
    "The code here is taken from the Plotly library documentation and adapted to suit our needs\n",
    "* https://plotly.com/python/choropleth-maps/\n",
    "* https://plotly.com/python/mapbox-county-choropleth/\n",
    "* https://plotly.com/python/sliders/\n",
    "* https://plotly.com/python/reference/layout/updatemenus/\n",
    "* https://plotly.com/python/reference/choropleth/\n",
    "* https://plotly.com/python/colorscales/\n",
    "\n",
    "We create a plotly figure of a chloropleth map for average sentiment with a slider to adjust the day"
   ],
   "cell_type": "markdown",
   "metadata": {}
  },
  {
   "cell_type": "code",
   "execution_count": 8,
   "metadata": {},
   "outputs": [
    {
     "output_type": "display_data",
     "data": {
      "application/vnd.plotly.v1+json": {
       "config": {
        "plotlyServerURL": "https://plot.ly"
       },
       "data": [
        {
         "colorbar": {
          "title": {
           "text": "Average Sentiment"
          }
         },
         "colorscale": [
          [
           0,
           "rgb(247,251,255)"
          ],
          [
           0.125,
           "rgb(222,235,247)"
          ],
          [
           0.25,
           "rgb(198,219,239)"
          ],
          [
           0.375,
           "rgb(158,202,225)"
          ],
          [
           0.5,
           "rgb(107,174,214)"
          ],
          [
           0.625,
           "rgb(66,146,198)"
          ],
          [
           0.75,
           "rgb(33,113,181)"
          ],
          [
           0.875,
           "rgb(8,81,156)"
          ],
          [
           1,
           "rgb(8,48,107)"
          ]
         ],
         "hoverinfo": "text",
         "locationmode": "USA-states",
         "locations": [
          "AK",
          "AL",
          "AR",
          "AZ",
          "CA",
          "CO",
          "CT",
          "DC",
          "DE",
          "FL",
          "GA",
          "HI",
          "IA",
          "ID",
          "IL",
          "IN",
          "KS",
          "KY",
          "LA",
          "MA",
          "MD",
          "ME",
          "MI",
          "MN",
          "MO",
          "MS",
          "MT",
          "NC",
          "ND",
          "NE",
          "NH",
          "NJ",
          "NM",
          "NV",
          "NY",
          "OH",
          "OK",
          "OR",
          "PA",
          "RI",
          "SC",
          "SD",
          "TN",
          "TX",
          "UT",
          "VA",
          "VT",
          "WA",
          "WI",
          "WY"
         ],
         "name": "0",
         "reversescale": true,
         "text": [
          "Sentiment: -0.164, Magnitude: 0.7<br>AK",
          "Sentiment: -0.156, Magnitude: 0.64<br>AL",
          "Sentiment: -0.18, Magnitude: 0.676<br>AR",
          "Sentiment: -0.17, Magnitude: 0.676<br>AZ",
          "Sentiment: -0.168, Magnitude: 0.68<br>CA",
          "Sentiment: -0.161, Magnitude: 0.679<br>CO",
          "Sentiment: -0.159, Magnitude: 0.697<br>CT",
          "Sentiment: -0.161, Magnitude: 0.683<br>DC",
          "Sentiment: -0.167, Magnitude: 0.674<br>DE",
          "Sentiment: -0.171, Magnitude: 0.683<br>FL",
          "Sentiment: -0.166, Magnitude: 0.689<br>GA",
          "Sentiment: -0.161, Magnitude: 0.687<br>HI",
          "Sentiment: -0.175, Magnitude: 0.738<br>IA",
          "Sentiment: -0.142, Magnitude: 0.697<br>ID",
          "Sentiment: -0.167, Magnitude: 0.696<br>IL",
          "Sentiment: -0.169, Magnitude: 0.708<br>IN",
          "Sentiment: -0.171, Magnitude: 0.701<br>KS",
          "Sentiment: -0.176, Magnitude: 0.689<br>KY",
          "Sentiment: -0.178, Magnitude: 0.67<br>LA",
          "Sentiment: -0.191, Magnitude: 0.666<br>MA",
          "Sentiment: -0.177, Magnitude: 0.692<br>MD",
          "Sentiment: -0.166, Magnitude: 0.675<br>ME",
          "Sentiment: -0.162, Magnitude: 0.693<br>MI",
          "Sentiment: -0.181, Magnitude: 0.675<br>MN",
          "Sentiment: -0.152, Magnitude: 0.7<br>MO",
          "Sentiment: -0.159, Magnitude: 0.644<br>MS",
          "Sentiment: -0.174, Magnitude: 0.707<br>MT",
          "Sentiment: -0.164, Magnitude: 0.694<br>NC",
          "Sentiment: -0.197, Magnitude: 0.56<br>ND",
          "Sentiment: -0.129, Magnitude: 0.687<br>NE",
          "Sentiment: -0.161, Magnitude: 0.708<br>NH",
          "Sentiment: -0.15, Magnitude: 0.688<br>NJ",
          "Sentiment: -0.151, Magnitude: 0.661<br>NM",
          "Sentiment: -0.206, Magnitude: 0.728<br>NV",
          "Sentiment: -0.136, Magnitude: 0.673<br>NY",
          "Sentiment: -0.161, Magnitude: 0.705<br>OH",
          "Sentiment: -0.157, Magnitude: 0.696<br>OK",
          "Sentiment: -0.201, Magnitude: 0.689<br>OR",
          "Sentiment: -0.186, Magnitude: 0.714<br>PA",
          "Sentiment: -0.112, Magnitude: 0.63<br>RI",
          "Sentiment: -0.159, Magnitude: 0.682<br>SC",
          "Sentiment: -0.158, Magnitude: 0.647<br>SD",
          "Sentiment: -0.173, Magnitude: 0.701<br>TN",
          "Sentiment: -0.171, Magnitude: 0.678<br>TX",
          "Sentiment: -0.14, Magnitude: 0.753<br>UT",
          "Sentiment: -0.161, Magnitude: 0.691<br>VA",
          "Sentiment: -0.211, Magnitude: 0.66<br>VT",
          "Sentiment: -0.135, Magnitude: 0.648<br>WA",
          "Sentiment: -0.191, Magnitude: 0.671<br>WI",
          "Sentiment: -0.21, Magnitude: 0.685<br>WY"
         ],
         "type": "choropleth",
         "visible": true,
         "z": [
          -0.16417910636805774,
          -0.15591398055469202,
          -0.1796690326879774,
          -0.1702833471828769,
          -0.1678571449751489,
          -0.16136054645995704,
          -0.15890411096178506,
          -0.16111111185616914,
          -0.16653696708526128,
          -0.17086444240217125,
          -0.16601535448101293,
          -0.16076389081879622,
          -0.17475345397195402,
          -0.14150326935197013,
          -0.1669248666161257,
          -0.1687091526764086,
          -0.17083799170548689,
          -0.17568345539432634,
          -0.17767695398382613,
          -0.1910714308716475,
          -0.17660764419410346,
          -0.165701561024566,
          -0.16216216421136795,
          -0.18075221489323715,
          -0.15243393762013846,
          -0.1585294140393243,
          -0.1739285733550787,
          -0.1639906489642356,
          -0.19670329922503169,
          -0.12894737010723667,
          -0.16079136911484834,
          -0.14974968918646978,
          -0.1508591087003754,
          -0.20564516385396325,
          -0.13614156130424795,
          -0.16070272930920593,
          -0.15669173143411938,
          -0.20147630388225432,
          -0.18601997397021627,
          -0.11157894926635843,
          -0.15890625147148968,
          -0.1582278504590445,
          -0.17304813049853165,
          -0.17143904894972808,
          -0.13995381250254826,
          -0.16052631757661184,
          -0.21073446603818127,
          -0.13539313581727802,
          -0.19080460004004174,
          -0.2104166684568756
         ],
         "zmax": 0,
         "zmin": -0.25
        },
        {
         "colorbar": {
          "title": {
           "text": "Average Sentiment"
          }
         },
         "colorscale": [
          [
           0,
           "rgb(247,251,255)"
          ],
          [
           0.125,
           "rgb(222,235,247)"
          ],
          [
           0.25,
           "rgb(198,219,239)"
          ],
          [
           0.375,
           "rgb(158,202,225)"
          ],
          [
           0.5,
           "rgb(107,174,214)"
          ],
          [
           0.625,
           "rgb(66,146,198)"
          ],
          [
           0.75,
           "rgb(33,113,181)"
          ],
          [
           0.875,
           "rgb(8,81,156)"
          ],
          [
           1,
           "rgb(8,48,107)"
          ]
         ],
         "hoverinfo": "text",
         "locationmode": "USA-states",
         "locations": [
          "AK",
          "AL",
          "AR",
          "AZ",
          "CA",
          "CO",
          "CT",
          "DC",
          "DE",
          "FL",
          "GA",
          "HI",
          "IA",
          "ID",
          "IL",
          "IN",
          "KS",
          "KY",
          "LA",
          "MA",
          "MD",
          "ME",
          "MI",
          "MN",
          "MO",
          "MS",
          "MT",
          "NC",
          "ND",
          "NE",
          "NH",
          "NJ",
          "NM",
          "NV",
          "NY",
          "OH",
          "OK",
          "OR",
          "PA",
          "RI",
          "SC",
          "SD",
          "TN",
          "TX",
          "UT",
          "VA",
          "VT",
          "WA",
          "WI",
          "WY"
         ],
         "name": "1",
         "reversescale": true,
         "text": [
          "Sentiment: -0.155, Magnitude: 0.691<br>AK",
          "Sentiment: -0.161, Magnitude: 0.64<br>AL",
          "Sentiment: -0.152, Magnitude: 0.686<br>AR",
          "Sentiment: -0.189, Magnitude: 0.667<br>AZ",
          "Sentiment: -0.159, Magnitude: 0.673<br>CA",
          "Sentiment: -0.171, Magnitude: 0.713<br>CO",
          "Sentiment: -0.154, Magnitude: 0.669<br>CT",
          "Sentiment: -0.134, Magnitude: 0.686<br>DC",
          "Sentiment: -0.174, Magnitude: 0.637<br>DE",
          "Sentiment: -0.16, Magnitude: 0.681<br>FL",
          "Sentiment: -0.163, Magnitude: 0.671<br>GA",
          "Sentiment: -0.12, Magnitude: 0.693<br>HI",
          "Sentiment: -0.157, Magnitude: 0.721<br>IA",
          "Sentiment: -0.178, Magnitude: 0.659<br>ID",
          "Sentiment: -0.174, Magnitude: 0.674<br>IL",
          "Sentiment: -0.142, Magnitude: 0.677<br>IN",
          "Sentiment: -0.178, Magnitude: 0.665<br>KS",
          "Sentiment: -0.162, Magnitude: 0.667<br>KY",
          "Sentiment: -0.185, Magnitude: 0.688<br>LA",
          "Sentiment: -0.169, Magnitude: 0.705<br>MA",
          "Sentiment: -0.186, Magnitude: 0.643<br>MD",
          "Sentiment: -0.131, Magnitude: 0.7<br>ME",
          "Sentiment: -0.182, Magnitude: 0.686<br>MI",
          "Sentiment: -0.175, Magnitude: 0.724<br>MN",
          "Sentiment: -0.21, Magnitude: 0.741<br>MO",
          "Sentiment: -0.183, Magnitude: 0.705<br>MS",
          "Sentiment: -0.15, Magnitude: 0.704<br>MT",
          "Sentiment: -0.163, Magnitude: 0.699<br>NC",
          "Sentiment: -0.194, Magnitude: 0.694<br>ND",
          "Sentiment: -0.155, Magnitude: 0.66<br>NE",
          "Sentiment: -0.134, Magnitude: 0.651<br>NH",
          "Sentiment: -0.159, Magnitude: 0.673<br>NJ",
          "Sentiment: -0.163, Magnitude: 0.727<br>NM",
          "Sentiment: -0.14, Magnitude: 0.687<br>NV",
          "Sentiment: -0.136, Magnitude: 0.655<br>NY",
          "Sentiment: -0.168, Magnitude: 0.682<br>OH",
          "Sentiment: -0.151, Magnitude: 0.674<br>OK",
          "Sentiment: -0.186, Magnitude: 0.709<br>OR",
          "Sentiment: -0.166, Magnitude: 0.698<br>PA",
          "Sentiment: -0.097, Magnitude: 0.724<br>RI",
          "Sentiment: -0.142, Magnitude: 0.678<br>SC",
          "Sentiment: -0.105, Magnitude: 0.584<br>SD",
          "Sentiment: -0.17, Magnitude: 0.712<br>TN",
          "Sentiment: -0.171, Magnitude: 0.681<br>TX",
          "Sentiment: -0.159, Magnitude: 0.673<br>UT",
          "Sentiment: -0.154, Magnitude: 0.679<br>VA",
          "Sentiment: -0.153, Magnitude: 0.798<br>VT",
          "Sentiment: -0.137, Magnitude: 0.653<br>WA",
          "Sentiment: -0.173, Magnitude: 0.704<br>WI",
          "Sentiment: -0.17, Magnitude: 0.752<br>WY"
         ],
         "type": "choropleth",
         "visible": false,
         "z": [
          -0.15480769361154392,
          -0.16123595716578235,
          -0.15206812844224218,
          -0.1888181197563132,
          -0.15935251998144426,
          -0.17068965735430158,
          -0.15402299059288846,
          -0.13380281742609726,
          -0.17354260231347365,
          -0.16049513539084176,
          -0.16318557679563606,
          -0.1199275374520516,
          -0.156983242493324,
          -0.17761733124725226,
          -0.17385570408994602,
          -0.14205357326593782,
          -0.17779043499287006,
          -0.16246154042390676,
          -0.18467153512267734,
          -0.1687676407193532,
          -0.1859528510474503,
          -0.1305494521345411,
          -0.18175141443051188,
          -0.1751213610371195,
          -0.20990753228944706,
          -0.1827922100806004,
          -0.1497991988397985,
          -0.16305939987168455,
          -0.19402985397114686,
          -0.15476190692612102,
          -0.13383458818035915,
          -0.15929847972961866,
          -0.16333333477377893,
          -0.140395482107576,
          -0.1356150644069935,
          -0.16772306403522086,
          -0.15052473928215265,
          -0.18557214221081528,
          -0.1656612550172802,
          -0.09653179325981637,
          -0.14222222417593006,
          -0.10533333490292232,
          -0.1704128462855422,
          -0.17098436281976068,
          -0.15864865077105728,
          -0.15425532147834345,
          -0.1534883737304183,
          -0.13728813720400498,
          -0.17310443702813386,
          -0.17000000201738796
         ],
         "zmax": 0,
         "zmin": -0.25
        },
        {
         "colorbar": {
          "title": {
           "text": "Average Sentiment"
          }
         },
         "colorscale": [
          [
           0,
           "rgb(247,251,255)"
          ],
          [
           0.125,
           "rgb(222,235,247)"
          ],
          [
           0.25,
           "rgb(198,219,239)"
          ],
          [
           0.375,
           "rgb(158,202,225)"
          ],
          [
           0.5,
           "rgb(107,174,214)"
          ],
          [
           0.625,
           "rgb(66,146,198)"
          ],
          [
           0.75,
           "rgb(33,113,181)"
          ],
          [
           0.875,
           "rgb(8,81,156)"
          ],
          [
           1,
           "rgb(8,48,107)"
          ]
         ],
         "hoverinfo": "text",
         "locationmode": "USA-states",
         "locations": [
          "AK",
          "AL",
          "AR",
          "AZ",
          "CA",
          "CO",
          "CT",
          "DC",
          "DE",
          "FL",
          "GA",
          "HI",
          "IA",
          "ID",
          "IL",
          "IN",
          "KS",
          "KY",
          "LA",
          "MA",
          "MD",
          "ME",
          "MI",
          "MN",
          "MO",
          "MS",
          "MT",
          "NC",
          "ND",
          "NE",
          "NH",
          "NJ",
          "NM",
          "NV",
          "NY",
          "OH",
          "OK",
          "OR",
          "PA",
          "RI",
          "SC",
          "SD",
          "TN",
          "TX",
          "UT",
          "VA",
          "VT",
          "WA",
          "WI",
          "WY"
         ],
         "name": "2",
         "reversescale": true,
         "text": [
          "Sentiment: -0.122, Magnitude: 0.689<br>AK",
          "Sentiment: -0.147, Magnitude: 0.659<br>AL",
          "Sentiment: -0.201, Magnitude: 0.725<br>AR",
          "Sentiment: -0.166, Magnitude: 0.706<br>AZ",
          "Sentiment: -0.148, Magnitude: 0.68<br>CA",
          "Sentiment: -0.144, Magnitude: 0.681<br>CO",
          "Sentiment: -0.149, Magnitude: 0.658<br>CT",
          "Sentiment: -0.081, Magnitude: 0.673<br>DC",
          "Sentiment: -0.129, Magnitude: 0.63<br>DE",
          "Sentiment: -0.15, Magnitude: 0.679<br>FL",
          "Sentiment: -0.154, Magnitude: 0.662<br>GA",
          "Sentiment: -0.116, Magnitude: 0.662<br>HI",
          "Sentiment: -0.178, Magnitude: 0.688<br>IA",
          "Sentiment: -0.137, Magnitude: 0.669<br>ID",
          "Sentiment: -0.164, Magnitude: 0.687<br>IL",
          "Sentiment: -0.119, Magnitude: 0.684<br>IN",
          "Sentiment: -0.138, Magnitude: 0.643<br>KS",
          "Sentiment: -0.157, Magnitude: 0.633<br>KY",
          "Sentiment: -0.162, Magnitude: 0.661<br>LA",
          "Sentiment: -0.146, Magnitude: 0.67<br>MA",
          "Sentiment: -0.136, Magnitude: 0.67<br>MD",
          "Sentiment: -0.172, Magnitude: 0.672<br>ME",
          "Sentiment: -0.157, Magnitude: 0.695<br>MI",
          "Sentiment: -0.155, Magnitude: 0.631<br>MN",
          "Sentiment: -0.143, Magnitude: 0.669<br>MO",
          "Sentiment: -0.141, Magnitude: 0.703<br>MS",
          "Sentiment: -0.147, Magnitude: 0.706<br>MT",
          "Sentiment: -0.154, Magnitude: 0.696<br>NC",
          "Sentiment: -0.143, Magnitude: 0.812<br>ND",
          "Sentiment: -0.154, Magnitude: 0.681<br>NE",
          "Sentiment: -0.137, Magnitude: 0.739<br>NH",
          "Sentiment: -0.143, Magnitude: 0.705<br>NJ",
          "Sentiment: -0.135, Magnitude: 0.668<br>NM",
          "Sentiment: -0.151, Magnitude: 0.681<br>NV",
          "Sentiment: -0.117, Magnitude: 0.649<br>NY",
          "Sentiment: -0.149, Magnitude: 0.712<br>OH",
          "Sentiment: -0.133, Magnitude: 0.622<br>OK",
          "Sentiment: -0.175, Magnitude: 0.693<br>OR",
          "Sentiment: -0.142, Magnitude: 0.668<br>PA",
          "Sentiment: -0.144, Magnitude: 0.674<br>RI",
          "Sentiment: -0.164, Magnitude: 0.728<br>SC",
          "Sentiment: -0.133, Magnitude: 0.66<br>SD",
          "Sentiment: -0.157, Magnitude: 0.723<br>TN",
          "Sentiment: -0.157, Magnitude: 0.67<br>TX",
          "Sentiment: -0.136, Magnitude: 0.721<br>UT",
          "Sentiment: -0.146, Magnitude: 0.685<br>VA",
          "Sentiment: -0.165, Magnitude: 0.702<br>VT",
          "Sentiment: -0.11, Magnitude: 0.638<br>WA",
          "Sentiment: -0.177, Magnitude: 0.686<br>WI",
          "Sentiment: -0.185, Magnitude: 0.685<br>WY"
         ],
         "type": "choropleth",
         "visible": false,
         "z": [
          -0.12226720860129907,
          -0.14743202578085066,
          -0.2006880756843528,
          -0.16556862924028845,
          -0.14835602985970284,
          -0.14390415998623352,
          -0.1489323861499274,
          -0.0812500003958121,
          -0.12904762132536798,
          -0.14985004462774176,
          -0.15419254841294533,
          -0.11571906502031562,
          -0.17751938208591106,
          -0.13716216387881622,
          -0.16351590320046713,
          -0.11914480221254138,
          -0.13836478130809915,
          -0.1567662589003206,
          -0.16238698262256482,
          -0.1464358468268772,
          -0.13628118087341184,
          -0.17233606783642633,
          -0.1567567587599211,
          -0.1553219467616896,
          -0.14268833221633814,
          -0.14065573994742064,
          -0.146982759494206,
          -0.15440547660031412,
          -0.1432835841134413,
          -0.1540178580076567,
          -0.1366795398381226,
          -0.14314429459816588,
          -0.1350210982095843,
          -0.15138121741664345,
          -0.11719944538280648,
          -0.1494069124210305,
          -0.13273273439736696,
          -0.17471059878171818,
          -0.14232209916418412,
          -0.1443708630291042,
          -0.1642487068790846,
          -0.13333333474703324,
          -0.15670588368002106,
          -0.1573736634390282,
          -0.13631579070106933,
          -0.1460966559858644,
          -0.16540880655904985,
          -0.10974903629093097,
          -0.17713458992422232,
          -0.18536585666299835
         ],
         "zmax": 0,
         "zmin": -0.25
        },
        {
         "colorbar": {
          "title": {
           "text": "Average Sentiment"
          }
         },
         "colorscale": [
          [
           0,
           "rgb(247,251,255)"
          ],
          [
           0.125,
           "rgb(222,235,247)"
          ],
          [
           0.25,
           "rgb(198,219,239)"
          ],
          [
           0.375,
           "rgb(158,202,225)"
          ],
          [
           0.5,
           "rgb(107,174,214)"
          ],
          [
           0.625,
           "rgb(66,146,198)"
          ],
          [
           0.75,
           "rgb(33,113,181)"
          ],
          [
           0.875,
           "rgb(8,81,156)"
          ],
          [
           1,
           "rgb(8,48,107)"
          ]
         ],
         "hoverinfo": "text",
         "locationmode": "USA-states",
         "locations": [
          "AK",
          "AL",
          "AR",
          "AZ",
          "CA",
          "CO",
          "CT",
          "DC",
          "DE",
          "FL",
          "GA",
          "HI",
          "IA",
          "ID",
          "IL",
          "IN",
          "KS",
          "KY",
          "LA",
          "MA",
          "MD",
          "ME",
          "MI",
          "MN",
          "MO",
          "MS",
          "MT",
          "NC",
          "ND",
          "NE",
          "NH",
          "NJ",
          "NM",
          "NV",
          "NY",
          "OH",
          "OK",
          "OR",
          "PA",
          "RI",
          "SC",
          "SD",
          "TN",
          "TX",
          "UT",
          "VA",
          "VT",
          "WA",
          "WI",
          "WY"
         ],
         "name": "3",
         "reversescale": true,
         "text": [
          "Sentiment: -0.196, Magnitude: 0.72<br>AK",
          "Sentiment: -0.149, Magnitude: 0.682<br>AL",
          "Sentiment: -0.147, Magnitude: 0.659<br>AR",
          "Sentiment: -0.163, Magnitude: 0.69<br>AZ",
          "Sentiment: -0.154, Magnitude: 0.682<br>CA",
          "Sentiment: -0.165, Magnitude: 0.684<br>CO",
          "Sentiment: -0.149, Magnitude: 0.651<br>CT",
          "Sentiment: -0.148, Magnitude: 0.565<br>DC",
          "Sentiment: -0.151, Magnitude: 0.67<br>DE",
          "Sentiment: -0.155, Magnitude: 0.672<br>FL",
          "Sentiment: -0.146, Magnitude: 0.671<br>GA",
          "Sentiment: -0.097, Magnitude: 0.674<br>HI",
          "Sentiment: -0.148, Magnitude: 0.688<br>IA",
          "Sentiment: -0.196, Magnitude: 0.716<br>ID",
          "Sentiment: -0.181, Magnitude: 0.702<br>IL",
          "Sentiment: -0.147, Magnitude: 0.677<br>IN",
          "Sentiment: -0.135, Magnitude: 0.645<br>KS",
          "Sentiment: -0.137, Magnitude: 0.696<br>KY",
          "Sentiment: -0.167, Magnitude: 0.668<br>LA",
          "Sentiment: -0.156, Magnitude: 0.655<br>MA",
          "Sentiment: -0.166, Magnitude: 0.655<br>MD",
          "Sentiment: -0.162, Magnitude: 0.694<br>ME",
          "Sentiment: -0.182, Magnitude: 0.683<br>MI",
          "Sentiment: -0.177, Magnitude: 0.694<br>MN",
          "Sentiment: -0.162, Magnitude: 0.65<br>MO",
          "Sentiment: -0.109, Magnitude: 0.66<br>MS",
          "Sentiment: -0.114, Magnitude: 0.669<br>MT",
          "Sentiment: -0.171, Magnitude: 0.688<br>NC",
          "Sentiment: -0.191, Magnitude: 0.742<br>ND",
          "Sentiment: -0.139, Magnitude: 0.639<br>NE",
          "Sentiment: -0.173, Magnitude: 0.649<br>NH",
          "Sentiment: -0.141, Magnitude: 0.686<br>NJ",
          "Sentiment: -0.157, Magnitude: 0.725<br>NM",
          "Sentiment: -0.14, Magnitude: 0.662<br>NV",
          "Sentiment: -0.124, Magnitude: 0.68<br>NY",
          "Sentiment: -0.164, Magnitude: 0.677<br>OH",
          "Sentiment: -0.125, Magnitude: 0.723<br>OK",
          "Sentiment: -0.158, Magnitude: 0.691<br>OR",
          "Sentiment: -0.176, Magnitude: 0.671<br>PA",
          "Sentiment: -0.158, Magnitude: 0.769<br>RI",
          "Sentiment: -0.168, Magnitude: 0.681<br>SC",
          "Sentiment: -0.195, Magnitude: 0.653<br>SD",
          "Sentiment: -0.162, Magnitude: 0.72<br>TN",
          "Sentiment: -0.162, Magnitude: 0.68<br>TX",
          "Sentiment: -0.147, Magnitude: 0.713<br>UT",
          "Sentiment: -0.146, Magnitude: 0.662<br>VA",
          "Sentiment: -0.107, Magnitude: 0.672<br>VT",
          "Sentiment: -0.123, Magnitude: 0.662<br>WA",
          "Sentiment: -0.164, Magnitude: 0.669<br>WI",
          "Sentiment: -0.168, Magnitude: 0.557<br>WY"
         ],
         "type": "choropleth",
         "visible": false,
         "z": [
          -0.1960159392945795,
          -0.1486238550839074,
          -0.14688796893194994,
          -0.16338329972283147,
          -0.15399054275231533,
          -0.16542185532807646,
          -0.14945848559160524,
          -0.14807692671624514,
          -0.1511627928808678,
          -0.1552193358020023,
          -0.1455182091747763,
          -0.09725609932821698,
          -0.1481617671327994,
          -0.19591078248055008,
          -0.1810116110798929,
          -0.14690431696668574,
          -0.13526510660399932,
          -0.13711340386177254,
          -0.16740331647859313,
          -0.1563885973839221,
          -0.1662076288060743,
          -0.1618843705610749,
          -0.1819089924447346,
          -0.17695852699539355,
          -0.1622720916153338,
          -0.10886850383485858,
          -0.1139442244492679,
          -0.17108895939323435,
          -0.19058823936125813,
          -0.13879310583760002,
          -0.17250996234407462,
          -0.1412550080443256,
          -0.156785715823727,
          -0.13974026100976125,
          -0.12412356977059748,
          -0.16352166981322389,
          -0.1251506036798279,
          -0.15757085257454925,
          -0.1764872545539995,
          -0.15769230971460815,
          -0.16825153564382914,
          -0.19473684588937384,
          -0.16219653382122173,
          -0.1618802223731278,
          -0.14680851213237706,
          -0.14620853271953302,
          -0.10697674543358557,
          -0.12300370333963508,
          -0.16351706226627655,
          -0.1678160936839279
         ],
         "zmax": 0,
         "zmin": -0.25
        },
        {
         "colorbar": {
          "title": {
           "text": "Average Sentiment"
          }
         },
         "colorscale": [
          [
           0,
           "rgb(247,251,255)"
          ],
          [
           0.125,
           "rgb(222,235,247)"
          ],
          [
           0.25,
           "rgb(198,219,239)"
          ],
          [
           0.375,
           "rgb(158,202,225)"
          ],
          [
           0.5,
           "rgb(107,174,214)"
          ],
          [
           0.625,
           "rgb(66,146,198)"
          ],
          [
           0.75,
           "rgb(33,113,181)"
          ],
          [
           0.875,
           "rgb(8,81,156)"
          ],
          [
           1,
           "rgb(8,48,107)"
          ]
         ],
         "hoverinfo": "text",
         "locationmode": "USA-states",
         "locations": [
          "AK",
          "AL",
          "AR",
          "AZ",
          "CA",
          "CO",
          "CT",
          "DC",
          "DE",
          "FL",
          "GA",
          "HI",
          "IA",
          "ID",
          "IL",
          "IN",
          "KS",
          "KY",
          "LA",
          "MA",
          "MD",
          "ME",
          "MI",
          "MN",
          "MO",
          "MS",
          "MT",
          "NC",
          "ND",
          "NE",
          "NH",
          "NJ",
          "NM",
          "NV",
          "NY",
          "OH",
          "OK",
          "OR",
          "PA",
          "RI",
          "SC",
          "SD",
          "TN",
          "TX",
          "UT",
          "VA",
          "VT",
          "WA",
          "WI",
          "WY"
         ],
         "name": "4",
         "reversescale": true,
         "text": [
          "Sentiment: -0.149, Magnitude: 0.703<br>AK",
          "Sentiment: -0.168, Magnitude: 0.67<br>AL",
          "Sentiment: -0.168, Magnitude: 0.675<br>AR",
          "Sentiment: -0.177, Magnitude: 0.73<br>AZ",
          "Sentiment: -0.156, Magnitude: 0.681<br>CA",
          "Sentiment: -0.179, Magnitude: 0.698<br>CO",
          "Sentiment: -0.152, Magnitude: 0.659<br>CT",
          "Sentiment: -0.198, Magnitude: 0.668<br>DC",
          "Sentiment: -0.155, Magnitude: 0.679<br>DE",
          "Sentiment: -0.157, Magnitude: 0.668<br>FL",
          "Sentiment: -0.174, Magnitude: 0.673<br>GA",
          "Sentiment: -0.129, Magnitude: 0.614<br>HI",
          "Sentiment: -0.17, Magnitude: 0.697<br>IA",
          "Sentiment: -0.179, Magnitude: 0.699<br>ID",
          "Sentiment: -0.16, Magnitude: 0.72<br>IL",
          "Sentiment: -0.159, Magnitude: 0.665<br>IN",
          "Sentiment: -0.151, Magnitude: 0.671<br>KS",
          "Sentiment: -0.151, Magnitude: 0.7<br>KY",
          "Sentiment: -0.177, Magnitude: 0.698<br>LA",
          "Sentiment: -0.152, Magnitude: 0.664<br>MA",
          "Sentiment: -0.145, Magnitude: 0.669<br>MD",
          "Sentiment: -0.197, Magnitude: 0.701<br>ME",
          "Sentiment: -0.176, Magnitude: 0.662<br>MI",
          "Sentiment: -0.149, Magnitude: 0.667<br>MN",
          "Sentiment: -0.16, Magnitude: 0.69<br>MO",
          "Sentiment: -0.152, Magnitude: 0.702<br>MS",
          "Sentiment: -0.143, Magnitude: 0.689<br>MT",
          "Sentiment: -0.174, Magnitude: 0.704<br>NC",
          "Sentiment: -0.101, Magnitude: 0.651<br>ND",
          "Sentiment: -0.148, Magnitude: 0.625<br>NE",
          "Sentiment: -0.119, Magnitude: 0.709<br>NH",
          "Sentiment: -0.153, Magnitude: 0.696<br>NJ",
          "Sentiment: -0.177, Magnitude: 0.672<br>NM",
          "Sentiment: -0.155, Magnitude: 0.656<br>NV",
          "Sentiment: -0.128, Magnitude: 0.66<br>NY",
          "Sentiment: -0.16, Magnitude: 0.709<br>OH",
          "Sentiment: -0.168, Magnitude: 0.697<br>OK",
          "Sentiment: -0.182, Magnitude: 0.689<br>OR",
          "Sentiment: -0.186, Magnitude: 0.691<br>PA",
          "Sentiment: -0.175, Magnitude: 0.745<br>RI",
          "Sentiment: -0.134, Magnitude: 0.687<br>SC",
          "Sentiment: -0.096, Magnitude: 0.729<br>SD",
          "Sentiment: -0.183, Magnitude: 0.74<br>TN",
          "Sentiment: -0.159, Magnitude: 0.692<br>TX",
          "Sentiment: -0.123, Magnitude: 0.618<br>UT",
          "Sentiment: -0.17, Magnitude: 0.674<br>VA",
          "Sentiment: -0.152, Magnitude: 0.635<br>VT",
          "Sentiment: -0.14, Magnitude: 0.672<br>WA",
          "Sentiment: -0.179, Magnitude: 0.713<br>WI",
          "Sentiment: -0.131, Magnitude: 0.759<br>WY"
         ],
         "type": "choropleth",
         "visible": false,
         "z": [
          -0.14928910047945818,
          -0.16753048971068205,
          -0.16812227256433412,
          -0.17724551080898968,
          -0.15560622928881726,
          -0.17915804269726807,
          -0.15215759982982227,
          -0.19841270243364667,
          -0.15533980839316128,
          -0.15663023496299805,
          -0.17401086302044966,
          -0.12900302210243084,
          -0.17034884003648,
          -0.17862069185437826,
          -0.16017777983347575,
          -0.15909961864380773,
          -0.15053908534930402,
          -0.1507614233898229,
          -0.17666666881557094,
          -0.15155601815254854,
          -0.14547537415707645,
          -0.1967005095619538,
          -0.1757085041685419,
          -0.14880383012005302,
          -0.15988700770599354,
          -0.1523668655144745,
          -0.1431906639601934,
          -0.1741961437573962,
          -0.101204821503306,
          -0.147846892333487,
          -0.11926229692018422,
          -0.15270570949482154,
          -0.1767790283770597,
          -0.1554644825802149,
          -0.12820513000561976,
          -0.16006192174750708,
          -0.16799363251894142,
          -0.18200493250700325,
          -0.1862545476393266,
          -0.17518248370964162,
          -0.13360389748999438,
          -0.09605263212793752,
          -0.18276283826250905,
          -0.15880224546402427,
          -0.12296296450090995,
          -0.17028360251617491,
          -0.1520958100250381,
          -0.1400618516254331,
          -0.17926829439110872,
          -0.13119266325727516
         ],
         "zmax": 0,
         "zmin": -0.25
        },
        {
         "colorbar": {
          "title": {
           "text": "Average Sentiment"
          }
         },
         "colorscale": [
          [
           0,
           "rgb(247,251,255)"
          ],
          [
           0.125,
           "rgb(222,235,247)"
          ],
          [
           0.25,
           "rgb(198,219,239)"
          ],
          [
           0.375,
           "rgb(158,202,225)"
          ],
          [
           0.5,
           "rgb(107,174,214)"
          ],
          [
           0.625,
           "rgb(66,146,198)"
          ],
          [
           0.75,
           "rgb(33,113,181)"
          ],
          [
           0.875,
           "rgb(8,81,156)"
          ],
          [
           1,
           "rgb(8,48,107)"
          ]
         ],
         "hoverinfo": "text",
         "locationmode": "USA-states",
         "locations": [
          "AK",
          "AL",
          "AR",
          "AZ",
          "CA",
          "CO",
          "CT",
          "DC",
          "DE",
          "FL",
          "GA",
          "HI",
          "IA",
          "ID",
          "IL",
          "IN",
          "KS",
          "KY",
          "LA",
          "MA",
          "MD",
          "ME",
          "MI",
          "MN",
          "MO",
          "MS",
          "MT",
          "NC",
          "ND",
          "NE",
          "NH",
          "NJ",
          "NM",
          "NV",
          "NY",
          "OH",
          "OK",
          "OR",
          "PA",
          "RI",
          "SC",
          "SD",
          "TN",
          "TX",
          "UT",
          "VA",
          "VT",
          "WA",
          "WI",
          "WY"
         ],
         "name": "5",
         "reversescale": true,
         "text": [
          "Sentiment: -0.148, Magnitude: 0.657<br>AK",
          "Sentiment: -0.145, Magnitude: 0.636<br>AL",
          "Sentiment: -0.15, Magnitude: 0.664<br>AR",
          "Sentiment: -0.183, Magnitude: 0.664<br>AZ",
          "Sentiment: -0.16, Magnitude: 0.642<br>CA",
          "Sentiment: -0.167, Magnitude: 0.658<br>CO",
          "Sentiment: -0.174, Magnitude: 0.645<br>CT",
          "Sentiment: -0.185, Magnitude: 0.572<br>DC",
          "Sentiment: -0.157, Magnitude: 0.62<br>DE",
          "Sentiment: -0.159, Magnitude: 0.631<br>FL",
          "Sentiment: -0.157, Magnitude: 0.64<br>GA",
          "Sentiment: -0.141, Magnitude: 0.626<br>HI",
          "Sentiment: -0.15, Magnitude: 0.635<br>IA",
          "Sentiment: -0.15, Magnitude: 0.634<br>ID",
          "Sentiment: -0.18, Magnitude: 0.679<br>IL",
          "Sentiment: -0.127, Magnitude: 0.635<br>IN",
          "Sentiment: -0.153, Magnitude: 0.633<br>KS",
          "Sentiment: -0.145, Magnitude: 0.656<br>KY",
          "Sentiment: -0.175, Magnitude: 0.647<br>LA",
          "Sentiment: -0.147, Magnitude: 0.68<br>MA",
          "Sentiment: -0.175, Magnitude: 0.613<br>MD",
          "Sentiment: -0.141, Magnitude: 0.624<br>ME",
          "Sentiment: -0.166, Magnitude: 0.657<br>MI",
          "Sentiment: -0.155, Magnitude: 0.655<br>MN",
          "Sentiment: -0.159, Magnitude: 0.671<br>MO",
          "Sentiment: -0.151, Magnitude: 0.622<br>MS",
          "Sentiment: -0.162, Magnitude: 0.673<br>MT",
          "Sentiment: -0.176, Magnitude: 0.651<br>NC",
          "Sentiment: -0.199, Magnitude: 0.599<br>ND",
          "Sentiment: -0.115, Magnitude: 0.661<br>NE",
          "Sentiment: -0.175, Magnitude: 0.654<br>NH",
          "Sentiment: -0.148, Magnitude: 0.667<br>NJ",
          "Sentiment: -0.159, Magnitude: 0.711<br>NM",
          "Sentiment: -0.168, Magnitude: 0.68<br>NV",
          "Sentiment: -0.117, Magnitude: 0.627<br>NY",
          "Sentiment: -0.161, Magnitude: 0.666<br>OH",
          "Sentiment: -0.158, Magnitude: 0.687<br>OK",
          "Sentiment: -0.16, Magnitude: 0.63<br>OR",
          "Sentiment: -0.175, Magnitude: 0.662<br>PA",
          "Sentiment: -0.16, Magnitude: 0.666<br>RI",
          "Sentiment: -0.165, Magnitude: 0.657<br>SC",
          "Sentiment: -0.137, Magnitude: 0.626<br>SD",
          "Sentiment: -0.176, Magnitude: 0.698<br>TN",
          "Sentiment: -0.157, Magnitude: 0.654<br>TX",
          "Sentiment: -0.114, Magnitude: 0.683<br>UT",
          "Sentiment: -0.164, Magnitude: 0.625<br>VA",
          "Sentiment: -0.107, Magnitude: 0.711<br>VT",
          "Sentiment: -0.125, Magnitude: 0.611<br>WA",
          "Sentiment: -0.157, Magnitude: 0.679<br>WI",
          "Sentiment: -0.209, Magnitude: 0.648<br>WY"
         ],
         "type": "choropleth",
         "visible": false,
         "z": [
          -0.14780701863530435,
          -0.1454674235357779,
          -0.15000000131789165,
          -0.18313433046994812,
          -0.15951630058021934,
          -0.167494825987959,
          -0.17416974349545378,
          -0.18518518481725527,
          -0.1573333348830541,
          -0.1588060311967184,
          -0.15713296594856685,
          -0.14076433321283122,
          -0.1499061926109035,
          -0.1496774209843528,
          -0.17965260753215492,
          -0.1274582571272284,
          -0.1531531547736784,
          -0.14517766581422786,
          -0.1750410534135618,
          -0.14723618257435125,
          -0.17494990156295304,
          -0.14058296051661529,
          -0.1659412426758513,
          -0.1554272534200969,
          -0.15942228581382287,
          -0.15080906327777696,
          -0.16210937694995664,
          -0.17638572695224505,
          -0.1987951826079782,
          -0.11545893823467016,
          -0.17453703953436128,
          -0.1476034161904417,
          -0.1594155862346872,
          -0.16842105466655746,
          -0.11705825691260363,
          -0.1610230198944621,
          -0.15849858536134362,
          -0.16030928039366438,
          -0.17471671568245625,
          -0.159868422748619,
          -0.16450617453198374,
          -0.1366336657711775,
          -0.17600897122425085,
          -0.15740140172576098,
          -0.11445221629662393,
          -0.16386707128444827,
          -0.10701754597718256,
          -0.12503559712902254,
          -0.15740072417883236,
          -0.2093750035855919
         ],
         "zmax": 0,
         "zmin": -0.25
        },
        {
         "colorbar": {
          "title": {
           "text": "Average Sentiment"
          }
         },
         "colorscale": [
          [
           0,
           "rgb(247,251,255)"
          ],
          [
           0.125,
           "rgb(222,235,247)"
          ],
          [
           0.25,
           "rgb(198,219,239)"
          ],
          [
           0.375,
           "rgb(158,202,225)"
          ],
          [
           0.5,
           "rgb(107,174,214)"
          ],
          [
           0.625,
           "rgb(66,146,198)"
          ],
          [
           0.75,
           "rgb(33,113,181)"
          ],
          [
           0.875,
           "rgb(8,81,156)"
          ],
          [
           1,
           "rgb(8,48,107)"
          ]
         ],
         "hoverinfo": "text",
         "locationmode": "USA-states",
         "locations": [
          "AK",
          "AL",
          "AR",
          "AZ",
          "CA",
          "CO",
          "CT",
          "DC",
          "DE",
          "FL",
          "GA",
          "HI",
          "IA",
          "ID",
          "IL",
          "IN",
          "KS",
          "KY",
          "LA",
          "MA",
          "MD",
          "ME",
          "MI",
          "MN",
          "MO",
          "MS",
          "MT",
          "NC",
          "ND",
          "NE",
          "NH",
          "NJ",
          "NM",
          "NV",
          "NY",
          "OH",
          "OK",
          "OR",
          "PA",
          "RI",
          "SC",
          "SD",
          "TN",
          "TX",
          "UT",
          "VA",
          "VT",
          "WA",
          "WI",
          "WY"
         ],
         "name": "6",
         "reversescale": true,
         "text": [
          "Sentiment: -0.116, Magnitude: 0.591<br>AK",
          "Sentiment: -0.168, Magnitude: 0.64<br>AL",
          "Sentiment: -0.129, Magnitude: 0.643<br>AR",
          "Sentiment: -0.159, Magnitude: 0.653<br>AZ",
          "Sentiment: -0.151, Magnitude: 0.62<br>CA",
          "Sentiment: -0.169, Magnitude: 0.642<br>CO",
          "Sentiment: -0.14, Magnitude: 0.643<br>CT",
          "Sentiment: -0.145, Magnitude: 0.529<br>DC",
          "Sentiment: -0.164, Magnitude: 0.664<br>DE",
          "Sentiment: -0.151, Magnitude: 0.643<br>FL",
          "Sentiment: -0.15, Magnitude: 0.612<br>GA",
          "Sentiment: -0.121, Magnitude: 0.604<br>HI",
          "Sentiment: -0.154, Magnitude: 0.664<br>IA",
          "Sentiment: -0.156, Magnitude: 0.658<br>ID",
          "Sentiment: -0.142, Magnitude: 0.634<br>IL",
          "Sentiment: -0.132, Magnitude: 0.621<br>IN",
          "Sentiment: -0.128, Magnitude: 0.653<br>KS",
          "Sentiment: -0.168, Magnitude: 0.612<br>KY",
          "Sentiment: -0.144, Magnitude: 0.631<br>LA",
          "Sentiment: -0.152, Magnitude: 0.625<br>MA",
          "Sentiment: -0.143, Magnitude: 0.642<br>MD",
          "Sentiment: -0.162, Magnitude: 0.628<br>ME",
          "Sentiment: -0.15, Magnitude: 0.634<br>MI",
          "Sentiment: -0.163, Magnitude: 0.656<br>MN",
          "Sentiment: -0.166, Magnitude: 0.66<br>MO",
          "Sentiment: -0.145, Magnitude: 0.574<br>MS",
          "Sentiment: -0.159, Magnitude: 0.629<br>MT",
          "Sentiment: -0.156, Magnitude: 0.643<br>NC",
          "Sentiment: -0.067, Magnitude: 0.559<br>ND",
          "Sentiment: -0.118, Magnitude: 0.645<br>NE",
          "Sentiment: -0.133, Magnitude: 0.681<br>NH",
          "Sentiment: -0.136, Magnitude: 0.628<br>NJ",
          "Sentiment: -0.181, Magnitude: 0.673<br>NM",
          "Sentiment: -0.134, Magnitude: 0.647<br>NV",
          "Sentiment: -0.118, Magnitude: 0.612<br>NY",
          "Sentiment: -0.151, Magnitude: 0.662<br>OH",
          "Sentiment: -0.158, Magnitude: 0.634<br>OK",
          "Sentiment: -0.175, Magnitude: 0.668<br>OR",
          "Sentiment: -0.169, Magnitude: 0.656<br>PA",
          "Sentiment: -0.181, Magnitude: 0.637<br>RI",
          "Sentiment: -0.112, Magnitude: 0.645<br>SC",
          "Sentiment: -0.151, Magnitude: 0.677<br>SD",
          "Sentiment: -0.156, Magnitude: 0.623<br>TN",
          "Sentiment: -0.157, Magnitude: 0.638<br>TX",
          "Sentiment: -0.094, Magnitude: 0.644<br>UT",
          "Sentiment: -0.143, Magnitude: 0.644<br>VA",
          "Sentiment: -0.176, Magnitude: 0.675<br>VT",
          "Sentiment: -0.118, Magnitude: 0.613<br>WA",
          "Sentiment: -0.195, Magnitude: 0.714<br>WI",
          "Sentiment: -0.177, Magnitude: 0.559<br>WY"
         ],
         "type": "choropleth",
         "visible": false,
         "z": [
          -0.11578947552724887,
          -0.16844584223239725,
          -0.12882883064784445,
          -0.1587892067010693,
          -0.15072016632058458,
          -0.168767314569359,
          -0.13985765274627354,
          -0.14489795997434732,
          -0.16403162214360215,
          -0.15132602376274668,
          -0.14982130191554505,
          -0.12147058980429876,
          -0.15367647213861346,
          -0.1559602671506389,
          -0.1419093869626522,
          -0.13158363154244168,
          -0.12811344217063467,
          -0.16794117854579407,
          -0.1440647500801644,
          -0.15151515338155958,
          -0.14303797640871282,
          -0.16161825951513414,
          -0.14967567752341968,
          -0.1626251413009323,
          -0.16560102482814618,
          -0.14513889017204445,
          -0.15860806102608585,
          -0.1559272745793516,
          -0.06708860953774633,
          -0.11822222358650633,
          -0.13333333484577328,
          -0.13571428718085385,
          -0.18118812089706016,
          -0.13442211223756848,
          -0.11832657013968904,
          -0.1509343575120372,
          -0.15754026503985308,
          -0.17492260289704284,
          -0.16940194866276748,
          -0.18139535050059474,
          -0.1117263860903462,
          -0.15066667020320892,
          -0.1557413622437911,
          -0.1565810191873028,
          -0.09422572330618156,
          -0.14305402624370508,
          -0.17578947583311486,
          -0.11803955819730627,
          -0.19528688766734034,
          -0.1767241400505962
         ],
         "zmax": 0,
         "zmin": -0.25
        },
        {
         "colorbar": {
          "title": {
           "text": "Average Sentiment"
          }
         },
         "colorscale": [
          [
           0,
           "rgb(247,251,255)"
          ],
          [
           0.125,
           "rgb(222,235,247)"
          ],
          [
           0.25,
           "rgb(198,219,239)"
          ],
          [
           0.375,
           "rgb(158,202,225)"
          ],
          [
           0.5,
           "rgb(107,174,214)"
          ],
          [
           0.625,
           "rgb(66,146,198)"
          ],
          [
           0.75,
           "rgb(33,113,181)"
          ],
          [
           0.875,
           "rgb(8,81,156)"
          ],
          [
           1,
           "rgb(8,48,107)"
          ]
         ],
         "hoverinfo": "text",
         "locationmode": "USA-states",
         "locations": [
          "AK",
          "AL",
          "AR",
          "AZ",
          "CA",
          "CO",
          "CT",
          "DC",
          "DE",
          "FL",
          "GA",
          "HI",
          "IA",
          "ID",
          "IL",
          "IN",
          "KS",
          "KY",
          "LA",
          "MA",
          "MD",
          "ME",
          "MI",
          "MN",
          "MO",
          "MS",
          "MT",
          "NC",
          "ND",
          "NE",
          "NH",
          "NJ",
          "NM",
          "NV",
          "NY",
          "OH",
          "OK",
          "OR",
          "PA",
          "RI",
          "SC",
          "SD",
          "TN",
          "TX",
          "UT",
          "VA",
          "VT",
          "WA",
          "WI",
          "WY"
         ],
         "name": "7",
         "reversescale": true,
         "text": [
          "Sentiment: -0.156, Magnitude: 0.653<br>AK",
          "Sentiment: -0.144, Magnitude: 0.649<br>AL",
          "Sentiment: -0.134, Magnitude: 0.627<br>AR",
          "Sentiment: -0.138, Magnitude: 0.687<br>AZ",
          "Sentiment: -0.143, Magnitude: 0.648<br>CA",
          "Sentiment: -0.147, Magnitude: 0.684<br>CO",
          "Sentiment: -0.151, Magnitude: 0.682<br>CT",
          "Sentiment: -0.158, Magnitude: 0.483<br>DC",
          "Sentiment: -0.113, Magnitude: 0.548<br>DE",
          "Sentiment: -0.146, Magnitude: 0.643<br>FL",
          "Sentiment: -0.139, Magnitude: 0.615<br>GA",
          "Sentiment: -0.125, Magnitude: 0.647<br>HI",
          "Sentiment: -0.149, Magnitude: 0.677<br>IA",
          "Sentiment: -0.148, Magnitude: 0.669<br>ID",
          "Sentiment: -0.17, Magnitude: 0.653<br>IL",
          "Sentiment: -0.117, Magnitude: 0.628<br>IN",
          "Sentiment: -0.115, Magnitude: 0.624<br>KS",
          "Sentiment: -0.144, Magnitude: 0.633<br>KY",
          "Sentiment: -0.16, Magnitude: 0.599<br>LA",
          "Sentiment: -0.143, Magnitude: 0.654<br>MA",
          "Sentiment: -0.151, Magnitude: 0.634<br>MD",
          "Sentiment: -0.158, Magnitude: 0.671<br>ME",
          "Sentiment: -0.16, Magnitude: 0.676<br>MI",
          "Sentiment: -0.128, Magnitude: 0.632<br>MN",
          "Sentiment: -0.148, Magnitude: 0.678<br>MO",
          "Sentiment: -0.107, Magnitude: 0.635<br>MS",
          "Sentiment: -0.165, Magnitude: 0.67<br>MT",
          "Sentiment: -0.146, Magnitude: 0.664<br>NC",
          "Sentiment: -0.149, Magnitude: 0.727<br>ND",
          "Sentiment: -0.141, Magnitude: 0.657<br>NE",
          "Sentiment: -0.166, Magnitude: 0.657<br>NH",
          "Sentiment: -0.132, Magnitude: 0.638<br>NJ",
          "Sentiment: -0.135, Magnitude: 0.672<br>NM",
          "Sentiment: -0.161, Magnitude: 0.704<br>NV",
          "Sentiment: -0.108, Magnitude: 0.658<br>NY",
          "Sentiment: -0.157, Magnitude: 0.651<br>OH",
          "Sentiment: -0.127, Magnitude: 0.648<br>OK",
          "Sentiment: -0.157, Magnitude: 0.678<br>OR",
          "Sentiment: -0.156, Magnitude: 0.661<br>PA",
          "Sentiment: -0.166, Magnitude: 0.619<br>RI",
          "Sentiment: -0.168, Magnitude: 0.693<br>SC",
          "Sentiment: -0.198, Magnitude: 0.778<br>SD",
          "Sentiment: -0.151, Magnitude: 0.633<br>TN",
          "Sentiment: -0.144, Magnitude: 0.643<br>TX",
          "Sentiment: -0.114, Magnitude: 0.626<br>UT",
          "Sentiment: -0.137, Magnitude: 0.649<br>VA",
          "Sentiment: -0.143, Magnitude: 0.687<br>VT",
          "Sentiment: -0.115, Magnitude: 0.623<br>WA",
          "Sentiment: -0.175, Magnitude: 0.68<br>WI",
          "Sentiment: -0.154, Magnitude: 0.636<br>WY"
         ],
         "type": "choropleth",
         "visible": false,
         "z": [
          -0.1556053831505134,
          -0.1440177268212444,
          -0.1344387770003202,
          -0.1384509955370075,
          -0.1431638111411761,
          -0.14747331118562468,
          -0.1510597322286898,
          -0.1579710161988286,
          -0.11310679848911692,
          -0.14551641500508006,
          -0.13853084035759905,
          -0.12492012906188782,
          -0.14919355026476325,
          -0.14812286907597205,
          -0.17028806781081995,
          -0.11655629263413662,
          -0.11490909200726132,
          -0.14411764878024852,
          -0.16037441643649442,
          -0.1428263231452872,
          -0.15080113236377196,
          -0.15844749033314998,
          -0.16043829499833034,
          -0.12814569702705012,
          -0.14801136554557492,
          -0.10685358405391747,
          -0.16518218739915955,
          -0.14612403269423996,
          -0.14909091280265288,
          -0.14086538632042134,
          -0.16603053602894755,
          -0.13155467834750653,
          -0.13527607545256615,
          -0.1605128220258615,
          -0.10766588727493567,
          -0.15678092586020007,
          -0.12742424390532753,
          -0.15709430963028864,
          -0.15624048914108285,
          -0.1658823557636317,
          -0.16762360650006286,
          -0.19784946427229916,
          -0.15132743578437155,
          -0.14445216377010406,
          -0.11361386278404458,
          -0.13652625667501994,
          -0.1429530217143513,
          -0.11544696769611106,
          -0.17543859865233216,
          -0.15420560796405666
         ],
         "zmax": 0,
         "zmin": -0.25
        },
        {
         "colorbar": {
          "title": {
           "text": "Average Sentiment"
          }
         },
         "colorscale": [
          [
           0,
           "rgb(247,251,255)"
          ],
          [
           0.125,
           "rgb(222,235,247)"
          ],
          [
           0.25,
           "rgb(198,219,239)"
          ],
          [
           0.375,
           "rgb(158,202,225)"
          ],
          [
           0.5,
           "rgb(107,174,214)"
          ],
          [
           0.625,
           "rgb(66,146,198)"
          ],
          [
           0.75,
           "rgb(33,113,181)"
          ],
          [
           0.875,
           "rgb(8,81,156)"
          ],
          [
           1,
           "rgb(8,48,107)"
          ]
         ],
         "hoverinfo": "text",
         "locationmode": "USA-states",
         "locations": [
          "AK",
          "AL",
          "AR",
          "AZ",
          "CA",
          "CO",
          "CT",
          "DC",
          "DE",
          "FL",
          "GA",
          "HI",
          "IA",
          "ID",
          "IL",
          "IN",
          "KS",
          "KY",
          "LA",
          "MA",
          "MD",
          "ME",
          "MI",
          "MN",
          "MO",
          "MS",
          "MT",
          "NC",
          "ND",
          "NE",
          "NH",
          "NJ",
          "NM",
          "NV",
          "NY",
          "OH",
          "OK",
          "OR",
          "PA",
          "RI",
          "SC",
          "SD",
          "TN",
          "TX",
          "UT",
          "VA",
          "VT",
          "WA",
          "WI",
          "WY"
         ],
         "name": "8",
         "reversescale": true,
         "text": [
          "Sentiment: -0.074, Magnitude: 0.706<br>AK",
          "Sentiment: -0.156, Magnitude: 0.68<br>AL",
          "Sentiment: -0.163, Magnitude: 0.658<br>AR",
          "Sentiment: -0.149, Magnitude: 0.694<br>AZ",
          "Sentiment: -0.137, Magnitude: 0.64<br>CA",
          "Sentiment: -0.153, Magnitude: 0.684<br>CO",
          "Sentiment: -0.153, Magnitude: 0.633<br>CT",
          "Sentiment: -0.2, Magnitude: 0.513<br>DC",
          "Sentiment: -0.076, Magnitude: 0.537<br>DE",
          "Sentiment: -0.157, Magnitude: 0.625<br>FL",
          "Sentiment: -0.159, Magnitude: 0.656<br>GA",
          "Sentiment: -0.138, Magnitude: 0.577<br>HI",
          "Sentiment: -0.161, Magnitude: 0.626<br>IA",
          "Sentiment: -0.198, Magnitude: 0.826<br>ID",
          "Sentiment: -0.152, Magnitude: 0.631<br>IL",
          "Sentiment: -0.132, Magnitude: 0.666<br>IN",
          "Sentiment: -0.163, Magnitude: 0.639<br>KS",
          "Sentiment: -0.15, Magnitude: 0.642<br>KY",
          "Sentiment: -0.17, Magnitude: 0.57<br>LA",
          "Sentiment: -0.162, Magnitude: 0.714<br>MA",
          "Sentiment: -0.169, Magnitude: 0.655<br>MD",
          "Sentiment: -0.156, Magnitude: 0.65<br>ME",
          "Sentiment: -0.144, Magnitude: 0.631<br>MI",
          "Sentiment: -0.14, Magnitude: 0.631<br>MN",
          "Sentiment: -0.163, Magnitude: 0.637<br>MO",
          "Sentiment: -0.139, Magnitude: 0.58<br>MS",
          "Sentiment: -0.116, Magnitude: 0.837<br>MT",
          "Sentiment: -0.155, Magnitude: 0.615<br>NC",
          "Sentiment: -0.193, Magnitude: 0.74<br>ND",
          "Sentiment: -0.183, Magnitude: 0.705<br>NE",
          "Sentiment: -0.09, Magnitude: 0.609<br>NH",
          "Sentiment: -0.151, Magnitude: 0.632<br>NJ",
          "Sentiment: -0.191, Magnitude: 0.613<br>NM",
          "Sentiment: -0.192, Magnitude: 0.679<br>NV",
          "Sentiment: -0.111, Magnitude: 0.595<br>NY",
          "Sentiment: -0.115, Magnitude: 0.665<br>OH",
          "Sentiment: -0.132, Magnitude: 0.597<br>OK",
          "Sentiment: -0.163, Magnitude: 0.711<br>OR",
          "Sentiment: -0.171, Magnitude: 0.615<br>PA",
          "Sentiment: -0.118, Magnitude: 0.644<br>RI",
          "Sentiment: -0.172, Magnitude: 0.674<br>SC",
          "Sentiment: -0.141, Magnitude: 0.704<br>SD",
          "Sentiment: -0.152, Magnitude: 0.667<br>TN",
          "Sentiment: -0.136, Magnitude: 0.622<br>TX",
          "Sentiment: -0.09, Magnitude: 0.636<br>UT",
          "Sentiment: -0.147, Magnitude: 0.626<br>VA",
          "Sentiment: -0.067, Magnitude: 0.598<br>VT",
          "Sentiment: -0.099, Magnitude: 0.599<br>WA",
          "Sentiment: -0.158, Magnitude: 0.779<br>WI",
          "Sentiment: -0.222, Magnitude: 0.752<br>WY"
         ],
         "type": "choropleth",
         "visible": false,
         "z": [
          -0.0735849066163009,
          -0.15645161379248865,
          -0.1633333367606004,
          -0.1486033542321048,
          -0.13716381604721756,
          -0.15340314296449667,
          -0.1527397284054593,
          -0.2000000054637591,
          -0.07592592609149439,
          -0.15722311555406446,
          -0.15887574181401518,
          -0.13750000204890964,
          -0.16097561167023047,
          -0.19827586579425585,
          -0.1515923585671528,
          -0.1318644083910069,
          -0.1633802830053607,
          -0.15000000168034372,
          -0.17019867689798998,
          -0.1624000024199486,
          -0.16920000237226487,
          -0.15636363821950824,
          -0.14402655050554106,
          -0.1403508786308138,
          -0.16270270488552144,
          -0.1392405088755149,
          -0.11617647220983225,
          -0.15534591384278906,
          -0.1933333347241084,
          -0.18275862431217885,
          -0.0895522401404025,
          -0.15065963328435114,
          -0.19078947701736498,
          -0.1923809548928624,
          -0.11052631740038568,
          -0.11467391490072446,
          -0.13202614590428233,
          -0.1625899303195288,
          -0.1712074329148136,
          -0.11800000295042992,
          -0.17175141452564358,
          -0.1407407447695732,
          -0.15229357929404722,
          -0.1362081270980903,
          -0.08958333505628009,
          -0.14718826576010813,
          -0.06744186043046242,
          -0.09918625823223784,
          -0.1575609772307117,
          -0.22222222636143368
         ],
         "zmax": 0,
         "zmin": -0.25
        },
        {
         "colorbar": {
          "title": {
           "text": "Average Sentiment"
          }
         },
         "colorscale": [
          [
           0,
           "rgb(247,251,255)"
          ],
          [
           0.125,
           "rgb(222,235,247)"
          ],
          [
           0.25,
           "rgb(198,219,239)"
          ],
          [
           0.375,
           "rgb(158,202,225)"
          ],
          [
           0.5,
           "rgb(107,174,214)"
          ],
          [
           0.625,
           "rgb(66,146,198)"
          ],
          [
           0.75,
           "rgb(33,113,181)"
          ],
          [
           0.875,
           "rgb(8,81,156)"
          ],
          [
           1,
           "rgb(8,48,107)"
          ]
         ],
         "hoverinfo": "text",
         "locationmode": "USA-states",
         "locations": [
          "AK",
          "AL",
          "AR",
          "AZ",
          "CA",
          "CO",
          "CT",
          "DC",
          "DE",
          "FL",
          "GA",
          "HI",
          "IA",
          "ID",
          "IL",
          "IN",
          "KS",
          "KY",
          "LA",
          "MA",
          "MD",
          "ME",
          "MI",
          "MN",
          "MO",
          "MS",
          "MT",
          "NC",
          "ND",
          "NE",
          "NH",
          "NJ",
          "NM",
          "NV",
          "NY",
          "OH",
          "OK",
          "OR",
          "PA",
          "RI",
          "SC",
          "SD",
          "TN",
          "TX",
          "UT",
          "VA",
          "VT",
          "WA",
          "WI",
          "WY"
         ],
         "name": "9",
         "reversescale": true,
         "text": [
          "Sentiment: -0.162, Magnitude: 0.702<br>AK",
          "Sentiment: -0.184, Magnitude: 0.668<br>AL",
          "Sentiment: -0.139, Magnitude: 0.618<br>AR",
          "Sentiment: -0.147, Magnitude: 0.679<br>AZ",
          "Sentiment: -0.137, Magnitude: 0.658<br>CA",
          "Sentiment: -0.155, Magnitude: 0.646<br>CO",
          "Sentiment: -0.151, Magnitude: 0.637<br>CT",
          "Sentiment: -0.02, Magnitude: 0.65<br>DC",
          "Sentiment: -0.067, Magnitude: 0.7<br>DE",
          "Sentiment: -0.152, Magnitude: 0.651<br>FL",
          "Sentiment: -0.165, Magnitude: 0.682<br>GA",
          "Sentiment: -0.064, Magnitude: 0.702<br>HI",
          "Sentiment: -0.133, Magnitude: 0.595<br>IA",
          "Sentiment: -0.125, Magnitude: 0.644<br>ID",
          "Sentiment: -0.177, Magnitude: 0.652<br>IL",
          "Sentiment: -0.129, Magnitude: 0.658<br>IN",
          "Sentiment: -0.081, Magnitude: 0.636<br>KS",
          "Sentiment: -0.134, Magnitude: 0.655<br>KY",
          "Sentiment: -0.141, Magnitude: 0.662<br>LA",
          "Sentiment: -0.13, Magnitude: 0.665<br>MA",
          "Sentiment: -0.13, Magnitude: 0.639<br>MD",
          "Sentiment: -0.159, Magnitude: 0.671<br>ME",
          "Sentiment: -0.168, Magnitude: 0.674<br>MI",
          "Sentiment: -0.184, Magnitude: 0.63<br>MN",
          "Sentiment: -0.157, Magnitude: 0.607<br>MO",
          "Sentiment: -0.257, Magnitude: 0.733<br>MS",
          "Sentiment: -0.112, Magnitude: 0.737<br>MT",
          "Sentiment: -0.106, Magnitude: 0.679<br>NC",
          "Sentiment: -0.24, Magnitude: 0.425<br>ND",
          "Sentiment: -0.118, Magnitude: 0.658<br>NE",
          "Sentiment: -0.063, Magnitude: 0.704<br>NH",
          "Sentiment: -0.122, Magnitude: 0.641<br>NJ",
          "Sentiment: -0.131, Magnitude: 0.707<br>NM",
          "Sentiment: -0.104, Magnitude: 0.631<br>NV",
          "Sentiment: -0.11, Magnitude: 0.611<br>NY",
          "Sentiment: -0.116, Magnitude: 0.639<br>OH",
          "Sentiment: -0.114, Magnitude: 0.593<br>OK",
          "Sentiment: -0.137, Magnitude: 0.658<br>OR",
          "Sentiment: -0.16, Magnitude: 0.671<br>PA",
          "Sentiment: -0.053, Magnitude: 0.62<br>RI",
          "Sentiment: -0.112, Magnitude: 0.692<br>SC",
          "Sentiment: -0.19, Magnitude: 0.615<br>SD",
          "Sentiment: -0.188, Magnitude: 0.675<br>TN",
          "Sentiment: -0.136, Magnitude: 0.652<br>TX",
          "Sentiment: -0.135, Magnitude: 0.725<br>UT",
          "Sentiment: -0.143, Magnitude: 0.656<br>VA",
          "Sentiment: -0.128, Magnitude: 0.621<br>VT",
          "Sentiment: -0.103, Magnitude: 0.628<br>WA",
          "Sentiment: -0.145, Magnitude: 0.656<br>WI",
          "Sentiment: -0.151, Magnitude: 0.576<br>WY"
         ],
         "type": "choropleth",
         "visible": false,
         "z": [
          -0.16172839719572185,
          -0.1838565050486492,
          -0.1390625011990778,
          -0.1474409462136077,
          -0.1365342658811498,
          -0.15482695955776346,
          -0.15076142383105864,
          -0.02000000365078449,
          -0.06666666743430225,
          -0.1522687113128765,
          -0.16540880641847286,
          -0.0644444448252519,
          -0.13313953673770262,
          -0.12500000084665688,
          -0.1771052645029206,
          -0.12895442537424073,
          -0.08125000209030178,
          -0.13364929045546112,
          -0.1410810817335103,
          -0.13023255946133225,
          -0.130270271909398,
          -0.15944055973233046,
          -0.16834319710246556,
          -0.18400000162422656,
          -0.1565789490153915,
          -0.2565789489369643,
          -0.1119565234883972,
          -0.1055555561626399,
          -0.24000000432133675,
          -0.11785714354898247,
          -0.06304347952422887,
          -0.12178217923582192,
          -0.13111111281646626,
          -0.1044871816650415,
          -0.11031518749173984,
          -0.11632373246309362,
          -0.11363636487812707,
          -0.13743589963668432,
          -0.1595918383221237,
          -0.0533333346247673,
          -0.11243243459108714,
          -0.1899999998509884,
          -0.18757575978383872,
          -0.13610223774759533,
          -0.13474576421460865,
          -0.1431034498658902,
          -0.12758620892619266,
          -0.10315249397083462,
          -0.14510489750158534,
          -0.15135135199572589
         ],
         "zmax": 0,
         "zmin": -0.25
        },
        {
         "colorbar": {
          "title": {
           "text": "Average Sentiment"
          }
         },
         "colorscale": [
          [
           0,
           "rgb(247,251,255)"
          ],
          [
           0.125,
           "rgb(222,235,247)"
          ],
          [
           0.25,
           "rgb(198,219,239)"
          ],
          [
           0.375,
           "rgb(158,202,225)"
          ],
          [
           0.5,
           "rgb(107,174,214)"
          ],
          [
           0.625,
           "rgb(66,146,198)"
          ],
          [
           0.75,
           "rgb(33,113,181)"
          ],
          [
           0.875,
           "rgb(8,81,156)"
          ],
          [
           1,
           "rgb(8,48,107)"
          ]
         ],
         "hoverinfo": "text",
         "locationmode": "USA-states",
         "locations": [
          "AK",
          "AL",
          "AR",
          "AZ",
          "CA",
          "CO",
          "CT",
          "DC",
          "DE",
          "FL",
          "GA",
          "HI",
          "IA",
          "ID",
          "IL",
          "IN",
          "KS",
          "KY",
          "LA",
          "MA",
          "MD",
          "ME",
          "MI",
          "MN",
          "MO",
          "MS",
          "MT",
          "NC",
          "ND",
          "NE",
          "NH",
          "NJ",
          "NM",
          "NV",
          "NY",
          "OH",
          "OK",
          "OR",
          "PA",
          "RI",
          "SC",
          "SD",
          "TN",
          "TX",
          "UT",
          "VA",
          "VT",
          "WA",
          "WI",
          "WY"
         ],
         "name": "10",
         "reversescale": true,
         "text": [
          "Sentiment: -0.133, Magnitude: 0.669<br>AK",
          "Sentiment: -0.158, Magnitude: 0.694<br>AL",
          "Sentiment: -0.166, Magnitude: 0.686<br>AR",
          "Sentiment: -0.182, Magnitude: 0.673<br>AZ",
          "Sentiment: -0.148, Magnitude: 0.675<br>CA",
          "Sentiment: -0.133, Magnitude: 0.721<br>CO",
          "Sentiment: -0.149, Magnitude: 0.693<br>CT",
          "Sentiment: -0.158, Magnitude: 0.569<br>DC",
          "Sentiment: -0.083, Magnitude: 0.668<br>DE",
          "Sentiment: -0.163, Magnitude: 0.644<br>FL",
          "Sentiment: -0.162, Magnitude: 0.661<br>GA",
          "Sentiment: -0.108, Magnitude: 0.55<br>HI",
          "Sentiment: -0.154, Magnitude: 0.624<br>IA",
          "Sentiment: -0.152, Magnitude: 0.684<br>ID",
          "Sentiment: -0.176, Magnitude: 0.649<br>IL",
          "Sentiment: -0.138, Magnitude: 0.718<br>IN",
          "Sentiment: -0.135, Magnitude: 0.665<br>KS",
          "Sentiment: -0.15, Magnitude: 0.642<br>KY",
          "Sentiment: -0.175, Magnitude: 0.626<br>LA",
          "Sentiment: -0.158, Magnitude: 0.721<br>MA",
          "Sentiment: -0.147, Magnitude: 0.618<br>MD",
          "Sentiment: -0.177, Magnitude: 0.655<br>ME",
          "Sentiment: -0.17, Magnitude: 0.655<br>MI",
          "Sentiment: -0.176, Magnitude: 0.686<br>MN",
          "Sentiment: -0.153, Magnitude: 0.672<br>MO",
          "Sentiment: -0.147, Magnitude: 0.646<br>MS",
          "Sentiment: -0.156, Magnitude: 0.706<br>MT",
          "Sentiment: -0.176, Magnitude: 0.647<br>NC",
          "Sentiment: -0.082, Magnitude: 0.716<br>ND",
          "Sentiment: -0.129, Magnitude: 0.621<br>NE",
          "Sentiment: -0.113, Magnitude: 0.696<br>NH",
          "Sentiment: -0.134, Magnitude: 0.707<br>NJ",
          "Sentiment: -0.133, Magnitude: 0.627<br>NM",
          "Sentiment: -0.194, Magnitude: 0.771<br>NV",
          "Sentiment: -0.113, Magnitude: 0.641<br>NY",
          "Sentiment: -0.146, Magnitude: 0.667<br>OH",
          "Sentiment: -0.163, Magnitude: 0.7<br>OK",
          "Sentiment: -0.145, Magnitude: 0.657<br>OR",
          "Sentiment: -0.134, Magnitude: 0.678<br>PA",
          "Sentiment: -0.136, Magnitude: 0.697<br>RI",
          "Sentiment: -0.17, Magnitude: 0.688<br>SC",
          "Sentiment: -0.167, Magnitude: 0.722<br>SD",
          "Sentiment: -0.15, Magnitude: 0.702<br>TN",
          "Sentiment: -0.158, Magnitude: 0.658<br>TX",
          "Sentiment: -0.152, Magnitude: 0.714<br>UT",
          "Sentiment: -0.14, Magnitude: 0.647<br>VA",
          "Sentiment: -0.144, Magnitude: 0.608<br>VT",
          "Sentiment: -0.13, Magnitude: 0.623<br>WA",
          "Sentiment: -0.161, Magnitude: 0.648<br>WI",
          "Sentiment: -0.164, Magnitude: 0.614<br>WY"
         ],
         "type": "choropleth",
         "visible": false,
         "z": [
          -0.13253968504686206,
          -0.1580858107398052,
          -0.16632653350884818,
          -0.18171428803886688,
          -0.1481956472120959,
          -0.1331972812004641,
          -0.14888889066599034,
          -0.1576923129077141,
          -0.08320610822384594,
          -0.16319906366293346,
          -0.1615492980559947,
          -0.10792683042222406,
          -0.15429864351835726,
          -0.15203252222722138,
          -0.1763727140307625,
          -0.13846153984502732,
          -0.135492959030917,
          -0.15027777939620945,
          -0.17543859921003646,
          -0.1579150597072246,
          -0.14650698718494046,
          -0.17710280637735518,
          -0.16951219742829965,
          -0.17550607502219165,
          -0.1528875387321852,
          -0.14683544489590428,
          -0.1557142865977117,
          -0.1763546817335002,
          -0.08163265351738247,
          -0.12947368629668887,
          -0.11304347981577335,
          -0.13377308878939512,
          -0.13333333464282932,
          -0.19414893854805765,
          -0.11261444692188866,
          -0.14605543903831733,
          -0.16284722374338242,
          -0.14533107148416985,
          -0.1337535030179832,
          -0.13589743725382364,
          -0.1696875031106174,
          -0.1666666697020884,
          -0.150115475591969,
          -0.15847306698560715,
          -0.151578948725211,
          -0.14014084713244945,
          -0.14404762119409584,
          -0.13003212156081356,
          -0.16062176360753533,
          -0.16399999991059305
         ],
         "zmax": 0,
         "zmin": -0.25
        },
        {
         "colorbar": {
          "title": {
           "text": "Average Sentiment"
          }
         },
         "colorscale": [
          [
           0,
           "rgb(247,251,255)"
          ],
          [
           0.125,
           "rgb(222,235,247)"
          ],
          [
           0.25,
           "rgb(198,219,239)"
          ],
          [
           0.375,
           "rgb(158,202,225)"
          ],
          [
           0.5,
           "rgb(107,174,214)"
          ],
          [
           0.625,
           "rgb(66,146,198)"
          ],
          [
           0.75,
           "rgb(33,113,181)"
          ],
          [
           0.875,
           "rgb(8,81,156)"
          ],
          [
           1,
           "rgb(8,48,107)"
          ]
         ],
         "hoverinfo": "text",
         "locationmode": "USA-states",
         "locations": [
          "AK",
          "AL",
          "AR",
          "AZ",
          "CA",
          "CO",
          "CT",
          "DC",
          "DE",
          "FL",
          "GA",
          "HI",
          "IA",
          "ID",
          "IL",
          "IN",
          "KS",
          "KY",
          "LA",
          "MA",
          "MD",
          "ME",
          "MI",
          "MN",
          "MO",
          "MS",
          "MT",
          "NC",
          "ND",
          "NE",
          "NH",
          "NJ",
          "NM",
          "NV",
          "NY",
          "OH",
          "OK",
          "OR",
          "PA",
          "RI",
          "SC",
          "SD",
          "TN",
          "TX",
          "UT",
          "VA",
          "VT",
          "WA",
          "WI",
          "WY"
         ],
         "name": "11",
         "reversescale": true,
         "text": [
          "Sentiment: -0.166, Magnitude: 0.69<br>AK",
          "Sentiment: -0.149, Magnitude: 0.662<br>AL",
          "Sentiment: -0.157, Magnitude: 0.605<br>AR",
          "Sentiment: -0.155, Magnitude: 0.691<br>AZ",
          "Sentiment: -0.149, Magnitude: 0.659<br>CA",
          "Sentiment: -0.162, Magnitude: 0.693<br>CO",
          "Sentiment: -0.189, Magnitude: 0.655<br>CT",
          "Sentiment: -0.107, Magnitude: 0.737<br>DC",
          "Sentiment: -0.131, Magnitude: 0.656<br>DE",
          "Sentiment: -0.164, Magnitude: 0.634<br>FL",
          "Sentiment: -0.161, Magnitude: 0.66<br>GA",
          "Sentiment: -0.122, Magnitude: 0.65<br>HI",
          "Sentiment: -0.127, Magnitude: 0.652<br>IA",
          "Sentiment: -0.198, Magnitude: 0.65<br>ID",
          "Sentiment: -0.158, Magnitude: 0.659<br>IL",
          "Sentiment: -0.13, Magnitude: 0.657<br>IN",
          "Sentiment: -0.159, Magnitude: 0.644<br>KS",
          "Sentiment: -0.163, Magnitude: 0.679<br>KY",
          "Sentiment: -0.138, Magnitude: 0.61<br>LA",
          "Sentiment: -0.149, Magnitude: 0.651<br>MA",
          "Sentiment: -0.148, Magnitude: 0.667<br>MD",
          "Sentiment: -0.12, Magnitude: 0.674<br>ME",
          "Sentiment: -0.168, Magnitude: 0.677<br>MI",
          "Sentiment: -0.172, Magnitude: 0.7<br>MN",
          "Sentiment: -0.171, Magnitude: 0.689<br>MO",
          "Sentiment: -0.153, Magnitude: 0.617<br>MS",
          "Sentiment: -0.139, Magnitude: 0.668<br>MT",
          "Sentiment: -0.172, Magnitude: 0.653<br>NC",
          "Sentiment: -0.13, Magnitude: 0.667<br>ND",
          "Sentiment: -0.092, Magnitude: 0.601<br>NE",
          "Sentiment: -0.17, Magnitude: 0.691<br>NH",
          "Sentiment: -0.156, Magnitude: 0.636<br>NJ",
          "Sentiment: -0.191, Magnitude: 0.677<br>NM",
          "Sentiment: -0.119, Magnitude: 0.659<br>NV",
          "Sentiment: -0.125, Magnitude: 0.638<br>NY",
          "Sentiment: -0.16, Magnitude: 0.665<br>OH",
          "Sentiment: -0.154, Magnitude: 0.642<br>OK",
          "Sentiment: -0.173, Magnitude: 0.643<br>OR",
          "Sentiment: -0.153, Magnitude: 0.68<br>PA",
          "Sentiment: -0.149, Magnitude: 0.626<br>RI",
          "Sentiment: -0.141, Magnitude: 0.623<br>SC",
          "Sentiment: -0.243, Magnitude: 0.72<br>SD",
          "Sentiment: -0.154, Magnitude: 0.658<br>TN",
          "Sentiment: -0.152, Magnitude: 0.634<br>TX",
          "Sentiment: -0.086, Magnitude: 0.712<br>UT",
          "Sentiment: -0.136, Magnitude: 0.662<br>VA",
          "Sentiment: -0.152, Magnitude: 0.587<br>VT",
          "Sentiment: -0.123, Magnitude: 0.638<br>WA",
          "Sentiment: -0.157, Magnitude: 0.672<br>WI",
          "Sentiment: -0.189, Magnitude: 0.666<br>WY"
         ],
         "type": "choropleth",
         "visible": false,
         "z": [
          -0.16646341820497335,
          -0.14863813362638775,
          -0.1573529433897313,
          -0.154868915830547,
          -0.1488345010146765,
          -0.16216696488470844,
          -0.1891358052874789,
          -0.10697674439396967,
          -0.13128834565175826,
          -0.16384772813413054,
          -0.1610426561668586,
          -0.12166666785875956,
          -0.12655367437055556,
          -0.19794872047809453,
          -0.15750552106969404,
          -0.12952710677801946,
          -0.15893417139038396,
          -0.16277372514842636,
          -0.13778920448684448,
          -0.14879679347184252,
          -0.14796748182920585,
          -0.12034384097188795,
          -0.16827774229931786,
          -0.17161084791167122,
          -0.17081712266060628,
          -0.1526923099389443,
          -0.13859649229119395,
          -0.17243781323308374,
          -0.1300000023628984,
          -0.09172413929783063,
          -0.16964285910528684,
          -0.1557450646624852,
          -0.19095022865145456,
          -0.11854545544494285,
          -0.12488131402611065,
          -0.1603021998582715,
          -0.15373134532017999,
          -0.17266436238293004,
          -0.15306930876899474,
          -0.1488721828935738,
          -0.14060475326446942,
          -0.2426666702826818,
          -0.15372124691374087,
          -0.15172013196347758,
          -0.08576512623087791,
          -0.1361788638057263,
          -0.15241379496352425,
          -0.1226143337568878,
          -0.15697479190445748,
          -0.18888889117674396
         ],
         "zmax": 0,
         "zmin": -0.25
        },
        {
         "colorbar": {
          "title": {
           "text": "Average Sentiment"
          }
         },
         "colorscale": [
          [
           0,
           "rgb(247,251,255)"
          ],
          [
           0.125,
           "rgb(222,235,247)"
          ],
          [
           0.25,
           "rgb(198,219,239)"
          ],
          [
           0.375,
           "rgb(158,202,225)"
          ],
          [
           0.5,
           "rgb(107,174,214)"
          ],
          [
           0.625,
           "rgb(66,146,198)"
          ],
          [
           0.75,
           "rgb(33,113,181)"
          ],
          [
           0.875,
           "rgb(8,81,156)"
          ],
          [
           1,
           "rgb(8,48,107)"
          ]
         ],
         "hoverinfo": "text",
         "locationmode": "USA-states",
         "locations": [
          "AK",
          "AL",
          "AR",
          "AZ",
          "CA",
          "CO",
          "CT",
          "DC",
          "DE",
          "FL",
          "GA",
          "HI",
          "IA",
          "ID",
          "IL",
          "IN",
          "KS",
          "KY",
          "LA",
          "MA",
          "MD",
          "ME",
          "MI",
          "MN",
          "MO",
          "MS",
          "MT",
          "NC",
          "ND",
          "NE",
          "NH",
          "NJ",
          "NM",
          "NV",
          "NY",
          "OH",
          "OK",
          "OR",
          "PA",
          "RI",
          "SC",
          "SD",
          "TN",
          "TX",
          "UT",
          "VA",
          "VT",
          "WA",
          "WI",
          "WY"
         ],
         "name": "12",
         "reversescale": true,
         "text": [
          "Sentiment: -0.191, Magnitude: 0.634<br>AK",
          "Sentiment: -0.18, Magnitude: 0.65<br>AL",
          "Sentiment: -0.174, Magnitude: 0.669<br>AR",
          "Sentiment: -0.171, Magnitude: 0.666<br>AZ",
          "Sentiment: -0.142, Magnitude: 0.629<br>CA",
          "Sentiment: -0.151, Magnitude: 0.629<br>CO",
          "Sentiment: -0.136, Magnitude: 0.66<br>CT",
          "Sentiment: -0.089, Magnitude: 0.421<br>DC",
          "Sentiment: -0.145, Magnitude: 0.64<br>DE",
          "Sentiment: -0.159, Magnitude: 0.624<br>FL",
          "Sentiment: -0.153, Magnitude: 0.626<br>GA",
          "Sentiment: -0.135, Magnitude: 0.666<br>HI",
          "Sentiment: -0.141, Magnitude: 0.659<br>IA",
          "Sentiment: -0.137, Magnitude: 0.635<br>ID",
          "Sentiment: -0.166, Magnitude: 0.641<br>IL",
          "Sentiment: -0.135, Magnitude: 0.652<br>IN",
          "Sentiment: -0.123, Magnitude: 0.593<br>KS",
          "Sentiment: -0.173, Magnitude: 0.621<br>KY",
          "Sentiment: -0.168, Magnitude: 0.611<br>LA",
          "Sentiment: -0.154, Magnitude: 0.673<br>MA",
          "Sentiment: -0.132, Magnitude: 0.612<br>MD",
          "Sentiment: -0.157, Magnitude: 0.655<br>ME",
          "Sentiment: -0.152, Magnitude: 0.662<br>MI",
          "Sentiment: -0.165, Magnitude: 0.637<br>MN",
          "Sentiment: -0.177, Magnitude: 0.646<br>MO",
          "Sentiment: -0.124, Magnitude: 0.552<br>MS",
          "Sentiment: -0.154, Magnitude: 0.669<br>MT",
          "Sentiment: -0.174, Magnitude: 0.685<br>NC",
          "Sentiment: -0.161, Magnitude: 0.739<br>ND",
          "Sentiment: -0.17, Magnitude: 0.662<br>NE",
          "Sentiment: -0.191, Magnitude: 0.737<br>NH",
          "Sentiment: -0.131, Magnitude: 0.647<br>NJ",
          "Sentiment: -0.129, Magnitude: 0.684<br>NM",
          "Sentiment: -0.174, Magnitude: 0.664<br>NV",
          "Sentiment: -0.106, Magnitude: 0.63<br>NY",
          "Sentiment: -0.147, Magnitude: 0.634<br>OH",
          "Sentiment: -0.158, Magnitude: 0.634<br>OK",
          "Sentiment: -0.156, Magnitude: 0.672<br>OR",
          "Sentiment: -0.176, Magnitude: 0.688<br>PA",
          "Sentiment: -0.115, Magnitude: 0.586<br>RI",
          "Sentiment: -0.138, Magnitude: 0.671<br>SC",
          "Sentiment: -0.185, Magnitude: 0.569<br>SD",
          "Sentiment: -0.163, Magnitude: 0.629<br>TN",
          "Sentiment: -0.153, Magnitude: 0.634<br>TX",
          "Sentiment: -0.122, Magnitude: 0.661<br>UT",
          "Sentiment: -0.163, Magnitude: 0.655<br>VA",
          "Sentiment: -0.163, Magnitude: 0.709<br>VT",
          "Sentiment: -0.121, Magnitude: 0.62<br>WA",
          "Sentiment: -0.162, Magnitude: 0.629<br>WI",
          "Sentiment: -0.201, Magnitude: 0.591<br>WY"
         ],
         "type": "choropleth",
         "visible": false,
         "z": [
          -0.1905263191775272,
          -0.18010118309703685,
          -0.17447916897557056,
          -0.17059248833341062,
          -0.14231797644113064,
          -0.1507392492926409,
          -0.13555992387366902,
          -0.08933333535989127,
          -0.14473684543841764,
          -0.15884782394981573,
          -0.15280728633988971,
          -0.13501683712908716,
          -0.14078341204724554,
          -0.1371527806752258,
          -0.1658997558112407,
          -0.1345940980840323,
          -0.12267658203064732,
          -0.17288401573429288,
          -0.16784968913099213,
          -0.15435244404016787,
          -0.13182751764782402,
          -0.15698198427085405,
          -0.1521367544754066,
          -0.16518438432907076,
          -0.1774038485585688,
          -0.12375479071647273,
          -0.154440157057926,
          -0.17370617946295785,
          -0.1606060637894905,
          -0.16985646221768913,
          -0.19069767584518868,
          -0.13052772405590307,
          -0.12929687721771188,
          -0.1736196346946655,
          -0.10564144880657918,
          -0.14674556422133653,
          -0.15753424928000528,
          -0.15590119173056688,
          -0.1756419688900516,
          -0.11506849522255873,
          -0.13816666919738055,
          -0.18500000396743416,
          -0.16340909309854562,
          -0.15251505360438491,
          -0.12203856939372937,
          -0.1632063903454554,
          -0.16312056927816246,
          -0.1209116557725054,
          -0.1620643456483974,
          -0.20108695935619916
         ],
         "zmax": 0,
         "zmin": -0.25
        },
        {
         "colorbar": {
          "title": {
           "text": "Average Sentiment"
          }
         },
         "colorscale": [
          [
           0,
           "rgb(247,251,255)"
          ],
          [
           0.125,
           "rgb(222,235,247)"
          ],
          [
           0.25,
           "rgb(198,219,239)"
          ],
          [
           0.375,
           "rgb(158,202,225)"
          ],
          [
           0.5,
           "rgb(107,174,214)"
          ],
          [
           0.625,
           "rgb(66,146,198)"
          ],
          [
           0.75,
           "rgb(33,113,181)"
          ],
          [
           0.875,
           "rgb(8,81,156)"
          ],
          [
           1,
           "rgb(8,48,107)"
          ]
         ],
         "hoverinfo": "text",
         "locationmode": "USA-states",
         "locations": [
          "AK",
          "AL",
          "AR",
          "AZ",
          "CA",
          "CO",
          "CT",
          "DC",
          "DE",
          "FL",
          "GA",
          "HI",
          "IA",
          "ID",
          "IL",
          "IN",
          "KS",
          "KY",
          "LA",
          "MA",
          "MD",
          "ME",
          "MI",
          "MN",
          "MO",
          "MS",
          "MT",
          "NC",
          "ND",
          "NE",
          "NH",
          "NJ",
          "NM",
          "NV",
          "NY",
          "OH",
          "OK",
          "OR",
          "PA",
          "RI",
          "SC",
          "SD",
          "TN",
          "TX",
          "UT",
          "VA",
          "VT",
          "WA",
          "WI",
          "WY"
         ],
         "name": "13",
         "reversescale": true,
         "text": [
          "Sentiment: -0.166, Magnitude: 0.621<br>AK",
          "Sentiment: -0.137, Magnitude: 0.637<br>AL",
          "Sentiment: -0.167, Magnitude: 0.603<br>AR",
          "Sentiment: -0.16, Magnitude: 0.645<br>AZ",
          "Sentiment: -0.154, Magnitude: 0.627<br>CA",
          "Sentiment: -0.169, Magnitude: 0.686<br>CO",
          "Sentiment: -0.154, Magnitude: 0.693<br>CT",
          "Sentiment: -0.26, Magnitude: 0.572<br>DC",
          "Sentiment: -0.147, Magnitude: 0.645<br>DE",
          "Sentiment: -0.156, Magnitude: 0.637<br>FL",
          "Sentiment: -0.154, Magnitude: 0.641<br>GA",
          "Sentiment: -0.148, Magnitude: 0.589<br>HI",
          "Sentiment: -0.168, Magnitude: 0.621<br>IA",
          "Sentiment: -0.146, Magnitude: 0.691<br>ID",
          "Sentiment: -0.162, Magnitude: 0.648<br>IL",
          "Sentiment: -0.135, Magnitude: 0.635<br>IN",
          "Sentiment: -0.13, Magnitude: 0.657<br>KS",
          "Sentiment: -0.166, Magnitude: 0.646<br>KY",
          "Sentiment: -0.154, Magnitude: 0.648<br>LA",
          "Sentiment: -0.143, Magnitude: 0.654<br>MA",
          "Sentiment: -0.151, Magnitude: 0.62<br>MD",
          "Sentiment: -0.145, Magnitude: 0.608<br>ME",
          "Sentiment: -0.157, Magnitude: 0.652<br>MI",
          "Sentiment: -0.145, Magnitude: 0.683<br>MN",
          "Sentiment: -0.162, Magnitude: 0.72<br>MO",
          "Sentiment: -0.16, Magnitude: 0.626<br>MS",
          "Sentiment: -0.15, Magnitude: 0.671<br>MT",
          "Sentiment: -0.148, Magnitude: 0.671<br>NC",
          "Sentiment: -0.137, Magnitude: 0.563<br>ND",
          "Sentiment: -0.125, Magnitude: 0.662<br>NE",
          "Sentiment: -0.141, Magnitude: 0.624<br>NH",
          "Sentiment: -0.162, Magnitude: 0.635<br>NJ",
          "Sentiment: -0.172, Magnitude: 0.668<br>NM",
          "Sentiment: -0.146, Magnitude: 0.692<br>NV",
          "Sentiment: -0.127, Magnitude: 0.622<br>NY",
          "Sentiment: -0.154, Magnitude: 0.652<br>OH",
          "Sentiment: -0.16, Magnitude: 0.645<br>OK",
          "Sentiment: -0.178, Magnitude: 0.637<br>OR",
          "Sentiment: -0.146, Magnitude: 0.651<br>PA",
          "Sentiment: -0.163, Magnitude: 0.618<br>RI",
          "Sentiment: -0.185, Magnitude: 0.648<br>SC",
          "Sentiment: -0.152, Magnitude: 0.623<br>SD",
          "Sentiment: -0.153, Magnitude: 0.691<br>TN",
          "Sentiment: -0.162, Magnitude: 0.632<br>TX",
          "Sentiment: -0.103, Magnitude: 0.659<br>UT",
          "Sentiment: -0.153, Magnitude: 0.655<br>VA",
          "Sentiment: -0.165, Magnitude: 0.738<br>VT",
          "Sentiment: -0.111, Magnitude: 0.616<br>WA",
          "Sentiment: -0.144, Magnitude: 0.627<br>WI",
          "Sentiment: -0.137, Magnitude: 0.628<br>WY"
         ],
         "type": "choropleth",
         "visible": false,
         "z": [
          -0.1664739904892927,
          -0.13684210723096674,
          -0.16666666919414974,
          -0.15993589916839626,
          -0.15355076409867202,
          -0.16876770752263134,
          -0.15413043562160886,
          -0.26000000178813937,
          -0.1473170757293701,
          -0.15606848905238435,
          -0.15381974385403768,
          -0.14800000158449014,
          -0.1683544322754009,
          -0.1458823540339283,
          -0.1623485578017488,
          -0.13541666858105195,
          -0.1304993269293897,
          -0.16634304412794346,
          -0.15423387243983247,
          -0.14269938844661773,
          -0.15079185600936146,
          -0.1451612928352398,
          -0.15696721512658535,
          -0.1450399103804896,
          -0.16204268469407065,
          -0.15993031477782785,
          -0.1500000023731479,
          -0.14785331106463145,
          -0.13666666932404042,
          -0.12538071226347522,
          -0.14096385776158796,
          -0.16210363667576422,
          -0.17188612339865694,
          -0.14583333521815284,
          -0.12675499106665686,
          -0.1540309682575955,
          -0.15957446984206955,
          -0.1778634381418974,
          -0.1459726460085542,
          -0.162686568809979,
          -0.18527827809165154,
          -0.15222222465607854,
          -0.15297927667864555,
          -0.16196306874591967,
          -0.10289389283135772,
          -0.15268324835820815,
          -0.16456693017811286,
          -0.11056251638872973,
          -0.14350205394866206,
          -0.13661971961108732
         ],
         "zmax": 0,
         "zmin": -0.25
        },
        {
         "colorbar": {
          "title": {
           "text": "Average Sentiment"
          }
         },
         "colorscale": [
          [
           0,
           "rgb(247,251,255)"
          ],
          [
           0.125,
           "rgb(222,235,247)"
          ],
          [
           0.25,
           "rgb(198,219,239)"
          ],
          [
           0.375,
           "rgb(158,202,225)"
          ],
          [
           0.5,
           "rgb(107,174,214)"
          ],
          [
           0.625,
           "rgb(66,146,198)"
          ],
          [
           0.75,
           "rgb(33,113,181)"
          ],
          [
           0.875,
           "rgb(8,81,156)"
          ],
          [
           1,
           "rgb(8,48,107)"
          ]
         ],
         "hoverinfo": "text",
         "locationmode": "USA-states",
         "locations": [
          "AK",
          "AL",
          "AR",
          "AZ",
          "CA",
          "CO",
          "CT",
          "DC",
          "DE",
          "FL",
          "GA",
          "HI",
          "IA",
          "ID",
          "IL",
          "IN",
          "KS",
          "KY",
          "LA",
          "MA",
          "MD",
          "ME",
          "MI",
          "MN",
          "MO",
          "MS",
          "MT",
          "NC",
          "ND",
          "NE",
          "NH",
          "NJ",
          "NM",
          "NV",
          "NY",
          "OH",
          "OK",
          "OR",
          "PA",
          "RI",
          "SC",
          "SD",
          "TN",
          "TX",
          "UT",
          "VA",
          "VT",
          "WA",
          "WI",
          "WY"
         ],
         "name": "14",
         "reversescale": true,
         "text": [
          "Sentiment: -0.142, Magnitude: 0.607<br>AK",
          "Sentiment: -0.173, Magnitude: 0.669<br>AL",
          "Sentiment: -0.173, Magnitude: 0.698<br>AR",
          "Sentiment: -0.184, Magnitude: 0.698<br>AZ",
          "Sentiment: -0.16, Magnitude: 0.651<br>CA",
          "Sentiment: -0.163, Magnitude: 0.671<br>CO",
          "Sentiment: -0.136, Magnitude: 0.643<br>CT",
          "Sentiment: -0.128, Magnitude: 0.624<br>DC",
          "Sentiment: -0.128, Magnitude: 0.661<br>DE",
          "Sentiment: -0.178, Magnitude: 0.65<br>FL",
          "Sentiment: -0.154, Magnitude: 0.673<br>GA",
          "Sentiment: -0.165, Magnitude: 0.616<br>HI",
          "Sentiment: -0.205, Magnitude: 0.682<br>IA",
          "Sentiment: -0.186, Magnitude: 0.673<br>ID",
          "Sentiment: -0.193, Magnitude: 0.677<br>IL",
          "Sentiment: -0.161, Magnitude: 0.685<br>IN",
          "Sentiment: -0.148, Magnitude: 0.616<br>KS",
          "Sentiment: -0.164, Magnitude: 0.663<br>KY",
          "Sentiment: -0.181, Magnitude: 0.606<br>LA",
          "Sentiment: -0.181, Magnitude: 0.616<br>MA",
          "Sentiment: -0.158, Magnitude: 0.671<br>MD",
          "Sentiment: -0.149, Magnitude: 0.653<br>ME",
          "Sentiment: -0.197, Magnitude: 0.735<br>MI",
          "Sentiment: -0.208, Magnitude: 0.67<br>MN",
          "Sentiment: -0.214, Magnitude: 0.702<br>MO",
          "Sentiment: -0.182, Magnitude: 0.596<br>MS",
          "Sentiment: -0.165, Magnitude: 0.72<br>MT",
          "Sentiment: -0.169, Magnitude: 0.66<br>NC",
          "Sentiment: -0.293, Magnitude: 0.896<br>ND",
          "Sentiment: -0.127, Magnitude: 0.663<br>NE",
          "Sentiment: -0.199, Magnitude: 0.673<br>NH",
          "Sentiment: -0.168, Magnitude: 0.682<br>NJ",
          "Sentiment: -0.146, Magnitude: 0.745<br>NM",
          "Sentiment: -0.191, Magnitude: 0.639<br>NV",
          "Sentiment: -0.124, Magnitude: 0.623<br>NY",
          "Sentiment: -0.168, Magnitude: 0.671<br>OH",
          "Sentiment: -0.172, Magnitude: 0.664<br>OK",
          "Sentiment: -0.184, Magnitude: 0.644<br>OR",
          "Sentiment: -0.182, Magnitude: 0.69<br>PA",
          "Sentiment: -0.099, Magnitude: 0.691<br>RI",
          "Sentiment: -0.178, Magnitude: 0.681<br>SC",
          "Sentiment: -0.229, Magnitude: 0.644<br>SD",
          "Sentiment: -0.163, Magnitude: 0.656<br>TN",
          "Sentiment: -0.175, Magnitude: 0.651<br>TX",
          "Sentiment: -0.143, Magnitude: 0.732<br>UT",
          "Sentiment: -0.171, Magnitude: 0.655<br>VA",
          "Sentiment: -0.111, Magnitude: 0.66<br>VT",
          "Sentiment: -0.126, Magnitude: 0.618<br>WA",
          "Sentiment: -0.166, Magnitude: 0.641<br>WI",
          "Sentiment: -0.172, Magnitude: 0.756<br>WY"
         ],
         "type": "choropleth",
         "visible": false,
         "z": [
          -0.14170616314309467,
          -0.17304075485953715,
          -0.17348066515685445,
          -0.18416961361999645,
          -0.15991013665369094,
          -0.1626990162304986,
          -0.13641304533550705,
          -0.12784810354815254,
          -0.1280788184680375,
          -0.1781829973207654,
          -0.1543585544292766,
          -0.16498195178241934,
          -0.20473118563813547,
          -0.18639456024583506,
          -0.19267203108847836,
          -0.161490127631535,
          -0.1482758639804248,
          -0.16365131778691552,
          -0.18057259906593764,
          -0.18110749436123752,
          -0.15781094676523064,
          -0.14875622054756574,
          -0.19670388367520186,
          -0.207577499316152,
          -0.213672498960658,
          -0.1817490514580288,
          -0.16464646720023268,
          -0.1689771786710013,
          -0.29285714589059353,
          -0.126886794097581,
          -0.19884170114303648,
          -0.1679618785054016,
          -0.1457364360780217,
          -0.19107143161818385,
          -0.12380211181839412,
          -0.16818675585293355,
          -0.1718592987687544,
          -0.18420057003663864,
          -0.18179036217421726,
          -0.09934210659641968,
          -0.17777778000616634,
          -0.22897196742140244,
          -0.1626055515017383,
          -0.17539744313983965,
          -0.1429362904868628,
          -0.17100785525896006,
          -0.11074380293365353,
          -0.12630320572178938,
          -0.16605375072743633,
          -0.17176470809123096
         ],
         "zmax": 0,
         "zmin": -0.25
        },
        {
         "colorbar": {
          "title": {
           "text": "Average Sentiment"
          }
         },
         "colorscale": [
          [
           0,
           "rgb(247,251,255)"
          ],
          [
           0.125,
           "rgb(222,235,247)"
          ],
          [
           0.25,
           "rgb(198,219,239)"
          ],
          [
           0.375,
           "rgb(158,202,225)"
          ],
          [
           0.5,
           "rgb(107,174,214)"
          ],
          [
           0.625,
           "rgb(66,146,198)"
          ],
          [
           0.75,
           "rgb(33,113,181)"
          ],
          [
           0.875,
           "rgb(8,81,156)"
          ],
          [
           1,
           "rgb(8,48,107)"
          ]
         ],
         "hoverinfo": "text",
         "locationmode": "USA-states",
         "locations": [
          "AK",
          "AL",
          "AR",
          "AZ",
          "CA",
          "CO",
          "CT",
          "DC",
          "DE",
          "FL",
          "GA",
          "HI",
          "IA",
          "ID",
          "IL",
          "IN",
          "KS",
          "KY",
          "LA",
          "MA",
          "MD",
          "ME",
          "MI",
          "MN",
          "MO",
          "MS",
          "MT",
          "NC",
          "ND",
          "NE",
          "NH",
          "NJ",
          "NM",
          "NV",
          "NY",
          "OH",
          "OK",
          "OR",
          "PA",
          "RI",
          "SC",
          "SD",
          "TN",
          "TX",
          "UT",
          "VA",
          "VT",
          "WA",
          "WI",
          "WY"
         ],
         "name": "15",
         "reversescale": true,
         "text": [
          "Sentiment: -0.179, Magnitude: 0.655<br>AK",
          "Sentiment: -0.183, Magnitude: 0.63<br>AL",
          "Sentiment: -0.173, Magnitude: 0.681<br>AR",
          "Sentiment: -0.162, Magnitude: 0.658<br>AZ",
          "Sentiment: -0.153, Magnitude: 0.64<br>CA",
          "Sentiment: -0.151, Magnitude: 0.625<br>CO",
          "Sentiment: -0.134, Magnitude: 0.631<br>CT",
          "Sentiment: -0.095, Magnitude: 0.645<br>DC",
          "Sentiment: -0.114, Magnitude: 0.65<br>DE",
          "Sentiment: -0.165, Magnitude: 0.642<br>FL",
          "Sentiment: -0.176, Magnitude: 0.628<br>GA",
          "Sentiment: -0.131, Magnitude: 0.605<br>HI",
          "Sentiment: -0.144, Magnitude: 0.638<br>IA",
          "Sentiment: -0.169, Magnitude: 0.644<br>ID",
          "Sentiment: -0.18, Magnitude: 0.67<br>IL",
          "Sentiment: -0.138, Magnitude: 0.664<br>IN",
          "Sentiment: -0.121, Magnitude: 0.622<br>KS",
          "Sentiment: -0.165, Magnitude: 0.654<br>KY",
          "Sentiment: -0.169, Magnitude: 0.652<br>LA",
          "Sentiment: -0.154, Magnitude: 0.676<br>MA",
          "Sentiment: -0.134, Magnitude: 0.592<br>MD",
          "Sentiment: -0.129, Magnitude: 0.623<br>ME",
          "Sentiment: -0.165, Magnitude: 0.656<br>MI",
          "Sentiment: -0.145, Magnitude: 0.637<br>MN",
          "Sentiment: -0.17, Magnitude: 0.656<br>MO",
          "Sentiment: -0.194, Magnitude: 0.701<br>MS",
          "Sentiment: -0.163, Magnitude: 0.65<br>MT",
          "Sentiment: -0.169, Magnitude: 0.666<br>NC",
          "Sentiment: -0.249, Magnitude: 0.641<br>ND",
          "Sentiment: -0.166, Magnitude: 0.618<br>NE",
          "Sentiment: -0.14, Magnitude: 0.681<br>NH",
          "Sentiment: -0.143, Magnitude: 0.646<br>NJ",
          "Sentiment: -0.145, Magnitude: 0.636<br>NM",
          "Sentiment: -0.157, Magnitude: 0.673<br>NV",
          "Sentiment: -0.115, Magnitude: 0.594<br>NY",
          "Sentiment: -0.165, Magnitude: 0.67<br>OH",
          "Sentiment: -0.186, Magnitude: 0.642<br>OK",
          "Sentiment: -0.162, Magnitude: 0.655<br>OR",
          "Sentiment: -0.182, Magnitude: 0.652<br>PA",
          "Sentiment: -0.16, Magnitude: 0.654<br>RI",
          "Sentiment: -0.153, Magnitude: 0.665<br>SC",
          "Sentiment: -0.172, Magnitude: 0.699<br>SD",
          "Sentiment: -0.161, Magnitude: 0.664<br>TN",
          "Sentiment: -0.165, Magnitude: 0.639<br>TX",
          "Sentiment: -0.139, Magnitude: 0.65<br>UT",
          "Sentiment: -0.165, Magnitude: 0.669<br>VA",
          "Sentiment: -0.14, Magnitude: 0.653<br>VT",
          "Sentiment: -0.109, Magnitude: 0.599<br>WA",
          "Sentiment: -0.141, Magnitude: 0.652<br>WI",
          "Sentiment: -0.197, Magnitude: 0.718<br>WY"
         ],
         "type": "choropleth",
         "visible": false,
         "z": [
          -0.17945946233498086,
          -0.18250401554865398,
          -0.17282051530021889,
          -0.16201034955906146,
          -0.15336259793671794,
          -0.1508239970966712,
          -0.13425129254488033,
          -0.09531250142026693,
          -0.11390374413626715,
          -0.16546501931750274,
          -0.1760633885736163,
          -0.13068965686292486,
          -0.1442680799876992,
          -0.16868687117541278,
          -0.17981727814233778,
          -0.1381835047573376,
          -0.12060890106846353,
          -0.16500754374589316,
          -0.16889313258628808,
          -0.154016915275607,
          -0.13417989580877246,
          -0.12863849981429992,
          -0.1654554285693827,
          -0.1449029150518399,
          -0.16982408888204495,
          -0.19429530495865235,
          -0.1626415121105482,
          -0.16920062944549938,
          -0.24945055341327585,
          -0.1660098535894173,
          -0.1404761920668303,
          -0.14262069147722475,
          -0.1449152561757019,
          -0.15721519238586668,
          -0.11486262971278215,
          -0.16463158164761568,
          -0.18621848973156024,
          -0.16226583623545815,
          -0.1823701562786416,
          -0.1598802415910595,
          -0.15259392010397899,
          -0.17156863008059708,
          -0.16112385515055253,
          -0.16455626945946047,
          -0.13887468186180915,
          -0.16470588470244651,
          -0.13972602963243444,
          -0.10936999025691688,
          -0.141226995713506,
          -0.1971153883406749
         ],
         "zmax": 0,
         "zmin": -0.25
        },
        {
         "colorbar": {
          "title": {
           "text": "Average Sentiment"
          }
         },
         "colorscale": [
          [
           0,
           "rgb(247,251,255)"
          ],
          [
           0.125,
           "rgb(222,235,247)"
          ],
          [
           0.25,
           "rgb(198,219,239)"
          ],
          [
           0.375,
           "rgb(158,202,225)"
          ],
          [
           0.5,
           "rgb(107,174,214)"
          ],
          [
           0.625,
           "rgb(66,146,198)"
          ],
          [
           0.75,
           "rgb(33,113,181)"
          ],
          [
           0.875,
           "rgb(8,81,156)"
          ],
          [
           1,
           "rgb(8,48,107)"
          ]
         ],
         "hoverinfo": "text",
         "locationmode": "USA-states",
         "locations": [
          "AK",
          "AL",
          "AR",
          "AZ",
          "CA",
          "CO",
          "CT",
          "DC",
          "DE",
          "FL",
          "GA",
          "HI",
          "IA",
          "ID",
          "IL",
          "IN",
          "KS",
          "KY",
          "LA",
          "MA",
          "MD",
          "ME",
          "MI",
          "MN",
          "MO",
          "MS",
          "MT",
          "NC",
          "ND",
          "NE",
          "NH",
          "NJ",
          "NM",
          "NV",
          "NY",
          "OH",
          "OK",
          "OR",
          "PA",
          "RI",
          "SC",
          "SD",
          "TN",
          "TX",
          "UT",
          "VA",
          "VT",
          "WA",
          "WI",
          "WY"
         ],
         "name": "16",
         "reversescale": true,
         "text": [
          "Sentiment: -0.183, Magnitude: 0.691<br>AK",
          "Sentiment: -0.138, Magnitude: 0.666<br>AL",
          "Sentiment: -0.151, Magnitude: 0.577<br>AR",
          "Sentiment: -0.189, Magnitude: 0.628<br>AZ",
          "Sentiment: -0.161, Magnitude: 0.649<br>CA",
          "Sentiment: -0.162, Magnitude: 0.673<br>CO",
          "Sentiment: -0.124, Magnitude: 0.609<br>CT",
          "Sentiment: -0.136, Magnitude: 0.424<br>DC",
          "Sentiment: -0.186, Magnitude: 0.777<br>DE",
          "Sentiment: -0.164, Magnitude: 0.642<br>FL",
          "Sentiment: -0.174, Magnitude: 0.659<br>GA",
          "Sentiment: -0.145, Magnitude: 0.635<br>HI",
          "Sentiment: -0.17, Magnitude: 0.672<br>IA",
          "Sentiment: -0.162, Magnitude: 0.637<br>ID",
          "Sentiment: -0.152, Magnitude: 0.612<br>IL",
          "Sentiment: -0.136, Magnitude: 0.667<br>IN",
          "Sentiment: -0.16, Magnitude: 0.689<br>KS",
          "Sentiment: -0.179, Magnitude: 0.638<br>KY",
          "Sentiment: -0.179, Magnitude: 0.654<br>LA",
          "Sentiment: -0.179, Magnitude: 0.657<br>MA",
          "Sentiment: -0.158, Magnitude: 0.639<br>MD",
          "Sentiment: -0.146, Magnitude: 0.615<br>ME",
          "Sentiment: -0.181, Magnitude: 0.674<br>MI",
          "Sentiment: -0.179, Magnitude: 0.665<br>MN",
          "Sentiment: -0.173, Magnitude: 0.678<br>MO",
          "Sentiment: -0.171, Magnitude: 0.716<br>MS",
          "Sentiment: -0.146, Magnitude: 0.657<br>MT",
          "Sentiment: -0.164, Magnitude: 0.624<br>NC",
          "Sentiment: -0.092, Magnitude: 0.539<br>ND",
          "Sentiment: -0.168, Magnitude: 0.716<br>NE",
          "Sentiment: -0.146, Magnitude: 0.681<br>NH",
          "Sentiment: -0.153, Magnitude: 0.651<br>NJ",
          "Sentiment: -0.189, Magnitude: 0.709<br>NM",
          "Sentiment: -0.169, Magnitude: 0.587<br>NV",
          "Sentiment: -0.125, Magnitude: 0.624<br>NY",
          "Sentiment: -0.167, Magnitude: 0.659<br>OH",
          "Sentiment: -0.171, Magnitude: 0.63<br>OK",
          "Sentiment: -0.199, Magnitude: 0.678<br>OR",
          "Sentiment: -0.183, Magnitude: 0.664<br>PA",
          "Sentiment: -0.18, Magnitude: 0.632<br>RI",
          "Sentiment: -0.138, Magnitude: 0.68<br>SC",
          "Sentiment: -0.255, Magnitude: 0.652<br>SD",
          "Sentiment: -0.185, Magnitude: 0.649<br>TN",
          "Sentiment: -0.162, Magnitude: 0.63<br>TX",
          "Sentiment: -0.148, Magnitude: 0.687<br>UT",
          "Sentiment: -0.166, Magnitude: 0.654<br>VA",
          "Sentiment: -0.131, Magnitude: 0.609<br>VT",
          "Sentiment: -0.114, Magnitude: 0.623<br>WA",
          "Sentiment: -0.179, Magnitude: 0.682<br>WI",
          "Sentiment: -0.119, Magnitude: 0.712<br>WY"
         ],
         "type": "choropleth",
         "visible": false,
         "z": [
          -0.18333333606521288,
          -0.1384761929512024,
          -0.15092592741604205,
          -0.188829314239969,
          -0.1608404634113802,
          -0.16212510909396766,
          -0.12400990235849772,
          -0.13555555707878536,
          -0.18595505756943412,
          -0.16387993283246358,
          -0.17402723998353176,
          -0.1448398595443824,
          -0.16975717669225426,
          -0.16209677726991714,
          -0.15161290565252536,
          -0.13558926669795984,
          -0.16048850741066126,
          -0.1789103715904777,
          -0.17943723188527735,
          -0.17866109009193076,
          -0.15813367143931034,
          -0.14553846377592822,
          -0.18137317487125704,
          -0.17941919453630242,
          -0.17266314178442407,
          -0.17058823751468286,
          -0.14579439563589675,
          -0.16400797813685086,
          -0.09183673591029888,
          -0.16833333646257714,
          -0.14619047893654732,
          -0.15311237068044242,
          -0.1889795935883814,
          -0.1689655186173103,
          -0.12466771099527102,
          -0.167313917974631,
          -0.17106383224116994,
          -0.1988636387573663,
          -0.18299913068595092,
          -0.17950819774729307,
          -0.13849462570362195,
          -0.25468750146683306,
          -0.18478261117146624,
          -0.16224039116338507,
          -0.14794952890098284,
          -0.16570188330456764,
          -0.131250002712477,
          -0.11362165507454143,
          -0.1785318583683459,
          -0.11860465267023375
         ],
         "zmax": 0,
         "zmin": -0.25
        },
        {
         "colorbar": {
          "title": {
           "text": "Average Sentiment"
          }
         },
         "colorscale": [
          [
           0,
           "rgb(247,251,255)"
          ],
          [
           0.125,
           "rgb(222,235,247)"
          ],
          [
           0.25,
           "rgb(198,219,239)"
          ],
          [
           0.375,
           "rgb(158,202,225)"
          ],
          [
           0.5,
           "rgb(107,174,214)"
          ],
          [
           0.625,
           "rgb(66,146,198)"
          ],
          [
           0.75,
           "rgb(33,113,181)"
          ],
          [
           0.875,
           "rgb(8,81,156)"
          ],
          [
           1,
           "rgb(8,48,107)"
          ]
         ],
         "hoverinfo": "text",
         "locationmode": "USA-states",
         "locations": [
          "AK",
          "AL",
          "AR",
          "AZ",
          "CA",
          "CO",
          "CT",
          "DC",
          "DE",
          "FL",
          "GA",
          "HI",
          "IA",
          "ID",
          "IL",
          "IN",
          "KS",
          "KY",
          "LA",
          "MA",
          "MD",
          "ME",
          "MI",
          "MN",
          "MO",
          "MS",
          "MT",
          "NC",
          "ND",
          "NE",
          "NH",
          "NJ",
          "NM",
          "NV",
          "NY",
          "OH",
          "OK",
          "OR",
          "PA",
          "RI",
          "SC",
          "SD",
          "TN",
          "TX",
          "UT",
          "VA",
          "VT",
          "WA",
          "WI",
          "WY"
         ],
         "name": "17",
         "reversescale": true,
         "text": [
          "Sentiment: -0.149, Magnitude: 0.605<br>AK",
          "Sentiment: -0.155, Magnitude: 0.653<br>AL",
          "Sentiment: -0.154, Magnitude: 0.646<br>AR",
          "Sentiment: -0.17, Magnitude: 0.654<br>AZ",
          "Sentiment: -0.16, Magnitude: 0.647<br>CA",
          "Sentiment: -0.159, Magnitude: 0.671<br>CO",
          "Sentiment: -0.138, Magnitude: 0.621<br>CT",
          "Sentiment: -0.013, Magnitude: 0.587<br>DC",
          "Sentiment: -0.151, Magnitude: 0.657<br>DE",
          "Sentiment: -0.154, Magnitude: 0.644<br>FL",
          "Sentiment: -0.167, Magnitude: 0.659<br>GA",
          "Sentiment: -0.118, Magnitude: 0.585<br>HI",
          "Sentiment: -0.149, Magnitude: 0.669<br>IA",
          "Sentiment: -0.178, Magnitude: 0.655<br>ID",
          "Sentiment: -0.171, Magnitude: 0.653<br>IL",
          "Sentiment: -0.127, Magnitude: 0.703<br>IN",
          "Sentiment: -0.161, Magnitude: 0.627<br>KS",
          "Sentiment: -0.148, Magnitude: 0.632<br>KY",
          "Sentiment: -0.168, Magnitude: 0.634<br>LA",
          "Sentiment: -0.148, Magnitude: 0.677<br>MA",
          "Sentiment: -0.17, Magnitude: 0.655<br>MD",
          "Sentiment: -0.159, Magnitude: 0.66<br>ME",
          "Sentiment: -0.159, Magnitude: 0.673<br>MI",
          "Sentiment: -0.168, Magnitude: 0.692<br>MN",
          "Sentiment: -0.143, Magnitude: 0.666<br>MO",
          "Sentiment: -0.132, Magnitude: 0.596<br>MS",
          "Sentiment: -0.189, Magnitude: 0.654<br>MT",
          "Sentiment: -0.175, Magnitude: 0.658<br>NC",
          "Sentiment: -0.138, Magnitude: 0.598<br>ND",
          "Sentiment: -0.162, Magnitude: 0.637<br>NE",
          "Sentiment: -0.203, Magnitude: 0.617<br>NH",
          "Sentiment: -0.15, Magnitude: 0.627<br>NJ",
          "Sentiment: -0.205, Magnitude: 0.633<br>NM",
          "Sentiment: -0.135, Magnitude: 0.673<br>NV",
          "Sentiment: -0.116, Magnitude: 0.638<br>NY",
          "Sentiment: -0.164, Magnitude: 0.637<br>OH",
          "Sentiment: -0.166, Magnitude: 0.642<br>OK",
          "Sentiment: -0.159, Magnitude: 0.675<br>OR",
          "Sentiment: -0.171, Magnitude: 0.646<br>PA",
          "Sentiment: -0.191, Magnitude: 0.612<br>RI",
          "Sentiment: -0.155, Magnitude: 0.662<br>SC",
          "Sentiment: -0.133, Magnitude: 0.651<br>SD",
          "Sentiment: -0.158, Magnitude: 0.658<br>TN",
          "Sentiment: -0.153, Magnitude: 0.638<br>TX",
          "Sentiment: -0.155, Magnitude: 0.668<br>UT",
          "Sentiment: -0.153, Magnitude: 0.676<br>VA",
          "Sentiment: -0.141, Magnitude: 0.699<br>VT",
          "Sentiment: -0.132, Magnitude: 0.645<br>WA",
          "Sentiment: -0.192, Magnitude: 0.73<br>WI",
          "Sentiment: -0.255, Magnitude: 0.605<br>WY"
         ],
         "type": "choropleth",
         "visible": false,
         "z": [
          -0.14875622026955904,
          -0.15451128016176974,
          -0.1544072976092437,
          -0.1695945966812606,
          -0.1601989203227105,
          -0.15869381076532266,
          -0.13817427619611575,
          -0.013043477159479386,
          -0.15099010118606068,
          -0.15356640295697624,
          -0.16657458800774472,
          -0.11781818381764672,
          -0.14944567813841572,
          -0.17819905404654726,
          -0.17114846187145435,
          -0.1274623416908094,
          -0.16058496045451975,
          -0.14845173261747552,
          -0.16788618151492218,
          -0.14830011943440366,
          -0.1702337043696664,
          -0.15929648431776158,
          -0.15864040893342776,
          -0.167994312221346,
          -0.1431304370061211,
          -0.13175182648166253,
          -0.18928571703976815,
          -0.17549549797633746,
          -0.13750000271414006,
          -0.16237623985893654,
          -0.20338983338136796,
          -0.14980544961032236,
          -0.2052845550261862,
          -0.13507692497510174,
          -0.1158429668980939,
          -0.1644607866593801,
          -0.16578411558252246,
          -0.15852490622707255,
          -0.17096000238060952,
          -0.19148936534815647,
          -0.15456521924099195,
          -0.1333333367238874,
          -0.15765645998851274,
          -0.15329982728169828,
          -0.15457746740692938,
          -0.15310245477103912,
          -0.14130434971572695,
          -0.13162909029598802,
          -0.19235209479906515,
          -0.25487805176072004
         ],
         "zmax": 0,
         "zmin": -0.25
        },
        {
         "colorbar": {
          "title": {
           "text": "Average Sentiment"
          }
         },
         "colorscale": [
          [
           0,
           "rgb(247,251,255)"
          ],
          [
           0.125,
           "rgb(222,235,247)"
          ],
          [
           0.25,
           "rgb(198,219,239)"
          ],
          [
           0.375,
           "rgb(158,202,225)"
          ],
          [
           0.5,
           "rgb(107,174,214)"
          ],
          [
           0.625,
           "rgb(66,146,198)"
          ],
          [
           0.75,
           "rgb(33,113,181)"
          ],
          [
           0.875,
           "rgb(8,81,156)"
          ],
          [
           1,
           "rgb(8,48,107)"
          ]
         ],
         "hoverinfo": "text",
         "locationmode": "USA-states",
         "locations": [
          "AK",
          "AL",
          "AR",
          "AZ",
          "CA",
          "CO",
          "CT",
          "DC",
          "DE",
          "FL",
          "GA",
          "HI",
          "IA",
          "ID",
          "IL",
          "IN",
          "KS",
          "KY",
          "LA",
          "MA",
          "MD",
          "ME",
          "MI",
          "MN",
          "MO",
          "MS",
          "MT",
          "NC",
          "ND",
          "NE",
          "NH",
          "NJ",
          "NM",
          "NV",
          "NY",
          "OH",
          "OK",
          "OR",
          "PA",
          "RI",
          "SC",
          "SD",
          "TN",
          "TX",
          "UT",
          "VA",
          "VT",
          "WA",
          "WI",
          "WY"
         ],
         "name": "18",
         "reversescale": true,
         "text": [
          "Sentiment: -0.176, Magnitude: 0.661<br>AK",
          "Sentiment: -0.143, Magnitude: 0.683<br>AL",
          "Sentiment: -0.205, Magnitude: 0.698<br>AR",
          "Sentiment: -0.199, Magnitude: 0.707<br>AZ",
          "Sentiment: -0.169, Magnitude: 0.677<br>CA",
          "Sentiment: -0.167, Magnitude: 0.703<br>CO",
          "Sentiment: -0.169, Magnitude: 0.676<br>CT",
          "Sentiment: -0.124, Magnitude: 0.57<br>DC",
          "Sentiment: -0.169, Magnitude: 0.69<br>DE",
          "Sentiment: -0.163, Magnitude: 0.694<br>FL",
          "Sentiment: -0.181, Magnitude: 0.71<br>GA",
          "Sentiment: -0.131, Magnitude: 0.707<br>HI",
          "Sentiment: -0.166, Magnitude: 0.669<br>IA",
          "Sentiment: -0.13, Magnitude: 0.748<br>ID",
          "Sentiment: -0.183, Magnitude: 0.709<br>IL",
          "Sentiment: -0.155, Magnitude: 0.706<br>IN",
          "Sentiment: -0.183, Magnitude: 0.687<br>KS",
          "Sentiment: -0.185, Magnitude: 0.666<br>KY",
          "Sentiment: -0.174, Magnitude: 0.669<br>LA",
          "Sentiment: -0.165, Magnitude: 0.693<br>MA",
          "Sentiment: -0.174, Magnitude: 0.643<br>MD",
          "Sentiment: -0.166, Magnitude: 0.693<br>ME",
          "Sentiment: -0.165, Magnitude: 0.722<br>MI",
          "Sentiment: -0.177, Magnitude: 0.718<br>MN",
          "Sentiment: -0.156, Magnitude: 0.713<br>MO",
          "Sentiment: -0.159, Magnitude: 0.636<br>MS",
          "Sentiment: -0.169, Magnitude: 0.726<br>MT",
          "Sentiment: -0.185, Magnitude: 0.637<br>NC",
          "Sentiment: -0.157, Magnitude: 0.632<br>ND",
          "Sentiment: -0.174, Magnitude: 0.699<br>NE",
          "Sentiment: -0.165, Magnitude: 0.74<br>NH",
          "Sentiment: -0.159, Magnitude: 0.733<br>NJ",
          "Sentiment: -0.226, Magnitude: 0.662<br>NM",
          "Sentiment: -0.156, Magnitude: 0.726<br>NV",
          "Sentiment: -0.125, Magnitude: 0.7<br>NY",
          "Sentiment: -0.176, Magnitude: 0.691<br>OH",
          "Sentiment: -0.197, Magnitude: 0.682<br>OK",
          "Sentiment: -0.176, Magnitude: 0.683<br>OR",
          "Sentiment: -0.188, Magnitude: 0.714<br>PA",
          "Sentiment: -0.121, Magnitude: 0.732<br>RI",
          "Sentiment: -0.173, Magnitude: 0.672<br>SC",
          "Sentiment: -0.127, Magnitude: 0.673<br>SD",
          "Sentiment: -0.188, Magnitude: 0.692<br>TN",
          "Sentiment: -0.173, Magnitude: 0.681<br>TX",
          "Sentiment: -0.165, Magnitude: 0.714<br>UT",
          "Sentiment: -0.173, Magnitude: 0.699<br>VA",
          "Sentiment: -0.208, Magnitude: 0.768<br>VT",
          "Sentiment: -0.14, Magnitude: 0.675<br>WA",
          "Sentiment: -0.197, Magnitude: 0.711<br>WI",
          "Sentiment: -0.114, Magnitude: 0.627<br>WY"
         ],
         "type": "choropleth",
         "visible": false,
         "z": [
          -0.17553957042505414,
          -0.1425806471096572,
          -0.20522876027849765,
          -0.1989464463700424,
          -0.16899341697386716,
          -0.1672588848144875,
          -0.1694323158127512,
          -0.12432432617690113,
          -0.16923077148798654,
          -0.1629476959067686,
          -0.1810198317407661,
          -0.13076923335129434,
          -0.16614173399651144,
          -0.13030303169638566,
          -0.18265836130390534,
          -0.15480093863864694,
          -0.1828655856640864,
          -0.18542914388481965,
          -0.17387580541331454,
          -0.16526442505598354,
          -0.17376237784945728,
          -0.1655384630881823,
          -0.16546184949606774,
          -0.17693430907534854,
          -0.1561739149948825,
          -0.15915493176541698,
          -0.16885965124687605,
          -0.18530852346882648,
          -0.1571428579470468,
          -0.1735955083721809,
          -0.16524064373523795,
          -0.1590871384653313,
          -0.22575107629334976,
          -0.15649717722067052,
          -0.12483687803754552,
          -0.17649253967927014,
          -0.19726316025382595,
          -0.17640332848979876,
          -0.18842105539352225,
          -0.12063492255078423,
          -0.17348643267888866,
          -0.12702702891987724,
          -0.18751678104768665,
          -0.17252231300395102,
          -0.16495177077902093,
          -0.17341389960617815,
          -0.20793651020716106,
          -0.13953567978748896,
          -0.19705426579760027,
          -0.11444444581866264
         ],
         "zmax": 0,
         "zmin": -0.25
        },
        {
         "colorbar": {
          "title": {
           "text": "Average Sentiment"
          }
         },
         "colorscale": [
          [
           0,
           "rgb(247,251,255)"
          ],
          [
           0.125,
           "rgb(222,235,247)"
          ],
          [
           0.25,
           "rgb(198,219,239)"
          ],
          [
           0.375,
           "rgb(158,202,225)"
          ],
          [
           0.5,
           "rgb(107,174,214)"
          ],
          [
           0.625,
           "rgb(66,146,198)"
          ],
          [
           0.75,
           "rgb(33,113,181)"
          ],
          [
           0.875,
           "rgb(8,81,156)"
          ],
          [
           1,
           "rgb(8,48,107)"
          ]
         ],
         "hoverinfo": "text",
         "locationmode": "USA-states",
         "locations": [
          "AK",
          "AL",
          "AR",
          "AZ",
          "CA",
          "CO",
          "CT",
          "DC",
          "DE",
          "FL",
          "GA",
          "HI",
          "IA",
          "ID",
          "IL",
          "IN",
          "KS",
          "KY",
          "LA",
          "MA",
          "MD",
          "ME",
          "MI",
          "MN",
          "MO",
          "MS",
          "MT",
          "NC",
          "ND",
          "NE",
          "NH",
          "NJ",
          "NM",
          "NV",
          "NY",
          "OH",
          "OK",
          "OR",
          "PA",
          "RI",
          "SC",
          "SD",
          "TN",
          "TX",
          "UT",
          "VA",
          "VT",
          "WA",
          "WI",
          "WY"
         ],
         "name": "19",
         "reversescale": true,
         "text": [
          "Sentiment: -0.207, Magnitude: 0.493<br>AK",
          "Sentiment: -0.234, Magnitude: 0.794<br>AL",
          "Sentiment: -0.122, Magnitude: 0.622<br>AR",
          "Sentiment: -0.271, Magnitude: 0.7<br>AZ",
          "Sentiment: -0.152, Magnitude: 0.691<br>CA",
          "Sentiment: -0.202, Magnitude: 0.774<br>CO",
          "Sentiment: -0.244, Magnitude: 0.719<br>CT",
          "Sentiment: -0.267, Magnitude: 0.4<br>DC",
          "Sentiment: 0.1, Magnitude: 0.633<br>DE",
          "Sentiment: -0.155, Magnitude: 0.636<br>FL",
          "Sentiment: -0.186, Magnitude: 0.881<br>GA",
          "Sentiment: -0.2, Magnitude: 0.793<br>HI",
          "Sentiment: -0.174, Magnitude: 0.726<br>IA",
          "Sentiment: -0.143, Magnitude: 0.529<br>ID",
          "Sentiment: -0.07, Magnitude: 0.6<br>IL",
          "Sentiment: -0.132, Magnitude: 0.751<br>IN",
          "Sentiment: -0.11, Magnitude: 0.714<br>KS",
          "Sentiment: -0.146, Magnitude: 0.431<br>KY",
          "Sentiment: -0.156, Magnitude: 0.656<br>LA",
          "Sentiment: -0.263, Magnitude: 0.79<br>MA",
          "Sentiment: -0.071, Magnitude: 0.554<br>MD",
          "Sentiment: -0.119, Magnitude: 0.584<br>ME",
          "Sentiment: -0.122, Magnitude: 0.719<br>MI",
          "Sentiment: -0.241, Magnitude: 0.635<br>MN",
          "Sentiment: -0.138, Magnitude: 0.644<br>MO",
          "Sentiment: -0.085, Magnitude: 0.625<br>MS",
          "Sentiment: 0.05, Magnitude: 0.4<br>MT",
          "Sentiment: -0.204, Magnitude: 0.737<br>NC",
          "Sentiment: -0.25, Magnitude: 0.25<br>ND",
          "Sentiment: -0.086, Magnitude: 0.779<br>NE",
          "Sentiment: -0.236, Magnitude: 0.564<br>NH",
          "Sentiment: -0.207, Magnitude: 0.69<br>NJ",
          "Sentiment: -0.067, Magnitude: 0.881<br>NM",
          "Sentiment: -0.215, Magnitude: 0.89<br>NV",
          "Sentiment: -0.122, Magnitude: 0.626<br>NY",
          "Sentiment: -0.176, Magnitude: 0.697<br>OH",
          "Sentiment: -0.27, Magnitude: 0.643<br>OK",
          "Sentiment: -0.198, Magnitude: 0.625<br>OR",
          "Sentiment: -0.27, Magnitude: 0.732<br>PA",
          "Sentiment: -0.211, Magnitude: 0.489<br>RI",
          "Sentiment: -0.094, Magnitude: 0.571<br>SC",
          "Sentiment: -0.3, Magnitude: 0.3<br>SD",
          "Sentiment: -0.216, Magnitude: 0.638<br>TN",
          "Sentiment: -0.128, Magnitude: 0.644<br>TX",
          "Sentiment: -0.225, Magnitude: 0.797<br>UT",
          "Sentiment: -0.196, Magnitude: 0.611<br>VA",
          "Sentiment: -0.117, Magnitude: 0.783<br>VT",
          "Sentiment: -0.11, Magnitude: 0.623<br>WA",
          "Sentiment: -0.166, Magnitude: 0.71<br>WI",
          "Sentiment: -0.214, Magnitude: 0.386<br>WY"
         ],
         "type": "choropleth",
         "visible": false,
         "z": [
          -0.20666667173306147,
          -0.23437500232830644,
          -0.12222222652700213,
          -0.2710144936606504,
          -0.15162241988565367,
          -0.20188679475829285,
          -0.2444444467072133,
          -0.26666667064030963,
          0.10000000149011612,
          -0.155078127165325,
          -0.18554217161902464,
          -0.2000000019868215,
          -0.17428571603127888,
          -0.14285714605024882,
          -0.07037037114302318,
          -0.13207547493138402,
          -0.1098039252500908,
          -0.14615384833170816,
          -0.15555555725263226,
          -0.26274509859435696,
          -0.07142857185431889,
          -0.11875000037252904,
          -0.12222222314664613,
          -0.2405405443262409,
          -0.1384615401426951,
          -0.08500000201165676,
          0.04999999950329463,
          -0.20357142921004973,
          -0.25,
          -0.08571428858808107,
          -0.23571429241980826,
          -0.2072916697555532,
          -0.06666666801486698,
          -0.21500000394880767,
          -0.12162162297365747,
          -0.17619047718388695,
          -0.2700000045200189,
          -0.19824561607419397,
          -0.2698412727978494,
          -0.21111111756828094,
          -0.09411764802301632,
          -0.30000001192092896,
          -0.2163636395877058,
          -0.12777777882213268,
          -0.22500000381842256,
          -0.1957142871405397,
          -0.11666666840513548,
          -0.10988372252431026,
          -0.16600000336766246,
          -0.21428571322134565
         ],
         "zmax": 0,
         "zmin": -0.25
        },
        {
         "colorbar": {
          "title": {
           "text": "Average Sentiment"
          }
         },
         "colorscale": [
          [
           0,
           "rgb(247,251,255)"
          ],
          [
           0.125,
           "rgb(222,235,247)"
          ],
          [
           0.25,
           "rgb(198,219,239)"
          ],
          [
           0.375,
           "rgb(158,202,225)"
          ],
          [
           0.5,
           "rgb(107,174,214)"
          ],
          [
           0.625,
           "rgb(66,146,198)"
          ],
          [
           0.75,
           "rgb(33,113,181)"
          ],
          [
           0.875,
           "rgb(8,81,156)"
          ],
          [
           1,
           "rgb(8,48,107)"
          ]
         ],
         "hoverinfo": "text",
         "locationmode": "USA-states",
         "locations": [
          "AK",
          "AL",
          "AR",
          "AZ",
          "CA",
          "CO",
          "CT",
          "DC",
          "DE",
          "FL",
          "GA",
          "HI",
          "IA",
          "ID",
          "IL",
          "IN",
          "KS",
          "KY",
          "LA",
          "MA",
          "MD",
          "ME",
          "MI",
          "MN",
          "MO",
          "MS",
          "MT",
          "NC",
          "ND",
          "NE",
          "NH",
          "NJ",
          "NM",
          "NV",
          "NY",
          "OH",
          "OK",
          "OR",
          "PA",
          "RI",
          "SC",
          "SD",
          "TN",
          "TX",
          "UT",
          "VA",
          "VT",
          "WA",
          "WI",
          "WY"
         ],
         "name": "20",
         "reversescale": true,
         "text": [
          "Sentiment: -0.163, Magnitude: 0.708<br>AK",
          "Sentiment: -0.152, Magnitude: 0.723<br>AL",
          "Sentiment: -0.174, Magnitude: 0.744<br>AR",
          "Sentiment: -0.176, Magnitude: 0.688<br>AZ",
          "Sentiment: -0.16, Magnitude: 0.671<br>CA",
          "Sentiment: -0.178, Magnitude: 0.697<br>CO",
          "Sentiment: -0.164, Magnitude: 0.665<br>CT",
          "Sentiment: -0.128, Magnitude: 0.485<br>DC",
          "Sentiment: -0.15, Magnitude: 0.68<br>DE",
          "Sentiment: -0.16, Magnitude: 0.662<br>FL",
          "Sentiment: -0.185, Magnitude: 0.718<br>GA",
          "Sentiment: -0.138, Magnitude: 0.704<br>HI",
          "Sentiment: -0.148, Magnitude: 0.675<br>IA",
          "Sentiment: -0.131, Magnitude: 0.719<br>ID",
          "Sentiment: -0.165, Magnitude: 0.71<br>IL",
          "Sentiment: -0.146, Magnitude: 0.68<br>IN",
          "Sentiment: -0.119, Magnitude: 0.683<br>KS",
          "Sentiment: -0.164, Magnitude: 0.698<br>KY",
          "Sentiment: -0.166, Magnitude: 0.676<br>LA",
          "Sentiment: -0.175, Magnitude: 0.684<br>MA",
          "Sentiment: -0.121, Magnitude: 0.68<br>MD",
          "Sentiment: -0.147, Magnitude: 0.656<br>ME",
          "Sentiment: -0.154, Magnitude: 0.706<br>MI",
          "Sentiment: -0.185, Magnitude: 0.692<br>MN",
          "Sentiment: -0.175, Magnitude: 0.693<br>MO",
          "Sentiment: -0.142, Magnitude: 0.673<br>MS",
          "Sentiment: -0.186, Magnitude: 0.696<br>MT",
          "Sentiment: -0.187, Magnitude: 0.684<br>NC",
          "Sentiment: -0.2, Magnitude: 0.57<br>ND",
          "Sentiment: -0.138, Magnitude: 0.585<br>NE",
          "Sentiment: -0.211, Magnitude: 0.713<br>NH",
          "Sentiment: -0.15, Magnitude: 0.697<br>NJ",
          "Sentiment: -0.145, Magnitude: 0.707<br>NM",
          "Sentiment: -0.184, Magnitude: 0.69<br>NV",
          "Sentiment: -0.115, Magnitude: 0.631<br>NY",
          "Sentiment: -0.177, Magnitude: 0.699<br>OH",
          "Sentiment: -0.184, Magnitude: 0.642<br>OK",
          "Sentiment: -0.193, Magnitude: 0.678<br>OR",
          "Sentiment: -0.186, Magnitude: 0.714<br>PA",
          "Sentiment: -0.111, Magnitude: 0.694<br>RI",
          "Sentiment: -0.11, Magnitude: 0.724<br>SC",
          "Sentiment: -0.161, Magnitude: 0.714<br>SD",
          "Sentiment: -0.153, Magnitude: 0.657<br>TN",
          "Sentiment: -0.171, Magnitude: 0.656<br>TX",
          "Sentiment: -0.192, Magnitude: 0.672<br>UT",
          "Sentiment: -0.165, Magnitude: 0.699<br>VA",
          "Sentiment: -0.128, Magnitude: 0.651<br>VT",
          "Sentiment: -0.115, Magnitude: 0.643<br>WA",
          "Sentiment: -0.139, Magnitude: 0.699<br>WI",
          "Sentiment: -0.147, Magnitude: 0.667<br>WY"
         ],
         "type": "choropleth",
         "visible": false,
         "z": [
          -0.16331361075477488,
          -0.15168141785976105,
          -0.1743827185789008,
          -0.17581475369542787,
          -0.16031046556119674,
          -0.17801179669063033,
          -0.16409691858068434,
          -0.12750000022351746,
          -0.15000000258442014,
          -0.16018824945141175,
          -0.18488820549172444,
          -0.1382671501016789,
          -0.14833703072134513,
          -0.13127572141557073,
          -0.16546341684533328,
          -0.14618784713646324,
          -0.11917404271112783,
          -0.16416084130744002,
          -0.16631799333078093,
          -0.1749357348140377,
          -0.12078978068494907,
          -0.14746543986525404,
          -0.15416125006615264,
          -0.18482428409468632,
          -0.17509157722304156,
          -0.14247787770180576,
          -0.18627451320050975,
          -0.1871819984452132,
          -0.2000000016255812,
          -0.13834197031710432,
          -0.21102041115566172,
          -0.14988009809113614,
          -0.14526749196857092,
          -0.18358209259919267,
          -0.11462745215524645,
          -0.1772343018969548,
          -0.184051726238224,
          -0.1927521026638501,
          -0.18616236380655388,
          -0.1111111141268223,
          -0.10986842216695086,
          -0.1609375000698492,
          -0.15268225790586892,
          -0.17050670500242882,
          -0.192447132687014,
          -0.16510067290663274,
          -0.12750000208616258,
          -0.11528178367514752,
          -0.13877551105557656,
          -0.14659091144461522
         ],
         "zmax": 0,
         "zmin": -0.25
        },
        {
         "colorbar": {
          "title": {
           "text": "Average Sentiment"
          }
         },
         "colorscale": [
          [
           0,
           "rgb(247,251,255)"
          ],
          [
           0.125,
           "rgb(222,235,247)"
          ],
          [
           0.25,
           "rgb(198,219,239)"
          ],
          [
           0.375,
           "rgb(158,202,225)"
          ],
          [
           0.5,
           "rgb(107,174,214)"
          ],
          [
           0.625,
           "rgb(66,146,198)"
          ],
          [
           0.75,
           "rgb(33,113,181)"
          ],
          [
           0.875,
           "rgb(8,81,156)"
          ],
          [
           1,
           "rgb(8,48,107)"
          ]
         ],
         "hoverinfo": "text",
         "locationmode": "USA-states",
         "locations": [
          "AK",
          "AL",
          "AR",
          "AZ",
          "CA",
          "CO",
          "CT",
          "DC",
          "DE",
          "FL",
          "GA",
          "HI",
          "IA",
          "ID",
          "IL",
          "IN",
          "KS",
          "KY",
          "LA",
          "MA",
          "MD",
          "ME",
          "MI",
          "MN",
          "MO",
          "MS",
          "MT",
          "NC",
          "ND",
          "NE",
          "NH",
          "NJ",
          "NM",
          "NV",
          "NY",
          "OH",
          "OK",
          "OR",
          "PA",
          "RI",
          "SC",
          "SD",
          "TN",
          "TX",
          "UT",
          "VA",
          "VT",
          "WA",
          "WI",
          "WY"
         ],
         "name": "21",
         "reversescale": true,
         "text": [
          "Sentiment: -0.177, Magnitude: 0.722<br>AK",
          "Sentiment: -0.151, Magnitude: 0.671<br>AL",
          "Sentiment: -0.19, Magnitude: 0.678<br>AR",
          "Sentiment: -0.194, Magnitude: 0.674<br>AZ",
          "Sentiment: -0.169, Magnitude: 0.638<br>CA",
          "Sentiment: -0.167, Magnitude: 0.662<br>CO",
          "Sentiment: -0.182, Magnitude: 0.658<br>CT",
          "Sentiment: -0.228, Magnitude: 0.601<br>DC",
          "Sentiment: -0.168, Magnitude: 0.657<br>DE",
          "Sentiment: -0.172, Magnitude: 0.644<br>FL",
          "Sentiment: -0.165, Magnitude: 0.679<br>GA",
          "Sentiment: -0.143, Magnitude: 0.602<br>HI",
          "Sentiment: -0.175, Magnitude: 0.64<br>IA",
          "Sentiment: -0.191, Magnitude: 0.684<br>ID",
          "Sentiment: -0.175, Magnitude: 0.691<br>IL",
          "Sentiment: -0.152, Magnitude: 0.643<br>IN",
          "Sentiment: -0.139, Magnitude: 0.674<br>KS",
          "Sentiment: -0.169, Magnitude: 0.619<br>KY",
          "Sentiment: -0.171, Magnitude: 0.651<br>LA",
          "Sentiment: -0.18, Magnitude: 0.623<br>MA",
          "Sentiment: -0.125, Magnitude: 0.619<br>MD",
          "Sentiment: -0.181, Magnitude: 0.675<br>ME",
          "Sentiment: -0.178, Magnitude: 0.659<br>MI",
          "Sentiment: -0.17, Magnitude: 0.621<br>MN",
          "Sentiment: -0.184, Magnitude: 0.658<br>MO",
          "Sentiment: -0.191, Magnitude: 0.674<br>MS",
          "Sentiment: -0.168, Magnitude: 0.6<br>MT",
          "Sentiment: -0.179, Magnitude: 0.644<br>NC",
          "Sentiment: -0.221, Magnitude: 0.749<br>ND",
          "Sentiment: -0.106, Magnitude: 0.655<br>NE",
          "Sentiment: -0.189, Magnitude: 0.679<br>NH",
          "Sentiment: -0.15, Magnitude: 0.645<br>NJ",
          "Sentiment: -0.202, Magnitude: 0.626<br>NM",
          "Sentiment: -0.179, Magnitude: 0.677<br>NV",
          "Sentiment: -0.119, Magnitude: 0.641<br>NY",
          "Sentiment: -0.173, Magnitude: 0.67<br>OH",
          "Sentiment: -0.172, Magnitude: 0.669<br>OK",
          "Sentiment: -0.186, Magnitude: 0.641<br>OR",
          "Sentiment: -0.17, Magnitude: 0.674<br>PA",
          "Sentiment: -0.148, Magnitude: 0.709<br>RI",
          "Sentiment: -0.15, Magnitude: 0.607<br>SC",
          "Sentiment: -0.165, Magnitude: 0.718<br>SD",
          "Sentiment: -0.18, Magnitude: 0.671<br>TN",
          "Sentiment: -0.172, Magnitude: 0.644<br>TX",
          "Sentiment: -0.118, Magnitude: 0.695<br>UT",
          "Sentiment: -0.169, Magnitude: 0.661<br>VA",
          "Sentiment: -0.161, Magnitude: 0.587<br>VT",
          "Sentiment: -0.12, Magnitude: 0.623<br>WA",
          "Sentiment: -0.187, Magnitude: 0.669<br>WI",
          "Sentiment: -0.145, Magnitude: 0.665<br>WY"
         ],
         "type": "choropleth",
         "visible": false,
         "z": [
          -0.17736842338191836,
          -0.15125208950052674,
          -0.1904392792080416,
          -0.19357430016300287,
          -0.16889845642336776,
          -0.16714072110365608,
          -0.18167330955426056,
          -0.22816901580548626,
          -0.16764706154079995,
          -0.17238855883594786,
          -0.165363987429617,
          -0.14281250229105352,
          -0.175050712774298,
          -0.19090909405188128,
          -0.17537912913829912,
          -0.1517786583145381,
          -0.13945312717502625,
          -0.1694256782758276,
          -0.17090239683183298,
          -0.17988827063717655,
          -0.124658973533797,
          -0.1814285741320678,
          -0.17763833683759772,
          -0.16952264648172527,
          -0.18425324994635275,
          -0.19141104600272296,
          -0.16800000190734862,
          -0.17927333078878566,
          -0.2206521780108628,
          -0.10582010704215873,
          -0.18859315873212235,
          -0.15003523845396216,
          -0.2015290543983836,
          -0.17897436148845233,
          -0.11910169663570695,
          -0.17288935747472292,
          -0.17150735568857806,
          -0.18583474150571413,
          -0.1697274056534514,
          -0.1483443740582624,
          -0.15035211549363506,
          -0.1649122832898508,
          -0.18043742690095052,
          -0.17178030582003748,
          -0.11828255108518945,
          -0.1691677202887523,
          -0.16068965751549294,
          -0.11978976409099112,
          -0.18715486475149126,
          -0.14495413012187414
         ],
         "zmax": 0,
         "zmin": -0.25
        },
        {
         "colorbar": {
          "title": {
           "text": "Average Sentiment"
          }
         },
         "colorscale": [
          [
           0,
           "rgb(247,251,255)"
          ],
          [
           0.125,
           "rgb(222,235,247)"
          ],
          [
           0.25,
           "rgb(198,219,239)"
          ],
          [
           0.375,
           "rgb(158,202,225)"
          ],
          [
           0.5,
           "rgb(107,174,214)"
          ],
          [
           0.625,
           "rgb(66,146,198)"
          ],
          [
           0.75,
           "rgb(33,113,181)"
          ],
          [
           0.875,
           "rgb(8,81,156)"
          ],
          [
           1,
           "rgb(8,48,107)"
          ]
         ],
         "hoverinfo": "text",
         "locationmode": "USA-states",
         "locations": [
          "AK",
          "AL",
          "AR",
          "AZ",
          "CA",
          "CO",
          "CT",
          "DC",
          "DE",
          "FL",
          "GA",
          "HI",
          "IA",
          "ID",
          "IL",
          "IN",
          "KS",
          "KY",
          "LA",
          "MA",
          "MD",
          "ME",
          "MI",
          "MN",
          "MO",
          "MS",
          "MT",
          "NC",
          "ND",
          "NE",
          "NH",
          "NJ",
          "NM",
          "NV",
          "NY",
          "OH",
          "OK",
          "OR",
          "PA",
          "RI",
          "SC",
          "SD",
          "TN",
          "TX",
          "UT",
          "VA",
          "VT",
          "WA",
          "WI",
          "WY"
         ],
         "name": "22",
         "reversescale": true,
         "text": [
          "Sentiment: -0.207, Magnitude: 0.493<br>AK",
          "Sentiment: -0.234, Magnitude: 0.794<br>AL",
          "Sentiment: -0.122, Magnitude: 0.622<br>AR",
          "Sentiment: -0.271, Magnitude: 0.7<br>AZ",
          "Sentiment: -0.152, Magnitude: 0.691<br>CA",
          "Sentiment: -0.202, Magnitude: 0.774<br>CO",
          "Sentiment: -0.244, Magnitude: 0.719<br>CT",
          "Sentiment: -0.267, Magnitude: 0.4<br>DC",
          "Sentiment: 0.1, Magnitude: 0.633<br>DE",
          "Sentiment: -0.155, Magnitude: 0.636<br>FL",
          "Sentiment: -0.186, Magnitude: 0.881<br>GA",
          "Sentiment: -0.2, Magnitude: 0.793<br>HI",
          "Sentiment: -0.174, Magnitude: 0.726<br>IA",
          "Sentiment: -0.143, Magnitude: 0.529<br>ID",
          "Sentiment: -0.07, Magnitude: 0.6<br>IL",
          "Sentiment: -0.132, Magnitude: 0.751<br>IN",
          "Sentiment: -0.11, Magnitude: 0.714<br>KS",
          "Sentiment: -0.146, Magnitude: 0.431<br>KY",
          "Sentiment: -0.156, Magnitude: 0.656<br>LA",
          "Sentiment: -0.263, Magnitude: 0.79<br>MA",
          "Sentiment: -0.071, Magnitude: 0.554<br>MD",
          "Sentiment: -0.119, Magnitude: 0.584<br>ME",
          "Sentiment: -0.122, Magnitude: 0.719<br>MI",
          "Sentiment: -0.241, Magnitude: 0.635<br>MN",
          "Sentiment: -0.138, Magnitude: 0.644<br>MO",
          "Sentiment: -0.085, Magnitude: 0.625<br>MS",
          "Sentiment: 0.05, Magnitude: 0.4<br>MT",
          "Sentiment: -0.204, Magnitude: 0.737<br>NC",
          "Sentiment: -0.25, Magnitude: 0.25<br>ND",
          "Sentiment: -0.086, Magnitude: 0.779<br>NE",
          "Sentiment: -0.236, Magnitude: 0.564<br>NH",
          "Sentiment: -0.207, Magnitude: 0.69<br>NJ",
          "Sentiment: -0.067, Magnitude: 0.881<br>NM",
          "Sentiment: -0.215, Magnitude: 0.89<br>NV",
          "Sentiment: -0.122, Magnitude: 0.626<br>NY",
          "Sentiment: -0.176, Magnitude: 0.697<br>OH",
          "Sentiment: -0.27, Magnitude: 0.643<br>OK",
          "Sentiment: -0.198, Magnitude: 0.625<br>OR",
          "Sentiment: -0.27, Magnitude: 0.732<br>PA",
          "Sentiment: -0.211, Magnitude: 0.489<br>RI",
          "Sentiment: -0.094, Magnitude: 0.571<br>SC",
          "Sentiment: -0.3, Magnitude: 0.3<br>SD",
          "Sentiment: -0.216, Magnitude: 0.638<br>TN",
          "Sentiment: -0.128, Magnitude: 0.644<br>TX",
          "Sentiment: -0.225, Magnitude: 0.797<br>UT",
          "Sentiment: -0.196, Magnitude: 0.611<br>VA",
          "Sentiment: -0.117, Magnitude: 0.783<br>VT",
          "Sentiment: -0.11, Magnitude: 0.623<br>WA",
          "Sentiment: -0.166, Magnitude: 0.71<br>WI",
          "Sentiment: -0.214, Magnitude: 0.386<br>WY"
         ],
         "type": "choropleth",
         "visible": false,
         "z": [
          -0.20666667173306147,
          -0.23437500232830644,
          -0.12222222652700213,
          -0.2710144936606504,
          -0.15162241988565367,
          -0.20188679475829285,
          -0.2444444467072133,
          -0.26666667064030963,
          0.10000000149011612,
          -0.155078127165325,
          -0.18554217161902464,
          -0.2000000019868215,
          -0.17428571603127888,
          -0.14285714605024882,
          -0.07037037114302318,
          -0.13207547493138402,
          -0.1098039252500908,
          -0.14615384833170816,
          -0.15555555725263226,
          -0.26274509859435696,
          -0.07142857185431889,
          -0.11875000037252904,
          -0.12222222314664613,
          -0.2405405443262409,
          -0.1384615401426951,
          -0.08500000201165676,
          0.04999999950329463,
          -0.20357142921004973,
          -0.25,
          -0.08571428858808107,
          -0.23571429241980826,
          -0.2072916697555532,
          -0.06666666801486698,
          -0.21500000394880767,
          -0.12162162297365747,
          -0.17619047718388695,
          -0.2700000045200189,
          -0.19824561607419397,
          -0.2698412727978494,
          -0.21111111756828094,
          -0.09411764802301632,
          -0.30000001192092896,
          -0.2163636395877058,
          -0.12777777882213268,
          -0.22500000381842256,
          -0.1957142871405397,
          -0.11666666840513548,
          -0.10988372252431026,
          -0.16600000336766246,
          -0.21428571322134565
         ],
         "zmax": 0,
         "zmin": -0.25
        },
        {
         "colorbar": {
          "title": {
           "text": "Average Sentiment"
          }
         },
         "colorscale": [
          [
           0,
           "rgb(247,251,255)"
          ],
          [
           0.125,
           "rgb(222,235,247)"
          ],
          [
           0.25,
           "rgb(198,219,239)"
          ],
          [
           0.375,
           "rgb(158,202,225)"
          ],
          [
           0.5,
           "rgb(107,174,214)"
          ],
          [
           0.625,
           "rgb(66,146,198)"
          ],
          [
           0.75,
           "rgb(33,113,181)"
          ],
          [
           0.875,
           "rgb(8,81,156)"
          ],
          [
           1,
           "rgb(8,48,107)"
          ]
         ],
         "hoverinfo": "text",
         "locationmode": "USA-states",
         "locations": [
          "AK",
          "AL",
          "AR",
          "AZ",
          "CA",
          "CO",
          "CT",
          "DC",
          "DE",
          "FL",
          "GA",
          "HI",
          "IA",
          "ID",
          "IL",
          "IN",
          "KS",
          "KY",
          "LA",
          "MA",
          "MD",
          "ME",
          "MI",
          "MN",
          "MO",
          "MS",
          "MT",
          "NC",
          "ND",
          "NE",
          "NH",
          "NJ",
          "NM",
          "NV",
          "NY",
          "OH",
          "OK",
          "OR",
          "PA",
          "RI",
          "SC",
          "SD",
          "TN",
          "TX",
          "UT",
          "VA",
          "VT",
          "WA",
          "WI",
          "WY"
         ],
         "name": "23",
         "reversescale": true,
         "text": [
          "Sentiment: -0.117, Magnitude: 0.745<br>AK",
          "Sentiment: -0.164, Magnitude: 0.634<br>AL",
          "Sentiment: -0.145, Magnitude: 0.682<br>AR",
          "Sentiment: -0.176, Magnitude: 0.736<br>AZ",
          "Sentiment: -0.155, Magnitude: 0.671<br>CA",
          "Sentiment: -0.149, Magnitude: 0.693<br>CO",
          "Sentiment: -0.186, Magnitude: 0.68<br>CT",
          "Sentiment: -0.172, Magnitude: 0.656<br>DC",
          "Sentiment: -0.168, Magnitude: 0.627<br>DE",
          "Sentiment: -0.168, Magnitude: 0.662<br>FL",
          "Sentiment: -0.153, Magnitude: 0.72<br>GA",
          "Sentiment: -0.155, Magnitude: 0.624<br>HI",
          "Sentiment: -0.135, Magnitude: 0.655<br>IA",
          "Sentiment: -0.134, Magnitude: 0.71<br>ID",
          "Sentiment: -0.169, Magnitude: 0.737<br>IL",
          "Sentiment: -0.13, Magnitude: 0.697<br>IN",
          "Sentiment: -0.154, Magnitude: 0.741<br>KS",
          "Sentiment: -0.157, Magnitude: 0.629<br>KY",
          "Sentiment: -0.153, Magnitude: 0.655<br>LA",
          "Sentiment: -0.159, Magnitude: 0.694<br>MA",
          "Sentiment: -0.165, Magnitude: 0.706<br>MD",
          "Sentiment: -0.175, Magnitude: 0.695<br>ME",
          "Sentiment: -0.154, Magnitude: 0.672<br>MI",
          "Sentiment: -0.161, Magnitude: 0.691<br>MN",
          "Sentiment: -0.15, Magnitude: 0.685<br>MO",
          "Sentiment: -0.159, Magnitude: 0.686<br>MS",
          "Sentiment: -0.148, Magnitude: 0.713<br>MT",
          "Sentiment: -0.16, Magnitude: 0.714<br>NC",
          "Sentiment: -0.109, Magnitude: 0.606<br>ND",
          "Sentiment: -0.114, Magnitude: 0.642<br>NE",
          "Sentiment: -0.135, Magnitude: 0.657<br>NH",
          "Sentiment: -0.15, Magnitude: 0.637<br>NJ",
          "Sentiment: -0.144, Magnitude: 0.657<br>NM",
          "Sentiment: -0.187, Magnitude: 0.73<br>NV",
          "Sentiment: -0.13, Magnitude: 0.658<br>NY",
          "Sentiment: -0.16, Magnitude: 0.685<br>OH",
          "Sentiment: -0.137, Magnitude: 0.662<br>OK",
          "Sentiment: -0.163, Magnitude: 0.713<br>OR",
          "Sentiment: -0.159, Magnitude: 0.666<br>PA",
          "Sentiment: -0.173, Magnitude: 0.655<br>RI",
          "Sentiment: -0.17, Magnitude: 0.72<br>SC",
          "Sentiment: -0.108, Magnitude: 0.583<br>SD",
          "Sentiment: -0.189, Magnitude: 0.702<br>TN",
          "Sentiment: -0.161, Magnitude: 0.666<br>TX",
          "Sentiment: -0.131, Magnitude: 0.652<br>UT",
          "Sentiment: -0.164, Magnitude: 0.697<br>VA",
          "Sentiment: -0.112, Magnitude: 0.71<br>VT",
          "Sentiment: -0.116, Magnitude: 0.638<br>WA",
          "Sentiment: -0.162, Magnitude: 0.708<br>WI",
          "Sentiment: -0.151, Magnitude: 0.695<br>WY"
         ],
         "type": "choropleth",
         "visible": false,
         "z": [
          -0.11686046711753967,
          -0.16354166804812847,
          -0.14537313564944626,
          -0.1763720952771431,
          -0.15535365539155652,
          -0.14926022805396735,
          -0.1860986570639728,
          -0.17222222603029674,
          -0.16822916897945106,
          -0.16810140137641574,
          -0.15348101484310275,
          -0.15514403379257816,
          -0.1347826099347161,
          -0.1337777790758345,
          -0.16858316436256962,
          -0.12992700805701768,
          -0.15425824347351275,
          -0.15727612146857514,
          -0.1525925940753501,
          -0.1585768766634952,
          -0.16450809669747002,
          -0.1748520731705533,
          -0.1538565645702637,
          -0.16107193433137135,
          -0.15038461749656842,
          -0.15851528506612153,
          -0.1479166690260172,
          -0.1595679033440327,
          -0.10851063975628386,
          -0.1144385052157596,
          -0.13515981752850695,
          -0.1500874142637932,
          -0.1436681241838172,
          -0.18695652358557868,
          -0.1302106334952079,
          -0.16002554504978705,
          -0.13667377580139936,
          -0.16297828548635052,
          -0.15932802983768002,
          -0.17290322843097872,
          -0.17036199267970492,
          -0.10754717113274448,
          -0.1886018261562546,
          -0.16078671066496852,
          -0.13134328523344954,
          -0.16369915769041635,
          -0.11203007680132873,
          -0.116478496163042,
          -0.16237288308093106,
          -0.1508474583595486
         ],
         "zmax": 0,
         "zmin": -0.25
        },
        {
         "colorbar": {
          "title": {
           "text": "Average Sentiment"
          }
         },
         "colorscale": [
          [
           0,
           "rgb(247,251,255)"
          ],
          [
           0.125,
           "rgb(222,235,247)"
          ],
          [
           0.25,
           "rgb(198,219,239)"
          ],
          [
           0.375,
           "rgb(158,202,225)"
          ],
          [
           0.5,
           "rgb(107,174,214)"
          ],
          [
           0.625,
           "rgb(66,146,198)"
          ],
          [
           0.75,
           "rgb(33,113,181)"
          ],
          [
           0.875,
           "rgb(8,81,156)"
          ],
          [
           1,
           "rgb(8,48,107)"
          ]
         ],
         "hoverinfo": "text",
         "locationmode": "USA-states",
         "locations": [
          "AK",
          "AL",
          "AR",
          "AZ",
          "CA",
          "CO",
          "CT",
          "DC",
          "DE",
          "FL",
          "GA",
          "HI",
          "IA",
          "ID",
          "IL",
          "IN",
          "KS",
          "KY",
          "LA",
          "MA",
          "MD",
          "ME",
          "MI",
          "MN",
          "MO",
          "MS",
          "MT",
          "NC",
          "ND",
          "NE",
          "NH",
          "NJ",
          "NM",
          "NV",
          "NY",
          "OH",
          "OK",
          "OR",
          "PA",
          "RI",
          "SC",
          "SD",
          "TN",
          "TX",
          "UT",
          "VA",
          "VT",
          "WA",
          "WI",
          "WY"
         ],
         "name": "24",
         "reversescale": true,
         "text": [
          "Sentiment: -0.126, Magnitude: 0.66<br>AK",
          "Sentiment: -0.176, Magnitude: 0.665<br>AL",
          "Sentiment: -0.183, Magnitude: 0.66<br>AR",
          "Sentiment: -0.179, Magnitude: 0.648<br>AZ",
          "Sentiment: -0.159, Magnitude: 0.666<br>CA",
          "Sentiment: -0.183, Magnitude: 0.654<br>CO",
          "Sentiment: -0.166, Magnitude: 0.648<br>CT",
          "Sentiment: -0.1, Magnitude: 0.609<br>DC",
          "Sentiment: -0.195, Magnitude: 0.654<br>DE",
          "Sentiment: -0.166, Magnitude: 0.637<br>FL",
          "Sentiment: -0.182, Magnitude: 0.663<br>GA",
          "Sentiment: -0.109, Magnitude: 0.685<br>HI",
          "Sentiment: -0.153, Magnitude: 0.629<br>IA",
          "Sentiment: -0.147, Magnitude: 0.662<br>ID",
          "Sentiment: -0.181, Magnitude: 0.637<br>IL",
          "Sentiment: -0.163, Magnitude: 0.665<br>IN",
          "Sentiment: -0.151, Magnitude: 0.658<br>KS",
          "Sentiment: -0.153, Magnitude: 0.662<br>KY",
          "Sentiment: -0.166, Magnitude: 0.651<br>LA",
          "Sentiment: -0.167, Magnitude: 0.664<br>MA",
          "Sentiment: -0.174, Magnitude: 0.635<br>MD",
          "Sentiment: -0.166, Magnitude: 0.653<br>ME",
          "Sentiment: -0.169, Magnitude: 0.652<br>MI",
          "Sentiment: -0.168, Magnitude: 0.628<br>MN",
          "Sentiment: -0.165, Magnitude: 0.654<br>MO",
          "Sentiment: -0.189, Magnitude: 0.627<br>MS",
          "Sentiment: -0.176, Magnitude: 0.649<br>MT",
          "Sentiment: -0.181, Magnitude: 0.67<br>NC",
          "Sentiment: -0.146, Magnitude: 0.559<br>ND",
          "Sentiment: -0.167, Magnitude: 0.564<br>NE",
          "Sentiment: -0.135, Magnitude: 0.656<br>NH",
          "Sentiment: -0.153, Magnitude: 0.68<br>NJ",
          "Sentiment: -0.129, Magnitude: 0.65<br>NM",
          "Sentiment: -0.156, Magnitude: 0.681<br>NV",
          "Sentiment: -0.124, Magnitude: 0.622<br>NY",
          "Sentiment: -0.164, Magnitude: 0.65<br>OH",
          "Sentiment: -0.186, Magnitude: 0.637<br>OK",
          "Sentiment: -0.173, Magnitude: 0.65<br>OR",
          "Sentiment: -0.174, Magnitude: 0.656<br>PA",
          "Sentiment: -0.149, Magnitude: 0.718<br>RI",
          "Sentiment: -0.2, Magnitude: 0.639<br>SC",
          "Sentiment: -0.161, Magnitude: 0.64<br>SD",
          "Sentiment: -0.191, Magnitude: 0.638<br>TN",
          "Sentiment: -0.176, Magnitude: 0.651<br>TX",
          "Sentiment: -0.167, Magnitude: 0.668<br>UT",
          "Sentiment: -0.177, Magnitude: 0.646<br>VA",
          "Sentiment: -0.17, Magnitude: 0.737<br>VT",
          "Sentiment: -0.134, Magnitude: 0.618<br>WA",
          "Sentiment: -0.161, Magnitude: 0.642<br>WI",
          "Sentiment: -0.182, Magnitude: 0.725<br>WY"
         ],
         "type": "choropleth",
         "visible": false,
         "z": [
          -0.12610837538254085,
          -0.17620528992236495,
          -0.18324742491174606,
          -0.17933765541335678,
          -0.15915259561165535,
          -0.1826254849325736,
          -0.1655303050735683,
          -0.1000000001354651,
          -0.19525862237888164,
          -0.1656383218280389,
          -0.18186992120936635,
          -0.10894039835756188,
          -0.15282258223141393,
          -0.14700000122189522,
          -0.18147840780326693,
          -0.1633333354285269,
          -0.1513176169065596,
          -0.15332303184676208,
          -0.16553106427730205,
          -0.16695842703629113,
          -0.17385366095275415,
          -0.16551724372581506,
          -0.16924766859040688,
          -0.16838791153818294,
          -0.1649331380606229,
          -0.1892086354037412,
          -0.17616822671528173,
          -0.1806225706109277,
          -0.1463768131275108,
          -0.1673913063157512,
          -0.13511111272705925,
          -0.15308725048831645,
          -0.1290220837064722,
          -0.15608465803599866,
          -0.12413418107106268,
          -0.16428571644204634,
          -0.18583618023086326,
          -0.17286477115310173,
          -0.17388003277638325,
          -0.1494444471680456,
          -0.19966044426217347,
          -0.16144578598708992,
          -0.1910447786325839,
          -0.1757823151694674,
          -0.16710526550090626,
          -0.17667542976595255,
          -0.16993865192485005,
          -0.13365148799455812,
          -0.16116788553713013,
          -0.1815533992445585
         ],
         "zmax": 0,
         "zmin": -0.25
        },
        {
         "colorbar": {
          "title": {
           "text": "Average Sentiment"
          }
         },
         "colorscale": [
          [
           0,
           "rgb(247,251,255)"
          ],
          [
           0.125,
           "rgb(222,235,247)"
          ],
          [
           0.25,
           "rgb(198,219,239)"
          ],
          [
           0.375,
           "rgb(158,202,225)"
          ],
          [
           0.5,
           "rgb(107,174,214)"
          ],
          [
           0.625,
           "rgb(66,146,198)"
          ],
          [
           0.75,
           "rgb(33,113,181)"
          ],
          [
           0.875,
           "rgb(8,81,156)"
          ],
          [
           1,
           "rgb(8,48,107)"
          ]
         ],
         "hoverinfo": "text",
         "locationmode": "USA-states",
         "locations": [
          "AK",
          "AL",
          "AR",
          "AZ",
          "CA",
          "CO",
          "CT",
          "DC",
          "DE",
          "FL",
          "GA",
          "HI",
          "IA",
          "ID",
          "IL",
          "IN",
          "KS",
          "KY",
          "LA",
          "MA",
          "MD",
          "ME",
          "MI",
          "MN",
          "MO",
          "MS",
          "MT",
          "NC",
          "ND",
          "NE",
          "NH",
          "NJ",
          "NM",
          "NV",
          "NY",
          "OH",
          "OK",
          "OR",
          "PA",
          "RI",
          "SC",
          "SD",
          "TN",
          "TX",
          "UT",
          "VA",
          "VT",
          "WA",
          "WI",
          "WY"
         ],
         "name": "25",
         "reversescale": true,
         "text": [
          "Sentiment: -0.201, Magnitude: 0.697<br>AK",
          "Sentiment: -0.159, Magnitude: 0.626<br>AL",
          "Sentiment: -0.203, Magnitude: 0.668<br>AR",
          "Sentiment: -0.176, Magnitude: 0.685<br>AZ",
          "Sentiment: -0.173, Magnitude: 0.69<br>CA",
          "Sentiment: -0.188, Magnitude: 0.682<br>CO",
          "Sentiment: -0.168, Magnitude: 0.678<br>CT",
          "Sentiment: -0.037, Magnitude: 0.693<br>DC",
          "Sentiment: -0.175, Magnitude: 0.639<br>DE",
          "Sentiment: -0.191, Magnitude: 0.669<br>FL",
          "Sentiment: -0.182, Magnitude: 0.656<br>GA",
          "Sentiment: -0.143, Magnitude: 0.594<br>HI",
          "Sentiment: -0.196, Magnitude: 0.675<br>IA",
          "Sentiment: -0.206, Magnitude: 0.7<br>ID",
          "Sentiment: -0.172, Magnitude: 0.686<br>IL",
          "Sentiment: -0.172, Magnitude: 0.705<br>IN",
          "Sentiment: -0.18, Magnitude: 0.695<br>KS",
          "Sentiment: -0.176, Magnitude: 0.682<br>KY",
          "Sentiment: -0.198, Magnitude: 0.664<br>LA",
          "Sentiment: -0.193, Magnitude: 0.682<br>MA",
          "Sentiment: -0.185, Magnitude: 0.664<br>MD",
          "Sentiment: -0.171, Magnitude: 0.669<br>ME",
          "Sentiment: -0.179, Magnitude: 0.664<br>MI",
          "Sentiment: -0.172, Magnitude: 0.691<br>MN",
          "Sentiment: -0.196, Magnitude: 0.688<br>MO",
          "Sentiment: -0.142, Magnitude: 0.633<br>MS",
          "Sentiment: -0.174, Magnitude: 0.672<br>MT",
          "Sentiment: -0.178, Magnitude: 0.677<br>NC",
          "Sentiment: -0.154, Magnitude: 0.815<br>ND",
          "Sentiment: -0.19, Magnitude: 0.664<br>NE",
          "Sentiment: -0.166, Magnitude: 0.678<br>NH",
          "Sentiment: -0.166, Magnitude: 0.668<br>NJ",
          "Sentiment: -0.146, Magnitude: 0.669<br>NM",
          "Sentiment: -0.191, Magnitude: 0.694<br>NV",
          "Sentiment: -0.136, Magnitude: 0.638<br>NY",
          "Sentiment: -0.178, Magnitude: 0.677<br>OH",
          "Sentiment: -0.206, Magnitude: 0.675<br>OK",
          "Sentiment: -0.183, Magnitude: 0.692<br>OR",
          "Sentiment: -0.177, Magnitude: 0.691<br>PA",
          "Sentiment: -0.143, Magnitude: 0.708<br>RI",
          "Sentiment: -0.204, Magnitude: 0.695<br>SC",
          "Sentiment: -0.162, Magnitude: 0.716<br>SD",
          "Sentiment: -0.187, Magnitude: 0.666<br>TN",
          "Sentiment: -0.185, Magnitude: 0.665<br>TX",
          "Sentiment: -0.159, Magnitude: 0.663<br>UT",
          "Sentiment: -0.193, Magnitude: 0.685<br>VA",
          "Sentiment: -0.178, Magnitude: 0.719<br>VT",
          "Sentiment: -0.133, Magnitude: 0.641<br>WA",
          "Sentiment: -0.193, Magnitude: 0.711<br>WI",
          "Sentiment: -0.2, Magnitude: 0.715<br>WY"
         ],
         "type": "choropleth",
         "visible": false,
         "z": [
          -0.2014563145857413,
          -0.15906542255499653,
          -0.2028169049133717,
          -0.17644306034570365,
          -0.17325135926632446,
          -0.1879103304661685,
          -0.16809422052136325,
          -0.03749999888241291,
          -0.17500000184743988,
          -0.1908348482186668,
          -0.1824644573127018,
          -0.14255319263601135,
          -0.19626168429712268,
          -0.20562249311361927,
          -0.1718971651404145,
          -0.17172043250613314,
          -0.1796557143190657,
          -0.1762478508427098,
          -0.19776286661491568,
          -0.1925423750432871,
          -0.1853348748289548,
          -0.1706051891964863,
          -0.17890428431257044,
          -0.17248841083768346,
          -0.19600000236522067,
          -0.14235294341456656,
          -0.1743016784084576,
          -0.1776658294458133,
          -0.15441176700679696,
          -0.1901639364863354,
          -0.1655963314782589,
          -0.16616428236406192,
          -0.14632353153737152,
          -0.19098143512753654,
          -0.1355995533749222,
          -0.17760416904153922,
          -0.20556660323861106,
          -0.18262056660608766,
          -0.17689741707971635,
          -0.1427536255315594,
          -0.20432331167945736,
          -0.16181818395853045,
          -0.1866666690020238,
          -0.18513822754234466,
          -0.15878136410614924,
          -0.19269819423473428,
          -0.17750000084439913,
          -0.13332259250655315,
          -0.19309816176951666,
          -0.20000000324319392
         ],
         "zmax": 0,
         "zmin": -0.25
        },
        {
         "colorbar": {
          "title": {
           "text": "Average Sentiment"
          }
         },
         "colorscale": [
          [
           0,
           "rgb(247,251,255)"
          ],
          [
           0.125,
           "rgb(222,235,247)"
          ],
          [
           0.25,
           "rgb(198,219,239)"
          ],
          [
           0.375,
           "rgb(158,202,225)"
          ],
          [
           0.5,
           "rgb(107,174,214)"
          ],
          [
           0.625,
           "rgb(66,146,198)"
          ],
          [
           0.75,
           "rgb(33,113,181)"
          ],
          [
           0.875,
           "rgb(8,81,156)"
          ],
          [
           1,
           "rgb(8,48,107)"
          ]
         ],
         "hoverinfo": "text",
         "locationmode": "USA-states",
         "locations": [
          "AK",
          "AL",
          "AR",
          "AZ",
          "CA",
          "CO",
          "CT",
          "DC",
          "DE",
          "FL",
          "GA",
          "HI",
          "IA",
          "ID",
          "IL",
          "IN",
          "KS",
          "KY",
          "LA",
          "MA",
          "MD",
          "ME",
          "MI",
          "MN",
          "MO",
          "MS",
          "MT",
          "NC",
          "ND",
          "NE",
          "NH",
          "NJ",
          "NM",
          "NV",
          "NY",
          "OH",
          "OK",
          "OR",
          "PA",
          "RI",
          "SC",
          "SD",
          "TN",
          "TX",
          "UT",
          "VA",
          "VT",
          "WA",
          "WI",
          "WY"
         ],
         "name": "26",
         "reversescale": true,
         "text": [
          "Sentiment: -0.158, Magnitude: 0.636<br>AK",
          "Sentiment: -0.165, Magnitude: 0.657<br>AL",
          "Sentiment: -0.177, Magnitude: 0.653<br>AR",
          "Sentiment: -0.15, Magnitude: 0.704<br>AZ",
          "Sentiment: -0.15, Magnitude: 0.679<br>CA",
          "Sentiment: -0.144, Magnitude: 0.672<br>CO",
          "Sentiment: -0.133, Magnitude: 0.667<br>CT",
          "Sentiment: -0.133, Magnitude: 0.727<br>DC",
          "Sentiment: -0.146, Magnitude: 0.7<br>DE",
          "Sentiment: -0.16, Magnitude: 0.681<br>FL",
          "Sentiment: -0.146, Magnitude: 0.666<br>GA",
          "Sentiment: -0.162, Magnitude: 0.678<br>HI",
          "Sentiment: -0.162, Magnitude: 0.691<br>IA",
          "Sentiment: -0.174, Magnitude: 0.742<br>ID",
          "Sentiment: -0.176, Magnitude: 0.728<br>IL",
          "Sentiment: -0.121, Magnitude: 0.688<br>IN",
          "Sentiment: -0.12, Magnitude: 0.648<br>KS",
          "Sentiment: -0.182, Magnitude: 0.716<br>KY",
          "Sentiment: -0.156, Magnitude: 0.654<br>LA",
          "Sentiment: -0.15, Magnitude: 0.684<br>MA",
          "Sentiment: -0.135, Magnitude: 0.669<br>MD",
          "Sentiment: -0.178, Magnitude: 0.655<br>ME",
          "Sentiment: -0.176, Magnitude: 0.692<br>MI",
          "Sentiment: -0.171, Magnitude: 0.681<br>MN",
          "Sentiment: -0.178, Magnitude: 0.698<br>MO",
          "Sentiment: -0.162, Magnitude: 0.679<br>MS",
          "Sentiment: -0.175, Magnitude: 0.641<br>MT",
          "Sentiment: -0.18, Magnitude: 0.712<br>NC",
          "Sentiment: -0.141, Magnitude: 0.745<br>ND",
          "Sentiment: -0.118, Magnitude: 0.684<br>NE",
          "Sentiment: -0.132, Magnitude: 0.662<br>NH",
          "Sentiment: -0.166, Magnitude: 0.693<br>NJ",
          "Sentiment: -0.175, Magnitude: 0.656<br>NM",
          "Sentiment: -0.138, Magnitude: 0.684<br>NV",
          "Sentiment: -0.107, Magnitude: 0.65<br>NY",
          "Sentiment: -0.157, Magnitude: 0.701<br>OH",
          "Sentiment: -0.159, Magnitude: 0.651<br>OK",
          "Sentiment: -0.166, Magnitude: 0.687<br>OR",
          "Sentiment: -0.176, Magnitude: 0.703<br>PA",
          "Sentiment: -0.126, Magnitude: 0.588<br>RI",
          "Sentiment: -0.184, Magnitude: 0.663<br>SC",
          "Sentiment: -0.166, Magnitude: 0.65<br>SD",
          "Sentiment: -0.18, Magnitude: 0.687<br>TN",
          "Sentiment: -0.16, Magnitude: 0.697<br>TX",
          "Sentiment: -0.147, Magnitude: 0.707<br>UT",
          "Sentiment: -0.159, Magnitude: 0.685<br>VA",
          "Sentiment: -0.135, Magnitude: 0.685<br>VT",
          "Sentiment: -0.113, Magnitude: 0.651<br>WA",
          "Sentiment: -0.162, Magnitude: 0.656<br>WI",
          "Sentiment: -0.205, Magnitude: 0.7<br>WY"
         ],
         "type": "choropleth",
         "visible": false,
         "z": [
          -0.15823529524838226,
          -0.16452763094143433,
          -0.17706185725239135,
          -0.15044534631706924,
          -0.15049339545138965,
          -0.1442559771670593,
          -0.13280423521680176,
          -0.13283582254132228,
          -0.14622641741385997,
          -0.16009434152675686,
          -0.1461028210868191,
          -0.16245353360379938,
          -0.16199575573395772,
          -0.17416666926195226,
          -0.1764444469941987,
          -0.12121871790734155,
          -0.12024965422452735,
          -0.1815602864198228,
          -0.15564202533215865,
          -0.1497590376670102,
          -0.13519163884040786,
          -0.17824933952614866,
          -0.17576177471892654,
          -0.17121661983938882,
          -0.17803571637985965,
          -0.1619205317453833,
          -0.17511111312442354,
          -0.17952127897358955,
          -0.1409090921056993,
          -0.11758794160044972,
          -0.13217054425861485,
          -0.16619419056755866,
          -0.17478632719980347,
          -0.1383753523689692,
          -0.10710142499026147,
          -0.15697143037404332,
          -0.15905660575009742,
          -0.16615067273993486,
          -0.17582861991808504,
          -0.12631579115986824,
          -0.1841209854346142,
          -0.16627907155211585,
          -0.17956469352148752,
          -0.15997608328557048,
          -0.14672897382410144,
          -0.15880231086223845,
          -0.1350318479594911,
          -0.1134802005030244,
          -0.1621987970815186,
          -0.20481927926281848
         ],
         "zmax": 0,
         "zmin": -0.25
        },
        {
         "colorbar": {
          "title": {
           "text": "Average Sentiment"
          }
         },
         "colorscale": [
          [
           0,
           "rgb(247,251,255)"
          ],
          [
           0.125,
           "rgb(222,235,247)"
          ],
          [
           0.25,
           "rgb(198,219,239)"
          ],
          [
           0.375,
           "rgb(158,202,225)"
          ],
          [
           0.5,
           "rgb(107,174,214)"
          ],
          [
           0.625,
           "rgb(66,146,198)"
          ],
          [
           0.75,
           "rgb(33,113,181)"
          ],
          [
           0.875,
           "rgb(8,81,156)"
          ],
          [
           1,
           "rgb(8,48,107)"
          ]
         ],
         "hoverinfo": "text",
         "locationmode": "USA-states",
         "locations": [
          "AK",
          "AL",
          "AR",
          "AZ",
          "CA",
          "CO",
          "CT",
          "DC",
          "DE",
          "FL",
          "GA",
          "HI",
          "IA",
          "ID",
          "IL",
          "IN",
          "KS",
          "KY",
          "LA",
          "MA",
          "MD",
          "ME",
          "MI",
          "MN",
          "MO",
          "MS",
          "MT",
          "NC",
          "ND",
          "NE",
          "NH",
          "NJ",
          "NM",
          "NV",
          "NY",
          "OH",
          "OK",
          "OR",
          "PA",
          "RI",
          "SC",
          "SD",
          "TN",
          "TX",
          "UT",
          "VA",
          "VT",
          "WA",
          "WI",
          "WY"
         ],
         "name": "27",
         "reversescale": true,
         "text": [
          "Sentiment: -0.163, Magnitude: 0.734<br>AK",
          "Sentiment: -0.178, Magnitude: 0.628<br>AL",
          "Sentiment: -0.197, Magnitude: 0.726<br>AR",
          "Sentiment: -0.184, Magnitude: 0.709<br>AZ",
          "Sentiment: -0.17, Magnitude: 0.678<br>CA",
          "Sentiment: -0.188, Magnitude: 0.674<br>CO",
          "Sentiment: -0.178, Magnitude: 0.646<br>CT",
          "Sentiment: -0.192, Magnitude: 0.657<br>DC",
          "Sentiment: -0.136, Magnitude: 0.656<br>DE",
          "Sentiment: -0.18, Magnitude: 0.666<br>FL",
          "Sentiment: -0.174, Magnitude: 0.639<br>GA",
          "Sentiment: -0.164, Magnitude: 0.623<br>HI",
          "Sentiment: -0.165, Magnitude: 0.695<br>IA",
          "Sentiment: -0.208, Magnitude: 0.72<br>ID",
          "Sentiment: -0.179, Magnitude: 0.662<br>IL",
          "Sentiment: -0.145, Magnitude: 0.658<br>IN",
          "Sentiment: -0.155, Magnitude: 0.7<br>KS",
          "Sentiment: -0.179, Magnitude: 0.705<br>KY",
          "Sentiment: -0.18, Magnitude: 0.663<br>LA",
          "Sentiment: -0.182, Magnitude: 0.665<br>MA",
          "Sentiment: -0.159, Magnitude: 0.674<br>MD",
          "Sentiment: -0.207, Magnitude: 0.679<br>ME",
          "Sentiment: -0.18, Magnitude: 0.709<br>MI",
          "Sentiment: -0.188, Magnitude: 0.654<br>MN",
          "Sentiment: -0.197, Magnitude: 0.707<br>MO",
          "Sentiment: -0.187, Magnitude: 0.667<br>MS",
          "Sentiment: -0.178, Magnitude: 0.674<br>MT",
          "Sentiment: -0.196, Magnitude: 0.675<br>NC",
          "Sentiment: -0.135, Magnitude: 0.852<br>ND",
          "Sentiment: -0.144, Magnitude: 0.675<br>NE",
          "Sentiment: -0.169, Magnitude: 0.627<br>NH",
          "Sentiment: -0.152, Magnitude: 0.649<br>NJ",
          "Sentiment: -0.178, Magnitude: 0.676<br>NM",
          "Sentiment: -0.185, Magnitude: 0.726<br>NV",
          "Sentiment: -0.113, Magnitude: 0.642<br>NY",
          "Sentiment: -0.185, Magnitude: 0.687<br>OH",
          "Sentiment: -0.182, Magnitude: 0.663<br>OK",
          "Sentiment: -0.18, Magnitude: 0.668<br>OR",
          "Sentiment: -0.18, Magnitude: 0.707<br>PA",
          "Sentiment: -0.195, Magnitude: 0.76<br>RI",
          "Sentiment: -0.163, Magnitude: 0.699<br>SC",
          "Sentiment: -0.093, Magnitude: 0.554<br>SD",
          "Sentiment: -0.179, Magnitude: 0.686<br>TN",
          "Sentiment: -0.18, Magnitude: 0.693<br>TX",
          "Sentiment: -0.106, Magnitude: 0.656<br>UT",
          "Sentiment: -0.165, Magnitude: 0.685<br>VA",
          "Sentiment: -0.212, Magnitude: 0.763<br>VT",
          "Sentiment: -0.122, Magnitude: 0.647<br>WA",
          "Sentiment: -0.209, Magnitude: 0.683<br>WI",
          "Sentiment: -0.192, Magnitude: 0.765<br>WY"
         ],
         "type": "choropleth",
         "visible": false,
         "z": [
          -0.16272189609221452,
          -0.17764084746825026,
          -0.19663608798740104,
          -0.18352941458716115,
          -0.16999166187417816,
          -0.18805175317136666,
          -0.17764977194059828,
          -0.19180328093591284,
          -0.13648648815112072,
          -0.1796981868679106,
          -0.17358003652265067,
          -0.1643356668626095,
          -0.16471735088855435,
          -0.207916668864588,
          -0.17896200435458784,
          -0.145104512670646,
          -0.1550068611021068,
          -0.17897436113184334,
          -0.1797323159260914,
          -0.1815545264968601,
          -0.1594137557632087,
          -0.2072580670637469,
          -0.18034242466328335,
          -0.1880778615564616,
          -0.19671875225612892,
          -0.1872659196679512,
          -0.1780487828138398,
          -0.19552773101278625,
          -0.13484848414858186,
          -0.1443438935198935,
          -0.16929460873371338,
          -0.1523484871694536,
          -0.1783687964557333,
          -0.1853448302624212,
          -0.11330142024516612,
          -0.1853044519039521,
          -0.18167939231880287,
          -0.1804766294868248,
          -0.1802876504317758,
          -0.19463087543345134,
          -0.1626394072402144,
          -0.09305555570042796,
          -0.17919376069105802,
          -0.1803695633000819,
          -0.10584192566855256,
          -0.1645399618310925,
          -0.21197183220319346,
          -0.1217116077857448,
          -0.2093959755345479,
          -0.19157894967417968
         ],
         "zmax": 0,
         "zmin": -0.25
        },
        {
         "colorbar": {
          "title": {
           "text": "Average Sentiment"
          }
         },
         "colorscale": [
          [
           0,
           "rgb(247,251,255)"
          ],
          [
           0.125,
           "rgb(222,235,247)"
          ],
          [
           0.25,
           "rgb(198,219,239)"
          ],
          [
           0.375,
           "rgb(158,202,225)"
          ],
          [
           0.5,
           "rgb(107,174,214)"
          ],
          [
           0.625,
           "rgb(66,146,198)"
          ],
          [
           0.75,
           "rgb(33,113,181)"
          ],
          [
           0.875,
           "rgb(8,81,156)"
          ],
          [
           1,
           "rgb(8,48,107)"
          ]
         ],
         "hoverinfo": "text",
         "locationmode": "USA-states",
         "locations": [
          "AK",
          "AL",
          "AR",
          "AZ",
          "CA",
          "CO",
          "CT",
          "DC",
          "DE",
          "FL",
          "GA",
          "HI",
          "IA",
          "ID",
          "IL",
          "IN",
          "KS",
          "KY",
          "LA",
          "MA",
          "MD",
          "ME",
          "MI",
          "MN",
          "MO",
          "MS",
          "MT",
          "NC",
          "ND",
          "NE",
          "NH",
          "NJ",
          "NM",
          "NV",
          "NY",
          "OH",
          "OK",
          "OR",
          "PA",
          "RI",
          "SC",
          "SD",
          "TN",
          "TX",
          "UT",
          "VA",
          "VT",
          "WA",
          "WI",
          "WY"
         ],
         "name": "28",
         "reversescale": true,
         "text": [
          "Sentiment: -0.126, Magnitude: 0.712<br>AK",
          "Sentiment: -0.143, Magnitude: 0.622<br>AL",
          "Sentiment: -0.206, Magnitude: 0.718<br>AR",
          "Sentiment: -0.177, Magnitude: 0.712<br>AZ",
          "Sentiment: -0.186, Magnitude: 0.681<br>CA",
          "Sentiment: -0.179, Magnitude: 0.699<br>CO",
          "Sentiment: -0.149, Magnitude: 0.681<br>CT",
          "Sentiment: -0.081, Magnitude: 0.632<br>DC",
          "Sentiment: -0.175, Magnitude: 0.618<br>DE",
          "Sentiment: -0.174, Magnitude: 0.686<br>FL",
          "Sentiment: -0.182, Magnitude: 0.689<br>GA",
          "Sentiment: -0.116, Magnitude: 0.695<br>HI",
          "Sentiment: -0.147, Magnitude: 0.699<br>IA",
          "Sentiment: -0.174, Magnitude: 0.65<br>ID",
          "Sentiment: -0.195, Magnitude: 0.724<br>IL",
          "Sentiment: -0.16, Magnitude: 0.693<br>IN",
          "Sentiment: -0.164, Magnitude: 0.657<br>KS",
          "Sentiment: -0.193, Magnitude: 0.688<br>KY",
          "Sentiment: -0.166, Magnitude: 0.718<br>LA",
          "Sentiment: -0.178, Magnitude: 0.697<br>MA",
          "Sentiment: -0.168, Magnitude: 0.677<br>MD",
          "Sentiment: -0.168, Magnitude: 0.652<br>ME",
          "Sentiment: -0.189, Magnitude: 0.671<br>MI",
          "Sentiment: -0.185, Magnitude: 0.739<br>MN",
          "Sentiment: -0.204, Magnitude: 0.663<br>MO",
          "Sentiment: -0.177, Magnitude: 0.723<br>MS",
          "Sentiment: -0.234, Magnitude: 0.688<br>MT",
          "Sentiment: -0.176, Magnitude: 0.672<br>NC",
          "Sentiment: -0.144, Magnitude: 0.604<br>ND",
          "Sentiment: -0.187, Magnitude: 0.69<br>NE",
          "Sentiment: -0.183, Magnitude: 0.669<br>NH",
          "Sentiment: -0.168, Magnitude: 0.692<br>NJ",
          "Sentiment: -0.21, Magnitude: 0.726<br>NM",
          "Sentiment: -0.168, Magnitude: 0.738<br>NV",
          "Sentiment: -0.115, Magnitude: 0.65<br>NY",
          "Sentiment: -0.184, Magnitude: 0.708<br>OH",
          "Sentiment: -0.189, Magnitude: 0.678<br>OK",
          "Sentiment: -0.198, Magnitude: 0.714<br>OR",
          "Sentiment: -0.206, Magnitude: 0.676<br>PA",
          "Sentiment: -0.152, Magnitude: 0.713<br>RI",
          "Sentiment: -0.202, Magnitude: 0.757<br>SC",
          "Sentiment: -0.17, Magnitude: 0.676<br>SD",
          "Sentiment: -0.174, Magnitude: 0.705<br>TN",
          "Sentiment: -0.176, Magnitude: 0.675<br>TX",
          "Sentiment: -0.162, Magnitude: 0.659<br>UT",
          "Sentiment: -0.171, Magnitude: 0.682<br>VA",
          "Sentiment: -0.172, Magnitude: 0.865<br>VT",
          "Sentiment: -0.111, Magnitude: 0.641<br>WA",
          "Sentiment: -0.185, Magnitude: 0.707<br>WI",
          "Sentiment: -0.256, Magnitude: 0.705<br>WY"
         ],
         "type": "choropleth",
         "visible": false,
         "z": [
          -0.12558139769663645,
          -0.14264972952824972,
          -0.20588235441535552,
          -0.17689422535900773,
          -0.18646641023509994,
          -0.17915709006717834,
          -0.14934498004973196,
          -0.08135593455221693,
          -0.17545454718849876,
          -0.17367697786219752,
          -0.1823378854364462,
          -0.1163424131703284,
          -0.14700544620111936,
          -0.17388059985615426,
          -0.1954177918192083,
          -0.16045816913543945,
          -0.1636363657704298,
          -0.19337539631015493,
          -0.16614173406984392,
          -0.17761021033966626,
          -0.16763754196248007,
          -0.1680851081654817,
          -0.1892812126380724,
          -0.1851444308847148,
          -0.20350609961669985,
          -0.17734375220607035,
          -0.23438914393272875,
          -0.17568282164009658,
          -0.14400000244379044,
          -0.18663594717254287,
          -0.18346154042161428,
          -0.16752199628704453,
          -0.21022727557768425,
          -0.16827794814938146,
          -0.11509338834787004,
          -0.1844101980037073,
          -0.18915441381635476,
          -0.19751152285645085,
          -0.206078270299796,
          -0.15219780344229478,
          -0.201535510467705,
          -0.17000000210744995,
          -0.17421686956322338,
          -0.17581864190072846,
          -0.16151761594745848,
          -0.17090909295912945,
          -0.1722891596875277,
          -0.11131463148893517,
          -0.1846052652715068,
          -0.25555555724803314
         ],
         "zmax": 0,
         "zmin": -0.25
        },
        {
         "colorbar": {
          "title": {
           "text": "Average Sentiment"
          }
         },
         "colorscale": [
          [
           0,
           "rgb(247,251,255)"
          ],
          [
           0.125,
           "rgb(222,235,247)"
          ],
          [
           0.25,
           "rgb(198,219,239)"
          ],
          [
           0.375,
           "rgb(158,202,225)"
          ],
          [
           0.5,
           "rgb(107,174,214)"
          ],
          [
           0.625,
           "rgb(66,146,198)"
          ],
          [
           0.75,
           "rgb(33,113,181)"
          ],
          [
           0.875,
           "rgb(8,81,156)"
          ],
          [
           1,
           "rgb(8,48,107)"
          ]
         ],
         "hoverinfo": "text",
         "locationmode": "USA-states",
         "locations": [
          "AK",
          "AL",
          "AR",
          "AZ",
          "CA",
          "CO",
          "CT",
          "DC",
          "DE",
          "FL",
          "GA",
          "HI",
          "IA",
          "ID",
          "IL",
          "IN",
          "KS",
          "KY",
          "LA",
          "MA",
          "MD",
          "ME",
          "MI",
          "MN",
          "MO",
          "MS",
          "MT",
          "NC",
          "ND",
          "NE",
          "NH",
          "NJ",
          "NM",
          "NV",
          "NY",
          "OH",
          "OK",
          "OR",
          "PA",
          "RI",
          "SC",
          "SD",
          "TN",
          "TX",
          "UT",
          "VA",
          "VT",
          "WA",
          "WI",
          "WY"
         ],
         "name": "29",
         "reversescale": true,
         "text": [
          "Sentiment: -0.173, Magnitude: 0.755<br>AK",
          "Sentiment: -0.136, Magnitude: 0.709<br>AL",
          "Sentiment: -0.194, Magnitude: 0.672<br>AR",
          "Sentiment: -0.178, Magnitude: 0.748<br>AZ",
          "Sentiment: -0.151, Magnitude: 0.685<br>CA",
          "Sentiment: -0.174, Magnitude: 0.729<br>CO",
          "Sentiment: -0.174, Magnitude: 0.678<br>CT",
          "Sentiment: -0.11, Magnitude: 0.658<br>DC",
          "Sentiment: -0.134, Magnitude: 0.71<br>DE",
          "Sentiment: -0.16, Magnitude: 0.687<br>FL",
          "Sentiment: -0.157, Magnitude: 0.669<br>GA",
          "Sentiment: -0.091, Magnitude: 0.662<br>HI",
          "Sentiment: -0.157, Magnitude: 0.7<br>IA",
          "Sentiment: -0.143, Magnitude: 0.651<br>ID",
          "Sentiment: -0.168, Magnitude: 0.682<br>IL",
          "Sentiment: -0.119, Magnitude: 0.715<br>IN",
          "Sentiment: -0.129, Magnitude: 0.66<br>KS",
          "Sentiment: -0.151, Magnitude: 0.708<br>KY",
          "Sentiment: -0.144, Magnitude: 0.689<br>LA",
          "Sentiment: -0.172, Magnitude: 0.671<br>MA",
          "Sentiment: -0.155, Magnitude: 0.656<br>MD",
          "Sentiment: -0.147, Magnitude: 0.682<br>ME",
          "Sentiment: -0.163, Magnitude: 0.687<br>MI",
          "Sentiment: -0.138, Magnitude: 0.683<br>MN",
          "Sentiment: -0.176, Magnitude: 0.726<br>MO",
          "Sentiment: -0.142, Magnitude: 0.635<br>MS",
          "Sentiment: -0.187, Magnitude: 0.67<br>MT",
          "Sentiment: -0.17, Magnitude: 0.707<br>NC",
          "Sentiment: -0.061, Magnitude: 0.702<br>ND",
          "Sentiment: -0.13, Magnitude: 0.702<br>NE",
          "Sentiment: -0.217, Magnitude: 0.72<br>NH",
          "Sentiment: -0.14, Magnitude: 0.71<br>NJ",
          "Sentiment: -0.189, Magnitude: 0.685<br>NM",
          "Sentiment: -0.144, Magnitude: 0.685<br>NV",
          "Sentiment: -0.102, Magnitude: 0.659<br>NY",
          "Sentiment: -0.16, Magnitude: 0.698<br>OH",
          "Sentiment: -0.154, Magnitude: 0.727<br>OK",
          "Sentiment: -0.184, Magnitude: 0.725<br>OR",
          "Sentiment: -0.155, Magnitude: 0.711<br>PA",
          "Sentiment: -0.195, Magnitude: 0.649<br>RI",
          "Sentiment: -0.176, Magnitude: 0.687<br>SC",
          "Sentiment: -0.193, Magnitude: 0.504<br>SD",
          "Sentiment: -0.177, Magnitude: 0.721<br>TN",
          "Sentiment: -0.163, Magnitude: 0.696<br>TX",
          "Sentiment: -0.137, Magnitude: 0.755<br>UT",
          "Sentiment: -0.143, Magnitude: 0.71<br>VA",
          "Sentiment: -0.183, Magnitude: 0.867<br>VT",
          "Sentiment: -0.106, Magnitude: 0.663<br>WA",
          "Sentiment: -0.156, Magnitude: 0.735<br>WI",
          "Sentiment: -0.207, Magnitude: 0.684<br>WY"
         ],
         "type": "choropleth",
         "visible": false,
         "z": [
          -0.1727272746689392,
          -0.13596330457324282,
          -0.19402985349853535,
          -0.17768526457554096,
          -0.15055005672019964,
          -0.17421328827374047,
          -0.17373737467057776,
          -0.1096774209891596,
          -0.13371428753648484,
          -0.16036916546620647,
          -0.15682859951672914,
          -0.09076923292416793,
          -0.15745192465300745,
          -0.143049327548042,
          -0.16755725381511996,
          -0.11902748558662407,
          -0.12921174824053575,
          -0.15136268506884826,
          -0.14436274608049324,
          -0.17192755671360205,
          -0.15478589564036366,
          -0.1474164147552748,
          -0.1633821592409506,
          -0.1381074185852352,
          -0.17561436876908146,
          -0.1417431206946526,
          -0.18702702876683827,
          -0.1695111127230856,
          -0.0610169506931709,
          -0.13000000110930868,
          -0.21698113453556905,
          -0.14036624334681375,
          -0.18898305271641685,
          -0.14400000154972076,
          -0.10222343837865087,
          -0.16014449301521724,
          -0.15375302798739354,
          -0.1843782140656096,
          -0.1549481640058121,
          -0.19512195273385785,
          -0.17573839896024532,
          -0.19253731496743304,
          -0.1768982251188289,
          -0.16302107912281075,
          -0.13700000221530598,
          -0.14255814109315246,
          -0.18260869729346124,
          -0.10598529153462144,
          -0.15597920418043898,
          -0.20701754655231508
         ],
         "zmax": 0,
         "zmin": -0.25
        }
       ],
       "layout": {
        "geo": {
         "scope": "usa"
        },
        "height": 500,
        "hovermode": "x unified",
        "sliders": [
         {
          "active": 10,
          "currentvalue": {
           "prefix": "Date: "
          },
          "pad": {
           "t": 50
          },
          "steps": [
           {
            "args": [
             {
              "visible": [
               true,
               false,
               false,
               false,
               false,
               false,
               false,
               false,
               false,
               false,
               false,
               false,
               false,
               false,
               false,
               false,
               false,
               false,
               false,
               false,
               false,
               false,
               false,
               false,
               false,
               false,
               false,
               false,
               false,
               false
              ]
             },
             {
              "title": "Average Sentiment on COVID Tweets in the US, 1/04/2020"
             }
            ],
            "label": "1",
            "method": "update"
           },
           {
            "args": [
             {
              "visible": [
               false,
               true,
               false,
               false,
               false,
               false,
               false,
               false,
               false,
               false,
               false,
               false,
               false,
               false,
               false,
               false,
               false,
               false,
               false,
               false,
               false,
               false,
               false,
               false,
               false,
               false,
               false,
               false,
               false,
               false
              ]
             },
             {
              "title": "Average Sentiment on COVID Tweets in the US, 2/04/2020"
             }
            ],
            "label": "2",
            "method": "update"
           },
           {
            "args": [
             {
              "visible": [
               false,
               false,
               true,
               false,
               false,
               false,
               false,
               false,
               false,
               false,
               false,
               false,
               false,
               false,
               false,
               false,
               false,
               false,
               false,
               false,
               false,
               false,
               false,
               false,
               false,
               false,
               false,
               false,
               false,
               false
              ]
             },
             {
              "title": "Average Sentiment on COVID Tweets in the US, 3/04/2020"
             }
            ],
            "label": "3",
            "method": "update"
           },
           {
            "args": [
             {
              "visible": [
               false,
               false,
               false,
               true,
               false,
               false,
               false,
               false,
               false,
               false,
               false,
               false,
               false,
               false,
               false,
               false,
               false,
               false,
               false,
               false,
               false,
               false,
               false,
               false,
               false,
               false,
               false,
               false,
               false,
               false
              ]
             },
             {
              "title": "Average Sentiment on COVID Tweets in the US, 4/04/2020"
             }
            ],
            "label": "4",
            "method": "update"
           },
           {
            "args": [
             {
              "visible": [
               false,
               false,
               false,
               false,
               true,
               false,
               false,
               false,
               false,
               false,
               false,
               false,
               false,
               false,
               false,
               false,
               false,
               false,
               false,
               false,
               false,
               false,
               false,
               false,
               false,
               false,
               false,
               false,
               false,
               false
              ]
             },
             {
              "title": "Average Sentiment on COVID Tweets in the US, 5/04/2020"
             }
            ],
            "label": "5",
            "method": "update"
           },
           {
            "args": [
             {
              "visible": [
               false,
               false,
               false,
               false,
               false,
               true,
               false,
               false,
               false,
               false,
               false,
               false,
               false,
               false,
               false,
               false,
               false,
               false,
               false,
               false,
               false,
               false,
               false,
               false,
               false,
               false,
               false,
               false,
               false,
               false
              ]
             },
             {
              "title": "Average Sentiment on COVID Tweets in the US, 6/04/2020"
             }
            ],
            "label": "6",
            "method": "update"
           },
           {
            "args": [
             {
              "visible": [
               false,
               false,
               false,
               false,
               false,
               false,
               true,
               false,
               false,
               false,
               false,
               false,
               false,
               false,
               false,
               false,
               false,
               false,
               false,
               false,
               false,
               false,
               false,
               false,
               false,
               false,
               false,
               false,
               false,
               false
              ]
             },
             {
              "title": "Average Sentiment on COVID Tweets in the US, 7/04/2020"
             }
            ],
            "label": "7",
            "method": "update"
           },
           {
            "args": [
             {
              "visible": [
               false,
               false,
               false,
               false,
               false,
               false,
               false,
               true,
               false,
               false,
               false,
               false,
               false,
               false,
               false,
               false,
               false,
               false,
               false,
               false,
               false,
               false,
               false,
               false,
               false,
               false,
               false,
               false,
               false,
               false
              ]
             },
             {
              "title": "Average Sentiment on COVID Tweets in the US, 8/04/2020"
             }
            ],
            "label": "8",
            "method": "update"
           },
           {
            "args": [
             {
              "visible": [
               false,
               false,
               false,
               false,
               false,
               false,
               false,
               false,
               true,
               false,
               false,
               false,
               false,
               false,
               false,
               false,
               false,
               false,
               false,
               false,
               false,
               false,
               false,
               false,
               false,
               false,
               false,
               false,
               false,
               false
              ]
             },
             {
              "title": "Average Sentiment on COVID Tweets in the US, 9/04/2020"
             }
            ],
            "label": "9",
            "method": "update"
           },
           {
            "args": [
             {
              "visible": [
               false,
               false,
               false,
               false,
               false,
               false,
               false,
               false,
               false,
               true,
               false,
               false,
               false,
               false,
               false,
               false,
               false,
               false,
               false,
               false,
               false,
               false,
               false,
               false,
               false,
               false,
               false,
               false,
               false,
               false
              ]
             },
             {
              "title": "Average Sentiment on COVID Tweets in the US, 10/04/2020"
             }
            ],
            "label": "10",
            "method": "update"
           },
           {
            "args": [
             {
              "visible": [
               false,
               false,
               false,
               false,
               false,
               false,
               false,
               false,
               false,
               false,
               true,
               false,
               false,
               false,
               false,
               false,
               false,
               false,
               false,
               false,
               false,
               false,
               false,
               false,
               false,
               false,
               false,
               false,
               false,
               false
              ]
             },
             {
              "title": "Average Sentiment on COVID Tweets in the US, 11/04/2020"
             }
            ],
            "label": "11",
            "method": "update"
           },
           {
            "args": [
             {
              "visible": [
               false,
               false,
               false,
               false,
               false,
               false,
               false,
               false,
               false,
               false,
               false,
               true,
               false,
               false,
               false,
               false,
               false,
               false,
               false,
               false,
               false,
               false,
               false,
               false,
               false,
               false,
               false,
               false,
               false,
               false
              ]
             },
             {
              "title": "Average Sentiment on COVID Tweets in the US, 12/04/2020"
             }
            ],
            "label": "12",
            "method": "update"
           },
           {
            "args": [
             {
              "visible": [
               false,
               false,
               false,
               false,
               false,
               false,
               false,
               false,
               false,
               false,
               false,
               false,
               true,
               false,
               false,
               false,
               false,
               false,
               false,
               false,
               false,
               false,
               false,
               false,
               false,
               false,
               false,
               false,
               false,
               false
              ]
             },
             {
              "title": "Average Sentiment on COVID Tweets in the US, 13/04/2020"
             }
            ],
            "label": "13",
            "method": "update"
           },
           {
            "args": [
             {
              "visible": [
               false,
               false,
               false,
               false,
               false,
               false,
               false,
               false,
               false,
               false,
               false,
               false,
               false,
               true,
               false,
               false,
               false,
               false,
               false,
               false,
               false,
               false,
               false,
               false,
               false,
               false,
               false,
               false,
               false,
               false
              ]
             },
             {
              "title": "Average Sentiment on COVID Tweets in the US, 14/04/2020"
             }
            ],
            "label": "14",
            "method": "update"
           },
           {
            "args": [
             {
              "visible": [
               false,
               false,
               false,
               false,
               false,
               false,
               false,
               false,
               false,
               false,
               false,
               false,
               false,
               false,
               true,
               false,
               false,
               false,
               false,
               false,
               false,
               false,
               false,
               false,
               false,
               false,
               false,
               false,
               false,
               false
              ]
             },
             {
              "title": "Average Sentiment on COVID Tweets in the US, 15/04/2020"
             }
            ],
            "label": "15",
            "method": "update"
           },
           {
            "args": [
             {
              "visible": [
               false,
               false,
               false,
               false,
               false,
               false,
               false,
               false,
               false,
               false,
               false,
               false,
               false,
               false,
               false,
               true,
               false,
               false,
               false,
               false,
               false,
               false,
               false,
               false,
               false,
               false,
               false,
               false,
               false,
               false
              ]
             },
             {
              "title": "Average Sentiment on COVID Tweets in the US, 16/04/2020"
             }
            ],
            "label": "16",
            "method": "update"
           },
           {
            "args": [
             {
              "visible": [
               false,
               false,
               false,
               false,
               false,
               false,
               false,
               false,
               false,
               false,
               false,
               false,
               false,
               false,
               false,
               false,
               true,
               false,
               false,
               false,
               false,
               false,
               false,
               false,
               false,
               false,
               false,
               false,
               false,
               false
              ]
             },
             {
              "title": "Average Sentiment on COVID Tweets in the US, 17/04/2020"
             }
            ],
            "label": "17",
            "method": "update"
           },
           {
            "args": [
             {
              "visible": [
               false,
               false,
               false,
               false,
               false,
               false,
               false,
               false,
               false,
               false,
               false,
               false,
               false,
               false,
               false,
               false,
               false,
               true,
               false,
               false,
               false,
               false,
               false,
               false,
               false,
               false,
               false,
               false,
               false,
               false
              ]
             },
             {
              "title": "Average Sentiment on COVID Tweets in the US, 18/04/2020"
             }
            ],
            "label": "18",
            "method": "update"
           },
           {
            "args": [
             {
              "visible": [
               false,
               false,
               false,
               false,
               false,
               false,
               false,
               false,
               false,
               false,
               false,
               false,
               false,
               false,
               false,
               false,
               false,
               false,
               true,
               false,
               false,
               false,
               false,
               false,
               false,
               false,
               false,
               false,
               false,
               false
              ]
             },
             {
              "title": "Average Sentiment on COVID Tweets in the US, 19/04/2020"
             }
            ],
            "label": "19",
            "method": "update"
           },
           {
            "args": [
             {
              "visible": [
               false,
               false,
               false,
               false,
               false,
               false,
               false,
               false,
               false,
               false,
               false,
               false,
               false,
               false,
               false,
               false,
               false,
               false,
               false,
               true,
               false,
               false,
               false,
               false,
               false,
               false,
               false,
               false,
               false,
               false
              ]
             },
             {
              "title": "Average Sentiment on COVID Tweets in the US, 20/04/2020"
             }
            ],
            "label": "20",
            "method": "update"
           },
           {
            "args": [
             {
              "visible": [
               false,
               false,
               false,
               false,
               false,
               false,
               false,
               false,
               false,
               false,
               false,
               false,
               false,
               false,
               false,
               false,
               false,
               false,
               false,
               false,
               true,
               false,
               false,
               false,
               false,
               false,
               false,
               false,
               false,
               false
              ]
             },
             {
              "title": "Average Sentiment on COVID Tweets in the US, 21/04/2020"
             }
            ],
            "label": "21",
            "method": "update"
           },
           {
            "args": [
             {
              "visible": [
               false,
               false,
               false,
               false,
               false,
               false,
               false,
               false,
               false,
               false,
               false,
               false,
               false,
               false,
               false,
               false,
               false,
               false,
               false,
               false,
               false,
               true,
               false,
               false,
               false,
               false,
               false,
               false,
               false,
               false
              ]
             },
             {
              "title": "Average Sentiment on COVID Tweets in the US, 22/04/2020"
             }
            ],
            "label": "22",
            "method": "update"
           },
           {
            "args": [
             {
              "visible": [
               false,
               false,
               false,
               false,
               false,
               false,
               false,
               false,
               false,
               false,
               false,
               false,
               false,
               false,
               false,
               false,
               false,
               false,
               false,
               false,
               false,
               false,
               true,
               false,
               false,
               false,
               false,
               false,
               false,
               false
              ]
             },
             {
              "title": "Average Sentiment on COVID Tweets in the US, 23/04/2020"
             }
            ],
            "label": "23",
            "method": "update"
           },
           {
            "args": [
             {
              "visible": [
               false,
               false,
               false,
               false,
               false,
               false,
               false,
               false,
               false,
               false,
               false,
               false,
               false,
               false,
               false,
               false,
               false,
               false,
               false,
               false,
               false,
               false,
               false,
               true,
               false,
               false,
               false,
               false,
               false,
               false
              ]
             },
             {
              "title": "Average Sentiment on COVID Tweets in the US, 24/04/2020"
             }
            ],
            "label": "24",
            "method": "update"
           },
           {
            "args": [
             {
              "visible": [
               false,
               false,
               false,
               false,
               false,
               false,
               false,
               false,
               false,
               false,
               false,
               false,
               false,
               false,
               false,
               false,
               false,
               false,
               false,
               false,
               false,
               false,
               false,
               false,
               true,
               false,
               false,
               false,
               false,
               false
              ]
             },
             {
              "title": "Average Sentiment on COVID Tweets in the US, 25/04/2020"
             }
            ],
            "label": "25",
            "method": "update"
           },
           {
            "args": [
             {
              "visible": [
               false,
               false,
               false,
               false,
               false,
               false,
               false,
               false,
               false,
               false,
               false,
               false,
               false,
               false,
               false,
               false,
               false,
               false,
               false,
               false,
               false,
               false,
               false,
               false,
               false,
               true,
               false,
               false,
               false,
               false
              ]
             },
             {
              "title": "Average Sentiment on COVID Tweets in the US, 26/04/2020"
             }
            ],
            "label": "26",
            "method": "update"
           },
           {
            "args": [
             {
              "visible": [
               false,
               false,
               false,
               false,
               false,
               false,
               false,
               false,
               false,
               false,
               false,
               false,
               false,
               false,
               false,
               false,
               false,
               false,
               false,
               false,
               false,
               false,
               false,
               false,
               false,
               false,
               true,
               false,
               false,
               false
              ]
             },
             {
              "title": "Average Sentiment on COVID Tweets in the US, 27/04/2020"
             }
            ],
            "label": "27",
            "method": "update"
           },
           {
            "args": [
             {
              "visible": [
               false,
               false,
               false,
               false,
               false,
               false,
               false,
               false,
               false,
               false,
               false,
               false,
               false,
               false,
               false,
               false,
               false,
               false,
               false,
               false,
               false,
               false,
               false,
               false,
               false,
               false,
               false,
               true,
               false,
               false
              ]
             },
             {
              "title": "Average Sentiment on COVID Tweets in the US, 28/04/2020"
             }
            ],
            "label": "28",
            "method": "update"
           },
           {
            "args": [
             {
              "visible": [
               false,
               false,
               false,
               false,
               false,
               false,
               false,
               false,
               false,
               false,
               false,
               false,
               false,
               false,
               false,
               false,
               false,
               false,
               false,
               false,
               false,
               false,
               false,
               false,
               false,
               false,
               false,
               false,
               true,
               false
              ]
             },
             {
              "title": "Average Sentiment on COVID Tweets in the US, 29/04/2020"
             }
            ],
            "label": "29",
            "method": "update"
           },
           {
            "args": [
             {
              "visible": [
               false,
               false,
               false,
               false,
               false,
               false,
               false,
               false,
               false,
               false,
               false,
               false,
               false,
               false,
               false,
               false,
               false,
               false,
               false,
               false,
               false,
               false,
               false,
               false,
               false,
               false,
               false,
               false,
               false,
               true
              ]
             },
             {
              "title": "Average Sentiment on COVID Tweets in the US, 30/04/2020"
             }
            ],
            "label": "30",
            "method": "update"
           }
          ]
         }
        ],
        "template": {
         "data": {
          "bar": [
           {
            "error_x": {
             "color": "#2a3f5f"
            },
            "error_y": {
             "color": "#2a3f5f"
            },
            "marker": {
             "line": {
              "color": "#E5ECF6",
              "width": 0.5
             }
            },
            "type": "bar"
           }
          ],
          "barpolar": [
           {
            "marker": {
             "line": {
              "color": "#E5ECF6",
              "width": 0.5
             }
            },
            "type": "barpolar"
           }
          ],
          "carpet": [
           {
            "aaxis": {
             "endlinecolor": "#2a3f5f",
             "gridcolor": "white",
             "linecolor": "white",
             "minorgridcolor": "white",
             "startlinecolor": "#2a3f5f"
            },
            "baxis": {
             "endlinecolor": "#2a3f5f",
             "gridcolor": "white",
             "linecolor": "white",
             "minorgridcolor": "white",
             "startlinecolor": "#2a3f5f"
            },
            "type": "carpet"
           }
          ],
          "choropleth": [
           {
            "colorbar": {
             "outlinewidth": 0,
             "ticks": ""
            },
            "type": "choropleth"
           }
          ],
          "contour": [
           {
            "colorbar": {
             "outlinewidth": 0,
             "ticks": ""
            },
            "colorscale": [
             [
              0,
              "#0d0887"
             ],
             [
              0.1111111111111111,
              "#46039f"
             ],
             [
              0.2222222222222222,
              "#7201a8"
             ],
             [
              0.3333333333333333,
              "#9c179e"
             ],
             [
              0.4444444444444444,
              "#bd3786"
             ],
             [
              0.5555555555555556,
              "#d8576b"
             ],
             [
              0.6666666666666666,
              "#ed7953"
             ],
             [
              0.7777777777777778,
              "#fb9f3a"
             ],
             [
              0.8888888888888888,
              "#fdca26"
             ],
             [
              1,
              "#f0f921"
             ]
            ],
            "type": "contour"
           }
          ],
          "contourcarpet": [
           {
            "colorbar": {
             "outlinewidth": 0,
             "ticks": ""
            },
            "type": "contourcarpet"
           }
          ],
          "heatmap": [
           {
            "colorbar": {
             "outlinewidth": 0,
             "ticks": ""
            },
            "colorscale": [
             [
              0,
              "#0d0887"
             ],
             [
              0.1111111111111111,
              "#46039f"
             ],
             [
              0.2222222222222222,
              "#7201a8"
             ],
             [
              0.3333333333333333,
              "#9c179e"
             ],
             [
              0.4444444444444444,
              "#bd3786"
             ],
             [
              0.5555555555555556,
              "#d8576b"
             ],
             [
              0.6666666666666666,
              "#ed7953"
             ],
             [
              0.7777777777777778,
              "#fb9f3a"
             ],
             [
              0.8888888888888888,
              "#fdca26"
             ],
             [
              1,
              "#f0f921"
             ]
            ],
            "type": "heatmap"
           }
          ],
          "heatmapgl": [
           {
            "colorbar": {
             "outlinewidth": 0,
             "ticks": ""
            },
            "colorscale": [
             [
              0,
              "#0d0887"
             ],
             [
              0.1111111111111111,
              "#46039f"
             ],
             [
              0.2222222222222222,
              "#7201a8"
             ],
             [
              0.3333333333333333,
              "#9c179e"
             ],
             [
              0.4444444444444444,
              "#bd3786"
             ],
             [
              0.5555555555555556,
              "#d8576b"
             ],
             [
              0.6666666666666666,
              "#ed7953"
             ],
             [
              0.7777777777777778,
              "#fb9f3a"
             ],
             [
              0.8888888888888888,
              "#fdca26"
             ],
             [
              1,
              "#f0f921"
             ]
            ],
            "type": "heatmapgl"
           }
          ],
          "histogram": [
           {
            "marker": {
             "colorbar": {
              "outlinewidth": 0,
              "ticks": ""
             }
            },
            "type": "histogram"
           }
          ],
          "histogram2d": [
           {
            "colorbar": {
             "outlinewidth": 0,
             "ticks": ""
            },
            "colorscale": [
             [
              0,
              "#0d0887"
             ],
             [
              0.1111111111111111,
              "#46039f"
             ],
             [
              0.2222222222222222,
              "#7201a8"
             ],
             [
              0.3333333333333333,
              "#9c179e"
             ],
             [
              0.4444444444444444,
              "#bd3786"
             ],
             [
              0.5555555555555556,
              "#d8576b"
             ],
             [
              0.6666666666666666,
              "#ed7953"
             ],
             [
              0.7777777777777778,
              "#fb9f3a"
             ],
             [
              0.8888888888888888,
              "#fdca26"
             ],
             [
              1,
              "#f0f921"
             ]
            ],
            "type": "histogram2d"
           }
          ],
          "histogram2dcontour": [
           {
            "colorbar": {
             "outlinewidth": 0,
             "ticks": ""
            },
            "colorscale": [
             [
              0,
              "#0d0887"
             ],
             [
              0.1111111111111111,
              "#46039f"
             ],
             [
              0.2222222222222222,
              "#7201a8"
             ],
             [
              0.3333333333333333,
              "#9c179e"
             ],
             [
              0.4444444444444444,
              "#bd3786"
             ],
             [
              0.5555555555555556,
              "#d8576b"
             ],
             [
              0.6666666666666666,
              "#ed7953"
             ],
             [
              0.7777777777777778,
              "#fb9f3a"
             ],
             [
              0.8888888888888888,
              "#fdca26"
             ],
             [
              1,
              "#f0f921"
             ]
            ],
            "type": "histogram2dcontour"
           }
          ],
          "mesh3d": [
           {
            "colorbar": {
             "outlinewidth": 0,
             "ticks": ""
            },
            "type": "mesh3d"
           }
          ],
          "parcoords": [
           {
            "line": {
             "colorbar": {
              "outlinewidth": 0,
              "ticks": ""
             }
            },
            "type": "parcoords"
           }
          ],
          "pie": [
           {
            "automargin": true,
            "type": "pie"
           }
          ],
          "scatter": [
           {
            "marker": {
             "colorbar": {
              "outlinewidth": 0,
              "ticks": ""
             }
            },
            "type": "scatter"
           }
          ],
          "scatter3d": [
           {
            "line": {
             "colorbar": {
              "outlinewidth": 0,
              "ticks": ""
             }
            },
            "marker": {
             "colorbar": {
              "outlinewidth": 0,
              "ticks": ""
             }
            },
            "type": "scatter3d"
           }
          ],
          "scattercarpet": [
           {
            "marker": {
             "colorbar": {
              "outlinewidth": 0,
              "ticks": ""
             }
            },
            "type": "scattercarpet"
           }
          ],
          "scattergeo": [
           {
            "marker": {
             "colorbar": {
              "outlinewidth": 0,
              "ticks": ""
             }
            },
            "type": "scattergeo"
           }
          ],
          "scattergl": [
           {
            "marker": {
             "colorbar": {
              "outlinewidth": 0,
              "ticks": ""
             }
            },
            "type": "scattergl"
           }
          ],
          "scattermapbox": [
           {
            "marker": {
             "colorbar": {
              "outlinewidth": 0,
              "ticks": ""
             }
            },
            "type": "scattermapbox"
           }
          ],
          "scatterpolar": [
           {
            "marker": {
             "colorbar": {
              "outlinewidth": 0,
              "ticks": ""
             }
            },
            "type": "scatterpolar"
           }
          ],
          "scatterpolargl": [
           {
            "marker": {
             "colorbar": {
              "outlinewidth": 0,
              "ticks": ""
             }
            },
            "type": "scatterpolargl"
           }
          ],
          "scatterternary": [
           {
            "marker": {
             "colorbar": {
              "outlinewidth": 0,
              "ticks": ""
             }
            },
            "type": "scatterternary"
           }
          ],
          "surface": [
           {
            "colorbar": {
             "outlinewidth": 0,
             "ticks": ""
            },
            "colorscale": [
             [
              0,
              "#0d0887"
             ],
             [
              0.1111111111111111,
              "#46039f"
             ],
             [
              0.2222222222222222,
              "#7201a8"
             ],
             [
              0.3333333333333333,
              "#9c179e"
             ],
             [
              0.4444444444444444,
              "#bd3786"
             ],
             [
              0.5555555555555556,
              "#d8576b"
             ],
             [
              0.6666666666666666,
              "#ed7953"
             ],
             [
              0.7777777777777778,
              "#fb9f3a"
             ],
             [
              0.8888888888888888,
              "#fdca26"
             ],
             [
              1,
              "#f0f921"
             ]
            ],
            "type": "surface"
           }
          ],
          "table": [
           {
            "cells": {
             "fill": {
              "color": "#EBF0F8"
             },
             "line": {
              "color": "white"
             }
            },
            "header": {
             "fill": {
              "color": "#C8D4E3"
             },
             "line": {
              "color": "white"
             }
            },
            "type": "table"
           }
          ]
         },
         "layout": {
          "annotationdefaults": {
           "arrowcolor": "#2a3f5f",
           "arrowhead": 0,
           "arrowwidth": 1
          },
          "autotypenumbers": "strict",
          "coloraxis": {
           "colorbar": {
            "outlinewidth": 0,
            "ticks": ""
           }
          },
          "colorscale": {
           "diverging": [
            [
             0,
             "#8e0152"
            ],
            [
             0.1,
             "#c51b7d"
            ],
            [
             0.2,
             "#de77ae"
            ],
            [
             0.3,
             "#f1b6da"
            ],
            [
             0.4,
             "#fde0ef"
            ],
            [
             0.5,
             "#f7f7f7"
            ],
            [
             0.6,
             "#e6f5d0"
            ],
            [
             0.7,
             "#b8e186"
            ],
            [
             0.8,
             "#7fbc41"
            ],
            [
             0.9,
             "#4d9221"
            ],
            [
             1,
             "#276419"
            ]
           ],
           "sequential": [
            [
             0,
             "#0d0887"
            ],
            [
             0.1111111111111111,
             "#46039f"
            ],
            [
             0.2222222222222222,
             "#7201a8"
            ],
            [
             0.3333333333333333,
             "#9c179e"
            ],
            [
             0.4444444444444444,
             "#bd3786"
            ],
            [
             0.5555555555555556,
             "#d8576b"
            ],
            [
             0.6666666666666666,
             "#ed7953"
            ],
            [
             0.7777777777777778,
             "#fb9f3a"
            ],
            [
             0.8888888888888888,
             "#fdca26"
            ],
            [
             1,
             "#f0f921"
            ]
           ],
           "sequentialminus": [
            [
             0,
             "#0d0887"
            ],
            [
             0.1111111111111111,
             "#46039f"
            ],
            [
             0.2222222222222222,
             "#7201a8"
            ],
            [
             0.3333333333333333,
             "#9c179e"
            ],
            [
             0.4444444444444444,
             "#bd3786"
            ],
            [
             0.5555555555555556,
             "#d8576b"
            ],
            [
             0.6666666666666666,
             "#ed7953"
            ],
            [
             0.7777777777777778,
             "#fb9f3a"
            ],
            [
             0.8888888888888888,
             "#fdca26"
            ],
            [
             1,
             "#f0f921"
            ]
           ]
          },
          "colorway": [
           "#636efa",
           "#EF553B",
           "#00cc96",
           "#ab63fa",
           "#FFA15A",
           "#19d3f3",
           "#FF6692",
           "#B6E880",
           "#FF97FF",
           "#FECB52"
          ],
          "font": {
           "color": "#2a3f5f"
          },
          "geo": {
           "bgcolor": "white",
           "lakecolor": "white",
           "landcolor": "#E5ECF6",
           "showlakes": true,
           "showland": true,
           "subunitcolor": "white"
          },
          "hoverlabel": {
           "align": "left"
          },
          "hovermode": "closest",
          "mapbox": {
           "style": "light"
          },
          "paper_bgcolor": "white",
          "plot_bgcolor": "#E5ECF6",
          "polar": {
           "angularaxis": {
            "gridcolor": "white",
            "linecolor": "white",
            "ticks": ""
           },
           "bgcolor": "#E5ECF6",
           "radialaxis": {
            "gridcolor": "white",
            "linecolor": "white",
            "ticks": ""
           }
          },
          "scene": {
           "xaxis": {
            "backgroundcolor": "#E5ECF6",
            "gridcolor": "white",
            "gridwidth": 2,
            "linecolor": "white",
            "showbackground": true,
            "ticks": "",
            "zerolinecolor": "white"
           },
           "yaxis": {
            "backgroundcolor": "#E5ECF6",
            "gridcolor": "white",
            "gridwidth": 2,
            "linecolor": "white",
            "showbackground": true,
            "ticks": "",
            "zerolinecolor": "white"
           },
           "zaxis": {
            "backgroundcolor": "#E5ECF6",
            "gridcolor": "white",
            "gridwidth": 2,
            "linecolor": "white",
            "showbackground": true,
            "ticks": "",
            "zerolinecolor": "white"
           }
          },
          "shapedefaults": {
           "line": {
            "color": "#2a3f5f"
           }
          },
          "ternary": {
           "aaxis": {
            "gridcolor": "white",
            "linecolor": "white",
            "ticks": ""
           },
           "baxis": {
            "gridcolor": "white",
            "linecolor": "white",
            "ticks": ""
           },
           "bgcolor": "#E5ECF6",
           "caxis": {
            "gridcolor": "white",
            "linecolor": "white",
            "ticks": ""
           }
          },
          "title": {
           "x": 0.05
          },
          "xaxis": {
           "automargin": true,
           "gridcolor": "white",
           "linecolor": "white",
           "ticks": "",
           "title": {
            "standoff": 15
           },
           "zerolinecolor": "white",
           "zerolinewidth": 2
          },
          "yaxis": {
           "automargin": true,
           "gridcolor": "white",
           "linecolor": "white",
           "ticks": "",
           "title": {
            "standoff": 15
           },
           "zerolinecolor": "white",
           "zerolinewidth": 2
          }
         }
        },
        "title": {
         "text": "Average Sentiment on COVID Tweets in the US, April 2020"
        },
        "width": 800
       }
      }
     },
     "metadata": {}
    }
   ],
   "source": [
    "\n",
    "fig = go.Figure()\n",
    "\n",
    "for step in np.arange(len(paths_list)):\n",
    "    average_state_sentiment = pd.read_csv(paths_list[step], engine='python')\n",
    "\n",
    "    fig.add_trace(\n",
    "        go.Choropleth(\n",
    "        locations=average_state_sentiment['state'], # Spatial coordinates\n",
    "        z = average_state_sentiment['sentiment'].astype(float), # Data to be color-coded\n",
    "        locationmode = 'USA-states', # set of locations match entries in `locations`\n",
    "        colorscale = 'Blues',\n",
    "        reversescale= True,\n",
    "        colorbar_title = \"Average Sentiment\",\n",
    "        text=average_state_sentiment.apply(lambda row: \"Sentiment: \"+f\"{round(row['sentiment'],3)}\" + \", Magnitude: \" f\"{round(row['magnitude'],3)}<br>{row['state']}\", axis=1), # text to display on hover\n",
    "        hoverinfo=\"text\",\n",
    "        visible=False,\n",
    "        name= '{}'.format(step),\n",
    "        zmax=0.00, #maximum color value\n",
    "        zmin=-0.25 #minimum color value\n",
    "\n",
    "    )\n",
    "    )\n",
    "\n",
    "\n",
    "#fig.update_traces(hovertemplate='<extra></extra>', selector=dict(type='histogram'))\n",
    "\n",
    "fig.update_layout(\n",
    "    geo_scope='usa', # limit map scope to USA\n",
    ")\n",
    "\n",
    "fig.update_layout(height=500, width=800, hovermode='x unified') #changes figure size\n",
    "\n",
    "fig.update_layout(title_text = 'Average Sentiment on COVID Tweets in the US, April 2020')\n",
    "fig.data[0].visible = True #sets day 1 to be visible when opening/loading the plot\n",
    "\n",
    "\n",
    "steps = []\n",
    "for i in range(len(fig.data)):\n",
    "    step = dict(\n",
    "        method=\"update\",\n",
    "        args=[{\"visible\": [False] * len(fig.data)},\n",
    "              {\"title\": \"Average Sentiment on COVID Tweets in the US, {}/04/2020\".format(str(i+1))}],\n",
    "        label= \"{}\".format(i+1)\n",
    "    )\n",
    "\n",
    "    step[\"args\"][0][\"visible\"][i] = True\n",
    "  # Toggle i'th trace to \"visible\"\n",
    "    steps.append(step)\n",
    "\n",
    "sliders = [dict(\n",
    "    active=10,\n",
    "    currentvalue={\"prefix\": \"Date: \"},\n",
    "    pad={\"t\": 50},\n",
    "    steps=steps\n",
    ")]\n",
    "fig.update_layout(\n",
    "    sliders=sliders\n",
    ")\n",
    "\n",
    "\n",
    "fig.show()\n",
    "\n"
   ]
  },
  {
   "source": [
    "Saving the plot as html to embed on our website:"
   ],
   "cell_type": "markdown",
   "metadata": {}
  },
  {
   "cell_type": "code",
   "execution_count": 9,
   "metadata": {},
   "outputs": [],
   "source": [
    "fig.write_html(\"chloropleth_full.html\")\n"
   ]
  },
  {
   "cell_type": "code",
   "execution_count": null,
   "metadata": {},
   "outputs": [],
   "source": []
  }
 ]
}