{
 "metadata": {
  "language_info": {
   "codemirror_mode": {
    "name": "ipython",
    "version": 3
   },
   "file_extension": ".py",
   "mimetype": "text/x-python",
   "name": "python",
   "nbconvert_exporter": "python",
   "pygments_lexer": "ipython3",
   "version": "3.7.4-final"
  },
  "orig_nbformat": 2,
  "kernelspec": {
   "name": "python3",
   "display_name": "Python 3",
   "language": "python"
  }
 },
 "nbformat": 4,
 "nbformat_minor": 2,
 "cells": [
  {
   "source": [
    "# Utah State Regulations and Twitter Sentiment"
   ],
   "cell_type": "markdown",
   "metadata": {}
  },
  {
   "cell_type": "code",
   "execution_count": 1,
   "metadata": {},
   "outputs": [],
   "source": [
    "# import libraries\n",
    "import seaborn as sns\n",
    "import matplotlib.pyplot as plt\n",
    "import plotly.express as px\n",
    "import pandas as pd\n",
    "import numpy as np \n",
    "import plotly.graph_objects as go\n"
   ]
  },
  {
   "cell_type": "code",
   "execution_count": 2,
   "metadata": {},
   "outputs": [
    {
     "output_type": "stream",
     "name": "stdout",
     "text": [
      "<class 'pandas.core.frame.DataFrame'>\nRangeIndex: 1530 entries, 0 to 1529\nData columns (total 13 columns):\ndate                    1530 non-null object\ntot_cases               1530 non-null int64\nnew_case                1530 non-null int64\ntot_death               1530 non-null int64\nnew_death               1530 non-null int64\nState                   1530 non-null object\npopulation_estimate     1530 non-null int64\nstate_abbreviation      1530 non-null object\nnormalized_tot_cases    1530 non-null float64\nnormalized_new_case     1530 non-null float64\nnormalized_tot_death    1530 non-null float64\nnormalized_new_death    1530 non-null float64\nshort_date              1530 non-null int64\ndtypes: float64(4), int64(6), object(3)\nmemory usage: 155.5+ KB\nNone\n"
     ]
    },
    {
     "output_type": "execute_result",
     "data": {
      "text/plain": [
       "            date  tot_cases  new_case  tot_death  new_death          State  \\\n",
       "0     04/11/2020        293        15          7          1   North Dakota   \n",
       "1     04/14/2020        341        10          9          1   North Dakota   \n",
       "2     04/03/2020        173        14          3          0   North Dakota   \n",
       "3     04/05/2020        207        21          3          0   North Dakota   \n",
       "4     04/25/2020        803        55         16          1   North Dakota   \n",
       "...          ...        ...       ...        ...        ...            ...   \n",
       "1525  04/04/2020        621        81          9          2  New Hampshire   \n",
       "1526  04/01/2020        415        48          4          1  New Hampshire   \n",
       "1527  04/20/2020       1447        55         42          1  New Hampshire   \n",
       "1528  04/23/2020       1670        82         51          3  New Hampshire   \n",
       "1529  04/26/2020       1864        77         60          0  New Hampshire   \n",
       "\n",
       "      population_estimate state_abbreviation  normalized_tot_cases  \\\n",
       "0                  761723                 ND              0.384654   \n",
       "1                  761723                 ND              0.447669   \n",
       "2                  761723                 ND              0.227117   \n",
       "3                  761723                 ND              0.271752   \n",
       "4                  761723                 ND              1.054189   \n",
       "...                   ...                ...                   ...   \n",
       "1525              1371246                 NH              0.452873   \n",
       "1526              1371246                 NH              0.302644   \n",
       "1527              1371246                 NH              1.055245   \n",
       "1528              1371246                 NH              1.217870   \n",
       "1529              1371246                 NH              1.359348   \n",
       "\n",
       "      normalized_new_case  normalized_tot_death  normalized_new_death  \\\n",
       "0                0.019692              0.009190              0.001313   \n",
       "1                0.013128              0.011815              0.001313   \n",
       "2                0.018379              0.003938              0.000000   \n",
       "3                0.027569              0.003938              0.000000   \n",
       "4                0.072205              0.021005              0.001313   \n",
       "...                   ...                   ...                   ...   \n",
       "1525             0.059070              0.006563              0.001459   \n",
       "1526             0.035005              0.002917              0.000729   \n",
       "1527             0.040110              0.030629              0.000729   \n",
       "1528             0.059800              0.037192              0.002188   \n",
       "1529             0.056153              0.043756              0.000000   \n",
       "\n",
       "      short_date  \n",
       "0             11  \n",
       "1             14  \n",
       "2              3  \n",
       "3              5  \n",
       "4             25  \n",
       "...          ...  \n",
       "1525           4  \n",
       "1526           1  \n",
       "1527          20  \n",
       "1528          23  \n",
       "1529          26  \n",
       "\n",
       "[1530 rows x 13 columns]"
      ],
      "text/html": "<div>\n<style scoped>\n    .dataframe tbody tr th:only-of-type {\n        vertical-align: middle;\n    }\n\n    .dataframe tbody tr th {\n        vertical-align: top;\n    }\n\n    .dataframe thead th {\n        text-align: right;\n    }\n</style>\n<table border=\"1\" class=\"dataframe\">\n  <thead>\n    <tr style=\"text-align: right;\">\n      <th></th>\n      <th>date</th>\n      <th>tot_cases</th>\n      <th>new_case</th>\n      <th>tot_death</th>\n      <th>new_death</th>\n      <th>State</th>\n      <th>population_estimate</th>\n      <th>state_abbreviation</th>\n      <th>normalized_tot_cases</th>\n      <th>normalized_new_case</th>\n      <th>normalized_tot_death</th>\n      <th>normalized_new_death</th>\n      <th>short_date</th>\n    </tr>\n  </thead>\n  <tbody>\n    <tr>\n      <td>0</td>\n      <td>04/11/2020</td>\n      <td>293</td>\n      <td>15</td>\n      <td>7</td>\n      <td>1</td>\n      <td>North Dakota</td>\n      <td>761723</td>\n      <td>ND</td>\n      <td>0.384654</td>\n      <td>0.019692</td>\n      <td>0.009190</td>\n      <td>0.001313</td>\n      <td>11</td>\n    </tr>\n    <tr>\n      <td>1</td>\n      <td>04/14/2020</td>\n      <td>341</td>\n      <td>10</td>\n      <td>9</td>\n      <td>1</td>\n      <td>North Dakota</td>\n      <td>761723</td>\n      <td>ND</td>\n      <td>0.447669</td>\n      <td>0.013128</td>\n      <td>0.011815</td>\n      <td>0.001313</td>\n      <td>14</td>\n    </tr>\n    <tr>\n      <td>2</td>\n      <td>04/03/2020</td>\n      <td>173</td>\n      <td>14</td>\n      <td>3</td>\n      <td>0</td>\n      <td>North Dakota</td>\n      <td>761723</td>\n      <td>ND</td>\n      <td>0.227117</td>\n      <td>0.018379</td>\n      <td>0.003938</td>\n      <td>0.000000</td>\n      <td>3</td>\n    </tr>\n    <tr>\n      <td>3</td>\n      <td>04/05/2020</td>\n      <td>207</td>\n      <td>21</td>\n      <td>3</td>\n      <td>0</td>\n      <td>North Dakota</td>\n      <td>761723</td>\n      <td>ND</td>\n      <td>0.271752</td>\n      <td>0.027569</td>\n      <td>0.003938</td>\n      <td>0.000000</td>\n      <td>5</td>\n    </tr>\n    <tr>\n      <td>4</td>\n      <td>04/25/2020</td>\n      <td>803</td>\n      <td>55</td>\n      <td>16</td>\n      <td>1</td>\n      <td>North Dakota</td>\n      <td>761723</td>\n      <td>ND</td>\n      <td>1.054189</td>\n      <td>0.072205</td>\n      <td>0.021005</td>\n      <td>0.001313</td>\n      <td>25</td>\n    </tr>\n    <tr>\n      <td>...</td>\n      <td>...</td>\n      <td>...</td>\n      <td>...</td>\n      <td>...</td>\n      <td>...</td>\n      <td>...</td>\n      <td>...</td>\n      <td>...</td>\n      <td>...</td>\n      <td>...</td>\n      <td>...</td>\n      <td>...</td>\n      <td>...</td>\n    </tr>\n    <tr>\n      <td>1525</td>\n      <td>04/04/2020</td>\n      <td>621</td>\n      <td>81</td>\n      <td>9</td>\n      <td>2</td>\n      <td>New Hampshire</td>\n      <td>1371246</td>\n      <td>NH</td>\n      <td>0.452873</td>\n      <td>0.059070</td>\n      <td>0.006563</td>\n      <td>0.001459</td>\n      <td>4</td>\n    </tr>\n    <tr>\n      <td>1526</td>\n      <td>04/01/2020</td>\n      <td>415</td>\n      <td>48</td>\n      <td>4</td>\n      <td>1</td>\n      <td>New Hampshire</td>\n      <td>1371246</td>\n      <td>NH</td>\n      <td>0.302644</td>\n      <td>0.035005</td>\n      <td>0.002917</td>\n      <td>0.000729</td>\n      <td>1</td>\n    </tr>\n    <tr>\n      <td>1527</td>\n      <td>04/20/2020</td>\n      <td>1447</td>\n      <td>55</td>\n      <td>42</td>\n      <td>1</td>\n      <td>New Hampshire</td>\n      <td>1371246</td>\n      <td>NH</td>\n      <td>1.055245</td>\n      <td>0.040110</td>\n      <td>0.030629</td>\n      <td>0.000729</td>\n      <td>20</td>\n    </tr>\n    <tr>\n      <td>1528</td>\n      <td>04/23/2020</td>\n      <td>1670</td>\n      <td>82</td>\n      <td>51</td>\n      <td>3</td>\n      <td>New Hampshire</td>\n      <td>1371246</td>\n      <td>NH</td>\n      <td>1.217870</td>\n      <td>0.059800</td>\n      <td>0.037192</td>\n      <td>0.002188</td>\n      <td>23</td>\n    </tr>\n    <tr>\n      <td>1529</td>\n      <td>04/26/2020</td>\n      <td>1864</td>\n      <td>77</td>\n      <td>60</td>\n      <td>0</td>\n      <td>New Hampshire</td>\n      <td>1371246</td>\n      <td>NH</td>\n      <td>1.359348</td>\n      <td>0.056153</td>\n      <td>0.043756</td>\n      <td>0.000000</td>\n      <td>26</td>\n    </tr>\n  </tbody>\n</table>\n<p>1530 rows × 13 columns</p>\n</div>"
     },
     "metadata": {},
     "execution_count": 2
    }
   ],
   "source": [
    "covid = pd.read_csv(\"./../covid_cases/normalised_covid_deaths_cases.csv\") \n",
    "\n",
    "print(covid.info())\n",
    "covid"
   ]
  },
  {
   "cell_type": "code",
   "execution_count": 3,
   "metadata": {},
   "outputs": [],
   "source": [
    "covid.sort_values(by='date',inplace=True)"
   ]
  },
  {
   "cell_type": "code",
   "execution_count": 4,
   "metadata": {},
   "outputs": [
    {
     "output_type": "execute_result",
     "data": {
      "text/plain": [
       "      sentiment  magnitude state  date\n",
       "0     -0.164179   0.700000    AK     1\n",
       "1     -0.155914   0.640246    AL     1\n",
       "2     -0.179669   0.676359    AR     1\n",
       "3     -0.170283   0.675881    AZ     1\n",
       "4     -0.167857   0.680188    CA     1\n",
       "...         ...        ...   ...   ...\n",
       "1495  -0.142558   0.710310    VA    30\n",
       "1496  -0.182609   0.866667    VT    30\n",
       "1497  -0.105985   0.663175    WA    30\n",
       "1498  -0.155979   0.735009    WI    30\n",
       "1499  -0.207018   0.684211    WY    30\n",
       "\n",
       "[1500 rows x 4 columns]"
      ],
      "text/html": "<div>\n<style scoped>\n    .dataframe tbody tr th:only-of-type {\n        vertical-align: middle;\n    }\n\n    .dataframe tbody tr th {\n        vertical-align: top;\n    }\n\n    .dataframe thead th {\n        text-align: right;\n    }\n</style>\n<table border=\"1\" class=\"dataframe\">\n  <thead>\n    <tr style=\"text-align: right;\">\n      <th></th>\n      <th>sentiment</th>\n      <th>magnitude</th>\n      <th>state</th>\n      <th>date</th>\n    </tr>\n  </thead>\n  <tbody>\n    <tr>\n      <td>0</td>\n      <td>-0.164179</td>\n      <td>0.700000</td>\n      <td>AK</td>\n      <td>1</td>\n    </tr>\n    <tr>\n      <td>1</td>\n      <td>-0.155914</td>\n      <td>0.640246</td>\n      <td>AL</td>\n      <td>1</td>\n    </tr>\n    <tr>\n      <td>2</td>\n      <td>-0.179669</td>\n      <td>0.676359</td>\n      <td>AR</td>\n      <td>1</td>\n    </tr>\n    <tr>\n      <td>3</td>\n      <td>-0.170283</td>\n      <td>0.675881</td>\n      <td>AZ</td>\n      <td>1</td>\n    </tr>\n    <tr>\n      <td>4</td>\n      <td>-0.167857</td>\n      <td>0.680188</td>\n      <td>CA</td>\n      <td>1</td>\n    </tr>\n    <tr>\n      <td>...</td>\n      <td>...</td>\n      <td>...</td>\n      <td>...</td>\n      <td>...</td>\n    </tr>\n    <tr>\n      <td>1495</td>\n      <td>-0.142558</td>\n      <td>0.710310</td>\n      <td>VA</td>\n      <td>30</td>\n    </tr>\n    <tr>\n      <td>1496</td>\n      <td>-0.182609</td>\n      <td>0.866667</td>\n      <td>VT</td>\n      <td>30</td>\n    </tr>\n    <tr>\n      <td>1497</td>\n      <td>-0.105985</td>\n      <td>0.663175</td>\n      <td>WA</td>\n      <td>30</td>\n    </tr>\n    <tr>\n      <td>1498</td>\n      <td>-0.155979</td>\n      <td>0.735009</td>\n      <td>WI</td>\n      <td>30</td>\n    </tr>\n    <tr>\n      <td>1499</td>\n      <td>-0.207018</td>\n      <td>0.684211</td>\n      <td>WY</td>\n      <td>30</td>\n    </tr>\n  </tbody>\n</table>\n<p>1500 rows × 4 columns</p>\n</div>"
     },
     "metadata": {},
     "execution_count": 4
    }
   ],
   "source": [
    "sentiment = pd.read_csv('./../covid_cases/april_average_sentiment.csv')\n",
    "sentiment"
   ]
  },
  {
   "source": [
    "## Plotting sentiment"
   ],
   "cell_type": "markdown",
   "metadata": {}
  },
  {
   "cell_type": "code",
   "execution_count": 6,
   "metadata": {},
   "outputs": [],
   "source": [
    "utah_covid = covid[covid['state_abbreviation']=='UT']\n",
    "utah_sentiment = sentiment[sentiment['state']=='UT']\n"
   ]
  },
  {
   "cell_type": "code",
   "execution_count": 7,
   "metadata": {},
   "outputs": [
    {
     "output_type": "execute_result",
     "data": {
      "text/plain": [
       "      sentiment  magnitude state  date\n",
       "44    -0.139954   0.752887    UT     1\n",
       "94    -0.158649   0.673243    UT     2\n",
       "144   -0.136316   0.721316    UT     3\n",
       "194   -0.146809   0.712766    UT     4\n",
       "244   -0.122963   0.618025    UT     5\n",
       "294   -0.114452   0.682751    UT     6\n",
       "344   -0.094226   0.644094    UT     7\n",
       "394   -0.113614   0.626238    UT     8\n",
       "444   -0.089583   0.636458    UT     9\n",
       "494   -0.134746   0.724576    UT    10\n",
       "544   -0.151579   0.713684    UT    11\n",
       "594   -0.085765   0.712100    UT    12\n",
       "644   -0.122039   0.660882    UT    13\n",
       "694   -0.102894   0.659164    UT    14\n",
       "744   -0.142936   0.732133    UT    15\n",
       "794   -0.138875   0.649872    UT    16\n",
       "844   -0.147950   0.687066    UT    17\n",
       "894   -0.154577   0.667606    UT    18\n",
       "944   -0.164952   0.714148    UT    19\n",
       "994   -0.225000   0.796875    UT    20\n",
       "1044  -0.192447   0.671903    UT    21\n",
       "1094  -0.118283   0.695014    UT    22\n",
       "1144  -0.225000   0.796875    UT    23\n",
       "1194  -0.131343   0.652239    UT    24\n",
       "1244  -0.167105   0.667763    UT    25\n",
       "1294  -0.158781   0.663082    UT    26\n",
       "1344  -0.146729   0.707165    UT    27\n",
       "1394  -0.105842   0.655670    UT    28\n",
       "1444  -0.161518   0.659350    UT    29\n",
       "1494  -0.137000   0.754667    UT    30"
      ],
      "text/html": "<div>\n<style scoped>\n    .dataframe tbody tr th:only-of-type {\n        vertical-align: middle;\n    }\n\n    .dataframe tbody tr th {\n        vertical-align: top;\n    }\n\n    .dataframe thead th {\n        text-align: right;\n    }\n</style>\n<table border=\"1\" class=\"dataframe\">\n  <thead>\n    <tr style=\"text-align: right;\">\n      <th></th>\n      <th>sentiment</th>\n      <th>magnitude</th>\n      <th>state</th>\n      <th>date</th>\n    </tr>\n  </thead>\n  <tbody>\n    <tr>\n      <td>44</td>\n      <td>-0.139954</td>\n      <td>0.752887</td>\n      <td>UT</td>\n      <td>1</td>\n    </tr>\n    <tr>\n      <td>94</td>\n      <td>-0.158649</td>\n      <td>0.673243</td>\n      <td>UT</td>\n      <td>2</td>\n    </tr>\n    <tr>\n      <td>144</td>\n      <td>-0.136316</td>\n      <td>0.721316</td>\n      <td>UT</td>\n      <td>3</td>\n    </tr>\n    <tr>\n      <td>194</td>\n      <td>-0.146809</td>\n      <td>0.712766</td>\n      <td>UT</td>\n      <td>4</td>\n    </tr>\n    <tr>\n      <td>244</td>\n      <td>-0.122963</td>\n      <td>0.618025</td>\n      <td>UT</td>\n      <td>5</td>\n    </tr>\n    <tr>\n      <td>294</td>\n      <td>-0.114452</td>\n      <td>0.682751</td>\n      <td>UT</td>\n      <td>6</td>\n    </tr>\n    <tr>\n      <td>344</td>\n      <td>-0.094226</td>\n      <td>0.644094</td>\n      <td>UT</td>\n      <td>7</td>\n    </tr>\n    <tr>\n      <td>394</td>\n      <td>-0.113614</td>\n      <td>0.626238</td>\n      <td>UT</td>\n      <td>8</td>\n    </tr>\n    <tr>\n      <td>444</td>\n      <td>-0.089583</td>\n      <td>0.636458</td>\n      <td>UT</td>\n      <td>9</td>\n    </tr>\n    <tr>\n      <td>494</td>\n      <td>-0.134746</td>\n      <td>0.724576</td>\n      <td>UT</td>\n      <td>10</td>\n    </tr>\n    <tr>\n      <td>544</td>\n      <td>-0.151579</td>\n      <td>0.713684</td>\n      <td>UT</td>\n      <td>11</td>\n    </tr>\n    <tr>\n      <td>594</td>\n      <td>-0.085765</td>\n      <td>0.712100</td>\n      <td>UT</td>\n      <td>12</td>\n    </tr>\n    <tr>\n      <td>644</td>\n      <td>-0.122039</td>\n      <td>0.660882</td>\n      <td>UT</td>\n      <td>13</td>\n    </tr>\n    <tr>\n      <td>694</td>\n      <td>-0.102894</td>\n      <td>0.659164</td>\n      <td>UT</td>\n      <td>14</td>\n    </tr>\n    <tr>\n      <td>744</td>\n      <td>-0.142936</td>\n      <td>0.732133</td>\n      <td>UT</td>\n      <td>15</td>\n    </tr>\n    <tr>\n      <td>794</td>\n      <td>-0.138875</td>\n      <td>0.649872</td>\n      <td>UT</td>\n      <td>16</td>\n    </tr>\n    <tr>\n      <td>844</td>\n      <td>-0.147950</td>\n      <td>0.687066</td>\n      <td>UT</td>\n      <td>17</td>\n    </tr>\n    <tr>\n      <td>894</td>\n      <td>-0.154577</td>\n      <td>0.667606</td>\n      <td>UT</td>\n      <td>18</td>\n    </tr>\n    <tr>\n      <td>944</td>\n      <td>-0.164952</td>\n      <td>0.714148</td>\n      <td>UT</td>\n      <td>19</td>\n    </tr>\n    <tr>\n      <td>994</td>\n      <td>-0.225000</td>\n      <td>0.796875</td>\n      <td>UT</td>\n      <td>20</td>\n    </tr>\n    <tr>\n      <td>1044</td>\n      <td>-0.192447</td>\n      <td>0.671903</td>\n      <td>UT</td>\n      <td>21</td>\n    </tr>\n    <tr>\n      <td>1094</td>\n      <td>-0.118283</td>\n      <td>0.695014</td>\n      <td>UT</td>\n      <td>22</td>\n    </tr>\n    <tr>\n      <td>1144</td>\n      <td>-0.225000</td>\n      <td>0.796875</td>\n      <td>UT</td>\n      <td>23</td>\n    </tr>\n    <tr>\n      <td>1194</td>\n      <td>-0.131343</td>\n      <td>0.652239</td>\n      <td>UT</td>\n      <td>24</td>\n    </tr>\n    <tr>\n      <td>1244</td>\n      <td>-0.167105</td>\n      <td>0.667763</td>\n      <td>UT</td>\n      <td>25</td>\n    </tr>\n    <tr>\n      <td>1294</td>\n      <td>-0.158781</td>\n      <td>0.663082</td>\n      <td>UT</td>\n      <td>26</td>\n    </tr>\n    <tr>\n      <td>1344</td>\n      <td>-0.146729</td>\n      <td>0.707165</td>\n      <td>UT</td>\n      <td>27</td>\n    </tr>\n    <tr>\n      <td>1394</td>\n      <td>-0.105842</td>\n      <td>0.655670</td>\n      <td>UT</td>\n      <td>28</td>\n    </tr>\n    <tr>\n      <td>1444</td>\n      <td>-0.161518</td>\n      <td>0.659350</td>\n      <td>UT</td>\n      <td>29</td>\n    </tr>\n    <tr>\n      <td>1494</td>\n      <td>-0.137000</td>\n      <td>0.754667</td>\n      <td>UT</td>\n      <td>30</td>\n    </tr>\n  </tbody>\n</table>\n</div>"
     },
     "metadata": {},
     "execution_count": 7
    }
   ],
   "source": [
    "utah_sentiment"
   ]
  },
  {
   "cell_type": "code",
   "execution_count": 8,
   "metadata": {},
   "outputs": [
    {
     "output_type": "execute_result",
     "data": {
      "text/plain": [
       "<matplotlib.axes._subplots.AxesSubplot at 0x1c953f157c8>"
      ]
     },
     "metadata": {},
     "execution_count": 8
    },
    {
     "output_type": "display_data",
     "data": {
      "text/plain": "<Figure size 432x288 with 2 Axes>",
      "image/svg+xml": "<?xml version=\"1.0\" encoding=\"utf-8\" standalone=\"no\"?>\r\n<!DOCTYPE svg PUBLIC \"-//W3C//DTD SVG 1.1//EN\"\r\n  \"http://www.w3.org/Graphics/SVG/1.1/DTD/svg11.dtd\">\r\n<!-- Created with matplotlib (https://matplotlib.org/) -->\r\n<svg height=\"264.574747pt\" version=\"1.1\" viewBox=\"0 0 456.470312 264.574747\" width=\"456.470312pt\" xmlns=\"http://www.w3.org/2000/svg\" xmlns:xlink=\"http://www.w3.org/1999/xlink\">\r\n <defs>\r\n  <style type=\"text/css\">\r\n*{stroke-linecap:butt;stroke-linejoin:round;}\r\n  </style>\r\n </defs>\r\n <g id=\"figure_1\">\r\n  <g id=\"patch_1\">\r\n   <path d=\"M 0 264.574747 \r\nL 456.470312 264.574747 \r\nL 456.470312 0 \r\nL 0 0 \r\nz\r\n\" style=\"fill:none;\"/>\r\n  </g>\r\n  <g id=\"axes_1\">\r\n   <g id=\"patch_2\">\r\n    <path d=\"M 63.146875 226.740372 \r\nL 397.946875 226.740372 \r\nL 397.946875 9.300372 \r\nL 63.146875 9.300372 \r\nz\r\n\" style=\"fill:#ffffff;\"/>\r\n   </g>\r\n   <g id=\"matplotlib.axis_1\">\r\n    <g id=\"xtick_1\">\r\n     <g id=\"line2d_1\">\r\n      <defs>\r\n       <path d=\"M 0 0 \r\nL 0 3.5 \r\n\" id=\"md8a4c210a7\" style=\"stroke:#000000;stroke-width:0.8;\"/>\r\n      </defs>\r\n      <g>\r\n       <use style=\"stroke:#000000;stroke-width:0.8;\" x=\"67.869759\" xlink:href=\"#md8a4c210a7\" y=\"226.740372\"/>\r\n      </g>\r\n     </g>\r\n     <g id=\"text_1\">\r\n      <!-- 0 -->\r\n      <defs>\r\n       <path d=\"M 31.78125 66.40625 \r\nQ 24.171875 66.40625 20.328125 58.90625 \r\nQ 16.5 51.421875 16.5 36.375 \r\nQ 16.5 21.390625 20.328125 13.890625 \r\nQ 24.171875 6.390625 31.78125 6.390625 \r\nQ 39.453125 6.390625 43.28125 13.890625 \r\nQ 47.125 21.390625 47.125 36.375 \r\nQ 47.125 51.421875 43.28125 58.90625 \r\nQ 39.453125 66.40625 31.78125 66.40625 \r\nz\r\nM 31.78125 74.21875 \r\nQ 44.046875 74.21875 50.515625 64.515625 \r\nQ 56.984375 54.828125 56.984375 36.375 \r\nQ 56.984375 17.96875 50.515625 8.265625 \r\nQ 44.046875 -1.421875 31.78125 -1.421875 \r\nQ 19.53125 -1.421875 13.0625 8.265625 \r\nQ 6.59375 17.96875 6.59375 36.375 \r\nQ 6.59375 54.828125 13.0625 64.515625 \r\nQ 19.53125 74.21875 31.78125 74.21875 \r\nz\r\n\" id=\"DejaVuSans-48\"/>\r\n      </defs>\r\n      <g transform=\"translate(64.688509 241.33881)scale(0.1 -0.1)\">\r\n       <use xlink:href=\"#DejaVuSans-48\"/>\r\n      </g>\r\n     </g>\r\n    </g>\r\n    <g id=\"xtick_2\">\r\n     <g id=\"line2d_2\">\r\n      <g>\r\n       <use style=\"stroke:#000000;stroke-width:0.8;\" x=\"120.346248\" xlink:href=\"#md8a4c210a7\" y=\"226.740372\"/>\r\n      </g>\r\n     </g>\r\n     <g id=\"text_2\">\r\n      <!-- 5 -->\r\n      <defs>\r\n       <path d=\"M 10.796875 72.90625 \r\nL 49.515625 72.90625 \r\nL 49.515625 64.59375 \r\nL 19.828125 64.59375 \r\nL 19.828125 46.734375 \r\nQ 21.96875 47.46875 24.109375 47.828125 \r\nQ 26.265625 48.1875 28.421875 48.1875 \r\nQ 40.625 48.1875 47.75 41.5 \r\nQ 54.890625 34.8125 54.890625 23.390625 \r\nQ 54.890625 11.625 47.5625 5.09375 \r\nQ 40.234375 -1.421875 26.90625 -1.421875 \r\nQ 22.3125 -1.421875 17.546875 -0.640625 \r\nQ 12.796875 0.140625 7.71875 1.703125 \r\nL 7.71875 11.625 \r\nQ 12.109375 9.234375 16.796875 8.0625 \r\nQ 21.484375 6.890625 26.703125 6.890625 \r\nQ 35.15625 6.890625 40.078125 11.328125 \r\nQ 45.015625 15.765625 45.015625 23.390625 \r\nQ 45.015625 31 40.078125 35.4375 \r\nQ 35.15625 39.890625 26.703125 39.890625 \r\nQ 22.75 39.890625 18.8125 39.015625 \r\nQ 14.890625 38.140625 10.796875 36.28125 \r\nz\r\n\" id=\"DejaVuSans-53\"/>\r\n      </defs>\r\n      <g transform=\"translate(117.164998 241.33881)scale(0.1 -0.1)\">\r\n       <use xlink:href=\"#DejaVuSans-53\"/>\r\n      </g>\r\n     </g>\r\n    </g>\r\n    <g id=\"xtick_3\">\r\n     <g id=\"line2d_3\">\r\n      <g>\r\n       <use style=\"stroke:#000000;stroke-width:0.8;\" x=\"172.822737\" xlink:href=\"#md8a4c210a7\" y=\"226.740372\"/>\r\n      </g>\r\n     </g>\r\n     <g id=\"text_3\">\r\n      <!-- 10 -->\r\n      <defs>\r\n       <path d=\"M 12.40625 8.296875 \r\nL 28.515625 8.296875 \r\nL 28.515625 63.921875 \r\nL 10.984375 60.40625 \r\nL 10.984375 69.390625 \r\nL 28.421875 72.90625 \r\nL 38.28125 72.90625 \r\nL 38.28125 8.296875 \r\nL 54.390625 8.296875 \r\nL 54.390625 0 \r\nL 12.40625 0 \r\nz\r\n\" id=\"DejaVuSans-49\"/>\r\n      </defs>\r\n      <g transform=\"translate(166.460237 241.33881)scale(0.1 -0.1)\">\r\n       <use xlink:href=\"#DejaVuSans-49\"/>\r\n       <use x=\"63.623047\" xlink:href=\"#DejaVuSans-48\"/>\r\n      </g>\r\n     </g>\r\n    </g>\r\n    <g id=\"xtick_4\">\r\n     <g id=\"line2d_4\">\r\n      <g>\r\n       <use style=\"stroke:#000000;stroke-width:0.8;\" x=\"225.299226\" xlink:href=\"#md8a4c210a7\" y=\"226.740372\"/>\r\n      </g>\r\n     </g>\r\n     <g id=\"text_4\">\r\n      <!-- 15 -->\r\n      <g transform=\"translate(218.936726 241.33881)scale(0.1 -0.1)\">\r\n       <use xlink:href=\"#DejaVuSans-49\"/>\r\n       <use x=\"63.623047\" xlink:href=\"#DejaVuSans-53\"/>\r\n      </g>\r\n     </g>\r\n    </g>\r\n    <g id=\"xtick_5\">\r\n     <g id=\"line2d_5\">\r\n      <g>\r\n       <use style=\"stroke:#000000;stroke-width:0.8;\" x=\"277.775715\" xlink:href=\"#md8a4c210a7\" y=\"226.740372\"/>\r\n      </g>\r\n     </g>\r\n     <g id=\"text_5\">\r\n      <!-- 20 -->\r\n      <defs>\r\n       <path d=\"M 19.1875 8.296875 \r\nL 53.609375 8.296875 \r\nL 53.609375 0 \r\nL 7.328125 0 \r\nL 7.328125 8.296875 \r\nQ 12.9375 14.109375 22.625 23.890625 \r\nQ 32.328125 33.6875 34.8125 36.53125 \r\nQ 39.546875 41.84375 41.421875 45.53125 \r\nQ 43.3125 49.21875 43.3125 52.78125 \r\nQ 43.3125 58.59375 39.234375 62.25 \r\nQ 35.15625 65.921875 28.609375 65.921875 \r\nQ 23.96875 65.921875 18.8125 64.3125 \r\nQ 13.671875 62.703125 7.8125 59.421875 \r\nL 7.8125 69.390625 \r\nQ 13.765625 71.78125 18.9375 73 \r\nQ 24.125 74.21875 28.421875 74.21875 \r\nQ 39.75 74.21875 46.484375 68.546875 \r\nQ 53.21875 62.890625 53.21875 53.421875 \r\nQ 53.21875 48.921875 51.53125 44.890625 \r\nQ 49.859375 40.875 45.40625 35.40625 \r\nQ 44.1875 33.984375 37.640625 27.21875 \r\nQ 31.109375 20.453125 19.1875 8.296875 \r\nz\r\n\" id=\"DejaVuSans-50\"/>\r\n      </defs>\r\n      <g transform=\"translate(271.413215 241.33881)scale(0.1 -0.1)\">\r\n       <use xlink:href=\"#DejaVuSans-50\"/>\r\n       <use x=\"63.623047\" xlink:href=\"#DejaVuSans-48\"/>\r\n      </g>\r\n     </g>\r\n    </g>\r\n    <g id=\"xtick_6\">\r\n     <g id=\"line2d_6\">\r\n      <g>\r\n       <use style=\"stroke:#000000;stroke-width:0.8;\" x=\"330.252204\" xlink:href=\"#md8a4c210a7\" y=\"226.740372\"/>\r\n      </g>\r\n     </g>\r\n     <g id=\"text_6\">\r\n      <!-- 25 -->\r\n      <g transform=\"translate(323.889704 241.33881)scale(0.1 -0.1)\">\r\n       <use xlink:href=\"#DejaVuSans-50\"/>\r\n       <use x=\"63.623047\" xlink:href=\"#DejaVuSans-53\"/>\r\n      </g>\r\n     </g>\r\n    </g>\r\n    <g id=\"xtick_7\">\r\n     <g id=\"line2d_7\">\r\n      <g>\r\n       <use style=\"stroke:#000000;stroke-width:0.8;\" x=\"382.728693\" xlink:href=\"#md8a4c210a7\" y=\"226.740372\"/>\r\n      </g>\r\n     </g>\r\n     <g id=\"text_7\">\r\n      <!-- 30 -->\r\n      <defs>\r\n       <path d=\"M 40.578125 39.3125 \r\nQ 47.65625 37.796875 51.625 33 \r\nQ 55.609375 28.21875 55.609375 21.1875 \r\nQ 55.609375 10.40625 48.1875 4.484375 \r\nQ 40.765625 -1.421875 27.09375 -1.421875 \r\nQ 22.515625 -1.421875 17.65625 -0.515625 \r\nQ 12.796875 0.390625 7.625 2.203125 \r\nL 7.625 11.71875 \r\nQ 11.71875 9.328125 16.59375 8.109375 \r\nQ 21.484375 6.890625 26.8125 6.890625 \r\nQ 36.078125 6.890625 40.9375 10.546875 \r\nQ 45.796875 14.203125 45.796875 21.1875 \r\nQ 45.796875 27.640625 41.28125 31.265625 \r\nQ 36.765625 34.90625 28.71875 34.90625 \r\nL 20.21875 34.90625 \r\nL 20.21875 43.015625 \r\nL 29.109375 43.015625 \r\nQ 36.375 43.015625 40.234375 45.921875 \r\nQ 44.09375 48.828125 44.09375 54.296875 \r\nQ 44.09375 59.90625 40.109375 62.90625 \r\nQ 36.140625 65.921875 28.71875 65.921875 \r\nQ 24.65625 65.921875 20.015625 65.03125 \r\nQ 15.375 64.15625 9.8125 62.3125 \r\nL 9.8125 71.09375 \r\nQ 15.4375 72.65625 20.34375 73.4375 \r\nQ 25.25 74.21875 29.59375 74.21875 \r\nQ 40.828125 74.21875 47.359375 69.109375 \r\nQ 53.90625 64.015625 53.90625 55.328125 \r\nQ 53.90625 49.265625 50.4375 45.09375 \r\nQ 46.96875 40.921875 40.578125 39.3125 \r\nz\r\n\" id=\"DejaVuSans-51\"/>\r\n      </defs>\r\n      <g transform=\"translate(376.366193 241.33881)scale(0.1 -0.1)\">\r\n       <use xlink:href=\"#DejaVuSans-51\"/>\r\n       <use x=\"63.623047\" xlink:href=\"#DejaVuSans-48\"/>\r\n      </g>\r\n     </g>\r\n    </g>\r\n    <g id=\"text_8\">\r\n     <!-- short_date -->\r\n     <defs>\r\n      <path d=\"M 44.28125 53.078125 \r\nL 44.28125 44.578125 \r\nQ 40.484375 46.53125 36.375 47.5 \r\nQ 32.28125 48.484375 27.875 48.484375 \r\nQ 21.1875 48.484375 17.84375 46.4375 \r\nQ 14.5 44.390625 14.5 40.28125 \r\nQ 14.5 37.15625 16.890625 35.375 \r\nQ 19.28125 33.59375 26.515625 31.984375 \r\nL 29.59375 31.296875 \r\nQ 39.15625 29.25 43.1875 25.515625 \r\nQ 47.21875 21.78125 47.21875 15.09375 \r\nQ 47.21875 7.46875 41.1875 3.015625 \r\nQ 35.15625 -1.421875 24.609375 -1.421875 \r\nQ 20.21875 -1.421875 15.453125 -0.5625 \r\nQ 10.6875 0.296875 5.421875 2 \r\nL 5.421875 11.28125 \r\nQ 10.40625 8.6875 15.234375 7.390625 \r\nQ 20.0625 6.109375 24.8125 6.109375 \r\nQ 31.15625 6.109375 34.5625 8.28125 \r\nQ 37.984375 10.453125 37.984375 14.40625 \r\nQ 37.984375 18.0625 35.515625 20.015625 \r\nQ 33.0625 21.96875 24.703125 23.78125 \r\nL 21.578125 24.515625 \r\nQ 13.234375 26.265625 9.515625 29.90625 \r\nQ 5.8125 33.546875 5.8125 39.890625 \r\nQ 5.8125 47.609375 11.28125 51.796875 \r\nQ 16.75 56 26.8125 56 \r\nQ 31.78125 56 36.171875 55.265625 \r\nQ 40.578125 54.546875 44.28125 53.078125 \r\nz\r\n\" id=\"DejaVuSans-115\"/>\r\n      <path d=\"M 54.890625 33.015625 \r\nL 54.890625 0 \r\nL 45.90625 0 \r\nL 45.90625 32.71875 \r\nQ 45.90625 40.484375 42.875 44.328125 \r\nQ 39.84375 48.1875 33.796875 48.1875 \r\nQ 26.515625 48.1875 22.3125 43.546875 \r\nQ 18.109375 38.921875 18.109375 30.90625 \r\nL 18.109375 0 \r\nL 9.078125 0 \r\nL 9.078125 75.984375 \r\nL 18.109375 75.984375 \r\nL 18.109375 46.1875 \r\nQ 21.34375 51.125 25.703125 53.5625 \r\nQ 30.078125 56 35.796875 56 \r\nQ 45.21875 56 50.046875 50.171875 \r\nQ 54.890625 44.34375 54.890625 33.015625 \r\nz\r\n\" id=\"DejaVuSans-104\"/>\r\n      <path d=\"M 30.609375 48.390625 \r\nQ 23.390625 48.390625 19.1875 42.75 \r\nQ 14.984375 37.109375 14.984375 27.296875 \r\nQ 14.984375 17.484375 19.15625 11.84375 \r\nQ 23.34375 6.203125 30.609375 6.203125 \r\nQ 37.796875 6.203125 41.984375 11.859375 \r\nQ 46.1875 17.53125 46.1875 27.296875 \r\nQ 46.1875 37.015625 41.984375 42.703125 \r\nQ 37.796875 48.390625 30.609375 48.390625 \r\nz\r\nM 30.609375 56 \r\nQ 42.328125 56 49.015625 48.375 \r\nQ 55.71875 40.765625 55.71875 27.296875 \r\nQ 55.71875 13.875 49.015625 6.21875 \r\nQ 42.328125 -1.421875 30.609375 -1.421875 \r\nQ 18.84375 -1.421875 12.171875 6.21875 \r\nQ 5.515625 13.875 5.515625 27.296875 \r\nQ 5.515625 40.765625 12.171875 48.375 \r\nQ 18.84375 56 30.609375 56 \r\nz\r\n\" id=\"DejaVuSans-111\"/>\r\n      <path d=\"M 41.109375 46.296875 \r\nQ 39.59375 47.171875 37.8125 47.578125 \r\nQ 36.03125 48 33.890625 48 \r\nQ 26.265625 48 22.1875 43.046875 \r\nQ 18.109375 38.09375 18.109375 28.8125 \r\nL 18.109375 0 \r\nL 9.078125 0 \r\nL 9.078125 54.6875 \r\nL 18.109375 54.6875 \r\nL 18.109375 46.1875 \r\nQ 20.953125 51.171875 25.484375 53.578125 \r\nQ 30.03125 56 36.53125 56 \r\nQ 37.453125 56 38.578125 55.875 \r\nQ 39.703125 55.765625 41.0625 55.515625 \r\nz\r\n\" id=\"DejaVuSans-114\"/>\r\n      <path d=\"M 18.3125 70.21875 \r\nL 18.3125 54.6875 \r\nL 36.8125 54.6875 \r\nL 36.8125 47.703125 \r\nL 18.3125 47.703125 \r\nL 18.3125 18.015625 \r\nQ 18.3125 11.328125 20.140625 9.421875 \r\nQ 21.96875 7.515625 27.59375 7.515625 \r\nL 36.8125 7.515625 \r\nL 36.8125 0 \r\nL 27.59375 0 \r\nQ 17.1875 0 13.234375 3.875 \r\nQ 9.28125 7.765625 9.28125 18.015625 \r\nL 9.28125 47.703125 \r\nL 2.6875 47.703125 \r\nL 2.6875 54.6875 \r\nL 9.28125 54.6875 \r\nL 9.28125 70.21875 \r\nz\r\n\" id=\"DejaVuSans-116\"/>\r\n      <path d=\"M 50.984375 -16.609375 \r\nL 50.984375 -23.578125 \r\nL -0.984375 -23.578125 \r\nL -0.984375 -16.609375 \r\nz\r\n\" id=\"DejaVuSans-95\"/>\r\n      <path d=\"M 45.40625 46.390625 \r\nL 45.40625 75.984375 \r\nL 54.390625 75.984375 \r\nL 54.390625 0 \r\nL 45.40625 0 \r\nL 45.40625 8.203125 \r\nQ 42.578125 3.328125 38.25 0.953125 \r\nQ 33.9375 -1.421875 27.875 -1.421875 \r\nQ 17.96875 -1.421875 11.734375 6.484375 \r\nQ 5.515625 14.40625 5.515625 27.296875 \r\nQ 5.515625 40.1875 11.734375 48.09375 \r\nQ 17.96875 56 27.875 56 \r\nQ 33.9375 56 38.25 53.625 \r\nQ 42.578125 51.265625 45.40625 46.390625 \r\nz\r\nM 14.796875 27.296875 \r\nQ 14.796875 17.390625 18.875 11.75 \r\nQ 22.953125 6.109375 30.078125 6.109375 \r\nQ 37.203125 6.109375 41.296875 11.75 \r\nQ 45.40625 17.390625 45.40625 27.296875 \r\nQ 45.40625 37.203125 41.296875 42.84375 \r\nQ 37.203125 48.484375 30.078125 48.484375 \r\nQ 22.953125 48.484375 18.875 42.84375 \r\nQ 14.796875 37.203125 14.796875 27.296875 \r\nz\r\n\" id=\"DejaVuSans-100\"/>\r\n      <path d=\"M 34.28125 27.484375 \r\nQ 23.390625 27.484375 19.1875 25 \r\nQ 14.984375 22.515625 14.984375 16.5 \r\nQ 14.984375 11.71875 18.140625 8.90625 \r\nQ 21.296875 6.109375 26.703125 6.109375 \r\nQ 34.1875 6.109375 38.703125 11.40625 \r\nQ 43.21875 16.703125 43.21875 25.484375 \r\nL 43.21875 27.484375 \r\nz\r\nM 52.203125 31.203125 \r\nL 52.203125 0 \r\nL 43.21875 0 \r\nL 43.21875 8.296875 \r\nQ 40.140625 3.328125 35.546875 0.953125 \r\nQ 30.953125 -1.421875 24.3125 -1.421875 \r\nQ 15.921875 -1.421875 10.953125 3.296875 \r\nQ 6 8.015625 6 15.921875 \r\nQ 6 25.140625 12.171875 29.828125 \r\nQ 18.359375 34.515625 30.609375 34.515625 \r\nL 43.21875 34.515625 \r\nL 43.21875 35.40625 \r\nQ 43.21875 41.609375 39.140625 45 \r\nQ 35.0625 48.390625 27.6875 48.390625 \r\nQ 23 48.390625 18.546875 47.265625 \r\nQ 14.109375 46.140625 10.015625 43.890625 \r\nL 10.015625 52.203125 \r\nQ 14.9375 54.109375 19.578125 55.046875 \r\nQ 24.21875 56 28.609375 56 \r\nQ 40.484375 56 46.34375 49.84375 \r\nQ 52.203125 43.703125 52.203125 31.203125 \r\nz\r\n\" id=\"DejaVuSans-97\"/>\r\n      <path d=\"M 56.203125 29.59375 \r\nL 56.203125 25.203125 \r\nL 14.890625 25.203125 \r\nQ 15.484375 15.921875 20.484375 11.0625 \r\nQ 25.484375 6.203125 34.421875 6.203125 \r\nQ 39.59375 6.203125 44.453125 7.46875 \r\nQ 49.3125 8.734375 54.109375 11.28125 \r\nL 54.109375 2.78125 \r\nQ 49.265625 0.734375 44.1875 -0.34375 \r\nQ 39.109375 -1.421875 33.890625 -1.421875 \r\nQ 20.796875 -1.421875 13.15625 6.1875 \r\nQ 5.515625 13.8125 5.515625 26.8125 \r\nQ 5.515625 40.234375 12.765625 48.109375 \r\nQ 20.015625 56 32.328125 56 \r\nQ 43.359375 56 49.78125 48.890625 \r\nQ 56.203125 41.796875 56.203125 29.59375 \r\nz\r\nM 47.21875 32.234375 \r\nQ 47.125 39.59375 43.09375 43.984375 \r\nQ 39.0625 48.390625 32.421875 48.390625 \r\nQ 24.90625 48.390625 20.390625 44.140625 \r\nQ 15.875 39.890625 15.1875 32.171875 \r\nz\r\n\" id=\"DejaVuSans-101\"/>\r\n     </defs>\r\n     <g transform=\"translate(203.923438 255.016935)scale(0.1 -0.1)\">\r\n      <use xlink:href=\"#DejaVuSans-115\"/>\r\n      <use x=\"52.099609\" xlink:href=\"#DejaVuSans-104\"/>\r\n      <use x=\"115.478516\" xlink:href=\"#DejaVuSans-111\"/>\r\n      <use x=\"176.660156\" xlink:href=\"#DejaVuSans-114\"/>\r\n      <use x=\"217.773438\" xlink:href=\"#DejaVuSans-116\"/>\r\n      <use x=\"256.982422\" xlink:href=\"#DejaVuSans-95\"/>\r\n      <use x=\"306.982422\" xlink:href=\"#DejaVuSans-100\"/>\r\n      <use x=\"370.458984\" xlink:href=\"#DejaVuSans-97\"/>\r\n      <use x=\"431.738281\" xlink:href=\"#DejaVuSans-116\"/>\r\n      <use x=\"470.947266\" xlink:href=\"#DejaVuSans-101\"/>\r\n     </g>\r\n    </g>\r\n   </g>\r\n   <g id=\"matplotlib.axis_2\">\r\n    <g id=\"ytick_1\">\r\n     <g id=\"line2d_8\">\r\n      <defs>\r\n       <path d=\"M 0 0 \r\nL -3.5 0 \r\n\" id=\"mf38b583142\" style=\"stroke:#000000;stroke-width:0.8;\"/>\r\n      </defs>\r\n      <g>\r\n       <use style=\"stroke:#000000;stroke-width:0.8;\" x=\"63.146875\" xlink:href=\"#mf38b583142\" y=\"216.856736\"/>\r\n      </g>\r\n     </g>\r\n     <g id=\"text_9\">\r\n      <!-- 0.0000 -->\r\n      <defs>\r\n       <path d=\"M 10.6875 12.40625 \r\nL 21 12.40625 \r\nL 21 0 \r\nL 10.6875 0 \r\nz\r\n\" id=\"DejaVuSans-46\"/>\r\n      </defs>\r\n      <g transform=\"translate(21.15625 220.655955)scale(0.1 -0.1)\">\r\n       <use xlink:href=\"#DejaVuSans-48\"/>\r\n       <use x=\"63.623047\" xlink:href=\"#DejaVuSans-46\"/>\r\n       <use x=\"95.410156\" xlink:href=\"#DejaVuSans-48\"/>\r\n       <use x=\"159.033203\" xlink:href=\"#DejaVuSans-48\"/>\r\n       <use x=\"222.65625\" xlink:href=\"#DejaVuSans-48\"/>\r\n       <use x=\"286.279297\" xlink:href=\"#DejaVuSans-48\"/>\r\n      </g>\r\n     </g>\r\n    </g>\r\n    <g id=\"ytick_2\">\r\n     <g id=\"line2d_9\">\r\n      <g>\r\n       <use style=\"stroke:#000000;stroke-width:0.8;\" x=\"63.146875\" xlink:href=\"#mf38b583142\" y=\"190.905351\"/>\r\n      </g>\r\n     </g>\r\n     <g id=\"text_10\">\r\n      <!-- 0.0002 -->\r\n      <g transform=\"translate(21.15625 194.70457)scale(0.1 -0.1)\">\r\n       <use xlink:href=\"#DejaVuSans-48\"/>\r\n       <use x=\"63.623047\" xlink:href=\"#DejaVuSans-46\"/>\r\n       <use x=\"95.410156\" xlink:href=\"#DejaVuSans-48\"/>\r\n       <use x=\"159.033203\" xlink:href=\"#DejaVuSans-48\"/>\r\n       <use x=\"222.65625\" xlink:href=\"#DejaVuSans-48\"/>\r\n       <use x=\"286.279297\" xlink:href=\"#DejaVuSans-50\"/>\r\n      </g>\r\n     </g>\r\n    </g>\r\n    <g id=\"ytick_3\">\r\n     <g id=\"line2d_10\">\r\n      <g>\r\n       <use style=\"stroke:#000000;stroke-width:0.8;\" x=\"63.146875\" xlink:href=\"#mf38b583142\" y=\"164.953966\"/>\r\n      </g>\r\n     </g>\r\n     <g id=\"text_11\">\r\n      <!-- 0.0004 -->\r\n      <defs>\r\n       <path d=\"M 37.796875 64.3125 \r\nL 12.890625 25.390625 \r\nL 37.796875 25.390625 \r\nz\r\nM 35.203125 72.90625 \r\nL 47.609375 72.90625 \r\nL 47.609375 25.390625 \r\nL 58.015625 25.390625 \r\nL 58.015625 17.1875 \r\nL 47.609375 17.1875 \r\nL 47.609375 0 \r\nL 37.796875 0 \r\nL 37.796875 17.1875 \r\nL 4.890625 17.1875 \r\nL 4.890625 26.703125 \r\nz\r\n\" id=\"DejaVuSans-52\"/>\r\n      </defs>\r\n      <g transform=\"translate(21.15625 168.753185)scale(0.1 -0.1)\">\r\n       <use xlink:href=\"#DejaVuSans-48\"/>\r\n       <use x=\"63.623047\" xlink:href=\"#DejaVuSans-46\"/>\r\n       <use x=\"95.410156\" xlink:href=\"#DejaVuSans-48\"/>\r\n       <use x=\"159.033203\" xlink:href=\"#DejaVuSans-48\"/>\r\n       <use x=\"222.65625\" xlink:href=\"#DejaVuSans-48\"/>\r\n       <use x=\"286.279297\" xlink:href=\"#DejaVuSans-52\"/>\r\n      </g>\r\n     </g>\r\n    </g>\r\n    <g id=\"ytick_4\">\r\n     <g id=\"line2d_11\">\r\n      <g>\r\n       <use style=\"stroke:#000000;stroke-width:0.8;\" x=\"63.146875\" xlink:href=\"#mf38b583142\" y=\"139.002581\"/>\r\n      </g>\r\n     </g>\r\n     <g id=\"text_12\">\r\n      <!-- 0.0006 -->\r\n      <defs>\r\n       <path d=\"M 33.015625 40.375 \r\nQ 26.375 40.375 22.484375 35.828125 \r\nQ 18.609375 31.296875 18.609375 23.390625 \r\nQ 18.609375 15.53125 22.484375 10.953125 \r\nQ 26.375 6.390625 33.015625 6.390625 \r\nQ 39.65625 6.390625 43.53125 10.953125 \r\nQ 47.40625 15.53125 47.40625 23.390625 \r\nQ 47.40625 31.296875 43.53125 35.828125 \r\nQ 39.65625 40.375 33.015625 40.375 \r\nz\r\nM 52.59375 71.296875 \r\nL 52.59375 62.3125 \r\nQ 48.875 64.0625 45.09375 64.984375 \r\nQ 41.3125 65.921875 37.59375 65.921875 \r\nQ 27.828125 65.921875 22.671875 59.328125 \r\nQ 17.53125 52.734375 16.796875 39.40625 \r\nQ 19.671875 43.65625 24.015625 45.921875 \r\nQ 28.375 48.1875 33.59375 48.1875 \r\nQ 44.578125 48.1875 50.953125 41.515625 \r\nQ 57.328125 34.859375 57.328125 23.390625 \r\nQ 57.328125 12.15625 50.6875 5.359375 \r\nQ 44.046875 -1.421875 33.015625 -1.421875 \r\nQ 20.359375 -1.421875 13.671875 8.265625 \r\nQ 6.984375 17.96875 6.984375 36.375 \r\nQ 6.984375 53.65625 15.1875 63.9375 \r\nQ 23.390625 74.21875 37.203125 74.21875 \r\nQ 40.921875 74.21875 44.703125 73.484375 \r\nQ 48.484375 72.75 52.59375 71.296875 \r\nz\r\n\" id=\"DejaVuSans-54\"/>\r\n      </defs>\r\n      <g transform=\"translate(21.15625 142.8018)scale(0.1 -0.1)\">\r\n       <use xlink:href=\"#DejaVuSans-48\"/>\r\n       <use x=\"63.623047\" xlink:href=\"#DejaVuSans-46\"/>\r\n       <use x=\"95.410156\" xlink:href=\"#DejaVuSans-48\"/>\r\n       <use x=\"159.033203\" xlink:href=\"#DejaVuSans-48\"/>\r\n       <use x=\"222.65625\" xlink:href=\"#DejaVuSans-48\"/>\r\n       <use x=\"286.279297\" xlink:href=\"#DejaVuSans-54\"/>\r\n      </g>\r\n     </g>\r\n    </g>\r\n    <g id=\"ytick_5\">\r\n     <g id=\"line2d_12\">\r\n      <g>\r\n       <use style=\"stroke:#000000;stroke-width:0.8;\" x=\"63.146875\" xlink:href=\"#mf38b583142\" y=\"113.051196\"/>\r\n      </g>\r\n     </g>\r\n     <g id=\"text_13\">\r\n      <!-- 0.0008 -->\r\n      <defs>\r\n       <path d=\"M 31.78125 34.625 \r\nQ 24.75 34.625 20.71875 30.859375 \r\nQ 16.703125 27.09375 16.703125 20.515625 \r\nQ 16.703125 13.921875 20.71875 10.15625 \r\nQ 24.75 6.390625 31.78125 6.390625 \r\nQ 38.8125 6.390625 42.859375 10.171875 \r\nQ 46.921875 13.96875 46.921875 20.515625 \r\nQ 46.921875 27.09375 42.890625 30.859375 \r\nQ 38.875 34.625 31.78125 34.625 \r\nz\r\nM 21.921875 38.8125 \r\nQ 15.578125 40.375 12.03125 44.71875 \r\nQ 8.5 49.078125 8.5 55.328125 \r\nQ 8.5 64.0625 14.71875 69.140625 \r\nQ 20.953125 74.21875 31.78125 74.21875 \r\nQ 42.671875 74.21875 48.875 69.140625 \r\nQ 55.078125 64.0625 55.078125 55.328125 \r\nQ 55.078125 49.078125 51.53125 44.71875 \r\nQ 48 40.375 41.703125 38.8125 \r\nQ 48.828125 37.15625 52.796875 32.3125 \r\nQ 56.78125 27.484375 56.78125 20.515625 \r\nQ 56.78125 9.90625 50.3125 4.234375 \r\nQ 43.84375 -1.421875 31.78125 -1.421875 \r\nQ 19.734375 -1.421875 13.25 4.234375 \r\nQ 6.78125 9.90625 6.78125 20.515625 \r\nQ 6.78125 27.484375 10.78125 32.3125 \r\nQ 14.796875 37.15625 21.921875 38.8125 \r\nz\r\nM 18.3125 54.390625 \r\nQ 18.3125 48.734375 21.84375 45.5625 \r\nQ 25.390625 42.390625 31.78125 42.390625 \r\nQ 38.140625 42.390625 41.71875 45.5625 \r\nQ 45.3125 48.734375 45.3125 54.390625 \r\nQ 45.3125 60.0625 41.71875 63.234375 \r\nQ 38.140625 66.40625 31.78125 66.40625 \r\nQ 25.390625 66.40625 21.84375 63.234375 \r\nQ 18.3125 60.0625 18.3125 54.390625 \r\nz\r\n\" id=\"DejaVuSans-56\"/>\r\n      </defs>\r\n      <g transform=\"translate(21.15625 116.850415)scale(0.1 -0.1)\">\r\n       <use xlink:href=\"#DejaVuSans-48\"/>\r\n       <use x=\"63.623047\" xlink:href=\"#DejaVuSans-46\"/>\r\n       <use x=\"95.410156\" xlink:href=\"#DejaVuSans-48\"/>\r\n       <use x=\"159.033203\" xlink:href=\"#DejaVuSans-48\"/>\r\n       <use x=\"222.65625\" xlink:href=\"#DejaVuSans-48\"/>\r\n       <use x=\"286.279297\" xlink:href=\"#DejaVuSans-56\"/>\r\n      </g>\r\n     </g>\r\n    </g>\r\n    <g id=\"ytick_6\">\r\n     <g id=\"line2d_13\">\r\n      <g>\r\n       <use style=\"stroke:#000000;stroke-width:0.8;\" x=\"63.146875\" xlink:href=\"#mf38b583142\" y=\"87.099811\"/>\r\n      </g>\r\n     </g>\r\n     <g id=\"text_14\">\r\n      <!-- 0.0010 -->\r\n      <g transform=\"translate(21.15625 90.89903)scale(0.1 -0.1)\">\r\n       <use xlink:href=\"#DejaVuSans-48\"/>\r\n       <use x=\"63.623047\" xlink:href=\"#DejaVuSans-46\"/>\r\n       <use x=\"95.410156\" xlink:href=\"#DejaVuSans-48\"/>\r\n       <use x=\"159.033203\" xlink:href=\"#DejaVuSans-48\"/>\r\n       <use x=\"222.65625\" xlink:href=\"#DejaVuSans-49\"/>\r\n       <use x=\"286.279297\" xlink:href=\"#DejaVuSans-48\"/>\r\n      </g>\r\n     </g>\r\n    </g>\r\n    <g id=\"ytick_7\">\r\n     <g id=\"line2d_14\">\r\n      <g>\r\n       <use style=\"stroke:#000000;stroke-width:0.8;\" x=\"63.146875\" xlink:href=\"#mf38b583142\" y=\"61.148426\"/>\r\n      </g>\r\n     </g>\r\n     <g id=\"text_15\">\r\n      <!-- 0.0012 -->\r\n      <g transform=\"translate(21.15625 64.947645)scale(0.1 -0.1)\">\r\n       <use xlink:href=\"#DejaVuSans-48\"/>\r\n       <use x=\"63.623047\" xlink:href=\"#DejaVuSans-46\"/>\r\n       <use x=\"95.410156\" xlink:href=\"#DejaVuSans-48\"/>\r\n       <use x=\"159.033203\" xlink:href=\"#DejaVuSans-48\"/>\r\n       <use x=\"222.65625\" xlink:href=\"#DejaVuSans-49\"/>\r\n       <use x=\"286.279297\" xlink:href=\"#DejaVuSans-50\"/>\r\n      </g>\r\n     </g>\r\n    </g>\r\n    <g id=\"ytick_8\">\r\n     <g id=\"line2d_15\">\r\n      <g>\r\n       <use style=\"stroke:#000000;stroke-width:0.8;\" x=\"63.146875\" xlink:href=\"#mf38b583142\" y=\"35.197041\"/>\r\n      </g>\r\n     </g>\r\n     <g id=\"text_16\">\r\n      <!-- 0.0014 -->\r\n      <g transform=\"translate(21.15625 38.99626)scale(0.1 -0.1)\">\r\n       <use xlink:href=\"#DejaVuSans-48\"/>\r\n       <use x=\"63.623047\" xlink:href=\"#DejaVuSans-46\"/>\r\n       <use x=\"95.410156\" xlink:href=\"#DejaVuSans-48\"/>\r\n       <use x=\"159.033203\" xlink:href=\"#DejaVuSans-48\"/>\r\n       <use x=\"222.65625\" xlink:href=\"#DejaVuSans-49\"/>\r\n       <use x=\"286.279297\" xlink:href=\"#DejaVuSans-52\"/>\r\n      </g>\r\n     </g>\r\n    </g>\r\n    <g id=\"text_17\">\r\n     <!-- normalized_new_death -->\r\n     <defs>\r\n      <path d=\"M 54.890625 33.015625 \r\nL 54.890625 0 \r\nL 45.90625 0 \r\nL 45.90625 32.71875 \r\nQ 45.90625 40.484375 42.875 44.328125 \r\nQ 39.84375 48.1875 33.796875 48.1875 \r\nQ 26.515625 48.1875 22.3125 43.546875 \r\nQ 18.109375 38.921875 18.109375 30.90625 \r\nL 18.109375 0 \r\nL 9.078125 0 \r\nL 9.078125 54.6875 \r\nL 18.109375 54.6875 \r\nL 18.109375 46.1875 \r\nQ 21.34375 51.125 25.703125 53.5625 \r\nQ 30.078125 56 35.796875 56 \r\nQ 45.21875 56 50.046875 50.171875 \r\nQ 54.890625 44.34375 54.890625 33.015625 \r\nz\r\n\" id=\"DejaVuSans-110\"/>\r\n      <path d=\"M 52 44.1875 \r\nQ 55.375 50.25 60.0625 53.125 \r\nQ 64.75 56 71.09375 56 \r\nQ 79.640625 56 84.28125 50.015625 \r\nQ 88.921875 44.046875 88.921875 33.015625 \r\nL 88.921875 0 \r\nL 79.890625 0 \r\nL 79.890625 32.71875 \r\nQ 79.890625 40.578125 77.09375 44.375 \r\nQ 74.3125 48.1875 68.609375 48.1875 \r\nQ 61.625 48.1875 57.5625 43.546875 \r\nQ 53.515625 38.921875 53.515625 30.90625 \r\nL 53.515625 0 \r\nL 44.484375 0 \r\nL 44.484375 32.71875 \r\nQ 44.484375 40.625 41.703125 44.40625 \r\nQ 38.921875 48.1875 33.109375 48.1875 \r\nQ 26.21875 48.1875 22.15625 43.53125 \r\nQ 18.109375 38.875 18.109375 30.90625 \r\nL 18.109375 0 \r\nL 9.078125 0 \r\nL 9.078125 54.6875 \r\nL 18.109375 54.6875 \r\nL 18.109375 46.1875 \r\nQ 21.1875 51.21875 25.484375 53.609375 \r\nQ 29.78125 56 35.6875 56 \r\nQ 41.65625 56 45.828125 52.96875 \r\nQ 50 49.953125 52 44.1875 \r\nz\r\n\" id=\"DejaVuSans-109\"/>\r\n      <path d=\"M 9.421875 75.984375 \r\nL 18.40625 75.984375 \r\nL 18.40625 0 \r\nL 9.421875 0 \r\nz\r\n\" id=\"DejaVuSans-108\"/>\r\n      <path d=\"M 9.421875 54.6875 \r\nL 18.40625 54.6875 \r\nL 18.40625 0 \r\nL 9.421875 0 \r\nz\r\nM 9.421875 75.984375 \r\nL 18.40625 75.984375 \r\nL 18.40625 64.59375 \r\nL 9.421875 64.59375 \r\nz\r\n\" id=\"DejaVuSans-105\"/>\r\n      <path d=\"M 5.515625 54.6875 \r\nL 48.1875 54.6875 \r\nL 48.1875 46.484375 \r\nL 14.40625 7.171875 \r\nL 48.1875 7.171875 \r\nL 48.1875 0 \r\nL 4.296875 0 \r\nL 4.296875 8.203125 \r\nL 38.09375 47.515625 \r\nL 5.515625 47.515625 \r\nz\r\n\" id=\"DejaVuSans-122\"/>\r\n      <path d=\"M 4.203125 54.6875 \r\nL 13.1875 54.6875 \r\nL 24.421875 12.015625 \r\nL 35.59375 54.6875 \r\nL 46.1875 54.6875 \r\nL 57.421875 12.015625 \r\nL 68.609375 54.6875 \r\nL 77.59375 54.6875 \r\nL 63.28125 0 \r\nL 52.6875 0 \r\nL 40.921875 44.828125 \r\nL 29.109375 0 \r\nL 18.5 0 \r\nz\r\n\" id=\"DejaVuSans-119\"/>\r\n     </defs>\r\n     <g transform=\"translate(14.798438 175.66881)rotate(-90)scale(0.1 -0.1)\">\r\n      <use xlink:href=\"#DejaVuSans-110\"/>\r\n      <use x=\"63.378906\" xlink:href=\"#DejaVuSans-111\"/>\r\n      <use x=\"124.560547\" xlink:href=\"#DejaVuSans-114\"/>\r\n      <use x=\"165.658203\" xlink:href=\"#DejaVuSans-109\"/>\r\n      <use x=\"263.070312\" xlink:href=\"#DejaVuSans-97\"/>\r\n      <use x=\"324.349609\" xlink:href=\"#DejaVuSans-108\"/>\r\n      <use x=\"352.132812\" xlink:href=\"#DejaVuSans-105\"/>\r\n      <use x=\"379.916016\" xlink:href=\"#DejaVuSans-122\"/>\r\n      <use x=\"432.40625\" xlink:href=\"#DejaVuSans-101\"/>\r\n      <use x=\"493.929688\" xlink:href=\"#DejaVuSans-100\"/>\r\n      <use x=\"557.40625\" xlink:href=\"#DejaVuSans-95\"/>\r\n      <use x=\"607.40625\" xlink:href=\"#DejaVuSans-110\"/>\r\n      <use x=\"670.785156\" xlink:href=\"#DejaVuSans-101\"/>\r\n      <use x=\"732.308594\" xlink:href=\"#DejaVuSans-119\"/>\r\n      <use x=\"814.095703\" xlink:href=\"#DejaVuSans-95\"/>\r\n      <use x=\"864.095703\" xlink:href=\"#DejaVuSans-100\"/>\r\n      <use x=\"927.572266\" xlink:href=\"#DejaVuSans-101\"/>\r\n      <use x=\"989.095703\" xlink:href=\"#DejaVuSans-97\"/>\r\n      <use x=\"1050.375\" xlink:href=\"#DejaVuSans-116\"/>\r\n      <use x=\"1089.583984\" xlink:href=\"#DejaVuSans-104\"/>\r\n     </g>\r\n    </g>\r\n   </g>\r\n   <g id=\"line2d_16\">\r\n    <path clip-path=\"url(#p1dccc27f98)\" d=\"M 78.365057 137.787645 \r\nL 88.860355 216.856736 \r\nL 99.355652 216.856736 \r\nL 109.85095 177.322191 \r\nL 120.346248 216.856736 \r\nL 130.841546 19.184009 \r\nL 141.336844 216.856736 \r\nL 151.832141 216.856736 \r\nL 162.327439 137.787645 \r\nL 172.822737 137.787645 \r\nL 183.318035 177.322191 \r\nL 193.813333 216.856736 \r\nL 204.30863 216.856736 \r\nL 214.803928 137.787645 \r\nL 225.299226 177.322191 \r\nL 235.794524 177.322191 \r\nL 246.289822 177.322191 \r\nL 256.78512 137.787645 \r\nL 267.280417 98.2531 \r\nL 277.775715 58.718554 \r\nL 288.271013 137.787645 \r\nL 298.766311 177.322191 \r\nL 309.261609 98.2531 \r\nL 319.756906 177.322191 \r\nL 330.252204 137.787645 \r\nL 340.747502 216.856736 \r\nL 351.2428 98.2531 \r\nL 361.738098 177.322191 \r\nL 372.233395 177.322191 \r\nL 382.728693 216.856736 \r\n\" style=\"fill:none;stroke:#008000;stroke-linecap:square;stroke-width:1.5;\"/>\r\n   </g>\r\n   <g id=\"patch_3\">\r\n    <path d=\"M 63.146875 226.740372 \r\nL 63.146875 9.300372 \r\n\" style=\"fill:none;stroke:#000000;stroke-linecap:square;stroke-linejoin:miter;stroke-width:0.8;\"/>\r\n   </g>\r\n   <g id=\"patch_4\">\r\n    <path d=\"M 397.946875 226.740372 \r\nL 397.946875 9.300372 \r\n\" style=\"fill:none;stroke:#000000;stroke-linecap:square;stroke-linejoin:miter;stroke-width:0.8;\"/>\r\n   </g>\r\n   <g id=\"patch_5\">\r\n    <path d=\"M 63.146875 226.740372 \r\nL 397.946875 226.740372 \r\n\" style=\"fill:none;stroke:#000000;stroke-linecap:square;stroke-linejoin:miter;stroke-width:0.8;\"/>\r\n   </g>\r\n   <g id=\"patch_6\">\r\n    <path d=\"M 63.146875 9.300372 \r\nL 397.946875 9.300372 \r\n\" style=\"fill:none;stroke:#000000;stroke-linecap:square;stroke-linejoin:miter;stroke-width:0.8;\"/>\r\n   </g>\r\n  </g>\r\n  <g id=\"axes_2\">\r\n   <g id=\"matplotlib.axis_3\">\r\n    <g id=\"ytick_9\">\r\n     <g id=\"line2d_17\">\r\n      <defs>\r\n       <path d=\"M 0 0 \r\nL 3.5 0 \r\n\" id=\"ma48b66a738\" style=\"stroke:#000000;stroke-width:0.8;\"/>\r\n      </defs>\r\n      <g>\r\n       <use style=\"stroke:#000000;stroke-width:0.8;\" x=\"397.946875\" xlink:href=\"#ma48b66a738\" y=\"209.758196\"/>\r\n      </g>\r\n     </g>\r\n     <g id=\"text_18\">\r\n      <!-- −0.22 -->\r\n      <defs>\r\n       <path d=\"M 10.59375 35.5 \r\nL 73.1875 35.5 \r\nL 73.1875 27.203125 \r\nL 10.59375 27.203125 \r\nz\r\n\" id=\"DejaVuSans-8722\"/>\r\n      </defs>\r\n      <g transform=\"translate(404.946875 213.557414)scale(0.1 -0.1)\">\r\n       <use xlink:href=\"#DejaVuSans-8722\"/>\r\n       <use x=\"83.789062\" xlink:href=\"#DejaVuSans-48\"/>\r\n       <use x=\"147.412109\" xlink:href=\"#DejaVuSans-46\"/>\r\n       <use x=\"179.199219\" xlink:href=\"#DejaVuSans-50\"/>\r\n       <use x=\"242.822266\" xlink:href=\"#DejaVuSans-50\"/>\r\n      </g>\r\n     </g>\r\n    </g>\r\n    <g id=\"ytick_10\">\r\n     <g id=\"line2d_18\">\r\n      <g>\r\n       <use style=\"stroke:#000000;stroke-width:0.8;\" x=\"397.946875\" xlink:href=\"#ma48b66a738\" y=\"181.364056\"/>\r\n      </g>\r\n     </g>\r\n     <g id=\"text_19\">\r\n      <!-- −0.20 -->\r\n      <g transform=\"translate(404.946875 185.163275)scale(0.1 -0.1)\">\r\n       <use xlink:href=\"#DejaVuSans-8722\"/>\r\n       <use x=\"83.789062\" xlink:href=\"#DejaVuSans-48\"/>\r\n       <use x=\"147.412109\" xlink:href=\"#DejaVuSans-46\"/>\r\n       <use x=\"179.199219\" xlink:href=\"#DejaVuSans-50\"/>\r\n       <use x=\"242.822266\" xlink:href=\"#DejaVuSans-48\"/>\r\n      </g>\r\n     </g>\r\n    </g>\r\n    <g id=\"ytick_11\">\r\n     <g id=\"line2d_19\">\r\n      <g>\r\n       <use style=\"stroke:#000000;stroke-width:0.8;\" x=\"397.946875\" xlink:href=\"#ma48b66a738\" y=\"152.969917\"/>\r\n      </g>\r\n     </g>\r\n     <g id=\"text_20\">\r\n      <!-- −0.18 -->\r\n      <g transform=\"translate(404.946875 156.769135)scale(0.1 -0.1)\">\r\n       <use xlink:href=\"#DejaVuSans-8722\"/>\r\n       <use x=\"83.789062\" xlink:href=\"#DejaVuSans-48\"/>\r\n       <use x=\"147.412109\" xlink:href=\"#DejaVuSans-46\"/>\r\n       <use x=\"179.199219\" xlink:href=\"#DejaVuSans-49\"/>\r\n       <use x=\"242.822266\" xlink:href=\"#DejaVuSans-56\"/>\r\n      </g>\r\n     </g>\r\n    </g>\r\n    <g id=\"ytick_12\">\r\n     <g id=\"line2d_20\">\r\n      <g>\r\n       <use style=\"stroke:#000000;stroke-width:0.8;\" x=\"397.946875\" xlink:href=\"#ma48b66a738\" y=\"124.575777\"/>\r\n      </g>\r\n     </g>\r\n     <g id=\"text_21\">\r\n      <!-- −0.16 -->\r\n      <g transform=\"translate(404.946875 128.374996)scale(0.1 -0.1)\">\r\n       <use xlink:href=\"#DejaVuSans-8722\"/>\r\n       <use x=\"83.789062\" xlink:href=\"#DejaVuSans-48\"/>\r\n       <use x=\"147.412109\" xlink:href=\"#DejaVuSans-46\"/>\r\n       <use x=\"179.199219\" xlink:href=\"#DejaVuSans-49\"/>\r\n       <use x=\"242.822266\" xlink:href=\"#DejaVuSans-54\"/>\r\n      </g>\r\n     </g>\r\n    </g>\r\n    <g id=\"ytick_13\">\r\n     <g id=\"line2d_21\">\r\n      <g>\r\n       <use style=\"stroke:#000000;stroke-width:0.8;\" x=\"397.946875\" xlink:href=\"#ma48b66a738\" y=\"96.181637\"/>\r\n      </g>\r\n     </g>\r\n     <g id=\"text_22\">\r\n      <!-- −0.14 -->\r\n      <g transform=\"translate(404.946875 99.980856)scale(0.1 -0.1)\">\r\n       <use xlink:href=\"#DejaVuSans-8722\"/>\r\n       <use x=\"83.789062\" xlink:href=\"#DejaVuSans-48\"/>\r\n       <use x=\"147.412109\" xlink:href=\"#DejaVuSans-46\"/>\r\n       <use x=\"179.199219\" xlink:href=\"#DejaVuSans-49\"/>\r\n       <use x=\"242.822266\" xlink:href=\"#DejaVuSans-52\"/>\r\n      </g>\r\n     </g>\r\n    </g>\r\n    <g id=\"ytick_14\">\r\n     <g id=\"line2d_22\">\r\n      <g>\r\n       <use style=\"stroke:#000000;stroke-width:0.8;\" x=\"397.946875\" xlink:href=\"#ma48b66a738\" y=\"67.787498\"/>\r\n      </g>\r\n     </g>\r\n     <g id=\"text_23\">\r\n      <!-- −0.12 -->\r\n      <g transform=\"translate(404.946875 71.586717)scale(0.1 -0.1)\">\r\n       <use xlink:href=\"#DejaVuSans-8722\"/>\r\n       <use x=\"83.789062\" xlink:href=\"#DejaVuSans-48\"/>\r\n       <use x=\"147.412109\" xlink:href=\"#DejaVuSans-46\"/>\r\n       <use x=\"179.199219\" xlink:href=\"#DejaVuSans-49\"/>\r\n       <use x=\"242.822266\" xlink:href=\"#DejaVuSans-50\"/>\r\n      </g>\r\n     </g>\r\n    </g>\r\n    <g id=\"ytick_15\">\r\n     <g id=\"line2d_23\">\r\n      <g>\r\n       <use style=\"stroke:#000000;stroke-width:0.8;\" x=\"397.946875\" xlink:href=\"#ma48b66a738\" y=\"39.393358\"/>\r\n      </g>\r\n     </g>\r\n     <g id=\"text_24\">\r\n      <!-- −0.10 -->\r\n      <g transform=\"translate(404.946875 43.192577)scale(0.1 -0.1)\">\r\n       <use xlink:href=\"#DejaVuSans-8722\"/>\r\n       <use x=\"83.789062\" xlink:href=\"#DejaVuSans-48\"/>\r\n       <use x=\"147.412109\" xlink:href=\"#DejaVuSans-46\"/>\r\n       <use x=\"179.199219\" xlink:href=\"#DejaVuSans-49\"/>\r\n       <use x=\"242.822266\" xlink:href=\"#DejaVuSans-48\"/>\r\n      </g>\r\n     </g>\r\n    </g>\r\n    <g id=\"ytick_16\">\r\n     <g id=\"line2d_24\">\r\n      <g>\r\n       <use style=\"stroke:#000000;stroke-width:0.8;\" x=\"397.946875\" xlink:href=\"#ma48b66a738\" y=\"10.999219\"/>\r\n      </g>\r\n     </g>\r\n     <g id=\"text_25\">\r\n      <!-- −0.08 -->\r\n      <g transform=\"translate(404.946875 14.798438)scale(0.1 -0.1)\">\r\n       <use xlink:href=\"#DejaVuSans-8722\"/>\r\n       <use x=\"83.789062\" xlink:href=\"#DejaVuSans-48\"/>\r\n       <use x=\"147.412109\" xlink:href=\"#DejaVuSans-46\"/>\r\n       <use x=\"179.199219\" xlink:href=\"#DejaVuSans-48\"/>\r\n       <use x=\"242.822266\" xlink:href=\"#DejaVuSans-56\"/>\r\n      </g>\r\n     </g>\r\n    </g>\r\n    <g id=\"text_26\">\r\n     <!-- sentiment -->\r\n     <g transform=\"translate(447.190625 143.295372)rotate(-90)scale(0.1 -0.1)\">\r\n      <use xlink:href=\"#DejaVuSans-115\"/>\r\n      <use x=\"52.099609\" xlink:href=\"#DejaVuSans-101\"/>\r\n      <use x=\"113.623047\" xlink:href=\"#DejaVuSans-110\"/>\r\n      <use x=\"177.001953\" xlink:href=\"#DejaVuSans-116\"/>\r\n      <use x=\"216.210938\" xlink:href=\"#DejaVuSans-105\"/>\r\n      <use x=\"243.994141\" xlink:href=\"#DejaVuSans-109\"/>\r\n      <use x=\"341.40625\" xlink:href=\"#DejaVuSans-101\"/>\r\n      <use x=\"402.929688\" xlink:href=\"#DejaVuSans-110\"/>\r\n      <use x=\"466.308594\" xlink:href=\"#DejaVuSans-116\"/>\r\n     </g>\r\n    </g>\r\n   </g>\r\n   <g id=\"line2d_25\">\r\n    <path clip-path=\"url(#p1dccc27f98)\" d=\"M 78.365057 96.116065 \r\nL 88.860355 122.657257 \r\nL 99.355652 90.95114 \r\nL 109.85095 105.84773 \r\nL 120.346248 71.994039 \r\nL 130.841546 59.911271 \r\nL 141.336844 31.195577 \r\nL 151.832141 58.721054 \r\nL 162.327439 24.604746 \r\nL 172.822737 88.722162 \r\nL 183.318035 112.620352 \r\nL 193.813333 19.184009 \r\nL 204.30863 70.681669 \r\nL 214.803928 43.501838 \r\nL 225.299226 100.35031 \r\nL 235.794524 94.584015 \r\nL 246.289822 107.467639 \r\nL 256.78512 116.87737 \r\nL 267.280417 131.605841 \r\nL 277.775715 216.856736 \r\nL 288.271013 170.641198 \r\nL 298.766311 65.349224 \r\nL 309.261609 216.856736 \r\nL 319.756906 83.891639 \r\nL 330.252204 134.663172 \r\nL 340.747502 122.845671 \r\nL 351.2428 105.734809 \r\nL 361.738098 47.687181 \r\nL 372.233395 126.730347 \r\nL 382.728693 91.92252 \r\n\" style=\"fill:none;stroke:#0000ff;stroke-linecap:square;stroke-width:1.5;\"/>\r\n   </g>\r\n   <g id=\"patch_7\">\r\n    <path d=\"M 63.146875 226.740372 \r\nL 63.146875 9.300372 \r\n\" style=\"fill:none;stroke:#000000;stroke-linecap:square;stroke-linejoin:miter;stroke-width:0.8;\"/>\r\n   </g>\r\n   <g id=\"patch_8\">\r\n    <path d=\"M 397.946875 226.740372 \r\nL 397.946875 9.300372 \r\n\" style=\"fill:none;stroke:#000000;stroke-linecap:square;stroke-linejoin:miter;stroke-width:0.8;\"/>\r\n   </g>\r\n   <g id=\"patch_9\">\r\n    <path d=\"M 63.146875 226.740372 \r\nL 397.946875 226.740372 \r\n\" style=\"fill:none;stroke:#000000;stroke-linecap:square;stroke-linejoin:miter;stroke-width:0.8;\"/>\r\n   </g>\r\n   <g id=\"patch_10\">\r\n    <path d=\"M 63.146875 9.300372 \r\nL 397.946875 9.300372 \r\n\" style=\"fill:none;stroke:#000000;stroke-linecap:square;stroke-linejoin:miter;stroke-width:0.8;\"/>\r\n   </g>\r\n  </g>\r\n </g>\r\n <defs>\r\n  <clipPath id=\"p1dccc27f98\">\r\n   <rect height=\"217.44\" width=\"334.8\" x=\"63.146875\" y=\"9.300372\"/>\r\n  </clipPath>\r\n </defs>\r\n</svg>\r\n",
      "image/png": "[encoded data removed]"
     },
     "metadata": {
      "needs_background": "light"
     }
    }
   ],
   "source": [
    "sns.lineplot(y=utah_covid['normalized_new_death'], x=utah_covid['short_date'] , color=\"g\")\n",
    "ax2 = plt.twinx()\n",
    "sns.lineplot(y= utah_sentiment['sentiment'], x = utah_sentiment['date'], color=\"b\", ax=ax2)"
   ]
  },
  {
   "source": [
    "We add the regulation data and plot the occurences of regulation start dates to see if there is a link"
   ],
   "cell_type": "markdown",
   "metadata": {}
  },
  {
   "cell_type": "code",
   "execution_count": 14,
   "metadata": {},
   "outputs": [
    {
     "output_type": "execute_result",
     "data": {
      "text/plain": [
       "   Policy ID Province                                  Event Description  \\\n",
       "0    6268805     Utah  State Orders Restaurants, Bars to Suspend Dine...   \n",
       "1    1966160     Utah  State of Utah Restricts Non-urgent Surgeries o...   \n",
       "2    8986806     Utah  Gov. Gary R. Herbert of Utah, USA, has issued ...   \n",
       "3    6604464     Utah  Steward Health Care offers COVID-19 drive-thro...   \n",
       "4    9130617     Utah  Utah, USA will, for the first time, deploy a t...   \n",
       "5    4758774     Utah  Gov. Herbert of Utah, USA, on April 9 2020, ha...   \n",
       "6    9130617     Utah  Utah, USA will use electronic message boards i...   \n",
       "7    2376179     Utah  Gov. Gary Herbert, of Utah, USA, along with st...   \n",
       "8    2376179     Utah  Gov. Gary Herbert, of Utah, USA, along with st...   \n",
       "\n",
       "  Date Policy Announced Date Policy Start Date Policy End  \\\n",
       "0            17/03/2020        19/03/2020      02/04/2020   \n",
       "1            24/03/2020        25/03/2020      25/04/2020   \n",
       "2            01/04/2020        01/04/2020      15/05/2020   \n",
       "3            06/04/2020        06/04/2020             NaN   \n",
       "4            09/04/2020        09/04/2020      13/04/2020   \n",
       "5            09/04/2020        10/04/2020      01/05/2020   \n",
       "6            09/04/2020        13/04/2020      13/04/2020   \n",
       "7            14/04/2020        14/04/2020      22/05/2020   \n",
       "8            14/04/2020        14/04/2020      22/05/2020   \n",
       "\n",
       "                                     Policy Category  \n",
       "0           Restriction and Regulation of Businesses  \n",
       "1  Restriction and Regulation of Government Services  \n",
       "2                                  Social Distancing  \n",
       "3                                     Health Testing  \n",
       "4                       Internal Border Restrictions  \n",
       "5                       Internal Border Restrictions  \n",
       "6                       Internal Border Restrictions  \n",
       "7                  Closure and Regulation of Schools  \n",
       "8                  Closure and Regulation of Schools  "
      ],
      "text/html": "<div>\n<style scoped>\n    .dataframe tbody tr th:only-of-type {\n        vertical-align: middle;\n    }\n\n    .dataframe tbody tr th {\n        vertical-align: top;\n    }\n\n    .dataframe thead th {\n        text-align: right;\n    }\n</style>\n<table border=\"1\" class=\"dataframe\">\n  <thead>\n    <tr style=\"text-align: right;\">\n      <th></th>\n      <th>Policy ID</th>\n      <th>Province</th>\n      <th>Event Description</th>\n      <th>Date Policy Announced</th>\n      <th>Date Policy Start</th>\n      <th>Date Policy End</th>\n      <th>Policy Category</th>\n    </tr>\n  </thead>\n  <tbody>\n    <tr>\n      <td>0</td>\n      <td>6268805</td>\n      <td>Utah</td>\n      <td>State Orders Restaurants, Bars to Suspend Dine...</td>\n      <td>17/03/2020</td>\n      <td>19/03/2020</td>\n      <td>02/04/2020</td>\n      <td>Restriction and Regulation of Businesses</td>\n    </tr>\n    <tr>\n      <td>1</td>\n      <td>1966160</td>\n      <td>Utah</td>\n      <td>State of Utah Restricts Non-urgent Surgeries o...</td>\n      <td>24/03/2020</td>\n      <td>25/03/2020</td>\n      <td>25/04/2020</td>\n      <td>Restriction and Regulation of Government Services</td>\n    </tr>\n    <tr>\n      <td>2</td>\n      <td>8986806</td>\n      <td>Utah</td>\n      <td>Gov. Gary R. Herbert of Utah, USA, has issued ...</td>\n      <td>01/04/2020</td>\n      <td>01/04/2020</td>\n      <td>15/05/2020</td>\n      <td>Social Distancing</td>\n    </tr>\n    <tr>\n      <td>3</td>\n      <td>6604464</td>\n      <td>Utah</td>\n      <td>Steward Health Care offers COVID-19 drive-thro...</td>\n      <td>06/04/2020</td>\n      <td>06/04/2020</td>\n      <td>NaN</td>\n      <td>Health Testing</td>\n    </tr>\n    <tr>\n      <td>4</td>\n      <td>9130617</td>\n      <td>Utah</td>\n      <td>Utah, USA will, for the first time, deploy a t...</td>\n      <td>09/04/2020</td>\n      <td>09/04/2020</td>\n      <td>13/04/2020</td>\n      <td>Internal Border Restrictions</td>\n    </tr>\n    <tr>\n      <td>5</td>\n      <td>4758774</td>\n      <td>Utah</td>\n      <td>Gov. Herbert of Utah, USA, on April 9 2020, ha...</td>\n      <td>09/04/2020</td>\n      <td>10/04/2020</td>\n      <td>01/05/2020</td>\n      <td>Internal Border Restrictions</td>\n    </tr>\n    <tr>\n      <td>6</td>\n      <td>9130617</td>\n      <td>Utah</td>\n      <td>Utah, USA will use electronic message boards i...</td>\n      <td>09/04/2020</td>\n      <td>13/04/2020</td>\n      <td>13/04/2020</td>\n      <td>Internal Border Restrictions</td>\n    </tr>\n    <tr>\n      <td>7</td>\n      <td>2376179</td>\n      <td>Utah</td>\n      <td>Gov. Gary Herbert, of Utah, USA, along with st...</td>\n      <td>14/04/2020</td>\n      <td>14/04/2020</td>\n      <td>22/05/2020</td>\n      <td>Closure and Regulation of Schools</td>\n    </tr>\n    <tr>\n      <td>8</td>\n      <td>2376179</td>\n      <td>Utah</td>\n      <td>Gov. Gary Herbert, of Utah, USA, along with st...</td>\n      <td>14/04/2020</td>\n      <td>14/04/2020</td>\n      <td>22/05/2020</td>\n      <td>Closure and Regulation of Schools</td>\n    </tr>\n  </tbody>\n</table>\n</div>"
     },
     "metadata": {},
     "execution_count": 14
    }
   ],
   "source": [
    "utah_regulations = pd.read_csv('./utah_regulation_data.csv', names=[\"Policy ID\",\"Province\",\"Event Description\",\"Date Policy Announced\",\"Date Policy Start\",\"Date Policy End\",\"Policy Category\"])\n",
    "utah_regulations"
   ]
  },
  {
   "cell_type": "code",
   "execution_count": 15,
   "metadata": {},
   "outputs": [
    {
     "output_type": "execute_result",
     "data": {
      "text/plain": [
       "   Policy ID Province                                  Event Description  \\\n",
       "0    6268805     Utah  State Orders Restaurants, Bars to Suspend Dine...   \n",
       "1    1966160     Utah  State of Utah Restricts Non-urgent Surgeries o...   \n",
       "2    8986806     Utah  Gov. Gary R. Herbert of Utah, USA, has issued ...   \n",
       "3    6604464     Utah  Steward Health Care offers COVID-19 drive-thro...   \n",
       "4    9130617     Utah  Utah, USA will, for the first time, deploy a t...   \n",
       "5    4758774     Utah  Gov. Herbert of Utah, USA, on April 9 2020, ha...   \n",
       "6    9130617     Utah  Utah, USA will use electronic message boards i...   \n",
       "7    2376179     Utah  Gov. Gary Herbert, of Utah, USA, along with st...   \n",
       "8    2376179     Utah  Gov. Gary Herbert, of Utah, USA, along with st...   \n",
       "\n",
       "  Date Policy Announced Date Policy Start Date Policy End  \\\n",
       "0            17/03/2020        19/03/2020      02/04/2020   \n",
       "1            24/03/2020        25/03/2020      25/04/2020   \n",
       "2            01/04/2020        01/04/2020      15/05/2020   \n",
       "3            06/04/2020        06/04/2020             NaN   \n",
       "4            09/04/2020        09/04/2020      13/04/2020   \n",
       "5            09/04/2020        10/04/2020      01/05/2020   \n",
       "6            09/04/2020        13/04/2020      13/04/2020   \n",
       "7            14/04/2020        14/04/2020      22/05/2020   \n",
       "8            14/04/2020        14/04/2020      22/05/2020   \n",
       "\n",
       "                                     Policy Category short_start_date  \n",
       "0           Restriction and Regulation of Businesses               19  \n",
       "1  Restriction and Regulation of Government Services               25  \n",
       "2                                  Social Distancing               01  \n",
       "3                                     Health Testing               06  \n",
       "4                       Internal Border Restrictions               09  \n",
       "5                       Internal Border Restrictions               10  \n",
       "6                       Internal Border Restrictions               13  \n",
       "7                  Closure and Regulation of Schools               14  \n",
       "8                  Closure and Regulation of Schools               14  "
      ],
      "text/html": "<div>\n<style scoped>\n    .dataframe tbody tr th:only-of-type {\n        vertical-align: middle;\n    }\n\n    .dataframe tbody tr th {\n        vertical-align: top;\n    }\n\n    .dataframe thead th {\n        text-align: right;\n    }\n</style>\n<table border=\"1\" class=\"dataframe\">\n  <thead>\n    <tr style=\"text-align: right;\">\n      <th></th>\n      <th>Policy ID</th>\n      <th>Province</th>\n      <th>Event Description</th>\n      <th>Date Policy Announced</th>\n      <th>Date Policy Start</th>\n      <th>Date Policy End</th>\n      <th>Policy Category</th>\n      <th>short_start_date</th>\n    </tr>\n  </thead>\n  <tbody>\n    <tr>\n      <td>0</td>\n      <td>6268805</td>\n      <td>Utah</td>\n      <td>State Orders Restaurants, Bars to Suspend Dine...</td>\n      <td>17/03/2020</td>\n      <td>19/03/2020</td>\n      <td>02/04/2020</td>\n      <td>Restriction and Regulation of Businesses</td>\n      <td>19</td>\n    </tr>\n    <tr>\n      <td>1</td>\n      <td>1966160</td>\n      <td>Utah</td>\n      <td>State of Utah Restricts Non-urgent Surgeries o...</td>\n      <td>24/03/2020</td>\n      <td>25/03/2020</td>\n      <td>25/04/2020</td>\n      <td>Restriction and Regulation of Government Services</td>\n      <td>25</td>\n    </tr>\n    <tr>\n      <td>2</td>\n      <td>8986806</td>\n      <td>Utah</td>\n      <td>Gov. Gary R. Herbert of Utah, USA, has issued ...</td>\n      <td>01/04/2020</td>\n      <td>01/04/2020</td>\n      <td>15/05/2020</td>\n      <td>Social Distancing</td>\n      <td>01</td>\n    </tr>\n    <tr>\n      <td>3</td>\n      <td>6604464</td>\n      <td>Utah</td>\n      <td>Steward Health Care offers COVID-19 drive-thro...</td>\n      <td>06/04/2020</td>\n      <td>06/04/2020</td>\n      <td>NaN</td>\n      <td>Health Testing</td>\n      <td>06</td>\n    </tr>\n    <tr>\n      <td>4</td>\n      <td>9130617</td>\n      <td>Utah</td>\n      <td>Utah, USA will, for the first time, deploy a t...</td>\n      <td>09/04/2020</td>\n      <td>09/04/2020</td>\n      <td>13/04/2020</td>\n      <td>Internal Border Restrictions</td>\n      <td>09</td>\n    </tr>\n    <tr>\n      <td>5</td>\n      <td>4758774</td>\n      <td>Utah</td>\n      <td>Gov. Herbert of Utah, USA, on April 9 2020, ha...</td>\n      <td>09/04/2020</td>\n      <td>10/04/2020</td>\n      <td>01/05/2020</td>\n      <td>Internal Border Restrictions</td>\n      <td>10</td>\n    </tr>\n    <tr>\n      <td>6</td>\n      <td>9130617</td>\n      <td>Utah</td>\n      <td>Utah, USA will use electronic message boards i...</td>\n      <td>09/04/2020</td>\n      <td>13/04/2020</td>\n      <td>13/04/2020</td>\n      <td>Internal Border Restrictions</td>\n      <td>13</td>\n    </tr>\n    <tr>\n      <td>7</td>\n      <td>2376179</td>\n      <td>Utah</td>\n      <td>Gov. Gary Herbert, of Utah, USA, along with st...</td>\n      <td>14/04/2020</td>\n      <td>14/04/2020</td>\n      <td>22/05/2020</td>\n      <td>Closure and Regulation of Schools</td>\n      <td>14</td>\n    </tr>\n    <tr>\n      <td>8</td>\n      <td>2376179</td>\n      <td>Utah</td>\n      <td>Gov. Gary Herbert, of Utah, USA, along with st...</td>\n      <td>14/04/2020</td>\n      <td>14/04/2020</td>\n      <td>22/05/2020</td>\n      <td>Closure and Regulation of Schools</td>\n      <td>14</td>\n    </tr>\n  </tbody>\n</table>\n</div>"
     },
     "metadata": {},
     "execution_count": 15
    }
   ],
   "source": [
    "# adding a column with a shortened version of the date to make it easier to plot\n",
    "utah_regulations['short_start_date'] = utah_regulations.apply(lambda row: row['Date Policy Start'][:2], axis=1)\n",
    "utah_regulations"
   ]
  },
  {
   "cell_type": "code",
   "execution_count": 17,
   "metadata": {},
   "outputs": [],
   "source": [
    "#grouping all the regulations that occurred on the same day together\n",
    "utah_regulations = utah_regulations.groupby(['short_start_date'])['Event Description'].apply('<br><br>'.join).reset_index()"
   ]
  },
  {
   "cell_type": "code",
   "execution_count": 18,
   "metadata": {},
   "outputs": [],
   "source": [
    "#inserting line breaks in text description to make it easier to read\n",
    "#https://stackoverflow.com/questions/2657693/insert-a-newline-character-every-64-characters-using-python\n",
    "\"\"\"\n",
    "def insert_newlines(string, every=70):\n",
    "    return '<br>'.join(string[i:i+every] for i in range(0, len(string), every))\n",
    "\n",
    "colorado_regulations['description'] = colorado_regulations.apply(lambda row : insert_newlines(row['Event Description']), axis=1)\n",
    "colorado_regulations\n",
    "\"\"\"\n",
    "\n",
    "import textwrap \n",
    "utah_regulations['description']=utah_regulations[\"Event Description\"].apply(\n",
    "    lambda t: \"<br>\".join(textwrap.wrap(t))\n",
    ")\n"
   ]
  },
  {
   "cell_type": "code",
   "execution_count": 19,
   "metadata": {},
   "outputs": [
    {
     "output_type": "execute_result",
     "data": {
      "text/plain": [
       "  short_start_date                                  Event Description  \\\n",
       "0               01  Gov. Gary R. Herbert of Utah, USA, has issued ...   \n",
       "1               06  Steward Health Care offers COVID-19 drive-thro...   \n",
       "2               09  Utah, USA will, for the first time, deploy a t...   \n",
       "3               10  Gov. Herbert of Utah, USA, on April 9 2020, ha...   \n",
       "4               13  Utah, USA will use electronic message boards i...   \n",
       "5               14  Gov. Gary Herbert, of Utah, USA, along with st...   \n",
       "6               19  State Orders Restaurants, Bars to Suspend Dine...   \n",
       "7               25  State of Utah Restricts Non-urgent Surgeries o...   \n",
       "\n",
       "                                         description  \n",
       "0  Gov. Gary R. Herbert of Utah, USA, has issued ...  \n",
       "1  Steward Health Care offers COVID-19 drive-thro...  \n",
       "2  Utah, USA will, for the first time, deploy a t...  \n",
       "3  Gov. Herbert of Utah, USA, on April 9 2020, ha...  \n",
       "4  Utah, USA will use electronic message boards i...  \n",
       "5  Gov. Gary Herbert, of Utah, USA, along with st...  \n",
       "6  State Orders Restaurants, Bars to Suspend Dine...  \n",
       "7  State of Utah Restricts Non-urgent Surgeries o...  "
      ],
      "text/html": "<div>\n<style scoped>\n    .dataframe tbody tr th:only-of-type {\n        vertical-align: middle;\n    }\n\n    .dataframe tbody tr th {\n        vertical-align: top;\n    }\n\n    .dataframe thead th {\n        text-align: right;\n    }\n</style>\n<table border=\"1\" class=\"dataframe\">\n  <thead>\n    <tr style=\"text-align: right;\">\n      <th></th>\n      <th>short_start_date</th>\n      <th>Event Description</th>\n      <th>description</th>\n    </tr>\n  </thead>\n  <tbody>\n    <tr>\n      <td>0</td>\n      <td>01</td>\n      <td>Gov. Gary R. Herbert of Utah, USA, has issued ...</td>\n      <td>Gov. Gary R. Herbert of Utah, USA, has issued ...</td>\n    </tr>\n    <tr>\n      <td>1</td>\n      <td>06</td>\n      <td>Steward Health Care offers COVID-19 drive-thro...</td>\n      <td>Steward Health Care offers COVID-19 drive-thro...</td>\n    </tr>\n    <tr>\n      <td>2</td>\n      <td>09</td>\n      <td>Utah, USA will, for the first time, deploy a t...</td>\n      <td>Utah, USA will, for the first time, deploy a t...</td>\n    </tr>\n    <tr>\n      <td>3</td>\n      <td>10</td>\n      <td>Gov. Herbert of Utah, USA, on April 9 2020, ha...</td>\n      <td>Gov. Herbert of Utah, USA, on April 9 2020, ha...</td>\n    </tr>\n    <tr>\n      <td>4</td>\n      <td>13</td>\n      <td>Utah, USA will use electronic message boards i...</td>\n      <td>Utah, USA will use electronic message boards i...</td>\n    </tr>\n    <tr>\n      <td>5</td>\n      <td>14</td>\n      <td>Gov. Gary Herbert, of Utah, USA, along with st...</td>\n      <td>Gov. Gary Herbert, of Utah, USA, along with st...</td>\n    </tr>\n    <tr>\n      <td>6</td>\n      <td>19</td>\n      <td>State Orders Restaurants, Bars to Suspend Dine...</td>\n      <td>State Orders Restaurants, Bars to Suspend Dine...</td>\n    </tr>\n    <tr>\n      <td>7</td>\n      <td>25</td>\n      <td>State of Utah Restricts Non-urgent Surgeries o...</td>\n      <td>State of Utah Restricts Non-urgent Surgeries o...</td>\n    </tr>\n  </tbody>\n</table>\n</div>"
     },
     "metadata": {},
     "execution_count": 19
    }
   ],
   "source": [
    "utah_regulations"
   ]
  },
  {
   "cell_type": "code",
   "execution_count": 20,
   "metadata": {},
   "outputs": [],
   "source": [
    "start_dates = utah_regulations['short_start_date']"
   ]
  },
  {
   "cell_type": "code",
   "execution_count": 21,
   "metadata": {},
   "outputs": [
    {
     "output_type": "display_data",
     "data": {
      "text/plain": "<Figure size 1440x1080 with 2 Axes>",
      "image/svg+xml": "<?xml version=\"1.0\" encoding=\"utf-8\" standalone=\"no\"?>\r\n<!DOCTYPE svg PUBLIC \"-//W3C//DTD SVG 1.1//EN\"\r\n  \"http://www.w3.org/Graphics/SVG/1.1/DTD/svg11.dtd\">\r\n<!-- Created with matplotlib (https://matplotlib.org/) -->\r\n<svg height=\"860.434375pt\" version=\"1.1\" viewBox=\"0 0 1237.670312 860.434375\" width=\"1237.670312pt\" xmlns=\"http://www.w3.org/2000/svg\" xmlns:xlink=\"http://www.w3.org/1999/xlink\">\r\n <defs>\r\n  <style type=\"text/css\">\r\n*{stroke-linecap:butt;stroke-linejoin:round;}\r\n  </style>\r\n </defs>\r\n <g id=\"figure_1\">\r\n  <g id=\"patch_1\">\r\n   <path d=\"M 0 860.434375 \r\nL 1237.670312 860.434375 \r\nL 1237.670312 0 \r\nL 0 0 \r\nz\r\n\" style=\"fill:none;\"/>\r\n  </g>\r\n  <g id=\"axes_1\">\r\n   <g id=\"patch_2\">\r\n    <path d=\"M 63.146875 822.6 \r\nL 1179.146875 822.6 \r\nL 1179.146875 7.2 \r\nL 63.146875 7.2 \r\nz\r\n\" style=\"fill:#ffffff;\"/>\r\n   </g>\r\n   <g id=\"matplotlib.axis_1\">\r\n    <g id=\"xtick_1\">\r\n     <g id=\"line2d_1\">\r\n      <defs>\r\n       <path d=\"M 0 0 \r\nL 0 3.5 \r\n\" id=\"m447cdb6951\" style=\"stroke:#000000;stroke-width:0.8;\"/>\r\n      </defs>\r\n      <g>\r\n       <use style=\"stroke:#000000;stroke-width:0.8;\" x=\"78.889822\" xlink:href=\"#m447cdb6951\" y=\"822.6\"/>\r\n      </g>\r\n     </g>\r\n     <g id=\"text_1\">\r\n      <!-- 0 -->\r\n      <defs>\r\n       <path d=\"M 31.78125 66.40625 \r\nQ 24.171875 66.40625 20.328125 58.90625 \r\nQ 16.5 51.421875 16.5 36.375 \r\nQ 16.5 21.390625 20.328125 13.890625 \r\nQ 24.171875 6.390625 31.78125 6.390625 \r\nQ 39.453125 6.390625 43.28125 13.890625 \r\nQ 47.125 21.390625 47.125 36.375 \r\nQ 47.125 51.421875 43.28125 58.90625 \r\nQ 39.453125 66.40625 31.78125 66.40625 \r\nz\r\nM 31.78125 74.21875 \r\nQ 44.046875 74.21875 50.515625 64.515625 \r\nQ 56.984375 54.828125 56.984375 36.375 \r\nQ 56.984375 17.96875 50.515625 8.265625 \r\nQ 44.046875 -1.421875 31.78125 -1.421875 \r\nQ 19.53125 -1.421875 13.0625 8.265625 \r\nQ 6.59375 17.96875 6.59375 36.375 \r\nQ 6.59375 54.828125 13.0625 64.515625 \r\nQ 19.53125 74.21875 31.78125 74.21875 \r\nz\r\n\" id=\"DejaVuSans-48\"/>\r\n      </defs>\r\n      <g transform=\"translate(75.708572 837.198437)scale(0.1 -0.1)\">\r\n       <use xlink:href=\"#DejaVuSans-48\"/>\r\n      </g>\r\n     </g>\r\n    </g>\r\n    <g id=\"xtick_2\">\r\n     <g id=\"line2d_2\">\r\n      <g>\r\n       <use style=\"stroke:#000000;stroke-width:0.8;\" x=\"253.811452\" xlink:href=\"#m447cdb6951\" y=\"822.6\"/>\r\n      </g>\r\n     </g>\r\n     <g id=\"text_2\">\r\n      <!-- 5 -->\r\n      <defs>\r\n       <path d=\"M 10.796875 72.90625 \r\nL 49.515625 72.90625 \r\nL 49.515625 64.59375 \r\nL 19.828125 64.59375 \r\nL 19.828125 46.734375 \r\nQ 21.96875 47.46875 24.109375 47.828125 \r\nQ 26.265625 48.1875 28.421875 48.1875 \r\nQ 40.625 48.1875 47.75 41.5 \r\nQ 54.890625 34.8125 54.890625 23.390625 \r\nQ 54.890625 11.625 47.5625 5.09375 \r\nQ 40.234375 -1.421875 26.90625 -1.421875 \r\nQ 22.3125 -1.421875 17.546875 -0.640625 \r\nQ 12.796875 0.140625 7.71875 1.703125 \r\nL 7.71875 11.625 \r\nQ 12.109375 9.234375 16.796875 8.0625 \r\nQ 21.484375 6.890625 26.703125 6.890625 \r\nQ 35.15625 6.890625 40.078125 11.328125 \r\nQ 45.015625 15.765625 45.015625 23.390625 \r\nQ 45.015625 31 40.078125 35.4375 \r\nQ 35.15625 39.890625 26.703125 39.890625 \r\nQ 22.75 39.890625 18.8125 39.015625 \r\nQ 14.890625 38.140625 10.796875 36.28125 \r\nz\r\n\" id=\"DejaVuSans-53\"/>\r\n      </defs>\r\n      <g transform=\"translate(250.630202 837.198437)scale(0.1 -0.1)\">\r\n       <use xlink:href=\"#DejaVuSans-53\"/>\r\n      </g>\r\n     </g>\r\n    </g>\r\n    <g id=\"xtick_3\">\r\n     <g id=\"line2d_3\">\r\n      <g>\r\n       <use style=\"stroke:#000000;stroke-width:0.8;\" x=\"428.733082\" xlink:href=\"#m447cdb6951\" y=\"822.6\"/>\r\n      </g>\r\n     </g>\r\n     <g id=\"text_3\">\r\n      <!-- 10 -->\r\n      <defs>\r\n       <path d=\"M 12.40625 8.296875 \r\nL 28.515625 8.296875 \r\nL 28.515625 63.921875 \r\nL 10.984375 60.40625 \r\nL 10.984375 69.390625 \r\nL 28.421875 72.90625 \r\nL 38.28125 72.90625 \r\nL 38.28125 8.296875 \r\nL 54.390625 8.296875 \r\nL 54.390625 0 \r\nL 12.40625 0 \r\nz\r\n\" id=\"DejaVuSans-49\"/>\r\n      </defs>\r\n      <g transform=\"translate(422.370582 837.198437)scale(0.1 -0.1)\">\r\n       <use xlink:href=\"#DejaVuSans-49\"/>\r\n       <use x=\"63.623047\" xlink:href=\"#DejaVuSans-48\"/>\r\n      </g>\r\n     </g>\r\n    </g>\r\n    <g id=\"xtick_4\">\r\n     <g id=\"line2d_4\">\r\n      <g>\r\n       <use style=\"stroke:#000000;stroke-width:0.8;\" x=\"603.654712\" xlink:href=\"#m447cdb6951\" y=\"822.6\"/>\r\n      </g>\r\n     </g>\r\n     <g id=\"text_4\">\r\n      <!-- 15 -->\r\n      <g transform=\"translate(597.292212 837.198437)scale(0.1 -0.1)\">\r\n       <use xlink:href=\"#DejaVuSans-49\"/>\r\n       <use x=\"63.623047\" xlink:href=\"#DejaVuSans-53\"/>\r\n      </g>\r\n     </g>\r\n    </g>\r\n    <g id=\"xtick_5\">\r\n     <g id=\"line2d_5\">\r\n      <g>\r\n       <use style=\"stroke:#000000;stroke-width:0.8;\" x=\"778.576342\" xlink:href=\"#m447cdb6951\" y=\"822.6\"/>\r\n      </g>\r\n     </g>\r\n     <g id=\"text_5\">\r\n      <!-- 20 -->\r\n      <defs>\r\n       <path d=\"M 19.1875 8.296875 \r\nL 53.609375 8.296875 \r\nL 53.609375 0 \r\nL 7.328125 0 \r\nL 7.328125 8.296875 \r\nQ 12.9375 14.109375 22.625 23.890625 \r\nQ 32.328125 33.6875 34.8125 36.53125 \r\nQ 39.546875 41.84375 41.421875 45.53125 \r\nQ 43.3125 49.21875 43.3125 52.78125 \r\nQ 43.3125 58.59375 39.234375 62.25 \r\nQ 35.15625 65.921875 28.609375 65.921875 \r\nQ 23.96875 65.921875 18.8125 64.3125 \r\nQ 13.671875 62.703125 7.8125 59.421875 \r\nL 7.8125 69.390625 \r\nQ 13.765625 71.78125 18.9375 73 \r\nQ 24.125 74.21875 28.421875 74.21875 \r\nQ 39.75 74.21875 46.484375 68.546875 \r\nQ 53.21875 62.890625 53.21875 53.421875 \r\nQ 53.21875 48.921875 51.53125 44.890625 \r\nQ 49.859375 40.875 45.40625 35.40625 \r\nQ 44.1875 33.984375 37.640625 27.21875 \r\nQ 31.109375 20.453125 19.1875 8.296875 \r\nz\r\n\" id=\"DejaVuSans-50\"/>\r\n      </defs>\r\n      <g transform=\"translate(772.213842 837.198437)scale(0.1 -0.1)\">\r\n       <use xlink:href=\"#DejaVuSans-50\"/>\r\n       <use x=\"63.623047\" xlink:href=\"#DejaVuSans-48\"/>\r\n      </g>\r\n     </g>\r\n    </g>\r\n    <g id=\"xtick_6\">\r\n     <g id=\"line2d_6\">\r\n      <g>\r\n       <use style=\"stroke:#000000;stroke-width:0.8;\" x=\"953.497972\" xlink:href=\"#m447cdb6951\" y=\"822.6\"/>\r\n      </g>\r\n     </g>\r\n     <g id=\"text_6\">\r\n      <!-- 25 -->\r\n      <g transform=\"translate(947.135472 837.198437)scale(0.1 -0.1)\">\r\n       <use xlink:href=\"#DejaVuSans-50\"/>\r\n       <use x=\"63.623047\" xlink:href=\"#DejaVuSans-53\"/>\r\n      </g>\r\n     </g>\r\n    </g>\r\n    <g id=\"xtick_7\">\r\n     <g id=\"line2d_7\">\r\n      <g>\r\n       <use style=\"stroke:#000000;stroke-width:0.8;\" x=\"1128.419602\" xlink:href=\"#m447cdb6951\" y=\"822.6\"/>\r\n      </g>\r\n     </g>\r\n     <g id=\"text_7\">\r\n      <!-- 30 -->\r\n      <defs>\r\n       <path d=\"M 40.578125 39.3125 \r\nQ 47.65625 37.796875 51.625 33 \r\nQ 55.609375 28.21875 55.609375 21.1875 \r\nQ 55.609375 10.40625 48.1875 4.484375 \r\nQ 40.765625 -1.421875 27.09375 -1.421875 \r\nQ 22.515625 -1.421875 17.65625 -0.515625 \r\nQ 12.796875 0.390625 7.625 2.203125 \r\nL 7.625 11.71875 \r\nQ 11.71875 9.328125 16.59375 8.109375 \r\nQ 21.484375 6.890625 26.8125 6.890625 \r\nQ 36.078125 6.890625 40.9375 10.546875 \r\nQ 45.796875 14.203125 45.796875 21.1875 \r\nQ 45.796875 27.640625 41.28125 31.265625 \r\nQ 36.765625 34.90625 28.71875 34.90625 \r\nL 20.21875 34.90625 \r\nL 20.21875 43.015625 \r\nL 29.109375 43.015625 \r\nQ 36.375 43.015625 40.234375 45.921875 \r\nQ 44.09375 48.828125 44.09375 54.296875 \r\nQ 44.09375 59.90625 40.109375 62.90625 \r\nQ 36.140625 65.921875 28.71875 65.921875 \r\nQ 24.65625 65.921875 20.015625 65.03125 \r\nQ 15.375 64.15625 9.8125 62.3125 \r\nL 9.8125 71.09375 \r\nQ 15.4375 72.65625 20.34375 73.4375 \r\nQ 25.25 74.21875 29.59375 74.21875 \r\nQ 40.828125 74.21875 47.359375 69.109375 \r\nQ 53.90625 64.015625 53.90625 55.328125 \r\nQ 53.90625 49.265625 50.4375 45.09375 \r\nQ 46.96875 40.921875 40.578125 39.3125 \r\nz\r\n\" id=\"DejaVuSans-51\"/>\r\n      </defs>\r\n      <g transform=\"translate(1122.057102 837.198437)scale(0.1 -0.1)\">\r\n       <use xlink:href=\"#DejaVuSans-51\"/>\r\n       <use x=\"63.623047\" xlink:href=\"#DejaVuSans-48\"/>\r\n      </g>\r\n     </g>\r\n    </g>\r\n    <g id=\"text_8\">\r\n     <!-- short_date -->\r\n     <defs>\r\n      <path d=\"M 44.28125 53.078125 \r\nL 44.28125 44.578125 \r\nQ 40.484375 46.53125 36.375 47.5 \r\nQ 32.28125 48.484375 27.875 48.484375 \r\nQ 21.1875 48.484375 17.84375 46.4375 \r\nQ 14.5 44.390625 14.5 40.28125 \r\nQ 14.5 37.15625 16.890625 35.375 \r\nQ 19.28125 33.59375 26.515625 31.984375 \r\nL 29.59375 31.296875 \r\nQ 39.15625 29.25 43.1875 25.515625 \r\nQ 47.21875 21.78125 47.21875 15.09375 \r\nQ 47.21875 7.46875 41.1875 3.015625 \r\nQ 35.15625 -1.421875 24.609375 -1.421875 \r\nQ 20.21875 -1.421875 15.453125 -0.5625 \r\nQ 10.6875 0.296875 5.421875 2 \r\nL 5.421875 11.28125 \r\nQ 10.40625 8.6875 15.234375 7.390625 \r\nQ 20.0625 6.109375 24.8125 6.109375 \r\nQ 31.15625 6.109375 34.5625 8.28125 \r\nQ 37.984375 10.453125 37.984375 14.40625 \r\nQ 37.984375 18.0625 35.515625 20.015625 \r\nQ 33.0625 21.96875 24.703125 23.78125 \r\nL 21.578125 24.515625 \r\nQ 13.234375 26.265625 9.515625 29.90625 \r\nQ 5.8125 33.546875 5.8125 39.890625 \r\nQ 5.8125 47.609375 11.28125 51.796875 \r\nQ 16.75 56 26.8125 56 \r\nQ 31.78125 56 36.171875 55.265625 \r\nQ 40.578125 54.546875 44.28125 53.078125 \r\nz\r\n\" id=\"DejaVuSans-115\"/>\r\n      <path d=\"M 54.890625 33.015625 \r\nL 54.890625 0 \r\nL 45.90625 0 \r\nL 45.90625 32.71875 \r\nQ 45.90625 40.484375 42.875 44.328125 \r\nQ 39.84375 48.1875 33.796875 48.1875 \r\nQ 26.515625 48.1875 22.3125 43.546875 \r\nQ 18.109375 38.921875 18.109375 30.90625 \r\nL 18.109375 0 \r\nL 9.078125 0 \r\nL 9.078125 75.984375 \r\nL 18.109375 75.984375 \r\nL 18.109375 46.1875 \r\nQ 21.34375 51.125 25.703125 53.5625 \r\nQ 30.078125 56 35.796875 56 \r\nQ 45.21875 56 50.046875 50.171875 \r\nQ 54.890625 44.34375 54.890625 33.015625 \r\nz\r\n\" id=\"DejaVuSans-104\"/>\r\n      <path d=\"M 30.609375 48.390625 \r\nQ 23.390625 48.390625 19.1875 42.75 \r\nQ 14.984375 37.109375 14.984375 27.296875 \r\nQ 14.984375 17.484375 19.15625 11.84375 \r\nQ 23.34375 6.203125 30.609375 6.203125 \r\nQ 37.796875 6.203125 41.984375 11.859375 \r\nQ 46.1875 17.53125 46.1875 27.296875 \r\nQ 46.1875 37.015625 41.984375 42.703125 \r\nQ 37.796875 48.390625 30.609375 48.390625 \r\nz\r\nM 30.609375 56 \r\nQ 42.328125 56 49.015625 48.375 \r\nQ 55.71875 40.765625 55.71875 27.296875 \r\nQ 55.71875 13.875 49.015625 6.21875 \r\nQ 42.328125 -1.421875 30.609375 -1.421875 \r\nQ 18.84375 -1.421875 12.171875 6.21875 \r\nQ 5.515625 13.875 5.515625 27.296875 \r\nQ 5.515625 40.765625 12.171875 48.375 \r\nQ 18.84375 56 30.609375 56 \r\nz\r\n\" id=\"DejaVuSans-111\"/>\r\n      <path d=\"M 41.109375 46.296875 \r\nQ 39.59375 47.171875 37.8125 47.578125 \r\nQ 36.03125 48 33.890625 48 \r\nQ 26.265625 48 22.1875 43.046875 \r\nQ 18.109375 38.09375 18.109375 28.8125 \r\nL 18.109375 0 \r\nL 9.078125 0 \r\nL 9.078125 54.6875 \r\nL 18.109375 54.6875 \r\nL 18.109375 46.1875 \r\nQ 20.953125 51.171875 25.484375 53.578125 \r\nQ 30.03125 56 36.53125 56 \r\nQ 37.453125 56 38.578125 55.875 \r\nQ 39.703125 55.765625 41.0625 55.515625 \r\nz\r\n\" id=\"DejaVuSans-114\"/>\r\n      <path d=\"M 18.3125 70.21875 \r\nL 18.3125 54.6875 \r\nL 36.8125 54.6875 \r\nL 36.8125 47.703125 \r\nL 18.3125 47.703125 \r\nL 18.3125 18.015625 \r\nQ 18.3125 11.328125 20.140625 9.421875 \r\nQ 21.96875 7.515625 27.59375 7.515625 \r\nL 36.8125 7.515625 \r\nL 36.8125 0 \r\nL 27.59375 0 \r\nQ 17.1875 0 13.234375 3.875 \r\nQ 9.28125 7.765625 9.28125 18.015625 \r\nL 9.28125 47.703125 \r\nL 2.6875 47.703125 \r\nL 2.6875 54.6875 \r\nL 9.28125 54.6875 \r\nL 9.28125 70.21875 \r\nz\r\n\" id=\"DejaVuSans-116\"/>\r\n      <path d=\"M 50.984375 -16.609375 \r\nL 50.984375 -23.578125 \r\nL -0.984375 -23.578125 \r\nL -0.984375 -16.609375 \r\nz\r\n\" id=\"DejaVuSans-95\"/>\r\n      <path d=\"M 45.40625 46.390625 \r\nL 45.40625 75.984375 \r\nL 54.390625 75.984375 \r\nL 54.390625 0 \r\nL 45.40625 0 \r\nL 45.40625 8.203125 \r\nQ 42.578125 3.328125 38.25 0.953125 \r\nQ 33.9375 -1.421875 27.875 -1.421875 \r\nQ 17.96875 -1.421875 11.734375 6.484375 \r\nQ 5.515625 14.40625 5.515625 27.296875 \r\nQ 5.515625 40.1875 11.734375 48.09375 \r\nQ 17.96875 56 27.875 56 \r\nQ 33.9375 56 38.25 53.625 \r\nQ 42.578125 51.265625 45.40625 46.390625 \r\nz\r\nM 14.796875 27.296875 \r\nQ 14.796875 17.390625 18.875 11.75 \r\nQ 22.953125 6.109375 30.078125 6.109375 \r\nQ 37.203125 6.109375 41.296875 11.75 \r\nQ 45.40625 17.390625 45.40625 27.296875 \r\nQ 45.40625 37.203125 41.296875 42.84375 \r\nQ 37.203125 48.484375 30.078125 48.484375 \r\nQ 22.953125 48.484375 18.875 42.84375 \r\nQ 14.796875 37.203125 14.796875 27.296875 \r\nz\r\n\" id=\"DejaVuSans-100\"/>\r\n      <path d=\"M 34.28125 27.484375 \r\nQ 23.390625 27.484375 19.1875 25 \r\nQ 14.984375 22.515625 14.984375 16.5 \r\nQ 14.984375 11.71875 18.140625 8.90625 \r\nQ 21.296875 6.109375 26.703125 6.109375 \r\nQ 34.1875 6.109375 38.703125 11.40625 \r\nQ 43.21875 16.703125 43.21875 25.484375 \r\nL 43.21875 27.484375 \r\nz\r\nM 52.203125 31.203125 \r\nL 52.203125 0 \r\nL 43.21875 0 \r\nL 43.21875 8.296875 \r\nQ 40.140625 3.328125 35.546875 0.953125 \r\nQ 30.953125 -1.421875 24.3125 -1.421875 \r\nQ 15.921875 -1.421875 10.953125 3.296875 \r\nQ 6 8.015625 6 15.921875 \r\nQ 6 25.140625 12.171875 29.828125 \r\nQ 18.359375 34.515625 30.609375 34.515625 \r\nL 43.21875 34.515625 \r\nL 43.21875 35.40625 \r\nQ 43.21875 41.609375 39.140625 45 \r\nQ 35.0625 48.390625 27.6875 48.390625 \r\nQ 23 48.390625 18.546875 47.265625 \r\nQ 14.109375 46.140625 10.015625 43.890625 \r\nL 10.015625 52.203125 \r\nQ 14.9375 54.109375 19.578125 55.046875 \r\nQ 24.21875 56 28.609375 56 \r\nQ 40.484375 56 46.34375 49.84375 \r\nQ 52.203125 43.703125 52.203125 31.203125 \r\nz\r\n\" id=\"DejaVuSans-97\"/>\r\n      <path d=\"M 56.203125 29.59375 \r\nL 56.203125 25.203125 \r\nL 14.890625 25.203125 \r\nQ 15.484375 15.921875 20.484375 11.0625 \r\nQ 25.484375 6.203125 34.421875 6.203125 \r\nQ 39.59375 6.203125 44.453125 7.46875 \r\nQ 49.3125 8.734375 54.109375 11.28125 \r\nL 54.109375 2.78125 \r\nQ 49.265625 0.734375 44.1875 -0.34375 \r\nQ 39.109375 -1.421875 33.890625 -1.421875 \r\nQ 20.796875 -1.421875 13.15625 6.1875 \r\nQ 5.515625 13.8125 5.515625 26.8125 \r\nQ 5.515625 40.234375 12.765625 48.109375 \r\nQ 20.015625 56 32.328125 56 \r\nQ 43.359375 56 49.78125 48.890625 \r\nQ 56.203125 41.796875 56.203125 29.59375 \r\nz\r\nM 47.21875 32.234375 \r\nQ 47.125 39.59375 43.09375 43.984375 \r\nQ 39.0625 48.390625 32.421875 48.390625 \r\nQ 24.90625 48.390625 20.390625 44.140625 \r\nQ 15.875 39.890625 15.1875 32.171875 \r\nz\r\n\" id=\"DejaVuSans-101\"/>\r\n     </defs>\r\n     <g transform=\"translate(594.523438 850.876562)scale(0.1 -0.1)\">\r\n      <use xlink:href=\"#DejaVuSans-115\"/>\r\n      <use x=\"52.099609\" xlink:href=\"#DejaVuSans-104\"/>\r\n      <use x=\"115.478516\" xlink:href=\"#DejaVuSans-111\"/>\r\n      <use x=\"176.660156\" xlink:href=\"#DejaVuSans-114\"/>\r\n      <use x=\"217.773438\" xlink:href=\"#DejaVuSans-116\"/>\r\n      <use x=\"256.982422\" xlink:href=\"#DejaVuSans-95\"/>\r\n      <use x=\"306.982422\" xlink:href=\"#DejaVuSans-100\"/>\r\n      <use x=\"370.458984\" xlink:href=\"#DejaVuSans-97\"/>\r\n      <use x=\"431.738281\" xlink:href=\"#DejaVuSans-116\"/>\r\n      <use x=\"470.947266\" xlink:href=\"#DejaVuSans-101\"/>\r\n     </g>\r\n    </g>\r\n   </g>\r\n   <g id=\"matplotlib.axis_2\">\r\n    <g id=\"ytick_1\">\r\n     <g id=\"line2d_8\">\r\n      <defs>\r\n       <path d=\"M 0 0 \r\nL -3.5 0 \r\n\" id=\"m32ec136dc3\" style=\"stroke:#000000;stroke-width:0.8;\"/>\r\n      </defs>\r\n      <g>\r\n       <use style=\"stroke:#000000;stroke-width:0.8;\" x=\"63.146875\" xlink:href=\"#m32ec136dc3\" y=\"785.536364\"/>\r\n      </g>\r\n     </g>\r\n     <g id=\"text_9\">\r\n      <!-- 0.0000 -->\r\n      <defs>\r\n       <path d=\"M 10.6875 12.40625 \r\nL 21 12.40625 \r\nL 21 0 \r\nL 10.6875 0 \r\nz\r\n\" id=\"DejaVuSans-46\"/>\r\n      </defs>\r\n      <g transform=\"translate(21.15625 789.335582)scale(0.1 -0.1)\">\r\n       <use xlink:href=\"#DejaVuSans-48\"/>\r\n       <use x=\"63.623047\" xlink:href=\"#DejaVuSans-46\"/>\r\n       <use x=\"95.410156\" xlink:href=\"#DejaVuSans-48\"/>\r\n       <use x=\"159.033203\" xlink:href=\"#DejaVuSans-48\"/>\r\n       <use x=\"222.65625\" xlink:href=\"#DejaVuSans-48\"/>\r\n       <use x=\"286.279297\" xlink:href=\"#DejaVuSans-48\"/>\r\n      </g>\r\n     </g>\r\n    </g>\r\n    <g id=\"ytick_2\">\r\n     <g id=\"line2d_9\">\r\n      <g>\r\n       <use style=\"stroke:#000000;stroke-width:0.8;\" x=\"63.146875\" xlink:href=\"#m32ec136dc3\" y=\"688.21867\"/>\r\n      </g>\r\n     </g>\r\n     <g id=\"text_10\">\r\n      <!-- 0.0002 -->\r\n      <g transform=\"translate(21.15625 692.017889)scale(0.1 -0.1)\">\r\n       <use xlink:href=\"#DejaVuSans-48\"/>\r\n       <use x=\"63.623047\" xlink:href=\"#DejaVuSans-46\"/>\r\n       <use x=\"95.410156\" xlink:href=\"#DejaVuSans-48\"/>\r\n       <use x=\"159.033203\" xlink:href=\"#DejaVuSans-48\"/>\r\n       <use x=\"222.65625\" xlink:href=\"#DejaVuSans-48\"/>\r\n       <use x=\"286.279297\" xlink:href=\"#DejaVuSans-50\"/>\r\n      </g>\r\n     </g>\r\n    </g>\r\n    <g id=\"ytick_3\">\r\n     <g id=\"line2d_10\">\r\n      <g>\r\n       <use style=\"stroke:#000000;stroke-width:0.8;\" x=\"63.146875\" xlink:href=\"#m32ec136dc3\" y=\"590.900977\"/>\r\n      </g>\r\n     </g>\r\n     <g id=\"text_11\">\r\n      <!-- 0.0004 -->\r\n      <defs>\r\n       <path d=\"M 37.796875 64.3125 \r\nL 12.890625 25.390625 \r\nL 37.796875 25.390625 \r\nz\r\nM 35.203125 72.90625 \r\nL 47.609375 72.90625 \r\nL 47.609375 25.390625 \r\nL 58.015625 25.390625 \r\nL 58.015625 17.1875 \r\nL 47.609375 17.1875 \r\nL 47.609375 0 \r\nL 37.796875 0 \r\nL 37.796875 17.1875 \r\nL 4.890625 17.1875 \r\nL 4.890625 26.703125 \r\nz\r\n\" id=\"DejaVuSans-52\"/>\r\n      </defs>\r\n      <g transform=\"translate(21.15625 594.700195)scale(0.1 -0.1)\">\r\n       <use xlink:href=\"#DejaVuSans-48\"/>\r\n       <use x=\"63.623047\" xlink:href=\"#DejaVuSans-46\"/>\r\n       <use x=\"95.410156\" xlink:href=\"#DejaVuSans-48\"/>\r\n       <use x=\"159.033203\" xlink:href=\"#DejaVuSans-48\"/>\r\n       <use x=\"222.65625\" xlink:href=\"#DejaVuSans-48\"/>\r\n       <use x=\"286.279297\" xlink:href=\"#DejaVuSans-52\"/>\r\n      </g>\r\n     </g>\r\n    </g>\r\n    <g id=\"ytick_4\">\r\n     <g id=\"line2d_11\">\r\n      <g>\r\n       <use style=\"stroke:#000000;stroke-width:0.8;\" x=\"63.146875\" xlink:href=\"#m32ec136dc3\" y=\"493.583283\"/>\r\n      </g>\r\n     </g>\r\n     <g id=\"text_12\">\r\n      <!-- 0.0006 -->\r\n      <defs>\r\n       <path d=\"M 33.015625 40.375 \r\nQ 26.375 40.375 22.484375 35.828125 \r\nQ 18.609375 31.296875 18.609375 23.390625 \r\nQ 18.609375 15.53125 22.484375 10.953125 \r\nQ 26.375 6.390625 33.015625 6.390625 \r\nQ 39.65625 6.390625 43.53125 10.953125 \r\nQ 47.40625 15.53125 47.40625 23.390625 \r\nQ 47.40625 31.296875 43.53125 35.828125 \r\nQ 39.65625 40.375 33.015625 40.375 \r\nz\r\nM 52.59375 71.296875 \r\nL 52.59375 62.3125 \r\nQ 48.875 64.0625 45.09375 64.984375 \r\nQ 41.3125 65.921875 37.59375 65.921875 \r\nQ 27.828125 65.921875 22.671875 59.328125 \r\nQ 17.53125 52.734375 16.796875 39.40625 \r\nQ 19.671875 43.65625 24.015625 45.921875 \r\nQ 28.375 48.1875 33.59375 48.1875 \r\nQ 44.578125 48.1875 50.953125 41.515625 \r\nQ 57.328125 34.859375 57.328125 23.390625 \r\nQ 57.328125 12.15625 50.6875 5.359375 \r\nQ 44.046875 -1.421875 33.015625 -1.421875 \r\nQ 20.359375 -1.421875 13.671875 8.265625 \r\nQ 6.984375 17.96875 6.984375 36.375 \r\nQ 6.984375 53.65625 15.1875 63.9375 \r\nQ 23.390625 74.21875 37.203125 74.21875 \r\nQ 40.921875 74.21875 44.703125 73.484375 \r\nQ 48.484375 72.75 52.59375 71.296875 \r\nz\r\n\" id=\"DejaVuSans-54\"/>\r\n      </defs>\r\n      <g transform=\"translate(21.15625 497.382502)scale(0.1 -0.1)\">\r\n       <use xlink:href=\"#DejaVuSans-48\"/>\r\n       <use x=\"63.623047\" xlink:href=\"#DejaVuSans-46\"/>\r\n       <use x=\"95.410156\" xlink:href=\"#DejaVuSans-48\"/>\r\n       <use x=\"159.033203\" xlink:href=\"#DejaVuSans-48\"/>\r\n       <use x=\"222.65625\" xlink:href=\"#DejaVuSans-48\"/>\r\n       <use x=\"286.279297\" xlink:href=\"#DejaVuSans-54\"/>\r\n      </g>\r\n     </g>\r\n    </g>\r\n    <g id=\"ytick_5\">\r\n     <g id=\"line2d_12\">\r\n      <g>\r\n       <use style=\"stroke:#000000;stroke-width:0.8;\" x=\"63.146875\" xlink:href=\"#m32ec136dc3\" y=\"396.26559\"/>\r\n      </g>\r\n     </g>\r\n     <g id=\"text_13\">\r\n      <!-- 0.0008 -->\r\n      <defs>\r\n       <path d=\"M 31.78125 34.625 \r\nQ 24.75 34.625 20.71875 30.859375 \r\nQ 16.703125 27.09375 16.703125 20.515625 \r\nQ 16.703125 13.921875 20.71875 10.15625 \r\nQ 24.75 6.390625 31.78125 6.390625 \r\nQ 38.8125 6.390625 42.859375 10.171875 \r\nQ 46.921875 13.96875 46.921875 20.515625 \r\nQ 46.921875 27.09375 42.890625 30.859375 \r\nQ 38.875 34.625 31.78125 34.625 \r\nz\r\nM 21.921875 38.8125 \r\nQ 15.578125 40.375 12.03125 44.71875 \r\nQ 8.5 49.078125 8.5 55.328125 \r\nQ 8.5 64.0625 14.71875 69.140625 \r\nQ 20.953125 74.21875 31.78125 74.21875 \r\nQ 42.671875 74.21875 48.875 69.140625 \r\nQ 55.078125 64.0625 55.078125 55.328125 \r\nQ 55.078125 49.078125 51.53125 44.71875 \r\nQ 48 40.375 41.703125 38.8125 \r\nQ 48.828125 37.15625 52.796875 32.3125 \r\nQ 56.78125 27.484375 56.78125 20.515625 \r\nQ 56.78125 9.90625 50.3125 4.234375 \r\nQ 43.84375 -1.421875 31.78125 -1.421875 \r\nQ 19.734375 -1.421875 13.25 4.234375 \r\nQ 6.78125 9.90625 6.78125 20.515625 \r\nQ 6.78125 27.484375 10.78125 32.3125 \r\nQ 14.796875 37.15625 21.921875 38.8125 \r\nz\r\nM 18.3125 54.390625 \r\nQ 18.3125 48.734375 21.84375 45.5625 \r\nQ 25.390625 42.390625 31.78125 42.390625 \r\nQ 38.140625 42.390625 41.71875 45.5625 \r\nQ 45.3125 48.734375 45.3125 54.390625 \r\nQ 45.3125 60.0625 41.71875 63.234375 \r\nQ 38.140625 66.40625 31.78125 66.40625 \r\nQ 25.390625 66.40625 21.84375 63.234375 \r\nQ 18.3125 60.0625 18.3125 54.390625 \r\nz\r\n\" id=\"DejaVuSans-56\"/>\r\n      </defs>\r\n      <g transform=\"translate(21.15625 400.064808)scale(0.1 -0.1)\">\r\n       <use xlink:href=\"#DejaVuSans-48\"/>\r\n       <use x=\"63.623047\" xlink:href=\"#DejaVuSans-46\"/>\r\n       <use x=\"95.410156\" xlink:href=\"#DejaVuSans-48\"/>\r\n       <use x=\"159.033203\" xlink:href=\"#DejaVuSans-48\"/>\r\n       <use x=\"222.65625\" xlink:href=\"#DejaVuSans-48\"/>\r\n       <use x=\"286.279297\" xlink:href=\"#DejaVuSans-56\"/>\r\n      </g>\r\n     </g>\r\n    </g>\r\n    <g id=\"ytick_6\">\r\n     <g id=\"line2d_13\">\r\n      <g>\r\n       <use style=\"stroke:#000000;stroke-width:0.8;\" x=\"63.146875\" xlink:href=\"#m32ec136dc3\" y=\"298.947896\"/>\r\n      </g>\r\n     </g>\r\n     <g id=\"text_14\">\r\n      <!-- 0.0010 -->\r\n      <g transform=\"translate(21.15625 302.747115)scale(0.1 -0.1)\">\r\n       <use xlink:href=\"#DejaVuSans-48\"/>\r\n       <use x=\"63.623047\" xlink:href=\"#DejaVuSans-46\"/>\r\n       <use x=\"95.410156\" xlink:href=\"#DejaVuSans-48\"/>\r\n       <use x=\"159.033203\" xlink:href=\"#DejaVuSans-48\"/>\r\n       <use x=\"222.65625\" xlink:href=\"#DejaVuSans-49\"/>\r\n       <use x=\"286.279297\" xlink:href=\"#DejaVuSans-48\"/>\r\n      </g>\r\n     </g>\r\n    </g>\r\n    <g id=\"ytick_7\">\r\n     <g id=\"line2d_14\">\r\n      <g>\r\n       <use style=\"stroke:#000000;stroke-width:0.8;\" x=\"63.146875\" xlink:href=\"#m32ec136dc3\" y=\"201.630203\"/>\r\n      </g>\r\n     </g>\r\n     <g id=\"text_15\">\r\n      <!-- 0.0012 -->\r\n      <g transform=\"translate(21.15625 205.429421)scale(0.1 -0.1)\">\r\n       <use xlink:href=\"#DejaVuSans-48\"/>\r\n       <use x=\"63.623047\" xlink:href=\"#DejaVuSans-46\"/>\r\n       <use x=\"95.410156\" xlink:href=\"#DejaVuSans-48\"/>\r\n       <use x=\"159.033203\" xlink:href=\"#DejaVuSans-48\"/>\r\n       <use x=\"222.65625\" xlink:href=\"#DejaVuSans-49\"/>\r\n       <use x=\"286.279297\" xlink:href=\"#DejaVuSans-50\"/>\r\n      </g>\r\n     </g>\r\n    </g>\r\n    <g id=\"ytick_8\">\r\n     <g id=\"line2d_15\">\r\n      <g>\r\n       <use style=\"stroke:#000000;stroke-width:0.8;\" x=\"63.146875\" xlink:href=\"#m32ec136dc3\" y=\"104.312509\"/>\r\n      </g>\r\n     </g>\r\n     <g id=\"text_16\">\r\n      <!-- 0.0014 -->\r\n      <g transform=\"translate(21.15625 108.111728)scale(0.1 -0.1)\">\r\n       <use xlink:href=\"#DejaVuSans-48\"/>\r\n       <use x=\"63.623047\" xlink:href=\"#DejaVuSans-46\"/>\r\n       <use x=\"95.410156\" xlink:href=\"#DejaVuSans-48\"/>\r\n       <use x=\"159.033203\" xlink:href=\"#DejaVuSans-48\"/>\r\n       <use x=\"222.65625\" xlink:href=\"#DejaVuSans-49\"/>\r\n       <use x=\"286.279297\" xlink:href=\"#DejaVuSans-52\"/>\r\n      </g>\r\n     </g>\r\n    </g>\r\n    <g id=\"text_17\">\r\n     <!-- normalized_new_death -->\r\n     <defs>\r\n      <path d=\"M 54.890625 33.015625 \r\nL 54.890625 0 \r\nL 45.90625 0 \r\nL 45.90625 32.71875 \r\nQ 45.90625 40.484375 42.875 44.328125 \r\nQ 39.84375 48.1875 33.796875 48.1875 \r\nQ 26.515625 48.1875 22.3125 43.546875 \r\nQ 18.109375 38.921875 18.109375 30.90625 \r\nL 18.109375 0 \r\nL 9.078125 0 \r\nL 9.078125 54.6875 \r\nL 18.109375 54.6875 \r\nL 18.109375 46.1875 \r\nQ 21.34375 51.125 25.703125 53.5625 \r\nQ 30.078125 56 35.796875 56 \r\nQ 45.21875 56 50.046875 50.171875 \r\nQ 54.890625 44.34375 54.890625 33.015625 \r\nz\r\n\" id=\"DejaVuSans-110\"/>\r\n      <path d=\"M 52 44.1875 \r\nQ 55.375 50.25 60.0625 53.125 \r\nQ 64.75 56 71.09375 56 \r\nQ 79.640625 56 84.28125 50.015625 \r\nQ 88.921875 44.046875 88.921875 33.015625 \r\nL 88.921875 0 \r\nL 79.890625 0 \r\nL 79.890625 32.71875 \r\nQ 79.890625 40.578125 77.09375 44.375 \r\nQ 74.3125 48.1875 68.609375 48.1875 \r\nQ 61.625 48.1875 57.5625 43.546875 \r\nQ 53.515625 38.921875 53.515625 30.90625 \r\nL 53.515625 0 \r\nL 44.484375 0 \r\nL 44.484375 32.71875 \r\nQ 44.484375 40.625 41.703125 44.40625 \r\nQ 38.921875 48.1875 33.109375 48.1875 \r\nQ 26.21875 48.1875 22.15625 43.53125 \r\nQ 18.109375 38.875 18.109375 30.90625 \r\nL 18.109375 0 \r\nL 9.078125 0 \r\nL 9.078125 54.6875 \r\nL 18.109375 54.6875 \r\nL 18.109375 46.1875 \r\nQ 21.1875 51.21875 25.484375 53.609375 \r\nQ 29.78125 56 35.6875 56 \r\nQ 41.65625 56 45.828125 52.96875 \r\nQ 50 49.953125 52 44.1875 \r\nz\r\n\" id=\"DejaVuSans-109\"/>\r\n      <path d=\"M 9.421875 75.984375 \r\nL 18.40625 75.984375 \r\nL 18.40625 0 \r\nL 9.421875 0 \r\nz\r\n\" id=\"DejaVuSans-108\"/>\r\n      <path d=\"M 9.421875 54.6875 \r\nL 18.40625 54.6875 \r\nL 18.40625 0 \r\nL 9.421875 0 \r\nz\r\nM 9.421875 75.984375 \r\nL 18.40625 75.984375 \r\nL 18.40625 64.59375 \r\nL 9.421875 64.59375 \r\nz\r\n\" id=\"DejaVuSans-105\"/>\r\n      <path d=\"M 5.515625 54.6875 \r\nL 48.1875 54.6875 \r\nL 48.1875 46.484375 \r\nL 14.40625 7.171875 \r\nL 48.1875 7.171875 \r\nL 48.1875 0 \r\nL 4.296875 0 \r\nL 4.296875 8.203125 \r\nL 38.09375 47.515625 \r\nL 5.515625 47.515625 \r\nz\r\n\" id=\"DejaVuSans-122\"/>\r\n      <path d=\"M 4.203125 54.6875 \r\nL 13.1875 54.6875 \r\nL 24.421875 12.015625 \r\nL 35.59375 54.6875 \r\nL 46.1875 54.6875 \r\nL 57.421875 12.015625 \r\nL 68.609375 54.6875 \r\nL 77.59375 54.6875 \r\nL 63.28125 0 \r\nL 52.6875 0 \r\nL 40.921875 44.828125 \r\nL 29.109375 0 \r\nL 18.5 0 \r\nz\r\n\" id=\"DejaVuSans-119\"/>\r\n     </defs>\r\n     <g transform=\"translate(14.798438 472.548437)rotate(-90)scale(0.1 -0.1)\">\r\n      <use xlink:href=\"#DejaVuSans-110\"/>\r\n      <use x=\"63.378906\" xlink:href=\"#DejaVuSans-111\"/>\r\n      <use x=\"124.560547\" xlink:href=\"#DejaVuSans-114\"/>\r\n      <use x=\"165.658203\" xlink:href=\"#DejaVuSans-109\"/>\r\n      <use x=\"263.070312\" xlink:href=\"#DejaVuSans-97\"/>\r\n      <use x=\"324.349609\" xlink:href=\"#DejaVuSans-108\"/>\r\n      <use x=\"352.132812\" xlink:href=\"#DejaVuSans-105\"/>\r\n      <use x=\"379.916016\" xlink:href=\"#DejaVuSans-122\"/>\r\n      <use x=\"432.40625\" xlink:href=\"#DejaVuSans-101\"/>\r\n      <use x=\"493.929688\" xlink:href=\"#DejaVuSans-100\"/>\r\n      <use x=\"557.40625\" xlink:href=\"#DejaVuSans-95\"/>\r\n      <use x=\"607.40625\" xlink:href=\"#DejaVuSans-110\"/>\r\n      <use x=\"670.785156\" xlink:href=\"#DejaVuSans-101\"/>\r\n      <use x=\"732.308594\" xlink:href=\"#DejaVuSans-119\"/>\r\n      <use x=\"814.095703\" xlink:href=\"#DejaVuSans-95\"/>\r\n      <use x=\"864.095703\" xlink:href=\"#DejaVuSans-100\"/>\r\n      <use x=\"927.572266\" xlink:href=\"#DejaVuSans-101\"/>\r\n      <use x=\"989.095703\" xlink:href=\"#DejaVuSans-97\"/>\r\n      <use x=\"1050.375\" xlink:href=\"#DejaVuSans-116\"/>\r\n      <use x=\"1089.583984\" xlink:href=\"#DejaVuSans-104\"/>\r\n     </g>\r\n    </g>\r\n   </g>\r\n   <g id=\"line2d_16\">\r\n    <path clip-path=\"url(#p8bfcf64767)\" d=\"M 113.874148 489.027273 \r\nL 148.858474 785.536364 \r\nL 183.8428 785.536364 \r\nL 218.827126 637.281818 \r\nL 253.811452 785.536364 \r\nL 288.795778 44.263636 \r\nL 323.780104 785.536364 \r\nL 358.76443 785.536364 \r\nL 393.748756 489.027273 \r\nL 428.733082 489.027273 \r\nL 463.717408 637.281818 \r\nL 498.701734 785.536364 \r\nL 533.68606 785.536364 \r\nL 568.670386 489.027273 \r\nL 603.654712 637.281818 \r\nL 638.639038 637.281818 \r\nL 673.623364 637.281818 \r\nL 708.60769 489.027273 \r\nL 743.592016 340.772727 \r\nL 778.576342 192.518182 \r\nL 813.560668 489.027273 \r\nL 848.544994 637.281818 \r\nL 883.52932 340.772727 \r\nL 918.513646 637.281818 \r\nL 953.497972 489.027273 \r\nL 988.482298 785.536364 \r\nL 1023.466624 340.772727 \r\nL 1058.45095 637.281818 \r\nL 1093.435276 637.281818 \r\nL 1128.419602 785.536364 \r\n\" style=\"fill:none;stroke:#008000;stroke-linecap:square;stroke-width:1.5;\"/>\r\n   </g>\r\n   <g id=\"patch_3\">\r\n    <path d=\"M 63.146875 822.6 \r\nL 63.146875 7.2 \r\n\" style=\"fill:none;stroke:#000000;stroke-linecap:square;stroke-linejoin:miter;stroke-width:0.8;\"/>\r\n   </g>\r\n   <g id=\"patch_4\">\r\n    <path d=\"M 1179.146875 822.6 \r\nL 1179.146875 7.2 \r\n\" style=\"fill:none;stroke:#000000;stroke-linecap:square;stroke-linejoin:miter;stroke-width:0.8;\"/>\r\n   </g>\r\n   <g id=\"patch_5\">\r\n    <path d=\"M 63.146875 822.6 \r\nL 1179.146875 822.6 \r\n\" style=\"fill:none;stroke:#000000;stroke-linecap:square;stroke-linejoin:miter;stroke-width:0.8;\"/>\r\n   </g>\r\n   <g id=\"patch_6\">\r\n    <path d=\"M 63.146875 7.2 \r\nL 1179.146875 7.2 \r\n\" style=\"fill:none;stroke:#000000;stroke-linecap:square;stroke-linejoin:miter;stroke-width:0.8;\"/>\r\n   </g>\r\n  </g>\r\n  <g id=\"axes_2\">\r\n   <g id=\"matplotlib.axis_3\">\r\n    <g id=\"ytick_9\">\r\n     <g id=\"line2d_17\">\r\n      <defs>\r\n       <path d=\"M 0 0 \r\nL 3.5 0 \r\n\" id=\"m8ccdf6a4fa\" style=\"stroke:#000000;stroke-width:0.8;\"/>\r\n      </defs>\r\n      <g>\r\n       <use style=\"stroke:#000000;stroke-width:0.8;\" x=\"1179.146875\" xlink:href=\"#m8ccdf6a4fa\" y=\"758.916837\"/>\r\n      </g>\r\n     </g>\r\n     <g id=\"text_18\">\r\n      <!-- −0.22 -->\r\n      <defs>\r\n       <path d=\"M 10.59375 35.5 \r\nL 73.1875 35.5 \r\nL 73.1875 27.203125 \r\nL 10.59375 27.203125 \r\nz\r\n\" id=\"DejaVuSans-8722\"/>\r\n      </defs>\r\n      <g transform=\"translate(1186.146875 762.716056)scale(0.1 -0.1)\">\r\n       <use xlink:href=\"#DejaVuSans-8722\"/>\r\n       <use x=\"83.789062\" xlink:href=\"#DejaVuSans-48\"/>\r\n       <use x=\"147.412109\" xlink:href=\"#DejaVuSans-46\"/>\r\n       <use x=\"179.199219\" xlink:href=\"#DejaVuSans-50\"/>\r\n       <use x=\"242.822266\" xlink:href=\"#DejaVuSans-50\"/>\r\n      </g>\r\n     </g>\r\n    </g>\r\n    <g id=\"ytick_10\">\r\n     <g id=\"line2d_18\">\r\n      <g>\r\n       <use style=\"stroke:#000000;stroke-width:0.8;\" x=\"1179.146875\" xlink:href=\"#m8ccdf6a4fa\" y=\"652.438814\"/>\r\n      </g>\r\n     </g>\r\n     <g id=\"text_19\">\r\n      <!-- −0.20 -->\r\n      <g transform=\"translate(1186.146875 656.238033)scale(0.1 -0.1)\">\r\n       <use xlink:href=\"#DejaVuSans-8722\"/>\r\n       <use x=\"83.789062\" xlink:href=\"#DejaVuSans-48\"/>\r\n       <use x=\"147.412109\" xlink:href=\"#DejaVuSans-46\"/>\r\n       <use x=\"179.199219\" xlink:href=\"#DejaVuSans-50\"/>\r\n       <use x=\"242.822266\" xlink:href=\"#DejaVuSans-48\"/>\r\n      </g>\r\n     </g>\r\n    </g>\r\n    <g id=\"ytick_11\">\r\n     <g id=\"line2d_19\">\r\n      <g>\r\n       <use style=\"stroke:#000000;stroke-width:0.8;\" x=\"1179.146875\" xlink:href=\"#m8ccdf6a4fa\" y=\"545.960791\"/>\r\n      </g>\r\n     </g>\r\n     <g id=\"text_20\">\r\n      <!-- −0.18 -->\r\n      <g transform=\"translate(1186.146875 549.76001)scale(0.1 -0.1)\">\r\n       <use xlink:href=\"#DejaVuSans-8722\"/>\r\n       <use x=\"83.789062\" xlink:href=\"#DejaVuSans-48\"/>\r\n       <use x=\"147.412109\" xlink:href=\"#DejaVuSans-46\"/>\r\n       <use x=\"179.199219\" xlink:href=\"#DejaVuSans-49\"/>\r\n       <use x=\"242.822266\" xlink:href=\"#DejaVuSans-56\"/>\r\n      </g>\r\n     </g>\r\n    </g>\r\n    <g id=\"ytick_12\">\r\n     <g id=\"line2d_20\">\r\n      <g>\r\n       <use style=\"stroke:#000000;stroke-width:0.8;\" x=\"1179.146875\" xlink:href=\"#m8ccdf6a4fa\" y=\"439.482767\"/>\r\n      </g>\r\n     </g>\r\n     <g id=\"text_21\">\r\n      <!-- −0.16 -->\r\n      <g transform=\"translate(1186.146875 443.281986)scale(0.1 -0.1)\">\r\n       <use xlink:href=\"#DejaVuSans-8722\"/>\r\n       <use x=\"83.789062\" xlink:href=\"#DejaVuSans-48\"/>\r\n       <use x=\"147.412109\" xlink:href=\"#DejaVuSans-46\"/>\r\n       <use x=\"179.199219\" xlink:href=\"#DejaVuSans-49\"/>\r\n       <use x=\"242.822266\" xlink:href=\"#DejaVuSans-54\"/>\r\n      </g>\r\n     </g>\r\n    </g>\r\n    <g id=\"ytick_13\">\r\n     <g id=\"line2d_21\">\r\n      <g>\r\n       <use style=\"stroke:#000000;stroke-width:0.8;\" x=\"1179.146875\" xlink:href=\"#m8ccdf6a4fa\" y=\"333.004744\"/>\r\n      </g>\r\n     </g>\r\n     <g id=\"text_22\">\r\n      <!-- −0.14 -->\r\n      <g transform=\"translate(1186.146875 336.803963)scale(0.1 -0.1)\">\r\n       <use xlink:href=\"#DejaVuSans-8722\"/>\r\n       <use x=\"83.789062\" xlink:href=\"#DejaVuSans-48\"/>\r\n       <use x=\"147.412109\" xlink:href=\"#DejaVuSans-46\"/>\r\n       <use x=\"179.199219\" xlink:href=\"#DejaVuSans-49\"/>\r\n       <use x=\"242.822266\" xlink:href=\"#DejaVuSans-52\"/>\r\n      </g>\r\n     </g>\r\n    </g>\r\n    <g id=\"ytick_14\">\r\n     <g id=\"line2d_22\">\r\n      <g>\r\n       <use style=\"stroke:#000000;stroke-width:0.8;\" x=\"1179.146875\" xlink:href=\"#m8ccdf6a4fa\" y=\"226.526721\"/>\r\n      </g>\r\n     </g>\r\n     <g id=\"text_23\">\r\n      <!-- −0.12 -->\r\n      <g transform=\"translate(1186.146875 230.32594)scale(0.1 -0.1)\">\r\n       <use xlink:href=\"#DejaVuSans-8722\"/>\r\n       <use x=\"83.789062\" xlink:href=\"#DejaVuSans-48\"/>\r\n       <use x=\"147.412109\" xlink:href=\"#DejaVuSans-46\"/>\r\n       <use x=\"179.199219\" xlink:href=\"#DejaVuSans-49\"/>\r\n       <use x=\"242.822266\" xlink:href=\"#DejaVuSans-50\"/>\r\n      </g>\r\n     </g>\r\n    </g>\r\n    <g id=\"ytick_15\">\r\n     <g id=\"line2d_23\">\r\n      <g>\r\n       <use style=\"stroke:#000000;stroke-width:0.8;\" x=\"1179.146875\" xlink:href=\"#m8ccdf6a4fa\" y=\"120.048697\"/>\r\n      </g>\r\n     </g>\r\n     <g id=\"text_24\">\r\n      <!-- −0.10 -->\r\n      <g transform=\"translate(1186.146875 123.847916)scale(0.1 -0.1)\">\r\n       <use xlink:href=\"#DejaVuSans-8722\"/>\r\n       <use x=\"83.789062\" xlink:href=\"#DejaVuSans-48\"/>\r\n       <use x=\"147.412109\" xlink:href=\"#DejaVuSans-46\"/>\r\n       <use x=\"179.199219\" xlink:href=\"#DejaVuSans-49\"/>\r\n       <use x=\"242.822266\" xlink:href=\"#DejaVuSans-48\"/>\r\n      </g>\r\n     </g>\r\n    </g>\r\n    <g id=\"ytick_16\">\r\n     <g id=\"line2d_24\">\r\n      <g>\r\n       <use style=\"stroke:#000000;stroke-width:0.8;\" x=\"1179.146875\" xlink:href=\"#m8ccdf6a4fa\" y=\"13.570674\"/>\r\n      </g>\r\n     </g>\r\n     <g id=\"text_25\">\r\n      <!-- −0.08 -->\r\n      <g transform=\"translate(1186.146875 17.369893)scale(0.1 -0.1)\">\r\n       <use xlink:href=\"#DejaVuSans-8722\"/>\r\n       <use x=\"83.789062\" xlink:href=\"#DejaVuSans-48\"/>\r\n       <use x=\"147.412109\" xlink:href=\"#DejaVuSans-46\"/>\r\n       <use x=\"179.199219\" xlink:href=\"#DejaVuSans-48\"/>\r\n       <use x=\"242.822266\" xlink:href=\"#DejaVuSans-56\"/>\r\n      </g>\r\n     </g>\r\n    </g>\r\n    <g id=\"text_26\">\r\n     <!-- sentiment -->\r\n     <g transform=\"translate(1228.390625 440.175)rotate(-90)scale(0.1 -0.1)\">\r\n      <use xlink:href=\"#DejaVuSans-115\"/>\r\n      <use x=\"52.099609\" xlink:href=\"#DejaVuSans-101\"/>\r\n      <use x=\"113.623047\" xlink:href=\"#DejaVuSans-110\"/>\r\n      <use x=\"177.001953\" xlink:href=\"#DejaVuSans-116\"/>\r\n      <use x=\"216.210938\" xlink:href=\"#DejaVuSans-105\"/>\r\n      <use x=\"243.994141\" xlink:href=\"#DejaVuSans-109\"/>\r\n      <use x=\"341.40625\" xlink:href=\"#DejaVuSans-101\"/>\r\n      <use x=\"402.929688\" xlink:href=\"#DejaVuSans-110\"/>\r\n      <use x=\"466.308594\" xlink:href=\"#DejaVuSans-116\"/>\r\n     </g>\r\n    </g>\r\n   </g>\r\n   <g id=\"line2d_25\">\r\n    <path clip-path=\"url(#p8bfcf64767)\" d=\"M 113.874148 332.758846 \r\nL 148.858474 432.288318 \r\nL 183.8428 313.390378 \r\nL 218.827126 369.25259 \r\nL 253.811452 242.301251 \r\nL 288.795778 196.990869 \r\nL 323.780104 89.307019 \r\nL 358.76443 192.527557 \r\nL 393.748756 64.591403 \r\nL 428.733082 305.031712 \r\nL 463.717408 394.649923 \r\nL 498.701734 44.263636 \r\nL 533.68606 237.379863 \r\nL 568.670386 135.455497 \r\nL 603.654712 348.637264 \r\nL 638.639038 327.013662 \r\nL 673.623364 375.32725 \r\nL 708.60769 410.61374 \r\nL 743.592016 465.845506 \r\nL 778.576342 785.536364 \r\nL 813.560668 612.228095 \r\nL 848.544994 217.383192 \r\nL 883.52932 785.536364 \r\nL 918.513646 286.91725 \r\nL 953.497972 477.310499 \r\nL 988.482298 432.99487 \r\nL 1023.466624 368.829136 \r\nL 1058.45095 151.150532 \r\nL 1093.435276 447.562405 \r\nL 1128.419602 317.033052 \r\n\" style=\"fill:none;stroke:#0000ff;stroke-linecap:square;stroke-width:1.5;\"/>\r\n   </g>\r\n   <g id=\"line2d_26\">\r\n    <path clip-path=\"url(#p8bfcf64767)\" d=\"M 113.874148 822.6 \r\nL 113.874148 7.2 \r\n\" style=\"fill:none;stroke:#1f77b4;stroke-linecap:square;stroke-width:1.5;\"/>\r\n   </g>\r\n   <g id=\"line2d_27\">\r\n    <path clip-path=\"url(#p8bfcf64767)\" d=\"M 288.795778 822.6 \r\nL 288.795778 7.2 \r\n\" style=\"fill:none;stroke:#1f77b4;stroke-linecap:square;stroke-width:1.5;\"/>\r\n   </g>\r\n   <g id=\"line2d_28\">\r\n    <path clip-path=\"url(#p8bfcf64767)\" d=\"M 393.748756 822.6 \r\nL 393.748756 7.2 \r\n\" style=\"fill:none;stroke:#1f77b4;stroke-linecap:square;stroke-width:1.5;\"/>\r\n   </g>\r\n   <g id=\"line2d_29\">\r\n    <path clip-path=\"url(#p8bfcf64767)\" d=\"M 428.733082 822.6 \r\nL 428.733082 7.2 \r\n\" style=\"fill:none;stroke:#1f77b4;stroke-linecap:square;stroke-width:1.5;\"/>\r\n   </g>\r\n   <g id=\"line2d_30\">\r\n    <path clip-path=\"url(#p8bfcf64767)\" d=\"M 533.68606 822.6 \r\nL 533.68606 7.2 \r\n\" style=\"fill:none;stroke:#1f77b4;stroke-linecap:square;stroke-width:1.5;\"/>\r\n   </g>\r\n   <g id=\"line2d_31\">\r\n    <path clip-path=\"url(#p8bfcf64767)\" d=\"M 568.670386 822.6 \r\nL 568.670386 7.2 \r\n\" style=\"fill:none;stroke:#1f77b4;stroke-linecap:square;stroke-width:1.5;\"/>\r\n   </g>\r\n   <g id=\"line2d_32\">\r\n    <path clip-path=\"url(#p8bfcf64767)\" d=\"M 743.592016 822.6 \r\nL 743.592016 7.2 \r\n\" style=\"fill:none;stroke:#1f77b4;stroke-linecap:square;stroke-width:1.5;\"/>\r\n   </g>\r\n   <g id=\"line2d_33\">\r\n    <path clip-path=\"url(#p8bfcf64767)\" d=\"M 953.497972 822.6 \r\nL 953.497972 7.2 \r\n\" style=\"fill:none;stroke:#1f77b4;stroke-linecap:square;stroke-width:1.5;\"/>\r\n   </g>\r\n   <g id=\"patch_7\">\r\n    <path d=\"M 63.146875 822.6 \r\nL 63.146875 7.2 \r\n\" style=\"fill:none;stroke:#000000;stroke-linecap:square;stroke-linejoin:miter;stroke-width:0.8;\"/>\r\n   </g>\r\n   <g id=\"patch_8\">\r\n    <path d=\"M 1179.146875 822.6 \r\nL 1179.146875 7.2 \r\n\" style=\"fill:none;stroke:#000000;stroke-linecap:square;stroke-linejoin:miter;stroke-width:0.8;\"/>\r\n   </g>\r\n   <g id=\"patch_9\">\r\n    <path d=\"M 63.146875 822.6 \r\nL 1179.146875 822.6 \r\n\" style=\"fill:none;stroke:#000000;stroke-linecap:square;stroke-linejoin:miter;stroke-width:0.8;\"/>\r\n   </g>\r\n   <g id=\"patch_10\">\r\n    <path d=\"M 63.146875 7.2 \r\nL 1179.146875 7.2 \r\n\" style=\"fill:none;stroke:#000000;stroke-linecap:square;stroke-linejoin:miter;stroke-width:0.8;\"/>\r\n   </g>\r\n  </g>\r\n </g>\r\n <defs>\r\n  <clipPath id=\"p8bfcf64767\">\r\n   <rect height=\"815.4\" width=\"1116\" x=\"63.146875\" y=\"7.2\"/>\r\n  </clipPath>\r\n </defs>\r\n</svg>\r\n",
      "image/png": "[encoded data removed]"
     },
     "metadata": {
      "needs_background": "light"
     }
    }
   ],
   "source": [
    "# plotting sentiment with vertical lines when regulations were started\n",
    "plt.figure(figsize=(20,15))\n",
    "sns.lineplot(y=utah_covid['normalized_new_death'], x=utah_covid['short_date'] , color=\"g\")\n",
    "ax2 = plt.twinx()\n",
    "sns.lineplot(y= utah_sentiment['sentiment'], x = utah_sentiment['date'], color=\"b\", ax=ax2)\n",
    "for date in start_dates:\n",
    "    date = int(date)\n",
    "    plt.axvline(x=date)\n",
    "plt.show()"
   ]
  },
  {
   "source": [
    "Plotly can give us an interactive version"
   ],
   "cell_type": "markdown",
   "metadata": {}
  },
  {
   "cell_type": "code",
   "execution_count": 35,
   "metadata": {},
   "outputs": [
    {
     "output_type": "display_data",
     "data": {
      "application/vnd.plotly.v1+json": {
       "config": {
        "plotlyServerURL": "https://plot.ly"
       },
       "data": [
        {
         "name": "Average Twitter Sentiment",
         "type": "scatter",
         "x": [
          1,
          2,
          3,
          4,
          5,
          6,
          7,
          8,
          9,
          10,
          11,
          12,
          13,
          14,
          15,
          16,
          17,
          18,
          19,
          20,
          21,
          22,
          23,
          24,
          25,
          26,
          27,
          28,
          29,
          30
         ],
         "y": [
          -0.13995381250254826,
          -0.15864865077105728,
          -0.13631579070106933,
          -0.14680851213237706,
          -0.12296296450090995,
          -0.11445221629662393,
          -0.09422572330618156,
          -0.11361386278404458,
          -0.08958333505628009,
          -0.13474576421460865,
          -0.151578948725211,
          -0.08576512623087791,
          -0.12203856939372935,
          -0.10289389283135772,
          -0.1429362904868628,
          -0.13887468186180915,
          -0.14794952890098284,
          -0.15457746740692938,
          -0.16495177077902093,
          -0.22500000381842256,
          -0.19244713268701397,
          -0.11828255108518945,
          -0.22500000381842256,
          -0.13134328523344954,
          -0.16710526550090626,
          -0.15878136410614924,
          -0.14672897382410144,
          -0.10584192566855256,
          -0.16151761594745848,
          -0.13700000221530598
         ]
        },
        {
         "hoverinfo": "text",
         "hovertemplate": "<b>Regulation(s), %{x}/04/2020</b>:<br>%{text}<extra></extra>",
         "mode": "markers",
         "name": "Regulation (hover on dot)",
         "text": [
          "Gov. Gary R. Herbert of Utah, USA, has issued an Executive Order<br>instituting a moratorium on residential evictions fort a small number<br>of individuals who are unable to pay rent due to direct and<br>identifiable impacts of COVID-19 on April 1 2020.",
          "Steward Health Care offers COVID-19 drive-through testing at three<br>hospital locations in Utah, USA from April 6 2020",
          "Utah, USA will, for the first time, deploy a targeted wireless<br>emergency alert (WEA) on certain highways that cross state borders<br>into Utah. The alert will direct motorists to fill out a brief<br>declaration, or survey, that is available at entry.utah.gov.",
          "Gov. Herbert of Utah, USA, on April 9 2020, has issued an Executive<br>Order establishing a requirement for individuals entering Utah to<br>complete a travel declaration form.",
          "Utah, USA will use electronic message boards instead of text alerts to<br>alert motorists of health declaration order from April 13 2020.<br>Arriving airline passengers will continue receiving postcards<br>directing them to entry.utah.gov.",
          "Gov. Gary Herbert, of Utah, USA, along with state superintendent Syd<br>Dickson announced that public schools will extend their “soft closure”<br>until the end of the school year.<br><br>Gov. Gary Herbert, of Utah,<br>USA, along with state superintendent Syd Dickson announced that public<br>schools will extend their “soft closure” until the end of the school<br>year.",
          "State Orders Restaurants, Bars to Suspend Dine-in Services",
          "State of Utah Restricts Non-urgent Surgeries on March 24 2020."
         ],
         "type": "scatter",
         "x": [
          "01",
          "06",
          "09",
          "10",
          "13",
          "14",
          "19",
          "25"
         ],
         "y": [
          -0.13,
          -0.13,
          -0.13,
          -0.13,
          -0.13,
          -0.13,
          -0.13,
          -0.13
         ]
        }
       ],
       "layout": {
        "height": 550,
        "margin": {
         "b": 100,
         "l": 50,
         "pad": 4,
         "r": 50,
         "t": 200
        },
        "shapes": [
         {
          "line": {
           "color": "red",
           "width": 1
          },
          "type": "line",
          "x0": 1,
          "x1": 1,
          "xref": "x",
          "y0": 0,
          "y1": 1,
          "yref": "y domain"
         },
         {
          "line": {
           "color": "red",
           "width": 1
          },
          "type": "line",
          "x0": 6,
          "x1": 6,
          "xref": "x",
          "y0": 0,
          "y1": 1,
          "yref": "y domain"
         },
         {
          "line": {
           "color": "red",
           "width": 1
          },
          "type": "line",
          "x0": 9,
          "x1": 9,
          "xref": "x",
          "y0": 0,
          "y1": 1,
          "yref": "y domain"
         },
         {
          "line": {
           "color": "red",
           "width": 1
          },
          "type": "line",
          "x0": 10,
          "x1": 10,
          "xref": "x",
          "y0": 0,
          "y1": 1,
          "yref": "y domain"
         },
         {
          "line": {
           "color": "red",
           "width": 1
          },
          "type": "line",
          "x0": 13,
          "x1": 13,
          "xref": "x",
          "y0": 0,
          "y1": 1,
          "yref": "y domain"
         },
         {
          "line": {
           "color": "red",
           "width": 1
          },
          "type": "line",
          "x0": 14,
          "x1": 14,
          "xref": "x",
          "y0": 0,
          "y1": 1,
          "yref": "y domain"
         },
         {
          "line": {
           "color": "red",
           "width": 1
          },
          "type": "line",
          "x0": 19,
          "x1": 19,
          "xref": "x",
          "y0": 0,
          "y1": 1,
          "yref": "y domain"
         },
         {
          "line": {
           "color": "red",
           "width": 1
          },
          "type": "line",
          "x0": 25,
          "x1": 25,
          "xref": "x",
          "y0": 0,
          "y1": 1,
          "yref": "y domain"
         }
        ],
        "template": {
         "data": {
          "bar": [
           {
            "error_x": {
             "color": "#2a3f5f"
            },
            "error_y": {
             "color": "#2a3f5f"
            },
            "marker": {
             "line": {
              "color": "#E5ECF6",
              "width": 0.5
             }
            },
            "type": "bar"
           }
          ],
          "barpolar": [
           {
            "marker": {
             "line": {
              "color": "#E5ECF6",
              "width": 0.5
             }
            },
            "type": "barpolar"
           }
          ],
          "carpet": [
           {
            "aaxis": {
             "endlinecolor": "#2a3f5f",
             "gridcolor": "white",
             "linecolor": "white",
             "minorgridcolor": "white",
             "startlinecolor": "#2a3f5f"
            },
            "baxis": {
             "endlinecolor": "#2a3f5f",
             "gridcolor": "white",
             "linecolor": "white",
             "minorgridcolor": "white",
             "startlinecolor": "#2a3f5f"
            },
            "type": "carpet"
           }
          ],
          "choropleth": [
           {
            "colorbar": {
             "outlinewidth": 0,
             "ticks": ""
            },
            "type": "choropleth"
           }
          ],
          "contour": [
           {
            "colorbar": {
             "outlinewidth": 0,
             "ticks": ""
            },
            "colorscale": [
             [
              0,
              "#0d0887"
             ],
             [
              0.1111111111111111,
              "#46039f"
             ],
             [
              0.2222222222222222,
              "#7201a8"
             ],
             [
              0.3333333333333333,
              "#9c179e"
             ],
             [
              0.4444444444444444,
              "#bd3786"
             ],
             [
              0.5555555555555556,
              "#d8576b"
             ],
             [
              0.6666666666666666,
              "#ed7953"
             ],
             [
              0.7777777777777778,
              "#fb9f3a"
             ],
             [
              0.8888888888888888,
              "#fdca26"
             ],
             [
              1,
              "#f0f921"
             ]
            ],
            "type": "contour"
           }
          ],
          "contourcarpet": [
           {
            "colorbar": {
             "outlinewidth": 0,
             "ticks": ""
            },
            "type": "contourcarpet"
           }
          ],
          "heatmap": [
           {
            "colorbar": {
             "outlinewidth": 0,
             "ticks": ""
            },
            "colorscale": [
             [
              0,
              "#0d0887"
             ],
             [
              0.1111111111111111,
              "#46039f"
             ],
             [
              0.2222222222222222,
              "#7201a8"
             ],
             [
              0.3333333333333333,
              "#9c179e"
             ],
             [
              0.4444444444444444,
              "#bd3786"
             ],
             [
              0.5555555555555556,
              "#d8576b"
             ],
             [
              0.6666666666666666,
              "#ed7953"
             ],
             [
              0.7777777777777778,
              "#fb9f3a"
             ],
             [
              0.8888888888888888,
              "#fdca26"
             ],
             [
              1,
              "#f0f921"
             ]
            ],
            "type": "heatmap"
           }
          ],
          "heatmapgl": [
           {
            "colorbar": {
             "outlinewidth": 0,
             "ticks": ""
            },
            "colorscale": [
             [
              0,
              "#0d0887"
             ],
             [
              0.1111111111111111,
              "#46039f"
             ],
             [
              0.2222222222222222,
              "#7201a8"
             ],
             [
              0.3333333333333333,
              "#9c179e"
             ],
             [
              0.4444444444444444,
              "#bd3786"
             ],
             [
              0.5555555555555556,
              "#d8576b"
             ],
             [
              0.6666666666666666,
              "#ed7953"
             ],
             [
              0.7777777777777778,
              "#fb9f3a"
             ],
             [
              0.8888888888888888,
              "#fdca26"
             ],
             [
              1,
              "#f0f921"
             ]
            ],
            "type": "heatmapgl"
           }
          ],
          "histogram": [
           {
            "marker": {
             "colorbar": {
              "outlinewidth": 0,
              "ticks": ""
             }
            },
            "type": "histogram"
           }
          ],
          "histogram2d": [
           {
            "colorbar": {
             "outlinewidth": 0,
             "ticks": ""
            },
            "colorscale": [
             [
              0,
              "#0d0887"
             ],
             [
              0.1111111111111111,
              "#46039f"
             ],
             [
              0.2222222222222222,
              "#7201a8"
             ],
             [
              0.3333333333333333,
              "#9c179e"
             ],
             [
              0.4444444444444444,
              "#bd3786"
             ],
             [
              0.5555555555555556,
              "#d8576b"
             ],
             [
              0.6666666666666666,
              "#ed7953"
             ],
             [
              0.7777777777777778,
              "#fb9f3a"
             ],
             [
              0.8888888888888888,
              "#fdca26"
             ],
             [
              1,
              "#f0f921"
             ]
            ],
            "type": "histogram2d"
           }
          ],
          "histogram2dcontour": [
           {
            "colorbar": {
             "outlinewidth": 0,
             "ticks": ""
            },
            "colorscale": [
             [
              0,
              "#0d0887"
             ],
             [
              0.1111111111111111,
              "#46039f"
             ],
             [
              0.2222222222222222,
              "#7201a8"
             ],
             [
              0.3333333333333333,
              "#9c179e"
             ],
             [
              0.4444444444444444,
              "#bd3786"
             ],
             [
              0.5555555555555556,
              "#d8576b"
             ],
             [
              0.6666666666666666,
              "#ed7953"
             ],
             [
              0.7777777777777778,
              "#fb9f3a"
             ],
             [
              0.8888888888888888,
              "#fdca26"
             ],
             [
              1,
              "#f0f921"
             ]
            ],
            "type": "histogram2dcontour"
           }
          ],
          "mesh3d": [
           {
            "colorbar": {
             "outlinewidth": 0,
             "ticks": ""
            },
            "type": "mesh3d"
           }
          ],
          "parcoords": [
           {
            "line": {
             "colorbar": {
              "outlinewidth": 0,
              "ticks": ""
             }
            },
            "type": "parcoords"
           }
          ],
          "pie": [
           {
            "automargin": true,
            "type": "pie"
           }
          ],
          "scatter": [
           {
            "marker": {
             "colorbar": {
              "outlinewidth": 0,
              "ticks": ""
             }
            },
            "type": "scatter"
           }
          ],
          "scatter3d": [
           {
            "line": {
             "colorbar": {
              "outlinewidth": 0,
              "ticks": ""
             }
            },
            "marker": {
             "colorbar": {
              "outlinewidth": 0,
              "ticks": ""
             }
            },
            "type": "scatter3d"
           }
          ],
          "scattercarpet": [
           {
            "marker": {
             "colorbar": {
              "outlinewidth": 0,
              "ticks": ""
             }
            },
            "type": "scattercarpet"
           }
          ],
          "scattergeo": [
           {
            "marker": {
             "colorbar": {
              "outlinewidth": 0,
              "ticks": ""
             }
            },
            "type": "scattergeo"
           }
          ],
          "scattergl": [
           {
            "marker": {
             "colorbar": {
              "outlinewidth": 0,
              "ticks": ""
             }
            },
            "type": "scattergl"
           }
          ],
          "scattermapbox": [
           {
            "marker": {
             "colorbar": {
              "outlinewidth": 0,
              "ticks": ""
             }
            },
            "type": "scattermapbox"
           }
          ],
          "scatterpolar": [
           {
            "marker": {
             "colorbar": {
              "outlinewidth": 0,
              "ticks": ""
             }
            },
            "type": "scatterpolar"
           }
          ],
          "scatterpolargl": [
           {
            "marker": {
             "colorbar": {
              "outlinewidth": 0,
              "ticks": ""
             }
            },
            "type": "scatterpolargl"
           }
          ],
          "scatterternary": [
           {
            "marker": {
             "colorbar": {
              "outlinewidth": 0,
              "ticks": ""
             }
            },
            "type": "scatterternary"
           }
          ],
          "surface": [
           {
            "colorbar": {
             "outlinewidth": 0,
             "ticks": ""
            },
            "colorscale": [
             [
              0,
              "#0d0887"
             ],
             [
              0.1111111111111111,
              "#46039f"
             ],
             [
              0.2222222222222222,
              "#7201a8"
             ],
             [
              0.3333333333333333,
              "#9c179e"
             ],
             [
              0.4444444444444444,
              "#bd3786"
             ],
             [
              0.5555555555555556,
              "#d8576b"
             ],
             [
              0.6666666666666666,
              "#ed7953"
             ],
             [
              0.7777777777777778,
              "#fb9f3a"
             ],
             [
              0.8888888888888888,
              "#fdca26"
             ],
             [
              1,
              "#f0f921"
             ]
            ],
            "type": "surface"
           }
          ],
          "table": [
           {
            "cells": {
             "fill": {
              "color": "#EBF0F8"
             },
             "line": {
              "color": "white"
             }
            },
            "header": {
             "fill": {
              "color": "#C8D4E3"
             },
             "line": {
              "color": "white"
             }
            },
            "type": "table"
           }
          ]
         },
         "layout": {
          "annotationdefaults": {
           "arrowcolor": "#2a3f5f",
           "arrowhead": 0,
           "arrowwidth": 1
          },
          "autotypenumbers": "strict",
          "coloraxis": {
           "colorbar": {
            "outlinewidth": 0,
            "ticks": ""
           }
          },
          "colorscale": {
           "diverging": [
            [
             0,
             "#8e0152"
            ],
            [
             0.1,
             "#c51b7d"
            ],
            [
             0.2,
             "#de77ae"
            ],
            [
             0.3,
             "#f1b6da"
            ],
            [
             0.4,
             "#fde0ef"
            ],
            [
             0.5,
             "#f7f7f7"
            ],
            [
             0.6,
             "#e6f5d0"
            ],
            [
             0.7,
             "#b8e186"
            ],
            [
             0.8,
             "#7fbc41"
            ],
            [
             0.9,
             "#4d9221"
            ],
            [
             1,
             "#276419"
            ]
           ],
           "sequential": [
            [
             0,
             "#0d0887"
            ],
            [
             0.1111111111111111,
             "#46039f"
            ],
            [
             0.2222222222222222,
             "#7201a8"
            ],
            [
             0.3333333333333333,
             "#9c179e"
            ],
            [
             0.4444444444444444,
             "#bd3786"
            ],
            [
             0.5555555555555556,
             "#d8576b"
            ],
            [
             0.6666666666666666,
             "#ed7953"
            ],
            [
             0.7777777777777778,
             "#fb9f3a"
            ],
            [
             0.8888888888888888,
             "#fdca26"
            ],
            [
             1,
             "#f0f921"
            ]
           ],
           "sequentialminus": [
            [
             0,
             "#0d0887"
            ],
            [
             0.1111111111111111,
             "#46039f"
            ],
            [
             0.2222222222222222,
             "#7201a8"
            ],
            [
             0.3333333333333333,
             "#9c179e"
            ],
            [
             0.4444444444444444,
             "#bd3786"
            ],
            [
             0.5555555555555556,
             "#d8576b"
            ],
            [
             0.6666666666666666,
             "#ed7953"
            ],
            [
             0.7777777777777778,
             "#fb9f3a"
            ],
            [
             0.8888888888888888,
             "#fdca26"
            ],
            [
             1,
             "#f0f921"
            ]
           ]
          },
          "colorway": [
           "#636efa",
           "#EF553B",
           "#00cc96",
           "#ab63fa",
           "#FFA15A",
           "#19d3f3",
           "#FF6692",
           "#B6E880",
           "#FF97FF",
           "#FECB52"
          ],
          "font": {
           "color": "#2a3f5f"
          },
          "geo": {
           "bgcolor": "white",
           "lakecolor": "white",
           "landcolor": "#E5ECF6",
           "showlakes": true,
           "showland": true,
           "subunitcolor": "white"
          },
          "hoverlabel": {
           "align": "left"
          },
          "hovermode": "closest",
          "mapbox": {
           "style": "light"
          },
          "paper_bgcolor": "white",
          "plot_bgcolor": "#E5ECF6",
          "polar": {
           "angularaxis": {
            "gridcolor": "white",
            "linecolor": "white",
            "ticks": ""
           },
           "bgcolor": "#E5ECF6",
           "radialaxis": {
            "gridcolor": "white",
            "linecolor": "white",
            "ticks": ""
           }
          },
          "scene": {
           "xaxis": {
            "backgroundcolor": "#E5ECF6",
            "gridcolor": "white",
            "gridwidth": 2,
            "linecolor": "white",
            "showbackground": true,
            "ticks": "",
            "zerolinecolor": "white"
           },
           "yaxis": {
            "backgroundcolor": "#E5ECF6",
            "gridcolor": "white",
            "gridwidth": 2,
            "linecolor": "white",
            "showbackground": true,
            "ticks": "",
            "zerolinecolor": "white"
           },
           "zaxis": {
            "backgroundcolor": "#E5ECF6",
            "gridcolor": "white",
            "gridwidth": 2,
            "linecolor": "white",
            "showbackground": true,
            "ticks": "",
            "zerolinecolor": "white"
           }
          },
          "shapedefaults": {
           "line": {
            "color": "#2a3f5f"
           }
          },
          "ternary": {
           "aaxis": {
            "gridcolor": "white",
            "linecolor": "white",
            "ticks": ""
           },
           "baxis": {
            "gridcolor": "white",
            "linecolor": "white",
            "ticks": ""
           },
           "bgcolor": "#E5ECF6",
           "caxis": {
            "gridcolor": "white",
            "linecolor": "white",
            "ticks": ""
           }
          },
          "title": {
           "x": 0.05
          },
          "xaxis": {
           "automargin": true,
           "gridcolor": "white",
           "linecolor": "white",
           "ticks": "",
           "title": {
            "standoff": 15
           },
           "zerolinecolor": "white",
           "zerolinewidth": 2
          },
          "yaxis": {
           "automargin": true,
           "gridcolor": "white",
           "linecolor": "white",
           "ticks": "",
           "title": {
            "standoff": 15
           },
           "zerolinecolor": "white",
           "zerolinewidth": 2
          }
         }
        },
        "title": {
         "text": "Utah State Regulations and COVID Twitter Sentiment, April 2020"
        },
        "width": 900,
        "xaxis": {
         "title": {
          "text": "Date in April 2020"
         }
        },
        "yaxis": {
         "title": {
          "text": "Average Twitter Sentiment in Utah"
         }
        }
       }
      }
     },
     "metadata": {}
    }
   ],
   "source": [
    "fig = go.Figure(data=go.Scatter(x=utah_sentiment['date'], y=utah_sentiment['sentiment'], name='Average Twitter Sentiment'))\n",
    "\n",
    "#https://plotly.com/python/horizontal-vertical-shapes/\n",
    "#https://plotly.com/python/hover-text-and-formatting/#customizing-hover-text-with-plotly-express\n",
    "\n",
    "#add a dummy variable to plot events\n",
    "fig.add_trace(go.Scatter(x=utah_regulations['short_start_date'], y=[-0.13]*len(utah_regulations), mode='markers', hoverinfo = 'text', hovertemplate = '<b>Regulation(s), %{x}/04/2020</b>:<br>'+'%{text}'+'<extra></extra>', text = utah_regulations['description'], name='Regulation (hover on dot)'))\n",
    "\n",
    "\n",
    "\n",
    "for date in start_dates:\n",
    "    date = int(date)\n",
    "    fig.add_vline(x=date, line_width=1, line_color=\"red\")\n",
    "\n",
    "fig.update_layout(\n",
    "    title=\"Utah State Regulations and COVID Twitter Sentiment, April 2020\",\n",
    "    xaxis_title=\"Date in April 2020\",\n",
    "    yaxis_title=\"Average Twitter Sentiment in Utah\",\n",
    "    width=900,\n",
    "    height=550,\n",
    "    margin=dict(\n",
    "        l=50,\n",
    "        r=50,\n",
    "        b=100,\n",
    "        t=200,\n",
    "        pad=4\n",
    "    )\n",
    "    )\n",
    "fig.show()\n"
   ]
  },
  {
   "cell_type": "code",
   "execution_count": null,
   "metadata": {},
   "outputs": [],
   "source": []
  },
  {
   "cell_type": "code",
   "execution_count": 36,
   "metadata": {},
   "outputs": [],
   "source": [
    "#save html\n",
    "fig.write_html(\"./utah_regulations_sentiment.html\")"
   ]
  },
  {
   "source": [
    "_________________________________________________________________________________________________________________"
   ],
   "cell_type": "markdown",
   "metadata": {}
  },
  {
   "source": [
    "## Calculating correlation\n",
    "* we use a point biserial correlation since we have a continuous variable (sentiment), and a binary/dichotomous variable (regulation started or not)"
   ],
   "cell_type": "markdown",
   "metadata": {}
  },
  {
   "cell_type": "code",
   "execution_count": 25,
   "metadata": {},
   "outputs": [],
   "source": [
    "#import library\n",
    "from scipy import stats"
   ]
  },
  {
   "cell_type": "code",
   "execution_count": 26,
   "metadata": {},
   "outputs": [
    {
     "output_type": "execute_result",
     "data": {
      "text/plain": [
       "[1, 6, 9, 10, 13, 14, 19, 25]"
      ]
     },
     "metadata": {},
     "execution_count": 26
    }
   ],
   "source": [
    "int_start_dates = [int(i) for i in start_dates]\n",
    "int_start_dates"
   ]
  },
  {
   "cell_type": "code",
   "execution_count": 27,
   "metadata": {},
   "outputs": [
    {
     "output_type": "execute_result",
     "data": {
      "text/plain": [
       "[1,\n",
       " 0,\n",
       " 0,\n",
       " 0,\n",
       " 0,\n",
       " 1,\n",
       " 0,\n",
       " 0,\n",
       " 1,\n",
       " 1,\n",
       " 0,\n",
       " 0,\n",
       " 1,\n",
       " 1,\n",
       " 0,\n",
       " 0,\n",
       " 0,\n",
       " 0,\n",
       " 1,\n",
       " 0,\n",
       " 0,\n",
       " 0,\n",
       " 0,\n",
       " 0,\n",
       " 1,\n",
       " 0,\n",
       " 0,\n",
       " 0,\n",
       " 0,\n",
       " 0]"
      ]
     },
     "metadata": {},
     "execution_count": 27
    }
   ],
   "source": [
    "#creating a list of the days in april and whether there was a regulation (1) or not (0)\n",
    "\n",
    "regulation_days = []\n",
    "\n",
    "for day in range(1,31):\n",
    "    if day in int_start_dates:\n",
    "        regulation_days.append(1)\n",
    "    else:\n",
    "        regulation_days.append(0)\n",
    "\n",
    "regulation_days\n",
    "        "
   ]
  },
  {
   "cell_type": "code",
   "execution_count": 28,
   "metadata": {},
   "outputs": [
    {
     "output_type": "execute_result",
     "data": {
      "text/plain": [
       "      sentiment  date\n",
       "44    -0.139954     1\n",
       "94    -0.158649     2\n",
       "144   -0.136316     3\n",
       "194   -0.146809     4\n",
       "244   -0.122963     5\n",
       "294   -0.114452     6\n",
       "344   -0.094226     7\n",
       "394   -0.113614     8\n",
       "444   -0.089583     9\n",
       "494   -0.134746    10\n",
       "544   -0.151579    11\n",
       "594   -0.085765    12\n",
       "644   -0.122039    13\n",
       "694   -0.102894    14\n",
       "744   -0.142936    15\n",
       "794   -0.138875    16\n",
       "844   -0.147950    17\n",
       "894   -0.154577    18\n",
       "944   -0.164952    19\n",
       "994   -0.225000    20\n",
       "1044  -0.192447    21\n",
       "1094  -0.118283    22\n",
       "1144  -0.225000    23\n",
       "1194  -0.131343    24\n",
       "1244  -0.167105    25\n",
       "1294  -0.158781    26\n",
       "1344  -0.146729    27\n",
       "1394  -0.105842    28\n",
       "1444  -0.161518    29\n",
       "1494  -0.137000    30"
      ],
      "text/html": "<div>\n<style scoped>\n    .dataframe tbody tr th:only-of-type {\n        vertical-align: middle;\n    }\n\n    .dataframe tbody tr th {\n        vertical-align: top;\n    }\n\n    .dataframe thead th {\n        text-align: right;\n    }\n</style>\n<table border=\"1\" class=\"dataframe\">\n  <thead>\n    <tr style=\"text-align: right;\">\n      <th></th>\n      <th>sentiment</th>\n      <th>date</th>\n    </tr>\n  </thead>\n  <tbody>\n    <tr>\n      <td>44</td>\n      <td>-0.139954</td>\n      <td>1</td>\n    </tr>\n    <tr>\n      <td>94</td>\n      <td>-0.158649</td>\n      <td>2</td>\n    </tr>\n    <tr>\n      <td>144</td>\n      <td>-0.136316</td>\n      <td>3</td>\n    </tr>\n    <tr>\n      <td>194</td>\n      <td>-0.146809</td>\n      <td>4</td>\n    </tr>\n    <tr>\n      <td>244</td>\n      <td>-0.122963</td>\n      <td>5</td>\n    </tr>\n    <tr>\n      <td>294</td>\n      <td>-0.114452</td>\n      <td>6</td>\n    </tr>\n    <tr>\n      <td>344</td>\n      <td>-0.094226</td>\n      <td>7</td>\n    </tr>\n    <tr>\n      <td>394</td>\n      <td>-0.113614</td>\n      <td>8</td>\n    </tr>\n    <tr>\n      <td>444</td>\n      <td>-0.089583</td>\n      <td>9</td>\n    </tr>\n    <tr>\n      <td>494</td>\n      <td>-0.134746</td>\n      <td>10</td>\n    </tr>\n    <tr>\n      <td>544</td>\n      <td>-0.151579</td>\n      <td>11</td>\n    </tr>\n    <tr>\n      <td>594</td>\n      <td>-0.085765</td>\n      <td>12</td>\n    </tr>\n    <tr>\n      <td>644</td>\n      <td>-0.122039</td>\n      <td>13</td>\n    </tr>\n    <tr>\n      <td>694</td>\n      <td>-0.102894</td>\n      <td>14</td>\n    </tr>\n    <tr>\n      <td>744</td>\n      <td>-0.142936</td>\n      <td>15</td>\n    </tr>\n    <tr>\n      <td>794</td>\n      <td>-0.138875</td>\n      <td>16</td>\n    </tr>\n    <tr>\n      <td>844</td>\n      <td>-0.147950</td>\n      <td>17</td>\n    </tr>\n    <tr>\n      <td>894</td>\n      <td>-0.154577</td>\n      <td>18</td>\n    </tr>\n    <tr>\n      <td>944</td>\n      <td>-0.164952</td>\n      <td>19</td>\n    </tr>\n    <tr>\n      <td>994</td>\n      <td>-0.225000</td>\n      <td>20</td>\n    </tr>\n    <tr>\n      <td>1044</td>\n      <td>-0.192447</td>\n      <td>21</td>\n    </tr>\n    <tr>\n      <td>1094</td>\n      <td>-0.118283</td>\n      <td>22</td>\n    </tr>\n    <tr>\n      <td>1144</td>\n      <td>-0.225000</td>\n      <td>23</td>\n    </tr>\n    <tr>\n      <td>1194</td>\n      <td>-0.131343</td>\n      <td>24</td>\n    </tr>\n    <tr>\n      <td>1244</td>\n      <td>-0.167105</td>\n      <td>25</td>\n    </tr>\n    <tr>\n      <td>1294</td>\n      <td>-0.158781</td>\n      <td>26</td>\n    </tr>\n    <tr>\n      <td>1344</td>\n      <td>-0.146729</td>\n      <td>27</td>\n    </tr>\n    <tr>\n      <td>1394</td>\n      <td>-0.105842</td>\n      <td>28</td>\n    </tr>\n    <tr>\n      <td>1444</td>\n      <td>-0.161518</td>\n      <td>29</td>\n    </tr>\n    <tr>\n      <td>1494</td>\n      <td>-0.137000</td>\n      <td>30</td>\n    </tr>\n  </tbody>\n</table>\n</div>"
     },
     "metadata": {},
     "execution_count": 28
    }
   ],
   "source": [
    "utah_sentiment[['sentiment','date']]"
   ]
  },
  {
   "cell_type": "code",
   "execution_count": 29,
   "metadata": {},
   "outputs": [
    {
     "output_type": "stream",
     "name": "stdout",
     "text": [
      "Correlation coefficient: 0.21126929540968525, P-value: 0.26241228249926224\n"
     ]
    }
   ],
   "source": [
    "corr, p_val = stats.pointbiserialr(utah_sentiment['sentiment'], regulation_days)\n",
    "print('Correlation coefficient: {}, P-value: {}'.format(corr, p_val))"
   ]
  },
  {
   "cell_type": "code",
   "execution_count": null,
   "metadata": {},
   "outputs": [],
   "source": []
  }
 ]
}