{
 "metadata": {
  "language_info": {
   "codemirror_mode": {
    "name": "ipython",
    "version": 3
   },
   "file_extension": ".py",
   "mimetype": "text/x-python",
   "name": "python",
   "nbconvert_exporter": "python",
   "pygments_lexer": "ipython3",
   "version": "3.7.4-final"
  },
  "orig_nbformat": 2,
  "kernelspec": {
   "name": "python3",
   "display_name": "Python 3",
   "language": "python"
  }
 },
 "nbformat": 4,
 "nbformat_minor": 2,
 "cells": [
  {
   "source": [
    "# Colorado State Regulations and Twitter Sentiment"
   ],
   "cell_type": "markdown",
   "metadata": {}
  },
  {
   "cell_type": "code",
   "execution_count": 22,
   "metadata": {},
   "outputs": [],
   "source": [
    "# import libraries\n",
    "import seaborn as sns\n",
    "import matplotlib.pyplot as plt\n",
    "import plotly.express as px\n",
    "import pandas as pd\n",
    "import numpy as np \n",
    "import plotly.graph_objects as go\n"
   ]
  },
  {
   "cell_type": "code",
   "execution_count": 23,
   "metadata": {},
   "outputs": [
    {
     "output_type": "stream",
     "name": "stdout",
     "text": [
      "<class 'pandas.core.frame.DataFrame'>\nRangeIndex: 1530 entries, 0 to 1529\nData columns (total 13 columns):\ndate                    1530 non-null object\ntot_cases               1530 non-null int64\nnew_case                1530 non-null int64\ntot_death               1530 non-null int64\nnew_death               1530 non-null int64\nState                   1530 non-null object\npopulation_estimate     1530 non-null int64\nstate_abbreviation      1530 non-null object\nnormalized_tot_cases    1530 non-null float64\nnormalized_new_case     1530 non-null float64\nnormalized_tot_death    1530 non-null float64\nnormalized_new_death    1530 non-null float64\nshort_date              1530 non-null int64\ndtypes: float64(4), int64(6), object(3)\nmemory usage: 155.5+ KB\nNone\n"
     ]
    },
    {
     "output_type": "execute_result",
     "data": {
      "text/plain": [
       "            date  tot_cases  new_case  tot_death  new_death          State  \\\n",
       "0     04/11/2020        293        15          7          1   North Dakota   \n",
       "1     04/14/2020        341        10          9          1   North Dakota   \n",
       "2     04/03/2020        173        14          3          0   North Dakota   \n",
       "3     04/05/2020        207        21          3          0   North Dakota   \n",
       "4     04/25/2020        803        55         16          1   North Dakota   \n",
       "...          ...        ...       ...        ...        ...            ...   \n",
       "1525  04/04/2020        621        81          9          2  New Hampshire   \n",
       "1526  04/01/2020        415        48          4          1  New Hampshire   \n",
       "1527  04/20/2020       1447        55         42          1  New Hampshire   \n",
       "1528  04/23/2020       1670        82         51          3  New Hampshire   \n",
       "1529  04/26/2020       1864        77         60          0  New Hampshire   \n",
       "\n",
       "      population_estimate state_abbreviation  normalized_tot_cases  \\\n",
       "0                  761723                 ND              0.384654   \n",
       "1                  761723                 ND              0.447669   \n",
       "2                  761723                 ND              0.227117   \n",
       "3                  761723                 ND              0.271752   \n",
       "4                  761723                 ND              1.054189   \n",
       "...                   ...                ...                   ...   \n",
       "1525              1371246                 NH              0.452873   \n",
       "1526              1371246                 NH              0.302644   \n",
       "1527              1371246                 NH              1.055245   \n",
       "1528              1371246                 NH              1.217870   \n",
       "1529              1371246                 NH              1.359348   \n",
       "\n",
       "      normalized_new_case  normalized_tot_death  normalized_new_death  \\\n",
       "0                0.019692              0.009190              0.001313   \n",
       "1                0.013128              0.011815              0.001313   \n",
       "2                0.018379              0.003938              0.000000   \n",
       "3                0.027569              0.003938              0.000000   \n",
       "4                0.072205              0.021005              0.001313   \n",
       "...                   ...                   ...                   ...   \n",
       "1525             0.059070              0.006563              0.001459   \n",
       "1526             0.035005              0.002917              0.000729   \n",
       "1527             0.040110              0.030629              0.000729   \n",
       "1528             0.059800              0.037192              0.002188   \n",
       "1529             0.056153              0.043756              0.000000   \n",
       "\n",
       "      short_date  \n",
       "0             11  \n",
       "1             14  \n",
       "2              3  \n",
       "3              5  \n",
       "4             25  \n",
       "...          ...  \n",
       "1525           4  \n",
       "1526           1  \n",
       "1527          20  \n",
       "1528          23  \n",
       "1529          26  \n",
       "\n",
       "[1530 rows x 13 columns]"
      ],
      "text/html": "<div>\n<style scoped>\n    .dataframe tbody tr th:only-of-type {\n        vertical-align: middle;\n    }\n\n    .dataframe tbody tr th {\n        vertical-align: top;\n    }\n\n    .dataframe thead th {\n        text-align: right;\n    }\n</style>\n<table border=\"1\" class=\"dataframe\">\n  <thead>\n    <tr style=\"text-align: right;\">\n      <th></th>\n      <th>date</th>\n      <th>tot_cases</th>\n      <th>new_case</th>\n      <th>tot_death</th>\n      <th>new_death</th>\n      <th>State</th>\n      <th>population_estimate</th>\n      <th>state_abbreviation</th>\n      <th>normalized_tot_cases</th>\n      <th>normalized_new_case</th>\n      <th>normalized_tot_death</th>\n      <th>normalized_new_death</th>\n      <th>short_date</th>\n    </tr>\n  </thead>\n  <tbody>\n    <tr>\n      <td>0</td>\n      <td>04/11/2020</td>\n      <td>293</td>\n      <td>15</td>\n      <td>7</td>\n      <td>1</td>\n      <td>North Dakota</td>\n      <td>761723</td>\n      <td>ND</td>\n      <td>0.384654</td>\n      <td>0.019692</td>\n      <td>0.009190</td>\n      <td>0.001313</td>\n      <td>11</td>\n    </tr>\n    <tr>\n      <td>1</td>\n      <td>04/14/2020</td>\n      <td>341</td>\n      <td>10</td>\n      <td>9</td>\n      <td>1</td>\n      <td>North Dakota</td>\n      <td>761723</td>\n      <td>ND</td>\n      <td>0.447669</td>\n      <td>0.013128</td>\n      <td>0.011815</td>\n      <td>0.001313</td>\n      <td>14</td>\n    </tr>\n    <tr>\n      <td>2</td>\n      <td>04/03/2020</td>\n      <td>173</td>\n      <td>14</td>\n      <td>3</td>\n      <td>0</td>\n      <td>North Dakota</td>\n      <td>761723</td>\n      <td>ND</td>\n      <td>0.227117</td>\n      <td>0.018379</td>\n      <td>0.003938</td>\n      <td>0.000000</td>\n      <td>3</td>\n    </tr>\n    <tr>\n      <td>3</td>\n      <td>04/05/2020</td>\n      <td>207</td>\n      <td>21</td>\n      <td>3</td>\n      <td>0</td>\n      <td>North Dakota</td>\n      <td>761723</td>\n      <td>ND</td>\n      <td>0.271752</td>\n      <td>0.027569</td>\n      <td>0.003938</td>\n      <td>0.000000</td>\n      <td>5</td>\n    </tr>\n    <tr>\n      <td>4</td>\n      <td>04/25/2020</td>\n      <td>803</td>\n      <td>55</td>\n      <td>16</td>\n      <td>1</td>\n      <td>North Dakota</td>\n      <td>761723</td>\n      <td>ND</td>\n      <td>1.054189</td>\n      <td>0.072205</td>\n      <td>0.021005</td>\n      <td>0.001313</td>\n      <td>25</td>\n    </tr>\n    <tr>\n      <td>...</td>\n      <td>...</td>\n      <td>...</td>\n      <td>...</td>\n      <td>...</td>\n      <td>...</td>\n      <td>...</td>\n      <td>...</td>\n      <td>...</td>\n      <td>...</td>\n      <td>...</td>\n      <td>...</td>\n      <td>...</td>\n      <td>...</td>\n    </tr>\n    <tr>\n      <td>1525</td>\n      <td>04/04/2020</td>\n      <td>621</td>\n      <td>81</td>\n      <td>9</td>\n      <td>2</td>\n      <td>New Hampshire</td>\n      <td>1371246</td>\n      <td>NH</td>\n      <td>0.452873</td>\n      <td>0.059070</td>\n      <td>0.006563</td>\n      <td>0.001459</td>\n      <td>4</td>\n    </tr>\n    <tr>\n      <td>1526</td>\n      <td>04/01/2020</td>\n      <td>415</td>\n      <td>48</td>\n      <td>4</td>\n      <td>1</td>\n      <td>New Hampshire</td>\n      <td>1371246</td>\n      <td>NH</td>\n      <td>0.302644</td>\n      <td>0.035005</td>\n      <td>0.002917</td>\n      <td>0.000729</td>\n      <td>1</td>\n    </tr>\n    <tr>\n      <td>1527</td>\n      <td>04/20/2020</td>\n      <td>1447</td>\n      <td>55</td>\n      <td>42</td>\n      <td>1</td>\n      <td>New Hampshire</td>\n      <td>1371246</td>\n      <td>NH</td>\n      <td>1.055245</td>\n      <td>0.040110</td>\n      <td>0.030629</td>\n      <td>0.000729</td>\n      <td>20</td>\n    </tr>\n    <tr>\n      <td>1528</td>\n      <td>04/23/2020</td>\n      <td>1670</td>\n      <td>82</td>\n      <td>51</td>\n      <td>3</td>\n      <td>New Hampshire</td>\n      <td>1371246</td>\n      <td>NH</td>\n      <td>1.217870</td>\n      <td>0.059800</td>\n      <td>0.037192</td>\n      <td>0.002188</td>\n      <td>23</td>\n    </tr>\n    <tr>\n      <td>1529</td>\n      <td>04/26/2020</td>\n      <td>1864</td>\n      <td>77</td>\n      <td>60</td>\n      <td>0</td>\n      <td>New Hampshire</td>\n      <td>1371246</td>\n      <td>NH</td>\n      <td>1.359348</td>\n      <td>0.056153</td>\n      <td>0.043756</td>\n      <td>0.000000</td>\n      <td>26</td>\n    </tr>\n  </tbody>\n</table>\n<p>1530 rows × 13 columns</p>\n</div>"
     },
     "metadata": {},
     "execution_count": 23
    }
   ],
   "source": [
    "covid = pd.read_csv(\"./../covid_cases/normalised_covid_deaths_cases.csv\") \n",
    "\n",
    "print(covid.info())\n",
    "covid"
   ]
  },
  {
   "cell_type": "code",
   "execution_count": 24,
   "metadata": {},
   "outputs": [],
   "source": [
    "covid.sort_values(by='date',inplace=True)"
   ]
  },
  {
   "cell_type": "code",
   "execution_count": 25,
   "metadata": {},
   "outputs": [
    {
     "output_type": "execute_result",
     "data": {
      "text/plain": [
       "      sentiment  magnitude state  date\n",
       "0     -0.164179   0.700000    AK     1\n",
       "1     -0.155914   0.640246    AL     1\n",
       "2     -0.179669   0.676359    AR     1\n",
       "3     -0.170283   0.675881    AZ     1\n",
       "4     -0.167857   0.680188    CA     1\n",
       "...         ...        ...   ...   ...\n",
       "1495  -0.142558   0.710310    VA    30\n",
       "1496  -0.182609   0.866667    VT    30\n",
       "1497  -0.105985   0.663175    WA    30\n",
       "1498  -0.155979   0.735009    WI    30\n",
       "1499  -0.207018   0.684211    WY    30\n",
       "\n",
       "[1500 rows x 4 columns]"
      ],
      "text/html": "<div>\n<style scoped>\n    .dataframe tbody tr th:only-of-type {\n        vertical-align: middle;\n    }\n\n    .dataframe tbody tr th {\n        vertical-align: top;\n    }\n\n    .dataframe thead th {\n        text-align: right;\n    }\n</style>\n<table border=\"1\" class=\"dataframe\">\n  <thead>\n    <tr style=\"text-align: right;\">\n      <th></th>\n      <th>sentiment</th>\n      <th>magnitude</th>\n      <th>state</th>\n      <th>date</th>\n    </tr>\n  </thead>\n  <tbody>\n    <tr>\n      <td>0</td>\n      <td>-0.164179</td>\n      <td>0.700000</td>\n      <td>AK</td>\n      <td>1</td>\n    </tr>\n    <tr>\n      <td>1</td>\n      <td>-0.155914</td>\n      <td>0.640246</td>\n      <td>AL</td>\n      <td>1</td>\n    </tr>\n    <tr>\n      <td>2</td>\n      <td>-0.179669</td>\n      <td>0.676359</td>\n      <td>AR</td>\n      <td>1</td>\n    </tr>\n    <tr>\n      <td>3</td>\n      <td>-0.170283</td>\n      <td>0.675881</td>\n      <td>AZ</td>\n      <td>1</td>\n    </tr>\n    <tr>\n      <td>4</td>\n      <td>-0.167857</td>\n      <td>0.680188</td>\n      <td>CA</td>\n      <td>1</td>\n    </tr>\n    <tr>\n      <td>...</td>\n      <td>...</td>\n      <td>...</td>\n      <td>...</td>\n      <td>...</td>\n    </tr>\n    <tr>\n      <td>1495</td>\n      <td>-0.142558</td>\n      <td>0.710310</td>\n      <td>VA</td>\n      <td>30</td>\n    </tr>\n    <tr>\n      <td>1496</td>\n      <td>-0.182609</td>\n      <td>0.866667</td>\n      <td>VT</td>\n      <td>30</td>\n    </tr>\n    <tr>\n      <td>1497</td>\n      <td>-0.105985</td>\n      <td>0.663175</td>\n      <td>WA</td>\n      <td>30</td>\n    </tr>\n    <tr>\n      <td>1498</td>\n      <td>-0.155979</td>\n      <td>0.735009</td>\n      <td>WI</td>\n      <td>30</td>\n    </tr>\n    <tr>\n      <td>1499</td>\n      <td>-0.207018</td>\n      <td>0.684211</td>\n      <td>WY</td>\n      <td>30</td>\n    </tr>\n  </tbody>\n</table>\n<p>1500 rows × 4 columns</p>\n</div>"
     },
     "metadata": {},
     "execution_count": 25
    }
   ],
   "source": [
    "sentiment = pd.read_csv('./../covid_cases/april_average_sentiment.csv')\n",
    "sentiment"
   ]
  },
  {
   "source": [
    "## Plotting sentiment"
   ],
   "cell_type": "markdown",
   "metadata": {}
  },
  {
   "cell_type": "code",
   "execution_count": 26,
   "metadata": {},
   "outputs": [],
   "source": [
    "colorado_covid = covid[covid['state_abbreviation']=='CO']\n",
    "colorado_sentiment = sentiment[sentiment['state']=='CO']\n"
   ]
  },
  {
   "cell_type": "code",
   "execution_count": 27,
   "metadata": {},
   "outputs": [
    {
     "output_type": "execute_result",
     "data": {
      "text/plain": [
       "      sentiment  magnitude state  date\n",
       "5     -0.161361   0.679252    CO     1\n",
       "55    -0.170690   0.713282    CO     2\n",
       "105   -0.143904   0.680832    CO     3\n",
       "155   -0.165422   0.684094    CO     4\n",
       "205   -0.179158   0.697930    CO     5\n",
       "255   -0.167495   0.657971    CO     6\n",
       "305   -0.168767   0.641967    CO     7\n",
       "355   -0.147473   0.684413    CO     8\n",
       "405   -0.153403   0.684031    CO     9\n",
       "455   -0.154827   0.645719    CO    10\n",
       "505   -0.133197   0.721361    CO    11\n",
       "555   -0.162167   0.693162    CO    12\n",
       "605   -0.150739   0.628562    CO    13\n",
       "655   -0.168768   0.685907    CO    14\n",
       "705   -0.162699   0.670887    CO    15\n",
       "755   -0.150824   0.624918    CO    16\n",
       "805   -0.162125   0.673436    CO    17\n",
       "855   -0.158694   0.671332    CO    18\n",
       "905   -0.167259   0.703469    CO    19\n",
       "955   -0.201887   0.773585    CO    20\n",
       "1005  -0.178012   0.696630    CO    21\n",
       "1055  -0.167141   0.661527    CO    22\n",
       "1105  -0.201887   0.773585    CO    23\n",
       "1155  -0.149260   0.692776    CO    24\n",
       "1205  -0.182625   0.653977    CO    25\n",
       "1255  -0.187910   0.681665    CO    26\n",
       "1305  -0.144256   0.672475    CO    27\n",
       "1355  -0.188052   0.674201    CO    28\n",
       "1405  -0.179157   0.699157    CO    29\n",
       "1455  -0.174213   0.729196    CO    30"
      ],
      "text/html": "<div>\n<style scoped>\n    .dataframe tbody tr th:only-of-type {\n        vertical-align: middle;\n    }\n\n    .dataframe tbody tr th {\n        vertical-align: top;\n    }\n\n    .dataframe thead th {\n        text-align: right;\n    }\n</style>\n<table border=\"1\" class=\"dataframe\">\n  <thead>\n    <tr style=\"text-align: right;\">\n      <th></th>\n      <th>sentiment</th>\n      <th>magnitude</th>\n      <th>state</th>\n      <th>date</th>\n    </tr>\n  </thead>\n  <tbody>\n    <tr>\n      <td>5</td>\n      <td>-0.161361</td>\n      <td>0.679252</td>\n      <td>CO</td>\n      <td>1</td>\n    </tr>\n    <tr>\n      <td>55</td>\n      <td>-0.170690</td>\n      <td>0.713282</td>\n      <td>CO</td>\n      <td>2</td>\n    </tr>\n    <tr>\n      <td>105</td>\n      <td>-0.143904</td>\n      <td>0.680832</td>\n      <td>CO</td>\n      <td>3</td>\n    </tr>\n    <tr>\n      <td>155</td>\n      <td>-0.165422</td>\n      <td>0.684094</td>\n      <td>CO</td>\n      <td>4</td>\n    </tr>\n    <tr>\n      <td>205</td>\n      <td>-0.179158</td>\n      <td>0.697930</td>\n      <td>CO</td>\n      <td>5</td>\n    </tr>\n    <tr>\n      <td>255</td>\n      <td>-0.167495</td>\n      <td>0.657971</td>\n      <td>CO</td>\n      <td>6</td>\n    </tr>\n    <tr>\n      <td>305</td>\n      <td>-0.168767</td>\n      <td>0.641967</td>\n      <td>CO</td>\n      <td>7</td>\n    </tr>\n    <tr>\n      <td>355</td>\n      <td>-0.147473</td>\n      <td>0.684413</td>\n      <td>CO</td>\n      <td>8</td>\n    </tr>\n    <tr>\n      <td>405</td>\n      <td>-0.153403</td>\n      <td>0.684031</td>\n      <td>CO</td>\n      <td>9</td>\n    </tr>\n    <tr>\n      <td>455</td>\n      <td>-0.154827</td>\n      <td>0.645719</td>\n      <td>CO</td>\n      <td>10</td>\n    </tr>\n    <tr>\n      <td>505</td>\n      <td>-0.133197</td>\n      <td>0.721361</td>\n      <td>CO</td>\n      <td>11</td>\n    </tr>\n    <tr>\n      <td>555</td>\n      <td>-0.162167</td>\n      <td>0.693162</td>\n      <td>CO</td>\n      <td>12</td>\n    </tr>\n    <tr>\n      <td>605</td>\n      <td>-0.150739</td>\n      <td>0.628562</td>\n      <td>CO</td>\n      <td>13</td>\n    </tr>\n    <tr>\n      <td>655</td>\n      <td>-0.168768</td>\n      <td>0.685907</td>\n      <td>CO</td>\n      <td>14</td>\n    </tr>\n    <tr>\n      <td>705</td>\n      <td>-0.162699</td>\n      <td>0.670887</td>\n      <td>CO</td>\n      <td>15</td>\n    </tr>\n    <tr>\n      <td>755</td>\n      <td>-0.150824</td>\n      <td>0.624918</td>\n      <td>CO</td>\n      <td>16</td>\n    </tr>\n    <tr>\n      <td>805</td>\n      <td>-0.162125</td>\n      <td>0.673436</td>\n      <td>CO</td>\n      <td>17</td>\n    </tr>\n    <tr>\n      <td>855</td>\n      <td>-0.158694</td>\n      <td>0.671332</td>\n      <td>CO</td>\n      <td>18</td>\n    </tr>\n    <tr>\n      <td>905</td>\n      <td>-0.167259</td>\n      <td>0.703469</td>\n      <td>CO</td>\n      <td>19</td>\n    </tr>\n    <tr>\n      <td>955</td>\n      <td>-0.201887</td>\n      <td>0.773585</td>\n      <td>CO</td>\n      <td>20</td>\n    </tr>\n    <tr>\n      <td>1005</td>\n      <td>-0.178012</td>\n      <td>0.696630</td>\n      <td>CO</td>\n      <td>21</td>\n    </tr>\n    <tr>\n      <td>1055</td>\n      <td>-0.167141</td>\n      <td>0.661527</td>\n      <td>CO</td>\n      <td>22</td>\n    </tr>\n    <tr>\n      <td>1105</td>\n      <td>-0.201887</td>\n      <td>0.773585</td>\n      <td>CO</td>\n      <td>23</td>\n    </tr>\n    <tr>\n      <td>1155</td>\n      <td>-0.149260</td>\n      <td>0.692776</td>\n      <td>CO</td>\n      <td>24</td>\n    </tr>\n    <tr>\n      <td>1205</td>\n      <td>-0.182625</td>\n      <td>0.653977</td>\n      <td>CO</td>\n      <td>25</td>\n    </tr>\n    <tr>\n      <td>1255</td>\n      <td>-0.187910</td>\n      <td>0.681665</td>\n      <td>CO</td>\n      <td>26</td>\n    </tr>\n    <tr>\n      <td>1305</td>\n      <td>-0.144256</td>\n      <td>0.672475</td>\n      <td>CO</td>\n      <td>27</td>\n    </tr>\n    <tr>\n      <td>1355</td>\n      <td>-0.188052</td>\n      <td>0.674201</td>\n      <td>CO</td>\n      <td>28</td>\n    </tr>\n    <tr>\n      <td>1405</td>\n      <td>-0.179157</td>\n      <td>0.699157</td>\n      <td>CO</td>\n      <td>29</td>\n    </tr>\n    <tr>\n      <td>1455</td>\n      <td>-0.174213</td>\n      <td>0.729196</td>\n      <td>CO</td>\n      <td>30</td>\n    </tr>\n  </tbody>\n</table>\n</div>"
     },
     "metadata": {},
     "execution_count": 27
    }
   ],
   "source": [
    "colorado_sentiment"
   ]
  },
  {
   "cell_type": "code",
   "execution_count": 28,
   "metadata": {},
   "outputs": [
    {
     "output_type": "execute_result",
     "data": {
      "text/plain": [
       "<matplotlib.axes._subplots.AxesSubplot at 0x203962a7f88>"
      ]
     },
     "metadata": {},
     "execution_count": 28
    },
    {
     "output_type": "display_data",
     "data": {
      "text/plain": "<Figure size 432x288 with 2 Axes>",
      "image/svg+xml": "<?xml version=\"1.0\" encoding=\"utf-8\" standalone=\"no\"?>\r\n<!DOCTYPE svg PUBLIC \"-//W3C//DTD SVG 1.1//EN\"\r\n  \"http://www.w3.org/Graphics/SVG/1.1/DTD/svg11.dtd\">\r\n<!-- Created with matplotlib (https://matplotlib.org/) -->\r\n<svg height=\"265.591002pt\" version=\"1.1\" viewBox=\"0 0 450.107813 265.591002\" width=\"450.107813pt\" xmlns=\"http://www.w3.org/2000/svg\" xmlns:xlink=\"http://www.w3.org/1999/xlink\">\r\n <defs>\r\n  <style type=\"text/css\">\r\n*{stroke-linecap:butt;stroke-linejoin:round;}\r\n  </style>\r\n </defs>\r\n <g id=\"figure_1\">\r\n  <g id=\"patch_1\">\r\n   <path d=\"M 0 265.591002 \r\nL 450.107813 265.591002 \r\nL 450.107813 0 \r\nL 0 0 \r\nz\r\n\" style=\"fill:none;\"/>\r\n  </g>\r\n  <g id=\"axes_1\">\r\n   <g id=\"patch_2\">\r\n    <path d=\"M 56.784375 227.756627 \r\nL 391.584375 227.756627 \r\nL 391.584375 10.316627 \r\nL 56.784375 10.316627 \r\nz\r\n\" style=\"fill:#ffffff;\"/>\r\n   </g>\r\n   <g id=\"matplotlib.axis_1\">\r\n    <g id=\"xtick_1\">\r\n     <g id=\"line2d_1\">\r\n      <defs>\r\n       <path d=\"M 0 0 \r\nL 0 3.5 \r\n\" id=\"m46ecc30c8b\" style=\"stroke:#000000;stroke-width:0.8;\"/>\r\n      </defs>\r\n      <g>\r\n       <use style=\"stroke:#000000;stroke-width:0.8;\" x=\"61.507259\" xlink:href=\"#m46ecc30c8b\" y=\"227.756627\"/>\r\n      </g>\r\n     </g>\r\n     <g id=\"text_1\">\r\n      <!-- 0 -->\r\n      <defs>\r\n       <path d=\"M 31.78125 66.40625 \r\nQ 24.171875 66.40625 20.328125 58.90625 \r\nQ 16.5 51.421875 16.5 36.375 \r\nQ 16.5 21.390625 20.328125 13.890625 \r\nQ 24.171875 6.390625 31.78125 6.390625 \r\nQ 39.453125 6.390625 43.28125 13.890625 \r\nQ 47.125 21.390625 47.125 36.375 \r\nQ 47.125 51.421875 43.28125 58.90625 \r\nQ 39.453125 66.40625 31.78125 66.40625 \r\nz\r\nM 31.78125 74.21875 \r\nQ 44.046875 74.21875 50.515625 64.515625 \r\nQ 56.984375 54.828125 56.984375 36.375 \r\nQ 56.984375 17.96875 50.515625 8.265625 \r\nQ 44.046875 -1.421875 31.78125 -1.421875 \r\nQ 19.53125 -1.421875 13.0625 8.265625 \r\nQ 6.59375 17.96875 6.59375 36.375 \r\nQ 6.59375 54.828125 13.0625 64.515625 \r\nQ 19.53125 74.21875 31.78125 74.21875 \r\nz\r\n\" id=\"DejaVuSans-48\"/>\r\n      </defs>\r\n      <g transform=\"translate(58.326009 242.355065)scale(0.1 -0.1)\">\r\n       <use xlink:href=\"#DejaVuSans-48\"/>\r\n      </g>\r\n     </g>\r\n    </g>\r\n    <g id=\"xtick_2\">\r\n     <g id=\"line2d_2\">\r\n      <g>\r\n       <use style=\"stroke:#000000;stroke-width:0.8;\" x=\"113.983748\" xlink:href=\"#m46ecc30c8b\" y=\"227.756627\"/>\r\n      </g>\r\n     </g>\r\n     <g id=\"text_2\">\r\n      <!-- 5 -->\r\n      <defs>\r\n       <path d=\"M 10.796875 72.90625 \r\nL 49.515625 72.90625 \r\nL 49.515625 64.59375 \r\nL 19.828125 64.59375 \r\nL 19.828125 46.734375 \r\nQ 21.96875 47.46875 24.109375 47.828125 \r\nQ 26.265625 48.1875 28.421875 48.1875 \r\nQ 40.625 48.1875 47.75 41.5 \r\nQ 54.890625 34.8125 54.890625 23.390625 \r\nQ 54.890625 11.625 47.5625 5.09375 \r\nQ 40.234375 -1.421875 26.90625 -1.421875 \r\nQ 22.3125 -1.421875 17.546875 -0.640625 \r\nQ 12.796875 0.140625 7.71875 1.703125 \r\nL 7.71875 11.625 \r\nQ 12.109375 9.234375 16.796875 8.0625 \r\nQ 21.484375 6.890625 26.703125 6.890625 \r\nQ 35.15625 6.890625 40.078125 11.328125 \r\nQ 45.015625 15.765625 45.015625 23.390625 \r\nQ 45.015625 31 40.078125 35.4375 \r\nQ 35.15625 39.890625 26.703125 39.890625 \r\nQ 22.75 39.890625 18.8125 39.015625 \r\nQ 14.890625 38.140625 10.796875 36.28125 \r\nz\r\n\" id=\"DejaVuSans-53\"/>\r\n      </defs>\r\n      <g transform=\"translate(110.802498 242.355065)scale(0.1 -0.1)\">\r\n       <use xlink:href=\"#DejaVuSans-53\"/>\r\n      </g>\r\n     </g>\r\n    </g>\r\n    <g id=\"xtick_3\">\r\n     <g id=\"line2d_3\">\r\n      <g>\r\n       <use style=\"stroke:#000000;stroke-width:0.8;\" x=\"166.460237\" xlink:href=\"#m46ecc30c8b\" y=\"227.756627\"/>\r\n      </g>\r\n     </g>\r\n     <g id=\"text_3\">\r\n      <!-- 10 -->\r\n      <defs>\r\n       <path d=\"M 12.40625 8.296875 \r\nL 28.515625 8.296875 \r\nL 28.515625 63.921875 \r\nL 10.984375 60.40625 \r\nL 10.984375 69.390625 \r\nL 28.421875 72.90625 \r\nL 38.28125 72.90625 \r\nL 38.28125 8.296875 \r\nL 54.390625 8.296875 \r\nL 54.390625 0 \r\nL 12.40625 0 \r\nz\r\n\" id=\"DejaVuSans-49\"/>\r\n      </defs>\r\n      <g transform=\"translate(160.097737 242.355065)scale(0.1 -0.1)\">\r\n       <use xlink:href=\"#DejaVuSans-49\"/>\r\n       <use x=\"63.623047\" xlink:href=\"#DejaVuSans-48\"/>\r\n      </g>\r\n     </g>\r\n    </g>\r\n    <g id=\"xtick_4\">\r\n     <g id=\"line2d_4\">\r\n      <g>\r\n       <use style=\"stroke:#000000;stroke-width:0.8;\" x=\"218.936726\" xlink:href=\"#m46ecc30c8b\" y=\"227.756627\"/>\r\n      </g>\r\n     </g>\r\n     <g id=\"text_4\">\r\n      <!-- 15 -->\r\n      <g transform=\"translate(212.574226 242.355065)scale(0.1 -0.1)\">\r\n       <use xlink:href=\"#DejaVuSans-49\"/>\r\n       <use x=\"63.623047\" xlink:href=\"#DejaVuSans-53\"/>\r\n      </g>\r\n     </g>\r\n    </g>\r\n    <g id=\"xtick_5\">\r\n     <g id=\"line2d_5\">\r\n      <g>\r\n       <use style=\"stroke:#000000;stroke-width:0.8;\" x=\"271.413215\" xlink:href=\"#m46ecc30c8b\" y=\"227.756627\"/>\r\n      </g>\r\n     </g>\r\n     <g id=\"text_5\">\r\n      <!-- 20 -->\r\n      <defs>\r\n       <path d=\"M 19.1875 8.296875 \r\nL 53.609375 8.296875 \r\nL 53.609375 0 \r\nL 7.328125 0 \r\nL 7.328125 8.296875 \r\nQ 12.9375 14.109375 22.625 23.890625 \r\nQ 32.328125 33.6875 34.8125 36.53125 \r\nQ 39.546875 41.84375 41.421875 45.53125 \r\nQ 43.3125 49.21875 43.3125 52.78125 \r\nQ 43.3125 58.59375 39.234375 62.25 \r\nQ 35.15625 65.921875 28.609375 65.921875 \r\nQ 23.96875 65.921875 18.8125 64.3125 \r\nQ 13.671875 62.703125 7.8125 59.421875 \r\nL 7.8125 69.390625 \r\nQ 13.765625 71.78125 18.9375 73 \r\nQ 24.125 74.21875 28.421875 74.21875 \r\nQ 39.75 74.21875 46.484375 68.546875 \r\nQ 53.21875 62.890625 53.21875 53.421875 \r\nQ 53.21875 48.921875 51.53125 44.890625 \r\nQ 49.859375 40.875 45.40625 35.40625 \r\nQ 44.1875 33.984375 37.640625 27.21875 \r\nQ 31.109375 20.453125 19.1875 8.296875 \r\nz\r\n\" id=\"DejaVuSans-50\"/>\r\n      </defs>\r\n      <g transform=\"translate(265.050715 242.355065)scale(0.1 -0.1)\">\r\n       <use xlink:href=\"#DejaVuSans-50\"/>\r\n       <use x=\"63.623047\" xlink:href=\"#DejaVuSans-48\"/>\r\n      </g>\r\n     </g>\r\n    </g>\r\n    <g id=\"xtick_6\">\r\n     <g id=\"line2d_6\">\r\n      <g>\r\n       <use style=\"stroke:#000000;stroke-width:0.8;\" x=\"323.889704\" xlink:href=\"#m46ecc30c8b\" y=\"227.756627\"/>\r\n      </g>\r\n     </g>\r\n     <g id=\"text_6\">\r\n      <!-- 25 -->\r\n      <g transform=\"translate(317.527204 242.355065)scale(0.1 -0.1)\">\r\n       <use xlink:href=\"#DejaVuSans-50\"/>\r\n       <use x=\"63.623047\" xlink:href=\"#DejaVuSans-53\"/>\r\n      </g>\r\n     </g>\r\n    </g>\r\n    <g id=\"xtick_7\">\r\n     <g id=\"line2d_7\">\r\n      <g>\r\n       <use style=\"stroke:#000000;stroke-width:0.8;\" x=\"376.366193\" xlink:href=\"#m46ecc30c8b\" y=\"227.756627\"/>\r\n      </g>\r\n     </g>\r\n     <g id=\"text_7\">\r\n      <!-- 30 -->\r\n      <defs>\r\n       <path d=\"M 40.578125 39.3125 \r\nQ 47.65625 37.796875 51.625 33 \r\nQ 55.609375 28.21875 55.609375 21.1875 \r\nQ 55.609375 10.40625 48.1875 4.484375 \r\nQ 40.765625 -1.421875 27.09375 -1.421875 \r\nQ 22.515625 -1.421875 17.65625 -0.515625 \r\nQ 12.796875 0.390625 7.625 2.203125 \r\nL 7.625 11.71875 \r\nQ 11.71875 9.328125 16.59375 8.109375 \r\nQ 21.484375 6.890625 26.8125 6.890625 \r\nQ 36.078125 6.890625 40.9375 10.546875 \r\nQ 45.796875 14.203125 45.796875 21.1875 \r\nQ 45.796875 27.640625 41.28125 31.265625 \r\nQ 36.765625 34.90625 28.71875 34.90625 \r\nL 20.21875 34.90625 \r\nL 20.21875 43.015625 \r\nL 29.109375 43.015625 \r\nQ 36.375 43.015625 40.234375 45.921875 \r\nQ 44.09375 48.828125 44.09375 54.296875 \r\nQ 44.09375 59.90625 40.109375 62.90625 \r\nQ 36.140625 65.921875 28.71875 65.921875 \r\nQ 24.65625 65.921875 20.015625 65.03125 \r\nQ 15.375 64.15625 9.8125 62.3125 \r\nL 9.8125 71.09375 \r\nQ 15.4375 72.65625 20.34375 73.4375 \r\nQ 25.25 74.21875 29.59375 74.21875 \r\nQ 40.828125 74.21875 47.359375 69.109375 \r\nQ 53.90625 64.015625 53.90625 55.328125 \r\nQ 53.90625 49.265625 50.4375 45.09375 \r\nQ 46.96875 40.921875 40.578125 39.3125 \r\nz\r\n\" id=\"DejaVuSans-51\"/>\r\n      </defs>\r\n      <g transform=\"translate(370.003693 242.355065)scale(0.1 -0.1)\">\r\n       <use xlink:href=\"#DejaVuSans-51\"/>\r\n       <use x=\"63.623047\" xlink:href=\"#DejaVuSans-48\"/>\r\n      </g>\r\n     </g>\r\n    </g>\r\n    <g id=\"text_8\">\r\n     <!-- short_date -->\r\n     <defs>\r\n      <path d=\"M 44.28125 53.078125 \r\nL 44.28125 44.578125 \r\nQ 40.484375 46.53125 36.375 47.5 \r\nQ 32.28125 48.484375 27.875 48.484375 \r\nQ 21.1875 48.484375 17.84375 46.4375 \r\nQ 14.5 44.390625 14.5 40.28125 \r\nQ 14.5 37.15625 16.890625 35.375 \r\nQ 19.28125 33.59375 26.515625 31.984375 \r\nL 29.59375 31.296875 \r\nQ 39.15625 29.25 43.1875 25.515625 \r\nQ 47.21875 21.78125 47.21875 15.09375 \r\nQ 47.21875 7.46875 41.1875 3.015625 \r\nQ 35.15625 -1.421875 24.609375 -1.421875 \r\nQ 20.21875 -1.421875 15.453125 -0.5625 \r\nQ 10.6875 0.296875 5.421875 2 \r\nL 5.421875 11.28125 \r\nQ 10.40625 8.6875 15.234375 7.390625 \r\nQ 20.0625 6.109375 24.8125 6.109375 \r\nQ 31.15625 6.109375 34.5625 8.28125 \r\nQ 37.984375 10.453125 37.984375 14.40625 \r\nQ 37.984375 18.0625 35.515625 20.015625 \r\nQ 33.0625 21.96875 24.703125 23.78125 \r\nL 21.578125 24.515625 \r\nQ 13.234375 26.265625 9.515625 29.90625 \r\nQ 5.8125 33.546875 5.8125 39.890625 \r\nQ 5.8125 47.609375 11.28125 51.796875 \r\nQ 16.75 56 26.8125 56 \r\nQ 31.78125 56 36.171875 55.265625 \r\nQ 40.578125 54.546875 44.28125 53.078125 \r\nz\r\n\" id=\"DejaVuSans-115\"/>\r\n      <path d=\"M 54.890625 33.015625 \r\nL 54.890625 0 \r\nL 45.90625 0 \r\nL 45.90625 32.71875 \r\nQ 45.90625 40.484375 42.875 44.328125 \r\nQ 39.84375 48.1875 33.796875 48.1875 \r\nQ 26.515625 48.1875 22.3125 43.546875 \r\nQ 18.109375 38.921875 18.109375 30.90625 \r\nL 18.109375 0 \r\nL 9.078125 0 \r\nL 9.078125 75.984375 \r\nL 18.109375 75.984375 \r\nL 18.109375 46.1875 \r\nQ 21.34375 51.125 25.703125 53.5625 \r\nQ 30.078125 56 35.796875 56 \r\nQ 45.21875 56 50.046875 50.171875 \r\nQ 54.890625 44.34375 54.890625 33.015625 \r\nz\r\n\" id=\"DejaVuSans-104\"/>\r\n      <path d=\"M 30.609375 48.390625 \r\nQ 23.390625 48.390625 19.1875 42.75 \r\nQ 14.984375 37.109375 14.984375 27.296875 \r\nQ 14.984375 17.484375 19.15625 11.84375 \r\nQ 23.34375 6.203125 30.609375 6.203125 \r\nQ 37.796875 6.203125 41.984375 11.859375 \r\nQ 46.1875 17.53125 46.1875 27.296875 \r\nQ 46.1875 37.015625 41.984375 42.703125 \r\nQ 37.796875 48.390625 30.609375 48.390625 \r\nz\r\nM 30.609375 56 \r\nQ 42.328125 56 49.015625 48.375 \r\nQ 55.71875 40.765625 55.71875 27.296875 \r\nQ 55.71875 13.875 49.015625 6.21875 \r\nQ 42.328125 -1.421875 30.609375 -1.421875 \r\nQ 18.84375 -1.421875 12.171875 6.21875 \r\nQ 5.515625 13.875 5.515625 27.296875 \r\nQ 5.515625 40.765625 12.171875 48.375 \r\nQ 18.84375 56 30.609375 56 \r\nz\r\n\" id=\"DejaVuSans-111\"/>\r\n      <path d=\"M 41.109375 46.296875 \r\nQ 39.59375 47.171875 37.8125 47.578125 \r\nQ 36.03125 48 33.890625 48 \r\nQ 26.265625 48 22.1875 43.046875 \r\nQ 18.109375 38.09375 18.109375 28.8125 \r\nL 18.109375 0 \r\nL 9.078125 0 \r\nL 9.078125 54.6875 \r\nL 18.109375 54.6875 \r\nL 18.109375 46.1875 \r\nQ 20.953125 51.171875 25.484375 53.578125 \r\nQ 30.03125 56 36.53125 56 \r\nQ 37.453125 56 38.578125 55.875 \r\nQ 39.703125 55.765625 41.0625 55.515625 \r\nz\r\n\" id=\"DejaVuSans-114\"/>\r\n      <path d=\"M 18.3125 70.21875 \r\nL 18.3125 54.6875 \r\nL 36.8125 54.6875 \r\nL 36.8125 47.703125 \r\nL 18.3125 47.703125 \r\nL 18.3125 18.015625 \r\nQ 18.3125 11.328125 20.140625 9.421875 \r\nQ 21.96875 7.515625 27.59375 7.515625 \r\nL 36.8125 7.515625 \r\nL 36.8125 0 \r\nL 27.59375 0 \r\nQ 17.1875 0 13.234375 3.875 \r\nQ 9.28125 7.765625 9.28125 18.015625 \r\nL 9.28125 47.703125 \r\nL 2.6875 47.703125 \r\nL 2.6875 54.6875 \r\nL 9.28125 54.6875 \r\nL 9.28125 70.21875 \r\nz\r\n\" id=\"DejaVuSans-116\"/>\r\n      <path d=\"M 50.984375 -16.609375 \r\nL 50.984375 -23.578125 \r\nL -0.984375 -23.578125 \r\nL -0.984375 -16.609375 \r\nz\r\n\" id=\"DejaVuSans-95\"/>\r\n      <path d=\"M 45.40625 46.390625 \r\nL 45.40625 75.984375 \r\nL 54.390625 75.984375 \r\nL 54.390625 0 \r\nL 45.40625 0 \r\nL 45.40625 8.203125 \r\nQ 42.578125 3.328125 38.25 0.953125 \r\nQ 33.9375 -1.421875 27.875 -1.421875 \r\nQ 17.96875 -1.421875 11.734375 6.484375 \r\nQ 5.515625 14.40625 5.515625 27.296875 \r\nQ 5.515625 40.1875 11.734375 48.09375 \r\nQ 17.96875 56 27.875 56 \r\nQ 33.9375 56 38.25 53.625 \r\nQ 42.578125 51.265625 45.40625 46.390625 \r\nz\r\nM 14.796875 27.296875 \r\nQ 14.796875 17.390625 18.875 11.75 \r\nQ 22.953125 6.109375 30.078125 6.109375 \r\nQ 37.203125 6.109375 41.296875 11.75 \r\nQ 45.40625 17.390625 45.40625 27.296875 \r\nQ 45.40625 37.203125 41.296875 42.84375 \r\nQ 37.203125 48.484375 30.078125 48.484375 \r\nQ 22.953125 48.484375 18.875 42.84375 \r\nQ 14.796875 37.203125 14.796875 27.296875 \r\nz\r\n\" id=\"DejaVuSans-100\"/>\r\n      <path d=\"M 34.28125 27.484375 \r\nQ 23.390625 27.484375 19.1875 25 \r\nQ 14.984375 22.515625 14.984375 16.5 \r\nQ 14.984375 11.71875 18.140625 8.90625 \r\nQ 21.296875 6.109375 26.703125 6.109375 \r\nQ 34.1875 6.109375 38.703125 11.40625 \r\nQ 43.21875 16.703125 43.21875 25.484375 \r\nL 43.21875 27.484375 \r\nz\r\nM 52.203125 31.203125 \r\nL 52.203125 0 \r\nL 43.21875 0 \r\nL 43.21875 8.296875 \r\nQ 40.140625 3.328125 35.546875 0.953125 \r\nQ 30.953125 -1.421875 24.3125 -1.421875 \r\nQ 15.921875 -1.421875 10.953125 3.296875 \r\nQ 6 8.015625 6 15.921875 \r\nQ 6 25.140625 12.171875 29.828125 \r\nQ 18.359375 34.515625 30.609375 34.515625 \r\nL 43.21875 34.515625 \r\nL 43.21875 35.40625 \r\nQ 43.21875 41.609375 39.140625 45 \r\nQ 35.0625 48.390625 27.6875 48.390625 \r\nQ 23 48.390625 18.546875 47.265625 \r\nQ 14.109375 46.140625 10.015625 43.890625 \r\nL 10.015625 52.203125 \r\nQ 14.9375 54.109375 19.578125 55.046875 \r\nQ 24.21875 56 28.609375 56 \r\nQ 40.484375 56 46.34375 49.84375 \r\nQ 52.203125 43.703125 52.203125 31.203125 \r\nz\r\n\" id=\"DejaVuSans-97\"/>\r\n      <path d=\"M 56.203125 29.59375 \r\nL 56.203125 25.203125 \r\nL 14.890625 25.203125 \r\nQ 15.484375 15.921875 20.484375 11.0625 \r\nQ 25.484375 6.203125 34.421875 6.203125 \r\nQ 39.59375 6.203125 44.453125 7.46875 \r\nQ 49.3125 8.734375 54.109375 11.28125 \r\nL 54.109375 2.78125 \r\nQ 49.265625 0.734375 44.1875 -0.34375 \r\nQ 39.109375 -1.421875 33.890625 -1.421875 \r\nQ 20.796875 -1.421875 13.15625 6.1875 \r\nQ 5.515625 13.8125 5.515625 26.8125 \r\nQ 5.515625 40.234375 12.765625 48.109375 \r\nQ 20.015625 56 32.328125 56 \r\nQ 43.359375 56 49.78125 48.890625 \r\nQ 56.203125 41.796875 56.203125 29.59375 \r\nz\r\nM 47.21875 32.234375 \r\nQ 47.125 39.59375 43.09375 43.984375 \r\nQ 39.0625 48.390625 32.421875 48.390625 \r\nQ 24.90625 48.390625 20.390625 44.140625 \r\nQ 15.875 39.890625 15.1875 32.171875 \r\nz\r\n\" id=\"DejaVuSans-101\"/>\r\n     </defs>\r\n     <g transform=\"translate(197.560938 256.03319)scale(0.1 -0.1)\">\r\n      <use xlink:href=\"#DejaVuSans-115\"/>\r\n      <use x=\"52.099609\" xlink:href=\"#DejaVuSans-104\"/>\r\n      <use x=\"115.478516\" xlink:href=\"#DejaVuSans-111\"/>\r\n      <use x=\"176.660156\" xlink:href=\"#DejaVuSans-114\"/>\r\n      <use x=\"217.773438\" xlink:href=\"#DejaVuSans-116\"/>\r\n      <use x=\"256.982422\" xlink:href=\"#DejaVuSans-95\"/>\r\n      <use x=\"306.982422\" xlink:href=\"#DejaVuSans-100\"/>\r\n      <use x=\"370.458984\" xlink:href=\"#DejaVuSans-97\"/>\r\n      <use x=\"431.738281\" xlink:href=\"#DejaVuSans-116\"/>\r\n      <use x=\"470.947266\" xlink:href=\"#DejaVuSans-101\"/>\r\n     </g>\r\n    </g>\r\n   </g>\r\n   <g id=\"matplotlib.axis_2\">\r\n    <g id=\"ytick_1\">\r\n     <g id=\"line2d_8\">\r\n      <defs>\r\n       <path d=\"M 0 0 \r\nL -3.5 0 \r\n\" id=\"md1e86799eb\" style=\"stroke:#000000;stroke-width:0.8;\"/>\r\n      </defs>\r\n      <g>\r\n       <use style=\"stroke:#000000;stroke-width:0.8;\" x=\"56.784375\" xlink:href=\"#md1e86799eb\" y=\"214.6588\"/>\r\n      </g>\r\n     </g>\r\n     <g id=\"text_9\">\r\n      <!-- 0.000 -->\r\n      <defs>\r\n       <path d=\"M 10.6875 12.40625 \r\nL 21 12.40625 \r\nL 21 0 \r\nL 10.6875 0 \r\nz\r\n\" id=\"DejaVuSans-46\"/>\r\n      </defs>\r\n      <g transform=\"translate(21.15625 218.458019)scale(0.1 -0.1)\">\r\n       <use xlink:href=\"#DejaVuSans-48\"/>\r\n       <use x=\"63.623047\" xlink:href=\"#DejaVuSans-46\"/>\r\n       <use x=\"95.410156\" xlink:href=\"#DejaVuSans-48\"/>\r\n       <use x=\"159.033203\" xlink:href=\"#DejaVuSans-48\"/>\r\n       <use x=\"222.65625\" xlink:href=\"#DejaVuSans-48\"/>\r\n      </g>\r\n     </g>\r\n    </g>\r\n    <g id=\"ytick_2\">\r\n     <g id=\"line2d_9\">\r\n      <g>\r\n       <use style=\"stroke:#000000;stroke-width:0.8;\" x=\"56.784375\" xlink:href=\"#md1e86799eb\" y=\"167.687212\"/>\r\n      </g>\r\n     </g>\r\n     <g id=\"text_10\">\r\n      <!-- 0.005 -->\r\n      <g transform=\"translate(21.15625 171.486431)scale(0.1 -0.1)\">\r\n       <use xlink:href=\"#DejaVuSans-48\"/>\r\n       <use x=\"63.623047\" xlink:href=\"#DejaVuSans-46\"/>\r\n       <use x=\"95.410156\" xlink:href=\"#DejaVuSans-48\"/>\r\n       <use x=\"159.033203\" xlink:href=\"#DejaVuSans-48\"/>\r\n       <use x=\"222.65625\" xlink:href=\"#DejaVuSans-53\"/>\r\n      </g>\r\n     </g>\r\n    </g>\r\n    <g id=\"ytick_3\">\r\n     <g id=\"line2d_10\">\r\n      <g>\r\n       <use style=\"stroke:#000000;stroke-width:0.8;\" x=\"56.784375\" xlink:href=\"#md1e86799eb\" y=\"120.715624\"/>\r\n      </g>\r\n     </g>\r\n     <g id=\"text_11\">\r\n      <!-- 0.010 -->\r\n      <g transform=\"translate(21.15625 124.514843)scale(0.1 -0.1)\">\r\n       <use xlink:href=\"#DejaVuSans-48\"/>\r\n       <use x=\"63.623047\" xlink:href=\"#DejaVuSans-46\"/>\r\n       <use x=\"95.410156\" xlink:href=\"#DejaVuSans-48\"/>\r\n       <use x=\"159.033203\" xlink:href=\"#DejaVuSans-49\"/>\r\n       <use x=\"222.65625\" xlink:href=\"#DejaVuSans-48\"/>\r\n      </g>\r\n     </g>\r\n    </g>\r\n    <g id=\"ytick_4\">\r\n     <g id=\"line2d_11\">\r\n      <g>\r\n       <use style=\"stroke:#000000;stroke-width:0.8;\" x=\"56.784375\" xlink:href=\"#md1e86799eb\" y=\"73.744036\"/>\r\n      </g>\r\n     </g>\r\n     <g id=\"text_12\">\r\n      <!-- 0.015 -->\r\n      <g transform=\"translate(21.15625 77.543255)scale(0.1 -0.1)\">\r\n       <use xlink:href=\"#DejaVuSans-48\"/>\r\n       <use x=\"63.623047\" xlink:href=\"#DejaVuSans-46\"/>\r\n       <use x=\"95.410156\" xlink:href=\"#DejaVuSans-48\"/>\r\n       <use x=\"159.033203\" xlink:href=\"#DejaVuSans-49\"/>\r\n       <use x=\"222.65625\" xlink:href=\"#DejaVuSans-53\"/>\r\n      </g>\r\n     </g>\r\n    </g>\r\n    <g id=\"ytick_5\">\r\n     <g id=\"line2d_12\">\r\n      <g>\r\n       <use style=\"stroke:#000000;stroke-width:0.8;\" x=\"56.784375\" xlink:href=\"#md1e86799eb\" y=\"26.772448\"/>\r\n      </g>\r\n     </g>\r\n     <g id=\"text_13\">\r\n      <!-- 0.020 -->\r\n      <g transform=\"translate(21.15625 30.571667)scale(0.1 -0.1)\">\r\n       <use xlink:href=\"#DejaVuSans-48\"/>\r\n       <use x=\"63.623047\" xlink:href=\"#DejaVuSans-46\"/>\r\n       <use x=\"95.410156\" xlink:href=\"#DejaVuSans-48\"/>\r\n       <use x=\"159.033203\" xlink:href=\"#DejaVuSans-50\"/>\r\n       <use x=\"222.65625\" xlink:href=\"#DejaVuSans-48\"/>\r\n      </g>\r\n     </g>\r\n    </g>\r\n    <g id=\"text_14\">\r\n     <!-- normalized_new_death -->\r\n     <defs>\r\n      <path d=\"M 54.890625 33.015625 \r\nL 54.890625 0 \r\nL 45.90625 0 \r\nL 45.90625 32.71875 \r\nQ 45.90625 40.484375 42.875 44.328125 \r\nQ 39.84375 48.1875 33.796875 48.1875 \r\nQ 26.515625 48.1875 22.3125 43.546875 \r\nQ 18.109375 38.921875 18.109375 30.90625 \r\nL 18.109375 0 \r\nL 9.078125 0 \r\nL 9.078125 54.6875 \r\nL 18.109375 54.6875 \r\nL 18.109375 46.1875 \r\nQ 21.34375 51.125 25.703125 53.5625 \r\nQ 30.078125 56 35.796875 56 \r\nQ 45.21875 56 50.046875 50.171875 \r\nQ 54.890625 44.34375 54.890625 33.015625 \r\nz\r\n\" id=\"DejaVuSans-110\"/>\r\n      <path d=\"M 52 44.1875 \r\nQ 55.375 50.25 60.0625 53.125 \r\nQ 64.75 56 71.09375 56 \r\nQ 79.640625 56 84.28125 50.015625 \r\nQ 88.921875 44.046875 88.921875 33.015625 \r\nL 88.921875 0 \r\nL 79.890625 0 \r\nL 79.890625 32.71875 \r\nQ 79.890625 40.578125 77.09375 44.375 \r\nQ 74.3125 48.1875 68.609375 48.1875 \r\nQ 61.625 48.1875 57.5625 43.546875 \r\nQ 53.515625 38.921875 53.515625 30.90625 \r\nL 53.515625 0 \r\nL 44.484375 0 \r\nL 44.484375 32.71875 \r\nQ 44.484375 40.625 41.703125 44.40625 \r\nQ 38.921875 48.1875 33.109375 48.1875 \r\nQ 26.21875 48.1875 22.15625 43.53125 \r\nQ 18.109375 38.875 18.109375 30.90625 \r\nL 18.109375 0 \r\nL 9.078125 0 \r\nL 9.078125 54.6875 \r\nL 18.109375 54.6875 \r\nL 18.109375 46.1875 \r\nQ 21.1875 51.21875 25.484375 53.609375 \r\nQ 29.78125 56 35.6875 56 \r\nQ 41.65625 56 45.828125 52.96875 \r\nQ 50 49.953125 52 44.1875 \r\nz\r\n\" id=\"DejaVuSans-109\"/>\r\n      <path d=\"M 9.421875 75.984375 \r\nL 18.40625 75.984375 \r\nL 18.40625 0 \r\nL 9.421875 0 \r\nz\r\n\" id=\"DejaVuSans-108\"/>\r\n      <path d=\"M 9.421875 54.6875 \r\nL 18.40625 54.6875 \r\nL 18.40625 0 \r\nL 9.421875 0 \r\nz\r\nM 9.421875 75.984375 \r\nL 18.40625 75.984375 \r\nL 18.40625 64.59375 \r\nL 9.421875 64.59375 \r\nz\r\n\" id=\"DejaVuSans-105\"/>\r\n      <path d=\"M 5.515625 54.6875 \r\nL 48.1875 54.6875 \r\nL 48.1875 46.484375 \r\nL 14.40625 7.171875 \r\nL 48.1875 7.171875 \r\nL 48.1875 0 \r\nL 4.296875 0 \r\nL 4.296875 8.203125 \r\nL 38.09375 47.515625 \r\nL 5.515625 47.515625 \r\nz\r\n\" id=\"DejaVuSans-122\"/>\r\n      <path d=\"M 4.203125 54.6875 \r\nL 13.1875 54.6875 \r\nL 24.421875 12.015625 \r\nL 35.59375 54.6875 \r\nL 46.1875 54.6875 \r\nL 57.421875 12.015625 \r\nL 68.609375 54.6875 \r\nL 77.59375 54.6875 \r\nL 63.28125 0 \r\nL 52.6875 0 \r\nL 40.921875 44.828125 \r\nL 29.109375 0 \r\nL 18.5 0 \r\nz\r\n\" id=\"DejaVuSans-119\"/>\r\n     </defs>\r\n     <g transform=\"translate(14.798438 176.685065)rotate(-90)scale(0.1 -0.1)\">\r\n      <use xlink:href=\"#DejaVuSans-110\"/>\r\n      <use x=\"63.378906\" xlink:href=\"#DejaVuSans-111\"/>\r\n      <use x=\"124.560547\" xlink:href=\"#DejaVuSans-114\"/>\r\n      <use x=\"165.658203\" xlink:href=\"#DejaVuSans-109\"/>\r\n      <use x=\"263.070312\" xlink:href=\"#DejaVuSans-97\"/>\r\n      <use x=\"324.349609\" xlink:href=\"#DejaVuSans-108\"/>\r\n      <use x=\"352.132812\" xlink:href=\"#DejaVuSans-105\"/>\r\n      <use x=\"379.916016\" xlink:href=\"#DejaVuSans-122\"/>\r\n      <use x=\"432.40625\" xlink:href=\"#DejaVuSans-101\"/>\r\n      <use x=\"493.929688\" xlink:href=\"#DejaVuSans-100\"/>\r\n      <use x=\"557.40625\" xlink:href=\"#DejaVuSans-95\"/>\r\n      <use x=\"607.40625\" xlink:href=\"#DejaVuSans-110\"/>\r\n      <use x=\"670.785156\" xlink:href=\"#DejaVuSans-101\"/>\r\n      <use x=\"732.308594\" xlink:href=\"#DejaVuSans-119\"/>\r\n      <use x=\"814.095703\" xlink:href=\"#DejaVuSans-95\"/>\r\n      <use x=\"864.095703\" xlink:href=\"#DejaVuSans-100\"/>\r\n      <use x=\"927.572266\" xlink:href=\"#DejaVuSans-101\"/>\r\n      <use x=\"989.095703\" xlink:href=\"#DejaVuSans-97\"/>\r\n      <use x=\"1050.375\" xlink:href=\"#DejaVuSans-116\"/>\r\n      <use x=\"1089.583984\" xlink:href=\"#DejaVuSans-104\"/>\r\n     </g>\r\n    </g>\r\n   </g>\r\n   <g id=\"line2d_13\">\r\n    <path clip-path=\"url(#pa3083c5749)\" d=\"M 72.002557 196.980751 \r\nL 82.497855 187.338179 \r\nL 92.993152 192.159465 \r\nL 103.48845 190.55237 \r\nL 113.983748 192.159465 \r\nL 124.479046 198.587847 \r\nL 134.974344 168.053035 \r\nL 145.469641 192.159465 \r\nL 155.964939 161.624654 \r\nL 166.460237 176.088512 \r\nL 176.955535 176.088512 \r\nL 187.450833 188.945275 \r\nL 197.94613 185.731084 \r\nL 208.441428 180.909798 \r\nL 218.936726 169.660131 \r\nL 229.432024 188.945275 \r\nL 239.927322 185.731084 \r\nL 250.42262 182.516893 \r\nL 260.917917 198.587847 \r\nL 271.413215 171.267226 \r\nL 281.908513 155.196272 \r\nL 292.403811 179.302703 \r\nL 302.899109 143.946605 \r\nL 313.394406 20.200264 \r\nL 323.889704 217.872991 \r\nL 334.385002 200.194942 \r\nL 344.8803 171.267226 \r\nL 355.375598 166.44594 \r\nL 365.870895 166.44594 \r\nL 376.366193 196.980751 \r\n\" style=\"fill:none;stroke:#008000;stroke-linecap:square;stroke-width:1.5;\"/>\r\n   </g>\r\n   <g id=\"patch_3\">\r\n    <path d=\"M 56.784375 227.756627 \r\nL 56.784375 10.316627 \r\n\" style=\"fill:none;stroke:#000000;stroke-linecap:square;stroke-linejoin:miter;stroke-width:0.8;\"/>\r\n   </g>\r\n   <g id=\"patch_4\">\r\n    <path d=\"M 391.584375 227.756627 \r\nL 391.584375 10.316627 \r\n\" style=\"fill:none;stroke:#000000;stroke-linecap:square;stroke-linejoin:miter;stroke-width:0.8;\"/>\r\n   </g>\r\n   <g id=\"patch_5\">\r\n    <path d=\"M 56.784375 227.756627 \r\nL 391.584375 227.756627 \r\n\" style=\"fill:none;stroke:#000000;stroke-linecap:square;stroke-linejoin:miter;stroke-width:0.8;\"/>\r\n   </g>\r\n   <g id=\"patch_6\">\r\n    <path d=\"M 56.784375 10.316627 \r\nL 391.584375 10.316627 \r\n\" style=\"fill:none;stroke:#000000;stroke-linecap:square;stroke-linejoin:miter;stroke-width:0.8;\"/>\r\n   </g>\r\n  </g>\r\n  <g id=\"axes_2\">\r\n   <g id=\"matplotlib.axis_3\">\r\n    <g id=\"ytick_6\">\r\n     <g id=\"line2d_14\">\r\n      <defs>\r\n       <path d=\"M 0 0 \r\nL 3.5 0 \r\n\" id=\"m4ec59009a7\" style=\"stroke:#000000;stroke-width:0.8;\"/>\r\n      </defs>\r\n      <g>\r\n       <use style=\"stroke:#000000;stroke-width:0.8;\" x=\"391.584375\" xlink:href=\"#m4ec59009a7\" y=\"212.443227\"/>\r\n      </g>\r\n     </g>\r\n     <g id=\"text_15\">\r\n      <!-- −0.20 -->\r\n      <defs>\r\n       <path d=\"M 10.59375 35.5 \r\nL 73.1875 35.5 \r\nL 73.1875 27.203125 \r\nL 10.59375 27.203125 \r\nz\r\n\" id=\"DejaVuSans-8722\"/>\r\n      </defs>\r\n      <g transform=\"translate(398.584375 216.242445)scale(0.1 -0.1)\">\r\n       <use xlink:href=\"#DejaVuSans-8722\"/>\r\n       <use x=\"83.789062\" xlink:href=\"#DejaVuSans-48\"/>\r\n       <use x=\"147.412109\" xlink:href=\"#DejaVuSans-46\"/>\r\n       <use x=\"179.199219\" xlink:href=\"#DejaVuSans-50\"/>\r\n       <use x=\"242.822266\" xlink:href=\"#DejaVuSans-48\"/>\r\n      </g>\r\n     </g>\r\n    </g>\r\n    <g id=\"ytick_7\">\r\n     <g id=\"line2d_15\">\r\n      <g>\r\n       <use style=\"stroke:#000000;stroke-width:0.8;\" x=\"391.584375\" xlink:href=\"#m4ec59009a7\" y=\"183.665511\"/>\r\n      </g>\r\n     </g>\r\n     <g id=\"text_16\">\r\n      <!-- −0.19 -->\r\n      <defs>\r\n       <path d=\"M 10.984375 1.515625 \r\nL 10.984375 10.5 \r\nQ 14.703125 8.734375 18.5 7.8125 \r\nQ 22.3125 6.890625 25.984375 6.890625 \r\nQ 35.75 6.890625 40.890625 13.453125 \r\nQ 46.046875 20.015625 46.78125 33.40625 \r\nQ 43.953125 29.203125 39.59375 26.953125 \r\nQ 35.25 24.703125 29.984375 24.703125 \r\nQ 19.046875 24.703125 12.671875 31.3125 \r\nQ 6.296875 37.9375 6.296875 49.421875 \r\nQ 6.296875 60.640625 12.9375 67.421875 \r\nQ 19.578125 74.21875 30.609375 74.21875 \r\nQ 43.265625 74.21875 49.921875 64.515625 \r\nQ 56.59375 54.828125 56.59375 36.375 \r\nQ 56.59375 19.140625 48.40625 8.859375 \r\nQ 40.234375 -1.421875 26.421875 -1.421875 \r\nQ 22.703125 -1.421875 18.890625 -0.6875 \r\nQ 15.09375 0.046875 10.984375 1.515625 \r\nz\r\nM 30.609375 32.421875 \r\nQ 37.25 32.421875 41.125 36.953125 \r\nQ 45.015625 41.5 45.015625 49.421875 \r\nQ 45.015625 57.28125 41.125 61.84375 \r\nQ 37.25 66.40625 30.609375 66.40625 \r\nQ 23.96875 66.40625 20.09375 61.84375 \r\nQ 16.21875 57.28125 16.21875 49.421875 \r\nQ 16.21875 41.5 20.09375 36.953125 \r\nQ 23.96875 32.421875 30.609375 32.421875 \r\nz\r\n\" id=\"DejaVuSans-57\"/>\r\n      </defs>\r\n      <g transform=\"translate(398.584375 187.46473)scale(0.1 -0.1)\">\r\n       <use xlink:href=\"#DejaVuSans-8722\"/>\r\n       <use x=\"83.789062\" xlink:href=\"#DejaVuSans-48\"/>\r\n       <use x=\"147.412109\" xlink:href=\"#DejaVuSans-46\"/>\r\n       <use x=\"179.199219\" xlink:href=\"#DejaVuSans-49\"/>\r\n       <use x=\"242.822266\" xlink:href=\"#DejaVuSans-57\"/>\r\n      </g>\r\n     </g>\r\n    </g>\r\n    <g id=\"ytick_8\">\r\n     <g id=\"line2d_16\">\r\n      <g>\r\n       <use style=\"stroke:#000000;stroke-width:0.8;\" x=\"391.584375\" xlink:href=\"#m4ec59009a7\" y=\"154.887796\"/>\r\n      </g>\r\n     </g>\r\n     <g id=\"text_17\">\r\n      <!-- −0.18 -->\r\n      <defs>\r\n       <path d=\"M 31.78125 34.625 \r\nQ 24.75 34.625 20.71875 30.859375 \r\nQ 16.703125 27.09375 16.703125 20.515625 \r\nQ 16.703125 13.921875 20.71875 10.15625 \r\nQ 24.75 6.390625 31.78125 6.390625 \r\nQ 38.8125 6.390625 42.859375 10.171875 \r\nQ 46.921875 13.96875 46.921875 20.515625 \r\nQ 46.921875 27.09375 42.890625 30.859375 \r\nQ 38.875 34.625 31.78125 34.625 \r\nz\r\nM 21.921875 38.8125 \r\nQ 15.578125 40.375 12.03125 44.71875 \r\nQ 8.5 49.078125 8.5 55.328125 \r\nQ 8.5 64.0625 14.71875 69.140625 \r\nQ 20.953125 74.21875 31.78125 74.21875 \r\nQ 42.671875 74.21875 48.875 69.140625 \r\nQ 55.078125 64.0625 55.078125 55.328125 \r\nQ 55.078125 49.078125 51.53125 44.71875 \r\nQ 48 40.375 41.703125 38.8125 \r\nQ 48.828125 37.15625 52.796875 32.3125 \r\nQ 56.78125 27.484375 56.78125 20.515625 \r\nQ 56.78125 9.90625 50.3125 4.234375 \r\nQ 43.84375 -1.421875 31.78125 -1.421875 \r\nQ 19.734375 -1.421875 13.25 4.234375 \r\nQ 6.78125 9.90625 6.78125 20.515625 \r\nQ 6.78125 27.484375 10.78125 32.3125 \r\nQ 14.796875 37.15625 21.921875 38.8125 \r\nz\r\nM 18.3125 54.390625 \r\nQ 18.3125 48.734375 21.84375 45.5625 \r\nQ 25.390625 42.390625 31.78125 42.390625 \r\nQ 38.140625 42.390625 41.71875 45.5625 \r\nQ 45.3125 48.734375 45.3125 54.390625 \r\nQ 45.3125 60.0625 41.71875 63.234375 \r\nQ 38.140625 66.40625 31.78125 66.40625 \r\nQ 25.390625 66.40625 21.84375 63.234375 \r\nQ 18.3125 60.0625 18.3125 54.390625 \r\nz\r\n\" id=\"DejaVuSans-56\"/>\r\n      </defs>\r\n      <g transform=\"translate(398.584375 158.687015)scale(0.1 -0.1)\">\r\n       <use xlink:href=\"#DejaVuSans-8722\"/>\r\n       <use x=\"83.789062\" xlink:href=\"#DejaVuSans-48\"/>\r\n       <use x=\"147.412109\" xlink:href=\"#DejaVuSans-46\"/>\r\n       <use x=\"179.199219\" xlink:href=\"#DejaVuSans-49\"/>\r\n       <use x=\"242.822266\" xlink:href=\"#DejaVuSans-56\"/>\r\n      </g>\r\n     </g>\r\n    </g>\r\n    <g id=\"ytick_9\">\r\n     <g id=\"line2d_17\">\r\n      <g>\r\n       <use style=\"stroke:#000000;stroke-width:0.8;\" x=\"391.584375\" xlink:href=\"#m4ec59009a7\" y=\"126.11008\"/>\r\n      </g>\r\n     </g>\r\n     <g id=\"text_18\">\r\n      <!-- −0.17 -->\r\n      <defs>\r\n       <path d=\"M 8.203125 72.90625 \r\nL 55.078125 72.90625 \r\nL 55.078125 68.703125 \r\nL 28.609375 0 \r\nL 18.3125 0 \r\nL 43.21875 64.59375 \r\nL 8.203125 64.59375 \r\nz\r\n\" id=\"DejaVuSans-55\"/>\r\n      </defs>\r\n      <g transform=\"translate(398.584375 129.909299)scale(0.1 -0.1)\">\r\n       <use xlink:href=\"#DejaVuSans-8722\"/>\r\n       <use x=\"83.789062\" xlink:href=\"#DejaVuSans-48\"/>\r\n       <use x=\"147.412109\" xlink:href=\"#DejaVuSans-46\"/>\r\n       <use x=\"179.199219\" xlink:href=\"#DejaVuSans-49\"/>\r\n       <use x=\"242.822266\" xlink:href=\"#DejaVuSans-55\"/>\r\n      </g>\r\n     </g>\r\n    </g>\r\n    <g id=\"ytick_10\">\r\n     <g id=\"line2d_18\">\r\n      <g>\r\n       <use style=\"stroke:#000000;stroke-width:0.8;\" x=\"391.584375\" xlink:href=\"#m4ec59009a7\" y=\"97.332365\"/>\r\n      </g>\r\n     </g>\r\n     <g id=\"text_19\">\r\n      <!-- −0.16 -->\r\n      <defs>\r\n       <path d=\"M 33.015625 40.375 \r\nQ 26.375 40.375 22.484375 35.828125 \r\nQ 18.609375 31.296875 18.609375 23.390625 \r\nQ 18.609375 15.53125 22.484375 10.953125 \r\nQ 26.375 6.390625 33.015625 6.390625 \r\nQ 39.65625 6.390625 43.53125 10.953125 \r\nQ 47.40625 15.53125 47.40625 23.390625 \r\nQ 47.40625 31.296875 43.53125 35.828125 \r\nQ 39.65625 40.375 33.015625 40.375 \r\nz\r\nM 52.59375 71.296875 \r\nL 52.59375 62.3125 \r\nQ 48.875 64.0625 45.09375 64.984375 \r\nQ 41.3125 65.921875 37.59375 65.921875 \r\nQ 27.828125 65.921875 22.671875 59.328125 \r\nQ 17.53125 52.734375 16.796875 39.40625 \r\nQ 19.671875 43.65625 24.015625 45.921875 \r\nQ 28.375 48.1875 33.59375 48.1875 \r\nQ 44.578125 48.1875 50.953125 41.515625 \r\nQ 57.328125 34.859375 57.328125 23.390625 \r\nQ 57.328125 12.15625 50.6875 5.359375 \r\nQ 44.046875 -1.421875 33.015625 -1.421875 \r\nQ 20.359375 -1.421875 13.671875 8.265625 \r\nQ 6.984375 17.96875 6.984375 36.375 \r\nQ 6.984375 53.65625 15.1875 63.9375 \r\nQ 23.390625 74.21875 37.203125 74.21875 \r\nQ 40.921875 74.21875 44.703125 73.484375 \r\nQ 48.484375 72.75 52.59375 71.296875 \r\nz\r\n\" id=\"DejaVuSans-54\"/>\r\n      </defs>\r\n      <g transform=\"translate(398.584375 101.131584)scale(0.1 -0.1)\">\r\n       <use xlink:href=\"#DejaVuSans-8722\"/>\r\n       <use x=\"83.789062\" xlink:href=\"#DejaVuSans-48\"/>\r\n       <use x=\"147.412109\" xlink:href=\"#DejaVuSans-46\"/>\r\n       <use x=\"179.199219\" xlink:href=\"#DejaVuSans-49\"/>\r\n       <use x=\"242.822266\" xlink:href=\"#DejaVuSans-54\"/>\r\n      </g>\r\n     </g>\r\n    </g>\r\n    <g id=\"ytick_11\">\r\n     <g id=\"line2d_19\">\r\n      <g>\r\n       <use style=\"stroke:#000000;stroke-width:0.8;\" x=\"391.584375\" xlink:href=\"#m4ec59009a7\" y=\"68.55465\"/>\r\n      </g>\r\n     </g>\r\n     <g id=\"text_20\">\r\n      <!-- −0.15 -->\r\n      <g transform=\"translate(398.584375 72.353868)scale(0.1 -0.1)\">\r\n       <use xlink:href=\"#DejaVuSans-8722\"/>\r\n       <use x=\"83.789062\" xlink:href=\"#DejaVuSans-48\"/>\r\n       <use x=\"147.412109\" xlink:href=\"#DejaVuSans-46\"/>\r\n       <use x=\"179.199219\" xlink:href=\"#DejaVuSans-49\"/>\r\n       <use x=\"242.822266\" xlink:href=\"#DejaVuSans-53\"/>\r\n      </g>\r\n     </g>\r\n    </g>\r\n    <g id=\"ytick_12\">\r\n     <g id=\"line2d_20\">\r\n      <g>\r\n       <use style=\"stroke:#000000;stroke-width:0.8;\" x=\"391.584375\" xlink:href=\"#m4ec59009a7\" y=\"39.776934\"/>\r\n      </g>\r\n     </g>\r\n     <g id=\"text_21\">\r\n      <!-- −0.14 -->\r\n      <defs>\r\n       <path d=\"M 37.796875 64.3125 \r\nL 12.890625 25.390625 \r\nL 37.796875 25.390625 \r\nz\r\nM 35.203125 72.90625 \r\nL 47.609375 72.90625 \r\nL 47.609375 25.390625 \r\nL 58.015625 25.390625 \r\nL 58.015625 17.1875 \r\nL 47.609375 17.1875 \r\nL 47.609375 0 \r\nL 37.796875 0 \r\nL 37.796875 17.1875 \r\nL 4.890625 17.1875 \r\nL 4.890625 26.703125 \r\nz\r\n\" id=\"DejaVuSans-52\"/>\r\n      </defs>\r\n      <g transform=\"translate(398.584375 43.576153)scale(0.1 -0.1)\">\r\n       <use xlink:href=\"#DejaVuSans-8722\"/>\r\n       <use x=\"83.789062\" xlink:href=\"#DejaVuSans-48\"/>\r\n       <use x=\"147.412109\" xlink:href=\"#DejaVuSans-46\"/>\r\n       <use x=\"179.199219\" xlink:href=\"#DejaVuSans-49\"/>\r\n       <use x=\"242.822266\" xlink:href=\"#DejaVuSans-52\"/>\r\n      </g>\r\n     </g>\r\n    </g>\r\n    <g id=\"ytick_13\">\r\n     <g id=\"line2d_21\">\r\n      <g>\r\n       <use style=\"stroke:#000000;stroke-width:0.8;\" x=\"391.584375\" xlink:href=\"#m4ec59009a7\" y=\"10.999219\"/>\r\n      </g>\r\n     </g>\r\n     <g id=\"text_22\">\r\n      <!-- −0.13 -->\r\n      <g transform=\"translate(398.584375 14.798438)scale(0.1 -0.1)\">\r\n       <use xlink:href=\"#DejaVuSans-8722\"/>\r\n       <use x=\"83.789062\" xlink:href=\"#DejaVuSans-48\"/>\r\n       <use x=\"147.412109\" xlink:href=\"#DejaVuSans-46\"/>\r\n       <use x=\"179.199219\" xlink:href=\"#DejaVuSans-49\"/>\r\n       <use x=\"242.822266\" xlink:href=\"#DejaVuSans-51\"/>\r\n      </g>\r\n     </g>\r\n    </g>\r\n    <g id=\"text_23\">\r\n     <!-- sentiment -->\r\n     <g transform=\"translate(440.828125 144.311627)rotate(-90)scale(0.1 -0.1)\">\r\n      <use xlink:href=\"#DejaVuSans-115\"/>\r\n      <use x=\"52.099609\" xlink:href=\"#DejaVuSans-101\"/>\r\n      <use x=\"113.623047\" xlink:href=\"#DejaVuSans-110\"/>\r\n      <use x=\"177.001953\" xlink:href=\"#DejaVuSans-116\"/>\r\n      <use x=\"216.210938\" xlink:href=\"#DejaVuSans-105\"/>\r\n      <use x=\"243.994141\" xlink:href=\"#DejaVuSans-109\"/>\r\n      <use x=\"341.40625\" xlink:href=\"#DejaVuSans-101\"/>\r\n      <use x=\"402.929688\" xlink:href=\"#DejaVuSans-110\"/>\r\n      <use x=\"466.308594\" xlink:href=\"#DejaVuSans-116\"/>\r\n     </g>\r\n    </g>\r\n   </g>\r\n   <g id=\"line2d_22\">\r\n    <path clip-path=\"url(#pa3083c5749)\" d=\"M 72.002557 101.247707 \r\nL 82.497855 128.094757 \r\nL 92.993152 51.012215 \r\nL 103.48845 112.935226 \r\nL 113.983748 152.464835 \r\nL 124.479046 118.900762 \r\nL 134.974344 122.562693 \r\nL 145.469641 61.283416 \r\nL 155.964939 78.348118 \r\nL 166.460237 82.445536 \r\nL 176.955535 20.200264 \r\nL 187.450833 103.568395 \r\nL 197.94613 70.68204 \r\nL 208.441428 122.563824 \r\nL 218.936726 105.099517 \r\nL 229.432024 70.925925 \r\nL 239.927322 103.447943 \r\nL 250.42262 93.573451 \r\nL 260.917917 118.221777 \r\nL 271.413215 217.872991 \r\nL 281.908513 149.166201 \r\nL 292.403811 117.881729 \r\nL 302.899109 217.872991 \r\nL 313.394406 66.425755 \r\nL 323.889704 162.443342 \r\nL 334.385002 177.65192 \r\nL 344.8803 52.024664 \r\nL 355.375598 178.058902 \r\nL 365.870895 152.462094 \r\nL 376.366193 138.234961 \r\n\" style=\"fill:none;stroke:#0000ff;stroke-linecap:square;stroke-width:1.5;\"/>\r\n   </g>\r\n   <g id=\"patch_7\">\r\n    <path d=\"M 56.784375 227.756627 \r\nL 56.784375 10.316627 \r\n\" style=\"fill:none;stroke:#000000;stroke-linecap:square;stroke-linejoin:miter;stroke-width:0.8;\"/>\r\n   </g>\r\n   <g id=\"patch_8\">\r\n    <path d=\"M 391.584375 227.756627 \r\nL 391.584375 10.316627 \r\n\" style=\"fill:none;stroke:#000000;stroke-linecap:square;stroke-linejoin:miter;stroke-width:0.8;\"/>\r\n   </g>\r\n   <g id=\"patch_9\">\r\n    <path d=\"M 56.784375 227.756627 \r\nL 391.584375 227.756627 \r\n\" style=\"fill:none;stroke:#000000;stroke-linecap:square;stroke-linejoin:miter;stroke-width:0.8;\"/>\r\n   </g>\r\n   <g id=\"patch_10\">\r\n    <path d=\"M 56.784375 10.316627 \r\nL 391.584375 10.316627 \r\n\" style=\"fill:none;stroke:#000000;stroke-linecap:square;stroke-linejoin:miter;stroke-width:0.8;\"/>\r\n   </g>\r\n  </g>\r\n </g>\r\n <defs>\r\n  <clipPath id=\"pa3083c5749\">\r\n   <rect height=\"217.44\" width=\"334.8\" x=\"56.784375\" y=\"10.316627\"/>\r\n  </clipPath>\r\n </defs>\r\n</svg>\r\n",
      "image/png": "[encoded data removed]"
     },
     "metadata": {
      "needs_background": "light"
     }
    }
   ],
   "source": [
    "sns.lineplot(y=colorado_covid['normalized_new_death'], x=colorado_covid['short_date'] , color=\"g\")\n",
    "ax2 = plt.twinx()\n",
    "sns.lineplot(y= colorado_sentiment['sentiment'], x = colorado_sentiment['date'], color=\"b\", ax=ax2)"
   ]
  },
  {
   "source": [
    "We add the regulation data and plot the occurences of regulation start dates to see if there is a link"
   ],
   "cell_type": "markdown",
   "metadata": {}
  },
  {
   "cell_type": "code",
   "execution_count": 29,
   "metadata": {},
   "outputs": [
    {
     "output_type": "execute_result",
     "data": {
      "text/plain": [
       "    Policy ID  Province                                  Event Description  \\\n",
       "0     1504183  Colorado  Colorado, United Stares, Governor \"orders all ...   \n",
       "1     1504183  Colorado  Colorado, United Stares, Governor \"orders all ...   \n",
       "2     1504183  Colorado  Colorado, United Stares, Governor \"orders all ...   \n",
       "3     1504183  Colorado  Colorado, United Stares, Governor \"orders all ...   \n",
       "4     1061734  Colorado  United Sates, Colorado Governor closes bars an...   \n",
       "5     1061734  Colorado  United Sates, Colorado Governor closes bars an...   \n",
       "6     7790598  Colorado  Colorado, United Stares, Governor announced on...   \n",
       "7     7790598  Colorado  Colorado, United Stares, Governor announced on...   \n",
       "8     7790598  Colorado  Colorado, United Stares, Governor announced on...   \n",
       "9     7790598  Colorado  Colorado, United Stares, Governor announced on...   \n",
       "10    4747521  Colorado  United States, Colorado Governor announced on ...   \n",
       "11    9539525  Colorado  United States, Colorado Governor announced on ...   \n",
       "12    2471329  Colorado  United States, Colorado Governor suspends all ...   \n",
       "13    2471329  Colorado  United States, Colorado Governor suspends all ...   \n",
       "14     142214  Colorado  United States, Colorado Governor Jared Polis o...   \n",
       "15     142214  Colorado  United States, Colorado Governor Jared Polis o...   \n",
       "16    9313096  Colorado  United States, Colorado Governor issued a stat...   \n",
       "17    9313096  Colorado  United States, Colorado Governor issued a stat...   \n",
       "18    8109341  Colorado  United States, Colorado \"liquor stores and rec...   \n",
       "19    7263190  Colorado  United States, Colorado governor signs executi...   \n",
       "20    8850026  Colorado  United States, Colorado Governor \"ordering the...   \n",
       "21    4826036  Colorado  United States, Colorado Governor signs executi...   \n",
       "22    1161273  Colorado  United States, Colorado Department of Transpor...   \n",
       "23    5784949  Colorado  United States, on April 1, Colorado Governor s...   \n",
       "24    5784949  Colorado  United States, on April 1, Colorado Governor s...   \n",
       "25    6826686  Colorado  United States, \"Colorado securing medical supp...   \n",
       "26    6826686  Colorado  United States, \"Colorado securing medical supp...   \n",
       "27    6826686  Colorado  United States, \"Colorado securing medical supp...   \n",
       "28    3643063  Colorado  United States, Colorado Governor \"orders Hobby...   \n",
       "29    3049188  Colorado  United States, Colorado Governor asks \"all Col...   \n",
       "30    8367559  Colorado  United States, Colorado Department Public Heal...   \n",
       "31    5797503  Colorado  United States, Colorado, Denver preparing to u...   \n",
       "32    7630824  Colorado  Glenwood Springs, CO:  the Glenwood Springs Ci...   \n",
       "33    8469915  Colorado  Initially, the Governor of Colorado, United St...   \n",
       "34    9308804  Colorado  United States, Colorado Governor \"announced ne...   \n",
       "35    8655411  Colorado  United States, Colorado Supreme Court Chief Ju...   \n",
       "36    1830914  Colorado  United States, Colorado Governor issues an Exe...   \n",
       "37    5520572  Colorado  United States, Colorado Governor \"signed an Ex...   \n",
       "38    9018443  Colorado  The governor directed all P-12 schools to susp...   \n",
       "39    9018443  Colorado  The governor directed all P-12 schools to susp...   \n",
       "40    9018443  Colorado  The governor directed all P-12 schools to susp...   \n",
       "41    9018443  Colorado  The governor directed all P-12 schools to susp...   \n",
       "42    3688085  Colorado  Wheat Ridge, CO: The first mask mandate in the...   \n",
       "43    5333510  Colorado  As of April 27,2020 in Aspen, CO: The Aspen Ci...   \n",
       "\n",
       "   Date Policy Announced Date Policy Start Date Policy End  \\\n",
       "0             14/03/2020        14/03/2020      30/04/2020   \n",
       "1             14/03/2020        14/03/2020      30/04/2020   \n",
       "2             14/03/2020        14/03/2020      30/04/2020   \n",
       "3             14/03/2020        14/03/2020      30/04/2020   \n",
       "4             16/03/2020        16/03/2020      30/04/2020   \n",
       "5             16/03/2020        16/03/2020      30/04/2020   \n",
       "6             16/03/2020        17/03/2020      15/04/2020   \n",
       "7             16/03/2020        17/03/2020      15/04/2020   \n",
       "8             16/03/2020        17/03/2020      15/04/2020   \n",
       "9             16/03/2020        17/03/2020      15/04/2020   \n",
       "10            16/03/2020        17/03/2020      18/04/2020   \n",
       "11            18/03/2020        19/03/2020      18/04/2020   \n",
       "12            19/03/2020        23/03/2020      26/04/2020   \n",
       "13            19/03/2020        23/03/2020      26/04/2020   \n",
       "14            22/03/2020        24/03/2020      06/04/2020   \n",
       "15            22/03/2020        24/03/2020      06/04/2020   \n",
       "16            24/03/2020        24/03/2020      26/04/2020   \n",
       "17            24/03/2020        24/03/2020      26/04/2020   \n",
       "18            24/03/2020        24/04/2020             NaN   \n",
       "19            25/03/2020        25/03/2020      24/04/2020   \n",
       "20            26/03/2020        26/03/2020      30/04/2020   \n",
       "21            27/03/2020        27/03/2020      26/04/2020   \n",
       "22            28/03/2020        28/03/2020      11/04/2020   \n",
       "23            01/04/2020        01/04/2020      01/05/2020   \n",
       "24            01/04/2020        01/04/2020      01/05/2020   \n",
       "25            01/04/2020        01/04/2020             NaN   \n",
       "26            01/04/2020        01/04/2020             NaN   \n",
       "27            01/04/2020        01/04/2020             NaN   \n",
       "28            01/04/2020        01/04/2020             NaN   \n",
       "29            03/04/2020        03/04/2020             NaN   \n",
       "30            03/04/2020        03/04/2020             NaN   \n",
       "31            06/04/2020        18/04/2020             NaN   \n",
       "32            06/04/2020        06/04/2020      04/06/2020   \n",
       "33            08/04/2020        08/04/2020      02/09/2020   \n",
       "34            08/04/2020        08/04/2020             NaN   \n",
       "35            14/04/2020        14/04/2020      15/05/2020   \n",
       "36            15/04/2020        15/04/2020      15/05/2020   \n",
       "37            20/04/2020        11/04/2020      11/05/2020   \n",
       "38            22/04/2020        22/04/2020      29/05/2020   \n",
       "39            22/04/2020        22/04/2020      29/05/2020   \n",
       "40            22/04/2020        22/04/2020      29/05/2020   \n",
       "41            22/04/2020        22/04/2020      29/05/2020   \n",
       "42            27/04/2020        27/04/2020      30/05/2020   \n",
       "43            27/04/2020        27/04/2020             NaN   \n",
       "\n",
       "                                      Policy Category  \n",
       "0            Restriction and Regulation of Businesses  \n",
       "1            Restriction and Regulation of Businesses  \n",
       "2            Restriction and Regulation of Businesses  \n",
       "3            Restriction and Regulation of Businesses  \n",
       "4            Restriction and Regulation of Businesses  \n",
       "5            Restriction and Regulation of Businesses  \n",
       "6            Restriction and Regulation of Businesses  \n",
       "7            Restriction and Regulation of Businesses  \n",
       "8            Restriction and Regulation of Businesses  \n",
       "9            Restriction and Regulation of Businesses  \n",
       "10  Restriction and Regulation of Government Services  \n",
       "11                    Restrictions of Mass Gatherings  \n",
       "12                                   Health Resources  \n",
       "13                                   Health Resources  \n",
       "14           Restriction and Regulation of Businesses  \n",
       "15           Restriction and Regulation of Businesses  \n",
       "16                                           Lockdown  \n",
       "17                                         Quarantine  \n",
       "18           Restriction and Regulation of Businesses  \n",
       "19  Restriction and Regulation of Government Services  \n",
       "20  Restriction and Regulation of Government Services  \n",
       "21  Restriction and Regulation of Government Services  \n",
       "22                       Internal Border Restrictions  \n",
       "23                                   Health Resources  \n",
       "24                                   Health Resources  \n",
       "25                                   Health Resources  \n",
       "26                                   Health Resources  \n",
       "27                                   Health Resources  \n",
       "28           Restriction and Regulation of Businesses  \n",
       "29                                   Health Resources  \n",
       "30                                  Social Distancing  \n",
       "31                                   Health Resources  \n",
       "32                      Other Policy Not Listed Above  \n",
       "33                           Declaration of Emergency  \n",
       "34                          Public Awareness Measures  \n",
       "35  Restriction and Regulation of Government Services  \n",
       "36                                   Health Resources  \n",
       "37  Restriction and Regulation of Government Services  \n",
       "38                  Closure and Regulation of Schools  \n",
       "39                  Closure and Regulation of Schools  \n",
       "40                  Closure and Regulation of Schools  \n",
       "41                  Closure and Regulation of Schools  \n",
       "42                      Other Policy Not Listed Above  \n",
       "43                      Other Policy Not Listed Above  "
      ],
      "text/html": "<div>\n<style scoped>\n    .dataframe tbody tr th:only-of-type {\n        vertical-align: middle;\n    }\n\n    .dataframe tbody tr th {\n        vertical-align: top;\n    }\n\n    .dataframe thead th {\n        text-align: right;\n    }\n</style>\n<table border=\"1\" class=\"dataframe\">\n  <thead>\n    <tr style=\"text-align: right;\">\n      <th></th>\n      <th>Policy ID</th>\n      <th>Province</th>\n      <th>Event Description</th>\n      <th>Date Policy Announced</th>\n      <th>Date Policy Start</th>\n      <th>Date Policy End</th>\n      <th>Policy Category</th>\n    </tr>\n  </thead>\n  <tbody>\n    <tr>\n      <td>0</td>\n      <td>1504183</td>\n      <td>Colorado</td>\n      <td>Colorado, United Stares, Governor \"orders all ...</td>\n      <td>14/03/2020</td>\n      <td>14/03/2020</td>\n      <td>30/04/2020</td>\n      <td>Restriction and Regulation of Businesses</td>\n    </tr>\n    <tr>\n      <td>1</td>\n      <td>1504183</td>\n      <td>Colorado</td>\n      <td>Colorado, United Stares, Governor \"orders all ...</td>\n      <td>14/03/2020</td>\n      <td>14/03/2020</td>\n      <td>30/04/2020</td>\n      <td>Restriction and Regulation of Businesses</td>\n    </tr>\n    <tr>\n      <td>2</td>\n      <td>1504183</td>\n      <td>Colorado</td>\n      <td>Colorado, United Stares, Governor \"orders all ...</td>\n      <td>14/03/2020</td>\n      <td>14/03/2020</td>\n      <td>30/04/2020</td>\n      <td>Restriction and Regulation of Businesses</td>\n    </tr>\n    <tr>\n      <td>3</td>\n      <td>1504183</td>\n      <td>Colorado</td>\n      <td>Colorado, United Stares, Governor \"orders all ...</td>\n      <td>14/03/2020</td>\n      <td>14/03/2020</td>\n      <td>30/04/2020</td>\n      <td>Restriction and Regulation of Businesses</td>\n    </tr>\n    <tr>\n      <td>4</td>\n      <td>1061734</td>\n      <td>Colorado</td>\n      <td>United Sates, Colorado Governor closes bars an...</td>\n      <td>16/03/2020</td>\n      <td>16/03/2020</td>\n      <td>30/04/2020</td>\n      <td>Restriction and Regulation of Businesses</td>\n    </tr>\n    <tr>\n      <td>5</td>\n      <td>1061734</td>\n      <td>Colorado</td>\n      <td>United Sates, Colorado Governor closes bars an...</td>\n      <td>16/03/2020</td>\n      <td>16/03/2020</td>\n      <td>30/04/2020</td>\n      <td>Restriction and Regulation of Businesses</td>\n    </tr>\n    <tr>\n      <td>6</td>\n      <td>7790598</td>\n      <td>Colorado</td>\n      <td>Colorado, United Stares, Governor announced on...</td>\n      <td>16/03/2020</td>\n      <td>17/03/2020</td>\n      <td>15/04/2020</td>\n      <td>Restriction and Regulation of Businesses</td>\n    </tr>\n    <tr>\n      <td>7</td>\n      <td>7790598</td>\n      <td>Colorado</td>\n      <td>Colorado, United Stares, Governor announced on...</td>\n      <td>16/03/2020</td>\n      <td>17/03/2020</td>\n      <td>15/04/2020</td>\n      <td>Restriction and Regulation of Businesses</td>\n    </tr>\n    <tr>\n      <td>8</td>\n      <td>7790598</td>\n      <td>Colorado</td>\n      <td>Colorado, United Stares, Governor announced on...</td>\n      <td>16/03/2020</td>\n      <td>17/03/2020</td>\n      <td>15/04/2020</td>\n      <td>Restriction and Regulation of Businesses</td>\n    </tr>\n    <tr>\n      <td>9</td>\n      <td>7790598</td>\n      <td>Colorado</td>\n      <td>Colorado, United Stares, Governor announced on...</td>\n      <td>16/03/2020</td>\n      <td>17/03/2020</td>\n      <td>15/04/2020</td>\n      <td>Restriction and Regulation of Businesses</td>\n    </tr>\n    <tr>\n      <td>10</td>\n      <td>4747521</td>\n      <td>Colorado</td>\n      <td>United States, Colorado Governor announced on ...</td>\n      <td>16/03/2020</td>\n      <td>17/03/2020</td>\n      <td>18/04/2020</td>\n      <td>Restriction and Regulation of Government Services</td>\n    </tr>\n    <tr>\n      <td>11</td>\n      <td>9539525</td>\n      <td>Colorado</td>\n      <td>United States, Colorado Governor announced on ...</td>\n      <td>18/03/2020</td>\n      <td>19/03/2020</td>\n      <td>18/04/2020</td>\n      <td>Restrictions of Mass Gatherings</td>\n    </tr>\n    <tr>\n      <td>12</td>\n      <td>2471329</td>\n      <td>Colorado</td>\n      <td>United States, Colorado Governor suspends all ...</td>\n      <td>19/03/2020</td>\n      <td>23/03/2020</td>\n      <td>26/04/2020</td>\n      <td>Health Resources</td>\n    </tr>\n    <tr>\n      <td>13</td>\n      <td>2471329</td>\n      <td>Colorado</td>\n      <td>United States, Colorado Governor suspends all ...</td>\n      <td>19/03/2020</td>\n      <td>23/03/2020</td>\n      <td>26/04/2020</td>\n      <td>Health Resources</td>\n    </tr>\n    <tr>\n      <td>14</td>\n      <td>142214</td>\n      <td>Colorado</td>\n      <td>United States, Colorado Governor Jared Polis o...</td>\n      <td>22/03/2020</td>\n      <td>24/03/2020</td>\n      <td>06/04/2020</td>\n      <td>Restriction and Regulation of Businesses</td>\n    </tr>\n    <tr>\n      <td>15</td>\n      <td>142214</td>\n      <td>Colorado</td>\n      <td>United States, Colorado Governor Jared Polis o...</td>\n      <td>22/03/2020</td>\n      <td>24/03/2020</td>\n      <td>06/04/2020</td>\n      <td>Restriction and Regulation of Businesses</td>\n    </tr>\n    <tr>\n      <td>16</td>\n      <td>9313096</td>\n      <td>Colorado</td>\n      <td>United States, Colorado Governor issued a stat...</td>\n      <td>24/03/2020</td>\n      <td>24/03/2020</td>\n      <td>26/04/2020</td>\n      <td>Lockdown</td>\n    </tr>\n    <tr>\n      <td>17</td>\n      <td>9313096</td>\n      <td>Colorado</td>\n      <td>United States, Colorado Governor issued a stat...</td>\n      <td>24/03/2020</td>\n      <td>24/03/2020</td>\n      <td>26/04/2020</td>\n      <td>Quarantine</td>\n    </tr>\n    <tr>\n      <td>18</td>\n      <td>8109341</td>\n      <td>Colorado</td>\n      <td>United States, Colorado \"liquor stores and rec...</td>\n      <td>24/03/2020</td>\n      <td>24/04/2020</td>\n      <td>NaN</td>\n      <td>Restriction and Regulation of Businesses</td>\n    </tr>\n    <tr>\n      <td>19</td>\n      <td>7263190</td>\n      <td>Colorado</td>\n      <td>United States, Colorado governor signs executi...</td>\n      <td>25/03/2020</td>\n      <td>25/03/2020</td>\n      <td>24/04/2020</td>\n      <td>Restriction and Regulation of Government Services</td>\n    </tr>\n    <tr>\n      <td>20</td>\n      <td>8850026</td>\n      <td>Colorado</td>\n      <td>United States, Colorado Governor \"ordering the...</td>\n      <td>26/03/2020</td>\n      <td>26/03/2020</td>\n      <td>30/04/2020</td>\n      <td>Restriction and Regulation of Government Services</td>\n    </tr>\n    <tr>\n      <td>21</td>\n      <td>4826036</td>\n      <td>Colorado</td>\n      <td>United States, Colorado Governor signs executi...</td>\n      <td>27/03/2020</td>\n      <td>27/03/2020</td>\n      <td>26/04/2020</td>\n      <td>Restriction and Regulation of Government Services</td>\n    </tr>\n    <tr>\n      <td>22</td>\n      <td>1161273</td>\n      <td>Colorado</td>\n      <td>United States, Colorado Department of Transpor...</td>\n      <td>28/03/2020</td>\n      <td>28/03/2020</td>\n      <td>11/04/2020</td>\n      <td>Internal Border Restrictions</td>\n    </tr>\n    <tr>\n      <td>23</td>\n      <td>5784949</td>\n      <td>Colorado</td>\n      <td>United States, on April 1, Colorado Governor s...</td>\n      <td>01/04/2020</td>\n      <td>01/04/2020</td>\n      <td>01/05/2020</td>\n      <td>Health Resources</td>\n    </tr>\n    <tr>\n      <td>24</td>\n      <td>5784949</td>\n      <td>Colorado</td>\n      <td>United States, on April 1, Colorado Governor s...</td>\n      <td>01/04/2020</td>\n      <td>01/04/2020</td>\n      <td>01/05/2020</td>\n      <td>Health Resources</td>\n    </tr>\n    <tr>\n      <td>25</td>\n      <td>6826686</td>\n      <td>Colorado</td>\n      <td>United States, \"Colorado securing medical supp...</td>\n      <td>01/04/2020</td>\n      <td>01/04/2020</td>\n      <td>NaN</td>\n      <td>Health Resources</td>\n    </tr>\n    <tr>\n      <td>26</td>\n      <td>6826686</td>\n      <td>Colorado</td>\n      <td>United States, \"Colorado securing medical supp...</td>\n      <td>01/04/2020</td>\n      <td>01/04/2020</td>\n      <td>NaN</td>\n      <td>Health Resources</td>\n    </tr>\n    <tr>\n      <td>27</td>\n      <td>6826686</td>\n      <td>Colorado</td>\n      <td>United States, \"Colorado securing medical supp...</td>\n      <td>01/04/2020</td>\n      <td>01/04/2020</td>\n      <td>NaN</td>\n      <td>Health Resources</td>\n    </tr>\n    <tr>\n      <td>28</td>\n      <td>3643063</td>\n      <td>Colorado</td>\n      <td>United States, Colorado Governor \"orders Hobby...</td>\n      <td>01/04/2020</td>\n      <td>01/04/2020</td>\n      <td>NaN</td>\n      <td>Restriction and Regulation of Businesses</td>\n    </tr>\n    <tr>\n      <td>29</td>\n      <td>3049188</td>\n      <td>Colorado</td>\n      <td>United States, Colorado Governor asks \"all Col...</td>\n      <td>03/04/2020</td>\n      <td>03/04/2020</td>\n      <td>NaN</td>\n      <td>Health Resources</td>\n    </tr>\n    <tr>\n      <td>30</td>\n      <td>8367559</td>\n      <td>Colorado</td>\n      <td>United States, Colorado Department Public Heal...</td>\n      <td>03/04/2020</td>\n      <td>03/04/2020</td>\n      <td>NaN</td>\n      <td>Social Distancing</td>\n    </tr>\n    <tr>\n      <td>31</td>\n      <td>5797503</td>\n      <td>Colorado</td>\n      <td>United States, Colorado, Denver preparing to u...</td>\n      <td>06/04/2020</td>\n      <td>18/04/2020</td>\n      <td>NaN</td>\n      <td>Health Resources</td>\n    </tr>\n    <tr>\n      <td>32</td>\n      <td>7630824</td>\n      <td>Colorado</td>\n      <td>Glenwood Springs, CO:  the Glenwood Springs Ci...</td>\n      <td>06/04/2020</td>\n      <td>06/04/2020</td>\n      <td>04/06/2020</td>\n      <td>Other Policy Not Listed Above</td>\n    </tr>\n    <tr>\n      <td>33</td>\n      <td>8469915</td>\n      <td>Colorado</td>\n      <td>Initially, the Governor of Colorado, United St...</td>\n      <td>08/04/2020</td>\n      <td>08/04/2020</td>\n      <td>02/09/2020</td>\n      <td>Declaration of Emergency</td>\n    </tr>\n    <tr>\n      <td>34</td>\n      <td>9308804</td>\n      <td>Colorado</td>\n      <td>United States, Colorado Governor \"announced ne...</td>\n      <td>08/04/2020</td>\n      <td>08/04/2020</td>\n      <td>NaN</td>\n      <td>Public Awareness Measures</td>\n    </tr>\n    <tr>\n      <td>35</td>\n      <td>8655411</td>\n      <td>Colorado</td>\n      <td>United States, Colorado Supreme Court Chief Ju...</td>\n      <td>14/04/2020</td>\n      <td>14/04/2020</td>\n      <td>15/05/2020</td>\n      <td>Restriction and Regulation of Government Services</td>\n    </tr>\n    <tr>\n      <td>36</td>\n      <td>1830914</td>\n      <td>Colorado</td>\n      <td>United States, Colorado Governor issues an Exe...</td>\n      <td>15/04/2020</td>\n      <td>15/04/2020</td>\n      <td>15/05/2020</td>\n      <td>Health Resources</td>\n    </tr>\n    <tr>\n      <td>37</td>\n      <td>5520572</td>\n      <td>Colorado</td>\n      <td>United States, Colorado Governor \"signed an Ex...</td>\n      <td>20/04/2020</td>\n      <td>11/04/2020</td>\n      <td>11/05/2020</td>\n      <td>Restriction and Regulation of Government Services</td>\n    </tr>\n    <tr>\n      <td>38</td>\n      <td>9018443</td>\n      <td>Colorado</td>\n      <td>The governor directed all P-12 schools to susp...</td>\n      <td>22/04/2020</td>\n      <td>22/04/2020</td>\n      <td>29/05/2020</td>\n      <td>Closure and Regulation of Schools</td>\n    </tr>\n    <tr>\n      <td>39</td>\n      <td>9018443</td>\n      <td>Colorado</td>\n      <td>The governor directed all P-12 schools to susp...</td>\n      <td>22/04/2020</td>\n      <td>22/04/2020</td>\n      <td>29/05/2020</td>\n      <td>Closure and Regulation of Schools</td>\n    </tr>\n    <tr>\n      <td>40</td>\n      <td>9018443</td>\n      <td>Colorado</td>\n      <td>The governor directed all P-12 schools to susp...</td>\n      <td>22/04/2020</td>\n      <td>22/04/2020</td>\n      <td>29/05/2020</td>\n      <td>Closure and Regulation of Schools</td>\n    </tr>\n    <tr>\n      <td>41</td>\n      <td>9018443</td>\n      <td>Colorado</td>\n      <td>The governor directed all P-12 schools to susp...</td>\n      <td>22/04/2020</td>\n      <td>22/04/2020</td>\n      <td>29/05/2020</td>\n      <td>Closure and Regulation of Schools</td>\n    </tr>\n    <tr>\n      <td>42</td>\n      <td>3688085</td>\n      <td>Colorado</td>\n      <td>Wheat Ridge, CO: The first mask mandate in the...</td>\n      <td>27/04/2020</td>\n      <td>27/04/2020</td>\n      <td>30/05/2020</td>\n      <td>Other Policy Not Listed Above</td>\n    </tr>\n    <tr>\n      <td>43</td>\n      <td>5333510</td>\n      <td>Colorado</td>\n      <td>As of April 27,2020 in Aspen, CO: The Aspen Ci...</td>\n      <td>27/04/2020</td>\n      <td>27/04/2020</td>\n      <td>NaN</td>\n      <td>Other Policy Not Listed Above</td>\n    </tr>\n  </tbody>\n</table>\n</div>"
     },
     "metadata": {},
     "execution_count": 29
    }
   ],
   "source": [
    "colorado_regulations = pd.read_csv('./colorado_regulation_data.csv')\n",
    "colorado_regulations"
   ]
  },
  {
   "cell_type": "code",
   "execution_count": 30,
   "metadata": {},
   "outputs": [
    {
     "output_type": "execute_result",
     "data": {
      "text/plain": [
       "    Policy ID  Province                                  Event Description  \\\n",
       "0     1504183  Colorado  Colorado, United Stares, Governor \"orders all ...   \n",
       "1     1504183  Colorado  Colorado, United Stares, Governor \"orders all ...   \n",
       "2     1504183  Colorado  Colorado, United Stares, Governor \"orders all ...   \n",
       "3     1504183  Colorado  Colorado, United Stares, Governor \"orders all ...   \n",
       "4     1061734  Colorado  United Sates, Colorado Governor closes bars an...   \n",
       "5     1061734  Colorado  United Sates, Colorado Governor closes bars an...   \n",
       "6     7790598  Colorado  Colorado, United Stares, Governor announced on...   \n",
       "7     7790598  Colorado  Colorado, United Stares, Governor announced on...   \n",
       "8     7790598  Colorado  Colorado, United Stares, Governor announced on...   \n",
       "9     7790598  Colorado  Colorado, United Stares, Governor announced on...   \n",
       "10    4747521  Colorado  United States, Colorado Governor announced on ...   \n",
       "11    9539525  Colorado  United States, Colorado Governor announced on ...   \n",
       "12    2471329  Colorado  United States, Colorado Governor suspends all ...   \n",
       "13    2471329  Colorado  United States, Colorado Governor suspends all ...   \n",
       "14     142214  Colorado  United States, Colorado Governor Jared Polis o...   \n",
       "15     142214  Colorado  United States, Colorado Governor Jared Polis o...   \n",
       "16    9313096  Colorado  United States, Colorado Governor issued a stat...   \n",
       "17    9313096  Colorado  United States, Colorado Governor issued a stat...   \n",
       "18    8109341  Colorado  United States, Colorado \"liquor stores and rec...   \n",
       "19    7263190  Colorado  United States, Colorado governor signs executi...   \n",
       "20    8850026  Colorado  United States, Colorado Governor \"ordering the...   \n",
       "21    4826036  Colorado  United States, Colorado Governor signs executi...   \n",
       "22    1161273  Colorado  United States, Colorado Department of Transpor...   \n",
       "23    5784949  Colorado  United States, on April 1, Colorado Governor s...   \n",
       "24    5784949  Colorado  United States, on April 1, Colorado Governor s...   \n",
       "25    6826686  Colorado  United States, \"Colorado securing medical supp...   \n",
       "26    6826686  Colorado  United States, \"Colorado securing medical supp...   \n",
       "27    6826686  Colorado  United States, \"Colorado securing medical supp...   \n",
       "28    3643063  Colorado  United States, Colorado Governor \"orders Hobby...   \n",
       "29    3049188  Colorado  United States, Colorado Governor asks \"all Col...   \n",
       "30    8367559  Colorado  United States, Colorado Department Public Heal...   \n",
       "31    5797503  Colorado  United States, Colorado, Denver preparing to u...   \n",
       "32    7630824  Colorado  Glenwood Springs, CO:  the Glenwood Springs Ci...   \n",
       "33    8469915  Colorado  Initially, the Governor of Colorado, United St...   \n",
       "34    9308804  Colorado  United States, Colorado Governor \"announced ne...   \n",
       "35    8655411  Colorado  United States, Colorado Supreme Court Chief Ju...   \n",
       "36    1830914  Colorado  United States, Colorado Governor issues an Exe...   \n",
       "37    5520572  Colorado  United States, Colorado Governor \"signed an Ex...   \n",
       "38    9018443  Colorado  The governor directed all P-12 schools to susp...   \n",
       "39    9018443  Colorado  The governor directed all P-12 schools to susp...   \n",
       "40    9018443  Colorado  The governor directed all P-12 schools to susp...   \n",
       "41    9018443  Colorado  The governor directed all P-12 schools to susp...   \n",
       "42    3688085  Colorado  Wheat Ridge, CO: The first mask mandate in the...   \n",
       "43    5333510  Colorado  As of April 27,2020 in Aspen, CO: The Aspen Ci...   \n",
       "\n",
       "   Date Policy Announced Date Policy Start Date Policy End  \\\n",
       "0             14/03/2020        14/03/2020      30/04/2020   \n",
       "1             14/03/2020        14/03/2020      30/04/2020   \n",
       "2             14/03/2020        14/03/2020      30/04/2020   \n",
       "3             14/03/2020        14/03/2020      30/04/2020   \n",
       "4             16/03/2020        16/03/2020      30/04/2020   \n",
       "5             16/03/2020        16/03/2020      30/04/2020   \n",
       "6             16/03/2020        17/03/2020      15/04/2020   \n",
       "7             16/03/2020        17/03/2020      15/04/2020   \n",
       "8             16/03/2020        17/03/2020      15/04/2020   \n",
       "9             16/03/2020        17/03/2020      15/04/2020   \n",
       "10            16/03/2020        17/03/2020      18/04/2020   \n",
       "11            18/03/2020        19/03/2020      18/04/2020   \n",
       "12            19/03/2020        23/03/2020      26/04/2020   \n",
       "13            19/03/2020        23/03/2020      26/04/2020   \n",
       "14            22/03/2020        24/03/2020      06/04/2020   \n",
       "15            22/03/2020        24/03/2020      06/04/2020   \n",
       "16            24/03/2020        24/03/2020      26/04/2020   \n",
       "17            24/03/2020        24/03/2020      26/04/2020   \n",
       "18            24/03/2020        24/04/2020             NaN   \n",
       "19            25/03/2020        25/03/2020      24/04/2020   \n",
       "20            26/03/2020        26/03/2020      30/04/2020   \n",
       "21            27/03/2020        27/03/2020      26/04/2020   \n",
       "22            28/03/2020        28/03/2020      11/04/2020   \n",
       "23            01/04/2020        01/04/2020      01/05/2020   \n",
       "24            01/04/2020        01/04/2020      01/05/2020   \n",
       "25            01/04/2020        01/04/2020             NaN   \n",
       "26            01/04/2020        01/04/2020             NaN   \n",
       "27            01/04/2020        01/04/2020             NaN   \n",
       "28            01/04/2020        01/04/2020             NaN   \n",
       "29            03/04/2020        03/04/2020             NaN   \n",
       "30            03/04/2020        03/04/2020             NaN   \n",
       "31            06/04/2020        18/04/2020             NaN   \n",
       "32            06/04/2020        06/04/2020      04/06/2020   \n",
       "33            08/04/2020        08/04/2020      02/09/2020   \n",
       "34            08/04/2020        08/04/2020             NaN   \n",
       "35            14/04/2020        14/04/2020      15/05/2020   \n",
       "36            15/04/2020        15/04/2020      15/05/2020   \n",
       "37            20/04/2020        11/04/2020      11/05/2020   \n",
       "38            22/04/2020        22/04/2020      29/05/2020   \n",
       "39            22/04/2020        22/04/2020      29/05/2020   \n",
       "40            22/04/2020        22/04/2020      29/05/2020   \n",
       "41            22/04/2020        22/04/2020      29/05/2020   \n",
       "42            27/04/2020        27/04/2020      30/05/2020   \n",
       "43            27/04/2020        27/04/2020             NaN   \n",
       "\n",
       "                                      Policy Category short_start_date  \n",
       "0            Restriction and Regulation of Businesses               14  \n",
       "1            Restriction and Regulation of Businesses               14  \n",
       "2            Restriction and Regulation of Businesses               14  \n",
       "3            Restriction and Regulation of Businesses               14  \n",
       "4            Restriction and Regulation of Businesses               16  \n",
       "5            Restriction and Regulation of Businesses               16  \n",
       "6            Restriction and Regulation of Businesses               17  \n",
       "7            Restriction and Regulation of Businesses               17  \n",
       "8            Restriction and Regulation of Businesses               17  \n",
       "9            Restriction and Regulation of Businesses               17  \n",
       "10  Restriction and Regulation of Government Services               17  \n",
       "11                    Restrictions of Mass Gatherings               19  \n",
       "12                                   Health Resources               23  \n",
       "13                                   Health Resources               23  \n",
       "14           Restriction and Regulation of Businesses               24  \n",
       "15           Restriction and Regulation of Businesses               24  \n",
       "16                                           Lockdown               24  \n",
       "17                                         Quarantine               24  \n",
       "18           Restriction and Regulation of Businesses               24  \n",
       "19  Restriction and Regulation of Government Services               25  \n",
       "20  Restriction and Regulation of Government Services               26  \n",
       "21  Restriction and Regulation of Government Services               27  \n",
       "22                       Internal Border Restrictions               28  \n",
       "23                                   Health Resources               01  \n",
       "24                                   Health Resources               01  \n",
       "25                                   Health Resources               01  \n",
       "26                                   Health Resources               01  \n",
       "27                                   Health Resources               01  \n",
       "28           Restriction and Regulation of Businesses               01  \n",
       "29                                   Health Resources               03  \n",
       "30                                  Social Distancing               03  \n",
       "31                                   Health Resources               18  \n",
       "32                      Other Policy Not Listed Above               06  \n",
       "33                           Declaration of Emergency               08  \n",
       "34                          Public Awareness Measures               08  \n",
       "35  Restriction and Regulation of Government Services               14  \n",
       "36                                   Health Resources               15  \n",
       "37  Restriction and Regulation of Government Services               11  \n",
       "38                  Closure and Regulation of Schools               22  \n",
       "39                  Closure and Regulation of Schools               22  \n",
       "40                  Closure and Regulation of Schools               22  \n",
       "41                  Closure and Regulation of Schools               22  \n",
       "42                      Other Policy Not Listed Above               27  \n",
       "43                      Other Policy Not Listed Above               27  "
      ],
      "text/html": "<div>\n<style scoped>\n    .dataframe tbody tr th:only-of-type {\n        vertical-align: middle;\n    }\n\n    .dataframe tbody tr th {\n        vertical-align: top;\n    }\n\n    .dataframe thead th {\n        text-align: right;\n    }\n</style>\n<table border=\"1\" class=\"dataframe\">\n  <thead>\n    <tr style=\"text-align: right;\">\n      <th></th>\n      <th>Policy ID</th>\n      <th>Province</th>\n      <th>Event Description</th>\n      <th>Date Policy Announced</th>\n      <th>Date Policy Start</th>\n      <th>Date Policy End</th>\n      <th>Policy Category</th>\n      <th>short_start_date</th>\n    </tr>\n  </thead>\n  <tbody>\n    <tr>\n      <td>0</td>\n      <td>1504183</td>\n      <td>Colorado</td>\n      <td>Colorado, United Stares, Governor \"orders all ...</td>\n      <td>14/03/2020</td>\n      <td>14/03/2020</td>\n      <td>30/04/2020</td>\n      <td>Restriction and Regulation of Businesses</td>\n      <td>14</td>\n    </tr>\n    <tr>\n      <td>1</td>\n      <td>1504183</td>\n      <td>Colorado</td>\n      <td>Colorado, United Stares, Governor \"orders all ...</td>\n      <td>14/03/2020</td>\n      <td>14/03/2020</td>\n      <td>30/04/2020</td>\n      <td>Restriction and Regulation of Businesses</td>\n      <td>14</td>\n    </tr>\n    <tr>\n      <td>2</td>\n      <td>1504183</td>\n      <td>Colorado</td>\n      <td>Colorado, United Stares, Governor \"orders all ...</td>\n      <td>14/03/2020</td>\n      <td>14/03/2020</td>\n      <td>30/04/2020</td>\n      <td>Restriction and Regulation of Businesses</td>\n      <td>14</td>\n    </tr>\n    <tr>\n      <td>3</td>\n      <td>1504183</td>\n      <td>Colorado</td>\n      <td>Colorado, United Stares, Governor \"orders all ...</td>\n      <td>14/03/2020</td>\n      <td>14/03/2020</td>\n      <td>30/04/2020</td>\n      <td>Restriction and Regulation of Businesses</td>\n      <td>14</td>\n    </tr>\n    <tr>\n      <td>4</td>\n      <td>1061734</td>\n      <td>Colorado</td>\n      <td>United Sates, Colorado Governor closes bars an...</td>\n      <td>16/03/2020</td>\n      <td>16/03/2020</td>\n      <td>30/04/2020</td>\n      <td>Restriction and Regulation of Businesses</td>\n      <td>16</td>\n    </tr>\n    <tr>\n      <td>5</td>\n      <td>1061734</td>\n      <td>Colorado</td>\n      <td>United Sates, Colorado Governor closes bars an...</td>\n      <td>16/03/2020</td>\n      <td>16/03/2020</td>\n      <td>30/04/2020</td>\n      <td>Restriction and Regulation of Businesses</td>\n      <td>16</td>\n    </tr>\n    <tr>\n      <td>6</td>\n      <td>7790598</td>\n      <td>Colorado</td>\n      <td>Colorado, United Stares, Governor announced on...</td>\n      <td>16/03/2020</td>\n      <td>17/03/2020</td>\n      <td>15/04/2020</td>\n      <td>Restriction and Regulation of Businesses</td>\n      <td>17</td>\n    </tr>\n    <tr>\n      <td>7</td>\n      <td>7790598</td>\n      <td>Colorado</td>\n      <td>Colorado, United Stares, Governor announced on...</td>\n      <td>16/03/2020</td>\n      <td>17/03/2020</td>\n      <td>15/04/2020</td>\n      <td>Restriction and Regulation of Businesses</td>\n      <td>17</td>\n    </tr>\n    <tr>\n      <td>8</td>\n      <td>7790598</td>\n      <td>Colorado</td>\n      <td>Colorado, United Stares, Governor announced on...</td>\n      <td>16/03/2020</td>\n      <td>17/03/2020</td>\n      <td>15/04/2020</td>\n      <td>Restriction and Regulation of Businesses</td>\n      <td>17</td>\n    </tr>\n    <tr>\n      <td>9</td>\n      <td>7790598</td>\n      <td>Colorado</td>\n      <td>Colorado, United Stares, Governor announced on...</td>\n      <td>16/03/2020</td>\n      <td>17/03/2020</td>\n      <td>15/04/2020</td>\n      <td>Restriction and Regulation of Businesses</td>\n      <td>17</td>\n    </tr>\n    <tr>\n      <td>10</td>\n      <td>4747521</td>\n      <td>Colorado</td>\n      <td>United States, Colorado Governor announced on ...</td>\n      <td>16/03/2020</td>\n      <td>17/03/2020</td>\n      <td>18/04/2020</td>\n      <td>Restriction and Regulation of Government Services</td>\n      <td>17</td>\n    </tr>\n    <tr>\n      <td>11</td>\n      <td>9539525</td>\n      <td>Colorado</td>\n      <td>United States, Colorado Governor announced on ...</td>\n      <td>18/03/2020</td>\n      <td>19/03/2020</td>\n      <td>18/04/2020</td>\n      <td>Restrictions of Mass Gatherings</td>\n      <td>19</td>\n    </tr>\n    <tr>\n      <td>12</td>\n      <td>2471329</td>\n      <td>Colorado</td>\n      <td>United States, Colorado Governor suspends all ...</td>\n      <td>19/03/2020</td>\n      <td>23/03/2020</td>\n      <td>26/04/2020</td>\n      <td>Health Resources</td>\n      <td>23</td>\n    </tr>\n    <tr>\n      <td>13</td>\n      <td>2471329</td>\n      <td>Colorado</td>\n      <td>United States, Colorado Governor suspends all ...</td>\n      <td>19/03/2020</td>\n      <td>23/03/2020</td>\n      <td>26/04/2020</td>\n      <td>Health Resources</td>\n      <td>23</td>\n    </tr>\n    <tr>\n      <td>14</td>\n      <td>142214</td>\n      <td>Colorado</td>\n      <td>United States, Colorado Governor Jared Polis o...</td>\n      <td>22/03/2020</td>\n      <td>24/03/2020</td>\n      <td>06/04/2020</td>\n      <td>Restriction and Regulation of Businesses</td>\n      <td>24</td>\n    </tr>\n    <tr>\n      <td>15</td>\n      <td>142214</td>\n      <td>Colorado</td>\n      <td>United States, Colorado Governor Jared Polis o...</td>\n      <td>22/03/2020</td>\n      <td>24/03/2020</td>\n      <td>06/04/2020</td>\n      <td>Restriction and Regulation of Businesses</td>\n      <td>24</td>\n    </tr>\n    <tr>\n      <td>16</td>\n      <td>9313096</td>\n      <td>Colorado</td>\n      <td>United States, Colorado Governor issued a stat...</td>\n      <td>24/03/2020</td>\n      <td>24/03/2020</td>\n      <td>26/04/2020</td>\n      <td>Lockdown</td>\n      <td>24</td>\n    </tr>\n    <tr>\n      <td>17</td>\n      <td>9313096</td>\n      <td>Colorado</td>\n      <td>United States, Colorado Governor issued a stat...</td>\n      <td>24/03/2020</td>\n      <td>24/03/2020</td>\n      <td>26/04/2020</td>\n      <td>Quarantine</td>\n      <td>24</td>\n    </tr>\n    <tr>\n      <td>18</td>\n      <td>8109341</td>\n      <td>Colorado</td>\n      <td>United States, Colorado \"liquor stores and rec...</td>\n      <td>24/03/2020</td>\n      <td>24/04/2020</td>\n      <td>NaN</td>\n      <td>Restriction and Regulation of Businesses</td>\n      <td>24</td>\n    </tr>\n    <tr>\n      <td>19</td>\n      <td>7263190</td>\n      <td>Colorado</td>\n      <td>United States, Colorado governor signs executi...</td>\n      <td>25/03/2020</td>\n      <td>25/03/2020</td>\n      <td>24/04/2020</td>\n      <td>Restriction and Regulation of Government Services</td>\n      <td>25</td>\n    </tr>\n    <tr>\n      <td>20</td>\n      <td>8850026</td>\n      <td>Colorado</td>\n      <td>United States, Colorado Governor \"ordering the...</td>\n      <td>26/03/2020</td>\n      <td>26/03/2020</td>\n      <td>30/04/2020</td>\n      <td>Restriction and Regulation of Government Services</td>\n      <td>26</td>\n    </tr>\n    <tr>\n      <td>21</td>\n      <td>4826036</td>\n      <td>Colorado</td>\n      <td>United States, Colorado Governor signs executi...</td>\n      <td>27/03/2020</td>\n      <td>27/03/2020</td>\n      <td>26/04/2020</td>\n      <td>Restriction and Regulation of Government Services</td>\n      <td>27</td>\n    </tr>\n    <tr>\n      <td>22</td>\n      <td>1161273</td>\n      <td>Colorado</td>\n      <td>United States, Colorado Department of Transpor...</td>\n      <td>28/03/2020</td>\n      <td>28/03/2020</td>\n      <td>11/04/2020</td>\n      <td>Internal Border Restrictions</td>\n      <td>28</td>\n    </tr>\n    <tr>\n      <td>23</td>\n      <td>5784949</td>\n      <td>Colorado</td>\n      <td>United States, on April 1, Colorado Governor s...</td>\n      <td>01/04/2020</td>\n      <td>01/04/2020</td>\n      <td>01/05/2020</td>\n      <td>Health Resources</td>\n      <td>01</td>\n    </tr>\n    <tr>\n      <td>24</td>\n      <td>5784949</td>\n      <td>Colorado</td>\n      <td>United States, on April 1, Colorado Governor s...</td>\n      <td>01/04/2020</td>\n      <td>01/04/2020</td>\n      <td>01/05/2020</td>\n      <td>Health Resources</td>\n      <td>01</td>\n    </tr>\n    <tr>\n      <td>25</td>\n      <td>6826686</td>\n      <td>Colorado</td>\n      <td>United States, \"Colorado securing medical supp...</td>\n      <td>01/04/2020</td>\n      <td>01/04/2020</td>\n      <td>NaN</td>\n      <td>Health Resources</td>\n      <td>01</td>\n    </tr>\n    <tr>\n      <td>26</td>\n      <td>6826686</td>\n      <td>Colorado</td>\n      <td>United States, \"Colorado securing medical supp...</td>\n      <td>01/04/2020</td>\n      <td>01/04/2020</td>\n      <td>NaN</td>\n      <td>Health Resources</td>\n      <td>01</td>\n    </tr>\n    <tr>\n      <td>27</td>\n      <td>6826686</td>\n      <td>Colorado</td>\n      <td>United States, \"Colorado securing medical supp...</td>\n      <td>01/04/2020</td>\n      <td>01/04/2020</td>\n      <td>NaN</td>\n      <td>Health Resources</td>\n      <td>01</td>\n    </tr>\n    <tr>\n      <td>28</td>\n      <td>3643063</td>\n      <td>Colorado</td>\n      <td>United States, Colorado Governor \"orders Hobby...</td>\n      <td>01/04/2020</td>\n      <td>01/04/2020</td>\n      <td>NaN</td>\n      <td>Restriction and Regulation of Businesses</td>\n      <td>01</td>\n    </tr>\n    <tr>\n      <td>29</td>\n      <td>3049188</td>\n      <td>Colorado</td>\n      <td>United States, Colorado Governor asks \"all Col...</td>\n      <td>03/04/2020</td>\n      <td>03/04/2020</td>\n      <td>NaN</td>\n      <td>Health Resources</td>\n      <td>03</td>\n    </tr>\n    <tr>\n      <td>30</td>\n      <td>8367559</td>\n      <td>Colorado</td>\n      <td>United States, Colorado Department Public Heal...</td>\n      <td>03/04/2020</td>\n      <td>03/04/2020</td>\n      <td>NaN</td>\n      <td>Social Distancing</td>\n      <td>03</td>\n    </tr>\n    <tr>\n      <td>31</td>\n      <td>5797503</td>\n      <td>Colorado</td>\n      <td>United States, Colorado, Denver preparing to u...</td>\n      <td>06/04/2020</td>\n      <td>18/04/2020</td>\n      <td>NaN</td>\n      <td>Health Resources</td>\n      <td>18</td>\n    </tr>\n    <tr>\n      <td>32</td>\n      <td>7630824</td>\n      <td>Colorado</td>\n      <td>Glenwood Springs, CO:  the Glenwood Springs Ci...</td>\n      <td>06/04/2020</td>\n      <td>06/04/2020</td>\n      <td>04/06/2020</td>\n      <td>Other Policy Not Listed Above</td>\n      <td>06</td>\n    </tr>\n    <tr>\n      <td>33</td>\n      <td>8469915</td>\n      <td>Colorado</td>\n      <td>Initially, the Governor of Colorado, United St...</td>\n      <td>08/04/2020</td>\n      <td>08/04/2020</td>\n      <td>02/09/2020</td>\n      <td>Declaration of Emergency</td>\n      <td>08</td>\n    </tr>\n    <tr>\n      <td>34</td>\n      <td>9308804</td>\n      <td>Colorado</td>\n      <td>United States, Colorado Governor \"announced ne...</td>\n      <td>08/04/2020</td>\n      <td>08/04/2020</td>\n      <td>NaN</td>\n      <td>Public Awareness Measures</td>\n      <td>08</td>\n    </tr>\n    <tr>\n      <td>35</td>\n      <td>8655411</td>\n      <td>Colorado</td>\n      <td>United States, Colorado Supreme Court Chief Ju...</td>\n      <td>14/04/2020</td>\n      <td>14/04/2020</td>\n      <td>15/05/2020</td>\n      <td>Restriction and Regulation of Government Services</td>\n      <td>14</td>\n    </tr>\n    <tr>\n      <td>36</td>\n      <td>1830914</td>\n      <td>Colorado</td>\n      <td>United States, Colorado Governor issues an Exe...</td>\n      <td>15/04/2020</td>\n      <td>15/04/2020</td>\n      <td>15/05/2020</td>\n      <td>Health Resources</td>\n      <td>15</td>\n    </tr>\n    <tr>\n      <td>37</td>\n      <td>5520572</td>\n      <td>Colorado</td>\n      <td>United States, Colorado Governor \"signed an Ex...</td>\n      <td>20/04/2020</td>\n      <td>11/04/2020</td>\n      <td>11/05/2020</td>\n      <td>Restriction and Regulation of Government Services</td>\n      <td>11</td>\n    </tr>\n    <tr>\n      <td>38</td>\n      <td>9018443</td>\n      <td>Colorado</td>\n      <td>The governor directed all P-12 schools to susp...</td>\n      <td>22/04/2020</td>\n      <td>22/04/2020</td>\n      <td>29/05/2020</td>\n      <td>Closure and Regulation of Schools</td>\n      <td>22</td>\n    </tr>\n    <tr>\n      <td>39</td>\n      <td>9018443</td>\n      <td>Colorado</td>\n      <td>The governor directed all P-12 schools to susp...</td>\n      <td>22/04/2020</td>\n      <td>22/04/2020</td>\n      <td>29/05/2020</td>\n      <td>Closure and Regulation of Schools</td>\n      <td>22</td>\n    </tr>\n    <tr>\n      <td>40</td>\n      <td>9018443</td>\n      <td>Colorado</td>\n      <td>The governor directed all P-12 schools to susp...</td>\n      <td>22/04/2020</td>\n      <td>22/04/2020</td>\n      <td>29/05/2020</td>\n      <td>Closure and Regulation of Schools</td>\n      <td>22</td>\n    </tr>\n    <tr>\n      <td>41</td>\n      <td>9018443</td>\n      <td>Colorado</td>\n      <td>The governor directed all P-12 schools to susp...</td>\n      <td>22/04/2020</td>\n      <td>22/04/2020</td>\n      <td>29/05/2020</td>\n      <td>Closure and Regulation of Schools</td>\n      <td>22</td>\n    </tr>\n    <tr>\n      <td>42</td>\n      <td>3688085</td>\n      <td>Colorado</td>\n      <td>Wheat Ridge, CO: The first mask mandate in the...</td>\n      <td>27/04/2020</td>\n      <td>27/04/2020</td>\n      <td>30/05/2020</td>\n      <td>Other Policy Not Listed Above</td>\n      <td>27</td>\n    </tr>\n    <tr>\n      <td>43</td>\n      <td>5333510</td>\n      <td>Colorado</td>\n      <td>As of April 27,2020 in Aspen, CO: The Aspen Ci...</td>\n      <td>27/04/2020</td>\n      <td>27/04/2020</td>\n      <td>NaN</td>\n      <td>Other Policy Not Listed Above</td>\n      <td>27</td>\n    </tr>\n  </tbody>\n</table>\n</div>"
     },
     "metadata": {},
     "execution_count": 30
    }
   ],
   "source": [
    "# adding a column with a shortened version of the date to make it easier to plot\n",
    "colorado_regulations['short_start_date'] = colorado_regulations.apply(lambda row: row['Date Policy Start'][:2], axis=1)\n",
    "colorado_regulations"
   ]
  },
  {
   "cell_type": "code",
   "execution_count": 31,
   "metadata": {},
   "outputs": [],
   "source": [
    "#grouping all the regulations that occurred on the same day together\n",
    "colorado_regulations = colorado_regulations.groupby(['short_start_date'])['Event Description'].apply('<br><br>'.join).reset_index()"
   ]
  },
  {
   "cell_type": "code",
   "execution_count": 32,
   "metadata": {},
   "outputs": [],
   "source": [
    "#inserting line breaks in text description to make it easier to read\n",
    "#https://stackoverflow.com/questions/2657693/insert-a-newline-character-every-64-characters-using-python\n",
    "\"\"\"\n",
    "def insert_newlines(string, every=70):\n",
    "    return '<br>'.join(string[i:i+every] for i in range(0, len(string), every))\n",
    "\n",
    "colorado_regulations['description'] = colorado_regulations.apply(lambda row : insert_newlines(row['Event Description']), axis=1)\n",
    "colorado_regulations\n",
    "\"\"\"\n",
    "\n",
    "import textwrap \n",
    "colorado_regulations['description']=colorado_regulations[\"Event Description\"].apply(\n",
    "    lambda t: \"<br>\".join(textwrap.wrap(t))\n",
    ")\n"
   ]
  },
  {
   "cell_type": "code",
   "execution_count": 33,
   "metadata": {},
   "outputs": [
    {
     "output_type": "execute_result",
     "data": {
      "text/plain": [
       "   short_start_date                                  Event Description  \\\n",
       "0                01  United States, on April 1, Colorado Governor s...   \n",
       "1                03  United States, Colorado Governor asks \"all Col...   \n",
       "2                06  Glenwood Springs, CO:  the Glenwood Springs Ci...   \n",
       "3                08  Initially, the Governor of Colorado, United St...   \n",
       "4                11  United States, Colorado Governor \"signed an Ex...   \n",
       "5                14  Colorado, United Stares, Governor \"orders all ...   \n",
       "6                15  United States, Colorado Governor issues an Exe...   \n",
       "7                16  United Sates, Colorado Governor closes bars an...   \n",
       "8                17  Colorado, United Stares, Governor announced on...   \n",
       "9                18  United States, Colorado, Denver preparing to u...   \n",
       "10               19  United States, Colorado Governor announced on ...   \n",
       "11               22  The governor directed all P-12 schools to susp...   \n",
       "12               23  United States, Colorado Governor suspends all ...   \n",
       "13               24  United States, Colorado Governor Jared Polis o...   \n",
       "14               25  United States, Colorado governor signs executi...   \n",
       "15               26  United States, Colorado Governor \"ordering the...   \n",
       "16               27  United States, Colorado Governor signs executi...   \n",
       "17               28  United States, Colorado Department of Transpor...   \n",
       "\n",
       "                                          description  \n",
       "0   United States, on April 1, Colorado Governor s...  \n",
       "1   United States, Colorado Governor asks \"all Col...  \n",
       "2   Glenwood Springs, CO:  the Glenwood Springs Ci...  \n",
       "3   Initially, the Governor of Colorado, United St...  \n",
       "4   United States, Colorado Governor \"signed an Ex...  \n",
       "5   Colorado, United Stares, Governor \"orders all ...  \n",
       "6   United States, Colorado Governor issues an Exe...  \n",
       "7   United Sates, Colorado Governor closes bars an...  \n",
       "8   Colorado, United Stares, Governor announced on...  \n",
       "9   United States, Colorado, Denver preparing to u...  \n",
       "10  United States, Colorado Governor announced on ...  \n",
       "11  The governor directed all P-12 schools to susp...  \n",
       "12  United States, Colorado Governor suspends all ...  \n",
       "13  United States, Colorado Governor Jared Polis o...  \n",
       "14  United States, Colorado governor signs executi...  \n",
       "15  United States, Colorado Governor \"ordering the...  \n",
       "16  United States, Colorado Governor signs executi...  \n",
       "17  United States, Colorado Department of Transpor...  "
      ],
      "text/html": "<div>\n<style scoped>\n    .dataframe tbody tr th:only-of-type {\n        vertical-align: middle;\n    }\n\n    .dataframe tbody tr th {\n        vertical-align: top;\n    }\n\n    .dataframe thead th {\n        text-align: right;\n    }\n</style>\n<table border=\"1\" class=\"dataframe\">\n  <thead>\n    <tr style=\"text-align: right;\">\n      <th></th>\n      <th>short_start_date</th>\n      <th>Event Description</th>\n      <th>description</th>\n    </tr>\n  </thead>\n  <tbody>\n    <tr>\n      <td>0</td>\n      <td>01</td>\n      <td>United States, on April 1, Colorado Governor s...</td>\n      <td>United States, on April 1, Colorado Governor s...</td>\n    </tr>\n    <tr>\n      <td>1</td>\n      <td>03</td>\n      <td>United States, Colorado Governor asks \"all Col...</td>\n      <td>United States, Colorado Governor asks \"all Col...</td>\n    </tr>\n    <tr>\n      <td>2</td>\n      <td>06</td>\n      <td>Glenwood Springs, CO:  the Glenwood Springs Ci...</td>\n      <td>Glenwood Springs, CO:  the Glenwood Springs Ci...</td>\n    </tr>\n    <tr>\n      <td>3</td>\n      <td>08</td>\n      <td>Initially, the Governor of Colorado, United St...</td>\n      <td>Initially, the Governor of Colorado, United St...</td>\n    </tr>\n    <tr>\n      <td>4</td>\n      <td>11</td>\n      <td>United States, Colorado Governor \"signed an Ex...</td>\n      <td>United States, Colorado Governor \"signed an Ex...</td>\n    </tr>\n    <tr>\n      <td>5</td>\n      <td>14</td>\n      <td>Colorado, United Stares, Governor \"orders all ...</td>\n      <td>Colorado, United Stares, Governor \"orders all ...</td>\n    </tr>\n    <tr>\n      <td>6</td>\n      <td>15</td>\n      <td>United States, Colorado Governor issues an Exe...</td>\n      <td>United States, Colorado Governor issues an Exe...</td>\n    </tr>\n    <tr>\n      <td>7</td>\n      <td>16</td>\n      <td>United Sates, Colorado Governor closes bars an...</td>\n      <td>United Sates, Colorado Governor closes bars an...</td>\n    </tr>\n    <tr>\n      <td>8</td>\n      <td>17</td>\n      <td>Colorado, United Stares, Governor announced on...</td>\n      <td>Colorado, United Stares, Governor announced on...</td>\n    </tr>\n    <tr>\n      <td>9</td>\n      <td>18</td>\n      <td>United States, Colorado, Denver preparing to u...</td>\n      <td>United States, Colorado, Denver preparing to u...</td>\n    </tr>\n    <tr>\n      <td>10</td>\n      <td>19</td>\n      <td>United States, Colorado Governor announced on ...</td>\n      <td>United States, Colorado Governor announced on ...</td>\n    </tr>\n    <tr>\n      <td>11</td>\n      <td>22</td>\n      <td>The governor directed all P-12 schools to susp...</td>\n      <td>The governor directed all P-12 schools to susp...</td>\n    </tr>\n    <tr>\n      <td>12</td>\n      <td>23</td>\n      <td>United States, Colorado Governor suspends all ...</td>\n      <td>United States, Colorado Governor suspends all ...</td>\n    </tr>\n    <tr>\n      <td>13</td>\n      <td>24</td>\n      <td>United States, Colorado Governor Jared Polis o...</td>\n      <td>United States, Colorado Governor Jared Polis o...</td>\n    </tr>\n    <tr>\n      <td>14</td>\n      <td>25</td>\n      <td>United States, Colorado governor signs executi...</td>\n      <td>United States, Colorado governor signs executi...</td>\n    </tr>\n    <tr>\n      <td>15</td>\n      <td>26</td>\n      <td>United States, Colorado Governor \"ordering the...</td>\n      <td>United States, Colorado Governor \"ordering the...</td>\n    </tr>\n    <tr>\n      <td>16</td>\n      <td>27</td>\n      <td>United States, Colorado Governor signs executi...</td>\n      <td>United States, Colorado Governor signs executi...</td>\n    </tr>\n    <tr>\n      <td>17</td>\n      <td>28</td>\n      <td>United States, Colorado Department of Transpor...</td>\n      <td>United States, Colorado Department of Transpor...</td>\n    </tr>\n  </tbody>\n</table>\n</div>"
     },
     "metadata": {},
     "execution_count": 33
    }
   ],
   "source": [
    "colorado_regulations"
   ]
  },
  {
   "cell_type": "code",
   "execution_count": 34,
   "metadata": {},
   "outputs": [],
   "source": [
    "start_dates = colorado_regulations['short_start_date']"
   ]
  },
  {
   "cell_type": "code",
   "execution_count": 35,
   "metadata": {},
   "outputs": [
    {
     "output_type": "display_data",
     "data": {
      "text/plain": "<Figure size 1440x1080 with 2 Axes>",
      "image/svg+xml": "<?xml version=\"1.0\" encoding=\"utf-8\" standalone=\"no\"?>\r\n<!DOCTYPE svg PUBLIC \"-//W3C//DTD SVG 1.1//EN\"\r\n  \"http://www.w3.org/Graphics/SVG/1.1/DTD/svg11.dtd\">\r\n<!-- Created with matplotlib (https://matplotlib.org/) -->\r\n<svg height=\"861.673876pt\" version=\"1.1\" viewBox=\"0 0 1231.307813 861.673876\" width=\"1231.307813pt\" xmlns=\"http://www.w3.org/2000/svg\" xmlns:xlink=\"http://www.w3.org/1999/xlink\">\r\n <defs>\r\n  <style type=\"text/css\">\r\n*{stroke-linecap:butt;stroke-linejoin:round;}\r\n  </style>\r\n </defs>\r\n <g id=\"figure_1\">\r\n  <g id=\"patch_1\">\r\n   <path d=\"M 0 861.673876 \r\nL 1231.307813 861.673876 \r\nL 1231.307813 0 \r\nL 0 0 \r\nz\r\n\" style=\"fill:none;\"/>\r\n  </g>\r\n  <g id=\"axes_1\">\r\n   <g id=\"patch_2\">\r\n    <path d=\"M 56.784375 823.839501 \r\nL 1172.784375 823.839501 \r\nL 1172.784375 8.439501 \r\nL 56.784375 8.439501 \r\nz\r\n\" style=\"fill:#ffffff;\"/>\r\n   </g>\r\n   <g id=\"matplotlib.axis_1\">\r\n    <g id=\"xtick_1\">\r\n     <g id=\"line2d_1\">\r\n      <defs>\r\n       <path d=\"M 0 0 \r\nL 0 3.5 \r\n\" id=\"m9b5f5ba8c0\" style=\"stroke:#000000;stroke-width:0.8;\"/>\r\n      </defs>\r\n      <g>\r\n       <use style=\"stroke:#000000;stroke-width:0.8;\" x=\"72.527322\" xlink:href=\"#m9b5f5ba8c0\" y=\"823.839501\"/>\r\n      </g>\r\n     </g>\r\n     <g id=\"text_1\">\r\n      <!-- 0 -->\r\n      <defs>\r\n       <path d=\"M 31.78125 66.40625 \r\nQ 24.171875 66.40625 20.328125 58.90625 \r\nQ 16.5 51.421875 16.5 36.375 \r\nQ 16.5 21.390625 20.328125 13.890625 \r\nQ 24.171875 6.390625 31.78125 6.390625 \r\nQ 39.453125 6.390625 43.28125 13.890625 \r\nQ 47.125 21.390625 47.125 36.375 \r\nQ 47.125 51.421875 43.28125 58.90625 \r\nQ 39.453125 66.40625 31.78125 66.40625 \r\nz\r\nM 31.78125 74.21875 \r\nQ 44.046875 74.21875 50.515625 64.515625 \r\nQ 56.984375 54.828125 56.984375 36.375 \r\nQ 56.984375 17.96875 50.515625 8.265625 \r\nQ 44.046875 -1.421875 31.78125 -1.421875 \r\nQ 19.53125 -1.421875 13.0625 8.265625 \r\nQ 6.59375 17.96875 6.59375 36.375 \r\nQ 6.59375 54.828125 13.0625 64.515625 \r\nQ 19.53125 74.21875 31.78125 74.21875 \r\nz\r\n\" id=\"DejaVuSans-48\"/>\r\n      </defs>\r\n      <g transform=\"translate(69.346072 838.437938)scale(0.1 -0.1)\">\r\n       <use xlink:href=\"#DejaVuSans-48\"/>\r\n      </g>\r\n     </g>\r\n    </g>\r\n    <g id=\"xtick_2\">\r\n     <g id=\"line2d_2\">\r\n      <g>\r\n       <use style=\"stroke:#000000;stroke-width:0.8;\" x=\"247.448952\" xlink:href=\"#m9b5f5ba8c0\" y=\"823.839501\"/>\r\n      </g>\r\n     </g>\r\n     <g id=\"text_2\">\r\n      <!-- 5 -->\r\n      <defs>\r\n       <path d=\"M 10.796875 72.90625 \r\nL 49.515625 72.90625 \r\nL 49.515625 64.59375 \r\nL 19.828125 64.59375 \r\nL 19.828125 46.734375 \r\nQ 21.96875 47.46875 24.109375 47.828125 \r\nQ 26.265625 48.1875 28.421875 48.1875 \r\nQ 40.625 48.1875 47.75 41.5 \r\nQ 54.890625 34.8125 54.890625 23.390625 \r\nQ 54.890625 11.625 47.5625 5.09375 \r\nQ 40.234375 -1.421875 26.90625 -1.421875 \r\nQ 22.3125 -1.421875 17.546875 -0.640625 \r\nQ 12.796875 0.140625 7.71875 1.703125 \r\nL 7.71875 11.625 \r\nQ 12.109375 9.234375 16.796875 8.0625 \r\nQ 21.484375 6.890625 26.703125 6.890625 \r\nQ 35.15625 6.890625 40.078125 11.328125 \r\nQ 45.015625 15.765625 45.015625 23.390625 \r\nQ 45.015625 31 40.078125 35.4375 \r\nQ 35.15625 39.890625 26.703125 39.890625 \r\nQ 22.75 39.890625 18.8125 39.015625 \r\nQ 14.890625 38.140625 10.796875 36.28125 \r\nz\r\n\" id=\"DejaVuSans-53\"/>\r\n      </defs>\r\n      <g transform=\"translate(244.267702 838.437938)scale(0.1 -0.1)\">\r\n       <use xlink:href=\"#DejaVuSans-53\"/>\r\n      </g>\r\n     </g>\r\n    </g>\r\n    <g id=\"xtick_3\">\r\n     <g id=\"line2d_3\">\r\n      <g>\r\n       <use style=\"stroke:#000000;stroke-width:0.8;\" x=\"422.370582\" xlink:href=\"#m9b5f5ba8c0\" y=\"823.839501\"/>\r\n      </g>\r\n     </g>\r\n     <g id=\"text_3\">\r\n      <!-- 10 -->\r\n      <defs>\r\n       <path d=\"M 12.40625 8.296875 \r\nL 28.515625 8.296875 \r\nL 28.515625 63.921875 \r\nL 10.984375 60.40625 \r\nL 10.984375 69.390625 \r\nL 28.421875 72.90625 \r\nL 38.28125 72.90625 \r\nL 38.28125 8.296875 \r\nL 54.390625 8.296875 \r\nL 54.390625 0 \r\nL 12.40625 0 \r\nz\r\n\" id=\"DejaVuSans-49\"/>\r\n      </defs>\r\n      <g transform=\"translate(416.008082 838.437938)scale(0.1 -0.1)\">\r\n       <use xlink:href=\"#DejaVuSans-49\"/>\r\n       <use x=\"63.623047\" xlink:href=\"#DejaVuSans-48\"/>\r\n      </g>\r\n     </g>\r\n    </g>\r\n    <g id=\"xtick_4\">\r\n     <g id=\"line2d_4\">\r\n      <g>\r\n       <use style=\"stroke:#000000;stroke-width:0.8;\" x=\"597.292212\" xlink:href=\"#m9b5f5ba8c0\" y=\"823.839501\"/>\r\n      </g>\r\n     </g>\r\n     <g id=\"text_4\">\r\n      <!-- 15 -->\r\n      <g transform=\"translate(590.929712 838.437938)scale(0.1 -0.1)\">\r\n       <use xlink:href=\"#DejaVuSans-49\"/>\r\n       <use x=\"63.623047\" xlink:href=\"#DejaVuSans-53\"/>\r\n      </g>\r\n     </g>\r\n    </g>\r\n    <g id=\"xtick_5\">\r\n     <g id=\"line2d_5\">\r\n      <g>\r\n       <use style=\"stroke:#000000;stroke-width:0.8;\" x=\"772.213842\" xlink:href=\"#m9b5f5ba8c0\" y=\"823.839501\"/>\r\n      </g>\r\n     </g>\r\n     <g id=\"text_5\">\r\n      <!-- 20 -->\r\n      <defs>\r\n       <path d=\"M 19.1875 8.296875 \r\nL 53.609375 8.296875 \r\nL 53.609375 0 \r\nL 7.328125 0 \r\nL 7.328125 8.296875 \r\nQ 12.9375 14.109375 22.625 23.890625 \r\nQ 32.328125 33.6875 34.8125 36.53125 \r\nQ 39.546875 41.84375 41.421875 45.53125 \r\nQ 43.3125 49.21875 43.3125 52.78125 \r\nQ 43.3125 58.59375 39.234375 62.25 \r\nQ 35.15625 65.921875 28.609375 65.921875 \r\nQ 23.96875 65.921875 18.8125 64.3125 \r\nQ 13.671875 62.703125 7.8125 59.421875 \r\nL 7.8125 69.390625 \r\nQ 13.765625 71.78125 18.9375 73 \r\nQ 24.125 74.21875 28.421875 74.21875 \r\nQ 39.75 74.21875 46.484375 68.546875 \r\nQ 53.21875 62.890625 53.21875 53.421875 \r\nQ 53.21875 48.921875 51.53125 44.890625 \r\nQ 49.859375 40.875 45.40625 35.40625 \r\nQ 44.1875 33.984375 37.640625 27.21875 \r\nQ 31.109375 20.453125 19.1875 8.296875 \r\nz\r\n\" id=\"DejaVuSans-50\"/>\r\n      </defs>\r\n      <g transform=\"translate(765.851342 838.437938)scale(0.1 -0.1)\">\r\n       <use xlink:href=\"#DejaVuSans-50\"/>\r\n       <use x=\"63.623047\" xlink:href=\"#DejaVuSans-48\"/>\r\n      </g>\r\n     </g>\r\n    </g>\r\n    <g id=\"xtick_6\">\r\n     <g id=\"line2d_6\">\r\n      <g>\r\n       <use style=\"stroke:#000000;stroke-width:0.8;\" x=\"947.135472\" xlink:href=\"#m9b5f5ba8c0\" y=\"823.839501\"/>\r\n      </g>\r\n     </g>\r\n     <g id=\"text_6\">\r\n      <!-- 25 -->\r\n      <g transform=\"translate(940.772972 838.437938)scale(0.1 -0.1)\">\r\n       <use xlink:href=\"#DejaVuSans-50\"/>\r\n       <use x=\"63.623047\" xlink:href=\"#DejaVuSans-53\"/>\r\n      </g>\r\n     </g>\r\n    </g>\r\n    <g id=\"xtick_7\">\r\n     <g id=\"line2d_7\">\r\n      <g>\r\n       <use style=\"stroke:#000000;stroke-width:0.8;\" x=\"1122.057102\" xlink:href=\"#m9b5f5ba8c0\" y=\"823.839501\"/>\r\n      </g>\r\n     </g>\r\n     <g id=\"text_7\">\r\n      <!-- 30 -->\r\n      <defs>\r\n       <path d=\"M 40.578125 39.3125 \r\nQ 47.65625 37.796875 51.625 33 \r\nQ 55.609375 28.21875 55.609375 21.1875 \r\nQ 55.609375 10.40625 48.1875 4.484375 \r\nQ 40.765625 -1.421875 27.09375 -1.421875 \r\nQ 22.515625 -1.421875 17.65625 -0.515625 \r\nQ 12.796875 0.390625 7.625 2.203125 \r\nL 7.625 11.71875 \r\nQ 11.71875 9.328125 16.59375 8.109375 \r\nQ 21.484375 6.890625 26.8125 6.890625 \r\nQ 36.078125 6.890625 40.9375 10.546875 \r\nQ 45.796875 14.203125 45.796875 21.1875 \r\nQ 45.796875 27.640625 41.28125 31.265625 \r\nQ 36.765625 34.90625 28.71875 34.90625 \r\nL 20.21875 34.90625 \r\nL 20.21875 43.015625 \r\nL 29.109375 43.015625 \r\nQ 36.375 43.015625 40.234375 45.921875 \r\nQ 44.09375 48.828125 44.09375 54.296875 \r\nQ 44.09375 59.90625 40.109375 62.90625 \r\nQ 36.140625 65.921875 28.71875 65.921875 \r\nQ 24.65625 65.921875 20.015625 65.03125 \r\nQ 15.375 64.15625 9.8125 62.3125 \r\nL 9.8125 71.09375 \r\nQ 15.4375 72.65625 20.34375 73.4375 \r\nQ 25.25 74.21875 29.59375 74.21875 \r\nQ 40.828125 74.21875 47.359375 69.109375 \r\nQ 53.90625 64.015625 53.90625 55.328125 \r\nQ 53.90625 49.265625 50.4375 45.09375 \r\nQ 46.96875 40.921875 40.578125 39.3125 \r\nz\r\n\" id=\"DejaVuSans-51\"/>\r\n      </defs>\r\n      <g transform=\"translate(1115.694602 838.437938)scale(0.1 -0.1)\">\r\n       <use xlink:href=\"#DejaVuSans-51\"/>\r\n       <use x=\"63.623047\" xlink:href=\"#DejaVuSans-48\"/>\r\n      </g>\r\n     </g>\r\n    </g>\r\n    <g id=\"text_8\">\r\n     <!-- short_date -->\r\n     <defs>\r\n      <path d=\"M 44.28125 53.078125 \r\nL 44.28125 44.578125 \r\nQ 40.484375 46.53125 36.375 47.5 \r\nQ 32.28125 48.484375 27.875 48.484375 \r\nQ 21.1875 48.484375 17.84375 46.4375 \r\nQ 14.5 44.390625 14.5 40.28125 \r\nQ 14.5 37.15625 16.890625 35.375 \r\nQ 19.28125 33.59375 26.515625 31.984375 \r\nL 29.59375 31.296875 \r\nQ 39.15625 29.25 43.1875 25.515625 \r\nQ 47.21875 21.78125 47.21875 15.09375 \r\nQ 47.21875 7.46875 41.1875 3.015625 \r\nQ 35.15625 -1.421875 24.609375 -1.421875 \r\nQ 20.21875 -1.421875 15.453125 -0.5625 \r\nQ 10.6875 0.296875 5.421875 2 \r\nL 5.421875 11.28125 \r\nQ 10.40625 8.6875 15.234375 7.390625 \r\nQ 20.0625 6.109375 24.8125 6.109375 \r\nQ 31.15625 6.109375 34.5625 8.28125 \r\nQ 37.984375 10.453125 37.984375 14.40625 \r\nQ 37.984375 18.0625 35.515625 20.015625 \r\nQ 33.0625 21.96875 24.703125 23.78125 \r\nL 21.578125 24.515625 \r\nQ 13.234375 26.265625 9.515625 29.90625 \r\nQ 5.8125 33.546875 5.8125 39.890625 \r\nQ 5.8125 47.609375 11.28125 51.796875 \r\nQ 16.75 56 26.8125 56 \r\nQ 31.78125 56 36.171875 55.265625 \r\nQ 40.578125 54.546875 44.28125 53.078125 \r\nz\r\n\" id=\"DejaVuSans-115\"/>\r\n      <path d=\"M 54.890625 33.015625 \r\nL 54.890625 0 \r\nL 45.90625 0 \r\nL 45.90625 32.71875 \r\nQ 45.90625 40.484375 42.875 44.328125 \r\nQ 39.84375 48.1875 33.796875 48.1875 \r\nQ 26.515625 48.1875 22.3125 43.546875 \r\nQ 18.109375 38.921875 18.109375 30.90625 \r\nL 18.109375 0 \r\nL 9.078125 0 \r\nL 9.078125 75.984375 \r\nL 18.109375 75.984375 \r\nL 18.109375 46.1875 \r\nQ 21.34375 51.125 25.703125 53.5625 \r\nQ 30.078125 56 35.796875 56 \r\nQ 45.21875 56 50.046875 50.171875 \r\nQ 54.890625 44.34375 54.890625 33.015625 \r\nz\r\n\" id=\"DejaVuSans-104\"/>\r\n      <path d=\"M 30.609375 48.390625 \r\nQ 23.390625 48.390625 19.1875 42.75 \r\nQ 14.984375 37.109375 14.984375 27.296875 \r\nQ 14.984375 17.484375 19.15625 11.84375 \r\nQ 23.34375 6.203125 30.609375 6.203125 \r\nQ 37.796875 6.203125 41.984375 11.859375 \r\nQ 46.1875 17.53125 46.1875 27.296875 \r\nQ 46.1875 37.015625 41.984375 42.703125 \r\nQ 37.796875 48.390625 30.609375 48.390625 \r\nz\r\nM 30.609375 56 \r\nQ 42.328125 56 49.015625 48.375 \r\nQ 55.71875 40.765625 55.71875 27.296875 \r\nQ 55.71875 13.875 49.015625 6.21875 \r\nQ 42.328125 -1.421875 30.609375 -1.421875 \r\nQ 18.84375 -1.421875 12.171875 6.21875 \r\nQ 5.515625 13.875 5.515625 27.296875 \r\nQ 5.515625 40.765625 12.171875 48.375 \r\nQ 18.84375 56 30.609375 56 \r\nz\r\n\" id=\"DejaVuSans-111\"/>\r\n      <path d=\"M 41.109375 46.296875 \r\nQ 39.59375 47.171875 37.8125 47.578125 \r\nQ 36.03125 48 33.890625 48 \r\nQ 26.265625 48 22.1875 43.046875 \r\nQ 18.109375 38.09375 18.109375 28.8125 \r\nL 18.109375 0 \r\nL 9.078125 0 \r\nL 9.078125 54.6875 \r\nL 18.109375 54.6875 \r\nL 18.109375 46.1875 \r\nQ 20.953125 51.171875 25.484375 53.578125 \r\nQ 30.03125 56 36.53125 56 \r\nQ 37.453125 56 38.578125 55.875 \r\nQ 39.703125 55.765625 41.0625 55.515625 \r\nz\r\n\" id=\"DejaVuSans-114\"/>\r\n      <path d=\"M 18.3125 70.21875 \r\nL 18.3125 54.6875 \r\nL 36.8125 54.6875 \r\nL 36.8125 47.703125 \r\nL 18.3125 47.703125 \r\nL 18.3125 18.015625 \r\nQ 18.3125 11.328125 20.140625 9.421875 \r\nQ 21.96875 7.515625 27.59375 7.515625 \r\nL 36.8125 7.515625 \r\nL 36.8125 0 \r\nL 27.59375 0 \r\nQ 17.1875 0 13.234375 3.875 \r\nQ 9.28125 7.765625 9.28125 18.015625 \r\nL 9.28125 47.703125 \r\nL 2.6875 47.703125 \r\nL 2.6875 54.6875 \r\nL 9.28125 54.6875 \r\nL 9.28125 70.21875 \r\nz\r\n\" id=\"DejaVuSans-116\"/>\r\n      <path d=\"M 50.984375 -16.609375 \r\nL 50.984375 -23.578125 \r\nL -0.984375 -23.578125 \r\nL -0.984375 -16.609375 \r\nz\r\n\" id=\"DejaVuSans-95\"/>\r\n      <path d=\"M 45.40625 46.390625 \r\nL 45.40625 75.984375 \r\nL 54.390625 75.984375 \r\nL 54.390625 0 \r\nL 45.40625 0 \r\nL 45.40625 8.203125 \r\nQ 42.578125 3.328125 38.25 0.953125 \r\nQ 33.9375 -1.421875 27.875 -1.421875 \r\nQ 17.96875 -1.421875 11.734375 6.484375 \r\nQ 5.515625 14.40625 5.515625 27.296875 \r\nQ 5.515625 40.1875 11.734375 48.09375 \r\nQ 17.96875 56 27.875 56 \r\nQ 33.9375 56 38.25 53.625 \r\nQ 42.578125 51.265625 45.40625 46.390625 \r\nz\r\nM 14.796875 27.296875 \r\nQ 14.796875 17.390625 18.875 11.75 \r\nQ 22.953125 6.109375 30.078125 6.109375 \r\nQ 37.203125 6.109375 41.296875 11.75 \r\nQ 45.40625 17.390625 45.40625 27.296875 \r\nQ 45.40625 37.203125 41.296875 42.84375 \r\nQ 37.203125 48.484375 30.078125 48.484375 \r\nQ 22.953125 48.484375 18.875 42.84375 \r\nQ 14.796875 37.203125 14.796875 27.296875 \r\nz\r\n\" id=\"DejaVuSans-100\"/>\r\n      <path d=\"M 34.28125 27.484375 \r\nQ 23.390625 27.484375 19.1875 25 \r\nQ 14.984375 22.515625 14.984375 16.5 \r\nQ 14.984375 11.71875 18.140625 8.90625 \r\nQ 21.296875 6.109375 26.703125 6.109375 \r\nQ 34.1875 6.109375 38.703125 11.40625 \r\nQ 43.21875 16.703125 43.21875 25.484375 \r\nL 43.21875 27.484375 \r\nz\r\nM 52.203125 31.203125 \r\nL 52.203125 0 \r\nL 43.21875 0 \r\nL 43.21875 8.296875 \r\nQ 40.140625 3.328125 35.546875 0.953125 \r\nQ 30.953125 -1.421875 24.3125 -1.421875 \r\nQ 15.921875 -1.421875 10.953125 3.296875 \r\nQ 6 8.015625 6 15.921875 \r\nQ 6 25.140625 12.171875 29.828125 \r\nQ 18.359375 34.515625 30.609375 34.515625 \r\nL 43.21875 34.515625 \r\nL 43.21875 35.40625 \r\nQ 43.21875 41.609375 39.140625 45 \r\nQ 35.0625 48.390625 27.6875 48.390625 \r\nQ 23 48.390625 18.546875 47.265625 \r\nQ 14.109375 46.140625 10.015625 43.890625 \r\nL 10.015625 52.203125 \r\nQ 14.9375 54.109375 19.578125 55.046875 \r\nQ 24.21875 56 28.609375 56 \r\nQ 40.484375 56 46.34375 49.84375 \r\nQ 52.203125 43.703125 52.203125 31.203125 \r\nz\r\n\" id=\"DejaVuSans-97\"/>\r\n      <path d=\"M 56.203125 29.59375 \r\nL 56.203125 25.203125 \r\nL 14.890625 25.203125 \r\nQ 15.484375 15.921875 20.484375 11.0625 \r\nQ 25.484375 6.203125 34.421875 6.203125 \r\nQ 39.59375 6.203125 44.453125 7.46875 \r\nQ 49.3125 8.734375 54.109375 11.28125 \r\nL 54.109375 2.78125 \r\nQ 49.265625 0.734375 44.1875 -0.34375 \r\nQ 39.109375 -1.421875 33.890625 -1.421875 \r\nQ 20.796875 -1.421875 13.15625 6.1875 \r\nQ 5.515625 13.8125 5.515625 26.8125 \r\nQ 5.515625 40.234375 12.765625 48.109375 \r\nQ 20.015625 56 32.328125 56 \r\nQ 43.359375 56 49.78125 48.890625 \r\nQ 56.203125 41.796875 56.203125 29.59375 \r\nz\r\nM 47.21875 32.234375 \r\nQ 47.125 39.59375 43.09375 43.984375 \r\nQ 39.0625 48.390625 32.421875 48.390625 \r\nQ 24.90625 48.390625 20.390625 44.140625 \r\nQ 15.875 39.890625 15.1875 32.171875 \r\nz\r\n\" id=\"DejaVuSans-101\"/>\r\n     </defs>\r\n     <g transform=\"translate(588.160938 852.116063)scale(0.1 -0.1)\">\r\n      <use xlink:href=\"#DejaVuSans-115\"/>\r\n      <use x=\"52.099609\" xlink:href=\"#DejaVuSans-104\"/>\r\n      <use x=\"115.478516\" xlink:href=\"#DejaVuSans-111\"/>\r\n      <use x=\"176.660156\" xlink:href=\"#DejaVuSans-114\"/>\r\n      <use x=\"217.773438\" xlink:href=\"#DejaVuSans-116\"/>\r\n      <use x=\"256.982422\" xlink:href=\"#DejaVuSans-95\"/>\r\n      <use x=\"306.982422\" xlink:href=\"#DejaVuSans-100\"/>\r\n      <use x=\"370.458984\" xlink:href=\"#DejaVuSans-97\"/>\r\n      <use x=\"431.738281\" xlink:href=\"#DejaVuSans-116\"/>\r\n      <use x=\"470.947266\" xlink:href=\"#DejaVuSans-101\"/>\r\n     </g>\r\n    </g>\r\n   </g>\r\n   <g id=\"matplotlib.axis_2\">\r\n    <g id=\"ytick_1\">\r\n     <g id=\"line2d_8\">\r\n      <defs>\r\n       <path d=\"M 0 0 \r\nL -3.5 0 \r\n\" id=\"m75deb4c175\" style=\"stroke:#000000;stroke-width:0.8;\"/>\r\n      </defs>\r\n      <g>\r\n       <use style=\"stroke:#000000;stroke-width:0.8;\" x=\"56.784375\" xlink:href=\"#m75deb4c175\" y=\"774.722649\"/>\r\n      </g>\r\n     </g>\r\n     <g id=\"text_9\">\r\n      <!-- 0.000 -->\r\n      <defs>\r\n       <path d=\"M 10.6875 12.40625 \r\nL 21 12.40625 \r\nL 21 0 \r\nL 10.6875 0 \r\nz\r\n\" id=\"DejaVuSans-46\"/>\r\n      </defs>\r\n      <g transform=\"translate(21.15625 778.521868)scale(0.1 -0.1)\">\r\n       <use xlink:href=\"#DejaVuSans-48\"/>\r\n       <use x=\"63.623047\" xlink:href=\"#DejaVuSans-46\"/>\r\n       <use x=\"95.410156\" xlink:href=\"#DejaVuSans-48\"/>\r\n       <use x=\"159.033203\" xlink:href=\"#DejaVuSans-48\"/>\r\n       <use x=\"222.65625\" xlink:href=\"#DejaVuSans-48\"/>\r\n      </g>\r\n     </g>\r\n    </g>\r\n    <g id=\"ytick_2\">\r\n     <g id=\"line2d_9\">\r\n      <g>\r\n       <use style=\"stroke:#000000;stroke-width:0.8;\" x=\"56.784375\" xlink:href=\"#m75deb4c175\" y=\"598.579194\"/>\r\n      </g>\r\n     </g>\r\n     <g id=\"text_10\">\r\n      <!-- 0.005 -->\r\n      <g transform=\"translate(21.15625 602.378413)scale(0.1 -0.1)\">\r\n       <use xlink:href=\"#DejaVuSans-48\"/>\r\n       <use x=\"63.623047\" xlink:href=\"#DejaVuSans-46\"/>\r\n       <use x=\"95.410156\" xlink:href=\"#DejaVuSans-48\"/>\r\n       <use x=\"159.033203\" xlink:href=\"#DejaVuSans-48\"/>\r\n       <use x=\"222.65625\" xlink:href=\"#DejaVuSans-53\"/>\r\n      </g>\r\n     </g>\r\n    </g>\r\n    <g id=\"ytick_3\">\r\n     <g id=\"line2d_10\">\r\n      <g>\r\n       <use style=\"stroke:#000000;stroke-width:0.8;\" x=\"56.784375\" xlink:href=\"#m75deb4c175\" y=\"422.435739\"/>\r\n      </g>\r\n     </g>\r\n     <g id=\"text_11\">\r\n      <!-- 0.010 -->\r\n      <g transform=\"translate(21.15625 426.234957)scale(0.1 -0.1)\">\r\n       <use xlink:href=\"#DejaVuSans-48\"/>\r\n       <use x=\"63.623047\" xlink:href=\"#DejaVuSans-46\"/>\r\n       <use x=\"95.410156\" xlink:href=\"#DejaVuSans-48\"/>\r\n       <use x=\"159.033203\" xlink:href=\"#DejaVuSans-49\"/>\r\n       <use x=\"222.65625\" xlink:href=\"#DejaVuSans-48\"/>\r\n      </g>\r\n     </g>\r\n    </g>\r\n    <g id=\"ytick_4\">\r\n     <g id=\"line2d_11\">\r\n      <g>\r\n       <use style=\"stroke:#000000;stroke-width:0.8;\" x=\"56.784375\" xlink:href=\"#m75deb4c175\" y=\"246.292283\"/>\r\n      </g>\r\n     </g>\r\n     <g id=\"text_12\">\r\n      <!-- 0.015 -->\r\n      <g transform=\"translate(21.15625 250.091502)scale(0.1 -0.1)\">\r\n       <use xlink:href=\"#DejaVuSans-48\"/>\r\n       <use x=\"63.623047\" xlink:href=\"#DejaVuSans-46\"/>\r\n       <use x=\"95.410156\" xlink:href=\"#DejaVuSans-48\"/>\r\n       <use x=\"159.033203\" xlink:href=\"#DejaVuSans-49\"/>\r\n       <use x=\"222.65625\" xlink:href=\"#DejaVuSans-53\"/>\r\n      </g>\r\n     </g>\r\n    </g>\r\n    <g id=\"ytick_5\">\r\n     <g id=\"line2d_12\">\r\n      <g>\r\n       <use style=\"stroke:#000000;stroke-width:0.8;\" x=\"56.784375\" xlink:href=\"#m75deb4c175\" y=\"70.148828\"/>\r\n      </g>\r\n     </g>\r\n     <g id=\"text_13\">\r\n      <!-- 0.020 -->\r\n      <g transform=\"translate(21.15625 73.948047)scale(0.1 -0.1)\">\r\n       <use xlink:href=\"#DejaVuSans-48\"/>\r\n       <use x=\"63.623047\" xlink:href=\"#DejaVuSans-46\"/>\r\n       <use x=\"95.410156\" xlink:href=\"#DejaVuSans-48\"/>\r\n       <use x=\"159.033203\" xlink:href=\"#DejaVuSans-50\"/>\r\n       <use x=\"222.65625\" xlink:href=\"#DejaVuSans-48\"/>\r\n      </g>\r\n     </g>\r\n    </g>\r\n    <g id=\"text_14\">\r\n     <!-- normalized_new_death -->\r\n     <defs>\r\n      <path d=\"M 54.890625 33.015625 \r\nL 54.890625 0 \r\nL 45.90625 0 \r\nL 45.90625 32.71875 \r\nQ 45.90625 40.484375 42.875 44.328125 \r\nQ 39.84375 48.1875 33.796875 48.1875 \r\nQ 26.515625 48.1875 22.3125 43.546875 \r\nQ 18.109375 38.921875 18.109375 30.90625 \r\nL 18.109375 0 \r\nL 9.078125 0 \r\nL 9.078125 54.6875 \r\nL 18.109375 54.6875 \r\nL 18.109375 46.1875 \r\nQ 21.34375 51.125 25.703125 53.5625 \r\nQ 30.078125 56 35.796875 56 \r\nQ 45.21875 56 50.046875 50.171875 \r\nQ 54.890625 44.34375 54.890625 33.015625 \r\nz\r\n\" id=\"DejaVuSans-110\"/>\r\n      <path d=\"M 52 44.1875 \r\nQ 55.375 50.25 60.0625 53.125 \r\nQ 64.75 56 71.09375 56 \r\nQ 79.640625 56 84.28125 50.015625 \r\nQ 88.921875 44.046875 88.921875 33.015625 \r\nL 88.921875 0 \r\nL 79.890625 0 \r\nL 79.890625 32.71875 \r\nQ 79.890625 40.578125 77.09375 44.375 \r\nQ 74.3125 48.1875 68.609375 48.1875 \r\nQ 61.625 48.1875 57.5625 43.546875 \r\nQ 53.515625 38.921875 53.515625 30.90625 \r\nL 53.515625 0 \r\nL 44.484375 0 \r\nL 44.484375 32.71875 \r\nQ 44.484375 40.625 41.703125 44.40625 \r\nQ 38.921875 48.1875 33.109375 48.1875 \r\nQ 26.21875 48.1875 22.15625 43.53125 \r\nQ 18.109375 38.875 18.109375 30.90625 \r\nL 18.109375 0 \r\nL 9.078125 0 \r\nL 9.078125 54.6875 \r\nL 18.109375 54.6875 \r\nL 18.109375 46.1875 \r\nQ 21.1875 51.21875 25.484375 53.609375 \r\nQ 29.78125 56 35.6875 56 \r\nQ 41.65625 56 45.828125 52.96875 \r\nQ 50 49.953125 52 44.1875 \r\nz\r\n\" id=\"DejaVuSans-109\"/>\r\n      <path d=\"M 9.421875 75.984375 \r\nL 18.40625 75.984375 \r\nL 18.40625 0 \r\nL 9.421875 0 \r\nz\r\n\" id=\"DejaVuSans-108\"/>\r\n      <path d=\"M 9.421875 54.6875 \r\nL 18.40625 54.6875 \r\nL 18.40625 0 \r\nL 9.421875 0 \r\nz\r\nM 9.421875 75.984375 \r\nL 18.40625 75.984375 \r\nL 18.40625 64.59375 \r\nL 9.421875 64.59375 \r\nz\r\n\" id=\"DejaVuSans-105\"/>\r\n      <path d=\"M 5.515625 54.6875 \r\nL 48.1875 54.6875 \r\nL 48.1875 46.484375 \r\nL 14.40625 7.171875 \r\nL 48.1875 7.171875 \r\nL 48.1875 0 \r\nL 4.296875 0 \r\nL 4.296875 8.203125 \r\nL 38.09375 47.515625 \r\nL 5.515625 47.515625 \r\nz\r\n\" id=\"DejaVuSans-122\"/>\r\n      <path d=\"M 4.203125 54.6875 \r\nL 13.1875 54.6875 \r\nL 24.421875 12.015625 \r\nL 35.59375 54.6875 \r\nL 46.1875 54.6875 \r\nL 57.421875 12.015625 \r\nL 68.609375 54.6875 \r\nL 77.59375 54.6875 \r\nL 63.28125 0 \r\nL 52.6875 0 \r\nL 40.921875 44.828125 \r\nL 29.109375 0 \r\nL 18.5 0 \r\nz\r\n\" id=\"DejaVuSans-119\"/>\r\n     </defs>\r\n     <g transform=\"translate(14.798438 473.787938)rotate(-90)scale(0.1 -0.1)\">\r\n      <use xlink:href=\"#DejaVuSans-110\"/>\r\n      <use x=\"63.378906\" xlink:href=\"#DejaVuSans-111\"/>\r\n      <use x=\"124.560547\" xlink:href=\"#DejaVuSans-114\"/>\r\n      <use x=\"165.658203\" xlink:href=\"#DejaVuSans-109\"/>\r\n      <use x=\"263.070312\" xlink:href=\"#DejaVuSans-97\"/>\r\n      <use x=\"324.349609\" xlink:href=\"#DejaVuSans-108\"/>\r\n      <use x=\"352.132812\" xlink:href=\"#DejaVuSans-105\"/>\r\n      <use x=\"379.916016\" xlink:href=\"#DejaVuSans-122\"/>\r\n      <use x=\"432.40625\" xlink:href=\"#DejaVuSans-101\"/>\r\n      <use x=\"493.929688\" xlink:href=\"#DejaVuSans-100\"/>\r\n      <use x=\"557.40625\" xlink:href=\"#DejaVuSans-95\"/>\r\n      <use x=\"607.40625\" xlink:href=\"#DejaVuSans-110\"/>\r\n      <use x=\"670.785156\" xlink:href=\"#DejaVuSans-101\"/>\r\n      <use x=\"732.308594\" xlink:href=\"#DejaVuSans-119\"/>\r\n      <use x=\"814.095703\" xlink:href=\"#DejaVuSans-95\"/>\r\n      <use x=\"864.095703\" xlink:href=\"#DejaVuSans-100\"/>\r\n      <use x=\"927.572266\" xlink:href=\"#DejaVuSans-101\"/>\r\n      <use x=\"989.095703\" xlink:href=\"#DejaVuSans-97\"/>\r\n      <use x=\"1050.375\" xlink:href=\"#DejaVuSans-116\"/>\r\n      <use x=\"1089.583984\" xlink:href=\"#DejaVuSans-104\"/>\r\n     </g>\r\n    </g>\r\n   </g>\r\n   <g id=\"line2d_13\">\r\n    <path clip-path=\"url(#p3fd2754d72)\" d=\"M 107.511648 708.429966 \r\nL 142.495974 672.270321 \r\nL 177.4803 690.350144 \r\nL 212.464626 684.323536 \r\nL 247.448952 690.350144 \r\nL 282.433278 714.456574 \r\nL 317.417604 599.95103 \r\nL 352.40193 690.350144 \r\nL 387.386256 575.8446 \r\nL 422.370582 630.084068 \r\nL 457.354908 630.084068 \r\nL 492.339234 678.296928 \r\nL 527.32356 666.243713 \r\nL 562.307886 648.163891 \r\nL 597.292212 605.977638 \r\nL 632.276538 678.296928 \r\nL 667.260864 666.243713 \r\nL 702.24519 654.190498 \r\nL 737.229516 714.456574 \r\nL 772.213842 612.004246 \r\nL 807.198168 551.73817 \r\nL 842.182494 642.137283 \r\nL 877.16682 509.551917 \r\nL 912.151146 45.503137 \r\nL 947.135472 786.775864 \r\nL 982.119798 720.483181 \r\nL 1017.104124 612.004246 \r\nL 1052.08845 593.924423 \r\nL 1087.072776 593.924423 \r\nL 1122.057102 708.429966 \r\n\" style=\"fill:none;stroke:#008000;stroke-linecap:square;stroke-width:1.5;\"/>\r\n   </g>\r\n   <g id=\"patch_3\">\r\n    <path d=\"M 56.784375 823.839501 \r\nL 56.784375 8.439501 \r\n\" style=\"fill:none;stroke:#000000;stroke-linecap:square;stroke-linejoin:miter;stroke-width:0.8;\"/>\r\n   </g>\r\n   <g id=\"patch_4\">\r\n    <path d=\"M 1172.784375 823.839501 \r\nL 1172.784375 8.439501 \r\n\" style=\"fill:none;stroke:#000000;stroke-linecap:square;stroke-linejoin:miter;stroke-width:0.8;\"/>\r\n   </g>\r\n   <g id=\"patch_5\">\r\n    <path d=\"M 56.784375 823.839501 \r\nL 1172.784375 823.839501 \r\n\" style=\"fill:none;stroke:#000000;stroke-linecap:square;stroke-linejoin:miter;stroke-width:0.8;\"/>\r\n   </g>\r\n   <g id=\"patch_6\">\r\n    <path d=\"M 56.784375 8.439501 \r\nL 1172.784375 8.439501 \r\n\" style=\"fill:none;stroke:#000000;stroke-linecap:square;stroke-linejoin:miter;stroke-width:0.8;\"/>\r\n   </g>\r\n  </g>\r\n  <g id=\"axes_2\">\r\n   <g id=\"matplotlib.axis_3\">\r\n    <g id=\"ytick_6\">\r\n     <g id=\"line2d_14\">\r\n      <defs>\r\n       <path d=\"M 0 0 \r\nL 3.5 0 \r\n\" id=\"m81e06e8c90\" style=\"stroke:#000000;stroke-width:0.8;\"/>\r\n      </defs>\r\n      <g>\r\n       <use style=\"stroke:#000000;stroke-width:0.8;\" x=\"1172.784375\" xlink:href=\"#m81e06e8c90\" y=\"766.414248\"/>\r\n      </g>\r\n     </g>\r\n     <g id=\"text_15\">\r\n      <!-- −0.20 -->\r\n      <defs>\r\n       <path d=\"M 10.59375 35.5 \r\nL 73.1875 35.5 \r\nL 73.1875 27.203125 \r\nL 10.59375 27.203125 \r\nz\r\n\" id=\"DejaVuSans-8722\"/>\r\n      </defs>\r\n      <g transform=\"translate(1179.784375 770.213467)scale(0.1 -0.1)\">\r\n       <use xlink:href=\"#DejaVuSans-8722\"/>\r\n       <use x=\"83.789062\" xlink:href=\"#DejaVuSans-48\"/>\r\n       <use x=\"147.412109\" xlink:href=\"#DejaVuSans-46\"/>\r\n       <use x=\"179.199219\" xlink:href=\"#DejaVuSans-50\"/>\r\n       <use x=\"242.822266\" xlink:href=\"#DejaVuSans-48\"/>\r\n      </g>\r\n     </g>\r\n    </g>\r\n    <g id=\"ytick_7\">\r\n     <g id=\"line2d_15\">\r\n      <g>\r\n       <use style=\"stroke:#000000;stroke-width:0.8;\" x=\"1172.784375\" xlink:href=\"#m81e06e8c90\" y=\"658.497815\"/>\r\n      </g>\r\n     </g>\r\n     <g id=\"text_16\">\r\n      <!-- −0.19 -->\r\n      <defs>\r\n       <path d=\"M 10.984375 1.515625 \r\nL 10.984375 10.5 \r\nQ 14.703125 8.734375 18.5 7.8125 \r\nQ 22.3125 6.890625 25.984375 6.890625 \r\nQ 35.75 6.890625 40.890625 13.453125 \r\nQ 46.046875 20.015625 46.78125 33.40625 \r\nQ 43.953125 29.203125 39.59375 26.953125 \r\nQ 35.25 24.703125 29.984375 24.703125 \r\nQ 19.046875 24.703125 12.671875 31.3125 \r\nQ 6.296875 37.9375 6.296875 49.421875 \r\nQ 6.296875 60.640625 12.9375 67.421875 \r\nQ 19.578125 74.21875 30.609375 74.21875 \r\nQ 43.265625 74.21875 49.921875 64.515625 \r\nQ 56.59375 54.828125 56.59375 36.375 \r\nQ 56.59375 19.140625 48.40625 8.859375 \r\nQ 40.234375 -1.421875 26.421875 -1.421875 \r\nQ 22.703125 -1.421875 18.890625 -0.6875 \r\nQ 15.09375 0.046875 10.984375 1.515625 \r\nz\r\nM 30.609375 32.421875 \r\nQ 37.25 32.421875 41.125 36.953125 \r\nQ 45.015625 41.5 45.015625 49.421875 \r\nQ 45.015625 57.28125 41.125 61.84375 \r\nQ 37.25 66.40625 30.609375 66.40625 \r\nQ 23.96875 66.40625 20.09375 61.84375 \r\nQ 16.21875 57.28125 16.21875 49.421875 \r\nQ 16.21875 41.5 20.09375 36.953125 \r\nQ 23.96875 32.421875 30.609375 32.421875 \r\nz\r\n\" id=\"DejaVuSans-57\"/>\r\n      </defs>\r\n      <g transform=\"translate(1179.784375 662.297034)scale(0.1 -0.1)\">\r\n       <use xlink:href=\"#DejaVuSans-8722\"/>\r\n       <use x=\"83.789062\" xlink:href=\"#DejaVuSans-48\"/>\r\n       <use x=\"147.412109\" xlink:href=\"#DejaVuSans-46\"/>\r\n       <use x=\"179.199219\" xlink:href=\"#DejaVuSans-49\"/>\r\n       <use x=\"242.822266\" xlink:href=\"#DejaVuSans-57\"/>\r\n      </g>\r\n     </g>\r\n    </g>\r\n    <g id=\"ytick_8\">\r\n     <g id=\"line2d_16\">\r\n      <g>\r\n       <use style=\"stroke:#000000;stroke-width:0.8;\" x=\"1172.784375\" xlink:href=\"#m81e06e8c90\" y=\"550.581383\"/>\r\n      </g>\r\n     </g>\r\n     <g id=\"text_17\">\r\n      <!-- −0.18 -->\r\n      <defs>\r\n       <path d=\"M 31.78125 34.625 \r\nQ 24.75 34.625 20.71875 30.859375 \r\nQ 16.703125 27.09375 16.703125 20.515625 \r\nQ 16.703125 13.921875 20.71875 10.15625 \r\nQ 24.75 6.390625 31.78125 6.390625 \r\nQ 38.8125 6.390625 42.859375 10.171875 \r\nQ 46.921875 13.96875 46.921875 20.515625 \r\nQ 46.921875 27.09375 42.890625 30.859375 \r\nQ 38.875 34.625 31.78125 34.625 \r\nz\r\nM 21.921875 38.8125 \r\nQ 15.578125 40.375 12.03125 44.71875 \r\nQ 8.5 49.078125 8.5 55.328125 \r\nQ 8.5 64.0625 14.71875 69.140625 \r\nQ 20.953125 74.21875 31.78125 74.21875 \r\nQ 42.671875 74.21875 48.875 69.140625 \r\nQ 55.078125 64.0625 55.078125 55.328125 \r\nQ 55.078125 49.078125 51.53125 44.71875 \r\nQ 48 40.375 41.703125 38.8125 \r\nQ 48.828125 37.15625 52.796875 32.3125 \r\nQ 56.78125 27.484375 56.78125 20.515625 \r\nQ 56.78125 9.90625 50.3125 4.234375 \r\nQ 43.84375 -1.421875 31.78125 -1.421875 \r\nQ 19.734375 -1.421875 13.25 4.234375 \r\nQ 6.78125 9.90625 6.78125 20.515625 \r\nQ 6.78125 27.484375 10.78125 32.3125 \r\nQ 14.796875 37.15625 21.921875 38.8125 \r\nz\r\nM 18.3125 54.390625 \r\nQ 18.3125 48.734375 21.84375 45.5625 \r\nQ 25.390625 42.390625 31.78125 42.390625 \r\nQ 38.140625 42.390625 41.71875 45.5625 \r\nQ 45.3125 48.734375 45.3125 54.390625 \r\nQ 45.3125 60.0625 41.71875 63.234375 \r\nQ 38.140625 66.40625 31.78125 66.40625 \r\nQ 25.390625 66.40625 21.84375 63.234375 \r\nQ 18.3125 60.0625 18.3125 54.390625 \r\nz\r\n\" id=\"DejaVuSans-56\"/>\r\n      </defs>\r\n      <g transform=\"translate(1179.784375 554.380601)scale(0.1 -0.1)\">\r\n       <use xlink:href=\"#DejaVuSans-8722\"/>\r\n       <use x=\"83.789062\" xlink:href=\"#DejaVuSans-48\"/>\r\n       <use x=\"147.412109\" xlink:href=\"#DejaVuSans-46\"/>\r\n       <use x=\"179.199219\" xlink:href=\"#DejaVuSans-49\"/>\r\n       <use x=\"242.822266\" xlink:href=\"#DejaVuSans-56\"/>\r\n      </g>\r\n     </g>\r\n    </g>\r\n    <g id=\"ytick_9\">\r\n     <g id=\"line2d_17\">\r\n      <g>\r\n       <use style=\"stroke:#000000;stroke-width:0.8;\" x=\"1172.784375\" xlink:href=\"#m81e06e8c90\" y=\"442.66495\"/>\r\n      </g>\r\n     </g>\r\n     <g id=\"text_18\">\r\n      <!-- −0.17 -->\r\n      <defs>\r\n       <path d=\"M 8.203125 72.90625 \r\nL 55.078125 72.90625 \r\nL 55.078125 68.703125 \r\nL 28.609375 0 \r\nL 18.3125 0 \r\nL 43.21875 64.59375 \r\nL 8.203125 64.59375 \r\nz\r\n\" id=\"DejaVuSans-55\"/>\r\n      </defs>\r\n      <g transform=\"translate(1179.784375 446.464169)scale(0.1 -0.1)\">\r\n       <use xlink:href=\"#DejaVuSans-8722\"/>\r\n       <use x=\"83.789062\" xlink:href=\"#DejaVuSans-48\"/>\r\n       <use x=\"147.412109\" xlink:href=\"#DejaVuSans-46\"/>\r\n       <use x=\"179.199219\" xlink:href=\"#DejaVuSans-49\"/>\r\n       <use x=\"242.822266\" xlink:href=\"#DejaVuSans-55\"/>\r\n      </g>\r\n     </g>\r\n    </g>\r\n    <g id=\"ytick_10\">\r\n     <g id=\"line2d_18\">\r\n      <g>\r\n       <use style=\"stroke:#000000;stroke-width:0.8;\" x=\"1172.784375\" xlink:href=\"#m81e06e8c90\" y=\"334.748517\"/>\r\n      </g>\r\n     </g>\r\n     <g id=\"text_19\">\r\n      <!-- −0.16 -->\r\n      <defs>\r\n       <path d=\"M 33.015625 40.375 \r\nQ 26.375 40.375 22.484375 35.828125 \r\nQ 18.609375 31.296875 18.609375 23.390625 \r\nQ 18.609375 15.53125 22.484375 10.953125 \r\nQ 26.375 6.390625 33.015625 6.390625 \r\nQ 39.65625 6.390625 43.53125 10.953125 \r\nQ 47.40625 15.53125 47.40625 23.390625 \r\nQ 47.40625 31.296875 43.53125 35.828125 \r\nQ 39.65625 40.375 33.015625 40.375 \r\nz\r\nM 52.59375 71.296875 \r\nL 52.59375 62.3125 \r\nQ 48.875 64.0625 45.09375 64.984375 \r\nQ 41.3125 65.921875 37.59375 65.921875 \r\nQ 27.828125 65.921875 22.671875 59.328125 \r\nQ 17.53125 52.734375 16.796875 39.40625 \r\nQ 19.671875 43.65625 24.015625 45.921875 \r\nQ 28.375 48.1875 33.59375 48.1875 \r\nQ 44.578125 48.1875 50.953125 41.515625 \r\nQ 57.328125 34.859375 57.328125 23.390625 \r\nQ 57.328125 12.15625 50.6875 5.359375 \r\nQ 44.046875 -1.421875 33.015625 -1.421875 \r\nQ 20.359375 -1.421875 13.671875 8.265625 \r\nQ 6.984375 17.96875 6.984375 36.375 \r\nQ 6.984375 53.65625 15.1875 63.9375 \r\nQ 23.390625 74.21875 37.203125 74.21875 \r\nQ 40.921875 74.21875 44.703125 73.484375 \r\nQ 48.484375 72.75 52.59375 71.296875 \r\nz\r\n\" id=\"DejaVuSans-54\"/>\r\n      </defs>\r\n      <g transform=\"translate(1179.784375 338.547736)scale(0.1 -0.1)\">\r\n       <use xlink:href=\"#DejaVuSans-8722\"/>\r\n       <use x=\"83.789062\" xlink:href=\"#DejaVuSans-48\"/>\r\n       <use x=\"147.412109\" xlink:href=\"#DejaVuSans-46\"/>\r\n       <use x=\"179.199219\" xlink:href=\"#DejaVuSans-49\"/>\r\n       <use x=\"242.822266\" xlink:href=\"#DejaVuSans-54\"/>\r\n      </g>\r\n     </g>\r\n    </g>\r\n    <g id=\"ytick_11\">\r\n     <g id=\"line2d_19\">\r\n      <g>\r\n       <use style=\"stroke:#000000;stroke-width:0.8;\" x=\"1172.784375\" xlink:href=\"#m81e06e8c90\" y=\"226.832084\"/>\r\n      </g>\r\n     </g>\r\n     <g id=\"text_20\">\r\n      <!-- −0.15 -->\r\n      <g transform=\"translate(1179.784375 230.631303)scale(0.1 -0.1)\">\r\n       <use xlink:href=\"#DejaVuSans-8722\"/>\r\n       <use x=\"83.789062\" xlink:href=\"#DejaVuSans-48\"/>\r\n       <use x=\"147.412109\" xlink:href=\"#DejaVuSans-46\"/>\r\n       <use x=\"179.199219\" xlink:href=\"#DejaVuSans-49\"/>\r\n       <use x=\"242.822266\" xlink:href=\"#DejaVuSans-53\"/>\r\n      </g>\r\n     </g>\r\n    </g>\r\n    <g id=\"ytick_12\">\r\n     <g id=\"line2d_20\">\r\n      <g>\r\n       <use style=\"stroke:#000000;stroke-width:0.8;\" x=\"1172.784375\" xlink:href=\"#m81e06e8c90\" y=\"118.915652\"/>\r\n      </g>\r\n     </g>\r\n     <g id=\"text_21\">\r\n      <!-- −0.14 -->\r\n      <defs>\r\n       <path d=\"M 37.796875 64.3125 \r\nL 12.890625 25.390625 \r\nL 37.796875 25.390625 \r\nz\r\nM 35.203125 72.90625 \r\nL 47.609375 72.90625 \r\nL 47.609375 25.390625 \r\nL 58.015625 25.390625 \r\nL 58.015625 17.1875 \r\nL 47.609375 17.1875 \r\nL 47.609375 0 \r\nL 37.796875 0 \r\nL 37.796875 17.1875 \r\nL 4.890625 17.1875 \r\nL 4.890625 26.703125 \r\nz\r\n\" id=\"DejaVuSans-52\"/>\r\n      </defs>\r\n      <g transform=\"translate(1179.784375 122.71487)scale(0.1 -0.1)\">\r\n       <use xlink:href=\"#DejaVuSans-8722\"/>\r\n       <use x=\"83.789062\" xlink:href=\"#DejaVuSans-48\"/>\r\n       <use x=\"147.412109\" xlink:href=\"#DejaVuSans-46\"/>\r\n       <use x=\"179.199219\" xlink:href=\"#DejaVuSans-49\"/>\r\n       <use x=\"242.822266\" xlink:href=\"#DejaVuSans-52\"/>\r\n      </g>\r\n     </g>\r\n    </g>\r\n    <g id=\"ytick_13\">\r\n     <g id=\"line2d_21\">\r\n      <g>\r\n       <use style=\"stroke:#000000;stroke-width:0.8;\" x=\"1172.784375\" xlink:href=\"#m81e06e8c90\" y=\"10.999219\"/>\r\n      </g>\r\n     </g>\r\n     <g id=\"text_22\">\r\n      <!-- −0.13 -->\r\n      <g transform=\"translate(1179.784375 14.798438)scale(0.1 -0.1)\">\r\n       <use xlink:href=\"#DejaVuSans-8722\"/>\r\n       <use x=\"83.789062\" xlink:href=\"#DejaVuSans-48\"/>\r\n       <use x=\"147.412109\" xlink:href=\"#DejaVuSans-46\"/>\r\n       <use x=\"179.199219\" xlink:href=\"#DejaVuSans-49\"/>\r\n       <use x=\"242.822266\" xlink:href=\"#DejaVuSans-51\"/>\r\n      </g>\r\n     </g>\r\n    </g>\r\n    <g id=\"text_23\">\r\n     <!-- sentiment -->\r\n     <g transform=\"translate(1222.028125 441.414501)rotate(-90)scale(0.1 -0.1)\">\r\n      <use xlink:href=\"#DejaVuSans-115\"/>\r\n      <use x=\"52.099609\" xlink:href=\"#DejaVuSans-101\"/>\r\n      <use x=\"113.623047\" xlink:href=\"#DejaVuSans-110\"/>\r\n      <use x=\"177.001953\" xlink:href=\"#DejaVuSans-116\"/>\r\n      <use x=\"216.210938\" xlink:href=\"#DejaVuSans-105\"/>\r\n      <use x=\"243.994141\" xlink:href=\"#DejaVuSans-109\"/>\r\n      <use x=\"341.40625\" xlink:href=\"#DejaVuSans-101\"/>\r\n      <use x=\"402.929688\" xlink:href=\"#DejaVuSans-110\"/>\r\n      <use x=\"466.308594\" xlink:href=\"#DejaVuSans-116\"/>\r\n     </g>\r\n    </g>\r\n   </g>\r\n   <g id=\"line2d_22\">\r\n    <path clip-path=\"url(#p3fd2754d72)\" d=\"M 107.511648 349.431049 \r\nL 142.495974 450.107486 \r\nL 177.4803 161.047953 \r\nL 212.464626 393.259246 \r\nL 247.448952 541.49528 \r\nL 282.433278 415.630006 \r\nL 317.417604 429.362248 \r\nL 352.40193 199.56496 \r\nL 387.386256 263.557589 \r\nL 422.370582 278.92291 \r\nL 457.354908 45.503137 \r\nL 492.339234 358.133629 \r\nL 527.32356 234.809799 \r\nL 562.307886 429.366489 \r\nL 597.292212 363.875337 \r\nL 632.276538 235.724367 \r\nL 667.260864 357.681936 \r\nL 702.24519 320.652589 \r\nL 737.229516 413.083813 \r\nL 772.213842 786.775864 \r\nL 807.198168 529.125402 \r\nL 842.182494 411.808632 \r\nL 877.16682 786.775864 \r\nL 912.151146 218.848729 \r\nL 947.135472 578.914679 \r\nL 982.119798 635.946847 \r\nL 1017.104124 164.844639 \r\nL 1052.08845 637.473031 \r\nL 1087.072776 541.484999 \r\nL 1122.057102 488.133254 \r\n\" style=\"fill:none;stroke:#0000ff;stroke-linecap:square;stroke-width:1.5;\"/>\r\n   </g>\r\n   <g id=\"line2d_23\">\r\n    <path clip-path=\"url(#p3fd2754d72)\" d=\"M 107.511648 823.839501 \r\nL 107.511648 8.439501 \r\n\" style=\"fill:none;stroke:#1f77b4;stroke-linecap:square;stroke-width:1.5;\"/>\r\n   </g>\r\n   <g id=\"line2d_24\">\r\n    <path clip-path=\"url(#p3fd2754d72)\" d=\"M 177.4803 823.839501 \r\nL 177.4803 8.439501 \r\n\" style=\"fill:none;stroke:#1f77b4;stroke-linecap:square;stroke-width:1.5;\"/>\r\n   </g>\r\n   <g id=\"line2d_25\">\r\n    <path clip-path=\"url(#p3fd2754d72)\" d=\"M 282.433278 823.839501 \r\nL 282.433278 8.439501 \r\n\" style=\"fill:none;stroke:#1f77b4;stroke-linecap:square;stroke-width:1.5;\"/>\r\n   </g>\r\n   <g id=\"line2d_26\">\r\n    <path clip-path=\"url(#p3fd2754d72)\" d=\"M 352.40193 823.839501 \r\nL 352.40193 8.439501 \r\n\" style=\"fill:none;stroke:#1f77b4;stroke-linecap:square;stroke-width:1.5;\"/>\r\n   </g>\r\n   <g id=\"line2d_27\">\r\n    <path clip-path=\"url(#p3fd2754d72)\" d=\"M 457.354908 823.839501 \r\nL 457.354908 8.439501 \r\n\" style=\"fill:none;stroke:#1f77b4;stroke-linecap:square;stroke-width:1.5;\"/>\r\n   </g>\r\n   <g id=\"line2d_28\">\r\n    <path clip-path=\"url(#p3fd2754d72)\" d=\"M 562.307886 823.839501 \r\nL 562.307886 8.439501 \r\n\" style=\"fill:none;stroke:#1f77b4;stroke-linecap:square;stroke-width:1.5;\"/>\r\n   </g>\r\n   <g id=\"line2d_29\">\r\n    <path clip-path=\"url(#p3fd2754d72)\" d=\"M 597.292212 823.839501 \r\nL 597.292212 8.439501 \r\n\" style=\"fill:none;stroke:#1f77b4;stroke-linecap:square;stroke-width:1.5;\"/>\r\n   </g>\r\n   <g id=\"line2d_30\">\r\n    <path clip-path=\"url(#p3fd2754d72)\" d=\"M 632.276538 823.839501 \r\nL 632.276538 8.439501 \r\n\" style=\"fill:none;stroke:#1f77b4;stroke-linecap:square;stroke-width:1.5;\"/>\r\n   </g>\r\n   <g id=\"line2d_31\">\r\n    <path clip-path=\"url(#p3fd2754d72)\" d=\"M 667.260864 823.839501 \r\nL 667.260864 8.439501 \r\n\" style=\"fill:none;stroke:#1f77b4;stroke-linecap:square;stroke-width:1.5;\"/>\r\n   </g>\r\n   <g id=\"line2d_32\">\r\n    <path clip-path=\"url(#p3fd2754d72)\" d=\"M 702.24519 823.839501 \r\nL 702.24519 8.439501 \r\n\" style=\"fill:none;stroke:#1f77b4;stroke-linecap:square;stroke-width:1.5;\"/>\r\n   </g>\r\n   <g id=\"line2d_33\">\r\n    <path clip-path=\"url(#p3fd2754d72)\" d=\"M 737.229516 823.839501 \r\nL 737.229516 8.439501 \r\n\" style=\"fill:none;stroke:#1f77b4;stroke-linecap:square;stroke-width:1.5;\"/>\r\n   </g>\r\n   <g id=\"line2d_34\">\r\n    <path clip-path=\"url(#p3fd2754d72)\" d=\"M 842.182494 823.839501 \r\nL 842.182494 8.439501 \r\n\" style=\"fill:none;stroke:#1f77b4;stroke-linecap:square;stroke-width:1.5;\"/>\r\n   </g>\r\n   <g id=\"line2d_35\">\r\n    <path clip-path=\"url(#p3fd2754d72)\" d=\"M 877.16682 823.839501 \r\nL 877.16682 8.439501 \r\n\" style=\"fill:none;stroke:#1f77b4;stroke-linecap:square;stroke-width:1.5;\"/>\r\n   </g>\r\n   <g id=\"line2d_36\">\r\n    <path clip-path=\"url(#p3fd2754d72)\" d=\"M 912.151146 823.839501 \r\nL 912.151146 8.439501 \r\n\" style=\"fill:none;stroke:#1f77b4;stroke-linecap:square;stroke-width:1.5;\"/>\r\n   </g>\r\n   <g id=\"line2d_37\">\r\n    <path clip-path=\"url(#p3fd2754d72)\" d=\"M 947.135472 823.839501 \r\nL 947.135472 8.439501 \r\n\" style=\"fill:none;stroke:#1f77b4;stroke-linecap:square;stroke-width:1.5;\"/>\r\n   </g>\r\n   <g id=\"line2d_38\">\r\n    <path clip-path=\"url(#p3fd2754d72)\" d=\"M 982.119798 823.839501 \r\nL 982.119798 8.439501 \r\n\" style=\"fill:none;stroke:#1f77b4;stroke-linecap:square;stroke-width:1.5;\"/>\r\n   </g>\r\n   <g id=\"line2d_39\">\r\n    <path clip-path=\"url(#p3fd2754d72)\" d=\"M 1017.104124 823.839501 \r\nL 1017.104124 8.439501 \r\n\" style=\"fill:none;stroke:#1f77b4;stroke-linecap:square;stroke-width:1.5;\"/>\r\n   </g>\r\n   <g id=\"line2d_40\">\r\n    <path clip-path=\"url(#p3fd2754d72)\" d=\"M 1052.08845 823.839501 \r\nL 1052.08845 8.439501 \r\n\" style=\"fill:none;stroke:#1f77b4;stroke-linecap:square;stroke-width:1.5;\"/>\r\n   </g>\r\n   <g id=\"patch_7\">\r\n    <path d=\"M 56.784375 823.839501 \r\nL 56.784375 8.439501 \r\n\" style=\"fill:none;stroke:#000000;stroke-linecap:square;stroke-linejoin:miter;stroke-width:0.8;\"/>\r\n   </g>\r\n   <g id=\"patch_8\">\r\n    <path d=\"M 1172.784375 823.839501 \r\nL 1172.784375 8.439501 \r\n\" style=\"fill:none;stroke:#000000;stroke-linecap:square;stroke-linejoin:miter;stroke-width:0.8;\"/>\r\n   </g>\r\n   <g id=\"patch_9\">\r\n    <path d=\"M 56.784375 823.839501 \r\nL 1172.784375 823.839501 \r\n\" style=\"fill:none;stroke:#000000;stroke-linecap:square;stroke-linejoin:miter;stroke-width:0.8;\"/>\r\n   </g>\r\n   <g id=\"patch_10\">\r\n    <path d=\"M 56.784375 8.439501 \r\nL 1172.784375 8.439501 \r\n\" style=\"fill:none;stroke:#000000;stroke-linecap:square;stroke-linejoin:miter;stroke-width:0.8;\"/>\r\n   </g>\r\n  </g>\r\n </g>\r\n <defs>\r\n  <clipPath id=\"p3fd2754d72\">\r\n   <rect height=\"815.4\" width=\"1116\" x=\"56.784375\" y=\"8.439501\"/>\r\n  </clipPath>\r\n </defs>\r\n</svg>\r\n",
      "image/png": "[encoded data removed]"
     },
     "metadata": {
      "needs_background": "light"
     }
    }
   ],
   "source": [
    "# plotting sentiment with vertical lines when regulations were started\n",
    "plt.figure(figsize=(20,15))\n",
    "sns.lineplot(y=colorado_covid['normalized_new_death'], x=colorado_covid['short_date'] , color=\"g\")\n",
    "ax2 = plt.twinx()\n",
    "sns.lineplot(y= colorado_sentiment['sentiment'], x = colorado_sentiment['date'], color=\"b\", ax=ax2)\n",
    "for date in start_dates:\n",
    "    date = int(date)\n",
    "    plt.axvline(x=date)\n",
    "plt.show()"
   ]
  },
  {
   "source": [
    "Plotly can give us an interactive version"
   ],
   "cell_type": "markdown",
   "metadata": {}
  },
  {
   "cell_type": "code",
   "execution_count": 44,
   "metadata": {},
   "outputs": [
    {
     "output_type": "display_data",
     "data": {
      "application/vnd.plotly.v1+json": {
       "config": {
        "plotlyServerURL": "https://plot.ly"
       },
       "data": [
        {
         "name": "Average Twitter Sentiment",
         "type": "scatter",
         "x": [
          1,
          2,
          3,
          4,
          5,
          6,
          7,
          8,
          9,
          10,
          11,
          12,
          13,
          14,
          15,
          16,
          17,
          18,
          19,
          20,
          21,
          22,
          23,
          24,
          25,
          26,
          27,
          28,
          29,
          30
         ],
         "y": [
          -0.16136054645995704,
          -0.17068965735430158,
          -0.14390415998623352,
          -0.16542185532807646,
          -0.17915804269726807,
          -0.167494825987959,
          -0.168767314569359,
          -0.14747331118562468,
          -0.15340314296449667,
          -0.15482695955776346,
          -0.1331972812004641,
          -0.16216696488470844,
          -0.1507392492926409,
          -0.16876770752263134,
          -0.1626990162304986,
          -0.1508239970966712,
          -0.16212510909396766,
          -0.15869381076532266,
          -0.1672588848144875,
          -0.20188679475829285,
          -0.17801179669063033,
          -0.16714072110365608,
          -0.20188679475829285,
          -0.14926022805396735,
          -0.1826254849325736,
          -0.1879103304661685,
          -0.1442559771670593,
          -0.18805175317136666,
          -0.17915709006717834,
          -0.17421328827374047
         ]
        },
        {
         "hoverinfo": "text",
         "hovertemplate": "<b>Regulation(s), %{x}/04/2020</b>:<br>%{text}<extra></extra>",
         "mode": "markers",
         "name": "Regulation (hover on dot)",
         "text": [
          "United States, on April 1, Colorado Governor signed an Executive Order<br>\"expanding the use of telehealth services. This will increase the<br>capacity of the state’s health care system, help preserve critical<br>personal protective equipment needed for medical professionals on the<br>front lines, and allow Coloradans to meet with a doctor remotely.\"<br>Expires after 30 days unless extended.<br><br>United States, on April<br>1, Colorado Governor signed an Executive Order \"expanding the use of<br>telehealth services. This will increase the capacity of the state’s<br>health care system, help preserve critical personal protective<br>equipment needed for medical professionals on the front lines, and<br>allow Coloradans to meet with a doctor remotely.\" Expires after 30<br>days unless extended.<br><br>United States, \"Colorado securing medical<br>supplies for coronavirus surge since feds can’t keep up, Governor<br>Jared Polis says\" April 1<br><br>United States, \"Colorado securing<br>medical supplies for coronavirus surge since feds can’t keep up,<br>Governor Jared Polis says\" April 1<br><br>United States, \"Colorado<br>securing medical supplies for coronavirus surge since feds can’t keep<br>up, Governor Jared Polis says\" April 1<br><br>United States, Colorado<br>Governor \"orders Hobby Lobby to close all stores in state after<br>retailer defied stay-at-home directive\" April 1",
          "United States, Colorado Governor asks \"all Colorado residents to wear<br>non-medical cloth face masks when going out in public\" April<br>3<br><br>United States, Colorado Department Public Health and the<br>Environment announced \"Due to the unique issues related to supply<br>chain, financing, contract deadlines, and public need, construction<br>may continue under Governor Polis’ stay-at-home order as long as<br>Social Distancing Requirements are followed on construction worksites\"<br>\"The state suggests reducing crew sizes and possibly deferring non-<br>urgent work to reduce risks\" April 3",
          "Glenwood Springs, CO:  the Glenwood Springs City Council on April 6<br>voted to order all residents over the age of 2 to wear masks or face<br>coverings while inside any place open to the public, and in outdoor<br>spaces where 6-foot social distancing can’t be maintained. Penalties<br>include fines up to $1,000 and up to a year in jail.",
          "Initially, the Governor of Colorado, United States, declared a state<br>of emergency March 10. But, the new Executive Order, which was<br>introduced on April 8,  extended it expire thirty (30) days from April<br>8, 2020<br><br>United States, Colorado Governor \"announced new online<br>resources for Coloradans in the form of<br>https://stayathomeco.colorado.gov/ which includes free resources to<br>support Coloradans while they are at home, from wellness, to services,<br>to education, to entertainment and more.\"",
          "United States, Colorado Governor \"signed an Executive Order today<br>suspending certain regulatory statutes concerning juvenile justice,<br>regional centers, and behavioral health to provide the Colorado<br>Department of Human Services (CDHS) with flexibility to respond to the<br>COVID-19 pandemic.\"",
          "Colorado, United Stares, Governor \"orders all ski resorts to close for<br>at least a week\" starting March 14<br><br>Colorado, United Stares,<br>Governor \"orders all ski resorts to close for at least a week\"<br>starting March 14<br><br>Colorado, United Stares, Governor \"orders all<br>ski resorts to close for at least a week\" starting March<br>14<br><br>Colorado, United Stares, Governor \"orders all ski resorts to<br>close for at least a week\" starting March 14<br><br>United States,<br>Colorado Supreme Court Chief Justice Nathan Coats orders that \"nearly<br>all Colorado jury trials will be postponed until April and local<br>courts are encouraged to postpone non-essential hearings or hold them<br>by phone\"",
          "United States, Colorado Governor issues an Executive Order<br>\"temporarily suspends statute concerning bans on open burning to give<br>boards of county commissioners broader discretion and more flexibility<br>to implement restrictions on open burning that will decrease the risk<br>of fire and enable firefighters and other first responders to<br>participate in the COVID-19 response efforts throughout the State.\"<br>April 15",
          "United Sates, Colorado Governor closes bars and restaurants with the<br>exception of delivery and take away March 16<br><br>United Sates,<br>Colorado Governor closes bars and restaurants with the exception of<br>delivery and take away March 16",
          "Colorado, United Stares, Governor announced on March 16 that it will<br>\"closes bars, restaurants, theaters and gyms in fight against<br>coronavirus\" starting March 17, effective for 30<br>days.<br><br>Colorado, United Stares, Governor announced on March 16<br>that it will \"closes bars, restaurants, theaters and gyms in fight<br>against coronavirus\" starting March 17, effective for 30<br>days.<br><br>Colorado, United Stares, Governor announced on March 16<br>that it will \"closes bars, restaurants, theaters and gyms in fight<br>against coronavirus\" starting March 17, effective for 30<br>days.<br><br>Colorado, United Stares, Governor announced on March 16<br>that it will \"closes bars, restaurants, theaters and gyms in fight<br>against coronavirus\" starting March 17, effective for 30<br>days.<br><br>United States, Colorado Governor announced on March 16<br>that \"all DMV and Department of Revenue offices will be closed until<br>April 18\" effective March 17.",
          "United States, Colorado, Denver preparing to use Colorado Convention<br>Center as a hospital beginning April 18.",
          "United States, Colorado Governor announced on March 18 that the state<br>Department of Public Health and Environment  has issued a public<br>health order that goes into effect March 19 to \"limit all mass<br>gatherings to no more than 10 people for the next 30 days unless<br>otherwise extended\"",
          "The governor directed all P-12 schools to suspend normal in-person<br>instruction from March 23, 2020 until the end of the scheduled<br>2019-2020 regular school year (May 29th). This Executive Order applies<br>to all students and employees of P-12 schools in the State of<br>Colorado, with the exception of those emergency or other critical<br>personnel designated as essential, or whose presence is otherwise<br>deemed necessary, by the appropriate school official.<br><br>The<br>governor directed all P-12 schools to suspend normal in-person<br>instruction from March 23, 2020 until the end of the scheduled<br>2019-2020 regular school year (May 29th). This Executive Order applies<br>to all students and employees of P-12 schools in the State of<br>Colorado, with the exception of those emergency or other critical<br>personnel designated as essential, or whose presence is otherwise<br>deemed necessary, by the appropriate school official.<br><br>The<br>governor directed all P-12 schools to suspend normal in-person<br>instruction from March 23, 2020 until the end of the scheduled<br>2019-2020 regular school year (May 29th). This Executive Order applies<br>to all students and employees of P-12 schools in the State of<br>Colorado, with the exception of those emergency or other critical<br>personnel designated as essential, or whose presence is otherwise<br>deemed necessary, by the appropriate school official.<br><br>The<br>governor directed all P-12 schools to suspend normal in-person<br>instruction from March 23, 2020 until the end of the scheduled<br>2019-2020 regular school year (May 29th). This Executive Order applies<br>to all students and employees of P-12 schools in the State of<br>Colorado, with the exception of those emergency or other critical<br>personnel designated as essential, or whose presence is otherwise<br>deemed necessary, by the appropriate school official.",
          "United States, Colorado Governor suspends all nonessential surgeries<br>and medical procedures in order to free up equipment from March 23 to<br>April 14<br><br>United States, Colorado Governor suspends all<br>nonessential surgeries and medical procedures in order to free up<br>equipment from March 23 to April 14. Extended until April 26.",
          "United States, Colorado Governor Jared Polis ordered \"non-essential<br>businesses to reduce the number of people physically present in the<br>workplace by 50 percent, and more if possible\" March 22<br><br>United<br>States, Colorado Governor Jared Polis ordered \"non-essential<br>businesses to reduce the number of people physically present in the<br>workplace by 50 percent, and more if possible\" March 22<br><br>United<br>States, Colorado Governor issued a statewide \"stay at home\" order,<br>requiring residents to avoid unnecessary travel or mingling with<br>others outside their households. Beginning March 26 until April<br>11.<br><br>United States, Colorado Governor issued a statewide \"stay<br>at home\" order, requiring residents to avoid unnecessary travel or<br>mingling with others outside their households. Beginning March 26<br>until April 26.<br><br>United States, Colorado \"liquor stores and<br>recreational marijuana shops deemed non-essential businesses\" and<br>forced to close March 23",
          "United States, Colorado governor signs executive order D 2020 015 that<br>authorises \"certain state agencies to issue “emergency rules”<br>extending the expiration dates of licenses and other documents because<br>of coronaviurs. It aims to “limit in-person renewals and enable state<br>agencies to better respond to COVID-19,”\"",
          "United States, Colorado Governor \"ordering the temporary suspension of<br>certain statutes preventing county clerk and recorder offices from<br>issuing marriage licenses when county clerk and recorder offices are<br>closed to the public due to COVID-19. Extended until April 30. This<br>extension will enable Coloradans to obtain marriage licenses while<br>observing social distancing guidelines and minimizing the risk of<br>spreading COVID-19.\"",
          "United States, Colorado Governor signs executive order to suspend the<br>personal appearance requirement before notarial officers to perform<br>notarizations for 30 days.<br><br>Wheat Ridge, CO: The first mask<br>mandate in the metro area went into effect April 27, with anyone<br>entering a grocery store or other retail businesses in Wheat Ridge<br>required to wear a non-medical face covering under an order from City<br>Manager Patrick Goff. People who fail to comply can be charged with a<br>misdemeanor, city officials said.The order runs through May<br>30<br><br>As of April 27,2020 in Aspen, CO: The Aspen City Council on<br>April 27 adopted a public health order requiring masks or other cloth,<br>non-medical face coverings be worn by anyone older than 2 inside all<br>businesses and in any outdoor spaces where 6-foot social distancing<br>isn’t possible.",
          "United States, Colorado Department of Transportation suspended its<br>Bustang and Outrider bus service for all routes throughout the state<br>until at least April 11"
         ],
         "type": "scatter",
         "x": [
          "01",
          "03",
          "06",
          "08",
          "11",
          "14",
          "15",
          "16",
          "17",
          "18",
          "19",
          "22",
          "23",
          "24",
          "25",
          "26",
          "27",
          "28"
         ],
         "y": [
          -0.13,
          -0.13,
          -0.13,
          -0.13,
          -0.13,
          -0.13,
          -0.13,
          -0.13,
          -0.13,
          -0.13,
          -0.13,
          -0.13,
          -0.13,
          -0.13,
          -0.13,
          -0.13,
          -0.13,
          -0.13
         ]
        }
       ],
       "layout": {
        "height": 550,
        "margin": {
         "b": 100,
         "l": 50,
         "pad": 4,
         "r": 50,
         "t": 200
        },
        "shapes": [
         {
          "line": {
           "color": "red",
           "width": 1
          },
          "type": "line",
          "x0": 1,
          "x1": 1,
          "xref": "x",
          "y0": 0,
          "y1": 1,
          "yref": "y domain"
         },
         {
          "line": {
           "color": "red",
           "width": 1
          },
          "type": "line",
          "x0": 3,
          "x1": 3,
          "xref": "x",
          "y0": 0,
          "y1": 1,
          "yref": "y domain"
         },
         {
          "line": {
           "color": "red",
           "width": 1
          },
          "type": "line",
          "x0": 6,
          "x1": 6,
          "xref": "x",
          "y0": 0,
          "y1": 1,
          "yref": "y domain"
         },
         {
          "line": {
           "color": "red",
           "width": 1
          },
          "type": "line",
          "x0": 8,
          "x1": 8,
          "xref": "x",
          "y0": 0,
          "y1": 1,
          "yref": "y domain"
         },
         {
          "line": {
           "color": "red",
           "width": 1
          },
          "type": "line",
          "x0": 11,
          "x1": 11,
          "xref": "x",
          "y0": 0,
          "y1": 1,
          "yref": "y domain"
         },
         {
          "line": {
           "color": "red",
           "width": 1
          },
          "type": "line",
          "x0": 14,
          "x1": 14,
          "xref": "x",
          "y0": 0,
          "y1": 1,
          "yref": "y domain"
         },
         {
          "line": {
           "color": "red",
           "width": 1
          },
          "type": "line",
          "x0": 15,
          "x1": 15,
          "xref": "x",
          "y0": 0,
          "y1": 1,
          "yref": "y domain"
         },
         {
          "line": {
           "color": "red",
           "width": 1
          },
          "type": "line",
          "x0": 16,
          "x1": 16,
          "xref": "x",
          "y0": 0,
          "y1": 1,
          "yref": "y domain"
         },
         {
          "line": {
           "color": "red",
           "width": 1
          },
          "type": "line",
          "x0": 17,
          "x1": 17,
          "xref": "x",
          "y0": 0,
          "y1": 1,
          "yref": "y domain"
         },
         {
          "line": {
           "color": "red",
           "width": 1
          },
          "type": "line",
          "x0": 18,
          "x1": 18,
          "xref": "x",
          "y0": 0,
          "y1": 1,
          "yref": "y domain"
         },
         {
          "line": {
           "color": "red",
           "width": 1
          },
          "type": "line",
          "x0": 19,
          "x1": 19,
          "xref": "x",
          "y0": 0,
          "y1": 1,
          "yref": "y domain"
         },
         {
          "line": {
           "color": "red",
           "width": 1
          },
          "type": "line",
          "x0": 22,
          "x1": 22,
          "xref": "x",
          "y0": 0,
          "y1": 1,
          "yref": "y domain"
         },
         {
          "line": {
           "color": "red",
           "width": 1
          },
          "type": "line",
          "x0": 23,
          "x1": 23,
          "xref": "x",
          "y0": 0,
          "y1": 1,
          "yref": "y domain"
         },
         {
          "line": {
           "color": "red",
           "width": 1
          },
          "type": "line",
          "x0": 24,
          "x1": 24,
          "xref": "x",
          "y0": 0,
          "y1": 1,
          "yref": "y domain"
         },
         {
          "line": {
           "color": "red",
           "width": 1
          },
          "type": "line",
          "x0": 25,
          "x1": 25,
          "xref": "x",
          "y0": 0,
          "y1": 1,
          "yref": "y domain"
         },
         {
          "line": {
           "color": "red",
           "width": 1
          },
          "type": "line",
          "x0": 26,
          "x1": 26,
          "xref": "x",
          "y0": 0,
          "y1": 1,
          "yref": "y domain"
         },
         {
          "line": {
           "color": "red",
           "width": 1
          },
          "type": "line",
          "x0": 27,
          "x1": 27,
          "xref": "x",
          "y0": 0,
          "y1": 1,
          "yref": "y domain"
         },
         {
          "line": {
           "color": "red",
           "width": 1
          },
          "type": "line",
          "x0": 28,
          "x1": 28,
          "xref": "x",
          "y0": 0,
          "y1": 1,
          "yref": "y domain"
         }
        ],
        "template": {
         "data": {
          "bar": [
           {
            "error_x": {
             "color": "#2a3f5f"
            },
            "error_y": {
             "color": "#2a3f5f"
            },
            "marker": {
             "line": {
              "color": "#E5ECF6",
              "width": 0.5
             }
            },
            "type": "bar"
           }
          ],
          "barpolar": [
           {
            "marker": {
             "line": {
              "color": "#E5ECF6",
              "width": 0.5
             }
            },
            "type": "barpolar"
           }
          ],
          "carpet": [
           {
            "aaxis": {
             "endlinecolor": "#2a3f5f",
             "gridcolor": "white",
             "linecolor": "white",
             "minorgridcolor": "white",
             "startlinecolor": "#2a3f5f"
            },
            "baxis": {
             "endlinecolor": "#2a3f5f",
             "gridcolor": "white",
             "linecolor": "white",
             "minorgridcolor": "white",
             "startlinecolor": "#2a3f5f"
            },
            "type": "carpet"
           }
          ],
          "choropleth": [
           {
            "colorbar": {
             "outlinewidth": 0,
             "ticks": ""
            },
            "type": "choropleth"
           }
          ],
          "contour": [
           {
            "colorbar": {
             "outlinewidth": 0,
             "ticks": ""
            },
            "colorscale": [
             [
              0,
              "#0d0887"
             ],
             [
              0.1111111111111111,
              "#46039f"
             ],
             [
              0.2222222222222222,
              "#7201a8"
             ],
             [
              0.3333333333333333,
              "#9c179e"
             ],
             [
              0.4444444444444444,
              "#bd3786"
             ],
             [
              0.5555555555555556,
              "#d8576b"
             ],
             [
              0.6666666666666666,
              "#ed7953"
             ],
             [
              0.7777777777777778,
              "#fb9f3a"
             ],
             [
              0.8888888888888888,
              "#fdca26"
             ],
             [
              1,
              "#f0f921"
             ]
            ],
            "type": "contour"
           }
          ],
          "contourcarpet": [
           {
            "colorbar": {
             "outlinewidth": 0,
             "ticks": ""
            },
            "type": "contourcarpet"
           }
          ],
          "heatmap": [
           {
            "colorbar": {
             "outlinewidth": 0,
             "ticks": ""
            },
            "colorscale": [
             [
              0,
              "#0d0887"
             ],
             [
              0.1111111111111111,
              "#46039f"
             ],
             [
              0.2222222222222222,
              "#7201a8"
             ],
             [
              0.3333333333333333,
              "#9c179e"
             ],
             [
              0.4444444444444444,
              "#bd3786"
             ],
             [
              0.5555555555555556,
              "#d8576b"
             ],
             [
              0.6666666666666666,
              "#ed7953"
             ],
             [
              0.7777777777777778,
              "#fb9f3a"
             ],
             [
              0.8888888888888888,
              "#fdca26"
             ],
             [
              1,
              "#f0f921"
             ]
            ],
            "type": "heatmap"
           }
          ],
          "heatmapgl": [
           {
            "colorbar": {
             "outlinewidth": 0,
             "ticks": ""
            },
            "colorscale": [
             [
              0,
              "#0d0887"
             ],
             [
              0.1111111111111111,
              "#46039f"
             ],
             [
              0.2222222222222222,
              "#7201a8"
             ],
             [
              0.3333333333333333,
              "#9c179e"
             ],
             [
              0.4444444444444444,
              "#bd3786"
             ],
             [
              0.5555555555555556,
              "#d8576b"
             ],
             [
              0.6666666666666666,
              "#ed7953"
             ],
             [
              0.7777777777777778,
              "#fb9f3a"
             ],
             [
              0.8888888888888888,
              "#fdca26"
             ],
             [
              1,
              "#f0f921"
             ]
            ],
            "type": "heatmapgl"
           }
          ],
          "histogram": [
           {
            "marker": {
             "colorbar": {
              "outlinewidth": 0,
              "ticks": ""
             }
            },
            "type": "histogram"
           }
          ],
          "histogram2d": [
           {
            "colorbar": {
             "outlinewidth": 0,
             "ticks": ""
            },
            "colorscale": [
             [
              0,
              "#0d0887"
             ],
             [
              0.1111111111111111,
              "#46039f"
             ],
             [
              0.2222222222222222,
              "#7201a8"
             ],
             [
              0.3333333333333333,
              "#9c179e"
             ],
             [
              0.4444444444444444,
              "#bd3786"
             ],
             [
              0.5555555555555556,
              "#d8576b"
             ],
             [
              0.6666666666666666,
              "#ed7953"
             ],
             [
              0.7777777777777778,
              "#fb9f3a"
             ],
             [
              0.8888888888888888,
              "#fdca26"
             ],
             [
              1,
              "#f0f921"
             ]
            ],
            "type": "histogram2d"
           }
          ],
          "histogram2dcontour": [
           {
            "colorbar": {
             "outlinewidth": 0,
             "ticks": ""
            },
            "colorscale": [
             [
              0,
              "#0d0887"
             ],
             [
              0.1111111111111111,
              "#46039f"
             ],
             [
              0.2222222222222222,
              "#7201a8"
             ],
             [
              0.3333333333333333,
              "#9c179e"
             ],
             [
              0.4444444444444444,
              "#bd3786"
             ],
             [
              0.5555555555555556,
              "#d8576b"
             ],
             [
              0.6666666666666666,
              "#ed7953"
             ],
             [
              0.7777777777777778,
              "#fb9f3a"
             ],
             [
              0.8888888888888888,
              "#fdca26"
             ],
             [
              1,
              "#f0f921"
             ]
            ],
            "type": "histogram2dcontour"
           }
          ],
          "mesh3d": [
           {
            "colorbar": {
             "outlinewidth": 0,
             "ticks": ""
            },
            "type": "mesh3d"
           }
          ],
          "parcoords": [
           {
            "line": {
             "colorbar": {
              "outlinewidth": 0,
              "ticks": ""
             }
            },
            "type": "parcoords"
           }
          ],
          "pie": [
           {
            "automargin": true,
            "type": "pie"
           }
          ],
          "scatter": [
           {
            "marker": {
             "colorbar": {
              "outlinewidth": 0,
              "ticks": ""
             }
            },
            "type": "scatter"
           }
          ],
          "scatter3d": [
           {
            "line": {
             "colorbar": {
              "outlinewidth": 0,
              "ticks": ""
             }
            },
            "marker": {
             "colorbar": {
              "outlinewidth": 0,
              "ticks": ""
             }
            },
            "type": "scatter3d"
           }
          ],
          "scattercarpet": [
           {
            "marker": {
             "colorbar": {
              "outlinewidth": 0,
              "ticks": ""
             }
            },
            "type": "scattercarpet"
           }
          ],
          "scattergeo": [
           {
            "marker": {
             "colorbar": {
              "outlinewidth": 0,
              "ticks": ""
             }
            },
            "type": "scattergeo"
           }
          ],
          "scattergl": [
           {
            "marker": {
             "colorbar": {
              "outlinewidth": 0,
              "ticks": ""
             }
            },
            "type": "scattergl"
           }
          ],
          "scattermapbox": [
           {
            "marker": {
             "colorbar": {
              "outlinewidth": 0,
              "ticks": ""
             }
            },
            "type": "scattermapbox"
           }
          ],
          "scatterpolar": [
           {
            "marker": {
             "colorbar": {
              "outlinewidth": 0,
              "ticks": ""
             }
            },
            "type": "scatterpolar"
           }
          ],
          "scatterpolargl": [
           {
            "marker": {
             "colorbar": {
              "outlinewidth": 0,
              "ticks": ""
             }
            },
            "type": "scatterpolargl"
           }
          ],
          "scatterternary": [
           {
            "marker": {
             "colorbar": {
              "outlinewidth": 0,
              "ticks": ""
             }
            },
            "type": "scatterternary"
           }
          ],
          "surface": [
           {
            "colorbar": {
             "outlinewidth": 0,
             "ticks": ""
            },
            "colorscale": [
             [
              0,
              "#0d0887"
             ],
             [
              0.1111111111111111,
              "#46039f"
             ],
             [
              0.2222222222222222,
              "#7201a8"
             ],
             [
              0.3333333333333333,
              "#9c179e"
             ],
             [
              0.4444444444444444,
              "#bd3786"
             ],
             [
              0.5555555555555556,
              "#d8576b"
             ],
             [
              0.6666666666666666,
              "#ed7953"
             ],
             [
              0.7777777777777778,
              "#fb9f3a"
             ],
             [
              0.8888888888888888,
              "#fdca26"
             ],
             [
              1,
              "#f0f921"
             ]
            ],
            "type": "surface"
           }
          ],
          "table": [
           {
            "cells": {
             "fill": {
              "color": "#EBF0F8"
             },
             "line": {
              "color": "white"
             }
            },
            "header": {
             "fill": {
              "color": "#C8D4E3"
             },
             "line": {
              "color": "white"
             }
            },
            "type": "table"
           }
          ]
         },
         "layout": {
          "annotationdefaults": {
           "arrowcolor": "#2a3f5f",
           "arrowhead": 0,
           "arrowwidth": 1
          },
          "autotypenumbers": "strict",
          "coloraxis": {
           "colorbar": {
            "outlinewidth": 0,
            "ticks": ""
           }
          },
          "colorscale": {
           "diverging": [
            [
             0,
             "#8e0152"
            ],
            [
             0.1,
             "#c51b7d"
            ],
            [
             0.2,
             "#de77ae"
            ],
            [
             0.3,
             "#f1b6da"
            ],
            [
             0.4,
             "#fde0ef"
            ],
            [
             0.5,
             "#f7f7f7"
            ],
            [
             0.6,
             "#e6f5d0"
            ],
            [
             0.7,
             "#b8e186"
            ],
            [
             0.8,
             "#7fbc41"
            ],
            [
             0.9,
             "#4d9221"
            ],
            [
             1,
             "#276419"
            ]
           ],
           "sequential": [
            [
             0,
             "#0d0887"
            ],
            [
             0.1111111111111111,
             "#46039f"
            ],
            [
             0.2222222222222222,
             "#7201a8"
            ],
            [
             0.3333333333333333,
             "#9c179e"
            ],
            [
             0.4444444444444444,
             "#bd3786"
            ],
            [
             0.5555555555555556,
             "#d8576b"
            ],
            [
             0.6666666666666666,
             "#ed7953"
            ],
            [
             0.7777777777777778,
             "#fb9f3a"
            ],
            [
             0.8888888888888888,
             "#fdca26"
            ],
            [
             1,
             "#f0f921"
            ]
           ],
           "sequentialminus": [
            [
             0,
             "#0d0887"
            ],
            [
             0.1111111111111111,
             "#46039f"
            ],
            [
             0.2222222222222222,
             "#7201a8"
            ],
            [
             0.3333333333333333,
             "#9c179e"
            ],
            [
             0.4444444444444444,
             "#bd3786"
            ],
            [
             0.5555555555555556,
             "#d8576b"
            ],
            [
             0.6666666666666666,
             "#ed7953"
            ],
            [
             0.7777777777777778,
             "#fb9f3a"
            ],
            [
             0.8888888888888888,
             "#fdca26"
            ],
            [
             1,
             "#f0f921"
            ]
           ]
          },
          "colorway": [
           "#636efa",
           "#EF553B",
           "#00cc96",
           "#ab63fa",
           "#FFA15A",
           "#19d3f3",
           "#FF6692",
           "#B6E880",
           "#FF97FF",
           "#FECB52"
          ],
          "font": {
           "color": "#2a3f5f"
          },
          "geo": {
           "bgcolor": "white",
           "lakecolor": "white",
           "landcolor": "#E5ECF6",
           "showlakes": true,
           "showland": true,
           "subunitcolor": "white"
          },
          "hoverlabel": {
           "align": "left"
          },
          "hovermode": "closest",
          "mapbox": {
           "style": "light"
          },
          "paper_bgcolor": "white",
          "plot_bgcolor": "#E5ECF6",
          "polar": {
           "angularaxis": {
            "gridcolor": "white",
            "linecolor": "white",
            "ticks": ""
           },
           "bgcolor": "#E5ECF6",
           "radialaxis": {
            "gridcolor": "white",
            "linecolor": "white",
            "ticks": ""
           }
          },
          "scene": {
           "xaxis": {
            "backgroundcolor": "#E5ECF6",
            "gridcolor": "white",
            "gridwidth": 2,
            "linecolor": "white",
            "showbackground": true,
            "ticks": "",
            "zerolinecolor": "white"
           },
           "yaxis": {
            "backgroundcolor": "#E5ECF6",
            "gridcolor": "white",
            "gridwidth": 2,
            "linecolor": "white",
            "showbackground": true,
            "ticks": "",
            "zerolinecolor": "white"
           },
           "zaxis": {
            "backgroundcolor": "#E5ECF6",
            "gridcolor": "white",
            "gridwidth": 2,
            "linecolor": "white",
            "showbackground": true,
            "ticks": "",
            "zerolinecolor": "white"
           }
          },
          "shapedefaults": {
           "line": {
            "color": "#2a3f5f"
           }
          },
          "ternary": {
           "aaxis": {
            "gridcolor": "white",
            "linecolor": "white",
            "ticks": ""
           },
           "baxis": {
            "gridcolor": "white",
            "linecolor": "white",
            "ticks": ""
           },
           "bgcolor": "#E5ECF6",
           "caxis": {
            "gridcolor": "white",
            "linecolor": "white",
            "ticks": ""
           }
          },
          "title": {
           "x": 0.05
          },
          "xaxis": {
           "automargin": true,
           "gridcolor": "white",
           "linecolor": "white",
           "ticks": "",
           "title": {
            "standoff": 15
           },
           "zerolinecolor": "white",
           "zerolinewidth": 2
          },
          "yaxis": {
           "automargin": true,
           "gridcolor": "white",
           "linecolor": "white",
           "ticks": "",
           "title": {
            "standoff": 15
           },
           "zerolinecolor": "white",
           "zerolinewidth": 2
          }
         }
        },
        "title": {
         "text": "Colorado State Regulations and COVID Twitter Sentiment, April 2020"
        },
        "width": 900,
        "xaxis": {
         "title": {
          "text": "Date in April 2020"
         }
        },
        "yaxis": {
         "title": {
          "text": "Average Twitter Sentiment in Colorado"
         }
        }
       }
      }
     },
     "metadata": {}
    }
   ],
   "source": [
    "fig = go.Figure(data=go.Scatter(x=colorado_sentiment['date'], y=colorado_sentiment['sentiment'], name='Average Twitter Sentiment'))\n",
    "\n",
    "#https://plotly.com/python/horizontal-vertical-shapes/\n",
    "#https://plotly.com/python/hover-text-and-formatting/#customizing-hover-text-with-plotly-express\n",
    "\n",
    "#add a dummy variable to plot events\n",
    "fig.add_trace(go.Scatter(x=colorado_regulations['short_start_date'], y=[-0.13]*len(colorado_regulations), mode='markers', hoverinfo = 'text', hovertemplate ='<b>Regulation(s), %{x}/04/2020</b>:<br>'+'%{text}'+'<extra></extra>', text = colorado_regulations['description'], name='Regulation (hover on dot)'))\n",
    "\n",
    "for date in start_dates:\n",
    "    date = int(date)\n",
    "    fig.add_vline(x=date, line_width=1, line_color=\"red\")\n",
    "\n",
    "fig.update_layout(\n",
    "    title=\"Colorado State Regulations and COVID Twitter Sentiment, April 2020\",\n",
    "    xaxis_title=\"Date in April 2020\",\n",
    "    yaxis_title=\"Average Twitter Sentiment in Colorado\",\n",
    "    width=900,\n",
    "    height=550,\n",
    "    margin=dict(\n",
    "        l=50,\n",
    "        r=50,\n",
    "        b=100,\n",
    "        t=200,\n",
    "        pad=4\n",
    "    )\n",
    "    )\n",
    "fig.show()\n"
   ]
  },
  {
   "cell_type": "code",
   "execution_count": 45,
   "metadata": {},
   "outputs": [],
   "source": [
    "#save html\n",
    "fig.write_html(\"./colorado_regulations_sentiment.html\")"
   ]
  },
  {
   "source": [
    "_________________________________________________________________________________________________________________"
   ],
   "cell_type": "markdown",
   "metadata": {}
  },
  {
   "source": [
    "## Calculating correlation\n",
    "* we use a point biserial correlation since we have a continuous variable (sentiment), and a binary/dichotomous variable (regulation started or not)"
   ],
   "cell_type": "markdown",
   "metadata": {}
  },
  {
   "cell_type": "code",
   "execution_count": 39,
   "metadata": {},
   "outputs": [],
   "source": [
    "#import library\n",
    "from scipy import stats"
   ]
  },
  {
   "cell_type": "code",
   "execution_count": 40,
   "metadata": {},
   "outputs": [
    {
     "output_type": "execute_result",
     "data": {
      "text/plain": [
       "[1, 3, 6, 8, 11, 14, 15, 16, 17, 18, 19, 22, 23, 24, 25, 26, 27, 28]"
      ]
     },
     "metadata": {},
     "execution_count": 40
    }
   ],
   "source": [
    "int_start_dates = [int(i) for i in start_dates]\n",
    "int_start_dates"
   ]
  },
  {
   "cell_type": "code",
   "execution_count": 41,
   "metadata": {},
   "outputs": [
    {
     "output_type": "execute_result",
     "data": {
      "text/plain": [
       "[1,\n",
       " 0,\n",
       " 1,\n",
       " 0,\n",
       " 0,\n",
       " 1,\n",
       " 0,\n",
       " 1,\n",
       " 0,\n",
       " 0,\n",
       " 1,\n",
       " 0,\n",
       " 0,\n",
       " 1,\n",
       " 1,\n",
       " 1,\n",
       " 1,\n",
       " 1,\n",
       " 1,\n",
       " 0,\n",
       " 0,\n",
       " 1,\n",
       " 1,\n",
       " 1,\n",
       " 1,\n",
       " 1,\n",
       " 1,\n",
       " 1,\n",
       " 0,\n",
       " 0]"
      ]
     },
     "metadata": {},
     "execution_count": 41
    }
   ],
   "source": [
    "#creating a list of the days in april and whether there was a regulation (1) or not (0)\n",
    "\n",
    "regulation_days = []\n",
    "\n",
    "for day in range(1,31):\n",
    "    if day in int_start_dates:\n",
    "        regulation_days.append(1)\n",
    "    else:\n",
    "        regulation_days.append(0)\n",
    "\n",
    "regulation_days\n",
    "        "
   ]
  },
  {
   "cell_type": "code",
   "execution_count": 42,
   "metadata": {},
   "outputs": [
    {
     "output_type": "execute_result",
     "data": {
      "text/plain": [
       "      sentiment  date\n",
       "5     -0.161361     1\n",
       "55    -0.170690     2\n",
       "105   -0.143904     3\n",
       "155   -0.165422     4\n",
       "205   -0.179158     5\n",
       "255   -0.167495     6\n",
       "305   -0.168767     7\n",
       "355   -0.147473     8\n",
       "405   -0.153403     9\n",
       "455   -0.154827    10\n",
       "505   -0.133197    11\n",
       "555   -0.162167    12\n",
       "605   -0.150739    13\n",
       "655   -0.168768    14\n",
       "705   -0.162699    15\n",
       "755   -0.150824    16\n",
       "805   -0.162125    17\n",
       "855   -0.158694    18\n",
       "905   -0.167259    19\n",
       "955   -0.201887    20\n",
       "1005  -0.178012    21\n",
       "1055  -0.167141    22\n",
       "1105  -0.201887    23\n",
       "1155  -0.149260    24\n",
       "1205  -0.182625    25\n",
       "1255  -0.187910    26\n",
       "1305  -0.144256    27\n",
       "1355  -0.188052    28\n",
       "1405  -0.179157    29\n",
       "1455  -0.174213    30"
      ],
      "text/html": "<div>\n<style scoped>\n    .dataframe tbody tr th:only-of-type {\n        vertical-align: middle;\n    }\n\n    .dataframe tbody tr th {\n        vertical-align: top;\n    }\n\n    .dataframe thead th {\n        text-align: right;\n    }\n</style>\n<table border=\"1\" class=\"dataframe\">\n  <thead>\n    <tr style=\"text-align: right;\">\n      <th></th>\n      <th>sentiment</th>\n      <th>date</th>\n    </tr>\n  </thead>\n  <tbody>\n    <tr>\n      <td>5</td>\n      <td>-0.161361</td>\n      <td>1</td>\n    </tr>\n    <tr>\n      <td>55</td>\n      <td>-0.170690</td>\n      <td>2</td>\n    </tr>\n    <tr>\n      <td>105</td>\n      <td>-0.143904</td>\n      <td>3</td>\n    </tr>\n    <tr>\n      <td>155</td>\n      <td>-0.165422</td>\n      <td>4</td>\n    </tr>\n    <tr>\n      <td>205</td>\n      <td>-0.179158</td>\n      <td>5</td>\n    </tr>\n    <tr>\n      <td>255</td>\n      <td>-0.167495</td>\n      <td>6</td>\n    </tr>\n    <tr>\n      <td>305</td>\n      <td>-0.168767</td>\n      <td>7</td>\n    </tr>\n    <tr>\n      <td>355</td>\n      <td>-0.147473</td>\n      <td>8</td>\n    </tr>\n    <tr>\n      <td>405</td>\n      <td>-0.153403</td>\n      <td>9</td>\n    </tr>\n    <tr>\n      <td>455</td>\n      <td>-0.154827</td>\n      <td>10</td>\n    </tr>\n    <tr>\n      <td>505</td>\n      <td>-0.133197</td>\n      <td>11</td>\n    </tr>\n    <tr>\n      <td>555</td>\n      <td>-0.162167</td>\n      <td>12</td>\n    </tr>\n    <tr>\n      <td>605</td>\n      <td>-0.150739</td>\n      <td>13</td>\n    </tr>\n    <tr>\n      <td>655</td>\n      <td>-0.168768</td>\n      <td>14</td>\n    </tr>\n    <tr>\n      <td>705</td>\n      <td>-0.162699</td>\n      <td>15</td>\n    </tr>\n    <tr>\n      <td>755</td>\n      <td>-0.150824</td>\n      <td>16</td>\n    </tr>\n    <tr>\n      <td>805</td>\n      <td>-0.162125</td>\n      <td>17</td>\n    </tr>\n    <tr>\n      <td>855</td>\n      <td>-0.158694</td>\n      <td>18</td>\n    </tr>\n    <tr>\n      <td>905</td>\n      <td>-0.167259</td>\n      <td>19</td>\n    </tr>\n    <tr>\n      <td>955</td>\n      <td>-0.201887</td>\n      <td>20</td>\n    </tr>\n    <tr>\n      <td>1005</td>\n      <td>-0.178012</td>\n      <td>21</td>\n    </tr>\n    <tr>\n      <td>1055</td>\n      <td>-0.167141</td>\n      <td>22</td>\n    </tr>\n    <tr>\n      <td>1105</td>\n      <td>-0.201887</td>\n      <td>23</td>\n    </tr>\n    <tr>\n      <td>1155</td>\n      <td>-0.149260</td>\n      <td>24</td>\n    </tr>\n    <tr>\n      <td>1205</td>\n      <td>-0.182625</td>\n      <td>25</td>\n    </tr>\n    <tr>\n      <td>1255</td>\n      <td>-0.187910</td>\n      <td>26</td>\n    </tr>\n    <tr>\n      <td>1305</td>\n      <td>-0.144256</td>\n      <td>27</td>\n    </tr>\n    <tr>\n      <td>1355</td>\n      <td>-0.188052</td>\n      <td>28</td>\n    </tr>\n    <tr>\n      <td>1405</td>\n      <td>-0.179157</td>\n      <td>29</td>\n    </tr>\n    <tr>\n      <td>1455</td>\n      <td>-0.174213</td>\n      <td>30</td>\n    </tr>\n  </tbody>\n</table>\n</div>"
     },
     "metadata": {},
     "execution_count": 42
    }
   ],
   "source": [
    "colorado_sentiment[['sentiment','date']]"
   ]
  },
  {
   "cell_type": "code",
   "execution_count": 43,
   "metadata": {},
   "outputs": [
    {
     "output_type": "stream",
     "name": "stdout",
     "text": [
      "Correlation coefficient: 0.18857866527658887, P-value: 0.3182841748632055\n"
     ]
    }
   ],
   "source": [
    "corr, p_val = stats.pointbiserialr(colorado_sentiment['sentiment'], regulation_days)\n",
    "print('Correlation coefficient: {}, P-value: {}'.format(corr, p_val))"
   ]
  },
  {
   "cell_type": "code",
   "execution_count": null,
   "metadata": {},
   "outputs": [],
   "source": []
  }
 ]
}